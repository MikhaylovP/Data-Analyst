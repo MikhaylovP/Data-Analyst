{
 "cells": [
  {
   "cell_type": "markdown",
   "metadata": {},
   "source": [
    "# Исследование объявлений о продаже квартир\n",
    "\n",
    "В вашем распоряжении данные сервиса Яндекc Недвижимость — архив объявлений о продаже квартир в Санкт-Петербурге и соседних населённых пунктах за несколько лет. Нужно научиться определять рыночную стоимость объектов недвижимости. Ваша задача — установить параметры. Это позволит построить автоматизированную систему: она отследит аномалии и мошенническую деятельность. \n",
    "\n",
    "По каждой квартире на продажу доступны два вида данных. Первые вписаны пользователем, вторые получены автоматически на основе картографических данных. Например, расстояние до центра, аэропорта, ближайшего парка и водоёма. "
   ]
  },
  {
   "cell_type": "markdown",
   "metadata": {},
   "source": [
    "## Изучение данных из файла"
   ]
  },
  {
   "cell_type": "code",
   "execution_count": 1,
   "metadata": {},
   "outputs": [],
   "source": [
    "# импорт библиотеки pandas\n",
    "import pandas as pd\n",
    "# импорт библиотеки matplotlib\n",
    "import matplotlib.pyplot as plt "
   ]
  },
  {
   "cell_type": "code",
   "execution_count": 2,
   "metadata": {},
   "outputs": [],
   "source": [
    "# чтение файла\n",
    "df = pd.read_csv('/datasets/real_estate_data.csv', sep='\\t')"
   ]
  },
  {
   "cell_type": "code",
   "execution_count": 3,
   "metadata": {},
   "outputs": [
    {
     "data": {
      "text/html": [
       "<div>\n",
       "<style scoped>\n",
       "    .dataframe tbody tr th:only-of-type {\n",
       "        vertical-align: middle;\n",
       "    }\n",
       "\n",
       "    .dataframe tbody tr th {\n",
       "        vertical-align: top;\n",
       "    }\n",
       "\n",
       "    .dataframe thead th {\n",
       "        text-align: right;\n",
       "    }\n",
       "</style>\n",
       "<table border=\"1\" class=\"dataframe\">\n",
       "  <thead>\n",
       "    <tr style=\"text-align: right;\">\n",
       "      <th></th>\n",
       "      <th>total_images</th>\n",
       "      <th>last_price</th>\n",
       "      <th>total_area</th>\n",
       "      <th>first_day_exposition</th>\n",
       "      <th>rooms</th>\n",
       "      <th>ceiling_height</th>\n",
       "      <th>floors_total</th>\n",
       "      <th>living_area</th>\n",
       "      <th>floor</th>\n",
       "      <th>is_apartment</th>\n",
       "      <th>...</th>\n",
       "      <th>kitchen_area</th>\n",
       "      <th>balcony</th>\n",
       "      <th>locality_name</th>\n",
       "      <th>airports_nearest</th>\n",
       "      <th>cityCenters_nearest</th>\n",
       "      <th>parks_around3000</th>\n",
       "      <th>parks_nearest</th>\n",
       "      <th>ponds_around3000</th>\n",
       "      <th>ponds_nearest</th>\n",
       "      <th>days_exposition</th>\n",
       "    </tr>\n",
       "  </thead>\n",
       "  <tbody>\n",
       "    <tr>\n",
       "      <th>0</th>\n",
       "      <td>20</td>\n",
       "      <td>13000000.0</td>\n",
       "      <td>108.00</td>\n",
       "      <td>2019-03-07T00:00:00</td>\n",
       "      <td>3</td>\n",
       "      <td>2.70</td>\n",
       "      <td>16.0</td>\n",
       "      <td>51.00</td>\n",
       "      <td>8</td>\n",
       "      <td>NaN</td>\n",
       "      <td>...</td>\n",
       "      <td>25.00</td>\n",
       "      <td>NaN</td>\n",
       "      <td>Санкт-Петербург</td>\n",
       "      <td>18863.0</td>\n",
       "      <td>16028.0</td>\n",
       "      <td>1.0</td>\n",
       "      <td>482.0</td>\n",
       "      <td>2.0</td>\n",
       "      <td>755.0</td>\n",
       "      <td>NaN</td>\n",
       "    </tr>\n",
       "    <tr>\n",
       "      <th>1</th>\n",
       "      <td>7</td>\n",
       "      <td>3350000.0</td>\n",
       "      <td>40.40</td>\n",
       "      <td>2018-12-04T00:00:00</td>\n",
       "      <td>1</td>\n",
       "      <td>NaN</td>\n",
       "      <td>11.0</td>\n",
       "      <td>18.60</td>\n",
       "      <td>1</td>\n",
       "      <td>NaN</td>\n",
       "      <td>...</td>\n",
       "      <td>11.00</td>\n",
       "      <td>2.0</td>\n",
       "      <td>посёлок Шушары</td>\n",
       "      <td>12817.0</td>\n",
       "      <td>18603.0</td>\n",
       "      <td>0.0</td>\n",
       "      <td>NaN</td>\n",
       "      <td>0.0</td>\n",
       "      <td>NaN</td>\n",
       "      <td>81.0</td>\n",
       "    </tr>\n",
       "    <tr>\n",
       "      <th>2</th>\n",
       "      <td>10</td>\n",
       "      <td>5196000.0</td>\n",
       "      <td>56.00</td>\n",
       "      <td>2015-08-20T00:00:00</td>\n",
       "      <td>2</td>\n",
       "      <td>NaN</td>\n",
       "      <td>5.0</td>\n",
       "      <td>34.30</td>\n",
       "      <td>4</td>\n",
       "      <td>NaN</td>\n",
       "      <td>...</td>\n",
       "      <td>8.30</td>\n",
       "      <td>0.0</td>\n",
       "      <td>Санкт-Петербург</td>\n",
       "      <td>21741.0</td>\n",
       "      <td>13933.0</td>\n",
       "      <td>1.0</td>\n",
       "      <td>90.0</td>\n",
       "      <td>2.0</td>\n",
       "      <td>574.0</td>\n",
       "      <td>558.0</td>\n",
       "    </tr>\n",
       "    <tr>\n",
       "      <th>3</th>\n",
       "      <td>0</td>\n",
       "      <td>64900000.0</td>\n",
       "      <td>159.00</td>\n",
       "      <td>2015-07-24T00:00:00</td>\n",
       "      <td>3</td>\n",
       "      <td>NaN</td>\n",
       "      <td>14.0</td>\n",
       "      <td>NaN</td>\n",
       "      <td>9</td>\n",
       "      <td>NaN</td>\n",
       "      <td>...</td>\n",
       "      <td>NaN</td>\n",
       "      <td>0.0</td>\n",
       "      <td>Санкт-Петербург</td>\n",
       "      <td>28098.0</td>\n",
       "      <td>6800.0</td>\n",
       "      <td>2.0</td>\n",
       "      <td>84.0</td>\n",
       "      <td>3.0</td>\n",
       "      <td>234.0</td>\n",
       "      <td>424.0</td>\n",
       "    </tr>\n",
       "    <tr>\n",
       "      <th>4</th>\n",
       "      <td>2</td>\n",
       "      <td>10000000.0</td>\n",
       "      <td>100.00</td>\n",
       "      <td>2018-06-19T00:00:00</td>\n",
       "      <td>2</td>\n",
       "      <td>3.03</td>\n",
       "      <td>14.0</td>\n",
       "      <td>32.00</td>\n",
       "      <td>13</td>\n",
       "      <td>NaN</td>\n",
       "      <td>...</td>\n",
       "      <td>41.00</td>\n",
       "      <td>NaN</td>\n",
       "      <td>Санкт-Петербург</td>\n",
       "      <td>31856.0</td>\n",
       "      <td>8098.0</td>\n",
       "      <td>2.0</td>\n",
       "      <td>112.0</td>\n",
       "      <td>1.0</td>\n",
       "      <td>48.0</td>\n",
       "      <td>121.0</td>\n",
       "    </tr>\n",
       "    <tr>\n",
       "      <th>5</th>\n",
       "      <td>10</td>\n",
       "      <td>2890000.0</td>\n",
       "      <td>30.40</td>\n",
       "      <td>2018-09-10T00:00:00</td>\n",
       "      <td>1</td>\n",
       "      <td>NaN</td>\n",
       "      <td>12.0</td>\n",
       "      <td>14.40</td>\n",
       "      <td>5</td>\n",
       "      <td>NaN</td>\n",
       "      <td>...</td>\n",
       "      <td>9.10</td>\n",
       "      <td>NaN</td>\n",
       "      <td>городской посёлок Янино-1</td>\n",
       "      <td>NaN</td>\n",
       "      <td>NaN</td>\n",
       "      <td>NaN</td>\n",
       "      <td>NaN</td>\n",
       "      <td>NaN</td>\n",
       "      <td>NaN</td>\n",
       "      <td>55.0</td>\n",
       "    </tr>\n",
       "    <tr>\n",
       "      <th>6</th>\n",
       "      <td>6</td>\n",
       "      <td>3700000.0</td>\n",
       "      <td>37.30</td>\n",
       "      <td>2017-11-02T00:00:00</td>\n",
       "      <td>1</td>\n",
       "      <td>NaN</td>\n",
       "      <td>26.0</td>\n",
       "      <td>10.60</td>\n",
       "      <td>6</td>\n",
       "      <td>NaN</td>\n",
       "      <td>...</td>\n",
       "      <td>14.40</td>\n",
       "      <td>1.0</td>\n",
       "      <td>посёлок Парголово</td>\n",
       "      <td>52996.0</td>\n",
       "      <td>19143.0</td>\n",
       "      <td>0.0</td>\n",
       "      <td>NaN</td>\n",
       "      <td>0.0</td>\n",
       "      <td>NaN</td>\n",
       "      <td>155.0</td>\n",
       "    </tr>\n",
       "    <tr>\n",
       "      <th>7</th>\n",
       "      <td>5</td>\n",
       "      <td>7915000.0</td>\n",
       "      <td>71.60</td>\n",
       "      <td>2019-04-18T00:00:00</td>\n",
       "      <td>2</td>\n",
       "      <td>NaN</td>\n",
       "      <td>24.0</td>\n",
       "      <td>NaN</td>\n",
       "      <td>22</td>\n",
       "      <td>NaN</td>\n",
       "      <td>...</td>\n",
       "      <td>18.90</td>\n",
       "      <td>2.0</td>\n",
       "      <td>Санкт-Петербург</td>\n",
       "      <td>23982.0</td>\n",
       "      <td>11634.0</td>\n",
       "      <td>0.0</td>\n",
       "      <td>NaN</td>\n",
       "      <td>0.0</td>\n",
       "      <td>NaN</td>\n",
       "      <td>NaN</td>\n",
       "    </tr>\n",
       "    <tr>\n",
       "      <th>8</th>\n",
       "      <td>20</td>\n",
       "      <td>2900000.0</td>\n",
       "      <td>33.16</td>\n",
       "      <td>2018-05-23T00:00:00</td>\n",
       "      <td>1</td>\n",
       "      <td>NaN</td>\n",
       "      <td>27.0</td>\n",
       "      <td>15.43</td>\n",
       "      <td>26</td>\n",
       "      <td>NaN</td>\n",
       "      <td>...</td>\n",
       "      <td>8.81</td>\n",
       "      <td>NaN</td>\n",
       "      <td>посёлок Мурино</td>\n",
       "      <td>NaN</td>\n",
       "      <td>NaN</td>\n",
       "      <td>NaN</td>\n",
       "      <td>NaN</td>\n",
       "      <td>NaN</td>\n",
       "      <td>NaN</td>\n",
       "      <td>189.0</td>\n",
       "    </tr>\n",
       "    <tr>\n",
       "      <th>9</th>\n",
       "      <td>18</td>\n",
       "      <td>5400000.0</td>\n",
       "      <td>61.00</td>\n",
       "      <td>2017-02-26T00:00:00</td>\n",
       "      <td>3</td>\n",
       "      <td>2.50</td>\n",
       "      <td>9.0</td>\n",
       "      <td>43.60</td>\n",
       "      <td>7</td>\n",
       "      <td>NaN</td>\n",
       "      <td>...</td>\n",
       "      <td>6.50</td>\n",
       "      <td>2.0</td>\n",
       "      <td>Санкт-Петербург</td>\n",
       "      <td>50898.0</td>\n",
       "      <td>15008.0</td>\n",
       "      <td>0.0</td>\n",
       "      <td>NaN</td>\n",
       "      <td>0.0</td>\n",
       "      <td>NaN</td>\n",
       "      <td>289.0</td>\n",
       "    </tr>\n",
       "  </tbody>\n",
       "</table>\n",
       "<p>10 rows × 22 columns</p>\n",
       "</div>"
      ],
      "text/plain": [
       "   total_images  last_price  total_area first_day_exposition  rooms  \\\n",
       "0            20  13000000.0      108.00  2019-03-07T00:00:00      3   \n",
       "1             7   3350000.0       40.40  2018-12-04T00:00:00      1   \n",
       "2            10   5196000.0       56.00  2015-08-20T00:00:00      2   \n",
       "3             0  64900000.0      159.00  2015-07-24T00:00:00      3   \n",
       "4             2  10000000.0      100.00  2018-06-19T00:00:00      2   \n",
       "5            10   2890000.0       30.40  2018-09-10T00:00:00      1   \n",
       "6             6   3700000.0       37.30  2017-11-02T00:00:00      1   \n",
       "7             5   7915000.0       71.60  2019-04-18T00:00:00      2   \n",
       "8            20   2900000.0       33.16  2018-05-23T00:00:00      1   \n",
       "9            18   5400000.0       61.00  2017-02-26T00:00:00      3   \n",
       "\n",
       "   ceiling_height  floors_total  living_area  floor is_apartment  ...  \\\n",
       "0            2.70          16.0        51.00      8          NaN  ...   \n",
       "1             NaN          11.0        18.60      1          NaN  ...   \n",
       "2             NaN           5.0        34.30      4          NaN  ...   \n",
       "3             NaN          14.0          NaN      9          NaN  ...   \n",
       "4            3.03          14.0        32.00     13          NaN  ...   \n",
       "5             NaN          12.0        14.40      5          NaN  ...   \n",
       "6             NaN          26.0        10.60      6          NaN  ...   \n",
       "7             NaN          24.0          NaN     22          NaN  ...   \n",
       "8             NaN          27.0        15.43     26          NaN  ...   \n",
       "9            2.50           9.0        43.60      7          NaN  ...   \n",
       "\n",
       "   kitchen_area  balcony              locality_name  airports_nearest  \\\n",
       "0         25.00      NaN            Санкт-Петербург           18863.0   \n",
       "1         11.00      2.0             посёлок Шушары           12817.0   \n",
       "2          8.30      0.0            Санкт-Петербург           21741.0   \n",
       "3           NaN      0.0            Санкт-Петербург           28098.0   \n",
       "4         41.00      NaN            Санкт-Петербург           31856.0   \n",
       "5          9.10      NaN  городской посёлок Янино-1               NaN   \n",
       "6         14.40      1.0          посёлок Парголово           52996.0   \n",
       "7         18.90      2.0            Санкт-Петербург           23982.0   \n",
       "8          8.81      NaN             посёлок Мурино               NaN   \n",
       "9          6.50      2.0            Санкт-Петербург           50898.0   \n",
       "\n",
       "  cityCenters_nearest  parks_around3000  parks_nearest  ponds_around3000  \\\n",
       "0             16028.0               1.0          482.0               2.0   \n",
       "1             18603.0               0.0            NaN               0.0   \n",
       "2             13933.0               1.0           90.0               2.0   \n",
       "3              6800.0               2.0           84.0               3.0   \n",
       "4              8098.0               2.0          112.0               1.0   \n",
       "5                 NaN               NaN            NaN               NaN   \n",
       "6             19143.0               0.0            NaN               0.0   \n",
       "7             11634.0               0.0            NaN               0.0   \n",
       "8                 NaN               NaN            NaN               NaN   \n",
       "9             15008.0               0.0            NaN               0.0   \n",
       "\n",
       "   ponds_nearest  days_exposition  \n",
       "0          755.0              NaN  \n",
       "1            NaN             81.0  \n",
       "2          574.0            558.0  \n",
       "3          234.0            424.0  \n",
       "4           48.0            121.0  \n",
       "5            NaN             55.0  \n",
       "6            NaN            155.0  \n",
       "7            NaN              NaN  \n",
       "8            NaN            189.0  \n",
       "9            NaN            289.0  \n",
       "\n",
       "[10 rows x 22 columns]"
      ]
     },
     "execution_count": 3,
     "metadata": {},
     "output_type": "execute_result"
    }
   ],
   "source": [
    " # посмотрим первые строки таблицы\n",
    "df.head(10)"
   ]
  },
  {
   "cell_type": "code",
   "execution_count": 4,
   "metadata": {},
   "outputs": [
    {
     "name": "stdout",
     "output_type": "stream",
     "text": [
      "<class 'pandas.core.frame.DataFrame'>\n",
      "RangeIndex: 23699 entries, 0 to 23698\n",
      "Data columns (total 22 columns):\n",
      " #   Column                Non-Null Count  Dtype  \n",
      "---  ------                --------------  -----  \n",
      " 0   total_images          23699 non-null  int64  \n",
      " 1   last_price            23699 non-null  float64\n",
      " 2   total_area            23699 non-null  float64\n",
      " 3   first_day_exposition  23699 non-null  object \n",
      " 4   rooms                 23699 non-null  int64  \n",
      " 5   ceiling_height        14504 non-null  float64\n",
      " 6   floors_total          23613 non-null  float64\n",
      " 7   living_area           21796 non-null  float64\n",
      " 8   floor                 23699 non-null  int64  \n",
      " 9   is_apartment          2775 non-null   object \n",
      " 10  studio                23699 non-null  bool   \n",
      " 11  open_plan             23699 non-null  bool   \n",
      " 12  kitchen_area          21421 non-null  float64\n",
      " 13  balcony               12180 non-null  float64\n",
      " 14  locality_name         23650 non-null  object \n",
      " 15  airports_nearest      18157 non-null  float64\n",
      " 16  cityCenters_nearest   18180 non-null  float64\n",
      " 17  parks_around3000      18181 non-null  float64\n",
      " 18  parks_nearest         8079 non-null   float64\n",
      " 19  ponds_around3000      18181 non-null  float64\n",
      " 20  ponds_nearest         9110 non-null   float64\n",
      " 21  days_exposition       20518 non-null  float64\n",
      "dtypes: bool(2), float64(14), int64(3), object(3)\n",
      "memory usage: 3.7+ MB\n"
     ]
    }
   ],
   "source": [
    "# посмотрим информацию о таблице\n",
    "df.info()"
   ]
  },
  {
   "cell_type": "code",
   "execution_count": 5,
   "metadata": {},
   "outputs": [
    {
     "data": {
      "text/html": [
       "<div>\n",
       "<style scoped>\n",
       "    .dataframe tbody tr th:only-of-type {\n",
       "        vertical-align: middle;\n",
       "    }\n",
       "\n",
       "    .dataframe tbody tr th {\n",
       "        vertical-align: top;\n",
       "    }\n",
       "\n",
       "    .dataframe thead th {\n",
       "        text-align: right;\n",
       "    }\n",
       "</style>\n",
       "<table border=\"1\" class=\"dataframe\">\n",
       "  <thead>\n",
       "    <tr style=\"text-align: right;\">\n",
       "      <th></th>\n",
       "      <th>total_images</th>\n",
       "      <th>last_price</th>\n",
       "      <th>total_area</th>\n",
       "      <th>rooms</th>\n",
       "      <th>ceiling_height</th>\n",
       "      <th>floors_total</th>\n",
       "      <th>living_area</th>\n",
       "      <th>floor</th>\n",
       "      <th>kitchen_area</th>\n",
       "      <th>balcony</th>\n",
       "      <th>airports_nearest</th>\n",
       "      <th>cityCenters_nearest</th>\n",
       "      <th>parks_around3000</th>\n",
       "      <th>parks_nearest</th>\n",
       "      <th>ponds_around3000</th>\n",
       "      <th>ponds_nearest</th>\n",
       "      <th>days_exposition</th>\n",
       "    </tr>\n",
       "  </thead>\n",
       "  <tbody>\n",
       "    <tr>\n",
       "      <th>count</th>\n",
       "      <td>23699.000000</td>\n",
       "      <td>2.369900e+04</td>\n",
       "      <td>23699.000000</td>\n",
       "      <td>23699.000000</td>\n",
       "      <td>14504.000000</td>\n",
       "      <td>23613.000000</td>\n",
       "      <td>21796.000000</td>\n",
       "      <td>23699.000000</td>\n",
       "      <td>21421.000000</td>\n",
       "      <td>12180.000000</td>\n",
       "      <td>18157.000000</td>\n",
       "      <td>18180.000000</td>\n",
       "      <td>18181.000000</td>\n",
       "      <td>8079.000000</td>\n",
       "      <td>18181.000000</td>\n",
       "      <td>9110.000000</td>\n",
       "      <td>20518.000000</td>\n",
       "    </tr>\n",
       "    <tr>\n",
       "      <th>mean</th>\n",
       "      <td>9.858475</td>\n",
       "      <td>6.541549e+06</td>\n",
       "      <td>60.348651</td>\n",
       "      <td>2.070636</td>\n",
       "      <td>2.771499</td>\n",
       "      <td>10.673824</td>\n",
       "      <td>34.457852</td>\n",
       "      <td>5.892358</td>\n",
       "      <td>10.569807</td>\n",
       "      <td>1.150082</td>\n",
       "      <td>28793.672193</td>\n",
       "      <td>14191.277833</td>\n",
       "      <td>0.611408</td>\n",
       "      <td>490.804555</td>\n",
       "      <td>0.770255</td>\n",
       "      <td>517.980900</td>\n",
       "      <td>180.888634</td>\n",
       "    </tr>\n",
       "    <tr>\n",
       "      <th>std</th>\n",
       "      <td>5.682529</td>\n",
       "      <td>1.088701e+07</td>\n",
       "      <td>35.654083</td>\n",
       "      <td>1.078405</td>\n",
       "      <td>1.261056</td>\n",
       "      <td>6.597173</td>\n",
       "      <td>22.030445</td>\n",
       "      <td>4.885249</td>\n",
       "      <td>5.905438</td>\n",
       "      <td>1.071300</td>\n",
       "      <td>12630.880622</td>\n",
       "      <td>8608.386210</td>\n",
       "      <td>0.802074</td>\n",
       "      <td>342.317995</td>\n",
       "      <td>0.938346</td>\n",
       "      <td>277.720643</td>\n",
       "      <td>219.727988</td>\n",
       "    </tr>\n",
       "    <tr>\n",
       "      <th>min</th>\n",
       "      <td>0.000000</td>\n",
       "      <td>1.219000e+04</td>\n",
       "      <td>12.000000</td>\n",
       "      <td>0.000000</td>\n",
       "      <td>1.000000</td>\n",
       "      <td>1.000000</td>\n",
       "      <td>2.000000</td>\n",
       "      <td>1.000000</td>\n",
       "      <td>1.300000</td>\n",
       "      <td>0.000000</td>\n",
       "      <td>0.000000</td>\n",
       "      <td>181.000000</td>\n",
       "      <td>0.000000</td>\n",
       "      <td>1.000000</td>\n",
       "      <td>0.000000</td>\n",
       "      <td>13.000000</td>\n",
       "      <td>1.000000</td>\n",
       "    </tr>\n",
       "    <tr>\n",
       "      <th>25%</th>\n",
       "      <td>6.000000</td>\n",
       "      <td>3.400000e+06</td>\n",
       "      <td>40.000000</td>\n",
       "      <td>1.000000</td>\n",
       "      <td>2.520000</td>\n",
       "      <td>5.000000</td>\n",
       "      <td>18.600000</td>\n",
       "      <td>2.000000</td>\n",
       "      <td>7.000000</td>\n",
       "      <td>0.000000</td>\n",
       "      <td>18585.000000</td>\n",
       "      <td>9238.000000</td>\n",
       "      <td>0.000000</td>\n",
       "      <td>288.000000</td>\n",
       "      <td>0.000000</td>\n",
       "      <td>294.000000</td>\n",
       "      <td>45.000000</td>\n",
       "    </tr>\n",
       "    <tr>\n",
       "      <th>50%</th>\n",
       "      <td>9.000000</td>\n",
       "      <td>4.650000e+06</td>\n",
       "      <td>52.000000</td>\n",
       "      <td>2.000000</td>\n",
       "      <td>2.650000</td>\n",
       "      <td>9.000000</td>\n",
       "      <td>30.000000</td>\n",
       "      <td>4.000000</td>\n",
       "      <td>9.100000</td>\n",
       "      <td>1.000000</td>\n",
       "      <td>26726.000000</td>\n",
       "      <td>13098.500000</td>\n",
       "      <td>0.000000</td>\n",
       "      <td>455.000000</td>\n",
       "      <td>1.000000</td>\n",
       "      <td>502.000000</td>\n",
       "      <td>95.000000</td>\n",
       "    </tr>\n",
       "    <tr>\n",
       "      <th>75%</th>\n",
       "      <td>14.000000</td>\n",
       "      <td>6.800000e+06</td>\n",
       "      <td>69.900000</td>\n",
       "      <td>3.000000</td>\n",
       "      <td>2.800000</td>\n",
       "      <td>16.000000</td>\n",
       "      <td>42.300000</td>\n",
       "      <td>8.000000</td>\n",
       "      <td>12.000000</td>\n",
       "      <td>2.000000</td>\n",
       "      <td>37273.000000</td>\n",
       "      <td>16293.000000</td>\n",
       "      <td>1.000000</td>\n",
       "      <td>612.000000</td>\n",
       "      <td>1.000000</td>\n",
       "      <td>729.000000</td>\n",
       "      <td>232.000000</td>\n",
       "    </tr>\n",
       "    <tr>\n",
       "      <th>max</th>\n",
       "      <td>50.000000</td>\n",
       "      <td>7.630000e+08</td>\n",
       "      <td>900.000000</td>\n",
       "      <td>19.000000</td>\n",
       "      <td>100.000000</td>\n",
       "      <td>60.000000</td>\n",
       "      <td>409.700000</td>\n",
       "      <td>33.000000</td>\n",
       "      <td>112.000000</td>\n",
       "      <td>5.000000</td>\n",
       "      <td>84869.000000</td>\n",
       "      <td>65968.000000</td>\n",
       "      <td>3.000000</td>\n",
       "      <td>3190.000000</td>\n",
       "      <td>3.000000</td>\n",
       "      <td>1344.000000</td>\n",
       "      <td>1580.000000</td>\n",
       "    </tr>\n",
       "  </tbody>\n",
       "</table>\n",
       "</div>"
      ],
      "text/plain": [
       "       total_images    last_price    total_area         rooms  ceiling_height  \\\n",
       "count  23699.000000  2.369900e+04  23699.000000  23699.000000    14504.000000   \n",
       "mean       9.858475  6.541549e+06     60.348651      2.070636        2.771499   \n",
       "std        5.682529  1.088701e+07     35.654083      1.078405        1.261056   \n",
       "min        0.000000  1.219000e+04     12.000000      0.000000        1.000000   \n",
       "25%        6.000000  3.400000e+06     40.000000      1.000000        2.520000   \n",
       "50%        9.000000  4.650000e+06     52.000000      2.000000        2.650000   \n",
       "75%       14.000000  6.800000e+06     69.900000      3.000000        2.800000   \n",
       "max       50.000000  7.630000e+08    900.000000     19.000000      100.000000   \n",
       "\n",
       "       floors_total   living_area         floor  kitchen_area       balcony  \\\n",
       "count  23613.000000  21796.000000  23699.000000  21421.000000  12180.000000   \n",
       "mean      10.673824     34.457852      5.892358     10.569807      1.150082   \n",
       "std        6.597173     22.030445      4.885249      5.905438      1.071300   \n",
       "min        1.000000      2.000000      1.000000      1.300000      0.000000   \n",
       "25%        5.000000     18.600000      2.000000      7.000000      0.000000   \n",
       "50%        9.000000     30.000000      4.000000      9.100000      1.000000   \n",
       "75%       16.000000     42.300000      8.000000     12.000000      2.000000   \n",
       "max       60.000000    409.700000     33.000000    112.000000      5.000000   \n",
       "\n",
       "       airports_nearest  cityCenters_nearest  parks_around3000  parks_nearest  \\\n",
       "count      18157.000000         18180.000000      18181.000000    8079.000000   \n",
       "mean       28793.672193         14191.277833          0.611408     490.804555   \n",
       "std        12630.880622          8608.386210          0.802074     342.317995   \n",
       "min            0.000000           181.000000          0.000000       1.000000   \n",
       "25%        18585.000000          9238.000000          0.000000     288.000000   \n",
       "50%        26726.000000         13098.500000          0.000000     455.000000   \n",
       "75%        37273.000000         16293.000000          1.000000     612.000000   \n",
       "max        84869.000000         65968.000000          3.000000    3190.000000   \n",
       "\n",
       "       ponds_around3000  ponds_nearest  days_exposition  \n",
       "count      18181.000000    9110.000000     20518.000000  \n",
       "mean           0.770255     517.980900       180.888634  \n",
       "std            0.938346     277.720643       219.727988  \n",
       "min            0.000000      13.000000         1.000000  \n",
       "25%            0.000000     294.000000        45.000000  \n",
       "50%            1.000000     502.000000        95.000000  \n",
       "75%            1.000000     729.000000       232.000000  \n",
       "max            3.000000    1344.000000      1580.000000  "
      ]
     },
     "execution_count": 5,
     "metadata": {},
     "output_type": "execute_result"
    }
   ],
   "source": [
    "# посмотрим описательную статистику\n",
    "df.describe() "
   ]
  },
  {
   "cell_type": "markdown",
   "metadata": {},
   "source": [
    "### Вывод"
   ]
  },
  {
   "cell_type": "markdown",
   "metadata": {},
   "source": [
    "При обзоре данных были выявлены следующие проблемы:\n",
    "\n",
    "* большое количество пропусков\n",
    "* стилистические ошибки в названиях столбцов\n",
    "* прыгающий регистр в названиях столбцов\n",
    "* некорректные типы данных"
   ]
  },
  {
   "cell_type": "markdown",
   "metadata": {},
   "source": [
    "## Предобработка данных"
   ]
  },
  {
   "cell_type": "code",
   "execution_count": 6,
   "metadata": {},
   "outputs": [
    {
     "data": {
      "text/plain": [
       "Index(['total_images', 'last_price', 'total_area', 'first_day_exposition',\n",
       "       'rooms', 'ceiling_height', 'floors_total', 'living_area', 'floor',\n",
       "       'is_apartment', 'studio', 'open_plan', 'kitchen_area', 'balcony',\n",
       "       'locality_name', 'airports_nearest', 'cityCenters_nearest',\n",
       "       'parks_around3000', 'parks_nearest', 'ponds_around3000',\n",
       "       'ponds_nearest', 'days_exposition'],\n",
       "      dtype='object')"
      ]
     },
     "execution_count": 6,
     "metadata": {},
     "output_type": "execute_result"
    }
   ],
   "source": [
    "# просмотрим названия столбцов\n",
    "df.columns"
   ]
  },
  {
   "cell_type": "code",
   "execution_count": 7,
   "metadata": {},
   "outputs": [],
   "source": [
    "# переименуем столбцы\n",
    "df = df.rename(columns={'cityCenters_nearest': 'city_centers_nearest', \n",
    "                        'parks_around3000': 'parks_around_3km', \n",
    "                        'ponds_around3000': 'ponds_around_3km'})"
   ]
  },
  {
   "cell_type": "code",
   "execution_count": 8,
   "metadata": {},
   "outputs": [
    {
     "data": {
      "text/plain": [
       "Index(['total_images', 'last_price', 'total_area', 'first_day_exposition',\n",
       "       'rooms', 'ceiling_height', 'floors_total', 'living_area', 'floor',\n",
       "       'is_apartment', 'studio', 'open_plan', 'kitchen_area', 'balcony',\n",
       "       'locality_name', 'airports_nearest', 'city_centers_nearest',\n",
       "       'parks_around_3km', 'parks_nearest', 'ponds_around_3km',\n",
       "       'ponds_nearest', 'days_exposition'],\n",
       "      dtype='object')"
      ]
     },
     "execution_count": 8,
     "metadata": {},
     "output_type": "execute_result"
    }
   ],
   "source": [
    "# удостоверимся, что столбцы переименованы\n",
    "df.columns"
   ]
  },
  {
   "cell_type": "code",
   "execution_count": 9,
   "metadata": {},
   "outputs": [
    {
     "data": {
      "text/plain": [
       "is_apartment            20924\n",
       "parks_nearest           15620\n",
       "ponds_nearest           14589\n",
       "balcony                 11519\n",
       "ceiling_height           9195\n",
       "airports_nearest         5542\n",
       "city_centers_nearest     5519\n",
       "ponds_around_3km         5518\n",
       "parks_around_3km         5518\n",
       "days_exposition          3181\n",
       "kitchen_area             2278\n",
       "living_area              1903\n",
       "floors_total               86\n",
       "locality_name              49\n",
       "total_images                0\n",
       "last_price                  0\n",
       "studio                      0\n",
       "floor                       0\n",
       "rooms                       0\n",
       "first_day_exposition        0\n",
       "total_area                  0\n",
       "open_plan                   0\n",
       "dtype: int64"
      ]
     },
     "execution_count": 9,
     "metadata": {},
     "output_type": "execute_result"
    }
   ],
   "source": [
    "# просмотрим количество пропусков\n",
    "df.isna().sum().sort_values(ascending=False)"
   ]
  },
  {
   "cell_type": "code",
   "execution_count": 10,
   "metadata": {},
   "outputs": [
    {
     "data": {
      "text/plain": [
       "is_apartment            88.290645\n",
       "parks_nearest           65.909954\n",
       "ponds_nearest           61.559559\n",
       "balcony                 48.605426\n",
       "ceiling_height          38.799105\n",
       "airports_nearest        23.384953\n",
       "city_centers_nearest    23.287902\n",
       "ponds_around_3km        23.283683\n",
       "parks_around_3km        23.283683\n",
       "days_exposition         13.422507\n",
       "kitchen_area             9.612220\n",
       "living_area              8.029875\n",
       "floors_total             0.362885\n",
       "locality_name            0.206760\n",
       "total_images             0.000000\n",
       "last_price               0.000000\n",
       "studio                   0.000000\n",
       "floor                    0.000000\n",
       "rooms                    0.000000\n",
       "first_day_exposition     0.000000\n",
       "total_area               0.000000\n",
       "open_plan                0.000000\n",
       "dtype: float64"
      ]
     },
     "execution_count": 10,
     "metadata": {},
     "output_type": "execute_result"
    }
   ],
   "source": [
    "# для наглядности выведем процент пропусков в каждом столбце\n",
    "df.isna().sum().sort_values(ascending=False)/df.shape[0]*100"
   ]
  },
  {
   "cell_type": "markdown",
   "metadata": {},
   "source": [
    "Немалое количество пропусков в столбце \"балконы\". Скорее всего, если количество балконов не указано, то оно равно нулю.\n",
    "\n",
    "В столбце \"апартаменты\" очень большое количество пропусков. Скорей всего, этот параметр появился относительно недавно, потому данные для относительно старых записей отсутствуют. Апартаменты - не столь частое явление, потому заполним пропуски нулем.\n",
    "\n",
    "Пропуски в столбце \"сколько было размещено объявление\", скорее всего, обусловлены тем, что объявление не прошло модерацию и потому не было опубликовано, но попало в датасет. Заполним нулем.\n",
    "\n",
    "Есть также пропуски в названии населенного пункта, их немного, однако для нашего исследования они не годятся - их надо будет удалить.\n",
    "\n",
    "Остальные пропуски выглядят логично - не все будут измерять расстояние до ближайшего аэропорта, водоема, центра города, равно как и высоту потолка, общее количество этажей, а также жилую площадь и площадь кухни. Эти пропуски трогать не будем."
   ]
  },
  {
   "cell_type": "code",
   "execution_count": 11,
   "metadata": {},
   "outputs": [],
   "source": [
    "# заполним пропуски в количестве этажей нулем и изменим тип данных\n",
    "# в дальнейшем нам это потребуется для того, чтобы определить, является ли этот этаж\n",
    "# первым, последним или ни тем, ни другим\n",
    "df['floors_total'] = df['floors_total'].fillna(0).astype('int64')"
   ]
  },
  {
   "cell_type": "code",
   "execution_count": 12,
   "metadata": {},
   "outputs": [],
   "source": [
    "# заполним пропуски в количестве балконов нулем и изменим тип данных\n",
    "df['balcony'] = df['balcony'].fillna(0).astype('int64')"
   ]
  },
  {
   "cell_type": "code",
   "execution_count": 13,
   "metadata": {},
   "outputs": [
    {
     "data": {
      "text/plain": [
       "0"
      ]
     },
     "execution_count": 13,
     "metadata": {},
     "output_type": "execute_result"
    }
   ],
   "source": [
    "# проверим, что пропусков в столбце не осталось\n",
    "df['balcony'].isna().sum()"
   ]
  },
  {
   "cell_type": "code",
   "execution_count": 14,
   "metadata": {},
   "outputs": [],
   "source": [
    "# заполним пропуски нулем и изменим тип данных\n",
    "df['is_apartment'] = df['is_apartment'].fillna(False).astype(bool)"
   ]
  },
  {
   "cell_type": "code",
   "execution_count": 15,
   "metadata": {},
   "outputs": [
    {
     "data": {
      "text/plain": [
       "0"
      ]
     },
     "execution_count": 15,
     "metadata": {},
     "output_type": "execute_result"
    }
   ],
   "source": [
    "# проверим, что пропусков в столбце не осталось\n",
    "df['is_apartment'].isna().sum()"
   ]
  },
  {
   "cell_type": "code",
   "execution_count": 16,
   "metadata": {},
   "outputs": [],
   "source": [
    "# переведем столбец с датой в формат даты\n",
    "df['first_day_exposition'] = pd.to_datetime(df['first_day_exposition'], format = '%Y-%m-%d')"
   ]
  },
  {
   "cell_type": "code",
   "execution_count": 17,
   "metadata": {},
   "outputs": [],
   "source": [
    "# изменим тип данных в стоимости\n",
    "df['last_price'] = df['last_price'].astype('int64')"
   ]
  },
  {
   "cell_type": "code",
   "execution_count": 18,
   "metadata": {},
   "outputs": [
    {
     "data": {
      "text/plain": [
       "365"
      ]
     },
     "execution_count": 18,
     "metadata": {},
     "output_type": "execute_result"
    }
   ],
   "source": [
    "# проверим количество различных населенных пунктов\n",
    "len(df['locality_name'].unique()) "
   ]
  },
  {
   "cell_type": "markdown",
   "metadata": {},
   "source": [
    "Довольно много уникальных значений, стоит проверить на возможные дубликаты."
   ]
  },
  {
   "cell_type": "code",
   "execution_count": 19,
   "metadata": {},
   "outputs": [],
   "source": [
    "# приведем к нижнему регистру\n",
    "df['locality_name'] = df['locality_name'].str.lower()"
   ]
  },
  {
   "cell_type": "code",
   "execution_count": 20,
   "metadata": {},
   "outputs": [
    {
     "data": {
      "text/plain": [
       "array(['санкт-петербург', 'посёлок шушары', 'городской посёлок янино-1',\n",
       "       'посёлок парголово', 'посёлок мурино', 'ломоносов', 'сертолово',\n",
       "       'петергоф', 'пушкин', 'деревня кудрово', 'коммунар', 'колпино',\n",
       "       'поселок городского типа красный бор', 'гатчина', 'поселок мурино',\n",
       "       'деревня фёдоровское', 'выборг', 'кронштадт', 'кировск',\n",
       "       'деревня новое девяткино', 'посёлок металлострой',\n",
       "       'посёлок городского типа лебяжье',\n",
       "       'посёлок городского типа сиверский', 'поселок молодцово',\n",
       "       'поселок городского типа кузьмоловский',\n",
       "       'садовое товарищество новая ропша', 'павловск',\n",
       "       'деревня пикколово', 'всеволожск', 'волхов', 'кингисепп',\n",
       "       'приозерск', 'сестрорецк', 'деревня куттузи', 'посёлок аннино',\n",
       "       'поселок городского типа ефимовский', 'посёлок плодовое',\n",
       "       'деревня заклинье', 'поселок торковичи', 'поселок первомайское',\n",
       "       'красное село', 'посёлок понтонный', 'сясьстрой', 'деревня старая',\n",
       "       'деревня лесколово', 'посёлок новый свет', 'сланцы',\n",
       "       'село путилово', 'ивангород', 'мурино', 'шлиссельбург',\n",
       "       'никольское', 'зеленогорск', 'сосновый бор', 'поселок новый свет',\n",
       "       'деревня оржицы', 'деревня кальтино', 'кудрово',\n",
       "       'поселок романовка', 'посёлок бугры', 'поселок бугры',\n",
       "       'поселок городского типа рощино', 'кириши', 'луга', 'волосово',\n",
       "       'отрадное', 'село павлово', 'поселок оредеж', 'село копорье',\n",
       "       'посёлок городского типа красный бор', 'посёлок молодёжное',\n",
       "       'тихвин', 'посёлок победа', 'деревня нурма',\n",
       "       'поселок городского типа синявино', 'тосно',\n",
       "       'посёлок городского типа кузьмоловский', 'посёлок стрельна',\n",
       "       'бокситогорск', 'посёлок александровская', 'деревня лопухинка',\n",
       "       'пикалёво', 'поселок терволово',\n",
       "       'поселок городского типа советский', 'подпорожье',\n",
       "       'посёлок петровское', 'посёлок городского типа токсово',\n",
       "       'поселок сельцо', 'посёлок городского типа вырица',\n",
       "       'деревня кипень', 'деревня келози', 'деревня вартемяги',\n",
       "       'посёлок тельмана', 'поселок севастьяново',\n",
       "       'городской поселок большая ижора', nan,\n",
       "       'городской посёлок павлово', 'деревня агалатово',\n",
       "       'посёлок новогорелово', 'городской посёлок лесогорский',\n",
       "       'деревня лаголово', 'поселок цвелодубово',\n",
       "       'поселок городского типа рахья', 'поселок городского типа вырица',\n",
       "       'деревня белогорка', 'поселок заводской',\n",
       "       'городской посёлок новоселье', 'деревня большие колпаны',\n",
       "       'деревня горбунки', 'деревня батово', 'деревня заневка',\n",
       "       'деревня иссад', 'приморск', 'городской посёлок фёдоровское',\n",
       "       'деревня мистолово', 'новая ладога', 'поселок зимитицы',\n",
       "       'поселок барышево', 'деревня разметелево',\n",
       "       'поселок городского типа имени свердлова', 'деревня пеники',\n",
       "       'поселок рябово', 'деревня пудомяги', 'поселок станции корнево',\n",
       "       'деревня низино', 'деревня бегуницы', 'посёлок поляны',\n",
       "       'городской посёлок мга', 'поселок елизаветино',\n",
       "       'посёлок городского типа кузнечное', 'деревня колтуши',\n",
       "       'поселок запорожское', 'посёлок городского типа рощино',\n",
       "       'деревня гостилицы', 'деревня малое карлино',\n",
       "       'посёлок мичуринское', 'посёлок городского типа имени морозова',\n",
       "       'посёлок песочный', 'посёлок сосново', 'деревня аро',\n",
       "       'поселок ильичёво', 'посёлок городского типа тайцы',\n",
       "       'деревня малое верево', 'деревня извара', 'поселок станции вещево',\n",
       "       'село паша', 'деревня калитино',\n",
       "       'посёлок городского типа ульяновка', 'деревня чудской бор',\n",
       "       'поселок городского типа дубровка', 'деревня мины',\n",
       "       'поселок войсковицы', 'посёлок городского типа имени свердлова',\n",
       "       'деревня коркино', 'посёлок ропша',\n",
       "       'поселок городского типа приладожский', 'посёлок щеглово',\n",
       "       'посёлок гаврилово', 'лодейное поле', 'деревня рабитицы',\n",
       "       'поселок городского типа никольский', 'деревня кузьмолово',\n",
       "       'деревня малые колпаны', 'поселок тельмана',\n",
       "       'посёлок петро-славянка', 'городской посёлок назия',\n",
       "       'посёлок репино', 'посёлок ильичёво', 'поселок углово',\n",
       "       'поселок старая малукса', 'садовое товарищество рахья',\n",
       "       'поселок аннино', 'поселок победа', 'деревня меньково',\n",
       "       'деревня старые бегуницы', 'посёлок сапёрный', 'поселок семрино',\n",
       "       'поселок гаврилово', 'поселок глажево', 'поселок кобринское',\n",
       "       'деревня гарболово', 'деревня юкки',\n",
       "       'поселок станции приветнинское', 'деревня мануйлово',\n",
       "       'деревня пчева', 'поселок поляны', 'поселок цвылёво',\n",
       "       'поселок мельниково', 'посёлок пудость', 'посёлок усть-луга',\n",
       "       'светогорск', 'любань', 'поселок селезнёво',\n",
       "       'поселок городского типа рябово', 'каменногорск', 'деревня кривко',\n",
       "       'поселок глебычево', 'деревня парицы', 'поселок жилпосёлок',\n",
       "       'посёлок городского типа мга', 'городской поселок янино-1',\n",
       "       'посёлок войскорово', 'село никольское', 'посёлок терволово',\n",
       "       'поселок стеклянный', 'посёлок городского типа важины',\n",
       "       'посёлок мыза-ивановка', 'село русско-высоцкое',\n",
       "       'поселок городского типа лебяжье',\n",
       "       'поселок городского типа форносово', 'село старая ладога',\n",
       "       'поселок житково', 'городской посёлок виллози', 'деревня лампово',\n",
       "       'деревня шпаньково', 'деревня лаврики', 'посёлок сумино',\n",
       "       'посёлок возрождение', 'деревня старосиверская',\n",
       "       'посёлок кикерино', 'поселок возрождение',\n",
       "       'деревня старое хинколово', 'посёлок пригородный',\n",
       "       'посёлок торфяное', 'городской посёлок будогощь',\n",
       "       'поселок суходолье', 'поселок красная долина', 'деревня хапо-ое',\n",
       "       'поселок городского типа дружная горка', 'поселок лисий нос',\n",
       "       'деревня яльгелево', 'посёлок стеклянный', 'село рождествено',\n",
       "       'деревня старополье', 'посёлок левашово', 'деревня сяськелево',\n",
       "       'деревня камышовка',\n",
       "       'садоводческое некоммерческое товарищество лесная поляна',\n",
       "       'деревня хязельки', 'поселок жилгородок',\n",
       "       'посёлок городского типа павлово', 'деревня ялгино',\n",
       "       'поселок новый учхоз', 'городской посёлок рощино',\n",
       "       'поселок гончарово', 'поселок почап', 'посёлок сапёрное',\n",
       "       'посёлок платформа 69-й километр', 'поселок каложицы',\n",
       "       'деревня фалилеево', 'деревня пельгора',\n",
       "       'поселок городского типа лесогорский', 'деревня торошковичи',\n",
       "       'посёлок белоостров', 'посёлок алексеевка', 'поселок серебрянский',\n",
       "       'поселок лукаши', 'поселок петровское', 'деревня щеглово',\n",
       "       'поселок мичуринское', 'деревня тарасово', 'поселок кингисеппский',\n",
       "       'посёлок при железнодорожной станции вещево', 'поселок ушаки',\n",
       "       'деревня котлы', 'деревня сижно', 'деревня торосово',\n",
       "       'посёлок форт красная горка', 'поселок городского типа токсово',\n",
       "       'деревня новолисино', 'посёлок станции громово', 'деревня глинка',\n",
       "       'посёлок мельниково', 'поселок городского типа назия',\n",
       "       'деревня старая пустошь', 'поселок коммунары', 'поселок починок',\n",
       "       'посёлок городского типа вознесенье', 'деревня разбегаево',\n",
       "       'посёлок городского типа рябово', 'поселок гладкое',\n",
       "       'посёлок при железнодорожной станции приветнинское',\n",
       "       'поселок тёсово-4', 'посёлок жилгородок', 'деревня бор',\n",
       "       'посёлок коробицыно', 'деревня большая вруда', 'деревня курковицы',\n",
       "       'посёлок лисий нос', 'городской посёлок советский',\n",
       "       'посёлок кобралово', 'деревня суоранда', 'поселок кобралово',\n",
       "       'поселок городского типа кондратьево',\n",
       "       'коттеджный поселок счастье', 'поселок любань', 'деревня реброво',\n",
       "       'деревня зимитицы', 'деревня тойворово', 'поселок семиозерье',\n",
       "       'поселок лесное', 'поселок совхозный', 'поселок усть-луга',\n",
       "       'посёлок ленинское', 'посёлок суйда',\n",
       "       'посёлок городского типа форносово', 'деревня нижние осельки',\n",
       "       'посёлок станции свирь', 'поселок перово', 'высоцк',\n",
       "       'поселок гарболово', 'село шум', 'поселок котельский',\n",
       "       'поселок станции лужайка', 'деревня большая пустомержа',\n",
       "       'поселок красносельское', 'деревня вахнова кара', 'деревня пижма',\n",
       "       'коттеджный поселок кивеннапа север', 'поселок коробицыно',\n",
       "       'поселок ромашки', 'посёлок перово', 'деревня каськово',\n",
       "       'деревня куровицы', 'посёлок плоское', 'поселок сумино',\n",
       "       'поселок городского типа большая ижора', 'поселок кирпичное',\n",
       "       'деревня ям-тесово', 'деревня раздолье', 'деревня терпилицы',\n",
       "       'посёлок шугозеро', 'деревня ваганово', 'поселок пушное',\n",
       "       'садовое товарищество садко', 'посёлок усть-ижора',\n",
       "       'деревня выскатка', 'городской посёлок свирьстрой',\n",
       "       'поселок громово', 'деревня кисельня', 'посёлок старая малукса',\n",
       "       'деревня трубников бор', 'поселок калитино',\n",
       "       'посёлок высокоключевой', 'садовое товарищество приладожский',\n",
       "       'посёлок пансионат зелёный бор', 'деревня ненимяки',\n",
       "       'поселок пансионат зелёный бор', 'деревня снегирёвка',\n",
       "       'деревня рапполово', 'деревня пустынка', 'поселок рабитицы',\n",
       "       'деревня большой сабск', 'деревня русско', 'деревня лупполово',\n",
       "       'деревня большое рейзино', 'деревня малая романовка',\n",
       "       'поселок дружноселье', 'поселок пчевжа', 'поселок володарское',\n",
       "       'деревня нижняя', 'коттеджный посёлок лесное', 'деревня тихковицы',\n",
       "       'деревня борисова грива', 'посёлок дзержинского'], dtype=object)"
      ]
     },
     "execution_count": 20,
     "metadata": {},
     "output_type": "execute_result"
    }
   ],
   "source": [
    "# просмотрим уникальные значения\n",
    "df['locality_name'].unique() "
   ]
  },
  {
   "cell_type": "markdown",
   "metadata": {},
   "source": [
    "Видно, что иногда вместо \"ё\" пишут \"е\"."
   ]
  },
  {
   "cell_type": "code",
   "execution_count": 21,
   "metadata": {},
   "outputs": [],
   "source": [
    "# заменим все \"ё\" на \"е\"\n",
    "df['locality_name'] = df['locality_name'].str.replace('ё', 'е')"
   ]
  },
  {
   "cell_type": "code",
   "execution_count": 22,
   "metadata": {},
   "outputs": [
    {
     "data": {
      "text/plain": [
       "331"
      ]
     },
     "execution_count": 22,
     "metadata": {},
     "output_type": "execute_result"
    }
   ],
   "source": [
    "# посмотрим, уменьшилось ли количество уникальных значений\n",
    "len(df['locality_name'].unique())"
   ]
  },
  {
   "cell_type": "code",
   "execution_count": 23,
   "metadata": {},
   "outputs": [],
   "source": [
    "# удалим строки с пропусками, их всего 49, и они нам не пригодятся\n",
    "df = df.dropna(subset=['locality_name'])"
   ]
  },
  {
   "cell_type": "code",
   "execution_count": 24,
   "metadata": {},
   "outputs": [
    {
     "data": {
      "text/plain": [
       "0"
      ]
     },
     "execution_count": 24,
     "metadata": {},
     "output_type": "execute_result"
    }
   ],
   "source": [
    "# проверим, что пропусков не осталось\n",
    "df['locality_name'].isna().sum() "
   ]
  },
  {
   "cell_type": "code",
   "execution_count": 25,
   "metadata": {},
   "outputs": [],
   "source": [
    "# заполним пропуски нулем и поменяем тип\n",
    "df['days_exposition'] = df['days_exposition'].fillna(0).astype('int64')"
   ]
  },
  {
   "cell_type": "code",
   "execution_count": 68,
   "metadata": {},
   "outputs": [
    {
     "data": {
      "text/plain": [
       "0"
      ]
     },
     "execution_count": 68,
     "metadata": {},
     "output_type": "execute_result"
    }
   ],
   "source": [
    "# проверим, что пропусков не осталось\n",
    "df['days_exposition'].isna().sum() "
   ]
  },
  {
   "cell_type": "markdown",
   "metadata": {},
   "source": [
    "## Расчёты и добавление результатов в таблицу"
   ]
  },
  {
   "cell_type": "code",
   "execution_count": 26,
   "metadata": {},
   "outputs": [],
   "source": [
    "# посчитаем цену квадратного метра\n",
    "df['price_per_m2'] = (df['last_price'] / df['total_area']).astype('int64')"
   ]
  },
  {
   "cell_type": "code",
   "execution_count": 27,
   "metadata": {},
   "outputs": [],
   "source": [
    "# создаем столбец дня недели\n",
    "df['weekday_exposition'] = df['first_day_exposition'].dt.weekday"
   ]
  },
  {
   "cell_type": "code",
   "execution_count": 28,
   "metadata": {},
   "outputs": [],
   "source": [
    "#создаем столбец месяца\n",
    "df['month_exposition'] = df['first_day_exposition'].dt.month"
   ]
  },
  {
   "cell_type": "code",
   "execution_count": 29,
   "metadata": {},
   "outputs": [],
   "source": [
    "#создаем столбец года\n",
    "df['year_exposition'] = df['first_day_exposition'].dt.year"
   ]
  },
  {
   "cell_type": "code",
   "execution_count": 30,
   "metadata": {},
   "outputs": [],
   "source": [
    "#напишем функцию категоризации по этажам\n",
    "def floor_category(row):\n",
    "    if row['floor'] == 1:\n",
    "        return 'первый'\n",
    "    elif row['floor']  == row['floors_total']:\n",
    "        return 'последний'\n",
    "    return 'другой'"
   ]
  },
  {
   "cell_type": "code",
   "execution_count": 31,
   "metadata": {},
   "outputs": [],
   "source": [
    "# категоризируем этажи с помощью функции \n",
    "df['floor_category'] = df.apply(floor_category, axis = 1)"
   ]
  },
  {
   "cell_type": "code",
   "execution_count": 32,
   "metadata": {},
   "outputs": [],
   "source": [
    "# добавим столбец соотношения жилой площади к общей\n",
    "df['living_area_ratio'] = df['living_area'] / df['total_area']"
   ]
  },
  {
   "cell_type": "code",
   "execution_count": 33,
   "metadata": {},
   "outputs": [],
   "source": [
    "# добавим столбец отношения площади кухни к общей\n",
    "df['kitchen_area_ratio'] = df['kitchen_area'] / df['total_area']"
   ]
  },
  {
   "cell_type": "code",
   "execution_count": 34,
   "metadata": {},
   "outputs": [
    {
     "data": {
      "text/html": [
       "<div>\n",
       "<style scoped>\n",
       "    .dataframe tbody tr th:only-of-type {\n",
       "        vertical-align: middle;\n",
       "    }\n",
       "\n",
       "    .dataframe tbody tr th {\n",
       "        vertical-align: top;\n",
       "    }\n",
       "\n",
       "    .dataframe thead th {\n",
       "        text-align: right;\n",
       "    }\n",
       "</style>\n",
       "<table border=\"1\" class=\"dataframe\">\n",
       "  <thead>\n",
       "    <tr style=\"text-align: right;\">\n",
       "      <th></th>\n",
       "      <th>total_images</th>\n",
       "      <th>last_price</th>\n",
       "      <th>total_area</th>\n",
       "      <th>first_day_exposition</th>\n",
       "      <th>rooms</th>\n",
       "      <th>ceiling_height</th>\n",
       "      <th>floors_total</th>\n",
       "      <th>living_area</th>\n",
       "      <th>floor</th>\n",
       "      <th>is_apartment</th>\n",
       "      <th>...</th>\n",
       "      <th>ponds_around_3km</th>\n",
       "      <th>ponds_nearest</th>\n",
       "      <th>days_exposition</th>\n",
       "      <th>price_per_m2</th>\n",
       "      <th>weekday_exposition</th>\n",
       "      <th>month_exposition</th>\n",
       "      <th>year_exposition</th>\n",
       "      <th>floor_category</th>\n",
       "      <th>living_area_ratio</th>\n",
       "      <th>kitchen_area_ratio</th>\n",
       "    </tr>\n",
       "  </thead>\n",
       "  <tbody>\n",
       "    <tr>\n",
       "      <th>0</th>\n",
       "      <td>20</td>\n",
       "      <td>13000000</td>\n",
       "      <td>108.00</td>\n",
       "      <td>2019-03-07</td>\n",
       "      <td>3</td>\n",
       "      <td>2.70</td>\n",
       "      <td>16</td>\n",
       "      <td>51.00</td>\n",
       "      <td>8</td>\n",
       "      <td>False</td>\n",
       "      <td>...</td>\n",
       "      <td>2.0</td>\n",
       "      <td>755.0</td>\n",
       "      <td>0</td>\n",
       "      <td>120370</td>\n",
       "      <td>3</td>\n",
       "      <td>3</td>\n",
       "      <td>2019</td>\n",
       "      <td>другой</td>\n",
       "      <td>0.472222</td>\n",
       "      <td>0.231481</td>\n",
       "    </tr>\n",
       "    <tr>\n",
       "      <th>1</th>\n",
       "      <td>7</td>\n",
       "      <td>3350000</td>\n",
       "      <td>40.40</td>\n",
       "      <td>2018-12-04</td>\n",
       "      <td>1</td>\n",
       "      <td>NaN</td>\n",
       "      <td>11</td>\n",
       "      <td>18.60</td>\n",
       "      <td>1</td>\n",
       "      <td>False</td>\n",
       "      <td>...</td>\n",
       "      <td>0.0</td>\n",
       "      <td>NaN</td>\n",
       "      <td>81</td>\n",
       "      <td>82920</td>\n",
       "      <td>1</td>\n",
       "      <td>12</td>\n",
       "      <td>2018</td>\n",
       "      <td>первый</td>\n",
       "      <td>0.460396</td>\n",
       "      <td>0.272277</td>\n",
       "    </tr>\n",
       "    <tr>\n",
       "      <th>2</th>\n",
       "      <td>10</td>\n",
       "      <td>5196000</td>\n",
       "      <td>56.00</td>\n",
       "      <td>2015-08-20</td>\n",
       "      <td>2</td>\n",
       "      <td>NaN</td>\n",
       "      <td>5</td>\n",
       "      <td>34.30</td>\n",
       "      <td>4</td>\n",
       "      <td>False</td>\n",
       "      <td>...</td>\n",
       "      <td>2.0</td>\n",
       "      <td>574.0</td>\n",
       "      <td>558</td>\n",
       "      <td>92785</td>\n",
       "      <td>3</td>\n",
       "      <td>8</td>\n",
       "      <td>2015</td>\n",
       "      <td>другой</td>\n",
       "      <td>0.612500</td>\n",
       "      <td>0.148214</td>\n",
       "    </tr>\n",
       "    <tr>\n",
       "      <th>3</th>\n",
       "      <td>0</td>\n",
       "      <td>64900000</td>\n",
       "      <td>159.00</td>\n",
       "      <td>2015-07-24</td>\n",
       "      <td>3</td>\n",
       "      <td>NaN</td>\n",
       "      <td>14</td>\n",
       "      <td>NaN</td>\n",
       "      <td>9</td>\n",
       "      <td>False</td>\n",
       "      <td>...</td>\n",
       "      <td>3.0</td>\n",
       "      <td>234.0</td>\n",
       "      <td>424</td>\n",
       "      <td>408176</td>\n",
       "      <td>4</td>\n",
       "      <td>7</td>\n",
       "      <td>2015</td>\n",
       "      <td>другой</td>\n",
       "      <td>NaN</td>\n",
       "      <td>NaN</td>\n",
       "    </tr>\n",
       "    <tr>\n",
       "      <th>4</th>\n",
       "      <td>2</td>\n",
       "      <td>10000000</td>\n",
       "      <td>100.00</td>\n",
       "      <td>2018-06-19</td>\n",
       "      <td>2</td>\n",
       "      <td>3.03</td>\n",
       "      <td>14</td>\n",
       "      <td>32.00</td>\n",
       "      <td>13</td>\n",
       "      <td>False</td>\n",
       "      <td>...</td>\n",
       "      <td>1.0</td>\n",
       "      <td>48.0</td>\n",
       "      <td>121</td>\n",
       "      <td>100000</td>\n",
       "      <td>1</td>\n",
       "      <td>6</td>\n",
       "      <td>2018</td>\n",
       "      <td>другой</td>\n",
       "      <td>0.320000</td>\n",
       "      <td>0.410000</td>\n",
       "    </tr>\n",
       "    <tr>\n",
       "      <th>5</th>\n",
       "      <td>10</td>\n",
       "      <td>2890000</td>\n",
       "      <td>30.40</td>\n",
       "      <td>2018-09-10</td>\n",
       "      <td>1</td>\n",
       "      <td>NaN</td>\n",
       "      <td>12</td>\n",
       "      <td>14.40</td>\n",
       "      <td>5</td>\n",
       "      <td>False</td>\n",
       "      <td>...</td>\n",
       "      <td>NaN</td>\n",
       "      <td>NaN</td>\n",
       "      <td>55</td>\n",
       "      <td>95065</td>\n",
       "      <td>0</td>\n",
       "      <td>9</td>\n",
       "      <td>2018</td>\n",
       "      <td>другой</td>\n",
       "      <td>0.473684</td>\n",
       "      <td>0.299342</td>\n",
       "    </tr>\n",
       "    <tr>\n",
       "      <th>6</th>\n",
       "      <td>6</td>\n",
       "      <td>3700000</td>\n",
       "      <td>37.30</td>\n",
       "      <td>2017-11-02</td>\n",
       "      <td>1</td>\n",
       "      <td>NaN</td>\n",
       "      <td>26</td>\n",
       "      <td>10.60</td>\n",
       "      <td>6</td>\n",
       "      <td>False</td>\n",
       "      <td>...</td>\n",
       "      <td>0.0</td>\n",
       "      <td>NaN</td>\n",
       "      <td>155</td>\n",
       "      <td>99195</td>\n",
       "      <td>3</td>\n",
       "      <td>11</td>\n",
       "      <td>2017</td>\n",
       "      <td>другой</td>\n",
       "      <td>0.284182</td>\n",
       "      <td>0.386059</td>\n",
       "    </tr>\n",
       "    <tr>\n",
       "      <th>7</th>\n",
       "      <td>5</td>\n",
       "      <td>7915000</td>\n",
       "      <td>71.60</td>\n",
       "      <td>2019-04-18</td>\n",
       "      <td>2</td>\n",
       "      <td>NaN</td>\n",
       "      <td>24</td>\n",
       "      <td>NaN</td>\n",
       "      <td>22</td>\n",
       "      <td>False</td>\n",
       "      <td>...</td>\n",
       "      <td>0.0</td>\n",
       "      <td>NaN</td>\n",
       "      <td>0</td>\n",
       "      <td>110544</td>\n",
       "      <td>3</td>\n",
       "      <td>4</td>\n",
       "      <td>2019</td>\n",
       "      <td>другой</td>\n",
       "      <td>NaN</td>\n",
       "      <td>0.263966</td>\n",
       "    </tr>\n",
       "    <tr>\n",
       "      <th>8</th>\n",
       "      <td>20</td>\n",
       "      <td>2900000</td>\n",
       "      <td>33.16</td>\n",
       "      <td>2018-05-23</td>\n",
       "      <td>1</td>\n",
       "      <td>NaN</td>\n",
       "      <td>27</td>\n",
       "      <td>15.43</td>\n",
       "      <td>26</td>\n",
       "      <td>False</td>\n",
       "      <td>...</td>\n",
       "      <td>NaN</td>\n",
       "      <td>NaN</td>\n",
       "      <td>189</td>\n",
       "      <td>87454</td>\n",
       "      <td>2</td>\n",
       "      <td>5</td>\n",
       "      <td>2018</td>\n",
       "      <td>другой</td>\n",
       "      <td>0.465320</td>\n",
       "      <td>0.265682</td>\n",
       "    </tr>\n",
       "    <tr>\n",
       "      <th>9</th>\n",
       "      <td>18</td>\n",
       "      <td>5400000</td>\n",
       "      <td>61.00</td>\n",
       "      <td>2017-02-26</td>\n",
       "      <td>3</td>\n",
       "      <td>2.50</td>\n",
       "      <td>9</td>\n",
       "      <td>43.60</td>\n",
       "      <td>7</td>\n",
       "      <td>False</td>\n",
       "      <td>...</td>\n",
       "      <td>0.0</td>\n",
       "      <td>NaN</td>\n",
       "      <td>289</td>\n",
       "      <td>88524</td>\n",
       "      <td>6</td>\n",
       "      <td>2</td>\n",
       "      <td>2017</td>\n",
       "      <td>другой</td>\n",
       "      <td>0.714754</td>\n",
       "      <td>0.106557</td>\n",
       "    </tr>\n",
       "    <tr>\n",
       "      <th>10</th>\n",
       "      <td>5</td>\n",
       "      <td>5050000</td>\n",
       "      <td>39.60</td>\n",
       "      <td>2017-11-16</td>\n",
       "      <td>1</td>\n",
       "      <td>2.67</td>\n",
       "      <td>12</td>\n",
       "      <td>20.30</td>\n",
       "      <td>3</td>\n",
       "      <td>False</td>\n",
       "      <td>...</td>\n",
       "      <td>2.0</td>\n",
       "      <td>553.0</td>\n",
       "      <td>137</td>\n",
       "      <td>127525</td>\n",
       "      <td>3</td>\n",
       "      <td>11</td>\n",
       "      <td>2017</td>\n",
       "      <td>другой</td>\n",
       "      <td>0.512626</td>\n",
       "      <td>0.214646</td>\n",
       "    </tr>\n",
       "    <tr>\n",
       "      <th>11</th>\n",
       "      <td>9</td>\n",
       "      <td>3300000</td>\n",
       "      <td>44.00</td>\n",
       "      <td>2018-08-27</td>\n",
       "      <td>2</td>\n",
       "      <td>NaN</td>\n",
       "      <td>5</td>\n",
       "      <td>31.00</td>\n",
       "      <td>4</td>\n",
       "      <td>False</td>\n",
       "      <td>...</td>\n",
       "      <td>0.0</td>\n",
       "      <td>NaN</td>\n",
       "      <td>7</td>\n",
       "      <td>75000</td>\n",
       "      <td>0</td>\n",
       "      <td>8</td>\n",
       "      <td>2018</td>\n",
       "      <td>другой</td>\n",
       "      <td>0.704545</td>\n",
       "      <td>0.136364</td>\n",
       "    </tr>\n",
       "    <tr>\n",
       "      <th>12</th>\n",
       "      <td>10</td>\n",
       "      <td>3890000</td>\n",
       "      <td>54.00</td>\n",
       "      <td>2016-06-30</td>\n",
       "      <td>2</td>\n",
       "      <td>NaN</td>\n",
       "      <td>5</td>\n",
       "      <td>30.00</td>\n",
       "      <td>5</td>\n",
       "      <td>False</td>\n",
       "      <td>...</td>\n",
       "      <td>NaN</td>\n",
       "      <td>NaN</td>\n",
       "      <td>90</td>\n",
       "      <td>72037</td>\n",
       "      <td>3</td>\n",
       "      <td>6</td>\n",
       "      <td>2016</td>\n",
       "      <td>последний</td>\n",
       "      <td>0.555556</td>\n",
       "      <td>0.166667</td>\n",
       "    </tr>\n",
       "    <tr>\n",
       "      <th>13</th>\n",
       "      <td>20</td>\n",
       "      <td>3550000</td>\n",
       "      <td>42.80</td>\n",
       "      <td>2017-07-01</td>\n",
       "      <td>2</td>\n",
       "      <td>2.56</td>\n",
       "      <td>5</td>\n",
       "      <td>27.00</td>\n",
       "      <td>5</td>\n",
       "      <td>False</td>\n",
       "      <td>...</td>\n",
       "      <td>3.0</td>\n",
       "      <td>298.0</td>\n",
       "      <td>366</td>\n",
       "      <td>82943</td>\n",
       "      <td>5</td>\n",
       "      <td>7</td>\n",
       "      <td>2017</td>\n",
       "      <td>последний</td>\n",
       "      <td>0.630841</td>\n",
       "      <td>0.121495</td>\n",
       "    </tr>\n",
       "    <tr>\n",
       "      <th>14</th>\n",
       "      <td>1</td>\n",
       "      <td>4400000</td>\n",
       "      <td>36.00</td>\n",
       "      <td>2016-06-23</td>\n",
       "      <td>1</td>\n",
       "      <td>NaN</td>\n",
       "      <td>6</td>\n",
       "      <td>17.00</td>\n",
       "      <td>1</td>\n",
       "      <td>False</td>\n",
       "      <td>...</td>\n",
       "      <td>1.0</td>\n",
       "      <td>96.0</td>\n",
       "      <td>203</td>\n",
       "      <td>122222</td>\n",
       "      <td>3</td>\n",
       "      <td>6</td>\n",
       "      <td>2016</td>\n",
       "      <td>первый</td>\n",
       "      <td>0.472222</td>\n",
       "      <td>0.222222</td>\n",
       "    </tr>\n",
       "    <tr>\n",
       "      <th>15</th>\n",
       "      <td>16</td>\n",
       "      <td>4650000</td>\n",
       "      <td>39.00</td>\n",
       "      <td>2017-11-18</td>\n",
       "      <td>1</td>\n",
       "      <td>NaN</td>\n",
       "      <td>14</td>\n",
       "      <td>20.50</td>\n",
       "      <td>5</td>\n",
       "      <td>False</td>\n",
       "      <td>...</td>\n",
       "      <td>1.0</td>\n",
       "      <td>296.0</td>\n",
       "      <td>19</td>\n",
       "      <td>119230</td>\n",
       "      <td>5</td>\n",
       "      <td>11</td>\n",
       "      <td>2017</td>\n",
       "      <td>другой</td>\n",
       "      <td>0.525641</td>\n",
       "      <td>0.194872</td>\n",
       "    </tr>\n",
       "    <tr>\n",
       "      <th>16</th>\n",
       "      <td>11</td>\n",
       "      <td>6700000</td>\n",
       "      <td>82.00</td>\n",
       "      <td>2017-11-23</td>\n",
       "      <td>3</td>\n",
       "      <td>3.05</td>\n",
       "      <td>5</td>\n",
       "      <td>55.60</td>\n",
       "      <td>1</td>\n",
       "      <td>False</td>\n",
       "      <td>...</td>\n",
       "      <td>0.0</td>\n",
       "      <td>NaN</td>\n",
       "      <td>397</td>\n",
       "      <td>81707</td>\n",
       "      <td>3</td>\n",
       "      <td>11</td>\n",
       "      <td>2017</td>\n",
       "      <td>первый</td>\n",
       "      <td>0.678049</td>\n",
       "      <td>0.109756</td>\n",
       "    </tr>\n",
       "    <tr>\n",
       "      <th>17</th>\n",
       "      <td>6</td>\n",
       "      <td>4180000</td>\n",
       "      <td>36.00</td>\n",
       "      <td>2016-09-09</td>\n",
       "      <td>1</td>\n",
       "      <td>NaN</td>\n",
       "      <td>17</td>\n",
       "      <td>16.50</td>\n",
       "      <td>7</td>\n",
       "      <td>False</td>\n",
       "      <td>...</td>\n",
       "      <td>1.0</td>\n",
       "      <td>859.0</td>\n",
       "      <td>571</td>\n",
       "      <td>116111</td>\n",
       "      <td>4</td>\n",
       "      <td>9</td>\n",
       "      <td>2016</td>\n",
       "      <td>другой</td>\n",
       "      <td>0.458333</td>\n",
       "      <td>0.305556</td>\n",
       "    </tr>\n",
       "    <tr>\n",
       "      <th>18</th>\n",
       "      <td>8</td>\n",
       "      <td>3250000</td>\n",
       "      <td>31.00</td>\n",
       "      <td>2017-01-27</td>\n",
       "      <td>1</td>\n",
       "      <td>2.50</td>\n",
       "      <td>5</td>\n",
       "      <td>19.40</td>\n",
       "      <td>2</td>\n",
       "      <td>False</td>\n",
       "      <td>...</td>\n",
       "      <td>0.0</td>\n",
       "      <td>NaN</td>\n",
       "      <td>168</td>\n",
       "      <td>104838</td>\n",
       "      <td>4</td>\n",
       "      <td>1</td>\n",
       "      <td>2017</td>\n",
       "      <td>другой</td>\n",
       "      <td>0.625806</td>\n",
       "      <td>0.180645</td>\n",
       "    </tr>\n",
       "    <tr>\n",
       "      <th>19</th>\n",
       "      <td>16</td>\n",
       "      <td>14200000</td>\n",
       "      <td>121.00</td>\n",
       "      <td>2019-01-09</td>\n",
       "      <td>3</td>\n",
       "      <td>2.75</td>\n",
       "      <td>16</td>\n",
       "      <td>76.00</td>\n",
       "      <td>8</td>\n",
       "      <td>False</td>\n",
       "      <td>...</td>\n",
       "      <td>0.0</td>\n",
       "      <td>NaN</td>\n",
       "      <td>97</td>\n",
       "      <td>117355</td>\n",
       "      <td>2</td>\n",
       "      <td>1</td>\n",
       "      <td>2019</td>\n",
       "      <td>другой</td>\n",
       "      <td>0.628099</td>\n",
       "      <td>0.099174</td>\n",
       "    </tr>\n",
       "  </tbody>\n",
       "</table>\n",
       "<p>20 rows × 29 columns</p>\n",
       "</div>"
      ],
      "text/plain": [
       "    total_images  last_price  total_area first_day_exposition  rooms  \\\n",
       "0             20    13000000      108.00           2019-03-07      3   \n",
       "1              7     3350000       40.40           2018-12-04      1   \n",
       "2             10     5196000       56.00           2015-08-20      2   \n",
       "3              0    64900000      159.00           2015-07-24      3   \n",
       "4              2    10000000      100.00           2018-06-19      2   \n",
       "5             10     2890000       30.40           2018-09-10      1   \n",
       "6              6     3700000       37.30           2017-11-02      1   \n",
       "7              5     7915000       71.60           2019-04-18      2   \n",
       "8             20     2900000       33.16           2018-05-23      1   \n",
       "9             18     5400000       61.00           2017-02-26      3   \n",
       "10             5     5050000       39.60           2017-11-16      1   \n",
       "11             9     3300000       44.00           2018-08-27      2   \n",
       "12            10     3890000       54.00           2016-06-30      2   \n",
       "13            20     3550000       42.80           2017-07-01      2   \n",
       "14             1     4400000       36.00           2016-06-23      1   \n",
       "15            16     4650000       39.00           2017-11-18      1   \n",
       "16            11     6700000       82.00           2017-11-23      3   \n",
       "17             6     4180000       36.00           2016-09-09      1   \n",
       "18             8     3250000       31.00           2017-01-27      1   \n",
       "19            16    14200000      121.00           2019-01-09      3   \n",
       "\n",
       "    ceiling_height  floors_total  living_area  floor  is_apartment  ...  \\\n",
       "0             2.70            16        51.00      8         False  ...   \n",
       "1              NaN            11        18.60      1         False  ...   \n",
       "2              NaN             5        34.30      4         False  ...   \n",
       "3              NaN            14          NaN      9         False  ...   \n",
       "4             3.03            14        32.00     13         False  ...   \n",
       "5              NaN            12        14.40      5         False  ...   \n",
       "6              NaN            26        10.60      6         False  ...   \n",
       "7              NaN            24          NaN     22         False  ...   \n",
       "8              NaN            27        15.43     26         False  ...   \n",
       "9             2.50             9        43.60      7         False  ...   \n",
       "10            2.67            12        20.30      3         False  ...   \n",
       "11             NaN             5        31.00      4         False  ...   \n",
       "12             NaN             5        30.00      5         False  ...   \n",
       "13            2.56             5        27.00      5         False  ...   \n",
       "14             NaN             6        17.00      1         False  ...   \n",
       "15             NaN            14        20.50      5         False  ...   \n",
       "16            3.05             5        55.60      1         False  ...   \n",
       "17             NaN            17        16.50      7         False  ...   \n",
       "18            2.50             5        19.40      2         False  ...   \n",
       "19            2.75            16        76.00      8         False  ...   \n",
       "\n",
       "    ponds_around_3km  ponds_nearest  days_exposition  price_per_m2  \\\n",
       "0                2.0          755.0                0        120370   \n",
       "1                0.0            NaN               81         82920   \n",
       "2                2.0          574.0              558         92785   \n",
       "3                3.0          234.0              424        408176   \n",
       "4                1.0           48.0              121        100000   \n",
       "5                NaN            NaN               55         95065   \n",
       "6                0.0            NaN              155         99195   \n",
       "7                0.0            NaN                0        110544   \n",
       "8                NaN            NaN              189         87454   \n",
       "9                0.0            NaN              289         88524   \n",
       "10               2.0          553.0              137        127525   \n",
       "11               0.0            NaN                7         75000   \n",
       "12               NaN            NaN               90         72037   \n",
       "13               3.0          298.0              366         82943   \n",
       "14               1.0           96.0              203        122222   \n",
       "15               1.0          296.0               19        119230   \n",
       "16               0.0            NaN              397         81707   \n",
       "17               1.0          859.0              571        116111   \n",
       "18               0.0            NaN              168        104838   \n",
       "19               0.0            NaN               97        117355   \n",
       "\n",
       "   weekday_exposition  month_exposition  year_exposition  floor_category  \\\n",
       "0                   3                 3             2019          другой   \n",
       "1                   1                12             2018          первый   \n",
       "2                   3                 8             2015          другой   \n",
       "3                   4                 7             2015          другой   \n",
       "4                   1                 6             2018          другой   \n",
       "5                   0                 9             2018          другой   \n",
       "6                   3                11             2017          другой   \n",
       "7                   3                 4             2019          другой   \n",
       "8                   2                 5             2018          другой   \n",
       "9                   6                 2             2017          другой   \n",
       "10                  3                11             2017          другой   \n",
       "11                  0                 8             2018          другой   \n",
       "12                  3                 6             2016       последний   \n",
       "13                  5                 7             2017       последний   \n",
       "14                  3                 6             2016          первый   \n",
       "15                  5                11             2017          другой   \n",
       "16                  3                11             2017          первый   \n",
       "17                  4                 9             2016          другой   \n",
       "18                  4                 1             2017          другой   \n",
       "19                  2                 1             2019          другой   \n",
       "\n",
       "    living_area_ratio  kitchen_area_ratio  \n",
       "0            0.472222            0.231481  \n",
       "1            0.460396            0.272277  \n",
       "2            0.612500            0.148214  \n",
       "3                 NaN                 NaN  \n",
       "4            0.320000            0.410000  \n",
       "5            0.473684            0.299342  \n",
       "6            0.284182            0.386059  \n",
       "7                 NaN            0.263966  \n",
       "8            0.465320            0.265682  \n",
       "9            0.714754            0.106557  \n",
       "10           0.512626            0.214646  \n",
       "11           0.704545            0.136364  \n",
       "12           0.555556            0.166667  \n",
       "13           0.630841            0.121495  \n",
       "14           0.472222            0.222222  \n",
       "15           0.525641            0.194872  \n",
       "16           0.678049            0.109756  \n",
       "17           0.458333            0.305556  \n",
       "18           0.625806            0.180645  \n",
       "19           0.628099            0.099174  \n",
       "\n",
       "[20 rows x 29 columns]"
      ]
     },
     "execution_count": 34,
     "metadata": {},
     "output_type": "execute_result"
    }
   ],
   "source": [
    "# просмотрим таблицу после всех преобразований\n",
    "df.head(20)"
   ]
  },
  {
   "cell_type": "markdown",
   "metadata": {},
   "source": [
    "## Исследовательский анализ данных"
   ]
  },
  {
   "cell_type": "markdown",
   "metadata": {},
   "source": [
    "Изучим информацию о площади, цене, количестве комнат и высоте потолков."
   ]
  },
  {
   "cell_type": "code",
   "execution_count": 35,
   "metadata": {},
   "outputs": [
    {
     "data": {
      "text/plain": [
       "count    23650.000000\n",
       "mean        60.329069\n",
       "std         35.661808\n",
       "min         12.000000\n",
       "25%         40.000000\n",
       "50%         52.000000\n",
       "75%         69.700000\n",
       "max        900.000000\n",
       "Name: total_area, dtype: float64"
      ]
     },
     "execution_count": 35,
     "metadata": {},
     "output_type": "execute_result"
    },
    {
     "data": {
      "image/png": "[encoded data removed]",
      "text/plain": [
       "<Figure size 720x360 with 1 Axes>"
      ]
     },
     "metadata": {
      "needs_background": "light"
     },
     "output_type": "display_data"
    }
   ],
   "source": [
    "# изучим информацию о площади, построим гистограмму\n",
    "df.plot(y = 'total_area', kind = 'hist', bins = 100, grid=True, figsize = (10,5), range = (0,200))\n",
    "df['total_area'].describe()"
   ]
  },
  {
   "cell_type": "code",
   "execution_count": 36,
   "metadata": {},
   "outputs": [
    {
     "data": {
      "text/plain": [
       "count    2.365000e+04\n",
       "mean     6.541127e+06\n",
       "std      1.089640e+07\n",
       "min      1.219000e+04\n",
       "25%      3.400000e+06\n",
       "50%      4.650000e+06\n",
       "75%      6.799000e+06\n",
       "max      7.630000e+08\n",
       "Name: last_price, dtype: float64"
      ]
     },
     "execution_count": 36,
     "metadata": {},
     "output_type": "execute_result"
    },
    {
     "data": {
      "image/png": "[encoded data removed]",
      "text/plain": [
       "<Figure size 720x360 with 1 Axes>"
      ]
     },
     "metadata": {
      "needs_background": "light"
     },
     "output_type": "display_data"
    }
   ],
   "source": [
    "# изучим информацию о цене, построим гистограмму\n",
    "df.plot(y = 'last_price', kind = 'hist', bins = 100, grid=True, figsize = (10,5), range = (0,20000000))\n",
    "df['last_price'].describe()"
   ]
  },
  {
   "cell_type": "code",
   "execution_count": 37,
   "metadata": {},
   "outputs": [
    {
     "data": {
      "text/plain": [
       "count    23650.000000\n",
       "mean         2.070106\n",
       "std          1.078620\n",
       "min          0.000000\n",
       "25%          1.000000\n",
       "50%          2.000000\n",
       "75%          3.000000\n",
       "max         19.000000\n",
       "Name: rooms, dtype: float64"
      ]
     },
     "execution_count": 37,
     "metadata": {},
     "output_type": "execute_result"
    },
    {
     "data": {
      "image/png": "[encoded data removed]",
      "text/plain": [
       "<Figure size 720x360 with 1 Axes>"
      ]
     },
     "metadata": {
      "needs_background": "light"
     },
     "output_type": "display_data"
    }
   ],
   "source": [
    "# изучим информацию о количестве комнат, построим гистограмму\n",
    "df.plot(y = 'rooms', kind = 'hist', bins = 10, grid=True, figsize = (10,5), range = (0,10))\n",
    "df['rooms'].describe()"
   ]
  },
  {
   "cell_type": "code",
   "execution_count": 38,
   "metadata": {},
   "outputs": [
    {
     "data": {
      "text/plain": [
       "count    14490.000000\n",
       "mean         2.771287\n",
       "std          1.261593\n",
       "min          1.000000\n",
       "25%          2.520000\n",
       "50%          2.650000\n",
       "75%          2.800000\n",
       "max        100.000000\n",
       "Name: ceiling_height, dtype: float64"
      ]
     },
     "execution_count": 38,
     "metadata": {},
     "output_type": "execute_result"
    },
    {
     "data": {
      "image/png": "[encoded data removed]",
      "text/plain": [
       "<Figure size 720x360 with 1 Axes>"
      ]
     },
     "metadata": {
      "needs_background": "light"
     },
     "output_type": "display_data"
    }
   ],
   "source": [
    "# изучим информацию о высоте потолков, построим гистограмму\n",
    "df.plot(y = 'ceiling_height', kind = 'hist', bins = 10, grid=True, figsize = (10,5), range = (2,5))\n",
    "df['ceiling_height'].describe()"
   ]
  },
  {
   "cell_type": "markdown",
   "metadata": {},
   "source": [
    "**Вывод:** \n",
    "\n",
    "1. Минимальная площадь - 12 м2, максимальная - 900 м2, среднее значение - 60 м2, медиана - 52 м2.\n",
    "\n",
    "2. Цены на недвижимость имеют среднее значение в 6,5 млн руб., медиана - 4,7 млн руб.\n",
    "\n",
    "3. Количество комнат - от 1 до 19. Больше всего однокомнатных и двухкомнатных квартир.\n",
    "\n",
    "4. Высота потолков в среднем составляет 2,77 м, медиана - 2,65 м.\n",
    "\n",
    "В данных есть аномальные значения: 0 комнат, высота потолка в 1 или 100 метров, а также цена квартиры в 12190 рублей.\n",
    "\n",
    "Изучим время продажи квартиры."
   ]
  },
  {
   "cell_type": "code",
   "execution_count": 39,
   "metadata": {},
   "outputs": [
    {
     "data": {
      "text/plain": [
       "count    20470.000000\n",
       "mean       180.753200\n",
       "std        219.777916\n",
       "min          1.000000\n",
       "25%         45.000000\n",
       "50%         95.000000\n",
       "75%        231.000000\n",
       "max       1580.000000\n",
       "Name: days_exposition, dtype: float64"
      ]
     },
     "execution_count": 39,
     "metadata": {},
     "output_type": "execute_result"
    },
    {
     "data": {
      "image/png": "[encoded data removed]",
      "text/plain": [
       "<Figure size 432x288 with 1 Axes>"
      ]
     },
     "metadata": {
      "needs_background": "light"
     },
     "output_type": "display_data"
    },
    {
     "data": {
      "image/png": "[encoded data removed]",
      "text/plain": [
       "<Figure size 432x288 with 1 Axes>"
      ]
     },
     "metadata": {
      "needs_background": "light"
     },
     "output_type": "display_data"
    }
   ],
   "source": [
    "# диаграмма размаха\n",
    "plt.boxplot(df[df['days_exposition']!=0]['days_exposition'])\n",
    "plt.ylim(1,1000)\n",
    "# гистограмма\n",
    "df.plot(y = 'days_exposition', kind = 'hist', bins = 30, grid = True, range = (1,1600))\n",
    "# среднее значение, медиана и межквартильный размах\n",
    "df[df['days_exposition']!=0]['days_exposition'].describe()"
   ]
  },
  {
   "cell_type": "markdown",
   "metadata": {},
   "source": [
    "Судя по гистограмме, мы имеем распределение Пуассона. Среднее значение - 180 дней, а медиана - 95 дней. Межквартильный размах - от 22 до 198 дней. Согласно \"ящику с усами\", значения более примерно 500 дней являются выбросами."
   ]
  },
  {
   "cell_type": "code",
   "execution_count": 40,
   "metadata": {},
   "outputs": [
    {
     "data": {
      "text/plain": [
       "<AxesSubplot:ylabel='Frequency'>"
      ]
     },
     "execution_count": 40,
     "metadata": {},
     "output_type": "execute_result"
    },
    {
     "data": {
      "image/png": "[encoded data removed]",
      "text/plain": [
       "<Figure size 432x288 with 1 Axes>"
      ]
     },
     "metadata": {
      "needs_background": "light"
     },
     "output_type": "display_data"
    }
   ],
   "source": [
    "# сделаем гистограмму со значениями от 0 до 200 с кол-вом корзин 100\n",
    "df.plot(y = 'days_exposition', kind = 'hist', bins = 100, grid = True, range = (1,200))"
   ]
  },
  {
   "cell_type": "markdown",
   "metadata": {},
   "source": [
    "На гистограмме видны аномалии. Посмотрим, каким значениям они соответствуют."
   ]
  },
  {
   "cell_type": "code",
   "execution_count": 41,
   "metadata": {},
   "outputs": [
    {
     "data": {
      "text/plain": [
       "0     3180\n",
       "45     879\n",
       "60     538\n",
       "7      234\n",
       "30     208\n",
       "90     203\n",
       "4      174\n",
       "3      158\n",
       "5      152\n",
       "14     148\n",
       "Name: days_exposition, dtype: int64"
      ]
     },
     "execution_count": 41,
     "metadata": {},
     "output_type": "execute_result"
    }
   ],
   "source": [
    "df['days_exposition'].value_counts().head(10)"
   ]
  },
  {
   "cell_type": "markdown",
   "metadata": {},
   "source": [
    "Чаще всего встречается значение в 0 дней - этим значением мы заполнили пропуски.\n",
    "\n",
    "45, 60, 7, 30, 90 дней - довольно популярное количество дней до снятия объявления. Скорей всего, причина в том, что, согласно правилам Яндекс.Недвижимости, именно спустя столько дней объявление начинает считаться неактуальным и автоматически снимается https://yandex.ru/support/realty/owner/home/add-ads-housing.html"
   ]
  },
  {
   "attachments": {
    "%D0%B8%D0%B7%D0%BE%D0%B1%D1%80%D0%B0%D0%B6%D0%B5%D0%BD%D0%B8%D0%B5.png": {
     "image/png": "[encoded data removed]"
    }
   },
   "cell_type": "markdown",
   "metadata": {},
   "source": [
    "![%D0%B8%D0%B7%D0%BE%D0%B1%D1%80%D0%B0%D0%B6%D0%B5%D0%BD%D0%B8%D0%B5.png](attachment:%D0%B8%D0%B7%D0%BE%D0%B1%D1%80%D0%B0%D0%B6%D0%B5%D0%BD%D0%B8%D0%B5.png)"
   ]
  },
  {
   "cell_type": "markdown",
   "metadata": {},
   "source": [
    "Уберем редкие и выбивающиеся значения."
   ]
  },
  {
   "cell_type": "code",
   "execution_count": 42,
   "metadata": {},
   "outputs": [],
   "source": [
    "def del_outliers(df, column, box=0, info=0, x=10, y=10):\n",
    "    '''\n",
    "    Функция для удаления выбросов\n",
    "    Выбросами считаем данные меньше (Q1 - 1,5 * IQR) \n",
    "    и больше (Q3 + 1,5 * IQR), \n",
    "    где IQR - это разница между Q3 и Q1\n",
    "    '''    \n",
    "    \n",
    "    q1 = df[column].quantile(0.25)                 \n",
    "    q3 = df[column].quantile(0.75)\n",
    "    iqr = q3 - q1\n",
    "    result = df.loc[(df[column] >= (q1 - 1.5*iqr)) & (df[column] <= (q3 + 1.5*iqr))]\n",
    "    if info == 1:\n",
    "        print(result[column].describe())\n",
    "    if box == 1:\n",
    "        return result.boxplot([column], figsize=(x,y))\n",
    "    return result"
   ]
  },
  {
   "cell_type": "code",
   "execution_count": 43,
   "metadata": {},
   "outputs": [
    {
     "name": "stdout",
     "output_type": "stream",
     "text": [
      "count    22406.000000\n",
      "mean        54.325685\n",
      "std         19.349559\n",
      "min         12.000000\n",
      "25%         39.400000\n",
      "50%         50.100000\n",
      "75%         65.500000\n",
      "max        114.200000\n",
      "Name: total_area, dtype: float64\n"
     ]
    },
    {
     "data": {
      "text/plain": [
       "(0.0, 120.0)"
      ]
     },
     "execution_count": 43,
     "metadata": {},
     "output_type": "execute_result"
    },
    {
     "data": {
      "image/png": "[encoded data removed]",
      "text/plain": [
       "<Figure size 720x720 with 1 Axes>"
      ]
     },
     "metadata": {
      "needs_background": "light"
     },
     "output_type": "display_data"
    }
   ],
   "source": [
    "# удаляем выбросы в площади\n",
    "del_outliers(df,'total_area',1,1).set_ylim(0,120)"
   ]
  },
  {
   "cell_type": "code",
   "execution_count": 44,
   "metadata": {},
   "outputs": [
    {
     "name": "stdout",
     "output_type": "stream",
     "text": [
      "count    2.159500e+04\n",
      "mean     4.838942e+06\n",
      "std      2.217282e+06\n",
      "min      1.219000e+04\n",
      "25%      3.300000e+06\n",
      "50%      4.400000e+06\n",
      "75%      6.000000e+06\n",
      "max      1.189440e+07\n",
      "Name: last_price, dtype: float64\n"
     ]
    },
    {
     "data": {
      "text/plain": [
       "(0.0, 12000000.0)"
      ]
     },
     "execution_count": 44,
     "metadata": {},
     "output_type": "execute_result"
    },
    {
     "data": {
      "image/png": "[encoded data removed]",
      "text/plain": [
       "<Figure size 720x720 with 1 Axes>"
      ]
     },
     "metadata": {
      "needs_background": "light"
     },
     "output_type": "display_data"
    }
   ],
   "source": [
    "# удаляем выбросы в цене\n",
    "del_outliers(df,'last_price',1,1).set_ylim(0,12000000)"
   ]
  },
  {
   "cell_type": "code",
   "execution_count": 45,
   "metadata": {},
   "outputs": [
    {
     "name": "stdout",
     "output_type": "stream",
     "text": [
      "count    21624.000000\n",
      "mean       103.705651\n",
      "std        111.786139\n",
      "min          0.000000\n",
      "25%         18.000000\n",
      "50%         61.000000\n",
      "75%        153.000000\n",
      "max        462.000000\n",
      "Name: days_exposition, dtype: float64\n"
     ]
    },
    {
     "data": {
      "text/plain": [
       "(0.0, 500.0)"
      ]
     },
     "execution_count": 45,
     "metadata": {},
     "output_type": "execute_result"
    },
    {
     "data": {
      "image/png": "[encoded data removed]",
      "text/plain": [
       "<Figure size 720x720 with 1 Axes>"
      ]
     },
     "metadata": {
      "needs_background": "light"
     },
     "output_type": "display_data"
    }
   ],
   "source": [
    "# удаляем выбросы в количестве дней\n",
    "del_outliers(df,'days_exposition',1,1).set_ylim(0,500)"
   ]
  },
  {
   "cell_type": "code",
   "execution_count": 46,
   "metadata": {},
   "outputs": [
    {
     "name": "stdout",
     "output_type": "stream",
     "text": [
      "count     22559.000000\n",
      "mean      93773.011791\n",
      "std       28631.983672\n",
      "min       20140.000000\n",
      "25%       76123.500000\n",
      "50%       93913.000000\n",
      "75%      111428.000000\n",
      "max      170731.000000\n",
      "Name: price_per_m2, dtype: float64\n"
     ]
    },
    {
     "data": {
      "text/plain": [
       "(0.0, 180000.0)"
      ]
     },
     "execution_count": 46,
     "metadata": {},
     "output_type": "execute_result"
    },
    {
     "data": {
      "image/png": "[encoded data removed]",
      "text/plain": [
       "<Figure size 720x720 with 1 Axes>"
      ]
     },
     "metadata": {
      "needs_background": "light"
     },
     "output_type": "display_data"
    }
   ],
   "source": [
    "# удаляем выбросы в цене за квадратный метр\n",
    "del_outliers(df,'price_per_m2',1,1).set_ylim(0,180000)"
   ]
  },
  {
   "cell_type": "markdown",
   "metadata": {},
   "source": [
    "Изучим, зависит ли цена от квадратного метра, числа комнат, этажа (первого или последнего), удалённости от центра. Также изучим зависимость от даты размещения: дня недели, месяца и года."
   ]
  },
  {
   "cell_type": "code",
   "execution_count": 47,
   "metadata": {},
   "outputs": [
    {
     "data": {
      "text/html": [
       "<div>\n",
       "<style scoped>\n",
       "    .dataframe tbody tr th:only-of-type {\n",
       "        vertical-align: middle;\n",
       "    }\n",
       "\n",
       "    .dataframe tbody tr th {\n",
       "        vertical-align: top;\n",
       "    }\n",
       "\n",
       "    .dataframe thead th {\n",
       "        text-align: right;\n",
       "    }\n",
       "</style>\n",
       "<table border=\"1\" class=\"dataframe\">\n",
       "  <thead>\n",
       "    <tr style=\"text-align: right;\">\n",
       "      <th></th>\n",
       "      <th>price_per_m2</th>\n",
       "      <th>total_area</th>\n",
       "      <th>city_centers_nearest</th>\n",
       "      <th>rooms</th>\n",
       "    </tr>\n",
       "  </thead>\n",
       "  <tbody>\n",
       "    <tr>\n",
       "      <th>price_per_m2</th>\n",
       "      <td>1.000000</td>\n",
       "      <td>0.302202</td>\n",
       "      <td>-0.318099</td>\n",
       "      <td>0.055470</td>\n",
       "    </tr>\n",
       "    <tr>\n",
       "      <th>total_area</th>\n",
       "      <td>0.302202</td>\n",
       "      <td>1.000000</td>\n",
       "      <td>-0.231904</td>\n",
       "      <td>0.758745</td>\n",
       "    </tr>\n",
       "    <tr>\n",
       "      <th>city_centers_nearest</th>\n",
       "      <td>-0.318099</td>\n",
       "      <td>-0.231904</td>\n",
       "      <td>1.000000</td>\n",
       "      <td>-0.184322</td>\n",
       "    </tr>\n",
       "    <tr>\n",
       "      <th>rooms</th>\n",
       "      <td>0.055470</td>\n",
       "      <td>0.758745</td>\n",
       "      <td>-0.184322</td>\n",
       "      <td>1.000000</td>\n",
       "    </tr>\n",
       "  </tbody>\n",
       "</table>\n",
       "</div>"
      ],
      "text/plain": [
       "                      price_per_m2  total_area  city_centers_nearest     rooms\n",
       "price_per_m2              1.000000    0.302202             -0.318099  0.055470\n",
       "total_area                0.302202    1.000000             -0.231904  0.758745\n",
       "city_centers_nearest     -0.318099   -0.231904              1.000000 -0.184322\n",
       "rooms                     0.055470    0.758745             -0.184322  1.000000"
      ]
     },
     "execution_count": 47,
     "metadata": {},
     "output_type": "execute_result"
    }
   ],
   "source": [
    "# построим таблицу корреляции\n",
    "corr_table = df[['price_per_m2',\\\n",
    "           'total_area',\\\n",
    "           'city_centers_nearest',\\\n",
    "           'rooms']].corr()\n",
    "corr_table"
   ]
  },
  {
   "cell_type": "markdown",
   "metadata": {},
   "source": [
    "По таблице корреляции можно увидеть зависимость стоимости от площади - чем больше площадь, тем выше цена."
   ]
  },
  {
   "cell_type": "code",
   "execution_count": 48,
   "metadata": {},
   "outputs": [
    {
     "data": {
      "text/plain": [
       "0.3022016339711138"
      ]
     },
     "execution_count": 48,
     "metadata": {},
     "output_type": "execute_result"
    },
    {
     "data": {
      "image/png": "[encoded data removed]",
      "text/plain": [
       "<Figure size 432x288 with 1 Axes>"
      ]
     },
     "metadata": {
      "needs_background": "light"
     },
     "output_type": "display_data"
    }
   ],
   "source": [
    "# посмотрим зависимость стоимости квадратного метра от общей площади\n",
    "pivot_table_total_area = df.pivot_table(index = 'total_area', values = 'price_per_m2', aggfunc = ['mean', 'count', 'median'])\n",
    "pivot_table_total_area.columns = ['mean', 'count', 'median']\n",
    "pivot_table_total_area.plot(y = 'median', style = 'o')\n",
    "df['total_area'].corr(df['price_per_m2'])"
   ]
  },
  {
   "cell_type": "markdown",
   "metadata": {},
   "source": [
    "Как видим, чем больше площадь,тем слегка выше цена."
   ]
  },
  {
   "cell_type": "code",
   "execution_count": 49,
   "metadata": {},
   "outputs": [
    {
     "data": {
      "text/plain": [
       "0.055470370370160955"
      ]
     },
     "execution_count": 49,
     "metadata": {},
     "output_type": "execute_result"
    },
    {
     "data": {
      "image/png": "[encoded data removed]",
      "text/plain": [
       "<Figure size 432x288 with 1 Axes>"
      ]
     },
     "metadata": {
      "needs_background": "light"
     },
     "output_type": "display_data"
    }
   ],
   "source": [
    "# посмотрим зависимость стоимости квадратного метра от количества комнат\n",
    "pivot_table_rooms = df.pivot_table(index = 'rooms', values = 'price_per_m2', aggfunc = ['mean', 'count', 'median'])\n",
    "pivot_table_rooms.columns = ['mean', 'count', 'median']\n",
    "pivot_table_rooms.query('count > 50').plot(y = 'median')\n",
    "df['rooms'].corr(df['price_per_m2'])"
   ]
  },
  {
   "cell_type": "markdown",
   "metadata": {},
   "source": [
    "Дешевле всего стоят трехкомнатные квартиры."
   ]
  },
  {
   "cell_type": "code",
   "execution_count": 50,
   "metadata": {},
   "outputs": [
    {
     "data": {
      "text/html": [
       "<div>\n",
       "<style scoped>\n",
       "    .dataframe tbody tr th:only-of-type {\n",
       "        vertical-align: middle;\n",
       "    }\n",
       "\n",
       "    .dataframe tbody tr th {\n",
       "        vertical-align: top;\n",
       "    }\n",
       "\n",
       "    .dataframe thead th {\n",
       "        text-align: right;\n",
       "    }\n",
       "</style>\n",
       "<table border=\"1\" class=\"dataframe\">\n",
       "  <thead>\n",
       "    <tr style=\"text-align: right;\">\n",
       "      <th></th>\n",
       "      <th>mean</th>\n",
       "      <th>count</th>\n",
       "      <th>median</th>\n",
       "    </tr>\n",
       "    <tr>\n",
       "      <th>floor_category</th>\n",
       "      <th></th>\n",
       "      <th></th>\n",
       "      <th></th>\n",
       "    </tr>\n",
       "  </thead>\n",
       "  <tbody>\n",
       "    <tr>\n",
       "      <th>другой</th>\n",
       "      <td>103507.587891</td>\n",
       "      <td>17408</td>\n",
       "      <td>98305.0</td>\n",
       "    </tr>\n",
       "    <tr>\n",
       "      <th>первый</th>\n",
       "      <td>81988.862637</td>\n",
       "      <td>2912</td>\n",
       "      <td>81236.5</td>\n",
       "    </tr>\n",
       "    <tr>\n",
       "      <th>последний</th>\n",
       "      <td>93378.509009</td>\n",
       "      <td>3330</td>\n",
       "      <td>87763.0</td>\n",
       "    </tr>\n",
       "  </tbody>\n",
       "</table>\n",
       "</div>"
      ],
      "text/plain": [
       "                         mean  count   median\n",
       "floor_category                               \n",
       "другой          103507.587891  17408  98305.0\n",
       "первый           81988.862637   2912  81236.5\n",
       "последний        93378.509009   3330  87763.0"
      ]
     },
     "execution_count": 50,
     "metadata": {},
     "output_type": "execute_result"
    },
    {
     "data": {
      "image/png": "[encoded data removed]",
      "text/plain": [
       "<Figure size 432x288 with 1 Axes>"
      ]
     },
     "metadata": {
      "needs_background": "light"
     },
     "output_type": "display_data"
    }
   ],
   "source": [
    "# посмотрим зависимость стоимости квадратного метра от этажа\n",
    "pivot_table_floor_category = df.pivot_table(index = 'floor_category', values = 'price_per_m2', aggfunc = ['mean', 'count', 'median'])\n",
    "pivot_table_floor_category.columns = ['mean', 'count', 'median']\n",
    "pivot_table_floor_category.plot(y='median', kind='bar')\n",
    "pivot_table_floor_category"
   ]
  },
  {
   "cell_type": "markdown",
   "metadata": {},
   "source": [
    "Квартиры на первом этаже стоят дешевле, чем на последнем. Квартиры, которые расположены не на первом и не последнем этаже, стоят больше всего."
   ]
  },
  {
   "cell_type": "code",
   "execution_count": 51,
   "metadata": {},
   "outputs": [
    {
     "data": {
      "text/plain": [
       "-0.31809935794061367"
      ]
     },
     "execution_count": 51,
     "metadata": {},
     "output_type": "execute_result"
    },
    {
     "data": {
      "image/png": "[encoded data removed]",
      "text/plain": [
       "<Figure size 432x288 with 1 Axes>"
      ]
     },
     "metadata": {
      "needs_background": "light"
     },
     "output_type": "display_data"
    }
   ],
   "source": [
    "# посмотрим зависимость стоимости квадратного метра от удаленности от центра\n",
    "df.plot(kind = 'scatter', y = 'price_per_m2', x = 'city_centers_nearest', alpha = 0.1)\n",
    "df['city_centers_nearest'].corr(df['price_per_m2'])"
   ]
  },
  {
   "cell_type": "markdown",
   "metadata": {},
   "source": [
    "Чем ближе к центру города, тем выше стоимость. Можно наблюдать пик в райне 4-7 км от центра - скорей всего, это спальные районы, в которых стоимость будет наибольшая."
   ]
  },
  {
   "cell_type": "code",
   "execution_count": 52,
   "metadata": {},
   "outputs": [
    {
     "data": {
      "text/html": [
       "<div>\n",
       "<style scoped>\n",
       "    .dataframe tbody tr th:only-of-type {\n",
       "        vertical-align: middle;\n",
       "    }\n",
       "\n",
       "    .dataframe tbody tr th {\n",
       "        vertical-align: top;\n",
       "    }\n",
       "\n",
       "    .dataframe thead th {\n",
       "        text-align: right;\n",
       "    }\n",
       "</style>\n",
       "<table border=\"1\" class=\"dataframe\">\n",
       "  <thead>\n",
       "    <tr style=\"text-align: right;\">\n",
       "      <th></th>\n",
       "      <th>mean</th>\n",
       "      <th>count</th>\n",
       "      <th>median</th>\n",
       "    </tr>\n",
       "    <tr>\n",
       "      <th>weekday_exposition</th>\n",
       "      <th></th>\n",
       "      <th></th>\n",
       "      <th></th>\n",
       "    </tr>\n",
       "  </thead>\n",
       "  <tbody>\n",
       "    <tr>\n",
       "      <th>1</th>\n",
       "      <td>99724.102036</td>\n",
       "      <td>4175</td>\n",
       "      <td>95634.0</td>\n",
       "    </tr>\n",
       "    <tr>\n",
       "      <th>2</th>\n",
       "      <td>99605.522945</td>\n",
       "      <td>3966</td>\n",
       "      <td>95473.0</td>\n",
       "    </tr>\n",
       "    <tr>\n",
       "      <th>3</th>\n",
       "      <td>100192.723985</td>\n",
       "      <td>4286</td>\n",
       "      <td>95152.0</td>\n",
       "    </tr>\n",
       "    <tr>\n",
       "      <th>0</th>\n",
       "      <td>99469.933167</td>\n",
       "      <td>3606</td>\n",
       "      <td>94703.0</td>\n",
       "    </tr>\n",
       "    <tr>\n",
       "      <th>4</th>\n",
       "      <td>98986.768788</td>\n",
       "      <td>3992</td>\n",
       "      <td>94607.5</td>\n",
       "    </tr>\n",
       "    <tr>\n",
       "      <th>6</th>\n",
       "      <td>97762.693262</td>\n",
       "      <td>1692</td>\n",
       "      <td>94594.0</td>\n",
       "    </tr>\n",
       "    <tr>\n",
       "      <th>5</th>\n",
       "      <td>99065.810140</td>\n",
       "      <td>1933</td>\n",
       "      <td>93548.0</td>\n",
       "    </tr>\n",
       "  </tbody>\n",
       "</table>\n",
       "</div>"
      ],
      "text/plain": [
       "                             mean  count   median\n",
       "weekday_exposition                               \n",
       "1                    99724.102036   4175  95634.0\n",
       "2                    99605.522945   3966  95473.0\n",
       "3                   100192.723985   4286  95152.0\n",
       "0                    99469.933167   3606  94703.0\n",
       "4                    98986.768788   3992  94607.5\n",
       "6                    97762.693262   1692  94594.0\n",
       "5                    99065.810140   1933  93548.0"
      ]
     },
     "execution_count": 52,
     "metadata": {},
     "output_type": "execute_result"
    },
    {
     "data": {
      "image/png": "[encoded data removed]",
      "text/plain": [
       "<Figure size 432x288 with 1 Axes>"
      ]
     },
     "metadata": {
      "needs_background": "light"
     },
     "output_type": "display_data"
    }
   ],
   "source": [
    "# посмотрим зависимость стоимости квадратного метра от дня недели\n",
    "pivot_table_weekday_exposition = df.pivot_table(index = 'weekday_exposition', values = 'price_per_m2', aggfunc = ['mean', 'count', 'median'])\n",
    "pivot_table_weekday_exposition.columns = ['mean', 'count', 'median']\n",
    "pivot_table_weekday_exposition.plot(y = 'median')\n",
    "pivot_table_weekday_exposition.sort_values('median', ascending = False)"
   ]
  },
  {
   "cell_type": "markdown",
   "metadata": {},
   "source": [
    "Дешевле всего стоят квартиры, объявления о которых опубликованы в субботу, а дороже всего - во вторник."
   ]
  },
  {
   "cell_type": "code",
   "execution_count": 53,
   "metadata": {},
   "outputs": [
    {
     "data": {
      "text/html": [
       "<div>\n",
       "<style scoped>\n",
       "    .dataframe tbody tr th:only-of-type {\n",
       "        vertical-align: middle;\n",
       "    }\n",
       "\n",
       "    .dataframe tbody tr th {\n",
       "        vertical-align: top;\n",
       "    }\n",
       "\n",
       "    .dataframe thead th {\n",
       "        text-align: right;\n",
       "    }\n",
       "</style>\n",
       "<table border=\"1\" class=\"dataframe\">\n",
       "  <thead>\n",
       "    <tr style=\"text-align: right;\">\n",
       "      <th></th>\n",
       "      <th>mean</th>\n",
       "      <th>count</th>\n",
       "      <th>median</th>\n",
       "    </tr>\n",
       "    <tr>\n",
       "      <th>month_exposition</th>\n",
       "      <th></th>\n",
       "      <th></th>\n",
       "      <th></th>\n",
       "    </tr>\n",
       "  </thead>\n",
       "  <tbody>\n",
       "    <tr>\n",
       "      <th>4</th>\n",
       "      <td>101956.240624</td>\n",
       "      <td>2373</td>\n",
       "      <td>96451.0</td>\n",
       "    </tr>\n",
       "    <tr>\n",
       "      <th>8</th>\n",
       "      <td>100146.797359</td>\n",
       "      <td>1742</td>\n",
       "      <td>96102.5</td>\n",
       "    </tr>\n",
       "    <tr>\n",
       "      <th>11</th>\n",
       "      <td>99253.997043</td>\n",
       "      <td>2367</td>\n",
       "      <td>95625.0</td>\n",
       "    </tr>\n",
       "    <tr>\n",
       "      <th>9</th>\n",
       "      <td>100490.366347</td>\n",
       "      <td>1979</td>\n",
       "      <td>95608.0</td>\n",
       "    </tr>\n",
       "    <tr>\n",
       "      <th>3</th>\n",
       "      <td>98997.391170</td>\n",
       "      <td>2582</td>\n",
       "      <td>95293.0</td>\n",
       "    </tr>\n",
       "    <tr>\n",
       "      <th>1</th>\n",
       "      <td>99837.991952</td>\n",
       "      <td>1491</td>\n",
       "      <td>95209.0</td>\n",
       "    </tr>\n",
       "    <tr>\n",
       "      <th>7</th>\n",
       "      <td>99650.388757</td>\n",
       "      <td>1690</td>\n",
       "      <td>95023.5</td>\n",
       "    </tr>\n",
       "    <tr>\n",
       "      <th>2</th>\n",
       "      <td>98769.330049</td>\n",
       "      <td>2639</td>\n",
       "      <td>95000.0</td>\n",
       "    </tr>\n",
       "    <tr>\n",
       "      <th>12</th>\n",
       "      <td>99501.177656</td>\n",
       "      <td>1638</td>\n",
       "      <td>94238.0</td>\n",
       "    </tr>\n",
       "    <tr>\n",
       "      <th>10</th>\n",
       "      <td>97968.678437</td>\n",
       "      <td>2124</td>\n",
       "      <td>94212.0</td>\n",
       "    </tr>\n",
       "    <tr>\n",
       "      <th>5</th>\n",
       "      <td>98535.839370</td>\n",
       "      <td>1270</td>\n",
       "      <td>92857.0</td>\n",
       "    </tr>\n",
       "    <tr>\n",
       "      <th>6</th>\n",
       "      <td>97788.900285</td>\n",
       "      <td>1755</td>\n",
       "      <td>92857.0</td>\n",
       "    </tr>\n",
       "  </tbody>\n",
       "</table>\n",
       "</div>"
      ],
      "text/plain": [
       "                           mean  count   median\n",
       "month_exposition                               \n",
       "4                 101956.240624   2373  96451.0\n",
       "8                 100146.797359   1742  96102.5\n",
       "11                 99253.997043   2367  95625.0\n",
       "9                 100490.366347   1979  95608.0\n",
       "3                  98997.391170   2582  95293.0\n",
       "1                  99837.991952   1491  95209.0\n",
       "7                  99650.388757   1690  95023.5\n",
       "2                  98769.330049   2639  95000.0\n",
       "12                 99501.177656   1638  94238.0\n",
       "10                 97968.678437   2124  94212.0\n",
       "5                  98535.839370   1270  92857.0\n",
       "6                  97788.900285   1755  92857.0"
      ]
     },
     "execution_count": 53,
     "metadata": {},
     "output_type": "execute_result"
    },
    {
     "data": {
      "image/png": "[encoded data removed]",
      "text/plain": [
       "<Figure size 432x288 with 1 Axes>"
      ]
     },
     "metadata": {
      "needs_background": "light"
     },
     "output_type": "display_data"
    }
   ],
   "source": [
    "# посмотрим зависимость стоимости квадратного метра от месяца\n",
    "pivot_table_month_exposition = df.pivot_table(index = 'month_exposition', values = 'price_per_m2', aggfunc = ['mean', 'count', 'median'])\n",
    "pivot_table_month_exposition.columns = ['mean', 'count', 'median']\n",
    "pivot_table_month_exposition.plot(y = 'median')\n",
    "\n",
    "pivot_table_month_exposition.sort_values('median', ascending = False)"
   ]
  },
  {
   "cell_type": "markdown",
   "metadata": {},
   "source": [
    "Дешевле всего квартиры в мае и июне, а дороже всего - в апреле и августе."
   ]
  },
  {
   "cell_type": "code",
   "execution_count": 54,
   "metadata": {},
   "outputs": [
    {
     "data": {
      "text/html": [
       "<div>\n",
       "<style scoped>\n",
       "    .dataframe tbody tr th:only-of-type {\n",
       "        vertical-align: middle;\n",
       "    }\n",
       "\n",
       "    .dataframe tbody tr th {\n",
       "        vertical-align: top;\n",
       "    }\n",
       "\n",
       "    .dataframe thead th {\n",
       "        text-align: right;\n",
       "    }\n",
       "</style>\n",
       "<table border=\"1\" class=\"dataframe\">\n",
       "  <thead>\n",
       "    <tr style=\"text-align: right;\">\n",
       "      <th></th>\n",
       "      <th>mean</th>\n",
       "      <th>count</th>\n",
       "      <th>median</th>\n",
       "    </tr>\n",
       "    <tr>\n",
       "      <th>year_exposition</th>\n",
       "      <th></th>\n",
       "      <th></th>\n",
       "      <th></th>\n",
       "    </tr>\n",
       "  </thead>\n",
       "  <tbody>\n",
       "    <tr>\n",
       "      <th>2014</th>\n",
       "      <td>124301.926471</td>\n",
       "      <td>136</td>\n",
       "      <td>106901.5</td>\n",
       "    </tr>\n",
       "    <tr>\n",
       "      <th>2019</th>\n",
       "      <td>107123.332060</td>\n",
       "      <td>2879</td>\n",
       "      <td>103305.0</td>\n",
       "    </tr>\n",
       "    <tr>\n",
       "      <th>2018</th>\n",
       "      <td>97799.615014</td>\n",
       "      <td>8512</td>\n",
       "      <td>95704.0</td>\n",
       "    </tr>\n",
       "    <tr>\n",
       "      <th>2015</th>\n",
       "      <td>104718.653026</td>\n",
       "      <td>1173</td>\n",
       "      <td>93396.0</td>\n",
       "    </tr>\n",
       "    <tr>\n",
       "      <th>2017</th>\n",
       "      <td>97636.917776</td>\n",
       "      <td>8185</td>\n",
       "      <td>92569.0</td>\n",
       "    </tr>\n",
       "    <tr>\n",
       "      <th>2016</th>\n",
       "      <td>98294.930561</td>\n",
       "      <td>2765</td>\n",
       "      <td>91666.0</td>\n",
       "    </tr>\n",
       "  </tbody>\n",
       "</table>\n",
       "</div>"
      ],
      "text/plain": [
       "                          mean  count    median\n",
       "year_exposition                                \n",
       "2014             124301.926471    136  106901.5\n",
       "2019             107123.332060   2879  103305.0\n",
       "2018              97799.615014   8512   95704.0\n",
       "2015             104718.653026   1173   93396.0\n",
       "2017              97636.917776   8185   92569.0\n",
       "2016              98294.930561   2765   91666.0"
      ]
     },
     "execution_count": 54,
     "metadata": {},
     "output_type": "execute_result"
    },
    {
     "data": {
      "image/png": "[encoded data removed]",
      "text/plain": [
       "<Figure size 432x288 with 1 Axes>"
      ]
     },
     "metadata": {
      "needs_background": "light"
     },
     "output_type": "display_data"
    }
   ],
   "source": [
    "# посмотрим зависимость стоимости квадратного метра от года\n",
    "pivot_table_year_exposition = df.pivot_table(index = 'year_exposition', values = 'price_per_m2', aggfunc = ['mean', 'count', 'median'])\n",
    "pivot_table_year_exposition.columns = ['mean', 'count', 'median']\n",
    "pivot_table_year_exposition.plot(y = 'median')\n",
    "\n",
    "pivot_table_year_exposition.sort_values('median', ascending = False)"
   ]
  },
  {
   "cell_type": "markdown",
   "metadata": {},
   "source": [
    "Никаких сюрпризов, все согласно росту экономики РФ в 2014-2019 годах."
   ]
  },
  {
   "cell_type": "markdown",
   "metadata": {},
   "source": [
    "Выберем 10 населённых пунктов с наибольшим числом объявлений. Посчитаем среднюю цену квадратного метра в этих населённых пунктах. Выделим населённые пункты с самой высокой и низкой стоимостью жилья."
   ]
  },
  {
   "cell_type": "code",
   "execution_count": 55,
   "metadata": {},
   "outputs": [
    {
     "data": {
      "text/html": [
       "<div>\n",
       "<style scoped>\n",
       "    .dataframe tbody tr th:only-of-type {\n",
       "        vertical-align: middle;\n",
       "    }\n",
       "\n",
       "    .dataframe tbody tr th {\n",
       "        vertical-align: top;\n",
       "    }\n",
       "\n",
       "    .dataframe thead th {\n",
       "        text-align: right;\n",
       "    }\n",
       "</style>\n",
       "<table border=\"1\" class=\"dataframe\">\n",
       "  <thead>\n",
       "    <tr style=\"text-align: right;\">\n",
       "      <th></th>\n",
       "      <th>count</th>\n",
       "      <th>mean</th>\n",
       "    </tr>\n",
       "    <tr>\n",
       "      <th>locality_name</th>\n",
       "      <th></th>\n",
       "      <th></th>\n",
       "    </tr>\n",
       "  </thead>\n",
       "  <tbody>\n",
       "    <tr>\n",
       "      <th>санкт-петербург</th>\n",
       "      <td>15721</td>\n",
       "      <td>114848.565231</td>\n",
       "    </tr>\n",
       "    <tr>\n",
       "      <th>поселок мурино</th>\n",
       "      <td>556</td>\n",
       "      <td>85681.305755</td>\n",
       "    </tr>\n",
       "    <tr>\n",
       "      <th>поселок шушары</th>\n",
       "      <td>440</td>\n",
       "      <td>78676.904545</td>\n",
       "    </tr>\n",
       "    <tr>\n",
       "      <th>всеволожск</th>\n",
       "      <td>398</td>\n",
       "      <td>68654.007538</td>\n",
       "    </tr>\n",
       "    <tr>\n",
       "      <th>пушкин</th>\n",
       "      <td>369</td>\n",
       "      <td>103125.373984</td>\n",
       "    </tr>\n",
       "    <tr>\n",
       "      <th>колпино</th>\n",
       "      <td>338</td>\n",
       "      <td>75424.150888</td>\n",
       "    </tr>\n",
       "    <tr>\n",
       "      <th>поселок парголово</th>\n",
       "      <td>327</td>\n",
       "      <td>90175.489297</td>\n",
       "    </tr>\n",
       "    <tr>\n",
       "      <th>гатчина</th>\n",
       "      <td>307</td>\n",
       "      <td>68745.693811</td>\n",
       "    </tr>\n",
       "    <tr>\n",
       "      <th>деревня кудрово</th>\n",
       "      <td>299</td>\n",
       "      <td>92473.086957</td>\n",
       "    </tr>\n",
       "    <tr>\n",
       "      <th>выборг</th>\n",
       "      <td>237</td>\n",
       "      <td>58141.489451</td>\n",
       "    </tr>\n",
       "  </tbody>\n",
       "</table>\n",
       "</div>"
      ],
      "text/plain": [
       "                   count           mean\n",
       "locality_name                          \n",
       "санкт-петербург    15721  114848.565231\n",
       "поселок мурино       556   85681.305755\n",
       "поселок шушары       440   78676.904545\n",
       "всеволожск           398   68654.007538\n",
       "пушкин               369  103125.373984\n",
       "колпино              338   75424.150888\n",
       "поселок парголово    327   90175.489297\n",
       "гатчина              307   68745.693811\n",
       "деревня кудрово      299   92473.086957\n",
       "выборг               237   58141.489451"
      ]
     },
     "execution_count": 55,
     "metadata": {},
     "output_type": "execute_result"
    }
   ],
   "source": [
    "# найдем 10 населенный пунктов с наибольшим числом объявлений\n",
    "locality_pivot_table = df.pivot_table(index = 'locality_name', values = 'price_per_m2', aggfunc=['count', 'mean'])\n",
    "locality_pivot_table.columns = ['count', 'mean']\n",
    "locality_pivot_table = locality_pivot_table.sort_values('count', ascending = False).head(10)\n",
    "locality_pivot_table"
   ]
  },
  {
   "cell_type": "code",
   "execution_count": 56,
   "metadata": {},
   "outputs": [
    {
     "data": {
      "text/html": [
       "<div>\n",
       "<style scoped>\n",
       "    .dataframe tbody tr th:only-of-type {\n",
       "        vertical-align: middle;\n",
       "    }\n",
       "\n",
       "    .dataframe tbody tr th {\n",
       "        vertical-align: top;\n",
       "    }\n",
       "\n",
       "    .dataframe thead th {\n",
       "        text-align: right;\n",
       "    }\n",
       "</style>\n",
       "<table border=\"1\" class=\"dataframe\">\n",
       "  <thead>\n",
       "    <tr style=\"text-align: right;\">\n",
       "      <th></th>\n",
       "      <th>count</th>\n",
       "      <th>mean</th>\n",
       "    </tr>\n",
       "    <tr>\n",
       "      <th>locality_name</th>\n",
       "      <th></th>\n",
       "      <th></th>\n",
       "    </tr>\n",
       "  </thead>\n",
       "  <tbody>\n",
       "    <tr>\n",
       "      <th>санкт-петербург</th>\n",
       "      <td>15721</td>\n",
       "      <td>114848.565231</td>\n",
       "    </tr>\n",
       "  </tbody>\n",
       "</table>\n",
       "</div>"
      ],
      "text/plain": [
       "                 count           mean\n",
       "locality_name                        \n",
       "санкт-петербург  15721  114848.565231"
      ]
     },
     "execution_count": 56,
     "metadata": {},
     "output_type": "execute_result"
    }
   ],
   "source": [
    "# самая высокая стоимость\n",
    "locality_pivot_table[locality_pivot_table['mean']==locality_pivot_table['mean'].max()]"
   ]
  },
  {
   "cell_type": "code",
   "execution_count": 57,
   "metadata": {},
   "outputs": [
    {
     "data": {
      "text/html": [
       "<div>\n",
       "<style scoped>\n",
       "    .dataframe tbody tr th:only-of-type {\n",
       "        vertical-align: middle;\n",
       "    }\n",
       "\n",
       "    .dataframe tbody tr th {\n",
       "        vertical-align: top;\n",
       "    }\n",
       "\n",
       "    .dataframe thead th {\n",
       "        text-align: right;\n",
       "    }\n",
       "</style>\n",
       "<table border=\"1\" class=\"dataframe\">\n",
       "  <thead>\n",
       "    <tr style=\"text-align: right;\">\n",
       "      <th></th>\n",
       "      <th>count</th>\n",
       "      <th>mean</th>\n",
       "    </tr>\n",
       "    <tr>\n",
       "      <th>locality_name</th>\n",
       "      <th></th>\n",
       "      <th></th>\n",
       "    </tr>\n",
       "  </thead>\n",
       "  <tbody>\n",
       "    <tr>\n",
       "      <th>выборг</th>\n",
       "      <td>237</td>\n",
       "      <td>58141.489451</td>\n",
       "    </tr>\n",
       "  </tbody>\n",
       "</table>\n",
       "</div>"
      ],
      "text/plain": [
       "               count          mean\n",
       "locality_name                     \n",
       "выборг           237  58141.489451"
      ]
     },
     "execution_count": 57,
     "metadata": {},
     "output_type": "execute_result"
    }
   ],
   "source": [
    "# самая низкая стоимость\n",
    "locality_pivot_table[locality_pivot_table['mean']==locality_pivot_table['mean'].min()]"
   ]
  },
  {
   "cell_type": "markdown",
   "metadata": {},
   "source": [
    "Видим, что самая высокая стоимость жилья из 10 населённых пунктов с самым большим количеством объявлений - в Санкт-Петербурге, тогда как самая низкая стоимость - в Выборге."
   ]
  },
  {
   "cell_type": "markdown",
   "metadata": {},
   "source": [
    "Изучим предложения квартир: для каждой квартиры есть информация о расстоянии до центра. Выделим квартиры в Санкт-Петербурге и выясним, какая область входит в центр."
   ]
  },
  {
   "cell_type": "code",
   "execution_count": 58,
   "metadata": {},
   "outputs": [
    {
     "data": {
      "text/html": [
       "<div>\n",
       "<style scoped>\n",
       "    .dataframe tbody tr th:only-of-type {\n",
       "        vertical-align: middle;\n",
       "    }\n",
       "\n",
       "    .dataframe tbody tr th {\n",
       "        vertical-align: top;\n",
       "    }\n",
       "\n",
       "    .dataframe thead th {\n",
       "        text-align: right;\n",
       "    }\n",
       "</style>\n",
       "<table border=\"1\" class=\"dataframe\">\n",
       "  <thead>\n",
       "    <tr style=\"text-align: right;\">\n",
       "      <th></th>\n",
       "      <th>price_per_m2</th>\n",
       "    </tr>\n",
       "    <tr>\n",
       "      <th>city_centers_nearest_km</th>\n",
       "      <th></th>\n",
       "    </tr>\n",
       "  </thead>\n",
       "  <tbody>\n",
       "    <tr>\n",
       "      <th>0</th>\n",
       "      <td>187323.674419</td>\n",
       "    </tr>\n",
       "    <tr>\n",
       "      <th>1</th>\n",
       "      <td>166603.312500</td>\n",
       "    </tr>\n",
       "    <tr>\n",
       "      <th>2</th>\n",
       "      <td>146662.420195</td>\n",
       "    </tr>\n",
       "    <tr>\n",
       "      <th>3</th>\n",
       "      <td>129415.891635</td>\n",
       "    </tr>\n",
       "    <tr>\n",
       "      <th>4</th>\n",
       "      <td>137475.039691</td>\n",
       "    </tr>\n",
       "    <tr>\n",
       "      <th>5</th>\n",
       "      <td>146978.789337</td>\n",
       "    </tr>\n",
       "    <tr>\n",
       "      <th>6</th>\n",
       "      <td>152277.455319</td>\n",
       "    </tr>\n",
       "    <tr>\n",
       "      <th>7</th>\n",
       "      <td>141399.287469</td>\n",
       "    </tr>\n",
       "    <tr>\n",
       "      <th>8</th>\n",
       "      <td>120580.929851</td>\n",
       "    </tr>\n",
       "    <tr>\n",
       "      <th>9</th>\n",
       "      <td>110012.108696</td>\n",
       "    </tr>\n",
       "    <tr>\n",
       "      <th>10</th>\n",
       "      <td>111640.850877</td>\n",
       "    </tr>\n",
       "    <tr>\n",
       "      <th>11</th>\n",
       "      <td>106790.438163</td>\n",
       "    </tr>\n",
       "    <tr>\n",
       "      <th>12</th>\n",
       "      <td>108295.312211</td>\n",
       "    </tr>\n",
       "    <tr>\n",
       "      <th>13</th>\n",
       "      <td>107208.716120</td>\n",
       "    </tr>\n",
       "    <tr>\n",
       "      <th>14</th>\n",
       "      <td>104986.032407</td>\n",
       "    </tr>\n",
       "    <tr>\n",
       "      <th>15</th>\n",
       "      <td>101882.678077</td>\n",
       "    </tr>\n",
       "    <tr>\n",
       "      <th>16</th>\n",
       "      <td>100085.150995</td>\n",
       "    </tr>\n",
       "    <tr>\n",
       "      <th>17</th>\n",
       "      <td>94095.434457</td>\n",
       "    </tr>\n",
       "    <tr>\n",
       "      <th>18</th>\n",
       "      <td>94831.528736</td>\n",
       "    </tr>\n",
       "    <tr>\n",
       "      <th>19</th>\n",
       "      <td>95433.951220</td>\n",
       "    </tr>\n",
       "    <tr>\n",
       "      <th>20</th>\n",
       "      <td>107045.773810</td>\n",
       "    </tr>\n",
       "    <tr>\n",
       "      <th>21</th>\n",
       "      <td>91492.220513</td>\n",
       "    </tr>\n",
       "    <tr>\n",
       "      <th>22</th>\n",
       "      <td>88714.237410</td>\n",
       "    </tr>\n",
       "    <tr>\n",
       "      <th>23</th>\n",
       "      <td>92720.233333</td>\n",
       "    </tr>\n",
       "    <tr>\n",
       "      <th>24</th>\n",
       "      <td>82439.909091</td>\n",
       "    </tr>\n",
       "    <tr>\n",
       "      <th>25</th>\n",
       "      <td>91135.600000</td>\n",
       "    </tr>\n",
       "    <tr>\n",
       "      <th>26</th>\n",
       "      <td>75171.333333</td>\n",
       "    </tr>\n",
       "    <tr>\n",
       "      <th>27</th>\n",
       "      <td>132115.000000</td>\n",
       "    </tr>\n",
       "    <tr>\n",
       "      <th>28</th>\n",
       "      <td>81840.200000</td>\n",
       "    </tr>\n",
       "    <tr>\n",
       "      <th>29</th>\n",
       "      <td>62481.666667</td>\n",
       "    </tr>\n",
       "  </tbody>\n",
       "</table>\n",
       "</div>"
      ],
      "text/plain": [
       "                          price_per_m2\n",
       "city_centers_nearest_km               \n",
       "0                        187323.674419\n",
       "1                        166603.312500\n",
       "2                        146662.420195\n",
       "3                        129415.891635\n",
       "4                        137475.039691\n",
       "5                        146978.789337\n",
       "6                        152277.455319\n",
       "7                        141399.287469\n",
       "8                        120580.929851\n",
       "9                        110012.108696\n",
       "10                       111640.850877\n",
       "11                       106790.438163\n",
       "12                       108295.312211\n",
       "13                       107208.716120\n",
       "14                       104986.032407\n",
       "15                       101882.678077\n",
       "16                       100085.150995\n",
       "17                        94095.434457\n",
       "18                        94831.528736\n",
       "19                        95433.951220\n",
       "20                       107045.773810\n",
       "21                        91492.220513\n",
       "22                        88714.237410\n",
       "23                        92720.233333\n",
       "24                        82439.909091\n",
       "25                        91135.600000\n",
       "26                        75171.333333\n",
       "27                       132115.000000\n",
       "28                        81840.200000\n",
       "29                        62481.666667"
      ]
     },
     "execution_count": 58,
     "metadata": {},
     "output_type": "execute_result"
    },
    {
     "data": {
      "image/png": "[encoded data removed]",
      "text/plain": [
       "<Figure size 432x288 with 1 Axes>"
      ]
     },
     "metadata": {
      "needs_background": "light"
     },
     "output_type": "display_data"
    }
   ],
   "source": [
    "# создаем столбец с расстоянием до центра в километрах\n",
    "df['city_centers_nearest_km'] = df['city_centers_nearest']/1000\n",
    "df['city_centers_nearest_km'] = df['city_centers_nearest_km'].fillna(1000).astype('int')\n",
    "# посчитаем среднюю цену для каждого километра\n",
    "pivot_table_km = df.query('locality_name == \"санкт-петербург\" and city_centers_nearest_km != 1000').pivot_table(index = 'city_centers_nearest_km', values = 'price_per_m2', aggfunc = 'mean')\n",
    "# построим график\n",
    "pivot_table_km.plot()\n",
    "pivot_table_km"
   ]
  },
  {
   "cell_type": "markdown",
   "metadata": {},
   "source": [
    "Центром города будем считать радиус в 7 километров."
   ]
  },
  {
   "cell_type": "code",
   "execution_count": 59,
   "metadata": {},
   "outputs": [],
   "source": [
    "# создадим датафрейм, выбрав квартиры в центре Питера\n",
    "center_spb = df.query('city_centers_nearest_km <= 7 and locality_name == \"санкт-петербург\"')"
   ]
  },
  {
   "cell_type": "code",
   "execution_count": 60,
   "metadata": {},
   "outputs": [
    {
     "data": {
      "text/plain": [
       "count    3712.000000\n",
       "mean       92.328303\n",
       "std        60.531664\n",
       "min        12.000000\n",
       "25%        56.000000\n",
       "50%        77.760000\n",
       "75%       108.725000\n",
       "max       900.000000\n",
       "Name: total_area, dtype: float64"
      ]
     },
     "execution_count": 60,
     "metadata": {},
     "output_type": "execute_result"
    },
    {
     "data": {
      "image/png": "[encoded data removed]",
      "text/plain": [
       "<Figure size 720x360 with 1 Axes>"
      ]
     },
     "metadata": {
      "needs_background": "light"
     },
     "output_type": "display_data"
    }
   ],
   "source": [
    "# изучим информацию о площади, построим гистограмму\n",
    "center_spb.plot(y = 'total_area', kind = 'hist', bins = 100, grid=True, figsize = (10,5), range = (0,200))\n",
    "center_spb['total_area'].describe()"
   ]
  },
  {
   "cell_type": "code",
   "execution_count": 61,
   "metadata": {},
   "outputs": [
    {
     "data": {
      "text/plain": [
       "count    3.712000e+03\n",
       "mean     1.472962e+07\n",
       "std      2.470451e+07\n",
       "min      1.600000e+06\n",
       "25%      6.590000e+06\n",
       "50%      9.000000e+06\n",
       "75%      1.413138e+07\n",
       "max      7.630000e+08\n",
       "Name: last_price, dtype: float64"
      ]
     },
     "execution_count": 61,
     "metadata": {},
     "output_type": "execute_result"
    },
    {
     "data": {
      "image/png": "[encoded data removed]",
      "text/plain": [
       "<Figure size 720x360 with 1 Axes>"
      ]
     },
     "metadata": {
      "needs_background": "light"
     },
     "output_type": "display_data"
    }
   ],
   "source": [
    "# изучим информацию о цене, построим гистограмму\n",
    "center_spb.plot(y = 'last_price', kind = 'hist', bins = 100, grid=True, figsize = (10,5), range = (0,20000000))\n",
    "center_spb['last_price'].describe()"
   ]
  },
  {
   "cell_type": "code",
   "execution_count": 62,
   "metadata": {},
   "outputs": [
    {
     "data": {
      "text/plain": [
       "count    3712.000000\n",
       "mean        2.813308\n",
       "std         1.456235\n",
       "min         0.000000\n",
       "25%         2.000000\n",
       "50%         3.000000\n",
       "75%         3.000000\n",
       "max        19.000000\n",
       "Name: rooms, dtype: float64"
      ]
     },
     "execution_count": 62,
     "metadata": {},
     "output_type": "execute_result"
    },
    {
     "data": {
      "image/png": "[encoded data removed]",
      "text/plain": [
       "<Figure size 720x360 with 1 Axes>"
      ]
     },
     "metadata": {
      "needs_background": "light"
     },
     "output_type": "display_data"
    }
   ],
   "source": [
    "# изучим информацию о количестве комнат, построим гистограмму\n",
    "center_spb.plot(y = 'rooms', kind = 'hist', bins = 10, grid=True, figsize = (10,5), range = (0,10))\n",
    "center_spb['rooms'].describe()"
   ]
  },
  {
   "cell_type": "code",
   "execution_count": 63,
   "metadata": {},
   "outputs": [
    {
     "data": {
      "text/plain": [
       "count    2408.000000\n",
       "mean        3.102546\n",
       "std         0.854724\n",
       "min         2.000000\n",
       "25%         2.800000\n",
       "50%         3.000000\n",
       "75%         3.280000\n",
       "max        32.000000\n",
       "Name: ceiling_height, dtype: float64"
      ]
     },
     "execution_count": 63,
     "metadata": {},
     "output_type": "execute_result"
    },
    {
     "data": {
      "image/png": "[encoded data removed]",
      "text/plain": [
       "<Figure size 720x360 with 1 Axes>"
      ]
     },
     "metadata": {
      "needs_background": "light"
     },
     "output_type": "display_data"
    }
   ],
   "source": [
    "# изучим информацию о высоте потолков, построим гистограмму\n",
    "center_spb.plot(y = 'ceiling_height', kind = 'hist', bins = 10, grid=True, figsize = (10,5), range = (2,5))\n",
    "center_spb['ceiling_height'].describe()"
   ]
  },
  {
   "cell_type": "markdown",
   "metadata": {},
   "source": [
    "**Вывод:** \n",
    "\n",
    "1. Среднее значение площади - 92 м2, медиана - 77 м2. Для всей выборки эти значения были равны 60 и 52 м2 соответсвенно.\n",
    "\n",
    "2. Цены на недвижимость имеют среднее значение в 15 млн руб., медиана - 9 млн руб. Для всей выборки эти значения были равны 6,5 и 4,7 млн руб. соответсвенно.\n",
    "\n",
    "3. Количество комнат - от 1 до 19. Больше всего двухкомнатных и трехкомнатных квартир (во всей выборке было больше всего однокомнатных и двухкомнатных квартир).\n",
    "\n",
    "4. Высота потолков в среднем составляет 3,1 м, медиана - 3 м. Для всей выборки эти значения были равны 2,77 и 2,65 м соответсвенно.\n",
    "\n",
    "Вполне логично, что в центре Питера квартиры будут посолиднее, а их стоимость - выше."
   ]
  },
  {
   "cell_type": "code",
   "execution_count": 64,
   "metadata": {},
   "outputs": [
    {
     "data": {
      "text/plain": [
       "0.006246688801770299"
      ]
     },
     "execution_count": 64,
     "metadata": {},
     "output_type": "execute_result"
    },
    {
     "data": {
      "image/png": "[encoded data removed]",
      "text/plain": [
       "<Figure size 432x288 with 1 Axes>"
      ]
     },
     "metadata": {
      "needs_background": "light"
     },
     "output_type": "display_data"
    }
   ],
   "source": [
    "# посмотрим зависимость стоимости квадратного метра от количества комнат\n",
    "center_spb_rooms = center_spb.pivot_table(index = 'rooms', values = 'price_per_m2', aggfunc = ['mean', 'count', 'median'])\n",
    "center_spb_rooms.columns = ['mean', 'count', 'median']\n",
    "center_spb_rooms.query('count > 50').plot(y = 'median')\n",
    "center_spb['rooms'].corr(center_spb['price_per_m2'])"
   ]
  },
  {
   "cell_type": "markdown",
   "metadata": {},
   "source": [
    "В общей выборке стоимость метра квадратного была тем меньше, чем больше значение количества комнат стремилось к трем. В центре Питера же ситуация иная - чем больше комнат, тем меньше стоимость квадратного метра."
   ]
  },
  {
   "cell_type": "code",
   "execution_count": 65,
   "metadata": {},
   "outputs": [
    {
     "data": {
      "text/html": [
       "<div>\n",
       "<style scoped>\n",
       "    .dataframe tbody tr th:only-of-type {\n",
       "        vertical-align: middle;\n",
       "    }\n",
       "\n",
       "    .dataframe tbody tr th {\n",
       "        vertical-align: top;\n",
       "    }\n",
       "\n",
       "    .dataframe thead th {\n",
       "        text-align: right;\n",
       "    }\n",
       "</style>\n",
       "<table border=\"1\" class=\"dataframe\">\n",
       "  <thead>\n",
       "    <tr style=\"text-align: right;\">\n",
       "      <th></th>\n",
       "      <th>mean</th>\n",
       "      <th>count</th>\n",
       "      <th>median</th>\n",
       "    </tr>\n",
       "    <tr>\n",
       "      <th>floor_category</th>\n",
       "      <th></th>\n",
       "      <th></th>\n",
       "      <th></th>\n",
       "    </tr>\n",
       "  </thead>\n",
       "  <tbody>\n",
       "    <tr>\n",
       "      <th>другой</th>\n",
       "      <td>147790.246136</td>\n",
       "      <td>2653</td>\n",
       "      <td>127551.0</td>\n",
       "    </tr>\n",
       "    <tr>\n",
       "      <th>первый</th>\n",
       "      <td>122401.977887</td>\n",
       "      <td>407</td>\n",
       "      <td>108653.0</td>\n",
       "    </tr>\n",
       "    <tr>\n",
       "      <th>последний</th>\n",
       "      <td>144362.099693</td>\n",
       "      <td>652</td>\n",
       "      <td>116872.5</td>\n",
       "    </tr>\n",
       "  </tbody>\n",
       "</table>\n",
       "</div>"
      ],
      "text/plain": [
       "                         mean  count    median\n",
       "floor_category                                \n",
       "другой          147790.246136   2653  127551.0\n",
       "первый          122401.977887    407  108653.0\n",
       "последний       144362.099693    652  116872.5"
      ]
     },
     "execution_count": 65,
     "metadata": {},
     "output_type": "execute_result"
    },
    {
     "data": {
      "image/png": "[encoded data removed]",
      "text/plain": [
       "<Figure size 432x288 with 1 Axes>"
      ]
     },
     "metadata": {
      "needs_background": "light"
     },
     "output_type": "display_data"
    }
   ],
   "source": [
    "# посмотрим зависимость стоимости квадратного метра от этажа\n",
    "center_spb_floor_category = center_spb.pivot_table(index = 'floor_category', values = 'price_per_m2', aggfunc = ['mean', 'count', 'median'])\n",
    "center_spb_floor_category.columns = ['mean', 'count', 'median']\n",
    "center_spb_floor_category.plot(y='median', kind='bar')\n",
    "center_spb_floor_category"
   ]
  },
  {
   "cell_type": "markdown",
   "metadata": {},
   "source": [
    "Отличий от общей выборки нет: квартиры на первом этаже все так же стоят меньше всего, а на последнем - больше, чем на первом, но меньше, чем на остальных."
   ]
  },
  {
   "cell_type": "code",
   "execution_count": 69,
   "metadata": {},
   "outputs": [
    {
     "data": {
      "text/plain": [
       "-0.03093861871911658"
      ]
     },
     "execution_count": 69,
     "metadata": {},
     "output_type": "execute_result"
    },
    {
     "data": {
      "image/png": "[encoded data removed]",
      "text/plain": [
       "<Figure size 432x288 with 1 Axes>"
      ]
     },
     "metadata": {
      "needs_background": "light"
     },
     "output_type": "display_data"
    }
   ],
   "source": [
    "# посмотрим зависимость стоимости квадратного метра от удаленности от центра\n",
    "center_spb.plot(kind = 'scatter', y = 'price_per_m2', x = 'city_centers_nearest', alpha = 0.1)\n",
    "center_spb['city_centers_nearest'].corr(df['price_per_m2'])"
   ]
  },
  {
   "cell_type": "markdown",
   "metadata": {},
   "source": [
    "Средняя стоимость все так же чуть выше на расстоянии 4-7 км от центра, где предположительно находятся спальные районы."
   ]
  },
  {
   "cell_type": "code",
   "execution_count": 67,
   "metadata": {},
   "outputs": [
    {
     "data": {
      "text/html": [
       "<div>\n",
       "<style scoped>\n",
       "    .dataframe tbody tr th:only-of-type {\n",
       "        vertical-align: middle;\n",
       "    }\n",
       "\n",
       "    .dataframe tbody tr th {\n",
       "        vertical-align: top;\n",
       "    }\n",
       "\n",
       "    .dataframe thead th {\n",
       "        text-align: right;\n",
       "    }\n",
       "</style>\n",
       "<table border=\"1\" class=\"dataframe\">\n",
       "  <thead>\n",
       "    <tr style=\"text-align: right;\">\n",
       "      <th></th>\n",
       "      <th>mean</th>\n",
       "      <th>count</th>\n",
       "      <th>median</th>\n",
       "    </tr>\n",
       "    <tr>\n",
       "      <th>year_exposition</th>\n",
       "      <th></th>\n",
       "      <th></th>\n",
       "      <th></th>\n",
       "    </tr>\n",
       "  </thead>\n",
       "  <tbody>\n",
       "    <tr>\n",
       "      <th>2014</th>\n",
       "      <td>195653.962963</td>\n",
       "      <td>27</td>\n",
       "      <td>143465</td>\n",
       "    </tr>\n",
       "    <tr>\n",
       "      <th>2019</th>\n",
       "      <td>159568.695761</td>\n",
       "      <td>401</td>\n",
       "      <td>135614</td>\n",
       "    </tr>\n",
       "    <tr>\n",
       "      <th>2018</th>\n",
       "      <td>139974.577516</td>\n",
       "      <td>1103</td>\n",
       "      <td>124742</td>\n",
       "    </tr>\n",
       "    <tr>\n",
       "      <th>2017</th>\n",
       "      <td>142443.846732</td>\n",
       "      <td>1331</td>\n",
       "      <td>121698</td>\n",
       "    </tr>\n",
       "    <tr>\n",
       "      <th>2015</th>\n",
       "      <td>144722.881098</td>\n",
       "      <td>328</td>\n",
       "      <td>119102</td>\n",
       "    </tr>\n",
       "    <tr>\n",
       "      <th>2016</th>\n",
       "      <td>144263.772031</td>\n",
       "      <td>522</td>\n",
       "      <td>119047</td>\n",
       "    </tr>\n",
       "  </tbody>\n",
       "</table>\n",
       "</div>"
      ],
      "text/plain": [
       "                          mean  count  median\n",
       "year_exposition                              \n",
       "2014             195653.962963     27  143465\n",
       "2019             159568.695761    401  135614\n",
       "2018             139974.577516   1103  124742\n",
       "2017             142443.846732   1331  121698\n",
       "2015             144722.881098    328  119102\n",
       "2016             144263.772031    522  119047"
      ]
     },
     "execution_count": 67,
     "metadata": {},
     "output_type": "execute_result"
    },
    {
     "data": {
      "image/png": "[encoded data removed]",
      "text/plain": [
       "<Figure size 432x288 with 1 Axes>"
      ]
     },
     "metadata": {
      "needs_background": "light"
     },
     "output_type": "display_data"
    }
   ],
   "source": [
    "# посмотрим зависимость стоимости квадратного метра от года\n",
    "center_spb_year_exposition = center_spb.pivot_table(index = 'year_exposition', values = 'price_per_m2', aggfunc = ['mean', 'count', 'median'])\n",
    "center_spb_year_exposition.columns = ['mean', 'count', 'median']\n",
    "center_spb_year_exposition.plot(y = 'median')\n",
    "\n",
    "center_spb_year_exposition.sort_values('median', ascending = False)"
   ]
  },
  {
   "cell_type": "markdown",
   "metadata": {},
   "source": [
    "В общей выборке цены в 2015-2016 годах падали, однако в центре Питера они оставались на одном уровне."
   ]
  },
  {
   "cell_type": "markdown",
   "metadata": {},
   "source": [
    "## Общий вывод"
   ]
  },
  {
   "cell_type": "markdown",
   "metadata": {},
   "source": [
    "Было выявлено, что на стоимость квадратного метра квартиры больше всего влияют общая площадь и близость к центру. Незначительно на стоимость квадратного метра влияют количество комнат, этаж квартиры, год размещения. День и месяц размещения оказывали довлольно слабое влияние на стоимость.\n",
    "\n",
    "Было обнаружено, что в 2015-2016 годах стоимость квартир в среднем по рынку была ниже на 10-20 %, тогда как в центре Санкт-Петербурга данной зависимости от года не обнаружено. В данном случае стоимость квартир оставалась примерно такой же.\n",
    "\n",
    "Из этого можно сделать вывод, что, возможно, стомость на аналогичные квартиры в разных городах может быть совершенно разной, равно как и из зависимость от определенных параметров. Поэтому справедливо утверждение, что то, что характерно для общей выборки, не всегда характерно для конкретных случаев, поэтому для более детального анализа необоходимо проводить сегментацию рынка и анализировать данные для каждого населенного пункта."
   ]
  }
 ],
 "metadata": {
  "ExecuteTimeLog": [
   {
    "duration": 1022,
    "start_time": "2022-03-13T08:53:55.523Z"
   },
   {
    "duration": 75,
    "start_time": "2022-03-13T08:55:38.530Z"
   },
   {
    "duration": 10,
    "start_time": "2022-03-13T08:55:48.269Z"
   },
   {
    "duration": 4,
    "start_time": "2022-03-13T08:56:00.590Z"
   },
   {
    "duration": 129,
    "start_time": "2022-03-13T08:56:02.213Z"
   },
   {
    "duration": 60,
    "start_time": "2022-03-13T08:56:03.323Z"
   },
   {
    "duration": 18,
    "start_time": "2022-03-13T08:56:05.787Z"
   },
   {
    "duration": 111,
    "start_time": "2022-03-13T08:56:09.824Z"
   },
   {
    "duration": 8,
    "start_time": "2022-03-13T09:19:48.964Z"
   },
   {
    "duration": 14,
    "start_time": "2022-03-13T09:24:11.350Z"
   },
   {
    "duration": 8,
    "start_time": "2022-03-13T09:24:23.176Z"
   },
   {
    "duration": 20,
    "start_time": "2022-03-13T09:25:40.428Z"
   },
   {
    "duration": 19,
    "start_time": "2022-03-13T09:25:52.918Z"
   },
   {
    "duration": 19,
    "start_time": "2022-03-13T09:26:12.966Z"
   },
   {
    "duration": 19,
    "start_time": "2022-03-13T09:26:18.960Z"
   },
   {
    "duration": 23,
    "start_time": "2022-03-13T09:27:16.588Z"
   },
   {
    "duration": 12,
    "start_time": "2022-03-13T09:27:39.189Z"
   },
   {
    "duration": 5,
    "start_time": "2022-03-13T09:28:04.668Z"
   },
   {
    "duration": 5,
    "start_time": "2022-03-13T09:28:17.117Z"
   },
   {
    "duration": 13,
    "start_time": "2022-03-13T09:28:25.284Z"
   },
   {
    "duration": 13,
    "start_time": "2022-03-13T09:28:37.502Z"
   },
   {
    "duration": 14,
    "start_time": "2022-03-13T09:28:54.646Z"
   },
   {
    "duration": 14,
    "start_time": "2022-03-13T09:29:07.615Z"
   },
   {
    "duration": 14,
    "start_time": "2022-03-13T09:29:20.985Z"
   },
   {
    "duration": 10,
    "start_time": "2022-03-13T09:41:15.651Z"
   },
   {
    "duration": 500,
    "start_time": "2022-03-13T09:41:26.324Z"
   },
   {
    "duration": 342,
    "start_time": "2022-03-13T09:41:36.191Z"
   },
   {
    "duration": 10,
    "start_time": "2022-03-13T09:41:53.033Z"
   },
   {
    "duration": 21,
    "start_time": "2022-03-13T09:51:02.020Z"
   },
   {
    "duration": 9,
    "start_time": "2022-03-13T09:51:04.419Z"
   },
   {
    "duration": 10,
    "start_time": "2022-03-13T09:51:34.375Z"
   },
   {
    "duration": 8092,
    "start_time": "2022-03-13T09:53:35.524Z"
   },
   {
    "duration": 24,
    "start_time": "2022-03-13T09:53:58.725Z"
   },
   {
    "duration": 8,
    "start_time": "2022-03-13T09:54:08.891Z"
   },
   {
    "duration": 6,
    "start_time": "2022-03-13T09:54:22.538Z"
   },
   {
    "duration": 8,
    "start_time": "2022-03-13T09:54:28.845Z"
   },
   {
    "duration": 721,
    "start_time": "2022-03-13T09:54:40.261Z"
   },
   {
    "duration": 88,
    "start_time": "2022-03-13T09:54:40.985Z"
   },
   {
    "duration": 49,
    "start_time": "2022-03-13T09:54:41.156Z"
   },
   {
    "duration": 15,
    "start_time": "2022-03-13T09:54:44.350Z"
   },
   {
    "duration": 107,
    "start_time": "2022-03-13T09:54:45.979Z"
   },
   {
    "duration": 6,
    "start_time": "2022-03-13T09:54:48.298Z"
   },
   {
    "duration": 10,
    "start_time": "2022-03-13T09:54:48.792Z"
   },
   {
    "duration": 5,
    "start_time": "2022-03-13T09:54:49.191Z"
   },
   {
    "duration": 14,
    "start_time": "2022-03-13T09:54:50.993Z"
   },
   {
    "duration": 18,
    "start_time": "2022-03-13T09:54:52.648Z"
   },
   {
    "duration": 8,
    "start_time": "2022-03-13T09:54:55.465Z"
   },
   {
    "duration": 19,
    "start_time": "2022-03-13T09:54:56.878Z"
   },
   {
    "duration": 11,
    "start_time": "2022-03-13T09:54:58.294Z"
   },
   {
    "duration": 6,
    "start_time": "2022-03-13T09:55:01.650Z"
   },
   {
    "duration": 8,
    "start_time": "2022-03-13T09:55:02.705Z"
   },
   {
    "duration": 791,
    "start_time": "2022-03-13T09:55:28.009Z"
   },
   {
    "duration": 88,
    "start_time": "2022-03-13T09:55:28.803Z"
   },
   {
    "duration": 56,
    "start_time": "2022-03-13T09:55:28.894Z"
   },
   {
    "duration": 16,
    "start_time": "2022-03-13T09:55:31.608Z"
   },
   {
    "duration": 114,
    "start_time": "2022-03-13T09:55:31.821Z"
   },
   {
    "duration": 6,
    "start_time": "2022-03-13T09:55:34.769Z"
   },
   {
    "duration": 12,
    "start_time": "2022-03-13T09:55:35.140Z"
   },
   {
    "duration": 6,
    "start_time": "2022-03-13T09:55:35.526Z"
   },
   {
    "duration": 17,
    "start_time": "2022-03-13T09:55:36.043Z"
   },
   {
    "duration": 26,
    "start_time": "2022-03-13T09:55:37.983Z"
   },
   {
    "duration": 7,
    "start_time": "2022-03-13T09:55:39.663Z"
   },
   {
    "duration": 19,
    "start_time": "2022-03-13T09:55:40.022Z"
   },
   {
    "duration": 10,
    "start_time": "2022-03-13T09:55:41.775Z"
   },
   {
    "duration": 18,
    "start_time": "2022-03-13T09:55:42.527Z"
   },
   {
    "duration": 8,
    "start_time": "2022-03-13T09:55:44.538Z"
   },
   {
    "duration": 8,
    "start_time": "2022-03-13T09:56:15.849Z"
   },
   {
    "duration": 399,
    "start_time": "2022-03-13T09:56:31.555Z"
   },
   {
    "duration": 13,
    "start_time": "2022-03-13T09:56:46.604Z"
   },
   {
    "duration": 8,
    "start_time": "2022-03-13T09:57:59.629Z"
   },
   {
    "duration": 346,
    "start_time": "2022-03-13T10:22:10.050Z"
   },
   {
    "duration": 6,
    "start_time": "2022-03-13T10:24:53.388Z"
   },
   {
    "duration": 9,
    "start_time": "2022-03-13T10:32:49.737Z"
   },
   {
    "duration": 321,
    "start_time": "2022-03-13T10:34:25.864Z"
   },
   {
    "duration": 7,
    "start_time": "2022-03-13T10:34:33.828Z"
   },
   {
    "duration": 6,
    "start_time": "2022-03-13T10:37:23.521Z"
   },
   {
    "duration": 9,
    "start_time": "2022-03-13T10:39:56.948Z"
   },
   {
    "duration": 836,
    "start_time": "2022-03-13T10:40:29.100Z"
   },
   {
    "duration": 94,
    "start_time": "2022-03-13T10:40:29.939Z"
   },
   {
    "duration": 51,
    "start_time": "2022-03-13T10:40:30.108Z"
   },
   {
    "duration": 18,
    "start_time": "2022-03-13T10:40:32.668Z"
   },
   {
    "duration": 111,
    "start_time": "2022-03-13T10:40:34.963Z"
   },
   {
    "duration": 6,
    "start_time": "2022-03-13T10:40:37.751Z"
   },
   {
    "duration": 12,
    "start_time": "2022-03-13T10:40:38.489Z"
   },
   {
    "duration": 6,
    "start_time": "2022-03-13T10:40:39.536Z"
   },
   {
    "duration": 5,
    "start_time": "2022-03-13T10:40:41.403Z"
   },
   {
    "duration": 7,
    "start_time": "2022-03-13T10:40:47.524Z"
   },
   {
    "duration": 6,
    "start_time": "2022-03-13T10:40:55.203Z"
   },
   {
    "duration": 16,
    "start_time": "2022-03-13T10:55:22.322Z"
   },
   {
    "duration": 7,
    "start_time": "2022-03-13T10:58:21.484Z"
   },
   {
    "duration": 10,
    "start_time": "2022-03-13T10:59:00.627Z"
   },
   {
    "duration": 7,
    "start_time": "2022-03-13T10:59:18.271Z"
   },
   {
    "duration": 9,
    "start_time": "2022-03-13T10:59:38.769Z"
   },
   {
    "duration": 6,
    "start_time": "2022-03-13T10:59:44.536Z"
   },
   {
    "duration": 42,
    "start_time": "2022-03-13T10:59:52.814Z"
   },
   {
    "duration": 12,
    "start_time": "2022-03-13T11:01:23.705Z"
   },
   {
    "duration": 5,
    "start_time": "2022-03-13T11:56:34.588Z"
   },
   {
    "duration": 8,
    "start_time": "2022-03-13T11:56:42.692Z"
   },
   {
    "duration": 15,
    "start_time": "2022-03-13T11:56:49.175Z"
   },
   {
    "duration": 8,
    "start_time": "2022-03-13T11:57:57.862Z"
   },
   {
    "duration": 9,
    "start_time": "2022-03-13T11:58:14.342Z"
   },
   {
    "duration": 8618,
    "start_time": "2022-03-13T11:58:21.382Z"
   },
   {
    "duration": 7776,
    "start_time": "2022-03-13T11:58:31.382Z"
   },
   {
    "duration": 8,
    "start_time": "2022-03-13T11:58:46.429Z"
   },
   {
    "duration": 6,
    "start_time": "2022-03-13T11:59:14.796Z"
   },
   {
    "duration": 735,
    "start_time": "2022-03-13T11:59:38.066Z"
   },
   {
    "duration": 92,
    "start_time": "2022-03-13T11:59:38.804Z"
   },
   {
    "duration": 57,
    "start_time": "2022-03-13T11:59:38.899Z"
   },
   {
    "duration": 17,
    "start_time": "2022-03-13T11:59:40.503Z"
   },
   {
    "duration": 105,
    "start_time": "2022-03-13T11:59:43.422Z"
   },
   {
    "duration": 6,
    "start_time": "2022-03-13T11:59:45.645Z"
   },
   {
    "duration": 11,
    "start_time": "2022-03-13T11:59:46.067Z"
   },
   {
    "duration": 6,
    "start_time": "2022-03-13T11:59:47.899Z"
   },
   {
    "duration": 14,
    "start_time": "2022-03-13T11:59:49.464Z"
   },
   {
    "duration": 17,
    "start_time": "2022-03-13T11:59:51.494Z"
   },
   {
    "duration": 9,
    "start_time": "2022-03-13T11:59:59.327Z"
   },
   {
    "duration": 108,
    "start_time": "2022-03-13T12:00:48.914Z"
   },
   {
    "duration": 36,
    "start_time": "2022-03-13T12:00:57.707Z"
   },
   {
    "duration": 135,
    "start_time": "2022-03-13T12:01:32.478Z"
   },
   {
    "duration": 7,
    "start_time": "2022-03-13T12:01:41.092Z"
   },
   {
    "duration": 11,
    "start_time": "2022-03-13T12:02:30.603Z"
   },
   {
    "duration": 7,
    "start_time": "2022-03-13T12:02:45.308Z"
   },
   {
    "duration": 8,
    "start_time": "2022-03-13T12:02:52.268Z"
   },
   {
    "duration": 8,
    "start_time": "2022-03-13T12:02:59.021Z"
   },
   {
    "duration": 9,
    "start_time": "2022-03-13T12:03:01.457Z"
   },
   {
    "duration": 12,
    "start_time": "2022-03-13T12:03:07.983Z"
   },
   {
    "duration": 6,
    "start_time": "2022-03-13T12:03:13.015Z"
   },
   {
    "duration": 13,
    "start_time": "2022-03-13T12:03:25.552Z"
   },
   {
    "duration": 102,
    "start_time": "2022-03-13T12:04:14.662Z"
   },
   {
    "duration": 6,
    "start_time": "2022-03-13T12:04:21.810Z"
   },
   {
    "duration": 447,
    "start_time": "2022-03-13T12:10:42.409Z"
   },
   {
    "duration": 6,
    "start_time": "2022-03-13T12:10:50.840Z"
   },
   {
    "duration": 6,
    "start_time": "2022-03-13T12:11:09.881Z"
   },
   {
    "duration": 328,
    "start_time": "2022-03-13T12:11:23.575Z"
   },
   {
    "duration": 6,
    "start_time": "2022-03-13T12:11:33.992Z"
   },
   {
    "duration": 301,
    "start_time": "2022-03-13T12:12:05.260Z"
   },
   {
    "duration": 12,
    "start_time": "2022-03-13T12:12:15.623Z"
   },
   {
    "duration": 320,
    "start_time": "2022-03-13T12:14:47.989Z"
   },
   {
    "duration": 7,
    "start_time": "2022-03-13T12:14:55.926Z"
   },
   {
    "duration": 8,
    "start_time": "2022-03-13T12:17:21.527Z"
   },
   {
    "duration": 5,
    "start_time": "2022-03-13T12:17:54.871Z"
   },
   {
    "duration": 8,
    "start_time": "2022-03-13T12:18:37.562Z"
   },
   {
    "duration": 29,
    "start_time": "2022-03-13T12:18:46.846Z"
   },
   {
    "duration": 10,
    "start_time": "2022-03-13T12:18:49.295Z"
   },
   {
    "duration": 18,
    "start_time": "2022-03-13T12:18:51.521Z"
   },
   {
    "duration": 8,
    "start_time": "2022-03-13T12:18:52.961Z"
   },
   {
    "duration": 8,
    "start_time": "2022-03-13T12:18:55.917Z"
   },
   {
    "duration": 19,
    "start_time": "2022-03-13T12:18:58.107Z"
   },
   {
    "duration": 11,
    "start_time": "2022-03-13T12:18:59.284Z"
   },
   {
    "duration": 307,
    "start_time": "2022-03-13T13:00:11.934Z"
   },
   {
    "duration": 6,
    "start_time": "2022-03-13T13:00:22.350Z"
   },
   {
    "duration": 5,
    "start_time": "2022-03-13T13:01:06.520Z"
   },
   {
    "duration": 371,
    "start_time": "2022-03-13T13:08:05.199Z"
   },
   {
    "duration": 8,
    "start_time": "2022-03-13T13:08:49.428Z"
   },
   {
    "duration": 5,
    "start_time": "2022-03-13T13:09:06.009Z"
   },
   {
    "duration": 324,
    "start_time": "2022-03-13T13:09:23.704Z"
   },
   {
    "duration": 47,
    "start_time": "2022-03-13T13:09:36.094Z"
   },
   {
    "duration": 9,
    "start_time": "2022-03-13T13:09:45.331Z"
   },
   {
    "duration": 54,
    "start_time": "2022-03-13T13:13:47.613Z"
   },
   {
    "duration": 324,
    "start_time": "2022-03-13T13:18:37.968Z"
   },
   {
    "duration": 6,
    "start_time": "2022-03-13T13:26:09.834Z"
   },
   {
    "duration": 5,
    "start_time": "2022-03-13T13:26:59.947Z"
   },
   {
    "duration": 5,
    "start_time": "2022-03-13T13:29:22.296Z"
   },
   {
    "duration": 8,
    "start_time": "2022-03-13T13:32:19.891Z"
   },
   {
    "duration": 8,
    "start_time": "2022-03-13T13:32:21.047Z"
   },
   {
    "duration": 8,
    "start_time": "2022-03-13T13:32:21.523Z"
   },
   {
    "duration": 4,
    "start_time": "2022-03-13T13:32:33.970Z"
   },
   {
    "duration": 1057,
    "start_time": "2022-03-13T13:32:53.391Z"
   },
   {
    "duration": 5,
    "start_time": "2022-03-13T13:33:57.222Z"
   },
   {
    "duration": 7,
    "start_time": "2022-03-13T13:34:16.944Z"
   },
   {
    "duration": 48,
    "start_time": "2022-03-13T13:34:28.654Z"
   },
   {
    "duration": 508,
    "start_time": "2022-03-20T13:04:45.760Z"
   },
   {
    "duration": 98,
    "start_time": "2022-03-20T13:04:47.635Z"
   },
   {
    "duration": 52,
    "start_time": "2022-03-20T13:04:48.200Z"
   },
   {
    "duration": 24,
    "start_time": "2022-03-20T13:04:51.152Z"
   },
   {
    "duration": 101,
    "start_time": "2022-03-20T13:04:53.182Z"
   },
   {
    "duration": 6,
    "start_time": "2022-03-20T13:04:56.245Z"
   },
   {
    "duration": 7,
    "start_time": "2022-03-20T13:04:57.976Z"
   },
   {
    "duration": 7,
    "start_time": "2022-03-20T13:04:59.680Z"
   },
   {
    "duration": 12,
    "start_time": "2022-03-20T13:05:03.755Z"
   },
   {
    "duration": 20,
    "start_time": "2022-03-20T13:05:07.411Z"
   },
   {
    "duration": 8,
    "start_time": "2022-03-20T13:05:22.174Z"
   },
   {
    "duration": 6,
    "start_time": "2022-03-20T13:05:24.870Z"
   },
   {
    "duration": 7,
    "start_time": "2022-03-20T13:05:25.598Z"
   },
   {
    "duration": 8,
    "start_time": "2022-03-20T13:05:33.877Z"
   },
   {
    "duration": 8,
    "start_time": "2022-03-20T13:05:34.337Z"
   },
   {
    "duration": 7,
    "start_time": "2022-03-20T13:05:41.737Z"
   },
   {
    "duration": 7,
    "start_time": "2022-03-20T13:05:42.132Z"
   },
   {
    "duration": 16,
    "start_time": "2022-03-20T13:05:50.738Z"
   },
   {
    "duration": 6,
    "start_time": "2022-03-20T13:05:51.162Z"
   },
   {
    "duration": 7,
    "start_time": "2022-03-20T13:05:57.627Z"
   },
   {
    "duration": 23,
    "start_time": "2022-03-20T13:06:00.057Z"
   },
   {
    "duration": 10,
    "start_time": "2022-03-20T13:06:00.586Z"
   },
   {
    "duration": 18,
    "start_time": "2022-03-20T13:06:04.227Z"
   },
   {
    "duration": 8,
    "start_time": "2022-03-20T13:06:09.311Z"
   },
   {
    "duration": 15,
    "start_time": "2022-03-20T13:07:35.240Z"
   },
   {
    "duration": 7,
    "start_time": "2022-03-20T13:07:35.749Z"
   },
   {
    "duration": 6,
    "start_time": "2022-03-20T13:08:08.598Z"
   },
   {
    "duration": 8,
    "start_time": "2022-03-20T13:08:09.504Z"
   },
   {
    "duration": 8,
    "start_time": "2022-03-20T13:08:10.413Z"
   },
   {
    "duration": 8,
    "start_time": "2022-03-20T13:08:11.003Z"
   },
   {
    "duration": 5,
    "start_time": "2022-03-20T13:08:11.551Z"
   },
   {
    "duration": 1005,
    "start_time": "2022-03-20T13:08:13.706Z"
   },
   {
    "duration": 7,
    "start_time": "2022-03-20T13:08:14.714Z"
   },
   {
    "duration": 8,
    "start_time": "2022-03-20T13:08:14.724Z"
   },
   {
    "duration": 45,
    "start_time": "2022-03-20T13:08:21.419Z"
   },
   {
    "duration": 1112,
    "start_time": "2022-03-20T13:08:31.008Z"
   },
   {
    "duration": 486,
    "start_time": "2022-03-20T13:13:38.183Z"
   },
   {
    "duration": 467,
    "start_time": "2022-03-20T13:17:04.753Z"
   },
   {
    "duration": 536,
    "start_time": "2022-03-20T13:17:45.392Z"
   },
   {
    "duration": 525,
    "start_time": "2022-03-20T13:17:50.210Z"
   },
   {
    "duration": 510,
    "start_time": "2022-03-20T13:17:54.556Z"
   },
   {
    "duration": 652,
    "start_time": "2022-03-20T13:18:17.842Z"
   },
   {
    "duration": 496,
    "start_time": "2022-03-20T13:18:41.719Z"
   },
   {
    "duration": 456,
    "start_time": "2022-03-20T13:34:42.042Z"
   },
   {
    "duration": 520,
    "start_time": "2022-03-20T13:34:54.557Z"
   },
   {
    "duration": 308,
    "start_time": "2022-03-20T13:35:04.015Z"
   },
   {
    "duration": 274,
    "start_time": "2022-03-20T13:35:54.739Z"
   },
   {
    "duration": 288,
    "start_time": "2022-03-20T13:36:03.427Z"
   },
   {
    "duration": 344,
    "start_time": "2022-03-20T13:36:11.892Z"
   },
   {
    "duration": 267,
    "start_time": "2022-03-20T13:37:24.642Z"
   },
   {
    "duration": 268,
    "start_time": "2022-03-20T13:37:51.907Z"
   },
   {
    "duration": 296,
    "start_time": "2022-03-20T13:38:00.036Z"
   },
   {
    "duration": 282,
    "start_time": "2022-03-20T13:38:21.875Z"
   },
   {
    "duration": 733084,
    "start_time": "2022-03-20T13:59:20.631Z"
   },
   {
    "duration": 534,
    "start_time": "2022-03-20T14:22:48.561Z"
   },
   {
    "duration": 503,
    "start_time": "2022-03-20T14:22:57.392Z"
   },
   {
    "duration": 615,
    "start_time": "2022-03-20T14:23:06.997Z"
   },
   {
    "duration": 491,
    "start_time": "2022-03-20T14:23:19.049Z"
   },
   {
    "duration": 3,
    "start_time": "2022-03-20T15:48:43.042Z"
   },
   {
    "duration": 209,
    "start_time": "2022-03-20T15:52:44.842Z"
   },
   {
    "duration": 108,
    "start_time": "2022-03-20T15:53:03.386Z"
   },
   {
    "duration": 674,
    "start_time": "2022-03-20T15:53:19.255Z"
   },
   {
    "duration": 160,
    "start_time": "2022-03-20T15:57:38.876Z"
   },
   {
    "duration": 910,
    "start_time": "2022-03-20T15:57:44.184Z"
   },
   {
    "duration": 939,
    "start_time": "2022-03-20T15:58:00.800Z"
   },
   {
    "duration": 924,
    "start_time": "2022-03-20T15:58:22.669Z"
   },
   {
    "duration": 913,
    "start_time": "2022-03-20T15:58:57.461Z"
   },
   {
    "duration": 1030,
    "start_time": "2022-03-20T15:59:21.720Z"
   },
   {
    "duration": 9,
    "start_time": "2022-03-20T16:10:54.546Z"
   },
   {
    "duration": 9,
    "start_time": "2022-03-20T16:11:07.754Z"
   },
   {
    "duration": 704,
    "start_time": "2022-03-20T16:11:37.234Z"
   },
   {
    "duration": 484,
    "start_time": "2022-03-20T16:11:42.732Z"
   },
   {
    "duration": 523,
    "start_time": "2022-03-20T16:18:08.277Z"
   },
   {
    "duration": 940,
    "start_time": "2022-03-20T17:00:29.545Z"
   },
   {
    "duration": 8,
    "start_time": "2022-03-20T17:01:21.595Z"
   },
   {
    "duration": 25,
    "start_time": "2022-03-20T17:01:55.915Z"
   },
   {
    "duration": 52,
    "start_time": "2022-03-20T17:12:42.668Z"
   },
   {
    "duration": 38,
    "start_time": "2022-03-20T17:38:58.961Z"
   },
   {
    "duration": 6,
    "start_time": "2022-03-20T17:49:29.916Z"
   },
   {
    "duration": 7,
    "start_time": "2022-03-20T17:49:38.522Z"
   },
   {
    "duration": 14,
    "start_time": "2022-03-20T17:49:54.336Z"
   },
   {
    "duration": 8,
    "start_time": "2022-03-20T17:50:03.399Z"
   },
   {
    "duration": 138,
    "start_time": "2022-03-20T18:02:33.130Z"
   },
   {
    "duration": 175,
    "start_time": "2022-03-20T18:02:46.441Z"
   },
   {
    "duration": 155,
    "start_time": "2022-03-20T18:03:11.629Z"
   },
   {
    "duration": 9,
    "start_time": "2022-03-20T18:07:49.476Z"
   },
   {
    "duration": 14,
    "start_time": "2022-03-20T18:08:31.449Z"
   },
   {
    "duration": 9,
    "start_time": "2022-03-20T18:08:38.159Z"
   },
   {
    "duration": 33,
    "start_time": "2022-03-20T18:09:53.772Z"
   },
   {
    "duration": 11,
    "start_time": "2022-03-20T18:10:09.251Z"
   },
   {
    "duration": 8,
    "start_time": "2022-03-20T18:10:23.596Z"
   },
   {
    "duration": 5,
    "start_time": "2022-03-20T18:11:25.753Z"
   },
   {
    "duration": 17,
    "start_time": "2022-03-20T18:12:38.835Z"
   },
   {
    "duration": 11,
    "start_time": "2022-03-20T18:14:40.512Z"
   },
   {
    "duration": 9,
    "start_time": "2022-03-20T18:14:45.892Z"
   },
   {
    "duration": 9,
    "start_time": "2022-03-20T18:15:15.607Z"
   },
   {
    "duration": 15,
    "start_time": "2022-03-20T18:17:22.857Z"
   },
   {
    "duration": 23,
    "start_time": "2022-03-20T18:17:40.547Z"
   },
   {
    "duration": 197,
    "start_time": "2022-03-20T18:20:31.742Z"
   },
   {
    "duration": 10,
    "start_time": "2022-03-20T18:20:36.675Z"
   },
   {
    "duration": 17,
    "start_time": "2022-03-20T18:21:31.186Z"
   },
   {
    "duration": 7,
    "start_time": "2022-03-20T18:22:45.568Z"
   },
   {
    "duration": 4,
    "start_time": "2022-03-20T18:23:24.798Z"
   },
   {
    "duration": 16,
    "start_time": "2022-03-20T18:23:33.830Z"
   },
   {
    "duration": 16,
    "start_time": "2022-03-20T18:24:06.922Z"
   },
   {
    "duration": 4,
    "start_time": "2022-03-20T18:27:00.253Z"
   },
   {
    "duration": 29,
    "start_time": "2022-03-20T18:27:04.594Z"
   },
   {
    "duration": 4,
    "start_time": "2022-03-20T18:27:37.740Z"
   },
   {
    "duration": 14,
    "start_time": "2022-03-20T18:27:39.320Z"
   },
   {
    "duration": 5,
    "start_time": "2022-03-20T18:29:22.798Z"
   },
   {
    "duration": 2029,
    "start_time": "2022-03-20T18:29:32.297Z"
   },
   {
    "duration": 6,
    "start_time": "2022-03-20T18:34:30.202Z"
   },
   {
    "duration": 2509,
    "start_time": "2022-03-20T18:34:32.184Z"
   },
   {
    "duration": 4,
    "start_time": "2022-03-20T18:36:59.647Z"
   },
   {
    "duration": 2060,
    "start_time": "2022-03-20T18:37:02.469Z"
   },
   {
    "duration": 6,
    "start_time": "2022-03-20T18:56:54.867Z"
   },
   {
    "duration": 8,
    "start_time": "2022-03-20T19:07:33.258Z"
   },
   {
    "duration": 8,
    "start_time": "2022-03-20T19:07:37.606Z"
   },
   {
    "duration": 8,
    "start_time": "2022-03-20T19:07:42.383Z"
   },
   {
    "duration": 8,
    "start_time": "2022-03-20T20:04:15.784Z"
   },
   {
    "duration": 3739,
    "start_time": "2022-03-20T20:05:00.435Z"
   },
   {
    "duration": 106,
    "start_time": "2022-03-20T20:05:28.744Z"
   },
   {
    "duration": 107,
    "start_time": "2022-03-20T20:05:50.981Z"
   },
   {
    "duration": 6,
    "start_time": "2022-03-20T20:09:13.189Z"
   },
   {
    "duration": 247,
    "start_time": "2022-03-20T20:09:14.906Z"
   },
   {
    "duration": 21,
    "start_time": "2022-03-20T20:11:50.011Z"
   },
   {
    "duration": 65,
    "start_time": "2022-03-20T20:12:18.451Z"
   },
   {
    "duration": 140,
    "start_time": "2022-03-20T20:13:08.260Z"
   },
   {
    "duration": 6,
    "start_time": "2022-03-20T20:13:17.283Z"
   },
   {
    "duration": 234,
    "start_time": "2022-03-20T20:13:23.694Z"
   },
   {
    "duration": 21,
    "start_time": "2022-03-20T20:13:52.104Z"
   },
   {
    "duration": 6,
    "start_time": "2022-03-20T20:13:54.638Z"
   },
   {
    "duration": 240,
    "start_time": "2022-03-20T20:13:55.642Z"
   },
   {
    "duration": 113,
    "start_time": "2022-03-20T20:14:45.752Z"
   },
   {
    "duration": 127,
    "start_time": "2022-03-20T20:14:51.178Z"
   },
   {
    "duration": 6,
    "start_time": "2022-03-20T20:15:32.635Z"
   },
   {
    "duration": 20,
    "start_time": "2022-03-20T20:15:35.502Z"
   },
   {
    "duration": 6,
    "start_time": "2022-03-20T20:17:34.707Z"
   },
   {
    "duration": 291,
    "start_time": "2022-03-20T20:17:44.092Z"
   },
   {
    "duration": 5,
    "start_time": "2022-03-20T20:18:34.240Z"
   },
   {
    "duration": 242,
    "start_time": "2022-03-20T20:18:36.131Z"
   },
   {
    "duration": 229,
    "start_time": "2022-03-20T20:19:43.754Z"
   },
   {
    "duration": 234,
    "start_time": "2022-03-20T20:19:48.711Z"
   },
   {
    "duration": 284,
    "start_time": "2022-03-20T20:20:22.996Z"
   },
   {
    "duration": 291,
    "start_time": "2022-03-20T20:20:29.085Z"
   },
   {
    "duration": 251,
    "start_time": "2022-03-20T20:20:42.664Z"
   },
   {
    "duration": 251,
    "start_time": "2022-03-20T20:20:54.380Z"
   },
   {
    "duration": 265,
    "start_time": "2022-03-20T20:20:57.586Z"
   },
   {
    "duration": 241,
    "start_time": "2022-03-20T20:21:56.692Z"
   },
   {
    "duration": 275,
    "start_time": "2022-03-20T20:26:37.581Z"
   },
   {
    "duration": 274,
    "start_time": "2022-03-20T20:26:51.349Z"
   },
   {
    "duration": 10,
    "start_time": "2022-03-20T20:29:34.275Z"
   },
   {
    "duration": 22,
    "start_time": "2022-03-20T20:29:57.926Z"
   },
   {
    "duration": 19,
    "start_time": "2022-03-20T20:30:38.396Z"
   },
   {
    "duration": 1150,
    "start_time": "2022-03-26T13:12:09.842Z"
   },
   {
    "duration": 145,
    "start_time": "2022-03-26T13:12:11.900Z"
   },
   {
    "duration": 51,
    "start_time": "2022-03-26T13:12:12.475Z"
   },
   {
    "duration": 23,
    "start_time": "2022-03-26T13:12:14.912Z"
   },
   {
    "duration": 98,
    "start_time": "2022-03-26T13:12:16.747Z"
   },
   {
    "duration": 6,
    "start_time": "2022-03-26T13:12:19.530Z"
   },
   {
    "duration": 6,
    "start_time": "2022-03-26T13:12:20.209Z"
   },
   {
    "duration": 5,
    "start_time": "2022-03-26T13:12:20.839Z"
   },
   {
    "duration": 13,
    "start_time": "2022-03-26T13:12:22.358Z"
   },
   {
    "duration": 18,
    "start_time": "2022-03-26T13:12:24.055Z"
   },
   {
    "duration": 8,
    "start_time": "2022-03-26T13:13:52.755Z"
   },
   {
    "duration": 6,
    "start_time": "2022-03-26T13:13:53.333Z"
   },
   {
    "duration": 7,
    "start_time": "2022-03-26T13:13:54.617Z"
   },
   {
    "duration": 8,
    "start_time": "2022-03-26T13:13:56.276Z"
   },
   {
    "duration": 6,
    "start_time": "2022-03-26T13:13:57.677Z"
   },
   {
    "duration": 11,
    "start_time": "2022-03-26T13:13:58.271Z"
   },
   {
    "duration": 7,
    "start_time": "2022-03-26T13:13:58.844Z"
   },
   {
    "duration": 7,
    "start_time": "2022-03-26T13:13:59.698Z"
   },
   {
    "duration": 18,
    "start_time": "2022-03-26T13:14:02.105Z"
   },
   {
    "duration": 11,
    "start_time": "2022-03-26T13:14:02.484Z"
   },
   {
    "duration": 18,
    "start_time": "2022-03-26T13:14:05.315Z"
   },
   {
    "duration": 10,
    "start_time": "2022-03-26T13:14:06.056Z"
   },
   {
    "duration": 17,
    "start_time": "2022-03-26T13:14:07.258Z"
   },
   {
    "duration": 8,
    "start_time": "2022-03-26T13:14:08.921Z"
   },
   {
    "duration": 6,
    "start_time": "2022-03-26T13:14:12.154Z"
   },
   {
    "duration": 8,
    "start_time": "2022-03-26T13:14:12.606Z"
   },
   {
    "duration": 8,
    "start_time": "2022-03-26T13:14:13.187Z"
   },
   {
    "duration": 9,
    "start_time": "2022-03-26T13:14:13.738Z"
   },
   {
    "duration": 5,
    "start_time": "2022-03-26T13:14:19.106Z"
   },
   {
    "duration": 546,
    "start_time": "2022-03-26T13:14:19.651Z"
   },
   {
    "duration": 6,
    "start_time": "2022-03-26T13:14:20.681Z"
   },
   {
    "duration": 5,
    "start_time": "2022-03-26T13:14:21.175Z"
   },
   {
    "duration": 48,
    "start_time": "2022-03-26T13:14:21.628Z"
   },
   {
    "duration": 576,
    "start_time": "2022-03-26T13:14:26.900Z"
   },
   {
    "duration": 591,
    "start_time": "2022-03-26T13:14:36.988Z"
   },
   {
    "duration": 275,
    "start_time": "2022-03-26T13:14:43.400Z"
   },
   {
    "duration": 277,
    "start_time": "2022-03-26T13:14:46.671Z"
   },
   {
    "duration": 500,
    "start_time": "2022-03-26T13:14:50.013Z"
   },
   {
    "duration": 479,
    "start_time": "2022-03-26T13:14:53.383Z"
   },
   {
    "duration": 9,
    "start_time": "2022-03-26T13:15:00.525Z"
   },
   {
    "duration": 25,
    "start_time": "2022-03-26T13:15:26.579Z"
   },
   {
    "duration": 8,
    "start_time": "2022-03-26T13:15:44.124Z"
   },
   {
    "duration": 25,
    "start_time": "2022-03-26T13:15:48.156Z"
   },
   {
    "duration": 464,
    "start_time": "2022-03-26T13:16:03.963Z"
   },
   {
    "duration": 8,
    "start_time": "2022-03-26T13:16:07.883Z"
   },
   {
    "duration": 23,
    "start_time": "2022-03-26T13:16:15.802Z"
   },
   {
    "duration": 121,
    "start_time": "2022-03-26T13:18:54.101Z"
   },
   {
    "duration": 5,
    "start_time": "2022-03-26T13:19:40.176Z"
   },
   {
    "duration": 25,
    "start_time": "2022-03-26T13:20:01.970Z"
   },
   {
    "duration": 117,
    "start_time": "2022-03-26T13:20:25.888Z"
   },
   {
    "duration": 863,
    "start_time": "2022-03-26T13:27:47.086Z"
   },
   {
    "duration": 122,
    "start_time": "2022-03-26T13:27:48.290Z"
   },
   {
    "duration": 57,
    "start_time": "2022-03-26T13:27:48.976Z"
   },
   {
    "duration": 23,
    "start_time": "2022-03-26T13:27:50.835Z"
   },
   {
    "duration": 102,
    "start_time": "2022-03-26T13:27:52.886Z"
   },
   {
    "duration": 6,
    "start_time": "2022-03-26T13:27:57.188Z"
   },
   {
    "duration": 7,
    "start_time": "2022-03-26T13:27:58.688Z"
   },
   {
    "duration": 6,
    "start_time": "2022-03-26T13:27:59.501Z"
   },
   {
    "duration": 12,
    "start_time": "2022-03-26T13:28:00.693Z"
   },
   {
    "duration": 21,
    "start_time": "2022-03-26T13:28:02.287Z"
   },
   {
    "duration": 7,
    "start_time": "2022-03-26T13:28:05.839Z"
   },
   {
    "duration": 5,
    "start_time": "2022-03-26T13:28:06.384Z"
   },
   {
    "duration": 6,
    "start_time": "2022-03-26T13:28:06.804Z"
   },
   {
    "duration": 8,
    "start_time": "2022-03-26T13:28:07.907Z"
   },
   {
    "duration": 7,
    "start_time": "2022-03-26T13:28:08.314Z"
   },
   {
    "duration": 11,
    "start_time": "2022-03-26T13:28:08.751Z"
   },
   {
    "duration": 7,
    "start_time": "2022-03-26T13:28:09.191Z"
   },
   {
    "duration": 7,
    "start_time": "2022-03-26T13:28:09.591Z"
   },
   {
    "duration": 19,
    "start_time": "2022-03-26T13:28:11.658Z"
   },
   {
    "duration": 11,
    "start_time": "2022-03-26T13:28:12.265Z"
   },
   {
    "duration": 19,
    "start_time": "2022-03-26T13:28:15.294Z"
   },
   {
    "duration": 7,
    "start_time": "2022-03-26T13:28:15.718Z"
   },
   {
    "duration": 15,
    "start_time": "2022-03-26T13:28:16.221Z"
   },
   {
    "duration": 8,
    "start_time": "2022-03-26T13:28:16.605Z"
   },
   {
    "duration": 7,
    "start_time": "2022-03-26T13:28:19.355Z"
   },
   {
    "duration": 8,
    "start_time": "2022-03-26T13:28:19.746Z"
   },
   {
    "duration": 8,
    "start_time": "2022-03-26T13:28:20.161Z"
   },
   {
    "duration": 8,
    "start_time": "2022-03-26T13:28:20.558Z"
   },
   {
    "duration": 4,
    "start_time": "2022-03-26T13:28:21.587Z"
   },
   {
    "duration": 544,
    "start_time": "2022-03-26T13:28:22.462Z"
   },
   {
    "duration": 6,
    "start_time": "2022-03-26T13:28:25.616Z"
   },
   {
    "duration": 6,
    "start_time": "2022-03-26T13:28:26.063Z"
   },
   {
    "duration": 50,
    "start_time": "2022-03-26T13:28:36.256Z"
   },
   {
    "duration": 571,
    "start_time": "2022-03-26T13:28:58.248Z"
   },
   {
    "duration": 517,
    "start_time": "2022-03-26T13:29:00.551Z"
   },
   {
    "duration": 278,
    "start_time": "2022-03-26T13:29:02.096Z"
   },
   {
    "duration": 272,
    "start_time": "2022-03-26T13:29:03.437Z"
   },
   {
    "duration": 456,
    "start_time": "2022-03-26T13:29:07.655Z"
   },
   {
    "duration": 429,
    "start_time": "2022-03-26T13:30:05.425Z"
   },
   {
    "duration": 442,
    "start_time": "2022-03-26T13:30:26.292Z"
   },
   {
    "duration": 9,
    "start_time": "2022-03-26T13:32:06.814Z"
   },
   {
    "duration": 8,
    "start_time": "2022-03-26T13:32:56.385Z"
   },
   {
    "duration": 8,
    "start_time": "2022-03-26T13:33:06.799Z"
   },
   {
    "duration": 577,
    "start_time": "2022-03-26T13:33:50.555Z"
   },
   {
    "duration": 459,
    "start_time": "2022-03-26T13:35:00.335Z"
   },
   {
    "duration": 8,
    "start_time": "2022-03-26T13:35:06.966Z"
   },
   {
    "duration": 7,
    "start_time": "2022-03-26T13:37:16.744Z"
   },
   {
    "duration": 256,
    "start_time": "2022-03-26T13:37:23.484Z"
   },
   {
    "duration": 247,
    "start_time": "2022-03-26T13:37:28.254Z"
   },
   {
    "duration": 227,
    "start_time": "2022-03-26T13:37:37.815Z"
   },
   {
    "duration": 263,
    "start_time": "2022-03-26T13:37:40.756Z"
   },
   {
    "duration": 19,
    "start_time": "2022-03-26T13:37:44.098Z"
   },
   {
    "duration": 22,
    "start_time": "2022-03-26T13:48:13.588Z"
   },
   {
    "duration": 1055,
    "start_time": "2022-03-27T14:54:56.583Z"
   },
   {
    "duration": 105,
    "start_time": "2022-03-27T14:54:57.641Z"
   },
   {
    "duration": 59,
    "start_time": "2022-03-27T14:54:58.349Z"
   },
   {
    "duration": 24,
    "start_time": "2022-03-27T14:55:00.216Z"
   },
   {
    "duration": 95,
    "start_time": "2022-03-27T14:55:01.889Z"
   },
   {
    "duration": 7,
    "start_time": "2022-03-27T14:55:04.243Z"
   },
   {
    "duration": 6,
    "start_time": "2022-03-27T14:55:06.000Z"
   },
   {
    "duration": 5,
    "start_time": "2022-03-27T14:55:06.416Z"
   },
   {
    "duration": 16,
    "start_time": "2022-03-27T14:55:07.794Z"
   },
   {
    "duration": 18,
    "start_time": "2022-03-27T14:55:10.053Z"
   },
   {
    "duration": 8,
    "start_time": "2022-03-27T14:55:15.974Z"
   },
   {
    "duration": 7,
    "start_time": "2022-03-27T14:55:16.476Z"
   },
   {
    "duration": 6,
    "start_time": "2022-03-27T14:55:16.941Z"
   },
   {
    "duration": 8,
    "start_time": "2022-03-27T14:55:18.714Z"
   },
   {
    "duration": 6,
    "start_time": "2022-03-27T14:55:19.112Z"
   },
   {
    "duration": 12,
    "start_time": "2022-03-27T14:55:20.284Z"
   },
   {
    "duration": 7,
    "start_time": "2022-03-27T14:55:20.714Z"
   },
   {
    "duration": 7,
    "start_time": "2022-03-27T14:55:21.622Z"
   },
   {
    "duration": 19,
    "start_time": "2022-03-27T14:55:23.387Z"
   },
   {
    "duration": 17,
    "start_time": "2022-03-27T14:55:26.718Z"
   },
   {
    "duration": 9,
    "start_time": "2022-03-27T14:55:27.104Z"
   },
   {
    "duration": 16,
    "start_time": "2022-03-27T14:55:27.530Z"
   },
   {
    "duration": 8,
    "start_time": "2022-03-27T14:55:28.737Z"
   },
   {
    "duration": 6,
    "start_time": "2022-03-27T14:55:30.793Z"
   },
   {
    "duration": 7,
    "start_time": "2022-03-27T14:55:42.251Z"
   },
   {
    "duration": 8,
    "start_time": "2022-03-27T14:55:44.365Z"
   },
   {
    "duration": 7,
    "start_time": "2022-03-27T14:55:44.734Z"
   },
   {
    "duration": 8,
    "start_time": "2022-03-27T14:55:45.116Z"
   },
   {
    "duration": 5,
    "start_time": "2022-03-27T14:55:45.452Z"
   },
   {
    "duration": 508,
    "start_time": "2022-03-27T14:55:46.847Z"
   },
   {
    "duration": 11,
    "start_time": "2022-03-27T14:55:47.357Z"
   },
   {
    "duration": 5,
    "start_time": "2022-03-27T14:55:47.474Z"
   },
   {
    "duration": 43,
    "start_time": "2022-03-27T14:55:47.784Z"
   },
   {
    "duration": 531,
    "start_time": "2022-03-27T14:55:52.120Z"
   },
   {
    "duration": 470,
    "start_time": "2022-03-27T14:55:59.607Z"
   },
   {
    "duration": 257,
    "start_time": "2022-03-27T14:56:06.807Z"
   },
   {
    "duration": 262,
    "start_time": "2022-03-27T14:56:07.467Z"
   },
   {
    "duration": 540,
    "start_time": "2022-03-27T14:56:51.130Z"
   },
   {
    "duration": 419,
    "start_time": "2022-03-27T14:57:16.347Z"
   },
   {
    "duration": 494,
    "start_time": "2022-03-27T14:57:43.840Z"
   },
   {
    "duration": 436,
    "start_time": "2022-03-27T15:00:30.975Z"
   },
   {
    "duration": 8,
    "start_time": "2022-03-27T15:00:35.687Z"
   },
   {
    "duration": 463,
    "start_time": "2022-03-27T15:01:14.716Z"
   },
   {
    "duration": 449,
    "start_time": "2022-03-27T15:01:32.056Z"
   },
   {
    "duration": 454,
    "start_time": "2022-03-27T15:02:06.916Z"
   },
   {
    "duration": 12,
    "start_time": "2022-03-27T15:02:10.966Z"
   },
   {
    "duration": 315,
    "start_time": "2022-03-27T15:02:15.872Z"
   },
   {
    "duration": 113,
    "start_time": "2022-03-27T15:02:34.499Z"
   },
   {
    "duration": 9,
    "start_time": "2022-03-27T15:02:41.875Z"
   },
   {
    "duration": 293,
    "start_time": "2022-03-27T15:02:47.674Z"
   },
   {
    "duration": 436,
    "start_time": "2022-03-27T15:02:52.950Z"
   },
   {
    "duration": 228,
    "start_time": "2022-03-27T15:02:56.016Z"
   },
   {
    "duration": 283,
    "start_time": "2022-03-27T15:03:02.684Z"
   },
   {
    "duration": 22,
    "start_time": "2022-03-27T15:03:08.108Z"
   },
   {
    "duration": 17,
    "start_time": "2022-03-27T15:04:34.391Z"
   },
   {
    "duration": 1756,
    "start_time": "2022-03-27T15:07:50.823Z"
   },
   {
    "duration": 251,
    "start_time": "2022-03-27T15:08:04.124Z"
   },
   {
    "duration": 382,
    "start_time": "2022-03-27T15:13:12.867Z"
   },
   {
    "duration": 262,
    "start_time": "2022-03-27T15:15:03.854Z"
   },
   {
    "duration": 263,
    "start_time": "2022-03-27T15:15:12.932Z"
   },
   {
    "duration": 315,
    "start_time": "2022-03-27T15:15:25.160Z"
   },
   {
    "duration": 237,
    "start_time": "2022-03-27T15:17:23.118Z"
   },
   {
    "duration": 233,
    "start_time": "2022-03-27T15:17:59.757Z"
   },
   {
    "duration": 271,
    "start_time": "2022-03-27T15:18:47.625Z"
   },
   {
    "duration": 1505,
    "start_time": "2022-03-27T15:19:16.477Z"
   },
   {
    "duration": 318,
    "start_time": "2022-03-27T15:20:01.899Z"
   },
   {
    "duration": 1539,
    "start_time": "2022-03-27T15:20:55.636Z"
   },
   {
    "duration": 1570,
    "start_time": "2022-03-27T15:22:45.113Z"
   },
   {
    "duration": 418,
    "start_time": "2022-03-27T15:22:54.887Z"
   },
   {
    "duration": 48,
    "start_time": "2022-03-27T15:24:38.341Z"
   },
   {
    "duration": 384,
    "start_time": "2022-03-27T15:24:44.869Z"
   },
   {
    "duration": 54,
    "start_time": "2022-03-27T15:25:06.598Z"
   },
   {
    "duration": 452,
    "start_time": "2022-03-27T15:25:27.916Z"
   },
   {
    "duration": 248,
    "start_time": "2022-03-27T15:26:29.059Z"
   },
   {
    "duration": 2001,
    "start_time": "2022-03-27T15:27:20.958Z"
   },
   {
    "duration": 281,
    "start_time": "2022-03-27T15:28:21.868Z"
   },
   {
    "duration": 216,
    "start_time": "2022-03-27T15:28:59.041Z"
   },
   {
    "duration": 1958,
    "start_time": "2022-03-27T15:30:22.095Z"
   },
   {
    "duration": 1821,
    "start_time": "2022-03-27T15:30:32.859Z"
   },
   {
    "duration": 286,
    "start_time": "2022-03-27T15:30:44.171Z"
   },
   {
    "duration": 374,
    "start_time": "2022-03-27T15:30:58.075Z"
   },
   {
    "duration": 277,
    "start_time": "2022-03-27T15:31:09.661Z"
   },
   {
    "duration": 234,
    "start_time": "2022-03-27T15:38:55.534Z"
   },
   {
    "duration": 248,
    "start_time": "2022-03-27T15:39:42.765Z"
   },
   {
    "duration": 264,
    "start_time": "2022-03-27T15:40:22.817Z"
   },
   {
    "duration": 972,
    "start_time": "2022-03-27T17:14:34.598Z"
   },
   {
    "duration": 76,
    "start_time": "2022-03-27T17:14:36.414Z"
   },
   {
    "duration": 31,
    "start_time": "2022-03-27T17:14:36.839Z"
   },
   {
    "duration": 21,
    "start_time": "2022-03-27T17:14:38.558Z"
   },
   {
    "duration": 73,
    "start_time": "2022-03-27T17:14:40.790Z"
   },
   {
    "duration": 4,
    "start_time": "2022-03-27T17:14:43.683Z"
   },
   {
    "duration": 6,
    "start_time": "2022-03-27T17:14:44.182Z"
   },
   {
    "duration": 4,
    "start_time": "2022-03-27T17:14:44.574Z"
   },
   {
    "duration": 12,
    "start_time": "2022-03-27T17:14:46.419Z"
   },
   {
    "duration": 16,
    "start_time": "2022-03-27T17:14:48.408Z"
   },
   {
    "duration": 6,
    "start_time": "2022-03-27T17:14:50.570Z"
   },
   {
    "duration": 5,
    "start_time": "2022-03-27T17:14:50.953Z"
   },
   {
    "duration": 5,
    "start_time": "2022-03-27T17:14:51.312Z"
   },
   {
    "duration": 6,
    "start_time": "2022-03-27T17:14:51.748Z"
   },
   {
    "duration": 8,
    "start_time": "2022-03-27T17:14:52.147Z"
   },
   {
    "duration": 8,
    "start_time": "2022-03-27T17:14:53.400Z"
   },
   {
    "duration": 5,
    "start_time": "2022-03-27T17:14:53.778Z"
   },
   {
    "duration": 5,
    "start_time": "2022-03-27T17:14:54.147Z"
   },
   {
    "duration": 21,
    "start_time": "2022-03-27T17:14:56.048Z"
   },
   {
    "duration": 10,
    "start_time": "2022-03-27T17:14:57.651Z"
   },
   {
    "duration": 12,
    "start_time": "2022-03-27T17:14:59.394Z"
   },
   {
    "duration": 6,
    "start_time": "2022-03-27T17:14:59.863Z"
   },
   {
    "duration": 13,
    "start_time": "2022-03-27T17:15:02.217Z"
   },
   {
    "duration": 7,
    "start_time": "2022-03-27T17:15:02.653Z"
   },
   {
    "duration": 5,
    "start_time": "2022-03-27T17:15:03.126Z"
   },
   {
    "duration": 5,
    "start_time": "2022-03-27T17:15:04.984Z"
   },
   {
    "duration": 6,
    "start_time": "2022-03-27T17:15:05.585Z"
   },
   {
    "duration": 6,
    "start_time": "2022-03-27T17:15:06.056Z"
   },
   {
    "duration": 6,
    "start_time": "2022-03-27T17:15:06.503Z"
   },
   {
    "duration": 4,
    "start_time": "2022-03-27T17:15:07.045Z"
   },
   {
    "duration": 349,
    "start_time": "2022-03-27T17:15:08.302Z"
   },
   {
    "duration": 5,
    "start_time": "2022-03-27T17:15:08.690Z"
   },
   {
    "duration": 4,
    "start_time": "2022-03-27T17:15:09.066Z"
   },
   {
    "duration": 26,
    "start_time": "2022-03-27T17:15:09.465Z"
   },
   {
    "duration": 346,
    "start_time": "2022-03-27T17:15:12.495Z"
   },
   {
    "duration": 278,
    "start_time": "2022-03-27T17:15:14.439Z"
   },
   {
    "duration": 161,
    "start_time": "2022-03-27T17:15:16.056Z"
   },
   {
    "duration": 166,
    "start_time": "2022-03-27T17:15:18.322Z"
   },
   {
    "duration": 262,
    "start_time": "2022-03-27T17:15:22.002Z"
   },
   {
    "duration": 333,
    "start_time": "2022-03-27T17:15:26.898Z"
   },
   {
    "duration": 6,
    "start_time": "2022-03-27T17:15:37.197Z"
   },
   {
    "duration": 5,
    "start_time": "2022-03-27T17:15:50.030Z"
   },
   {
    "duration": 199,
    "start_time": "2022-03-27T17:15:51.800Z"
   },
   {
    "duration": 132,
    "start_time": "2022-03-27T17:16:02.126Z"
   },
   {
    "duration": 217,
    "start_time": "2022-03-27T17:16:04.456Z"
   },
   {
    "duration": 143,
    "start_time": "2022-03-27T17:16:06.791Z"
   },
   {
    "duration": 14,
    "start_time": "2022-03-27T17:16:08.426Z"
   },
   {
    "duration": 128,
    "start_time": "2022-03-27T17:16:12.483Z"
   },
   {
    "duration": 138,
    "start_time": "2022-03-27T17:16:15.579Z"
   },
   {
    "duration": 177,
    "start_time": "2022-03-27T17:16:22.049Z"
   },
   {
    "duration": 238,
    "start_time": "2022-03-27T17:16:25.279Z"
   },
   {
    "duration": 181,
    "start_time": "2022-03-27T17:16:27.796Z"
   },
   {
    "duration": 180,
    "start_time": "2022-03-27T17:16:31.076Z"
   },
   {
    "duration": 201,
    "start_time": "2022-03-27T17:16:34.580Z"
   },
   {
    "duration": 27,
    "start_time": "2022-03-27T17:17:02.362Z"
   },
   {
    "duration": 7,
    "start_time": "2022-03-27T17:17:13.453Z"
   },
   {
    "duration": 7,
    "start_time": "2022-03-27T17:17:16.177Z"
   },
   {
    "duration": 26,
    "start_time": "2022-03-27T17:22:28.235Z"
   },
   {
    "duration": 12,
    "start_time": "2022-03-27T17:22:31.506Z"
   },
   {
    "duration": 8,
    "start_time": "2022-03-27T17:22:32.303Z"
   },
   {
    "duration": 68,
    "start_time": "2022-03-27T17:54:11.926Z"
   },
   {
    "duration": 8,
    "start_time": "2022-03-27T17:54:17.521Z"
   },
   {
    "duration": 15,
    "start_time": "2022-03-27T17:54:36.486Z"
   },
   {
    "duration": 24,
    "start_time": "2022-03-27T17:55:42.362Z"
   },
   {
    "duration": 144,
    "start_time": "2022-03-27T17:56:15.386Z"
   },
   {
    "duration": 6,
    "start_time": "2022-03-27T18:04:25.485Z"
   },
   {
    "duration": 9,
    "start_time": "2022-03-27T18:04:32.561Z"
   },
   {
    "duration": 141,
    "start_time": "2022-03-27T18:10:05.105Z"
   },
   {
    "duration": 209,
    "start_time": "2022-03-27T18:10:13.289Z"
   },
   {
    "duration": 133,
    "start_time": "2022-03-27T18:10:24.307Z"
   },
   {
    "duration": 145,
    "start_time": "2022-03-27T18:11:14.991Z"
   },
   {
    "duration": 121,
    "start_time": "2022-03-27T18:13:00.737Z"
   },
   {
    "duration": 119,
    "start_time": "2022-03-27T18:13:39.444Z"
   },
   {
    "duration": 129,
    "start_time": "2022-03-27T18:13:50.992Z"
   },
   {
    "duration": 259,
    "start_time": "2022-03-27T18:15:19.573Z"
   },
   {
    "duration": 267,
    "start_time": "2022-03-27T18:16:20.978Z"
   },
   {
    "duration": 135,
    "start_time": "2022-03-27T18:16:58.125Z"
   },
   {
    "duration": 849,
    "start_time": "2022-03-27T18:37:18.113Z"
   },
   {
    "duration": 88,
    "start_time": "2022-03-27T18:37:19.349Z"
   },
   {
    "duration": 32,
    "start_time": "2022-03-27T18:37:19.763Z"
   },
   {
    "duration": 14,
    "start_time": "2022-03-27T18:37:21.215Z"
   },
   {
    "duration": 67,
    "start_time": "2022-03-27T18:37:21.767Z"
   },
   {
    "duration": 4,
    "start_time": "2022-03-27T18:37:25.799Z"
   },
   {
    "duration": 5,
    "start_time": "2022-03-27T18:37:26.503Z"
   },
   {
    "duration": 4,
    "start_time": "2022-03-27T18:37:26.980Z"
   },
   {
    "duration": 9,
    "start_time": "2022-03-27T18:37:28.352Z"
   },
   {
    "duration": 12,
    "start_time": "2022-03-27T18:37:29.249Z"
   },
   {
    "duration": 8,
    "start_time": "2022-03-27T18:37:31.047Z"
   },
   {
    "duration": 6,
    "start_time": "2022-03-27T18:37:31.657Z"
   },
   {
    "duration": 5,
    "start_time": "2022-03-27T18:37:32.272Z"
   },
   {
    "duration": 7,
    "start_time": "2022-03-27T18:37:33.233Z"
   },
   {
    "duration": 4,
    "start_time": "2022-03-27T18:37:34.498Z"
   },
   {
    "duration": 7,
    "start_time": "2022-03-27T18:37:34.919Z"
   },
   {
    "duration": 6,
    "start_time": "2022-03-27T18:37:35.350Z"
   },
   {
    "duration": 5,
    "start_time": "2022-03-27T18:37:35.913Z"
   },
   {
    "duration": 13,
    "start_time": "2022-03-27T18:37:37.557Z"
   },
   {
    "duration": 8,
    "start_time": "2022-03-27T18:37:38.552Z"
   },
   {
    "duration": 12,
    "start_time": "2022-03-27T18:37:40.407Z"
   },
   {
    "duration": 7,
    "start_time": "2022-03-27T18:37:41.563Z"
   },
   {
    "duration": 12,
    "start_time": "2022-03-27T18:37:42.007Z"
   },
   {
    "duration": 6,
    "start_time": "2022-03-27T18:37:42.392Z"
   },
   {
    "duration": 5,
    "start_time": "2022-03-27T18:37:42.819Z"
   },
   {
    "duration": 5,
    "start_time": "2022-03-27T18:37:44.413Z"
   },
   {
    "duration": 6,
    "start_time": "2022-03-27T18:37:44.826Z"
   },
   {
    "duration": 6,
    "start_time": "2022-03-27T18:37:45.208Z"
   },
   {
    "duration": 6,
    "start_time": "2022-03-27T18:37:45.677Z"
   },
   {
    "duration": 4,
    "start_time": "2022-03-27T18:37:46.477Z"
   },
   {
    "duration": 303,
    "start_time": "2022-03-27T18:37:47.590Z"
   },
   {
    "duration": 5,
    "start_time": "2022-03-27T18:37:47.948Z"
   },
   {
    "duration": 4,
    "start_time": "2022-03-27T18:37:48.291Z"
   },
   {
    "duration": 31,
    "start_time": "2022-03-27T18:37:48.704Z"
   },
   {
    "duration": 358,
    "start_time": "2022-03-27T18:37:51.273Z"
   },
   {
    "duration": 289,
    "start_time": "2022-03-27T18:37:53.200Z"
   },
   {
    "duration": 165,
    "start_time": "2022-03-27T18:37:55.178Z"
   },
   {
    "duration": 158,
    "start_time": "2022-03-27T18:37:56.371Z"
   },
   {
    "duration": 294,
    "start_time": "2022-03-27T18:38:00.839Z"
   },
   {
    "duration": 270,
    "start_time": "2022-03-27T18:38:04.456Z"
   },
   {
    "duration": 6,
    "start_time": "2022-03-27T18:38:06.159Z"
   },
   {
    "duration": 4,
    "start_time": "2022-03-27T18:38:10.228Z"
   },
   {
    "duration": 134,
    "start_time": "2022-03-27T18:38:10.758Z"
   },
   {
    "duration": 142,
    "start_time": "2022-03-27T18:38:13.122Z"
   },
   {
    "duration": 220,
    "start_time": "2022-03-27T18:38:14.749Z"
   },
   {
    "duration": 152,
    "start_time": "2022-03-27T18:38:16.466Z"
   },
   {
    "duration": 12,
    "start_time": "2022-03-27T18:38:19.605Z"
   },
   {
    "duration": 146,
    "start_time": "2022-03-27T18:38:20.953Z"
   },
   {
    "duration": 159,
    "start_time": "2022-03-27T18:38:23.526Z"
   },
   {
    "duration": 136,
    "start_time": "2022-03-27T18:38:26.061Z"
   },
   {
    "duration": 185,
    "start_time": "2022-03-27T18:38:28.603Z"
   },
   {
    "duration": 146,
    "start_time": "2022-03-27T18:38:30.561Z"
   },
   {
    "duration": 156,
    "start_time": "2022-03-27T18:38:32.500Z"
   },
   {
    "duration": 159,
    "start_time": "2022-03-27T18:38:35.947Z"
   },
   {
    "duration": 29,
    "start_time": "2022-03-27T18:38:38.928Z"
   },
   {
    "duration": 8,
    "start_time": "2022-03-27T18:38:41.739Z"
   },
   {
    "duration": 8,
    "start_time": "2022-03-27T18:38:42.617Z"
   },
   {
    "duration": 156,
    "start_time": "2022-03-27T18:38:48.259Z"
   },
   {
    "duration": 10,
    "start_time": "2022-03-27T18:38:53.432Z"
   },
   {
    "duration": 347,
    "start_time": "2022-03-27T18:38:54.073Z"
   },
   {
    "duration": 275,
    "start_time": "2022-03-27T18:38:57.224Z"
   },
   {
    "duration": 164,
    "start_time": "2022-03-27T18:38:59.192Z"
   },
   {
    "duration": 171,
    "start_time": "2022-03-27T18:39:00.779Z"
   },
   {
    "duration": 162,
    "start_time": "2022-03-27T18:39:03.034Z"
   },
   {
    "duration": 137,
    "start_time": "2022-03-27T18:39:04.486Z"
   },
   {
    "duration": 156,
    "start_time": "2022-03-27T18:39:06.331Z"
   },
   {
    "duration": 141,
    "start_time": "2022-03-27T18:39:08.471Z"
   },
   {
    "duration": 5,
    "start_time": "2022-03-27T18:45:26.999Z"
   },
   {
    "duration": 163,
    "start_time": "2022-03-27T18:57:24.964Z"
   }
  ],
  "kernelspec": {
   "display_name": "Python 3 (ipykernel)",
   "language": "python",
   "name": "python3"
  },
  "language_info": {
   "codemirror_mode": {
    "name": "ipython",
    "version": 3
   },
   "file_extension": ".py",
   "mimetype": "text/x-python",
   "name": "python",
   "nbconvert_exporter": "python",
   "pygments_lexer": "ipython3",
   "version": "3.10.2"
  },
  "toc": {
   "base_numbering": 1,
   "nav_menu": {},
   "number_sections": true,
   "sideBar": true,
   "skip_h1_title": true,
   "title_cell": "Содержание",
   "title_sidebar": "Contents",
   "toc_cell": true,
   "toc_position": {},
   "toc_section_display": true,
   "toc_window_display": true
  }
 },
 "nbformat": 4,
 "nbformat_minor": 4
}
