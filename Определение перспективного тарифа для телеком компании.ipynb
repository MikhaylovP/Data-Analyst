{
 "cells": [
  {
   "cell_type": "markdown",
   "metadata": {},
   "source": [
    "# Определение перспективного тарифа для телеком компании\n",
    "\n",
    "Клиентам предлагают два тарифных плана: «Смарт» и «Ультра». Чтобы скорректировать рекламный бюджет, коммерческий департамент хочет понять, какой тариф приносит больше денег.\n",
    "Необходимо сделать предварительный анализ тарифов на небольшой выборке клиентов. В распоряжении данные 500 пользователей «Мегалайна»: кто они, откуда, каким тарифом пользуются, сколько звонков и сообщений каждый отправил за 2018 год. Нужно проанализировать поведение клиентов и сделать вывод — какой тариф лучше.\n",
    "\n",
    "Описание тарифов\n",
    "\n",
    "Тариф «Смарт»\n",
    "\n",
    "    Ежемесячная плата: 550 рублей\n",
    "    Включено 500 минут разговора, 50 сообщений и 15 Гб интернет-трафика\n",
    "    Стоимость услуг сверх тарифного пакета:\n",
    "        минута разговора: 3 рубля\n",
    "        сообщение: 3 рубля\n",
    "        1 Гб интернет-трафика: 200 рублей\n",
    "\n",
    "Тариф «Ультра»\n",
    "\n",
    "    Ежемесячная плата: 1950 рублей\n",
    "    Включено 3000 минут разговора, 1000 сообщений и 30 Гб интернет-трафика\n",
    "    Стоимость услуг сверх тарифного пакета:\n",
    "        минута разговора: 1 рубль\n",
    "        сообщение: 1 рубль\n",
    "        1 Гб интернет-трафика: 150 рублей\n",
    "\n",
    "Примечание:\n",
    "«Мегалайн» всегда округляет секунды до минут, а мегабайты — до гигабайт. Каждый звонок округляется отдельно: даже если он длился всего 1 секунду, будет засчитан как 1 минута.\n",
    "Для веб-трафика отдельные сессии не считаются. Вместо этого общая сумма за месяц округляется в бо́льшую сторону. Если абонент использует 1025 мегабайт в этом месяце, с него возьмут плату за 2 гигабайта."
   ]
  },
  {
   "cell_type": "code",
   "execution_count": 1,
   "metadata": {},
   "outputs": [],
   "source": [
    "# импорт библиотек\n",
    "import pandas as pd\n",
    "import numpy as np\n",
    "import matplotlib.pyplot as plt\n",
    "from scipy import stats as st"
   ]
  },
  {
   "cell_type": "code",
   "execution_count": 2,
   "metadata": {},
   "outputs": [],
   "source": [
    "# загрузка файлов\n",
    "df_calls = pd.read_csv('/datasets/calls.csv')\n",
    "df_internet = pd.read_csv('/datasets/internet.csv')\n",
    "df_messages = pd.read_csv('/datasets/messages.csv')\n",
    "df_tariffs = pd.read_csv('/datasets/tariffs.csv')\n",
    "df_users = pd.read_csv('/datasets/users.csv')"
   ]
  },
  {
   "cell_type": "markdown",
   "metadata": {},
   "source": [
    "## Обзор данных"
   ]
  },
  {
   "cell_type": "code",
   "execution_count": 3,
   "metadata": {},
   "outputs": [],
   "source": [
    "def first_look(df):\n",
    "    '''Функция для просмотра основной информации о датафрейме'''\n",
    "    print('Первые 5 строк датасета:')\n",
    "    display(df.head())\n",
    "    print('Информация о датасете:')\n",
    "    print(df.info())\n",
    "    print(df.describe())\n",
    "    print('Количество пропусков:')\n",
    "    print(df.isna().sum())\n",
    "    print('Количество дубликатов:')\n",
    "    print(df.duplicated().sum())"
   ]
  },
  {
   "cell_type": "code",
   "execution_count": 4,
   "metadata": {},
   "outputs": [
    {
     "name": "stdout",
     "output_type": "stream",
     "text": [
      "Первые 5 строк датасета:\n"
     ]
    },
    {
     "data": {
      "text/html": [
       "<div>\n",
       "<style scoped>\n",
       "    .dataframe tbody tr th:only-of-type {\n",
       "        vertical-align: middle;\n",
       "    }\n",
       "\n",
       "    .dataframe tbody tr th {\n",
       "        vertical-align: top;\n",
       "    }\n",
       "\n",
       "    .dataframe thead th {\n",
       "        text-align: right;\n",
       "    }\n",
       "</style>\n",
       "<table border=\"1\" class=\"dataframe\">\n",
       "  <thead>\n",
       "    <tr style=\"text-align: right;\">\n",
       "      <th></th>\n",
       "      <th>id</th>\n",
       "      <th>call_date</th>\n",
       "      <th>duration</th>\n",
       "      <th>user_id</th>\n",
       "    </tr>\n",
       "  </thead>\n",
       "  <tbody>\n",
       "    <tr>\n",
       "      <th>0</th>\n",
       "      <td>1000_0</td>\n",
       "      <td>2018-07-25</td>\n",
       "      <td>0.00</td>\n",
       "      <td>1000</td>\n",
       "    </tr>\n",
       "    <tr>\n",
       "      <th>1</th>\n",
       "      <td>1000_1</td>\n",
       "      <td>2018-08-17</td>\n",
       "      <td>0.00</td>\n",
       "      <td>1000</td>\n",
       "    </tr>\n",
       "    <tr>\n",
       "      <th>2</th>\n",
       "      <td>1000_2</td>\n",
       "      <td>2018-06-11</td>\n",
       "      <td>2.85</td>\n",
       "      <td>1000</td>\n",
       "    </tr>\n",
       "    <tr>\n",
       "      <th>3</th>\n",
       "      <td>1000_3</td>\n",
       "      <td>2018-09-21</td>\n",
       "      <td>13.80</td>\n",
       "      <td>1000</td>\n",
       "    </tr>\n",
       "    <tr>\n",
       "      <th>4</th>\n",
       "      <td>1000_4</td>\n",
       "      <td>2018-12-15</td>\n",
       "      <td>5.18</td>\n",
       "      <td>1000</td>\n",
       "    </tr>\n",
       "  </tbody>\n",
       "</table>\n",
       "</div>"
      ],
      "text/plain": [
       "       id   call_date  duration  user_id\n",
       "0  1000_0  2018-07-25      0.00     1000\n",
       "1  1000_1  2018-08-17      0.00     1000\n",
       "2  1000_2  2018-06-11      2.85     1000\n",
       "3  1000_3  2018-09-21     13.80     1000\n",
       "4  1000_4  2018-12-15      5.18     1000"
      ]
     },
     "metadata": {},
     "output_type": "display_data"
    },
    {
     "name": "stdout",
     "output_type": "stream",
     "text": [
      "Информация о датасете:\n",
      "<class 'pandas.core.frame.DataFrame'>\n",
      "RangeIndex: 202607 entries, 0 to 202606\n",
      "Data columns (total 4 columns):\n",
      " #   Column     Non-Null Count   Dtype  \n",
      "---  ------     --------------   -----  \n",
      " 0   id         202607 non-null  object \n",
      " 1   call_date  202607 non-null  object \n",
      " 2   duration   202607 non-null  float64\n",
      " 3   user_id    202607 non-null  int64  \n",
      "dtypes: float64(1), int64(1), object(2)\n",
      "memory usage: 6.2+ MB\n",
      "None\n",
      "            duration        user_id\n",
      "count  202607.000000  202607.000000\n",
      "mean        6.755887    1253.940619\n",
      "std         5.843365     144.722751\n",
      "min         0.000000    1000.000000\n",
      "25%         1.300000    1126.000000\n",
      "50%         6.000000    1260.000000\n",
      "75%        10.700000    1379.000000\n",
      "max        38.000000    1499.000000\n",
      "Количество пропусков:\n",
      "id           0\n",
      "call_date    0\n",
      "duration     0\n",
      "user_id      0\n",
      "dtype: int64\n",
      "Количество дубликатов:\n",
      "0\n"
     ]
    }
   ],
   "source": [
    "first_look(df_calls)"
   ]
  },
  {
   "cell_type": "code",
   "execution_count": 5,
   "metadata": {},
   "outputs": [
    {
     "name": "stdout",
     "output_type": "stream",
     "text": [
      "Первые 5 строк датасета:\n"
     ]
    },
    {
     "data": {
      "text/html": [
       "<div>\n",
       "<style scoped>\n",
       "    .dataframe tbody tr th:only-of-type {\n",
       "        vertical-align: middle;\n",
       "    }\n",
       "\n",
       "    .dataframe tbody tr th {\n",
       "        vertical-align: top;\n",
       "    }\n",
       "\n",
       "    .dataframe thead th {\n",
       "        text-align: right;\n",
       "    }\n",
       "</style>\n",
       "<table border=\"1\" class=\"dataframe\">\n",
       "  <thead>\n",
       "    <tr style=\"text-align: right;\">\n",
       "      <th></th>\n",
       "      <th>Unnamed: 0</th>\n",
       "      <th>id</th>\n",
       "      <th>mb_used</th>\n",
       "      <th>session_date</th>\n",
       "      <th>user_id</th>\n",
       "    </tr>\n",
       "  </thead>\n",
       "  <tbody>\n",
       "    <tr>\n",
       "      <th>0</th>\n",
       "      <td>0</td>\n",
       "      <td>1000_0</td>\n",
       "      <td>112.95</td>\n",
       "      <td>2018-11-25</td>\n",
       "      <td>1000</td>\n",
       "    </tr>\n",
       "    <tr>\n",
       "      <th>1</th>\n",
       "      <td>1</td>\n",
       "      <td>1000_1</td>\n",
       "      <td>1052.81</td>\n",
       "      <td>2018-09-07</td>\n",
       "      <td>1000</td>\n",
       "    </tr>\n",
       "    <tr>\n",
       "      <th>2</th>\n",
       "      <td>2</td>\n",
       "      <td>1000_2</td>\n",
       "      <td>1197.26</td>\n",
       "      <td>2018-06-25</td>\n",
       "      <td>1000</td>\n",
       "    </tr>\n",
       "    <tr>\n",
       "      <th>3</th>\n",
       "      <td>3</td>\n",
       "      <td>1000_3</td>\n",
       "      <td>550.27</td>\n",
       "      <td>2018-08-22</td>\n",
       "      <td>1000</td>\n",
       "    </tr>\n",
       "    <tr>\n",
       "      <th>4</th>\n",
       "      <td>4</td>\n",
       "      <td>1000_4</td>\n",
       "      <td>302.56</td>\n",
       "      <td>2018-09-24</td>\n",
       "      <td>1000</td>\n",
       "    </tr>\n",
       "  </tbody>\n",
       "</table>\n",
       "</div>"
      ],
      "text/plain": [
       "   Unnamed: 0      id  mb_used session_date  user_id\n",
       "0           0  1000_0   112.95   2018-11-25     1000\n",
       "1           1  1000_1  1052.81   2018-09-07     1000\n",
       "2           2  1000_2  1197.26   2018-06-25     1000\n",
       "3           3  1000_3   550.27   2018-08-22     1000\n",
       "4           4  1000_4   302.56   2018-09-24     1000"
      ]
     },
     "metadata": {},
     "output_type": "display_data"
    },
    {
     "name": "stdout",
     "output_type": "stream",
     "text": [
      "Информация о датасете:\n",
      "<class 'pandas.core.frame.DataFrame'>\n",
      "RangeIndex: 149396 entries, 0 to 149395\n",
      "Data columns (total 5 columns):\n",
      " #   Column        Non-Null Count   Dtype  \n",
      "---  ------        --------------   -----  \n",
      " 0   Unnamed: 0    149396 non-null  int64  \n",
      " 1   id            149396 non-null  object \n",
      " 2   mb_used       149396 non-null  float64\n",
      " 3   session_date  149396 non-null  object \n",
      " 4   user_id       149396 non-null  int64  \n",
      "dtypes: float64(1), int64(2), object(2)\n",
      "memory usage: 5.7+ MB\n",
      "None\n",
      "          Unnamed: 0        mb_used        user_id\n",
      "count  149396.000000  149396.000000  149396.000000\n",
      "mean    74697.500000     370.192426    1252.099842\n",
      "std     43127.054745     278.300951     144.050823\n",
      "min         0.000000       0.000000    1000.000000\n",
      "25%     37348.750000     138.187500    1130.000000\n",
      "50%     74697.500000     348.015000    1251.000000\n",
      "75%    112046.250000     559.552500    1380.000000\n",
      "max    149395.000000    1724.830000    1499.000000\n",
      "Количество пропусков:\n",
      "Unnamed: 0      0\n",
      "id              0\n",
      "mb_used         0\n",
      "session_date    0\n",
      "user_id         0\n",
      "dtype: int64\n",
      "Количество дубликатов:\n",
      "0\n"
     ]
    }
   ],
   "source": [
    "first_look(df_internet)"
   ]
  },
  {
   "cell_type": "code",
   "execution_count": 6,
   "metadata": {},
   "outputs": [
    {
     "name": "stdout",
     "output_type": "stream",
     "text": [
      "Первые 5 строк датасета:\n"
     ]
    },
    {
     "data": {
      "text/html": [
       "<div>\n",
       "<style scoped>\n",
       "    .dataframe tbody tr th:only-of-type {\n",
       "        vertical-align: middle;\n",
       "    }\n",
       "\n",
       "    .dataframe tbody tr th {\n",
       "        vertical-align: top;\n",
       "    }\n",
       "\n",
       "    .dataframe thead th {\n",
       "        text-align: right;\n",
       "    }\n",
       "</style>\n",
       "<table border=\"1\" class=\"dataframe\">\n",
       "  <thead>\n",
       "    <tr style=\"text-align: right;\">\n",
       "      <th></th>\n",
       "      <th>id</th>\n",
       "      <th>message_date</th>\n",
       "      <th>user_id</th>\n",
       "    </tr>\n",
       "  </thead>\n",
       "  <tbody>\n",
       "    <tr>\n",
       "      <th>0</th>\n",
       "      <td>1000_0</td>\n",
       "      <td>2018-06-27</td>\n",
       "      <td>1000</td>\n",
       "    </tr>\n",
       "    <tr>\n",
       "      <th>1</th>\n",
       "      <td>1000_1</td>\n",
       "      <td>2018-10-08</td>\n",
       "      <td>1000</td>\n",
       "    </tr>\n",
       "    <tr>\n",
       "      <th>2</th>\n",
       "      <td>1000_2</td>\n",
       "      <td>2018-08-04</td>\n",
       "      <td>1000</td>\n",
       "    </tr>\n",
       "    <tr>\n",
       "      <th>3</th>\n",
       "      <td>1000_3</td>\n",
       "      <td>2018-06-16</td>\n",
       "      <td>1000</td>\n",
       "    </tr>\n",
       "    <tr>\n",
       "      <th>4</th>\n",
       "      <td>1000_4</td>\n",
       "      <td>2018-12-05</td>\n",
       "      <td>1000</td>\n",
       "    </tr>\n",
       "  </tbody>\n",
       "</table>\n",
       "</div>"
      ],
      "text/plain": [
       "       id message_date  user_id\n",
       "0  1000_0   2018-06-27     1000\n",
       "1  1000_1   2018-10-08     1000\n",
       "2  1000_2   2018-08-04     1000\n",
       "3  1000_3   2018-06-16     1000\n",
       "4  1000_4   2018-12-05     1000"
      ]
     },
     "metadata": {},
     "output_type": "display_data"
    },
    {
     "name": "stdout",
     "output_type": "stream",
     "text": [
      "Информация о датасете:\n",
      "<class 'pandas.core.frame.DataFrame'>\n",
      "RangeIndex: 123036 entries, 0 to 123035\n",
      "Data columns (total 3 columns):\n",
      " #   Column        Non-Null Count   Dtype \n",
      "---  ------        --------------   ----- \n",
      " 0   id            123036 non-null  object\n",
      " 1   message_date  123036 non-null  object\n",
      " 2   user_id       123036 non-null  int64 \n",
      "dtypes: int64(1), object(2)\n",
      "memory usage: 2.8+ MB\n",
      "None\n",
      "             user_id\n",
      "count  123036.000000\n",
      "mean     1256.989410\n",
      "std       143.523967\n",
      "min      1000.000000\n",
      "25%      1134.000000\n",
      "50%      1271.000000\n",
      "75%      1381.000000\n",
      "max      1499.000000\n",
      "Количество пропусков:\n",
      "id              0\n",
      "message_date    0\n",
      "user_id         0\n",
      "dtype: int64\n",
      "Количество дубликатов:\n",
      "0\n"
     ]
    }
   ],
   "source": [
    "first_look(df_messages)"
   ]
  },
  {
   "cell_type": "code",
   "execution_count": 7,
   "metadata": {},
   "outputs": [
    {
     "name": "stdout",
     "output_type": "stream",
     "text": [
      "Первые 5 строк датасета:\n"
     ]
    },
    {
     "data": {
      "text/html": [
       "<div>\n",
       "<style scoped>\n",
       "    .dataframe tbody tr th:only-of-type {\n",
       "        vertical-align: middle;\n",
       "    }\n",
       "\n",
       "    .dataframe tbody tr th {\n",
       "        vertical-align: top;\n",
       "    }\n",
       "\n",
       "    .dataframe thead th {\n",
       "        text-align: right;\n",
       "    }\n",
       "</style>\n",
       "<table border=\"1\" class=\"dataframe\">\n",
       "  <thead>\n",
       "    <tr style=\"text-align: right;\">\n",
       "      <th></th>\n",
       "      <th>messages_included</th>\n",
       "      <th>mb_per_month_included</th>\n",
       "      <th>minutes_included</th>\n",
       "      <th>rub_monthly_fee</th>\n",
       "      <th>rub_per_gb</th>\n",
       "      <th>rub_per_message</th>\n",
       "      <th>rub_per_minute</th>\n",
       "      <th>tariff_name</th>\n",
       "    </tr>\n",
       "  </thead>\n",
       "  <tbody>\n",
       "    <tr>\n",
       "      <th>0</th>\n",
       "      <td>50</td>\n",
       "      <td>15360</td>\n",
       "      <td>500</td>\n",
       "      <td>550</td>\n",
       "      <td>200</td>\n",
       "      <td>3</td>\n",
       "      <td>3</td>\n",
       "      <td>smart</td>\n",
       "    </tr>\n",
       "    <tr>\n",
       "      <th>1</th>\n",
       "      <td>1000</td>\n",
       "      <td>30720</td>\n",
       "      <td>3000</td>\n",
       "      <td>1950</td>\n",
       "      <td>150</td>\n",
       "      <td>1</td>\n",
       "      <td>1</td>\n",
       "      <td>ultra</td>\n",
       "    </tr>\n",
       "  </tbody>\n",
       "</table>\n",
       "</div>"
      ],
      "text/plain": [
       "   messages_included  mb_per_month_included  minutes_included  \\\n",
       "0                 50                  15360               500   \n",
       "1               1000                  30720              3000   \n",
       "\n",
       "   rub_monthly_fee  rub_per_gb  rub_per_message  rub_per_minute tariff_name  \n",
       "0              550         200                3               3       smart  \n",
       "1             1950         150                1               1       ultra  "
      ]
     },
     "metadata": {},
     "output_type": "display_data"
    },
    {
     "name": "stdout",
     "output_type": "stream",
     "text": [
      "Информация о датасете:\n",
      "<class 'pandas.core.frame.DataFrame'>\n",
      "RangeIndex: 2 entries, 0 to 1\n",
      "Data columns (total 8 columns):\n",
      " #   Column                 Non-Null Count  Dtype \n",
      "---  ------                 --------------  ----- \n",
      " 0   messages_included      2 non-null      int64 \n",
      " 1   mb_per_month_included  2 non-null      int64 \n",
      " 2   minutes_included       2 non-null      int64 \n",
      " 3   rub_monthly_fee        2 non-null      int64 \n",
      " 4   rub_per_gb             2 non-null      int64 \n",
      " 5   rub_per_message        2 non-null      int64 \n",
      " 6   rub_per_minute         2 non-null      int64 \n",
      " 7   tariff_name            2 non-null      object\n",
      "dtypes: int64(7), object(1)\n",
      "memory usage: 256.0+ bytes\n",
      "None\n",
      "       messages_included  mb_per_month_included  minutes_included  \\\n",
      "count           2.000000               2.000000          2.000000   \n",
      "mean          525.000000           23040.000000       1750.000000   \n",
      "std           671.751442           10861.160159       1767.766953   \n",
      "min            50.000000           15360.000000        500.000000   \n",
      "25%           287.500000           19200.000000       1125.000000   \n",
      "50%           525.000000           23040.000000       1750.000000   \n",
      "75%           762.500000           26880.000000       2375.000000   \n",
      "max          1000.000000           30720.000000       3000.000000   \n",
      "\n",
      "       rub_monthly_fee  rub_per_gb  rub_per_message  rub_per_minute  \n",
      "count         2.000000    2.000000         2.000000        2.000000  \n",
      "mean       1250.000000  175.000000         2.000000        2.000000  \n",
      "std         989.949494   35.355339         1.414214        1.414214  \n",
      "min         550.000000  150.000000         1.000000        1.000000  \n",
      "25%         900.000000  162.500000         1.500000        1.500000  \n",
      "50%        1250.000000  175.000000         2.000000        2.000000  \n",
      "75%        1600.000000  187.500000         2.500000        2.500000  \n",
      "max        1950.000000  200.000000         3.000000        3.000000  \n",
      "Количество пропусков:\n",
      "messages_included        0\n",
      "mb_per_month_included    0\n",
      "minutes_included         0\n",
      "rub_monthly_fee          0\n",
      "rub_per_gb               0\n",
      "rub_per_message          0\n",
      "rub_per_minute           0\n",
      "tariff_name              0\n",
      "dtype: int64\n",
      "Количество дубликатов:\n",
      "0\n"
     ]
    }
   ],
   "source": [
    "first_look(df_tariffs)"
   ]
  },
  {
   "cell_type": "code",
   "execution_count": 8,
   "metadata": {},
   "outputs": [
    {
     "name": "stdout",
     "output_type": "stream",
     "text": [
      "Первые 5 строк датасета:\n"
     ]
    },
    {
     "data": {
      "text/html": [
       "<div>\n",
       "<style scoped>\n",
       "    .dataframe tbody tr th:only-of-type {\n",
       "        vertical-align: middle;\n",
       "    }\n",
       "\n",
       "    .dataframe tbody tr th {\n",
       "        vertical-align: top;\n",
       "    }\n",
       "\n",
       "    .dataframe thead th {\n",
       "        text-align: right;\n",
       "    }\n",
       "</style>\n",
       "<table border=\"1\" class=\"dataframe\">\n",
       "  <thead>\n",
       "    <tr style=\"text-align: right;\">\n",
       "      <th></th>\n",
       "      <th>user_id</th>\n",
       "      <th>age</th>\n",
       "      <th>churn_date</th>\n",
       "      <th>city</th>\n",
       "      <th>first_name</th>\n",
       "      <th>last_name</th>\n",
       "      <th>reg_date</th>\n",
       "      <th>tariff</th>\n",
       "    </tr>\n",
       "  </thead>\n",
       "  <tbody>\n",
       "    <tr>\n",
       "      <th>0</th>\n",
       "      <td>1000</td>\n",
       "      <td>52</td>\n",
       "      <td>NaN</td>\n",
       "      <td>Краснодар</td>\n",
       "      <td>Рафаил</td>\n",
       "      <td>Верещагин</td>\n",
       "      <td>2018-05-25</td>\n",
       "      <td>ultra</td>\n",
       "    </tr>\n",
       "    <tr>\n",
       "      <th>1</th>\n",
       "      <td>1001</td>\n",
       "      <td>41</td>\n",
       "      <td>NaN</td>\n",
       "      <td>Москва</td>\n",
       "      <td>Иван</td>\n",
       "      <td>Ежов</td>\n",
       "      <td>2018-11-01</td>\n",
       "      <td>smart</td>\n",
       "    </tr>\n",
       "    <tr>\n",
       "      <th>2</th>\n",
       "      <td>1002</td>\n",
       "      <td>59</td>\n",
       "      <td>NaN</td>\n",
       "      <td>Стерлитамак</td>\n",
       "      <td>Евгений</td>\n",
       "      <td>Абрамович</td>\n",
       "      <td>2018-06-17</td>\n",
       "      <td>smart</td>\n",
       "    </tr>\n",
       "    <tr>\n",
       "      <th>3</th>\n",
       "      <td>1003</td>\n",
       "      <td>23</td>\n",
       "      <td>NaN</td>\n",
       "      <td>Москва</td>\n",
       "      <td>Белла</td>\n",
       "      <td>Белякова</td>\n",
       "      <td>2018-08-17</td>\n",
       "      <td>ultra</td>\n",
       "    </tr>\n",
       "    <tr>\n",
       "      <th>4</th>\n",
       "      <td>1004</td>\n",
       "      <td>68</td>\n",
       "      <td>NaN</td>\n",
       "      <td>Новокузнецк</td>\n",
       "      <td>Татьяна</td>\n",
       "      <td>Авдеенко</td>\n",
       "      <td>2018-05-14</td>\n",
       "      <td>ultra</td>\n",
       "    </tr>\n",
       "  </tbody>\n",
       "</table>\n",
       "</div>"
      ],
      "text/plain": [
       "   user_id  age churn_date         city first_name  last_name    reg_date  \\\n",
       "0     1000   52        NaN    Краснодар     Рафаил  Верещагин  2018-05-25   \n",
       "1     1001   41        NaN       Москва       Иван       Ежов  2018-11-01   \n",
       "2     1002   59        NaN  Стерлитамак    Евгений  Абрамович  2018-06-17   \n",
       "3     1003   23        NaN       Москва      Белла   Белякова  2018-08-17   \n",
       "4     1004   68        NaN  Новокузнецк    Татьяна   Авдеенко  2018-05-14   \n",
       "\n",
       "  tariff  \n",
       "0  ultra  \n",
       "1  smart  \n",
       "2  smart  \n",
       "3  ultra  \n",
       "4  ultra  "
      ]
     },
     "metadata": {},
     "output_type": "display_data"
    },
    {
     "name": "stdout",
     "output_type": "stream",
     "text": [
      "Информация о датасете:\n",
      "<class 'pandas.core.frame.DataFrame'>\n",
      "RangeIndex: 500 entries, 0 to 499\n",
      "Data columns (total 8 columns):\n",
      " #   Column      Non-Null Count  Dtype \n",
      "---  ------      --------------  ----- \n",
      " 0   user_id     500 non-null    int64 \n",
      " 1   age         500 non-null    int64 \n",
      " 2   churn_date  38 non-null     object\n",
      " 3   city        500 non-null    object\n",
      " 4   first_name  500 non-null    object\n",
      " 5   last_name   500 non-null    object\n",
      " 6   reg_date    500 non-null    object\n",
      " 7   tariff      500 non-null    object\n",
      "dtypes: int64(2), object(6)\n",
      "memory usage: 31.4+ KB\n",
      "None\n",
      "           user_id        age\n",
      "count   500.000000  500.00000\n",
      "mean   1249.500000   46.58800\n",
      "std     144.481833   16.66763\n",
      "min    1000.000000   18.00000\n",
      "25%    1124.750000   32.00000\n",
      "50%    1249.500000   46.00000\n",
      "75%    1374.250000   62.00000\n",
      "max    1499.000000   75.00000\n",
      "Количество пропусков:\n",
      "user_id         0\n",
      "age             0\n",
      "churn_date    462\n",
      "city            0\n",
      "first_name      0\n",
      "last_name       0\n",
      "reg_date        0\n",
      "tariff          0\n",
      "dtype: int64\n",
      "Количество дубликатов:\n",
      "0\n"
     ]
    }
   ],
   "source": [
    "first_look(df_users)"
   ]
  },
  {
   "cell_type": "markdown",
   "metadata": {},
   "source": [
    "## Предобработка данных\n",
    "### Приводим данные к нужным типам"
   ]
  },
  {
   "cell_type": "code",
   "execution_count": 9,
   "metadata": {},
   "outputs": [
    {
     "data": {
      "text/html": [
       "<div>\n",
       "<style scoped>\n",
       "    .dataframe tbody tr th:only-of-type {\n",
       "        vertical-align: middle;\n",
       "    }\n",
       "\n",
       "    .dataframe tbody tr th {\n",
       "        vertical-align: top;\n",
       "    }\n",
       "\n",
       "    .dataframe thead th {\n",
       "        text-align: right;\n",
       "    }\n",
       "</style>\n",
       "<table border=\"1\" class=\"dataframe\">\n",
       "  <thead>\n",
       "    <tr style=\"text-align: right;\">\n",
       "      <th></th>\n",
       "      <th>id</th>\n",
       "      <th>call_date</th>\n",
       "      <th>duration</th>\n",
       "      <th>user_id</th>\n",
       "      <th>month</th>\n",
       "    </tr>\n",
       "  </thead>\n",
       "  <tbody>\n",
       "    <tr>\n",
       "      <th>0</th>\n",
       "      <td>1000_0</td>\n",
       "      <td>2018-07-25</td>\n",
       "      <td>0</td>\n",
       "      <td>1000</td>\n",
       "      <td>2018-07-01</td>\n",
       "    </tr>\n",
       "    <tr>\n",
       "      <th>1</th>\n",
       "      <td>1000_1</td>\n",
       "      <td>2018-08-17</td>\n",
       "      <td>0</td>\n",
       "      <td>1000</td>\n",
       "      <td>2018-08-01</td>\n",
       "    </tr>\n",
       "    <tr>\n",
       "      <th>2</th>\n",
       "      <td>1000_2</td>\n",
       "      <td>2018-06-11</td>\n",
       "      <td>3</td>\n",
       "      <td>1000</td>\n",
       "      <td>2018-06-01</td>\n",
       "    </tr>\n",
       "    <tr>\n",
       "      <th>3</th>\n",
       "      <td>1000_3</td>\n",
       "      <td>2018-09-21</td>\n",
       "      <td>14</td>\n",
       "      <td>1000</td>\n",
       "      <td>2018-09-01</td>\n",
       "    </tr>\n",
       "    <tr>\n",
       "      <th>4</th>\n",
       "      <td>1000_4</td>\n",
       "      <td>2018-12-15</td>\n",
       "      <td>6</td>\n",
       "      <td>1000</td>\n",
       "      <td>2018-12-01</td>\n",
       "    </tr>\n",
       "  </tbody>\n",
       "</table>\n",
       "</div>"
      ],
      "text/plain": [
       "       id  call_date  duration  user_id      month\n",
       "0  1000_0 2018-07-25         0     1000 2018-07-01\n",
       "1  1000_1 2018-08-17         0     1000 2018-08-01\n",
       "2  1000_2 2018-06-11         3     1000 2018-06-01\n",
       "3  1000_3 2018-09-21        14     1000 2018-09-01\n",
       "4  1000_4 2018-12-15         6     1000 2018-12-01"
      ]
     },
     "execution_count": 9,
     "metadata": {},
     "output_type": "execute_result"
    }
   ],
   "source": [
    "# меняем формат даты\n",
    "df_calls['call_date'] = pd.to_datetime(df_calls['call_date'], format = '%Y-%m-%d')\n",
    "# добавляем столбец, отображающий месяц\n",
    "df_calls['month'] = df_calls['call_date'].astype('datetime64[M]')\n",
    "# округляем длительность звонков и меняем тип данных на целочисленный\n",
    "df_calls['duration'] = np.ceil(df_calls['duration']).astype('int')\n",
    "# просмотрим датафрейм после всех преобразований\n",
    "df_calls.head()"
   ]
  },
  {
   "cell_type": "code",
   "execution_count": 10,
   "metadata": {},
   "outputs": [
    {
     "data": {
      "text/html": [
       "<div>\n",
       "<style scoped>\n",
       "    .dataframe tbody tr th:only-of-type {\n",
       "        vertical-align: middle;\n",
       "    }\n",
       "\n",
       "    .dataframe tbody tr th {\n",
       "        vertical-align: top;\n",
       "    }\n",
       "\n",
       "    .dataframe thead th {\n",
       "        text-align: right;\n",
       "    }\n",
       "</style>\n",
       "<table border=\"1\" class=\"dataframe\">\n",
       "  <thead>\n",
       "    <tr style=\"text-align: right;\">\n",
       "      <th></th>\n",
       "      <th>Unnamed: 0</th>\n",
       "      <th>id</th>\n",
       "      <th>mb_used</th>\n",
       "      <th>session_date</th>\n",
       "      <th>user_id</th>\n",
       "      <th>call_date</th>\n",
       "      <th>month</th>\n",
       "    </tr>\n",
       "  </thead>\n",
       "  <tbody>\n",
       "    <tr>\n",
       "      <th>0</th>\n",
       "      <td>0</td>\n",
       "      <td>1000_0</td>\n",
       "      <td>112.95</td>\n",
       "      <td>2018-11-25</td>\n",
       "      <td>1000</td>\n",
       "      <td>2018-11-25</td>\n",
       "      <td>2018-11-01</td>\n",
       "    </tr>\n",
       "    <tr>\n",
       "      <th>1</th>\n",
       "      <td>1</td>\n",
       "      <td>1000_1</td>\n",
       "      <td>1052.81</td>\n",
       "      <td>2018-09-07</td>\n",
       "      <td>1000</td>\n",
       "      <td>2018-09-07</td>\n",
       "      <td>2018-09-01</td>\n",
       "    </tr>\n",
       "    <tr>\n",
       "      <th>2</th>\n",
       "      <td>2</td>\n",
       "      <td>1000_2</td>\n",
       "      <td>1197.26</td>\n",
       "      <td>2018-06-25</td>\n",
       "      <td>1000</td>\n",
       "      <td>2018-06-25</td>\n",
       "      <td>2018-06-01</td>\n",
       "    </tr>\n",
       "    <tr>\n",
       "      <th>3</th>\n",
       "      <td>3</td>\n",
       "      <td>1000_3</td>\n",
       "      <td>550.27</td>\n",
       "      <td>2018-08-22</td>\n",
       "      <td>1000</td>\n",
       "      <td>2018-08-22</td>\n",
       "      <td>2018-08-01</td>\n",
       "    </tr>\n",
       "    <tr>\n",
       "      <th>4</th>\n",
       "      <td>4</td>\n",
       "      <td>1000_4</td>\n",
       "      <td>302.56</td>\n",
       "      <td>2018-09-24</td>\n",
       "      <td>1000</td>\n",
       "      <td>2018-09-24</td>\n",
       "      <td>2018-09-01</td>\n",
       "    </tr>\n",
       "  </tbody>\n",
       "</table>\n",
       "</div>"
      ],
      "text/plain": [
       "   Unnamed: 0      id  mb_used session_date  user_id  call_date      month\n",
       "0           0  1000_0   112.95   2018-11-25     1000 2018-11-25 2018-11-01\n",
       "1           1  1000_1  1052.81   2018-09-07     1000 2018-09-07 2018-09-01\n",
       "2           2  1000_2  1197.26   2018-06-25     1000 2018-06-25 2018-06-01\n",
       "3           3  1000_3   550.27   2018-08-22     1000 2018-08-22 2018-08-01\n",
       "4           4  1000_4   302.56   2018-09-24     1000 2018-09-24 2018-09-01"
      ]
     },
     "execution_count": 10,
     "metadata": {},
     "output_type": "execute_result"
    }
   ],
   "source": [
    "# меняем формат даты\n",
    "df_internet['call_date'] = pd.to_datetime(df_internet['session_date'], format = '%Y-%m-%d')\n",
    "# добавляем столбец, отображающий месяц\n",
    "df_internet['month'] = df_internet['session_date'].astype('datetime64[M]')\n",
    "# просмотрим датафрейм после всех преобразований\n",
    "df_internet.head()"
   ]
  },
  {
   "cell_type": "code",
   "execution_count": 11,
   "metadata": {},
   "outputs": [
    {
     "data": {
      "text/html": [
       "<div>\n",
       "<style scoped>\n",
       "    .dataframe tbody tr th:only-of-type {\n",
       "        vertical-align: middle;\n",
       "    }\n",
       "\n",
       "    .dataframe tbody tr th {\n",
       "        vertical-align: top;\n",
       "    }\n",
       "\n",
       "    .dataframe thead th {\n",
       "        text-align: right;\n",
       "    }\n",
       "</style>\n",
       "<table border=\"1\" class=\"dataframe\">\n",
       "  <thead>\n",
       "    <tr style=\"text-align: right;\">\n",
       "      <th></th>\n",
       "      <th>id</th>\n",
       "      <th>message_date</th>\n",
       "      <th>user_id</th>\n",
       "      <th>month</th>\n",
       "    </tr>\n",
       "  </thead>\n",
       "  <tbody>\n",
       "    <tr>\n",
       "      <th>0</th>\n",
       "      <td>1000_0</td>\n",
       "      <td>2018-06-27</td>\n",
       "      <td>1000</td>\n",
       "      <td>2018-06-01</td>\n",
       "    </tr>\n",
       "    <tr>\n",
       "      <th>1</th>\n",
       "      <td>1000_1</td>\n",
       "      <td>2018-10-08</td>\n",
       "      <td>1000</td>\n",
       "      <td>2018-10-01</td>\n",
       "    </tr>\n",
       "    <tr>\n",
       "      <th>2</th>\n",
       "      <td>1000_2</td>\n",
       "      <td>2018-08-04</td>\n",
       "      <td>1000</td>\n",
       "      <td>2018-08-01</td>\n",
       "    </tr>\n",
       "    <tr>\n",
       "      <th>3</th>\n",
       "      <td>1000_3</td>\n",
       "      <td>2018-06-16</td>\n",
       "      <td>1000</td>\n",
       "      <td>2018-06-01</td>\n",
       "    </tr>\n",
       "    <tr>\n",
       "      <th>4</th>\n",
       "      <td>1000_4</td>\n",
       "      <td>2018-12-05</td>\n",
       "      <td>1000</td>\n",
       "      <td>2018-12-01</td>\n",
       "    </tr>\n",
       "  </tbody>\n",
       "</table>\n",
       "</div>"
      ],
      "text/plain": [
       "       id message_date  user_id      month\n",
       "0  1000_0   2018-06-27     1000 2018-06-01\n",
       "1  1000_1   2018-10-08     1000 2018-10-01\n",
       "2  1000_2   2018-08-04     1000 2018-08-01\n",
       "3  1000_3   2018-06-16     1000 2018-06-01\n",
       "4  1000_4   2018-12-05     1000 2018-12-01"
      ]
     },
     "execution_count": 11,
     "metadata": {},
     "output_type": "execute_result"
    }
   ],
   "source": [
    "# меняем формат даты\n",
    "df_messages['message_date'] = pd.to_datetime(df_messages['message_date'], format = '%Y-%m-%d')\n",
    "# добавляем столбец, отображающий месяц\n",
    "df_messages['month'] = df_messages['message_date'].astype('datetime64[M]')\n",
    "# просмотрим датафрейм после всех преобразований\n",
    "df_messages.head()"
   ]
  },
  {
   "cell_type": "markdown",
   "metadata": {},
   "source": [
    "### Сообщения"
   ]
  },
  {
   "cell_type": "code",
   "execution_count": 12,
   "metadata": {},
   "outputs": [],
   "source": [
    "def build_hist(column):\n",
    "    '''Функция для построения гистограммы'''\n",
    "    plt.figure(figsize = (12, 6))\n",
    "    plt.hist(column, bins = 30, color = 'grey', edgecolor = 'black', alpha = 0.7)\n",
    "    plt.axvline(column.describe()['mean'], color = 'r', linewidth = 3, label = f'Mean value {column.describe()[\"mean\"]:.2f}')\n",
    "    plt.axvline(column.describe()['50%'], color = 'b', linewidth = 3, label = f'Median value {column.describe()[\"50%\"]:.0f}')\n",
    "    plt.legend()\n",
    "    plt.title(column.name)"
   ]
  },
  {
   "cell_type": "code",
   "execution_count": 13,
   "metadata": {},
   "outputs": [
    {
     "data": {
      "text/plain": [
       "426"
      ]
     },
     "execution_count": 13,
     "metadata": {},
     "output_type": "execute_result"
    },
    {
     "data": {
      "image/png": "[encoded data removed]",
      "text/plain": [
       "<Figure size 864x432 with 1 Axes>"
      ]
     },
     "metadata": {
      "needs_background": "light"
     },
     "output_type": "display_data"
    }
   ],
   "source": [
    "# посчитаем количество сообщений\n",
    "messages_count = df_messages.groupby(['user_id', 'month']).agg(messages = ('id', 'count')).reset_index()\n",
    "# построим гистограмму для сообщений\n",
    "build_hist(messages_count['messages'])\n",
    "# посмотрим, сколько пользователей пользовались sms-ками\n",
    "messages_count['user_id'].nunique()"
   ]
  },
  {
   "cell_type": "markdown",
   "metadata": {},
   "source": [
    "### Звонки"
   ]
  },
  {
   "cell_type": "code",
   "execution_count": 14,
   "metadata": {},
   "outputs": [
    {
     "data": {
      "image/png": "[encoded data removed]",
      "text/plain": [
       "<Figure size 864x432 with 1 Axes>"
      ]
     },
     "metadata": {
      "needs_background": "light"
     },
     "output_type": "display_data"
    },
    {
     "data": {
      "image/png": "[encoded data removed]",
      "text/plain": [
       "<Figure size 864x432 with 1 Axes>"
      ]
     },
     "metadata": {
      "needs_background": "light"
     },
     "output_type": "display_data"
    }
   ],
   "source": [
    "# рассчитаем среднее количество звонков и их продолжительность, построим гистограммы\n",
    "calls = df_calls.groupby(['user_id', 'month']).agg(calls_count = ('id', 'count'), calls_duration = ('duration', 'sum')).reset_index()\n",
    "build_hist(calls['calls_count'])\n",
    "build_hist(calls['calls_duration'])"
   ]
  },
  {
   "cell_type": "markdown",
   "metadata": {},
   "source": [
    "### Интернет"
   ]
  },
  {
   "cell_type": "code",
   "execution_count": 15,
   "metadata": {},
   "outputs": [
    {
     "data": {
      "image/png": "[encoded data removed]",
      "text/plain": [
       "<Figure size 864x432 with 1 Axes>"
      ]
     },
     "metadata": {
      "needs_background": "light"
     },
     "output_type": "display_data"
    }
   ],
   "source": [
    "# построим гистограмму для интернета\n",
    "internet = df_internet.groupby(['user_id', 'month']).agg(mb_total = ('mb_used', 'sum')).reset_index()\n",
    "build_hist(internet['mb_total'])"
   ]
  },
  {
   "cell_type": "code",
   "execution_count": 16,
   "metadata": {},
   "outputs": [
    {
     "data": {
      "text/html": [
       "<div>\n",
       "<style scoped>\n",
       "    .dataframe tbody tr th:only-of-type {\n",
       "        vertical-align: middle;\n",
       "    }\n",
       "\n",
       "    .dataframe tbody tr th {\n",
       "        vertical-align: top;\n",
       "    }\n",
       "\n",
       "    .dataframe thead th {\n",
       "        text-align: right;\n",
       "    }\n",
       "</style>\n",
       "<table border=\"1\" class=\"dataframe\">\n",
       "  <thead>\n",
       "    <tr style=\"text-align: right;\">\n",
       "      <th></th>\n",
       "      <th>user_id</th>\n",
       "      <th>month</th>\n",
       "      <th>messages</th>\n",
       "      <th>calls_count</th>\n",
       "      <th>calls_duration</th>\n",
       "      <th>mb_total</th>\n",
       "    </tr>\n",
       "  </thead>\n",
       "  <tbody>\n",
       "    <tr>\n",
       "      <th>0</th>\n",
       "      <td>1000</td>\n",
       "      <td>2018-05-01</td>\n",
       "      <td>22.0</td>\n",
       "      <td>22.0</td>\n",
       "      <td>159.0</td>\n",
       "      <td>2253.49</td>\n",
       "    </tr>\n",
       "    <tr>\n",
       "      <th>1</th>\n",
       "      <td>1000</td>\n",
       "      <td>2018-06-01</td>\n",
       "      <td>60.0</td>\n",
       "      <td>43.0</td>\n",
       "      <td>172.0</td>\n",
       "      <td>23233.77</td>\n",
       "    </tr>\n",
       "    <tr>\n",
       "      <th>2</th>\n",
       "      <td>1000</td>\n",
       "      <td>2018-07-01</td>\n",
       "      <td>75.0</td>\n",
       "      <td>47.0</td>\n",
       "      <td>340.0</td>\n",
       "      <td>14003.64</td>\n",
       "    </tr>\n",
       "    <tr>\n",
       "      <th>3</th>\n",
       "      <td>1000</td>\n",
       "      <td>2018-08-01</td>\n",
       "      <td>81.0</td>\n",
       "      <td>52.0</td>\n",
       "      <td>408.0</td>\n",
       "      <td>14055.93</td>\n",
       "    </tr>\n",
       "    <tr>\n",
       "      <th>4</th>\n",
       "      <td>1000</td>\n",
       "      <td>2018-09-01</td>\n",
       "      <td>57.0</td>\n",
       "      <td>58.0</td>\n",
       "      <td>466.0</td>\n",
       "      <td>14568.91</td>\n",
       "    </tr>\n",
       "  </tbody>\n",
       "</table>\n",
       "</div>"
      ],
      "text/plain": [
       "   user_id      month  messages  calls_count  calls_duration  mb_total\n",
       "0     1000 2018-05-01      22.0         22.0           159.0   2253.49\n",
       "1     1000 2018-06-01      60.0         43.0           172.0  23233.77\n",
       "2     1000 2018-07-01      75.0         47.0           340.0  14003.64\n",
       "3     1000 2018-08-01      81.0         52.0           408.0  14055.93\n",
       "4     1000 2018-09-01      57.0         58.0           466.0  14568.91"
      ]
     },
     "execution_count": 16,
     "metadata": {},
     "output_type": "execute_result"
    }
   ],
   "source": [
    "# склеим нужные нам данные в один датафрейм\n",
    "df = messages_count.merge(calls, on=['user_id', 'month'], how='outer').merge(internet, on=['user_id', 'month'])\n",
    "df.head()"
   ]
  },
  {
   "cell_type": "markdown",
   "metadata": {},
   "source": [
    "### Заполняем пропуски"
   ]
  },
  {
   "cell_type": "code",
   "execution_count": 17,
   "metadata": {},
   "outputs": [
    {
     "data": {
      "text/plain": [
       "user_id             0\n",
       "month               0\n",
       "messages          496\n",
       "calls_count        39\n",
       "calls_duration     39\n",
       "mb_total            0\n",
       "dtype: int64"
      ]
     },
     "execution_count": 17,
     "metadata": {},
     "output_type": "execute_result"
    }
   ],
   "source": [
    "# посмотрим на пропуски\n",
    "df.isna().sum()"
   ]
  },
  {
   "cell_type": "markdown",
   "metadata": {},
   "source": [
    "Есть пропуски в сообщениях и звонках, логично предположить, что это связано с тем, что не все клиенты пользовались этими услугами. Заполним нулями."
   ]
  },
  {
   "cell_type": "code",
   "execution_count": 18,
   "metadata": {},
   "outputs": [],
   "source": [
    "# заполним пропуски нулями\n",
    "df['messages'] = df['messages'].fillna(0)\n",
    "df['calls_count'] = df['calls_count'].fillna(0)\n",
    "df['calls_duration'] = df['calls_duration'].fillna(0)"
   ]
  },
  {
   "cell_type": "code",
   "execution_count": 19,
   "metadata": {},
   "outputs": [
    {
     "data": {
      "text/plain": [
       "user_id           0\n",
       "month             0\n",
       "messages          0\n",
       "calls_count       0\n",
       "calls_duration    0\n",
       "mb_total          0\n",
       "dtype: int64"
      ]
     },
     "execution_count": 19,
     "metadata": {},
     "output_type": "execute_result"
    }
   ],
   "source": [
    "# убедимся, что пропусков не осталось\n",
    "df.isna().sum()"
   ]
  },
  {
   "cell_type": "code",
   "execution_count": 20,
   "metadata": {},
   "outputs": [
    {
     "data": {
      "text/html": [
       "<div>\n",
       "<style scoped>\n",
       "    .dataframe tbody tr th:only-of-type {\n",
       "        vertical-align: middle;\n",
       "    }\n",
       "\n",
       "    .dataframe tbody tr th {\n",
       "        vertical-align: top;\n",
       "    }\n",
       "\n",
       "    .dataframe thead th {\n",
       "        text-align: right;\n",
       "    }\n",
       "</style>\n",
       "<table border=\"1\" class=\"dataframe\">\n",
       "  <thead>\n",
       "    <tr style=\"text-align: right;\">\n",
       "      <th></th>\n",
       "      <th>messages_included</th>\n",
       "      <th>mb_per_month_included</th>\n",
       "      <th>minutes_included</th>\n",
       "      <th>rub_monthly_fee</th>\n",
       "      <th>rub_per_gb</th>\n",
       "      <th>rub_per_message</th>\n",
       "      <th>rub_per_minute</th>\n",
       "      <th>tariff_name</th>\n",
       "    </tr>\n",
       "  </thead>\n",
       "  <tbody>\n",
       "    <tr>\n",
       "      <th>0</th>\n",
       "      <td>50</td>\n",
       "      <td>15360</td>\n",
       "      <td>500</td>\n",
       "      <td>550</td>\n",
       "      <td>200</td>\n",
       "      <td>3</td>\n",
       "      <td>3</td>\n",
       "      <td>smart</td>\n",
       "    </tr>\n",
       "    <tr>\n",
       "      <th>1</th>\n",
       "      <td>1000</td>\n",
       "      <td>30720</td>\n",
       "      <td>3000</td>\n",
       "      <td>1950</td>\n",
       "      <td>150</td>\n",
       "      <td>1</td>\n",
       "      <td>1</td>\n",
       "      <td>ultra</td>\n",
       "    </tr>\n",
       "  </tbody>\n",
       "</table>\n",
       "</div>"
      ],
      "text/plain": [
       "   messages_included  mb_per_month_included  minutes_included  \\\n",
       "0                 50                  15360               500   \n",
       "1               1000                  30720              3000   \n",
       "\n",
       "   rub_monthly_fee  rub_per_gb  rub_per_message  rub_per_minute tariff_name  \n",
       "0              550         200                3               3       smart  \n",
       "1             1950         150                1               1       ultra  "
      ]
     },
     "execution_count": 20,
     "metadata": {},
     "output_type": "execute_result"
    }
   ],
   "source": [
    "# просмотрим таблицу с тарифами\n",
    "df_tariffs"
   ]
  },
  {
   "cell_type": "code",
   "execution_count": 21,
   "metadata": {},
   "outputs": [
    {
     "data": {
      "text/html": [
       "<div>\n",
       "<style scoped>\n",
       "    .dataframe tbody tr th:only-of-type {\n",
       "        vertical-align: middle;\n",
       "    }\n",
       "\n",
       "    .dataframe tbody tr th {\n",
       "        vertical-align: top;\n",
       "    }\n",
       "\n",
       "    .dataframe thead th {\n",
       "        text-align: right;\n",
       "    }\n",
       "</style>\n",
       "<table border=\"1\" class=\"dataframe\">\n",
       "  <thead>\n",
       "    <tr style=\"text-align: right;\">\n",
       "      <th></th>\n",
       "      <th>user_id</th>\n",
       "      <th>age</th>\n",
       "      <th>churn_date</th>\n",
       "      <th>city</th>\n",
       "      <th>first_name</th>\n",
       "      <th>last_name</th>\n",
       "      <th>reg_date</th>\n",
       "      <th>tariff</th>\n",
       "    </tr>\n",
       "  </thead>\n",
       "  <tbody>\n",
       "    <tr>\n",
       "      <th>0</th>\n",
       "      <td>1000</td>\n",
       "      <td>52</td>\n",
       "      <td>NaN</td>\n",
       "      <td>Краснодар</td>\n",
       "      <td>Рафаил</td>\n",
       "      <td>Верещагин</td>\n",
       "      <td>2018-05-25</td>\n",
       "      <td>ultra</td>\n",
       "    </tr>\n",
       "    <tr>\n",
       "      <th>1</th>\n",
       "      <td>1001</td>\n",
       "      <td>41</td>\n",
       "      <td>NaN</td>\n",
       "      <td>Москва</td>\n",
       "      <td>Иван</td>\n",
       "      <td>Ежов</td>\n",
       "      <td>2018-11-01</td>\n",
       "      <td>smart</td>\n",
       "    </tr>\n",
       "    <tr>\n",
       "      <th>2</th>\n",
       "      <td>1002</td>\n",
       "      <td>59</td>\n",
       "      <td>NaN</td>\n",
       "      <td>Стерлитамак</td>\n",
       "      <td>Евгений</td>\n",
       "      <td>Абрамович</td>\n",
       "      <td>2018-06-17</td>\n",
       "      <td>smart</td>\n",
       "    </tr>\n",
       "    <tr>\n",
       "      <th>3</th>\n",
       "      <td>1003</td>\n",
       "      <td>23</td>\n",
       "      <td>NaN</td>\n",
       "      <td>Москва</td>\n",
       "      <td>Белла</td>\n",
       "      <td>Белякова</td>\n",
       "      <td>2018-08-17</td>\n",
       "      <td>ultra</td>\n",
       "    </tr>\n",
       "    <tr>\n",
       "      <th>4</th>\n",
       "      <td>1004</td>\n",
       "      <td>68</td>\n",
       "      <td>NaN</td>\n",
       "      <td>Новокузнецк</td>\n",
       "      <td>Татьяна</td>\n",
       "      <td>Авдеенко</td>\n",
       "      <td>2018-05-14</td>\n",
       "      <td>ultra</td>\n",
       "    </tr>\n",
       "    <tr>\n",
       "      <th>...</th>\n",
       "      <td>...</td>\n",
       "      <td>...</td>\n",
       "      <td>...</td>\n",
       "      <td>...</td>\n",
       "      <td>...</td>\n",
       "      <td>...</td>\n",
       "      <td>...</td>\n",
       "      <td>...</td>\n",
       "    </tr>\n",
       "    <tr>\n",
       "      <th>495</th>\n",
       "      <td>1495</td>\n",
       "      <td>65</td>\n",
       "      <td>NaN</td>\n",
       "      <td>Иркутск</td>\n",
       "      <td>Авксентий</td>\n",
       "      <td>Фокин</td>\n",
       "      <td>2018-08-28</td>\n",
       "      <td>ultra</td>\n",
       "    </tr>\n",
       "    <tr>\n",
       "      <th>496</th>\n",
       "      <td>1496</td>\n",
       "      <td>36</td>\n",
       "      <td>NaN</td>\n",
       "      <td>Вологда</td>\n",
       "      <td>Трифон</td>\n",
       "      <td>Блохин</td>\n",
       "      <td>2018-01-27</td>\n",
       "      <td>smart</td>\n",
       "    </tr>\n",
       "    <tr>\n",
       "      <th>497</th>\n",
       "      <td>1497</td>\n",
       "      <td>32</td>\n",
       "      <td>NaN</td>\n",
       "      <td>Челябинск</td>\n",
       "      <td>Каролина</td>\n",
       "      <td>Агеева</td>\n",
       "      <td>2018-10-09</td>\n",
       "      <td>smart</td>\n",
       "    </tr>\n",
       "    <tr>\n",
       "      <th>498</th>\n",
       "      <td>1498</td>\n",
       "      <td>68</td>\n",
       "      <td>2018-10-25</td>\n",
       "      <td>Владикавказ</td>\n",
       "      <td>Всеволод</td>\n",
       "      <td>Акимчин</td>\n",
       "      <td>2018-07-19</td>\n",
       "      <td>smart</td>\n",
       "    </tr>\n",
       "    <tr>\n",
       "      <th>499</th>\n",
       "      <td>1499</td>\n",
       "      <td>35</td>\n",
       "      <td>NaN</td>\n",
       "      <td>Пермь</td>\n",
       "      <td>Гектор</td>\n",
       "      <td>Корнилов</td>\n",
       "      <td>2018-09-27</td>\n",
       "      <td>smart</td>\n",
       "    </tr>\n",
       "  </tbody>\n",
       "</table>\n",
       "<p>500 rows × 8 columns</p>\n",
       "</div>"
      ],
      "text/plain": [
       "     user_id  age  churn_date         city first_name  last_name    reg_date  \\\n",
       "0       1000   52         NaN    Краснодар     Рафаил  Верещагин  2018-05-25   \n",
       "1       1001   41         NaN       Москва       Иван       Ежов  2018-11-01   \n",
       "2       1002   59         NaN  Стерлитамак    Евгений  Абрамович  2018-06-17   \n",
       "3       1003   23         NaN       Москва      Белла   Белякова  2018-08-17   \n",
       "4       1004   68         NaN  Новокузнецк    Татьяна   Авдеенко  2018-05-14   \n",
       "..       ...  ...         ...          ...        ...        ...         ...   \n",
       "495     1495   65         NaN      Иркутск  Авксентий      Фокин  2018-08-28   \n",
       "496     1496   36         NaN      Вологда     Трифон     Блохин  2018-01-27   \n",
       "497     1497   32         NaN    Челябинск   Каролина     Агеева  2018-10-09   \n",
       "498     1498   68  2018-10-25  Владикавказ   Всеволод    Акимчин  2018-07-19   \n",
       "499     1499   35         NaN        Пермь     Гектор   Корнилов  2018-09-27   \n",
       "\n",
       "    tariff  \n",
       "0    ultra  \n",
       "1    smart  \n",
       "2    smart  \n",
       "3    ultra  \n",
       "4    ultra  \n",
       "..     ...  \n",
       "495  ultra  \n",
       "496  smart  \n",
       "497  smart  \n",
       "498  smart  \n",
       "499  smart  \n",
       "\n",
       "[500 rows x 8 columns]"
      ]
     },
     "execution_count": 21,
     "metadata": {},
     "output_type": "execute_result"
    }
   ],
   "source": [
    "# просмотрим таблицу с пользователями\n",
    "df_users"
   ]
  },
  {
   "cell_type": "code",
   "execution_count": 22,
   "metadata": {},
   "outputs": [
    {
     "data": {
      "text/html": [
       "<div>\n",
       "<style scoped>\n",
       "    .dataframe tbody tr th:only-of-type {\n",
       "        vertical-align: middle;\n",
       "    }\n",
       "\n",
       "    .dataframe tbody tr th {\n",
       "        vertical-align: top;\n",
       "    }\n",
       "\n",
       "    .dataframe thead th {\n",
       "        text-align: right;\n",
       "    }\n",
       "</style>\n",
       "<table border=\"1\" class=\"dataframe\">\n",
       "  <thead>\n",
       "    <tr style=\"text-align: right;\">\n",
       "      <th></th>\n",
       "      <th>user_id</th>\n",
       "      <th>month</th>\n",
       "      <th>messages</th>\n",
       "      <th>calls_count</th>\n",
       "      <th>calls_duration</th>\n",
       "      <th>mb_total</th>\n",
       "      <th>city</th>\n",
       "      <th>tariff</th>\n",
       "      <th>messages_included</th>\n",
       "      <th>mb_per_month_included</th>\n",
       "      <th>minutes_included</th>\n",
       "      <th>rub_monthly_fee</th>\n",
       "      <th>rub_per_gb</th>\n",
       "      <th>rub_per_message</th>\n",
       "      <th>rub_per_minute</th>\n",
       "    </tr>\n",
       "  </thead>\n",
       "  <tbody>\n",
       "    <tr>\n",
       "      <th>0</th>\n",
       "      <td>1000</td>\n",
       "      <td>2018-05-01</td>\n",
       "      <td>22.0</td>\n",
       "      <td>22.0</td>\n",
       "      <td>159.0</td>\n",
       "      <td>2253.49</td>\n",
       "      <td>Краснодар</td>\n",
       "      <td>ultra</td>\n",
       "      <td>1000</td>\n",
       "      <td>30720</td>\n",
       "      <td>3000</td>\n",
       "      <td>1950</td>\n",
       "      <td>150</td>\n",
       "      <td>1</td>\n",
       "      <td>1</td>\n",
       "    </tr>\n",
       "    <tr>\n",
       "      <th>1</th>\n",
       "      <td>1000</td>\n",
       "      <td>2018-06-01</td>\n",
       "      <td>60.0</td>\n",
       "      <td>43.0</td>\n",
       "      <td>172.0</td>\n",
       "      <td>23233.77</td>\n",
       "      <td>Краснодар</td>\n",
       "      <td>ultra</td>\n",
       "      <td>1000</td>\n",
       "      <td>30720</td>\n",
       "      <td>3000</td>\n",
       "      <td>1950</td>\n",
       "      <td>150</td>\n",
       "      <td>1</td>\n",
       "      <td>1</td>\n",
       "    </tr>\n",
       "    <tr>\n",
       "      <th>2</th>\n",
       "      <td>1000</td>\n",
       "      <td>2018-07-01</td>\n",
       "      <td>75.0</td>\n",
       "      <td>47.0</td>\n",
       "      <td>340.0</td>\n",
       "      <td>14003.64</td>\n",
       "      <td>Краснодар</td>\n",
       "      <td>ultra</td>\n",
       "      <td>1000</td>\n",
       "      <td>30720</td>\n",
       "      <td>3000</td>\n",
       "      <td>1950</td>\n",
       "      <td>150</td>\n",
       "      <td>1</td>\n",
       "      <td>1</td>\n",
       "    </tr>\n",
       "    <tr>\n",
       "      <th>3</th>\n",
       "      <td>1000</td>\n",
       "      <td>2018-08-01</td>\n",
       "      <td>81.0</td>\n",
       "      <td>52.0</td>\n",
       "      <td>408.0</td>\n",
       "      <td>14055.93</td>\n",
       "      <td>Краснодар</td>\n",
       "      <td>ultra</td>\n",
       "      <td>1000</td>\n",
       "      <td>30720</td>\n",
       "      <td>3000</td>\n",
       "      <td>1950</td>\n",
       "      <td>150</td>\n",
       "      <td>1</td>\n",
       "      <td>1</td>\n",
       "    </tr>\n",
       "    <tr>\n",
       "      <th>4</th>\n",
       "      <td>1000</td>\n",
       "      <td>2018-09-01</td>\n",
       "      <td>57.0</td>\n",
       "      <td>58.0</td>\n",
       "      <td>466.0</td>\n",
       "      <td>14568.91</td>\n",
       "      <td>Краснодар</td>\n",
       "      <td>ultra</td>\n",
       "      <td>1000</td>\n",
       "      <td>30720</td>\n",
       "      <td>3000</td>\n",
       "      <td>1950</td>\n",
       "      <td>150</td>\n",
       "      <td>1</td>\n",
       "      <td>1</td>\n",
       "    </tr>\n",
       "    <tr>\n",
       "      <th>...</th>\n",
       "      <td>...</td>\n",
       "      <td>...</td>\n",
       "      <td>...</td>\n",
       "      <td>...</td>\n",
       "      <td>...</td>\n",
       "      <td>...</td>\n",
       "      <td>...</td>\n",
       "      <td>...</td>\n",
       "      <td>...</td>\n",
       "      <td>...</td>\n",
       "      <td>...</td>\n",
       "      <td>...</td>\n",
       "      <td>...</td>\n",
       "      <td>...</td>\n",
       "      <td>...</td>\n",
       "    </tr>\n",
       "    <tr>\n",
       "      <th>3197</th>\n",
       "      <td>1494</td>\n",
       "      <td>2018-08-01</td>\n",
       "      <td>0.0</td>\n",
       "      <td>32.0</td>\n",
       "      <td>262.0</td>\n",
       "      <td>6590.75</td>\n",
       "      <td>Омск</td>\n",
       "      <td>smart</td>\n",
       "      <td>50</td>\n",
       "      <td>15360</td>\n",
       "      <td>500</td>\n",
       "      <td>550</td>\n",
       "      <td>200</td>\n",
       "      <td>3</td>\n",
       "      <td>3</td>\n",
       "    </tr>\n",
       "    <tr>\n",
       "      <th>3198</th>\n",
       "      <td>1494</td>\n",
       "      <td>2018-09-01</td>\n",
       "      <td>0.0</td>\n",
       "      <td>66.0</td>\n",
       "      <td>501.0</td>\n",
       "      <td>16962.51</td>\n",
       "      <td>Омск</td>\n",
       "      <td>smart</td>\n",
       "      <td>50</td>\n",
       "      <td>15360</td>\n",
       "      <td>500</td>\n",
       "      <td>550</td>\n",
       "      <td>200</td>\n",
       "      <td>3</td>\n",
       "      <td>3</td>\n",
       "    </tr>\n",
       "    <tr>\n",
       "      <th>3199</th>\n",
       "      <td>1494</td>\n",
       "      <td>2018-10-01</td>\n",
       "      <td>0.0</td>\n",
       "      <td>52.0</td>\n",
       "      <td>354.0</td>\n",
       "      <td>17767.24</td>\n",
       "      <td>Омск</td>\n",
       "      <td>smart</td>\n",
       "      <td>50</td>\n",
       "      <td>15360</td>\n",
       "      <td>500</td>\n",
       "      <td>550</td>\n",
       "      <td>200</td>\n",
       "      <td>3</td>\n",
       "      <td>3</td>\n",
       "    </tr>\n",
       "    <tr>\n",
       "      <th>3200</th>\n",
       "      <td>1494</td>\n",
       "      <td>2018-11-01</td>\n",
       "      <td>0.0</td>\n",
       "      <td>63.0</td>\n",
       "      <td>411.0</td>\n",
       "      <td>18052.45</td>\n",
       "      <td>Омск</td>\n",
       "      <td>smart</td>\n",
       "      <td>50</td>\n",
       "      <td>15360</td>\n",
       "      <td>500</td>\n",
       "      <td>550</td>\n",
       "      <td>200</td>\n",
       "      <td>3</td>\n",
       "      <td>3</td>\n",
       "    </tr>\n",
       "    <tr>\n",
       "      <th>3201</th>\n",
       "      <td>1494</td>\n",
       "      <td>2018-12-01</td>\n",
       "      <td>0.0</td>\n",
       "      <td>62.0</td>\n",
       "      <td>418.0</td>\n",
       "      <td>17621.21</td>\n",
       "      <td>Омск</td>\n",
       "      <td>smart</td>\n",
       "      <td>50</td>\n",
       "      <td>15360</td>\n",
       "      <td>500</td>\n",
       "      <td>550</td>\n",
       "      <td>200</td>\n",
       "      <td>3</td>\n",
       "      <td>3</td>\n",
       "    </tr>\n",
       "  </tbody>\n",
       "</table>\n",
       "<p>3202 rows × 15 columns</p>\n",
       "</div>"
      ],
      "text/plain": [
       "      user_id      month  messages  calls_count  calls_duration  mb_total  \\\n",
       "0        1000 2018-05-01      22.0         22.0           159.0   2253.49   \n",
       "1        1000 2018-06-01      60.0         43.0           172.0  23233.77   \n",
       "2        1000 2018-07-01      75.0         47.0           340.0  14003.64   \n",
       "3        1000 2018-08-01      81.0         52.0           408.0  14055.93   \n",
       "4        1000 2018-09-01      57.0         58.0           466.0  14568.91   \n",
       "...       ...        ...       ...          ...             ...       ...   \n",
       "3197     1494 2018-08-01       0.0         32.0           262.0   6590.75   \n",
       "3198     1494 2018-09-01       0.0         66.0           501.0  16962.51   \n",
       "3199     1494 2018-10-01       0.0         52.0           354.0  17767.24   \n",
       "3200     1494 2018-11-01       0.0         63.0           411.0  18052.45   \n",
       "3201     1494 2018-12-01       0.0         62.0           418.0  17621.21   \n",
       "\n",
       "           city tariff  messages_included  mb_per_month_included  \\\n",
       "0     Краснодар  ultra               1000                  30720   \n",
       "1     Краснодар  ultra               1000                  30720   \n",
       "2     Краснодар  ultra               1000                  30720   \n",
       "3     Краснодар  ultra               1000                  30720   \n",
       "4     Краснодар  ultra               1000                  30720   \n",
       "...         ...    ...                ...                    ...   \n",
       "3197       Омск  smart                 50                  15360   \n",
       "3198       Омск  smart                 50                  15360   \n",
       "3199       Омск  smart                 50                  15360   \n",
       "3200       Омск  smart                 50                  15360   \n",
       "3201       Омск  smart                 50                  15360   \n",
       "\n",
       "      minutes_included  rub_monthly_fee  rub_per_gb  rub_per_message  \\\n",
       "0                 3000             1950         150                1   \n",
       "1                 3000             1950         150                1   \n",
       "2                 3000             1950         150                1   \n",
       "3                 3000             1950         150                1   \n",
       "4                 3000             1950         150                1   \n",
       "...                ...              ...         ...              ...   \n",
       "3197               500              550         200                3   \n",
       "3198               500              550         200                3   \n",
       "3199               500              550         200                3   \n",
       "3200               500              550         200                3   \n",
       "3201               500              550         200                3   \n",
       "\n",
       "      rub_per_minute  \n",
       "0                  1  \n",
       "1                  1  \n",
       "2                  1  \n",
       "3                  1  \n",
       "4                  1  \n",
       "...              ...  \n",
       "3197               3  \n",
       "3198               3  \n",
       "3199               3  \n",
       "3200               3  \n",
       "3201               3  \n",
       "\n",
       "[3202 rows x 15 columns]"
      ]
     },
     "execution_count": 22,
     "metadata": {},
     "output_type": "execute_result"
    }
   ],
   "source": [
    "# добавим в наш датафрейм информацию о тарифе и пользовтелях\n",
    "df = df.merge(df_users[['user_id', 'city', 'tariff']], on='user_id', how='left')\n",
    "df = df.merge(df_tariffs, left_on='tariff', right_on='tariff_name', how='left').drop(columns=['tariff_name'])\n",
    "df"
   ]
  },
  {
   "cell_type": "markdown",
   "metadata": {},
   "source": [
    "## Анализ данных"
   ]
  },
  {
   "cell_type": "code",
   "execution_count": 23,
   "metadata": {},
   "outputs": [],
   "source": [
    "def calculate_revenue(row):\n",
    "    '''Функция для нахождения выручки'''\n",
    "    revenue = row.rub_monthly_fee\n",
    "    if row.messages > row.messages_included:\n",
    "        revenue += (row.messages - row.messages_included) * row.rub_per_message\n",
    "    if row.calls_duration > row.minutes_included:\n",
    "        revenue += (row.calls_duration - row.minutes_included) * row.rub_per_minute\n",
    "    if row.mb_total > row.mb_per_month_included:\n",
    "        revenue += np.ceil((row.mb_total - row.mb_per_month_included) * row.rub_per_gb / 1024)\n",
    "    return round(revenue, 2)"
   ]
  },
  {
   "cell_type": "code",
   "execution_count": 24,
   "metadata": {},
   "outputs": [],
   "source": [
    "# найдем выручку и добавим в новый столбец\n",
    "df['revenue'] = df.apply(calculate_revenue, axis=1)"
   ]
  },
  {
   "cell_type": "code",
   "execution_count": 25,
   "metadata": {},
   "outputs": [
    {
     "data": {
      "text/html": [
       "<div>\n",
       "<style scoped>\n",
       "    .dataframe tbody tr th:only-of-type {\n",
       "        vertical-align: middle;\n",
       "    }\n",
       "\n",
       "    .dataframe tbody tr th {\n",
       "        vertical-align: top;\n",
       "    }\n",
       "\n",
       "    .dataframe thead th {\n",
       "        text-align: right;\n",
       "    }\n",
       "</style>\n",
       "<table border=\"1\" class=\"dataframe\">\n",
       "  <thead>\n",
       "    <tr style=\"text-align: right;\">\n",
       "      <th></th>\n",
       "      <th>user_id</th>\n",
       "      <th>month</th>\n",
       "      <th>messages</th>\n",
       "      <th>calls_count</th>\n",
       "      <th>calls_duration</th>\n",
       "      <th>mb_total</th>\n",
       "      <th>city</th>\n",
       "      <th>tariff</th>\n",
       "      <th>messages_included</th>\n",
       "      <th>mb_per_month_included</th>\n",
       "      <th>minutes_included</th>\n",
       "      <th>rub_monthly_fee</th>\n",
       "      <th>rub_per_gb</th>\n",
       "      <th>rub_per_message</th>\n",
       "      <th>rub_per_minute</th>\n",
       "      <th>revenue</th>\n",
       "    </tr>\n",
       "  </thead>\n",
       "  <tbody>\n",
       "    <tr>\n",
       "      <th>1486</th>\n",
       "      <td>1286</td>\n",
       "      <td>2018-12-01</td>\n",
       "      <td>68.0</td>\n",
       "      <td>95.0</td>\n",
       "      <td>739.0</td>\n",
       "      <td>35108.07</td>\n",
       "      <td>Москва</td>\n",
       "      <td>smart</td>\n",
       "      <td>50</td>\n",
       "      <td>15360</td>\n",
       "      <td>500</td>\n",
       "      <td>550</td>\n",
       "      <td>200</td>\n",
       "      <td>3</td>\n",
       "      <td>3</td>\n",
       "      <td>5179.0</td>\n",
       "    </tr>\n",
       "    <tr>\n",
       "      <th>2637</th>\n",
       "      <td>1486</td>\n",
       "      <td>2018-11-01</td>\n",
       "      <td>96.0</td>\n",
       "      <td>108.0</td>\n",
       "      <td>764.0</td>\n",
       "      <td>36266.11</td>\n",
       "      <td>Нижний Новгород</td>\n",
       "      <td>smart</td>\n",
       "      <td>50</td>\n",
       "      <td>15360</td>\n",
       "      <td>500</td>\n",
       "      <td>550</td>\n",
       "      <td>200</td>\n",
       "      <td>3</td>\n",
       "      <td>3</td>\n",
       "      <td>5564.0</td>\n",
       "    </tr>\n",
       "    <tr>\n",
       "      <th>221</th>\n",
       "      <td>1042</td>\n",
       "      <td>2018-12-01</td>\n",
       "      <td>75.0</td>\n",
       "      <td>121.0</td>\n",
       "      <td>728.0</td>\n",
       "      <td>37165.69</td>\n",
       "      <td>Хабаровск</td>\n",
       "      <td>smart</td>\n",
       "      <td>50</td>\n",
       "      <td>15360</td>\n",
       "      <td>500</td>\n",
       "      <td>550</td>\n",
       "      <td>200</td>\n",
       "      <td>3</td>\n",
       "      <td>3</td>\n",
       "      <td>5568.0</td>\n",
       "    </tr>\n",
       "    <tr>\n",
       "      <th>1325</th>\n",
       "      <td>1261</td>\n",
       "      <td>2018-12-01</td>\n",
       "      <td>22.0</td>\n",
       "      <td>141.0</td>\n",
       "      <td>1074.0</td>\n",
       "      <td>32650.91</td>\n",
       "      <td>Казань</td>\n",
       "      <td>smart</td>\n",
       "      <td>50</td>\n",
       "      <td>15360</td>\n",
       "      <td>500</td>\n",
       "      <td>550</td>\n",
       "      <td>200</td>\n",
       "      <td>3</td>\n",
       "      <td>3</td>\n",
       "      <td>5650.0</td>\n",
       "    </tr>\n",
       "    <tr>\n",
       "      <th>2638</th>\n",
       "      <td>1486</td>\n",
       "      <td>2018-12-01</td>\n",
       "      <td>83.0</td>\n",
       "      <td>133.0</td>\n",
       "      <td>1007.0</td>\n",
       "      <td>38552.45</td>\n",
       "      <td>Нижний Новгород</td>\n",
       "      <td>smart</td>\n",
       "      <td>50</td>\n",
       "      <td>15360</td>\n",
       "      <td>500</td>\n",
       "      <td>550</td>\n",
       "      <td>200</td>\n",
       "      <td>3</td>\n",
       "      <td>3</td>\n",
       "      <td>6700.0</td>\n",
       "    </tr>\n",
       "  </tbody>\n",
       "</table>\n",
       "</div>"
      ],
      "text/plain": [
       "      user_id      month  messages  calls_count  calls_duration  mb_total  \\\n",
       "1486     1286 2018-12-01      68.0         95.0           739.0  35108.07   \n",
       "2637     1486 2018-11-01      96.0        108.0           764.0  36266.11   \n",
       "221      1042 2018-12-01      75.0        121.0           728.0  37165.69   \n",
       "1325     1261 2018-12-01      22.0        141.0          1074.0  32650.91   \n",
       "2638     1486 2018-12-01      83.0        133.0          1007.0  38552.45   \n",
       "\n",
       "                 city tariff  messages_included  mb_per_month_included  \\\n",
       "1486           Москва  smart                 50                  15360   \n",
       "2637  Нижний Новгород  smart                 50                  15360   \n",
       "221         Хабаровск  smart                 50                  15360   \n",
       "1325           Казань  smart                 50                  15360   \n",
       "2638  Нижний Новгород  smart                 50                  15360   \n",
       "\n",
       "      minutes_included  rub_monthly_fee  rub_per_gb  rub_per_message  \\\n",
       "1486               500              550         200                3   \n",
       "2637               500              550         200                3   \n",
       "221                500              550         200                3   \n",
       "1325               500              550         200                3   \n",
       "2638               500              550         200                3   \n",
       "\n",
       "      rub_per_minute  revenue  \n",
       "1486               3   5179.0  \n",
       "2637               3   5564.0  \n",
       "221                3   5568.0  \n",
       "1325               3   5650.0  \n",
       "2638               3   6700.0  "
      ]
     },
     "execution_count": 25,
     "metadata": {},
     "output_type": "execute_result"
    }
   ],
   "source": [
    "# посмотрим наибольшую выручку в месяц\n",
    "df.sort_values(by='revenue').tail()"
   ]
  },
  {
   "cell_type": "code",
   "execution_count": 26,
   "metadata": {},
   "outputs": [],
   "source": [
    "def build_tariff_boxplot(df, column):\n",
    "    '''Функция для построения ящика с усами'''\n",
    "    fig = plt.figure(figsize = (24, 6))\n",
    "    df[df['tariff']=='smart'].boxplot(column, ax = plt.subplot(1,2,1))\n",
    "    df[df['tariff']=='ultra'].boxplot(column, ax = plt.subplot(1,2,2))"
   ]
  },
  {
   "cell_type": "code",
   "execution_count": 27,
   "metadata": {},
   "outputs": [],
   "source": [
    "def build_tariff_hist(df, column, included_smart, included_ultra):\n",
    "    '''Функция для построения гистограммы по тарифам'''\n",
    "    smart = df.query('tariff == \"smart\"')[column]\n",
    "    ultra = df.query('tariff == \"ultra\"')[column]\n",
    "    plt.figure(figsize=(24, 6))\n",
    "    plt.hist(smart, bins=50, color='orange', edgecolor='black', alpha=0.5, label='smart')\n",
    "    plt.hist(ultra, bins=50, color='green', edgecolor='black', alpha=0.5, label='ultra')\n",
    "    plt.axvline(smart.describe()['mean'], color='orange', linestyle='dashed', linewidth=3, label = f'Smart mean value {smart.describe()[\"mean\"]:.2f}')\n",
    "    plt.axvline(ultra.describe()['mean'], color='green', linestyle='dashed', linewidth=3, label = f'Ultra mean value {ultra.describe()[\"mean\"]:.2f}')\n",
    "    plt.axvline(included_smart, color='orange', linewidth=3, label=f'Included in \"Smart\" {included_smart}')\n",
    "    plt.axvline(included_ultra, color='green', linewidth=3, label=f'Included in \"Ultra\" {included_ultra}')\n",
    "    plt.legend()\n",
    "    plt.title(column)"
   ]
  },
  {
   "cell_type": "code",
   "execution_count": 28,
   "metadata": {},
   "outputs": [
    {
     "data": {
      "image/png": "[encoded data removed]",
      "text/plain": [
       "<Figure size 1728x432 with 2 Axes>"
      ]
     },
     "metadata": {
      "needs_background": "light"
     },
     "output_type": "display_data"
    },
    {
     "data": {
      "image/png": "[encoded data removed]",
      "text/plain": [
       "<Figure size 1728x432 with 1 Axes>"
      ]
     },
     "metadata": {
      "needs_background": "light"
     },
     "output_type": "display_data"
    }
   ],
   "source": [
    "# построим ящик с усами и гистограмму по звонкам\n",
    "build_tariff_boxplot(df, 'calls_duration')\n",
    "build_tariff_hist(df, 'calls_duration', 500, 3000)"
   ]
  },
  {
   "cell_type": "code",
   "execution_count": 29,
   "metadata": {},
   "outputs": [
    {
     "data": {
      "image/png": "[encoded data removed]",
      "text/plain": [
       "<Figure size 1728x432 with 2 Axes>"
      ]
     },
     "metadata": {
      "needs_background": "light"
     },
     "output_type": "display_data"
    },
    {
     "data": {
      "image/png": "[encoded data removed]",
      "text/plain": [
       "<Figure size 1728x432 with 1 Axes>"
      ]
     },
     "metadata": {
      "needs_background": "light"
     },
     "output_type": "display_data"
    }
   ],
   "source": [
    "# построим ящик с усами и гистограмму по сообщениям\n",
    "build_tariff_boxplot(df, 'messages')\n",
    "build_tariff_hist(df, 'messages', 50, 1000)"
   ]
  },
  {
   "cell_type": "code",
   "execution_count": 30,
   "metadata": {},
   "outputs": [
    {
     "data": {
      "image/png": "[encoded data removed]",
      "text/plain": [
       "<Figure size 1728x432 with 2 Axes>"
      ]
     },
     "metadata": {
      "needs_background": "light"
     },
     "output_type": "display_data"
    },
    {
     "data": {
      "image/png": "[encoded data removed]",
      "text/plain": [
       "<Figure size 1728x432 with 1 Axes>"
      ]
     },
     "metadata": {
      "needs_background": "light"
     },
     "output_type": "display_data"
    }
   ],
   "source": [
    "# построим ящик с усами и гистограмму по интернету\n",
    "build_tariff_boxplot(df, 'mb_total')\n",
    "build_tariff_hist(df, 'mb_total', 15360, 30720)"
   ]
  },
  {
   "cell_type": "code",
   "execution_count": 31,
   "metadata": {},
   "outputs": [],
   "source": [
    "def tariff_describe(tariff):\n",
    "    '''Функция для описания среднестатистического использования тарифа'''\n",
    "    df_tariff = df[df['tariff']==tariff]\n",
    "    print(f'{tariff}, в среднем за месяц:')\n",
    "    print('')\n",
    "    print('Минут разговора:', df_tariff['calls_duration'].describe()['mean'].round(2))\n",
    "    print('Сообщений:', df_tariff['messages'].describe()['mean'].round(2))\n",
    "    print('Мегабайт интернета:', df_tariff['mb_total'].describe()['mean'].round(2))\n",
    "    print('Выручка: ', df_tariff['revenue'].describe()['mean'].round(2), 'руб')\n",
    "    print('')\n",
    "    print('Стандартное отклонение минут разговора:', df_tariff['calls_duration'].describe()['std'].round(2))\n",
    "    print('Стандартное отклонение сообщений:', df_tariff['messages'].describe()['std'].round(2))\n",
    "    print('Стандартное отклонение мегабайт интернета:', df_tariff['mb_total'].describe()['std'].round(2))\n",
    "    print('Стандартное отклонение выручки:', df_tariff['revenue'].describe()['std'].round(2))\n",
    "    print('')\n",
    "    print('Дисперсия минут разговора:', (df_tariff['calls_duration'].describe()['std'] ** 2).round(2))\n",
    "    print('Дисперсия сообщений:', (df_tariff['messages'].describe()['std'] ** 2).round(2))\n",
    "    print('Дисперсия мегабайт интернета:', (df_tariff['mb_total'].describe()['std'] ** 2).round(2))\n",
    "    print('Дисперсия выручки:', (df_tariff['revenue'].describe()['std'] ** 2).round(2))"
   ]
  },
  {
   "cell_type": "code",
   "execution_count": 32,
   "metadata": {},
   "outputs": [
    {
     "name": "stdout",
     "output_type": "stream",
     "text": [
      "smart, в среднем за месяц:\n",
      "\n",
      "Минут разговора: 418.1\n",
      "Сообщений: 33.4\n",
      "Мегабайт интернета: 16215.66\n",
      "Выручка:  1231.05 руб\n",
      "\n",
      "Стандартное отклонение минут разговора: 190.2\n",
      "Стандартное отклонение сообщений: 28.23\n",
      "Стандартное отклонение мегабайт интернета: 5861.74\n",
      "Стандартное отклонение выручки: 785.92\n",
      "\n",
      "Дисперсия минут разговора: 36174.76\n",
      "Дисперсия сообщений: 796.7\n",
      "Дисперсия мегабайт интернета: 34359951.68\n",
      "Дисперсия выручки: 617668.14\n"
     ]
    }
   ],
   "source": [
    "# посмотрим информацию о тарифе \"Smart\"\n",
    "tariff_describe('smart')"
   ]
  },
  {
   "cell_type": "code",
   "execution_count": 33,
   "metadata": {},
   "outputs": [
    {
     "name": "stdout",
     "output_type": "stream",
     "text": [
      "ultra, в среднем за месяц:\n",
      "\n",
      "Минут разговора: 530.29\n",
      "Сообщений: 49.64\n",
      "Мегабайт интернета: 19688.13\n",
      "Выручка:  2061.18 руб\n",
      "\n",
      "Стандартное отклонение минут разговора: 317.33\n",
      "Стандартное отклонение сообщений: 47.98\n",
      "Стандартное отклонение мегабайт интернета: 9929.2\n",
      "Стандартное отклонение выручки: 356.82\n",
      "\n",
      "Дисперсия минут разговора: 100698.78\n",
      "Дисперсия сообщений: 2301.76\n",
      "Дисперсия мегабайт интернета: 98589055.18\n",
      "Дисперсия выручки: 127319.91\n"
     ]
    }
   ],
   "source": [
    "# посмотрим информацию о тарифе \"Ultra\"\n",
    "tariff_describe('ultra')"
   ]
  },
  {
   "cell_type": "markdown",
   "metadata": {},
   "source": [
    "**Выводы**\n",
    "\n",
    "1. Пользователи тарифа \"Ультра\" в среднем больше тратят времени на разговоры (530 минут против 418), пишут больше смс-сообщений (50 против 33) и используют больше мобильного трафика (19688 МБ против 16215 МБ), чем пользователи тарифа \"Смарт\".\n",
    "2. Пользователи тарифа \"Смарт\" гораздо чаще не укладываются в заданные тарифом лимиты, чем пользователи тарифа \"Ультра\".\n",
    "3. Смс-сообщениями пользуются не все клиенты, а лимит в 1000 сообщений в тарифе \"Ультра\" не расходует вообще никто.\n",
    "4. Аналогичная ситуация с минутами в тарифе \"Ультра\" - никто не выговаривает 3000 минут в месяц."
   ]
  },
  {
   "cell_type": "markdown",
   "metadata": {},
   "source": [
    "## Проверка гипотез\n",
    "\n",
    "**Гипотеза о равенстве средних двух генеральных совокупностей №1**\n",
    "\n",
    "Сформулируем гипотезы:\n",
    "\n",
    "H0: выручка пользователей тарифов «Ультра» и «Смарт» не различается\n",
    "\n",
    "H1: выручка пользователей тарифов «Ультра» и «Смарт» различается"
   ]
  },
  {
   "cell_type": "code",
   "execution_count": 34,
   "metadata": {},
   "outputs": [
    {
     "name": "stdout",
     "output_type": "stream",
     "text": [
      "p-значение: 8.027394509119177e-297\n",
      "Отвергаем нулевую гипотезу\n"
     ]
    }
   ],
   "source": [
    "# проведем Т-тест Стьюдента\n",
    "ultra = df[df['tariff'] == 'ultra']['revenue']\n",
    "smart = df[df['tariff'] == 'smart']['revenue']\n",
    "alpha = 0.05\n",
    "results = st.ttest_ind(ultra, smart, equal_var=False)\n",
    "print('p-значение:', results.pvalue)\n",
    "\n",
    "if (results.pvalue < alpha):\n",
    "    print(\"Отвергаем нулевую гипотезу\")\n",
    "else:\n",
    "    print(\"Не получилось отвергнуть нулевую гипотезу\")"
   ]
  },
  {
   "cell_type": "markdown",
   "metadata": {},
   "source": [
    "**Вывод по гипотезе 1:**\n",
    "\n",
    "Нулевой гипотезой была гипотеза о равенстве средних наших выборок. Малое значение p-value говорит нам о том, что вероятность того, что прибыль обоих тарифов совпадает, крайне мала, потому нулевую гипотезу отвергаем.\n",
    "\n",
    "**Гипотеза о равенстве средних двух генеральных совокупностей №2**\n",
    "\n",
    "Сформулируем гипотезы:\n",
    "\n",
    "H0: средняя выручка пользователей из Москвы не отличается от выручки пользователей из других регионов\n",
    "\n",
    "H1: средняя выручка пользователей из Москвы отличается от выручки пользователей из других регионов"
   ]
  },
  {
   "cell_type": "code",
   "execution_count": 35,
   "metadata": {},
   "outputs": [
    {
     "data": {
      "text/plain": [
       "array(['Краснодар', 'Стерлитамак', 'Москва', 'Новокузнецк',\n",
       "       'Набережные Челны', 'Челябинск', 'Пермь', 'Самара',\n",
       "       'Санкт-Петербург', 'Иваново', 'Чебоксары', 'Омск', 'Уфа', 'Томск',\n",
       "       'Чита', 'Мурманск', 'Петрозаводск', 'Тверь', 'Екатеринбург',\n",
       "       'Махачкала', 'Ульяновск', 'Вологда', 'Тюмень', 'Череповец',\n",
       "       'Ярославль', 'Хабаровск', 'Ставрополь', 'Рязань', 'Улан-Удэ',\n",
       "       'Тула', 'Саратов', 'Казань', 'Иркутск', 'Курск', 'Калуга',\n",
       "       'Якутск', 'Астрахань', 'Химки', 'Владикавказ', 'Сочи', 'Саранск',\n",
       "       'Волгоград', 'Ижевск', 'Новосибирск', 'Брянск', 'Тольятти',\n",
       "       'Нижний Тагил', 'Белгород', 'Воронеж', 'Барнаул', 'Красноярск',\n",
       "       'Архангельск', 'Липецк', 'Кемерово', 'Киров', 'Сургут', 'Пенза',\n",
       "       'Волжский', 'Магнитогорск', 'Нижний Новгород', 'Кострома',\n",
       "       'Владивосток', 'Тамбов', 'Балашиха', 'Калининград',\n",
       "       'Ростов-на-Дону', 'Смоленск', 'Нижневартовск', 'Севастополь',\n",
       "       'Владимир', 'Курган', 'Новороссийск', 'Орёл', 'Грозный',\n",
       "       'Оренбург', 'Подольск'], dtype=object)"
      ]
     },
     "execution_count": 35,
     "metadata": {},
     "output_type": "execute_result"
    }
   ],
   "source": [
    "# просмотрим уникальные значения городов\n",
    "df['city'].unique()"
   ]
  },
  {
   "cell_type": "code",
   "execution_count": 36,
   "metadata": {},
   "outputs": [
    {
     "name": "stdout",
     "output_type": "stream",
     "text": [
      "p-значение: 0.43869407957329654\n",
      "Не получилось отвергнуть нулевую гипотезу\n"
     ]
    }
   ],
   "source": [
    "# проведем Т-тест Стьюдента\n",
    "moscow = df[df['city'] == 'Москва']['revenue']\n",
    "other = df[df['city'] != 'Москва']['revenue']\n",
    "results = st.ttest_ind(moscow, other, equal_var=False)\n",
    "print('p-значение:', results.pvalue)\n",
    "\n",
    "if (results.pvalue < alpha):\n",
    "    print(\"Отвергаем нулевую гипотезу\")\n",
    "else:\n",
    "    print(\"Не получилось отвергнуть нулевую гипотезу\")"
   ]
  },
  {
   "cell_type": "markdown",
   "metadata": {},
   "source": [
    "**Вывод по гипотезе 2:**\n",
    "\n",
    "Полученное нами p-value равно 0.44, а значит, есть большая вероятность того, что отличие средних значений наших выборок случайно и мы не можем отвергнуть нулевую гипотезу, которая говорит нам о равенстве средних значений."
   ]
  },
  {
   "cell_type": "markdown",
   "metadata": {},
   "source": [
    "## Общий вывод\n",
    "\n",
    "Из предоставленных данных была выведена все необходимая для исследования информация - значения израсходованных минут, сообщений и мегабайт. Были построены графики, наглядно отображающие количество звонков, смс-ок и трафика, а также была посчитана прибыль от каждого клиента за каждый месяц. В дальнейшем все клиенты были разделены по группам и были проверены две гипотезы: о разнице выручки в зависимости от тарифа и в зависимости от места жительства. Ниже предоставлены подробные результаты исследования:\n",
    "\n",
    "1. Среднее количество израсходованных минут, сообщений и мегабайт не сильно отличается у пользователей разных тарифов, хотя базовая стоимость тарифа отличается почти в 4 раза.\n",
    "2. Полезность большого количества сообщений и звонков в тарифе \"Ультра\" крайне сомнительна, никто не выговаривает 3000 минут и не пишет 1000 сообщений в месяц.\n",
    "3. А вот интернет-трафика иногда не хватает пользователями даже в тарифе \"Ультра\".\n",
    "4. Тариф \"Ультра\" приносит большую выручку, чем тариф \"Смарт\".\n",
    "5. В тарифе \"Смарт\" клиенты часто не укладываются в лимиты, что может приводить к разочарованию в тарифе и оттоку пользователей.\n",
    "6. Разницы в выручке из Москвы и регионов нет."
   ]
  }
 ],
 "metadata": {
  "ExecuteTimeLog": [
   {
    "duration": 1501,
    "start_time": "2022-04-14T07:49:37.962Z"
   },
   {
    "duration": 601,
    "start_time": "2022-04-14T07:49:40.250Z"
   },
   {
    "duration": 5,
    "start_time": "2022-04-14T07:49:44.785Z"
   },
   {
    "duration": 199,
    "start_time": "2022-04-14T07:49:58.877Z"
   },
   {
    "duration": 5,
    "start_time": "2022-04-14T07:51:30.488Z"
   },
   {
    "duration": 98,
    "start_time": "2022-04-14T07:51:31.888Z"
   },
   {
    "duration": 3,
    "start_time": "2022-04-14T07:52:00.768Z"
   },
   {
    "duration": 32,
    "start_time": "2022-04-14T07:52:02.150Z"
   },
   {
    "duration": 4,
    "start_time": "2022-04-14T07:53:33.090Z"
   },
   {
    "duration": 35,
    "start_time": "2022-04-14T07:53:35.298Z"
   },
   {
    "duration": 29,
    "start_time": "2022-04-14T07:54:31.349Z"
   },
   {
    "duration": 4,
    "start_time": "2022-04-14T07:55:02.401Z"
   },
   {
    "duration": 39,
    "start_time": "2022-04-14T07:55:03.933Z"
   },
   {
    "duration": 5,
    "start_time": "2022-04-14T07:55:23.691Z"
   },
   {
    "duration": 26,
    "start_time": "2022-04-14T07:55:24.677Z"
   },
   {
    "duration": 39,
    "start_time": "2022-04-14T07:55:30.916Z"
   },
   {
    "duration": 41,
    "start_time": "2022-04-14T07:57:00.492Z"
   },
   {
    "duration": 3,
    "start_time": "2022-04-14T07:57:39.774Z"
   },
   {
    "duration": 44,
    "start_time": "2022-04-14T07:57:41.740Z"
   },
   {
    "duration": 5,
    "start_time": "2022-04-14T07:57:46.434Z"
   },
   {
    "duration": 23,
    "start_time": "2022-04-14T07:57:48.712Z"
   },
   {
    "duration": 3,
    "start_time": "2022-04-14T08:28:30.848Z"
   },
   {
    "duration": 15,
    "start_time": "2022-04-14T08:28:33.247Z"
   },
   {
    "duration": 3,
    "start_time": "2022-04-14T08:28:51.600Z"
   },
   {
    "duration": 9,
    "start_time": "2022-04-14T08:28:53.278Z"
   },
   {
    "duration": 5,
    "start_time": "2022-04-14T08:30:21.419Z"
   },
   {
    "duration": 84,
    "start_time": "2022-04-14T08:30:23.672Z"
   },
   {
    "duration": 5,
    "start_time": "2022-04-14T08:30:51.695Z"
   },
   {
    "duration": 68,
    "start_time": "2022-04-14T08:30:53.385Z"
   },
   {
    "duration": 6,
    "start_time": "2022-04-14T08:31:53.999Z"
   },
   {
    "duration": 115,
    "start_time": "2022-04-14T08:31:55.989Z"
   },
   {
    "duration": 6,
    "start_time": "2022-04-14T08:32:07.171Z"
   },
   {
    "duration": 141,
    "start_time": "2022-04-14T08:32:09.289Z"
   },
   {
    "duration": 217,
    "start_time": "2022-04-14T08:53:30.859Z"
   },
   {
    "duration": 150,
    "start_time": "2022-04-14T08:54:23.136Z"
   },
   {
    "duration": 108,
    "start_time": "2022-04-14T08:55:32.362Z"
   },
   {
    "duration": 33,
    "start_time": "2022-04-14T09:05:31.541Z"
   },
   {
    "duration": 26,
    "start_time": "2022-04-14T09:06:18.263Z"
   },
   {
    "duration": 10,
    "start_time": "2022-04-14T09:07:36.394Z"
   },
   {
    "duration": 13,
    "start_time": "2022-04-14T09:07:42.023Z"
   },
   {
    "duration": 45,
    "start_time": "2022-04-14T09:07:45.332Z"
   },
   {
    "duration": 37,
    "start_time": "2022-04-14T09:08:16.815Z"
   },
   {
    "duration": 73,
    "start_time": "2022-04-14T09:24:42.721Z"
   },
   {
    "duration": 42,
    "start_time": "2022-04-14T09:24:53.160Z"
   },
   {
    "duration": 56,
    "start_time": "2022-04-14T09:25:06.190Z"
   },
   {
    "duration": 44,
    "start_time": "2022-04-14T09:39:12.435Z"
   },
   {
    "duration": 36,
    "start_time": "2022-04-14T09:39:43.655Z"
   },
   {
    "duration": 77,
    "start_time": "2022-04-14T10:26:45.850Z"
   },
   {
    "duration": 80,
    "start_time": "2022-04-14T10:27:42.013Z"
   },
   {
    "duration": 72,
    "start_time": "2022-04-14T10:28:09.911Z"
   },
   {
    "duration": 1726,
    "start_time": "2022-04-14T10:28:19.596Z"
   },
   {
    "duration": 604,
    "start_time": "2022-04-14T10:28:21.792Z"
   },
   {
    "duration": 5,
    "start_time": "2022-04-14T10:28:24.082Z"
   },
   {
    "duration": 215,
    "start_time": "2022-04-14T10:28:26.263Z"
   },
   {
    "duration": 225,
    "start_time": "2022-04-14T10:28:29.335Z"
   },
   {
    "duration": 132,
    "start_time": "2022-04-14T10:28:31.803Z"
   },
   {
    "duration": 40,
    "start_time": "2022-04-14T10:28:34.479Z"
   },
   {
    "duration": 31,
    "start_time": "2022-04-14T10:28:49.451Z"
   },
   {
    "duration": 65,
    "start_time": "2022-04-14T10:29:01.046Z"
   },
   {
    "duration": 2255,
    "start_time": "2022-04-14T10:29:04.493Z"
   },
   {
    "duration": 40,
    "start_time": "2022-04-14T10:29:07.017Z"
   },
   {
    "duration": 73,
    "start_time": "2022-04-14T10:29:38.309Z"
   },
   {
    "duration": 36,
    "start_time": "2022-04-14T10:29:40.615Z"
   },
   {
    "duration": 5,
    "start_time": "2022-04-14T10:52:21.163Z"
   },
   {
    "duration": 364,
    "start_time": "2022-04-14T10:52:47.291Z"
   },
   {
    "duration": 5,
    "start_time": "2022-04-14T10:53:15.811Z"
   },
   {
    "duration": 330,
    "start_time": "2022-04-14T10:53:17.522Z"
   },
   {
    "duration": 129,
    "start_time": "2022-04-14T10:54:19.233Z"
   },
   {
    "duration": 6,
    "start_time": "2022-04-14T10:54:38.526Z"
   },
   {
    "duration": 504,
    "start_time": "2022-04-14T10:54:41.442Z"
   },
   {
    "duration": 6,
    "start_time": "2022-04-14T10:54:55.130Z"
   },
   {
    "duration": 505,
    "start_time": "2022-04-14T10:54:57.614Z"
   },
   {
    "duration": 6,
    "start_time": "2022-04-14T10:55:13.056Z"
   },
   {
    "duration": 487,
    "start_time": "2022-04-14T10:55:14.706Z"
   },
   {
    "duration": 138,
    "start_time": "2022-04-14T10:55:39.454Z"
   },
   {
    "duration": 5,
    "start_time": "2022-04-14T10:56:01.645Z"
   },
   {
    "duration": 361,
    "start_time": "2022-04-14T10:56:03.378Z"
   },
   {
    "duration": 4,
    "start_time": "2022-04-14T10:57:10.294Z"
   },
   {
    "duration": 377,
    "start_time": "2022-04-14T10:57:12.364Z"
   },
   {
    "duration": 5,
    "start_time": "2022-04-14T10:57:30.380Z"
   },
   {
    "duration": 456,
    "start_time": "2022-04-14T10:57:32.719Z"
   },
   {
    "duration": 5,
    "start_time": "2022-04-14T10:57:39.273Z"
   },
   {
    "duration": 385,
    "start_time": "2022-04-14T10:57:40.751Z"
   },
   {
    "duration": 5,
    "start_time": "2022-04-14T10:57:53.981Z"
   },
   {
    "duration": 395,
    "start_time": "2022-04-14T10:57:55.373Z"
   },
   {
    "duration": 5,
    "start_time": "2022-04-14T10:59:09.990Z"
   },
   {
    "duration": 368,
    "start_time": "2022-04-14T10:59:12.082Z"
   },
   {
    "duration": 5,
    "start_time": "2022-04-14T10:59:23.849Z"
   },
   {
    "duration": 368,
    "start_time": "2022-04-14T10:59:25.250Z"
   },
   {
    "duration": 31,
    "start_time": "2022-04-14T11:07:18.475Z"
   },
   {
    "duration": 382,
    "start_time": "2022-04-14T11:08:15.763Z"
   },
   {
    "duration": 327,
    "start_time": "2022-04-14T11:08:39.999Z"
   },
   {
    "duration": 2473,
    "start_time": "2022-04-14T11:09:25.771Z"
   },
   {
    "duration": 339,
    "start_time": "2022-04-14T11:09:41.707Z"
   },
   {
    "duration": 325,
    "start_time": "2022-04-14T11:10:05.539Z"
   },
   {
    "duration": 348,
    "start_time": "2022-04-14T11:10:13.984Z"
   },
   {
    "duration": 450,
    "start_time": "2022-04-14T11:10:30.407Z"
   },
   {
    "duration": 11,
    "start_time": "2022-04-14T11:12:56.709Z"
   },
   {
    "duration": 347,
    "start_time": "2022-04-14T11:16:11.207Z"
   },
   {
    "duration": 999,
    "start_time": "2022-04-14T11:18:51.244Z"
   },
   {
    "duration": 2059,
    "start_time": "2022-04-14T11:23:29.913Z"
   },
   {
    "duration": 18,
    "start_time": "2022-04-14T11:24:52.032Z"
   },
   {
    "duration": 26,
    "start_time": "2022-04-14T11:25:05.501Z"
   },
   {
    "duration": 352,
    "start_time": "2022-04-14T11:26:02.111Z"
   },
   {
    "duration": 18,
    "start_time": "2022-04-14T11:30:23.055Z"
   },
   {
    "duration": 22,
    "start_time": "2022-04-14T11:30:51.776Z"
   },
   {
    "duration": 5,
    "start_time": "2022-04-14T11:39:54.963Z"
   },
   {
    "duration": 348,
    "start_time": "2022-04-14T11:39:58.703Z"
   },
   {
    "duration": 357,
    "start_time": "2022-04-14T11:40:11.654Z"
   },
   {
    "duration": 688,
    "start_time": "2022-04-14T11:40:23.529Z"
   },
   {
    "duration": 436,
    "start_time": "2022-04-14T11:40:30.269Z"
   },
   {
    "duration": 12,
    "start_time": "2022-04-14T11:42:32.367Z"
   },
   {
    "duration": 7,
    "start_time": "2022-04-14T11:42:37.278Z"
   },
   {
    "duration": 6,
    "start_time": "2022-04-14T11:44:43.079Z"
   },
   {
    "duration": 8,
    "start_time": "2022-04-14T11:46:36.722Z"
   },
   {
    "duration": 7,
    "start_time": "2022-04-14T11:47:04.247Z"
   },
   {
    "duration": 10,
    "start_time": "2022-04-14T11:47:10.740Z"
   },
   {
    "duration": 7,
    "start_time": "2022-04-14T11:52:05.787Z"
   },
   {
    "duration": 351,
    "start_time": "2022-04-14T11:52:07.630Z"
   },
   {
    "duration": 518,
    "start_time": "2022-04-14T11:52:14.332Z"
   },
   {
    "duration": 700,
    "start_time": "2022-04-14T11:52:17.882Z"
   },
   {
    "duration": 312,
    "start_time": "2022-04-14T11:52:21.434Z"
   },
   {
    "duration": 9,
    "start_time": "2022-04-14T11:54:56.367Z"
   },
   {
    "duration": 9,
    "start_time": "2022-04-14T11:55:11.589Z"
   },
   {
    "duration": 1342,
    "start_time": "2022-04-25T08:33:54.955Z"
   },
   {
    "duration": 4,
    "start_time": "2022-04-25T08:33:58.854Z"
   },
   {
    "duration": 368,
    "start_time": "2022-04-25T08:34:03.658Z"
   },
   {
    "duration": 3,
    "start_time": "2022-04-25T08:34:05.662Z"
   },
   {
    "duration": 156,
    "start_time": "2022-04-25T08:34:09.517Z"
   },
   {
    "duration": 108,
    "start_time": "2022-04-25T08:34:12.170Z"
   },
   {
    "duration": 77,
    "start_time": "2022-04-25T08:34:14.278Z"
   },
   {
    "duration": 39,
    "start_time": "2022-04-25T08:34:16.455Z"
   },
   {
    "duration": 31,
    "start_time": "2022-04-25T08:34:19.242Z"
   },
   {
    "duration": 83,
    "start_time": "2022-04-25T08:34:21.995Z"
   },
   {
    "duration": 93,
    "start_time": "2022-04-25T08:34:26.045Z"
   },
   {
    "duration": 53,
    "start_time": "2022-04-25T08:34:29.276Z"
   },
   {
    "duration": 5,
    "start_time": "2022-04-25T08:34:31.996Z"
   },
   {
    "duration": 446,
    "start_time": "2022-04-25T08:34:34.284Z"
   },
   {
    "duration": 297,
    "start_time": "2022-04-25T08:34:37.311Z"
   },
   {
    "duration": 577,
    "start_time": "2022-04-25T08:34:39.581Z"
   },
   {
    "duration": 313,
    "start_time": "2022-04-25T08:34:41.793Z"
   },
   {
    "duration": 18,
    "start_time": "2022-04-25T08:34:43.481Z"
   },
   {
    "duration": 6,
    "start_time": "2022-04-25T08:34:44.820Z"
   },
   {
    "duration": 5,
    "start_time": "2022-04-25T08:34:46.193Z"
   },
   {
    "duration": 6,
    "start_time": "2022-04-25T08:34:48.717Z"
   },
   {
    "duration": 7,
    "start_time": "2022-04-25T08:34:50.443Z"
   },
   {
    "duration": 90,
    "start_time": "2022-04-25T08:39:16.599Z"
   },
   {
    "duration": 20,
    "start_time": "2022-04-25T08:39:22.577Z"
   },
   {
    "duration": 14,
    "start_time": "2022-04-25T08:40:54.780Z"
   },
   {
    "duration": 3111,
    "start_time": "2022-04-25T08:43:59.593Z"
   },
   {
    "duration": 3090,
    "start_time": "2022-04-25T08:44:10.717Z"
   },
   {
    "duration": 3786,
    "start_time": "2022-04-25T08:46:01.483Z"
   },
   {
    "duration": 13,
    "start_time": "2022-04-25T08:46:22.280Z"
   },
   {
    "duration": 7,
    "start_time": "2022-04-25T08:47:02.285Z"
   },
   {
    "duration": 14,
    "start_time": "2022-04-25T08:47:08.259Z"
   },
   {
    "duration": 183,
    "start_time": "2022-04-25T08:47:54.556Z"
   },
   {
    "duration": 3279,
    "start_time": "2022-04-25T08:47:59.771Z"
   },
   {
    "duration": 9,
    "start_time": "2022-04-25T08:48:15.373Z"
   },
   {
    "duration": 6,
    "start_time": "2022-04-25T08:48:27.072Z"
   },
   {
    "duration": 15,
    "start_time": "2022-04-25T08:52:44.742Z"
   },
   {
    "duration": 9,
    "start_time": "2022-04-25T08:52:51.222Z"
   },
   {
    "duration": 8,
    "start_time": "2022-04-25T08:56:08.169Z"
   },
   {
    "duration": 11,
    "start_time": "2022-04-25T08:56:15.281Z"
   },
   {
    "duration": 10,
    "start_time": "2022-04-25T08:56:34.941Z"
   },
   {
    "duration": 11,
    "start_time": "2022-04-25T08:56:41.802Z"
   },
   {
    "duration": 13,
    "start_time": "2022-04-25T08:57:07.149Z"
   },
   {
    "duration": 11,
    "start_time": "2022-04-25T08:58:22.439Z"
   },
   {
    "duration": 19,
    "start_time": "2022-04-25T08:58:29.106Z"
   },
   {
    "duration": 15,
    "start_time": "2022-04-25T09:00:20.817Z"
   },
   {
    "duration": 26,
    "start_time": "2022-04-25T09:00:36.314Z"
   },
   {
    "duration": 1202,
    "start_time": "2022-04-25T09:01:07.376Z"
   },
   {
    "duration": 402,
    "start_time": "2022-04-25T09:01:09.886Z"
   },
   {
    "duration": 3,
    "start_time": "2022-04-25T09:01:12.592Z"
   },
   {
    "duration": 176,
    "start_time": "2022-04-25T09:01:14.640Z"
   },
   {
    "duration": 128,
    "start_time": "2022-04-25T09:01:17.990Z"
   },
   {
    "duration": 79,
    "start_time": "2022-04-25T09:01:19.228Z"
   },
   {
    "duration": 34,
    "start_time": "2022-04-25T09:01:19.735Z"
   },
   {
    "duration": 26,
    "start_time": "2022-04-25T09:01:20.371Z"
   },
   {
    "duration": 55,
    "start_time": "2022-04-25T09:01:25.384Z"
   },
   {
    "duration": 104,
    "start_time": "2022-04-25T09:01:27.399Z"
   },
   {
    "duration": 53,
    "start_time": "2022-04-25T09:01:29.216Z"
   },
   {
    "duration": 4,
    "start_time": "2022-04-25T09:01:30.285Z"
   },
   {
    "duration": 319,
    "start_time": "2022-04-25T09:01:32.232Z"
   },
   {
    "duration": 300,
    "start_time": "2022-04-25T09:01:33.581Z"
   },
   {
    "duration": 602,
    "start_time": "2022-04-25T09:01:34.756Z"
   },
   {
    "duration": 337,
    "start_time": "2022-04-25T09:01:36.663Z"
   },
   {
    "duration": 16,
    "start_time": "2022-04-25T09:01:38.304Z"
   },
   {
    "duration": 6,
    "start_time": "2022-04-25T09:01:40.689Z"
   },
   {
    "duration": 4,
    "start_time": "2022-04-25T09:01:42.147Z"
   },
   {
    "duration": 6,
    "start_time": "2022-04-25T09:01:43.161Z"
   },
   {
    "duration": 7,
    "start_time": "2022-04-25T09:01:44.272Z"
   },
   {
    "duration": 12,
    "start_time": "2022-04-25T09:01:46.892Z"
   },
   {
    "duration": 7,
    "start_time": "2022-04-25T09:01:49.345Z"
   },
   {
    "duration": 112,
    "start_time": "2022-04-25T09:01:50.392Z"
   },
   {
    "duration": 14,
    "start_time": "2022-04-25T09:03:41.017Z"
   },
   {
    "duration": 20,
    "start_time": "2022-04-25T09:03:52.129Z"
   },
   {
    "duration": 1158,
    "start_time": "2022-04-25T09:04:39.871Z"
   },
   {
    "duration": 388,
    "start_time": "2022-04-25T09:04:41.031Z"
   },
   {
    "duration": 4,
    "start_time": "2022-04-25T09:04:41.420Z"
   },
   {
    "duration": 162,
    "start_time": "2022-04-25T09:04:43.101Z"
   },
   {
    "duration": 114,
    "start_time": "2022-04-25T09:04:43.558Z"
   },
   {
    "duration": 74,
    "start_time": "2022-04-25T09:04:44.728Z"
   },
   {
    "duration": 31,
    "start_time": "2022-04-25T09:04:45.965Z"
   },
   {
    "duration": 26,
    "start_time": "2022-04-25T09:04:47.154Z"
   },
   {
    "duration": 55,
    "start_time": "2022-04-25T09:04:49.842Z"
   },
   {
    "duration": 59,
    "start_time": "2022-04-25T09:04:50.804Z"
   },
   {
    "duration": 35,
    "start_time": "2022-04-25T09:04:51.993Z"
   },
   {
    "duration": 4,
    "start_time": "2022-04-25T09:04:52.865Z"
   },
   {
    "duration": 340,
    "start_time": "2022-04-25T09:04:54.177Z"
   },
   {
    "duration": 370,
    "start_time": "2022-04-25T09:04:55.356Z"
   },
   {
    "duration": 607,
    "start_time": "2022-04-25T09:04:56.555Z"
   },
   {
    "duration": 334,
    "start_time": "2022-04-25T09:04:58.368Z"
   },
   {
    "duration": 18,
    "start_time": "2022-04-25T09:04:59.476Z"
   },
   {
    "duration": 7,
    "start_time": "2022-04-25T09:05:02.365Z"
   },
   {
    "duration": 5,
    "start_time": "2022-04-25T09:05:02.860Z"
   },
   {
    "duration": 7,
    "start_time": "2022-04-25T09:05:03.982Z"
   },
   {
    "duration": 10,
    "start_time": "2022-04-25T09:05:05.336Z"
   },
   {
    "duration": 13,
    "start_time": "2022-04-25T09:05:06.395Z"
   },
   {
    "duration": 7,
    "start_time": "2022-04-25T09:05:07.614Z"
   },
   {
    "duration": 20,
    "start_time": "2022-04-25T09:05:11.402Z"
   },
   {
    "duration": 6,
    "start_time": "2022-04-25T09:05:39.197Z"
   },
   {
    "duration": 4,
    "start_time": "2022-04-25T09:12:24.694Z"
   },
   {
    "duration": 88,
    "start_time": "2022-04-25T09:13:42.996Z"
   },
   {
    "duration": 4985,
    "start_time": "2022-04-25T09:13:47.484Z"
   },
   {
    "duration": 4,
    "start_time": "2022-04-25T09:14:10.208Z"
   },
   {
    "duration": 109,
    "start_time": "2022-04-25T09:14:11.718Z"
   },
   {
    "duration": 16,
    "start_time": "2022-04-25T09:14:15.992Z"
   },
   {
    "duration": 13,
    "start_time": "2022-04-25T09:14:59.798Z"
   },
   {
    "duration": 228,
    "start_time": "2022-04-25T09:37:50.447Z"
   },
   {
    "duration": 3,
    "start_time": "2022-04-25T09:38:29.132Z"
   },
   {
    "duration": 3,
    "start_time": "2022-04-25T09:39:02.744Z"
   },
   {
    "duration": 21,
    "start_time": "2022-04-25T09:39:35.436Z"
   },
   {
    "duration": 4,
    "start_time": "2022-04-25T09:40:36.016Z"
   },
   {
    "duration": 168,
    "start_time": "2022-04-25T09:40:38.036Z"
   },
   {
    "duration": 4,
    "start_time": "2022-04-25T09:44:14.764Z"
   },
   {
    "duration": 277,
    "start_time": "2022-04-25T09:44:16.362Z"
   },
   {
    "duration": 4,
    "start_time": "2022-04-25T09:44:29.178Z"
   },
   {
    "duration": 202,
    "start_time": "2022-04-25T09:44:31.354Z"
   },
   {
    "duration": 4,
    "start_time": "2022-04-25T09:53:16.753Z"
   },
   {
    "duration": 203,
    "start_time": "2022-04-25T09:53:17.848Z"
   },
   {
    "duration": 4,
    "start_time": "2022-04-25T09:53:37.916Z"
   },
   {
    "duration": 4,
    "start_time": "2022-04-25T09:53:40.739Z"
   },
   {
    "duration": 196,
    "start_time": "2022-04-25T09:53:42.569Z"
   },
   {
    "duration": 273,
    "start_time": "2022-04-25T09:53:59.256Z"
   },
   {
    "duration": 4,
    "start_time": "2022-04-25T09:54:07.961Z"
   },
   {
    "duration": 196,
    "start_time": "2022-04-25T09:54:09.735Z"
   },
   {
    "duration": 4,
    "start_time": "2022-04-25T09:59:27.035Z"
   },
   {
    "duration": 343,
    "start_time": "2022-04-25T09:59:28.976Z"
   },
   {
    "duration": 5,
    "start_time": "2022-04-25T10:00:28.063Z"
   },
   {
    "duration": 433,
    "start_time": "2022-04-25T10:00:30.583Z"
   },
   {
    "duration": 5,
    "start_time": "2022-04-25T10:09:07.955Z"
   },
   {
    "duration": 362,
    "start_time": "2022-04-25T10:09:10.378Z"
   },
   {
    "duration": 5,
    "start_time": "2022-04-25T10:09:47.379Z"
   },
   {
    "duration": 342,
    "start_time": "2022-04-25T10:09:49.615Z"
   },
   {
    "duration": 5,
    "start_time": "2022-04-25T10:10:07.663Z"
   },
   {
    "duration": 408,
    "start_time": "2022-04-25T10:10:10.002Z"
   },
   {
    "duration": 423,
    "start_time": "2022-04-25T10:10:25.681Z"
   },
   {
    "duration": 5,
    "start_time": "2022-04-25T10:10:37.915Z"
   },
   {
    "duration": 513,
    "start_time": "2022-04-25T10:10:39.540Z"
   },
   {
    "duration": 5,
    "start_time": "2022-04-25T10:10:50.107Z"
   },
   {
    "duration": 433,
    "start_time": "2022-04-25T10:10:51.590Z"
   },
   {
    "duration": 417,
    "start_time": "2022-04-25T10:12:31.110Z"
   },
   {
    "duration": 436,
    "start_time": "2022-04-25T10:15:40.584Z"
   },
   {
    "duration": 3142,
    "start_time": "2022-04-25T10:32:59.400Z"
   },
   {
    "duration": 569,
    "start_time": "2022-04-25T10:33:11.675Z"
   },
   {
    "duration": 717,
    "start_time": "2022-04-25T10:33:56.226Z"
   },
   {
    "duration": 594,
    "start_time": "2022-04-25T10:34:45.344Z"
   },
   {
    "duration": 628,
    "start_time": "2022-04-25T10:35:16.018Z"
   },
   {
    "duration": 3,
    "start_time": "2022-04-25T10:37:30.087Z"
   },
   {
    "duration": 921,
    "start_time": "2022-04-25T10:38:00.396Z"
   },
   {
    "duration": 639,
    "start_time": "2022-04-25T10:38:21.098Z"
   },
   {
    "duration": 591,
    "start_time": "2022-04-25T10:38:24.754Z"
   },
   {
    "duration": 579,
    "start_time": "2022-04-25T10:38:48.846Z"
   },
   {
    "duration": 118,
    "start_time": "2022-04-25T11:12:48.667Z"
   },
   {
    "duration": 198,
    "start_time": "2022-04-25T11:15:17.454Z"
   },
   {
    "duration": 5,
    "start_time": "2022-04-25T11:15:38.084Z"
   },
   {
    "duration": 25,
    "start_time": "2022-04-25T11:15:51.674Z"
   },
   {
    "duration": 24,
    "start_time": "2022-04-25T11:16:05.765Z"
   },
   {
    "duration": 5,
    "start_time": "2022-04-25T11:16:52.177Z"
   },
   {
    "duration": 25,
    "start_time": "2022-04-25T11:16:54.549Z"
   },
   {
    "duration": 24,
    "start_time": "2022-04-25T11:16:58.588Z"
   },
   {
    "duration": 5,
    "start_time": "2022-04-25T11:18:08.122Z"
   },
   {
    "duration": 25,
    "start_time": "2022-04-25T11:18:10.048Z"
   },
   {
    "duration": 26,
    "start_time": "2022-04-25T11:18:13.494Z"
   },
   {
    "duration": 5,
    "start_time": "2022-04-25T11:18:42.642Z"
   },
   {
    "duration": 23,
    "start_time": "2022-04-25T11:18:45.038Z"
   },
   {
    "duration": 23,
    "start_time": "2022-04-25T11:18:46.863Z"
   },
   {
    "duration": 5,
    "start_time": "2022-04-25T11:19:45.125Z"
   },
   {
    "duration": 24,
    "start_time": "2022-04-25T11:19:47.111Z"
   },
   {
    "duration": 23,
    "start_time": "2022-04-25T11:19:49.703Z"
   },
   {
    "duration": 5,
    "start_time": "2022-04-25T11:21:29.040Z"
   },
   {
    "duration": 26,
    "start_time": "2022-04-25T11:21:31.120Z"
   },
   {
    "duration": 25,
    "start_time": "2022-04-25T11:21:33.517Z"
   },
   {
    "duration": 5,
    "start_time": "2022-04-25T11:21:59.923Z"
   },
   {
    "duration": 25,
    "start_time": "2022-04-25T11:22:02.328Z"
   },
   {
    "duration": 23,
    "start_time": "2022-04-25T11:22:05.523Z"
   },
   {
    "duration": 5,
    "start_time": "2022-04-25T11:22:22.221Z"
   },
   {
    "duration": 24,
    "start_time": "2022-04-25T11:22:24.157Z"
   },
   {
    "duration": 23,
    "start_time": "2022-04-25T11:22:26.270Z"
   },
   {
    "duration": 4,
    "start_time": "2022-04-25T11:22:42.704Z"
   },
   {
    "duration": 25,
    "start_time": "2022-04-25T11:22:44.103Z"
   },
   {
    "duration": 25,
    "start_time": "2022-04-25T11:22:50.556Z"
   },
   {
    "duration": 6,
    "start_time": "2022-04-25T11:23:15.867Z"
   },
   {
    "duration": 25,
    "start_time": "2022-04-25T11:23:17.134Z"
   },
   {
    "duration": 5,
    "start_time": "2022-04-25T11:23:37.092Z"
   },
   {
    "duration": 24,
    "start_time": "2022-04-25T11:23:39.597Z"
   },
   {
    "duration": 5,
    "start_time": "2022-04-25T11:23:54.197Z"
   },
   {
    "duration": 25,
    "start_time": "2022-04-25T11:23:55.934Z"
   },
   {
    "duration": 5,
    "start_time": "2022-04-25T11:24:03.614Z"
   },
   {
    "duration": 27,
    "start_time": "2022-04-25T11:24:05.093Z"
   },
   {
    "duration": 6,
    "start_time": "2022-04-25T11:24:33.812Z"
   },
   {
    "duration": 26,
    "start_time": "2022-04-25T11:24:34.959Z"
   },
   {
    "duration": 6,
    "start_time": "2022-04-25T11:25:00.228Z"
   },
   {
    "duration": 33,
    "start_time": "2022-04-25T11:25:01.582Z"
   },
   {
    "duration": 6,
    "start_time": "2022-04-25T11:25:29.572Z"
   },
   {
    "duration": 28,
    "start_time": "2022-04-25T11:25:31.134Z"
   },
   {
    "duration": 23,
    "start_time": "2022-04-25T11:25:34.052Z"
   },
   {
    "duration": 18,
    "start_time": "2022-04-25T11:32:03.044Z"
   },
   {
    "duration": 3267,
    "start_time": "2022-04-25T11:32:05.369Z"
   },
   {
    "duration": 6,
    "start_time": "2022-04-25T11:34:09.223Z"
   },
   {
    "duration": 3161,
    "start_time": "2022-04-25T11:34:10.867Z"
   },
   {
    "duration": 6,
    "start_time": "2022-04-25T11:34:38.315Z"
   },
   {
    "duration": 45,
    "start_time": "2022-04-25T11:34:39.984Z"
   },
   {
    "duration": 6,
    "start_time": "2022-04-25T11:35:46.866Z"
   },
   {
    "duration": 31,
    "start_time": "2022-04-25T11:35:48.292Z"
   },
   {
    "duration": 6,
    "start_time": "2022-04-25T11:36:06.298Z"
   },
   {
    "duration": 28,
    "start_time": "2022-04-25T11:36:07.277Z"
   },
   {
    "duration": 235,
    "start_time": "2022-04-25T12:20:49.615Z"
   },
   {
    "duration": 8,
    "start_time": "2022-04-25T12:22:04.160Z"
   },
   {
    "duration": 8622,
    "start_time": "2022-04-25T12:22:54.840Z"
   },
   {
    "duration": 1150,
    "start_time": "2022-04-25T12:27:25.775Z"
   },
   {
    "duration": 397,
    "start_time": "2022-04-25T12:27:27.837Z"
   },
   {
    "duration": 4,
    "start_time": "2022-04-25T12:27:33.376Z"
   },
   {
    "duration": 167,
    "start_time": "2022-04-25T12:27:33.917Z"
   },
   {
    "duration": 124,
    "start_time": "2022-04-25T12:27:35.852Z"
   },
   {
    "duration": 89,
    "start_time": "2022-04-25T12:27:38.092Z"
   },
   {
    "duration": 34,
    "start_time": "2022-04-25T12:27:40.872Z"
   },
   {
    "duration": 26,
    "start_time": "2022-04-25T12:27:42.255Z"
   },
   {
    "duration": 60,
    "start_time": "2022-04-25T12:27:48.665Z"
   },
   {
    "duration": 63,
    "start_time": "2022-04-25T12:27:50.962Z"
   },
   {
    "duration": 37,
    "start_time": "2022-04-25T12:27:52.201Z"
   },
   {
    "duration": 4,
    "start_time": "2022-04-25T12:27:54.509Z"
   },
   {
    "duration": 419,
    "start_time": "2022-04-25T12:27:56.635Z"
   },
   {
    "duration": 667,
    "start_time": "2022-04-25T12:27:58.996Z"
   },
   {
    "duration": 338,
    "start_time": "2022-04-25T12:28:02.374Z"
   },
   {
    "duration": 18,
    "start_time": "2022-04-25T12:28:04.204Z"
   },
   {
    "duration": 6,
    "start_time": "2022-04-25T12:28:06.768Z"
   },
   {
    "duration": 5,
    "start_time": "2022-04-25T12:28:10.017Z"
   },
   {
    "duration": 6,
    "start_time": "2022-04-25T12:28:12.822Z"
   },
   {
    "duration": 8,
    "start_time": "2022-04-25T12:28:13.722Z"
   },
   {
    "duration": 17,
    "start_time": "2022-04-25T12:28:15.653Z"
   },
   {
    "duration": 32,
    "start_time": "2022-04-25T12:28:16.829Z"
   },
   {
    "duration": 5,
    "start_time": "2022-04-25T12:28:18.685Z"
   },
   {
    "duration": 261,
    "start_time": "2022-04-25T12:28:20.539Z"
   },
   {
    "duration": 14,
    "start_time": "2022-04-25T12:28:23.479Z"
   },
   {
    "duration": 4,
    "start_time": "2022-04-25T12:28:30.594Z"
   },
   {
    "duration": 5,
    "start_time": "2022-04-25T12:28:31.788Z"
   },
   {
    "duration": 645,
    "start_time": "2022-04-25T12:28:34.652Z"
   },
   {
    "duration": 676,
    "start_time": "2022-04-25T12:28:40.370Z"
   },
   {
    "duration": 720,
    "start_time": "2022-04-25T12:28:46.192Z"
   },
   {
    "duration": 7,
    "start_time": "2022-04-25T12:28:50.341Z"
   },
   {
    "duration": 25,
    "start_time": "2022-04-25T12:28:51.450Z"
   },
   {
    "duration": 25,
    "start_time": "2022-04-25T12:28:58.446Z"
   },
   {
    "duration": 8,
    "start_time": "2022-04-25T12:29:02.788Z"
   },
   {
    "duration": 5,
    "start_time": "2022-04-25T12:29:05.773Z"
   },
   {
    "duration": 8,
    "start_time": "2022-04-25T12:29:11.588Z"
   },
   {
    "duration": 5,
    "start_time": "2022-04-25T12:29:12.542Z"
   },
   {
    "duration": 7,
    "start_time": "2022-04-25T12:35:36.088Z"
   },
   {
    "duration": 7,
    "start_time": "2022-04-25T12:44:33.230Z"
   },
   {
    "duration": 30,
    "start_time": "2022-04-25T12:44:34.708Z"
   },
   {
    "duration": 34,
    "start_time": "2022-04-25T12:44:37.269Z"
   },
   {
    "duration": 10,
    "start_time": "2022-04-25T12:45:07.246Z"
   },
   {
    "duration": 31,
    "start_time": "2022-04-25T12:45:09.554Z"
   },
   {
    "duration": 31,
    "start_time": "2022-04-25T12:45:14.496Z"
   },
   {
    "duration": 7,
    "start_time": "2022-04-25T12:45:23.848Z"
   },
   {
    "duration": 5,
    "start_time": "2022-04-25T12:45:59.757Z"
   },
   {
    "duration": 1188,
    "start_time": "2022-04-25T13:13:08.837Z"
   },
   {
    "duration": 417,
    "start_time": "2022-04-25T13:13:11.582Z"
   },
   {
    "duration": 3,
    "start_time": "2022-04-25T13:13:15.191Z"
   },
   {
    "duration": 157,
    "start_time": "2022-04-25T13:13:16.333Z"
   },
   {
    "duration": 121,
    "start_time": "2022-04-25T13:13:17.786Z"
   },
   {
    "duration": 81,
    "start_time": "2022-04-25T13:13:18.496Z"
   },
   {
    "duration": 34,
    "start_time": "2022-04-25T13:13:19.067Z"
   },
   {
    "duration": 28,
    "start_time": "2022-04-25T13:13:19.482Z"
   },
   {
    "duration": 59,
    "start_time": "2022-04-25T13:13:21.075Z"
   },
   {
    "duration": 58,
    "start_time": "2022-04-25T13:13:21.826Z"
   },
   {
    "duration": 36,
    "start_time": "2022-04-25T13:13:22.379Z"
   },
   {
    "duration": 5,
    "start_time": "2022-04-25T13:13:23.259Z"
   },
   {
    "duration": 353,
    "start_time": "2022-04-25T13:13:24.298Z"
   },
   {
    "duration": 579,
    "start_time": "2022-04-25T13:13:29.676Z"
   },
   {
    "duration": 406,
    "start_time": "2022-04-25T13:13:33.499Z"
   },
   {
    "duration": 18,
    "start_time": "2022-04-25T13:13:35.854Z"
   },
   {
    "duration": 6,
    "start_time": "2022-04-25T13:13:38.656Z"
   },
   {
    "duration": 4,
    "start_time": "2022-04-25T13:13:40.008Z"
   },
   {
    "duration": 6,
    "start_time": "2022-04-25T13:13:41.273Z"
   },
   {
    "duration": 7,
    "start_time": "2022-04-25T13:13:41.860Z"
   },
   {
    "duration": 12,
    "start_time": "2022-04-25T13:13:42.359Z"
   },
   {
    "duration": 23,
    "start_time": "2022-04-25T13:13:43.832Z"
   },
   {
    "duration": 4,
    "start_time": "2022-04-25T13:13:46.913Z"
   },
   {
    "duration": 161,
    "start_time": "2022-04-25T13:13:47.499Z"
   },
   {
    "duration": 14,
    "start_time": "2022-04-25T13:13:48.070Z"
   },
   {
    "duration": 4,
    "start_time": "2022-04-25T13:13:50.027Z"
   },
   {
    "duration": 5,
    "start_time": "2022-04-25T13:13:50.829Z"
   },
   {
    "duration": 631,
    "start_time": "2022-04-25T13:13:52.136Z"
   },
   {
    "duration": 739,
    "start_time": "2022-04-25T13:13:52.769Z"
   },
   {
    "duration": 990,
    "start_time": "2022-04-25T13:13:59.613Z"
   },
   {
    "duration": 9,
    "start_time": "2022-04-25T13:14:00.606Z"
   },
   {
    "duration": 45,
    "start_time": "2022-04-25T13:14:01.698Z"
   },
   {
    "duration": 43,
    "start_time": "2022-04-25T13:14:03.446Z"
   },
   {
    "duration": 8,
    "start_time": "2022-04-25T13:14:07.520Z"
   },
   {
    "duration": 5,
    "start_time": "2022-04-25T13:14:09.819Z"
   },
   {
    "duration": 7,
    "start_time": "2022-04-25T13:14:11.577Z"
   },
   {
    "duration": 1102,
    "start_time": "2022-05-01T10:51:16.194Z"
   },
   {
    "duration": 367,
    "start_time": "2022-05-01T10:51:17.298Z"
   },
   {
    "duration": 5,
    "start_time": "2022-05-01T10:51:17.667Z"
   },
   {
    "duration": 195,
    "start_time": "2022-05-01T10:51:17.674Z"
   },
   {
    "duration": 140,
    "start_time": "2022-05-01T10:51:17.872Z"
   },
   {
    "duration": 97,
    "start_time": "2022-05-01T10:51:18.014Z"
   },
   {
    "duration": 50,
    "start_time": "2022-05-01T10:51:18.113Z"
   },
   {
    "duration": 26,
    "start_time": "2022-05-01T10:51:18.165Z"
   },
   {
    "duration": 83,
    "start_time": "2022-05-01T10:51:18.193Z"
   },
   {
    "duration": 61,
    "start_time": "2022-05-01T10:51:18.278Z"
   },
   {
    "duration": 50,
    "start_time": "2022-05-01T10:51:18.340Z"
   },
   {
    "duration": 3,
    "start_time": "2022-05-01T10:51:18.392Z"
   },
   {
    "duration": 346,
    "start_time": "2022-05-01T10:51:18.397Z"
   },
   {
    "duration": 585,
    "start_time": "2022-05-01T10:51:18.746Z"
   },
   {
    "duration": 322,
    "start_time": "2022-05-01T10:51:19.333Z"
   },
   {
    "duration": 19,
    "start_time": "2022-05-01T10:51:19.658Z"
   },
   {
    "duration": 6,
    "start_time": "2022-05-01T10:51:19.679Z"
   },
   {
    "duration": 7,
    "start_time": "2022-05-01T10:51:19.687Z"
   },
   {
    "duration": 9,
    "start_time": "2022-05-01T10:51:19.695Z"
   },
   {
    "duration": 9,
    "start_time": "2022-05-01T10:51:19.706Z"
   },
   {
    "duration": 43,
    "start_time": "2022-05-01T10:51:19.717Z"
   },
   {
    "duration": 36,
    "start_time": "2022-05-01T10:51:19.763Z"
   },
   {
    "duration": 16,
    "start_time": "2022-05-01T10:51:19.801Z"
   },
   {
    "duration": 169,
    "start_time": "2022-05-01T10:51:19.819Z"
   },
   {
    "duration": 16,
    "start_time": "2022-05-01T10:51:19.990Z"
   },
   {
    "duration": 12,
    "start_time": "2022-05-01T10:51:20.008Z"
   },
   {
    "duration": 20,
    "start_time": "2022-05-01T10:51:20.022Z"
   },
   {
    "duration": 686,
    "start_time": "2022-05-01T10:51:20.043Z"
   },
   {
    "duration": 776,
    "start_time": "2022-05-01T10:51:20.731Z"
   },
   {
    "duration": 645,
    "start_time": "2022-05-01T10:51:21.509Z"
   },
   {
    "duration": 7,
    "start_time": "2022-05-01T10:51:22.156Z"
   },
   {
    "duration": 36,
    "start_time": "2022-05-01T10:51:22.165Z"
   },
   {
    "duration": 55,
    "start_time": "2022-05-01T10:51:22.203Z"
   },
   {
    "duration": 8,
    "start_time": "2022-05-01T10:51:22.260Z"
   },
   {
    "duration": 6,
    "start_time": "2022-05-01T10:51:22.270Z"
   },
   {
    "duration": 12,
    "start_time": "2022-05-01T10:51:22.278Z"
   },
   {
    "duration": 1167,
    "start_time": "2022-05-01T10:56:50.055Z"
   },
   {
    "duration": 461,
    "start_time": "2022-05-01T10:56:51.224Z"
   },
   {
    "duration": 5,
    "start_time": "2022-05-01T10:56:51.687Z"
   },
   {
    "duration": 205,
    "start_time": "2022-05-01T10:56:51.693Z"
   },
   {
    "duration": 143,
    "start_time": "2022-05-01T10:56:51.901Z"
   },
   {
    "duration": 100,
    "start_time": "2022-05-01T10:56:52.046Z"
   },
   {
    "duration": 38,
    "start_time": "2022-05-01T10:56:52.154Z"
   },
   {
    "duration": 30,
    "start_time": "2022-05-01T10:56:52.193Z"
   },
   {
    "duration": 142,
    "start_time": "2022-05-01T10:56:52.225Z"
   },
   {
    "duration": 97,
    "start_time": "2022-05-01T10:56:52.369Z"
   },
   {
    "duration": 92,
    "start_time": "2022-05-01T10:56:52.467Z"
   },
   {
    "duration": 4,
    "start_time": "2022-05-01T10:56:52.560Z"
   },
   {
    "duration": 529,
    "start_time": "2022-05-01T10:56:52.566Z"
   },
   {
    "duration": 1092,
    "start_time": "2022-05-01T10:56:53.098Z"
   },
   {
    "duration": 494,
    "start_time": "2022-05-01T10:56:54.192Z"
   },
   {
    "duration": 71,
    "start_time": "2022-05-01T10:56:54.687Z"
   },
   {
    "duration": 6,
    "start_time": "2022-05-01T10:56:54.760Z"
   },
   {
    "duration": 8,
    "start_time": "2022-05-01T10:56:54.768Z"
   },
   {
    "duration": 8,
    "start_time": "2022-05-01T10:56:54.777Z"
   },
   {
    "duration": 10,
    "start_time": "2022-05-01T10:56:54.787Z"
   },
   {
    "duration": 13,
    "start_time": "2022-05-01T10:56:54.854Z"
   },
   {
    "duration": 29,
    "start_time": "2022-05-01T10:56:54.869Z"
   },
   {
    "duration": 57,
    "start_time": "2022-05-01T10:56:54.900Z"
   },
   {
    "duration": 330,
    "start_time": "2022-05-01T10:56:54.958Z"
   },
   {
    "duration": 66,
    "start_time": "2022-05-01T10:56:55.290Z"
   },
   {
    "duration": 4,
    "start_time": "2022-05-01T10:56:55.358Z"
   },
   {
    "duration": 8,
    "start_time": "2022-05-01T10:56:55.363Z"
   },
   {
    "duration": 1120,
    "start_time": "2022-05-01T10:56:55.373Z"
   },
   {
    "duration": 1187,
    "start_time": "2022-05-01T10:56:56.495Z"
   },
   {
    "duration": 1581,
    "start_time": "2022-05-01T10:56:57.684Z"
   },
   {
    "duration": 11,
    "start_time": "2022-05-01T10:56:59.268Z"
   },
   {
    "duration": 52,
    "start_time": "2022-05-01T10:56:59.281Z"
   },
   {
    "duration": 57,
    "start_time": "2022-05-01T10:56:59.335Z"
   },
   {
    "duration": 10,
    "start_time": "2022-05-01T10:56:59.395Z"
   },
   {
    "duration": 31,
    "start_time": "2022-05-01T10:56:59.407Z"
   },
   {
    "duration": 26,
    "start_time": "2022-05-01T10:56:59.440Z"
   },
   {
    "duration": 1215,
    "start_time": "2022-05-02T10:32:14.123Z"
   },
   {
    "duration": 385,
    "start_time": "2022-05-02T10:32:15.340Z"
   },
   {
    "duration": 8,
    "start_time": "2022-05-02T10:32:16.665Z"
   },
   {
    "duration": 164,
    "start_time": "2022-05-02T10:32:17.648Z"
   },
   {
    "duration": 114,
    "start_time": "2022-05-02T10:32:20.166Z"
   },
   {
    "duration": 76,
    "start_time": "2022-05-02T10:32:21.987Z"
   },
   {
    "duration": 32,
    "start_time": "2022-05-02T10:32:23.930Z"
   },
   {
    "duration": 26,
    "start_time": "2022-05-02T10:32:25.603Z"
   },
   {
    "duration": 117,
    "start_time": "2022-05-02T10:32:29.336Z"
   },
   {
    "duration": 38,
    "start_time": "2022-05-02T10:32:54.074Z"
   },
   {
    "duration": 64,
    "start_time": "2022-05-02T10:34:17.588Z"
   },
   {
    "duration": 35,
    "start_time": "2022-05-02T10:34:19.545Z"
   },
   {
    "duration": 3,
    "start_time": "2022-05-02T10:34:22.396Z"
   },
   {
    "duration": 379,
    "start_time": "2022-05-02T10:34:23.261Z"
   },
   {
    "duration": 504,
    "start_time": "2022-05-02T10:34:29.436Z"
   },
   {
    "duration": 327,
    "start_time": "2022-05-02T10:34:34.354Z"
   },
   {
    "duration": 18,
    "start_time": "2022-05-02T10:34:44.131Z"
   },
   {
    "duration": 6,
    "start_time": "2022-05-02T10:34:51.493Z"
   },
   {
    "duration": 5,
    "start_time": "2022-05-02T10:34:53.260Z"
   },
   {
    "duration": 6,
    "start_time": "2022-05-02T10:34:54.868Z"
   },
   {
    "duration": 7,
    "start_time": "2022-05-02T10:34:56.761Z"
   },
   {
    "duration": 12,
    "start_time": "2022-05-02T10:34:59.189Z"
   },
   {
    "duration": 25,
    "start_time": "2022-05-02T10:35:01.456Z"
   },
   {
    "duration": 4,
    "start_time": "2022-05-02T10:35:07.873Z"
   },
   {
    "duration": 172,
    "start_time": "2022-05-02T10:35:09.389Z"
   },
   {
    "duration": 14,
    "start_time": "2022-05-02T10:35:10.740Z"
   },
   {
    "duration": 3,
    "start_time": "2022-05-02T10:35:14.704Z"
   },
   {
    "duration": 6,
    "start_time": "2022-05-02T10:35:15.262Z"
   },
   {
    "duration": 655,
    "start_time": "2022-05-02T10:35:16.670Z"
   },
   {
    "duration": 718,
    "start_time": "2022-05-02T10:35:26.941Z"
   },
   {
    "duration": 641,
    "start_time": "2022-05-02T10:35:29.515Z"
   },
   {
    "duration": 7,
    "start_time": "2022-05-02T10:35:32.999Z"
   },
   {
    "duration": 31,
    "start_time": "2022-05-02T10:35:33.590Z"
   },
   {
    "duration": 30,
    "start_time": "2022-05-02T10:35:35.265Z"
   },
   {
    "duration": 8,
    "start_time": "2022-05-02T10:35:43.062Z"
   },
   {
    "duration": 4,
    "start_time": "2022-05-02T10:35:45.659Z"
   },
   {
    "duration": 8,
    "start_time": "2022-05-02T10:35:46.459Z"
   },
   {
    "duration": 1569,
    "start_time": "2022-05-03T07:53:21.110Z"
   },
   {
    "duration": 519,
    "start_time": "2022-05-03T07:53:22.682Z"
   },
   {
    "duration": 6,
    "start_time": "2022-05-03T07:53:23.203Z"
   },
   {
    "duration": 279,
    "start_time": "2022-05-03T07:53:23.212Z"
   },
   {
    "duration": 263,
    "start_time": "2022-05-03T07:53:23.493Z"
   },
   {
    "duration": 146,
    "start_time": "2022-05-03T07:53:23.758Z"
   },
   {
    "duration": 63,
    "start_time": "2022-05-03T07:53:23.906Z"
   },
   {
    "duration": 66,
    "start_time": "2022-05-03T07:53:23.972Z"
   },
   {
    "duration": 105,
    "start_time": "2022-05-03T07:53:24.040Z"
   },
   {
    "duration": 144,
    "start_time": "2022-05-03T07:53:24.150Z"
   },
   {
    "duration": 82,
    "start_time": "2022-05-03T07:53:24.297Z"
   },
   {
    "duration": 8,
    "start_time": "2022-05-03T07:53:24.381Z"
   },
   {
    "duration": 589,
    "start_time": "2022-05-03T07:53:24.392Z"
   },
   {
    "duration": 1244,
    "start_time": "2022-05-03T07:53:24.983Z"
   },
   {
    "duration": 501,
    "start_time": "2022-05-03T07:53:26.230Z"
   },
   {
    "duration": 30,
    "start_time": "2022-05-03T07:53:26.733Z"
   },
   {
    "duration": 11,
    "start_time": "2022-05-03T07:53:26.765Z"
   },
   {
    "duration": 45,
    "start_time": "2022-05-03T07:53:26.779Z"
   },
   {
    "duration": 14,
    "start_time": "2022-05-03T07:53:26.827Z"
   },
   {
    "duration": 21,
    "start_time": "2022-05-03T07:53:26.844Z"
   },
   {
    "duration": 30,
    "start_time": "2022-05-03T07:53:26.868Z"
   },
   {
    "duration": 57,
    "start_time": "2022-05-03T07:53:26.900Z"
   },
   {
    "duration": 6,
    "start_time": "2022-05-03T07:53:26.960Z"
   },
   {
    "duration": 380,
    "start_time": "2022-05-03T07:53:26.969Z"
   },
   {
    "duration": 24,
    "start_time": "2022-05-03T07:53:27.352Z"
   },
   {
    "duration": 6,
    "start_time": "2022-05-03T07:53:27.379Z"
   },
   {
    "duration": 8,
    "start_time": "2022-05-03T07:53:27.387Z"
   },
   {
    "duration": 1158,
    "start_time": "2022-05-03T07:53:27.428Z"
   },
   {
    "duration": 1306,
    "start_time": "2022-05-03T07:53:28.589Z"
   },
   {
    "duration": 1433,
    "start_time": "2022-05-03T07:53:29.897Z"
   },
   {
    "duration": 11,
    "start_time": "2022-05-03T07:53:31.332Z"
   },
   {
    "duration": 78,
    "start_time": "2022-05-03T07:53:31.346Z"
   },
   {
    "duration": 50,
    "start_time": "2022-05-03T07:53:31.427Z"
   },
   {
    "duration": 12,
    "start_time": "2022-05-03T07:53:31.479Z"
   },
   {
    "duration": 45,
    "start_time": "2022-05-03T07:53:31.495Z"
   },
   {
    "duration": 19,
    "start_time": "2022-05-03T07:53:31.543Z"
   },
   {
    "duration": 1410,
    "start_time": "2022-05-03T07:54:12.161Z"
   },
   {
    "duration": 537,
    "start_time": "2022-05-03T07:54:13.574Z"
   },
   {
    "duration": 7,
    "start_time": "2022-05-03T07:54:14.114Z"
   },
   {
    "duration": 246,
    "start_time": "2022-05-03T07:54:14.123Z"
   },
   {
    "duration": 223,
    "start_time": "2022-05-03T07:54:14.373Z"
   },
   {
    "duration": 143,
    "start_time": "2022-05-03T07:54:14.598Z"
   },
   {
    "duration": 55,
    "start_time": "2022-05-03T07:54:14.743Z"
   },
   {
    "duration": 65,
    "start_time": "2022-05-03T07:54:14.800Z"
   },
   {
    "duration": 110,
    "start_time": "2022-05-03T07:54:14.867Z"
   },
   {
    "duration": 109,
    "start_time": "2022-05-03T07:54:14.979Z"
   },
   {
    "duration": 62,
    "start_time": "2022-05-03T07:54:15.091Z"
   },
   {
    "duration": 6,
    "start_time": "2022-05-03T07:54:15.155Z"
   },
   {
    "duration": 499,
    "start_time": "2022-05-03T07:54:15.163Z"
   },
   {
    "duration": 965,
    "start_time": "2022-05-03T07:54:15.666Z"
   },
   {
    "duration": 517,
    "start_time": "2022-05-03T07:54:16.633Z"
   },
   {
    "duration": 34,
    "start_time": "2022-05-03T07:54:17.153Z"
   },
   {
    "duration": 92,
    "start_time": "2022-05-03T07:54:17.190Z"
   },
   {
    "duration": 23,
    "start_time": "2022-05-03T07:54:17.284Z"
   },
   {
    "duration": 23,
    "start_time": "2022-05-03T07:54:17.309Z"
   },
   {
    "duration": 17,
    "start_time": "2022-05-03T07:54:17.335Z"
   },
   {
    "duration": 47,
    "start_time": "2022-05-03T07:54:17.354Z"
   },
   {
    "duration": 48,
    "start_time": "2022-05-03T07:54:17.402Z"
   },
   {
    "duration": 6,
    "start_time": "2022-05-03T07:54:17.452Z"
   },
   {
    "duration": 363,
    "start_time": "2022-05-03T07:54:17.461Z"
   },
   {
    "duration": 24,
    "start_time": "2022-05-03T07:54:17.826Z"
   },
   {
    "duration": 5,
    "start_time": "2022-05-03T07:54:17.852Z"
   },
   {
    "duration": 8,
    "start_time": "2022-05-03T07:54:17.860Z"
   },
   {
    "duration": 1214,
    "start_time": "2022-05-03T07:54:17.870Z"
   },
   {
    "duration": 1216,
    "start_time": "2022-05-03T07:54:19.087Z"
   },
   {
    "duration": 1144,
    "start_time": "2022-05-03T07:54:20.305Z"
   },
   {
    "duration": 11,
    "start_time": "2022-05-03T07:54:21.451Z"
   },
   {
    "duration": 67,
    "start_time": "2022-05-03T07:54:21.464Z"
   },
   {
    "duration": 45,
    "start_time": "2022-05-03T07:54:21.533Z"
   },
   {
    "duration": 11,
    "start_time": "2022-05-03T07:54:21.581Z"
   },
   {
    "duration": 10,
    "start_time": "2022-05-03T07:54:21.625Z"
   },
   {
    "duration": 13,
    "start_time": "2022-05-03T07:54:21.637Z"
   }
  ],
  "kernelspec": {
   "display_name": "Python 3 (ipykernel)",
   "language": "python",
   "name": "python3"
  },
  "language_info": {
   "codemirror_mode": {
    "name": "ipython",
    "version": 3
   },
   "file_extension": ".py",
   "mimetype": "text/x-python",
   "name": "python",
   "nbconvert_exporter": "python",
   "pygments_lexer": "ipython3",
   "version": "3.10.2"
  },
  "toc": {
   "base_numbering": 1,
   "nav_menu": {},
   "number_sections": true,
   "sideBar": true,
   "skip_h1_title": true,
   "title_cell": "Table of Contents",
   "title_sidebar": "Contents",
   "toc_cell": false,
   "toc_position": {},
   "toc_section_display": true,
   "toc_window_display": false
  }
 },
 "nbformat": 4,
 "nbformat_minor": 2
}
