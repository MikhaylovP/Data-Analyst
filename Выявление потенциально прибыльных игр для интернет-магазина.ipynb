{
 "cells": [
  {
   "cell_type": "markdown",
   "metadata": {},
   "source": [
    "# Выявление потенциально прибыльных игр для интернет-магазина\n",
    "\n",
    "**Описание проекта**\n",
    "\n",
    "Вы работаете в интернет-магазине «Стримчик», который продаёт по всему миру компьютерные игры. Из открытых источников доступны исторические данные о продажах игр, оценки пользователей и экспертов, жанры и платформы (например, Xbox или PlayStation). Вам нужно выявить определяющие успешность игры закономерности. Это позволит сделать ставку на потенциально популярный продукт и спланировать рекламные кампании.\n",
    "\n",
    "Перед вами данные до 2016 года. Представим, что сейчас декабрь 2016 г., и вы планируете кампанию на 2017-й. Нужно отработать принцип работы с данными. Неважно, прогнозируете ли вы продажи на 2017 год по данным 2016-го или же 2027-й — по данным 2026 года.\n",
    "\n",
    "**Описание данных**\n",
    "\n",
    "- Name — название игры\n",
    "- Platform — платформа\n",
    "- Year_of_Release — год выпуска\n",
    "- Genre — жанр игры\n",
    "- NA_sales — продажи в Северной Америке (миллионы долларов)\n",
    "- EU_sales — продажи в Европе (миллионы долларов)\n",
    "- JP_sales — продажи в Японии (миллионы долларов)\n",
    "- Other_sales — продажи в других странах (миллионы долларов)\n",
    "- Critic_Score — оценка критиков (максимум 100)\n",
    "- User_Score — оценка пользователей (максимум 10)\n",
    "- Rating — рейтинг от организации ESRB (англ. Entertainment Software Rating Board). Эта ассоциация определяет рейтинг компьютерных игр и присваивает им подходящую возрастную категорию.\n",
    "\n",
    "Данные за 2016 год могут быть неполными.\n",
    "\n",
    "**План и задачи**\n",
    "1. Подготовить данные\n",
    "\n",
    "\n",
    "2. Провести исследовательский анализ данных:\n",
    "\n",
    "- Посмотреть, сколько игр выпускалось в разные годы.\n",
    "- Посмотреть, как менялись продажи по платформам. \n",
    "- Выбрать платформы с наибольшими суммарными продажами и построить распределение по годам.\n",
    "- Выбрать данные за соответствующий актуальный период.\n",
    "- Выбрать несколько потенциально прибыльных платформ.\n",
    "- Построить график «ящик с усами» по глобальным продажам игр в разбивке по платформам.\n",
    "- Посмотреть, как влияют на продажи внутри одной популярной платформы отзывы пользователей и критиков.\n",
    "- Построить диаграмму рассеяния и посчитайте корреляцию между отзывами и продажами.\n",
    "- Посмотреть на общее распределение игр по жанрам.\n",
    "\n",
    "3. Составьте портрет пользователя каждого региона. Определить для пользователя каждого региона (NA, EU, JP):\n",
    "\n",
    "- Самые популярные платформы (топ-5).\n",
    "- Самые популярные жанры (топ-5).\n",
    "- Определить, влияет ли рейтинг ESRB на продажи в отдельном регионе?\n",
    "\n",
    "4. Проверить гипотезы:\n",
    "\n",
    "- Средние пользовательские рейтинги платформ Xbox One и PC одинаковые;\n",
    "- Средние пользовательские рейтинги жанров Action (англ. «действие», экшен-игры) и Sports (англ. «спортивные соревнования») разные.\n",
    "\n",
    "\n",
    "### Обзор данных"
   ]
  },
  {
   "cell_type": "code",
   "execution_count": 3,
   "metadata": {},
   "outputs": [],
   "source": [
    "# импорт библиотек\n",
    "import pandas as pd\n",
    "import numpy as np\n",
    "import matplotlib.pyplot as plt\n",
    "import seaborn as sns\n",
    "from scipy import stats as st"
   ]
  },
  {
   "cell_type": "code",
   "execution_count": 4,
   "metadata": {},
   "outputs": [],
   "source": [
    "# загрузка данных\n",
    "df = pd.read_csv('/datasets/games.csv')"
   ]
  },
  {
   "cell_type": "code",
   "execution_count": 7,
   "metadata": {},
   "outputs": [],
   "source": [
    "def first_look(df):\n",
    "    '''Функция для просмотра основной информации о датафрейме'''\n",
    "    print('Первые 5 строк датасета:')\n",
    "    display(df.head())\n",
    "    print('Информация о датасете:')\n",
    "    print(df.info())\n",
    "    print(df.describe())\n",
    "    print('Количество пропусков:')\n",
    "    print(df.isna().sum())\n",
    "    print('Количество дубликатов:')\n",
    "    print(df.duplicated().sum())"
   ]
  },
  {
   "cell_type": "code",
   "execution_count": 8,
   "metadata": {},
   "outputs": [
    {
     "name": "stdout",
     "output_type": "stream",
     "text": [
      "Первые 5 строк датасета:\n"
     ]
    },
    {
     "data": {
      "text/html": [
       "<div>\n",
       "<style scoped>\n",
       "    .dataframe tbody tr th:only-of-type {\n",
       "        vertical-align: middle;\n",
       "    }\n",
       "\n",
       "    .dataframe tbody tr th {\n",
       "        vertical-align: top;\n",
       "    }\n",
       "\n",
       "    .dataframe thead th {\n",
       "        text-align: right;\n",
       "    }\n",
       "</style>\n",
       "<table border=\"1\" class=\"dataframe\">\n",
       "  <thead>\n",
       "    <tr style=\"text-align: right;\">\n",
       "      <th></th>\n",
       "      <th>Name</th>\n",
       "      <th>Platform</th>\n",
       "      <th>Year_of_Release</th>\n",
       "      <th>Genre</th>\n",
       "      <th>NA_sales</th>\n",
       "      <th>EU_sales</th>\n",
       "      <th>JP_sales</th>\n",
       "      <th>Other_sales</th>\n",
       "      <th>Critic_Score</th>\n",
       "      <th>User_Score</th>\n",
       "      <th>Rating</th>\n",
       "    </tr>\n",
       "  </thead>\n",
       "  <tbody>\n",
       "    <tr>\n",
       "      <th>0</th>\n",
       "      <td>Wii Sports</td>\n",
       "      <td>Wii</td>\n",
       "      <td>2006.0</td>\n",
       "      <td>Sports</td>\n",
       "      <td>41.36</td>\n",
       "      <td>28.96</td>\n",
       "      <td>3.77</td>\n",
       "      <td>8.45</td>\n",
       "      <td>76.0</td>\n",
       "      <td>8</td>\n",
       "      <td>E</td>\n",
       "    </tr>\n",
       "    <tr>\n",
       "      <th>1</th>\n",
       "      <td>Super Mario Bros.</td>\n",
       "      <td>NES</td>\n",
       "      <td>1985.0</td>\n",
       "      <td>Platform</td>\n",
       "      <td>29.08</td>\n",
       "      <td>3.58</td>\n",
       "      <td>6.81</td>\n",
       "      <td>0.77</td>\n",
       "      <td>NaN</td>\n",
       "      <td>NaN</td>\n",
       "      <td>NaN</td>\n",
       "    </tr>\n",
       "    <tr>\n",
       "      <th>2</th>\n",
       "      <td>Mario Kart Wii</td>\n",
       "      <td>Wii</td>\n",
       "      <td>2008.0</td>\n",
       "      <td>Racing</td>\n",
       "      <td>15.68</td>\n",
       "      <td>12.76</td>\n",
       "      <td>3.79</td>\n",
       "      <td>3.29</td>\n",
       "      <td>82.0</td>\n",
       "      <td>8.3</td>\n",
       "      <td>E</td>\n",
       "    </tr>\n",
       "    <tr>\n",
       "      <th>3</th>\n",
       "      <td>Wii Sports Resort</td>\n",
       "      <td>Wii</td>\n",
       "      <td>2009.0</td>\n",
       "      <td>Sports</td>\n",
       "      <td>15.61</td>\n",
       "      <td>10.93</td>\n",
       "      <td>3.28</td>\n",
       "      <td>2.95</td>\n",
       "      <td>80.0</td>\n",
       "      <td>8</td>\n",
       "      <td>E</td>\n",
       "    </tr>\n",
       "    <tr>\n",
       "      <th>4</th>\n",
       "      <td>Pokemon Red/Pokemon Blue</td>\n",
       "      <td>GB</td>\n",
       "      <td>1996.0</td>\n",
       "      <td>Role-Playing</td>\n",
       "      <td>11.27</td>\n",
       "      <td>8.89</td>\n",
       "      <td>10.22</td>\n",
       "      <td>1.00</td>\n",
       "      <td>NaN</td>\n",
       "      <td>NaN</td>\n",
       "      <td>NaN</td>\n",
       "    </tr>\n",
       "  </tbody>\n",
       "</table>\n",
       "</div>"
      ],
      "text/plain": [
       "                       Name Platform  Year_of_Release         Genre  NA_sales  \\\n",
       "0                Wii Sports      Wii           2006.0        Sports     41.36   \n",
       "1         Super Mario Bros.      NES           1985.0      Platform     29.08   \n",
       "2            Mario Kart Wii      Wii           2008.0        Racing     15.68   \n",
       "3         Wii Sports Resort      Wii           2009.0        Sports     15.61   \n",
       "4  Pokemon Red/Pokemon Blue       GB           1996.0  Role-Playing     11.27   \n",
       "\n",
       "   EU_sales  JP_sales  Other_sales  Critic_Score User_Score Rating  \n",
       "0     28.96      3.77         8.45          76.0          8      E  \n",
       "1      3.58      6.81         0.77           NaN        NaN    NaN  \n",
       "2     12.76      3.79         3.29          82.0        8.3      E  \n",
       "3     10.93      3.28         2.95          80.0          8      E  \n",
       "4      8.89     10.22         1.00           NaN        NaN    NaN  "
      ]
     },
     "metadata": {},
     "output_type": "display_data"
    },
    {
     "name": "stdout",
     "output_type": "stream",
     "text": [
      "Информация о датасете:\n",
      "<class 'pandas.core.frame.DataFrame'>\n",
      "RangeIndex: 16715 entries, 0 to 16714\n",
      "Data columns (total 11 columns):\n",
      " #   Column           Non-Null Count  Dtype  \n",
      "---  ------           --------------  -----  \n",
      " 0   Name             16713 non-null  object \n",
      " 1   Platform         16715 non-null  object \n",
      " 2   Year_of_Release  16446 non-null  float64\n",
      " 3   Genre            16713 non-null  object \n",
      " 4   NA_sales         16715 non-null  float64\n",
      " 5   EU_sales         16715 non-null  float64\n",
      " 6   JP_sales         16715 non-null  float64\n",
      " 7   Other_sales      16715 non-null  float64\n",
      " 8   Critic_Score     8137 non-null   float64\n",
      " 9   User_Score       10014 non-null  object \n",
      " 10  Rating           9949 non-null   object \n",
      "dtypes: float64(6), object(5)\n",
      "memory usage: 1.4+ MB\n",
      "None\n"
     ]
    },
    {
     "data": {
      "text/html": [
       "<div>\n",
       "<style scoped>\n",
       "    .dataframe tbody tr th:only-of-type {\n",
       "        vertical-align: middle;\n",
       "    }\n",
       "\n",
       "    .dataframe tbody tr th {\n",
       "        vertical-align: top;\n",
       "    }\n",
       "\n",
       "    .dataframe thead th {\n",
       "        text-align: right;\n",
       "    }\n",
       "</style>\n",
       "<table border=\"1\" class=\"dataframe\">\n",
       "  <thead>\n",
       "    <tr style=\"text-align: right;\">\n",
       "      <th></th>\n",
       "      <th>Year_of_Release</th>\n",
       "      <th>NA_sales</th>\n",
       "      <th>EU_sales</th>\n",
       "      <th>JP_sales</th>\n",
       "      <th>Other_sales</th>\n",
       "      <th>Critic_Score</th>\n",
       "    </tr>\n",
       "  </thead>\n",
       "  <tbody>\n",
       "    <tr>\n",
       "      <th>count</th>\n",
       "      <td>16446.000000</td>\n",
       "      <td>16715.000000</td>\n",
       "      <td>16715.000000</td>\n",
       "      <td>16715.000000</td>\n",
       "      <td>16715.000000</td>\n",
       "      <td>8137.000000</td>\n",
       "    </tr>\n",
       "    <tr>\n",
       "      <th>mean</th>\n",
       "      <td>2006.484616</td>\n",
       "      <td>0.263377</td>\n",
       "      <td>0.145060</td>\n",
       "      <td>0.077617</td>\n",
       "      <td>0.047342</td>\n",
       "      <td>68.967679</td>\n",
       "    </tr>\n",
       "    <tr>\n",
       "      <th>std</th>\n",
       "      <td>5.877050</td>\n",
       "      <td>0.813604</td>\n",
       "      <td>0.503339</td>\n",
       "      <td>0.308853</td>\n",
       "      <td>0.186731</td>\n",
       "      <td>13.938165</td>\n",
       "    </tr>\n",
       "    <tr>\n",
       "      <th>min</th>\n",
       "      <td>1980.000000</td>\n",
       "      <td>0.000000</td>\n",
       "      <td>0.000000</td>\n",
       "      <td>0.000000</td>\n",
       "      <td>0.000000</td>\n",
       "      <td>13.000000</td>\n",
       "    </tr>\n",
       "    <tr>\n",
       "      <th>25%</th>\n",
       "      <td>2003.000000</td>\n",
       "      <td>0.000000</td>\n",
       "      <td>0.000000</td>\n",
       "      <td>0.000000</td>\n",
       "      <td>0.000000</td>\n",
       "      <td>60.000000</td>\n",
       "    </tr>\n",
       "    <tr>\n",
       "      <th>50%</th>\n",
       "      <td>2007.000000</td>\n",
       "      <td>0.080000</td>\n",
       "      <td>0.020000</td>\n",
       "      <td>0.000000</td>\n",
       "      <td>0.010000</td>\n",
       "      <td>71.000000</td>\n",
       "    </tr>\n",
       "    <tr>\n",
       "      <th>75%</th>\n",
       "      <td>2010.000000</td>\n",
       "      <td>0.240000</td>\n",
       "      <td>0.110000</td>\n",
       "      <td>0.040000</td>\n",
       "      <td>0.030000</td>\n",
       "      <td>79.000000</td>\n",
       "    </tr>\n",
       "    <tr>\n",
       "      <th>max</th>\n",
       "      <td>2016.000000</td>\n",
       "      <td>41.360000</td>\n",
       "      <td>28.960000</td>\n",
       "      <td>10.220000</td>\n",
       "      <td>10.570000</td>\n",
       "      <td>98.000000</td>\n",
       "    </tr>\n",
       "  </tbody>\n",
       "</table>\n",
       "</div>"
      ],
      "text/plain": [
       "       Year_of_Release      NA_sales      EU_sales      JP_sales  \\\n",
       "count     16446.000000  16715.000000  16715.000000  16715.000000   \n",
       "mean       2006.484616      0.263377      0.145060      0.077617   \n",
       "std           5.877050      0.813604      0.503339      0.308853   \n",
       "min        1980.000000      0.000000      0.000000      0.000000   \n",
       "25%        2003.000000      0.000000      0.000000      0.000000   \n",
       "50%        2007.000000      0.080000      0.020000      0.000000   \n",
       "75%        2010.000000      0.240000      0.110000      0.040000   \n",
       "max        2016.000000     41.360000     28.960000     10.220000   \n",
       "\n",
       "        Other_sales  Critic_Score  \n",
       "count  16715.000000   8137.000000  \n",
       "mean       0.047342     68.967679  \n",
       "std        0.186731     13.938165  \n",
       "min        0.000000     13.000000  \n",
       "25%        0.000000     60.000000  \n",
       "50%        0.010000     71.000000  \n",
       "75%        0.030000     79.000000  \n",
       "max       10.570000     98.000000  "
      ]
     },
     "metadata": {},
     "output_type": "display_data"
    },
    {
     "name": "stdout",
     "output_type": "stream",
     "text": [
      "Количество пропусков:\n",
      "Name                  2\n",
      "Platform              0\n",
      "Year_of_Release     269\n",
      "Genre                 2\n",
      "NA_sales              0\n",
      "EU_sales              0\n",
      "JP_sales              0\n",
      "Other_sales           0\n",
      "Critic_Score       8578\n",
      "User_Score         6701\n",
      "Rating             6766\n",
      "dtype: int64\n",
      "Количество дубликатов:\n"
     ]
    },
    {
     "data": {
      "text/plain": [
       "0"
      ]
     },
     "metadata": {},
     "output_type": "display_data"
    }
   ],
   "source": [
    "first_look(df)"
   ]
  },
  {
   "cell_type": "markdown",
   "metadata": {},
   "source": [
    "В результате обзора данных выявлены следующие проблемы:\n",
    "- использование заглавных букв в названиях столбцов, необходимо привести к нижнему регистру;\n",
    "- неправильный тип данных у некоторых столбцов\n",
    "- большое количество пропусков, с которыми придется работать"
   ]
  },
  {
   "cell_type": "markdown",
   "metadata": {},
   "source": [
    "### Предобработка данных"
   ]
  },
  {
   "cell_type": "code",
   "execution_count": 5,
   "metadata": {},
   "outputs": [],
   "source": [
    "# приводим названия столбцов к нижнему регистру\n",
    "df.columns = df.columns.str.lower()"
   ]
  },
  {
   "cell_type": "code",
   "execution_count": 6,
   "metadata": {},
   "outputs": [
    {
     "data": {
      "text/html": [
       "<div>\n",
       "<style scoped>\n",
       "    .dataframe tbody tr th:only-of-type {\n",
       "        vertical-align: middle;\n",
       "    }\n",
       "\n",
       "    .dataframe tbody tr th {\n",
       "        vertical-align: top;\n",
       "    }\n",
       "\n",
       "    .dataframe thead th {\n",
       "        text-align: right;\n",
       "    }\n",
       "</style>\n",
       "<table border=\"1\" class=\"dataframe\">\n",
       "  <thead>\n",
       "    <tr style=\"text-align: right;\">\n",
       "      <th></th>\n",
       "      <th>name</th>\n",
       "      <th>platform</th>\n",
       "      <th>year_of_release</th>\n",
       "      <th>genre</th>\n",
       "      <th>na_sales</th>\n",
       "      <th>eu_sales</th>\n",
       "      <th>jp_sales</th>\n",
       "      <th>other_sales</th>\n",
       "      <th>critic_score</th>\n",
       "      <th>user_score</th>\n",
       "      <th>rating</th>\n",
       "    </tr>\n",
       "  </thead>\n",
       "  <tbody>\n",
       "    <tr>\n",
       "      <th>659</th>\n",
       "      <td>NaN</td>\n",
       "      <td>GEN</td>\n",
       "      <td>1993.0</td>\n",
       "      <td>NaN</td>\n",
       "      <td>1.78</td>\n",
       "      <td>0.53</td>\n",
       "      <td>0.00</td>\n",
       "      <td>0.08</td>\n",
       "      <td>NaN</td>\n",
       "      <td>NaN</td>\n",
       "      <td>NaN</td>\n",
       "    </tr>\n",
       "    <tr>\n",
       "      <th>14244</th>\n",
       "      <td>NaN</td>\n",
       "      <td>GEN</td>\n",
       "      <td>1993.0</td>\n",
       "      <td>NaN</td>\n",
       "      <td>0.00</td>\n",
       "      <td>0.00</td>\n",
       "      <td>0.03</td>\n",
       "      <td>0.00</td>\n",
       "      <td>NaN</td>\n",
       "      <td>NaN</td>\n",
       "      <td>NaN</td>\n",
       "    </tr>\n",
       "  </tbody>\n",
       "</table>\n",
       "</div>"
      ],
      "text/plain": [
       "      name platform  year_of_release genre  na_sales  eu_sales  jp_sales  \\\n",
       "659    NaN      GEN           1993.0   NaN      1.78      0.53      0.00   \n",
       "14244  NaN      GEN           1993.0   NaN      0.00      0.00      0.03   \n",
       "\n",
       "       other_sales  critic_score user_score rating  \n",
       "659           0.08           NaN        NaN    NaN  \n",
       "14244         0.00           NaN        NaN    NaN  "
      ]
     },
     "execution_count": 6,
     "metadata": {},
     "output_type": "execute_result"
    }
   ],
   "source": [
    "# смотрим пропуски в столбце названия\n",
    "df[df['name'].isna()]"
   ]
  },
  {
   "cell_type": "markdown",
   "metadata": {},
   "source": [
    "Помимо пропуска названия, очень много пропусков в других важных столбцах, восстановить эти данные невозможно, потому эти 2 строки можно смело удалить."
   ]
  },
  {
   "cell_type": "code",
   "execution_count": 7,
   "metadata": {},
   "outputs": [],
   "source": [
    "# удаляем пропуски\n",
    "df = df.dropna(subset = ['name'])"
   ]
  },
  {
   "cell_type": "code",
   "execution_count": 8,
   "metadata": {},
   "outputs": [
    {
     "data": {
      "text/plain": [
       "PS2     2161\n",
       "DS      2151\n",
       "PS3     1331\n",
       "Wii     1320\n",
       "X360    1262\n",
       "PSP     1209\n",
       "PS      1197\n",
       "PC       974\n",
       "XB       824\n",
       "GBA      822\n",
       "GC       556\n",
       "3DS      520\n",
       "PSV      430\n",
       "PS4      392\n",
       "N64      319\n",
       "XOne     247\n",
       "SNES     239\n",
       "SAT      173\n",
       "WiiU     147\n",
       "2600     133\n",
       "NES       98\n",
       "GB        98\n",
       "DC        52\n",
       "GEN       27\n",
       "NG        12\n",
       "WS         6\n",
       "SCD        6\n",
       "3DO        3\n",
       "TG16       2\n",
       "GG         1\n",
       "PCFX       1\n",
       "Name: platform, dtype: int64"
      ]
     },
     "execution_count": 8,
     "metadata": {},
     "output_type": "execute_result"
    }
   ],
   "source": [
    "# просмотрим значения столбца с платформами\n",
    "df['platform'].value_counts()"
   ]
  },
  {
   "cell_type": "markdown",
   "metadata": {},
   "source": [
    "Со столбцом все в порядке."
   ]
  },
  {
   "cell_type": "code",
   "execution_count": 9,
   "metadata": {},
   "outputs": [
    {
     "data": {
      "text/html": [
       "<div>\n",
       "<style scoped>\n",
       "    .dataframe tbody tr th:only-of-type {\n",
       "        vertical-align: middle;\n",
       "    }\n",
       "\n",
       "    .dataframe tbody tr th {\n",
       "        vertical-align: top;\n",
       "    }\n",
       "\n",
       "    .dataframe thead th {\n",
       "        text-align: right;\n",
       "    }\n",
       "</style>\n",
       "<table border=\"1\" class=\"dataframe\">\n",
       "  <thead>\n",
       "    <tr style=\"text-align: right;\">\n",
       "      <th></th>\n",
       "      <th>name</th>\n",
       "      <th>platform</th>\n",
       "      <th>year_of_release</th>\n",
       "      <th>genre</th>\n",
       "      <th>na_sales</th>\n",
       "      <th>eu_sales</th>\n",
       "      <th>jp_sales</th>\n",
       "      <th>other_sales</th>\n",
       "      <th>critic_score</th>\n",
       "      <th>user_score</th>\n",
       "      <th>rating</th>\n",
       "    </tr>\n",
       "  </thead>\n",
       "  <tbody>\n",
       "    <tr>\n",
       "      <th>183</th>\n",
       "      <td>Madden NFL 2004</td>\n",
       "      <td>PS2</td>\n",
       "      <td>NaN</td>\n",
       "      <td>Sports</td>\n",
       "      <td>4.26</td>\n",
       "      <td>0.26</td>\n",
       "      <td>0.01</td>\n",
       "      <td>0.71</td>\n",
       "      <td>94.0</td>\n",
       "      <td>8.5</td>\n",
       "      <td>E</td>\n",
       "    </tr>\n",
       "    <tr>\n",
       "      <th>377</th>\n",
       "      <td>FIFA Soccer 2004</td>\n",
       "      <td>PS2</td>\n",
       "      <td>NaN</td>\n",
       "      <td>Sports</td>\n",
       "      <td>0.59</td>\n",
       "      <td>2.36</td>\n",
       "      <td>0.04</td>\n",
       "      <td>0.51</td>\n",
       "      <td>84.0</td>\n",
       "      <td>6.4</td>\n",
       "      <td>E</td>\n",
       "    </tr>\n",
       "    <tr>\n",
       "      <th>456</th>\n",
       "      <td>LEGO Batman: The Videogame</td>\n",
       "      <td>Wii</td>\n",
       "      <td>NaN</td>\n",
       "      <td>Action</td>\n",
       "      <td>1.80</td>\n",
       "      <td>0.97</td>\n",
       "      <td>0.00</td>\n",
       "      <td>0.29</td>\n",
       "      <td>74.0</td>\n",
       "      <td>7.9</td>\n",
       "      <td>E10+</td>\n",
       "    </tr>\n",
       "    <tr>\n",
       "      <th>475</th>\n",
       "      <td>wwe Smackdown vs. Raw 2006</td>\n",
       "      <td>PS2</td>\n",
       "      <td>NaN</td>\n",
       "      <td>Fighting</td>\n",
       "      <td>1.57</td>\n",
       "      <td>1.02</td>\n",
       "      <td>0.00</td>\n",
       "      <td>0.41</td>\n",
       "      <td>NaN</td>\n",
       "      <td>NaN</td>\n",
       "      <td>NaN</td>\n",
       "    </tr>\n",
       "    <tr>\n",
       "      <th>609</th>\n",
       "      <td>Space Invaders</td>\n",
       "      <td>2600</td>\n",
       "      <td>NaN</td>\n",
       "      <td>Shooter</td>\n",
       "      <td>2.36</td>\n",
       "      <td>0.14</td>\n",
       "      <td>0.00</td>\n",
       "      <td>0.03</td>\n",
       "      <td>NaN</td>\n",
       "      <td>NaN</td>\n",
       "      <td>NaN</td>\n",
       "    </tr>\n",
       "    <tr>\n",
       "      <th>...</th>\n",
       "      <td>...</td>\n",
       "      <td>...</td>\n",
       "      <td>...</td>\n",
       "      <td>...</td>\n",
       "      <td>...</td>\n",
       "      <td>...</td>\n",
       "      <td>...</td>\n",
       "      <td>...</td>\n",
       "      <td>...</td>\n",
       "      <td>...</td>\n",
       "      <td>...</td>\n",
       "    </tr>\n",
       "    <tr>\n",
       "      <th>16373</th>\n",
       "      <td>PDC World Championship Darts 2008</td>\n",
       "      <td>PSP</td>\n",
       "      <td>NaN</td>\n",
       "      <td>Sports</td>\n",
       "      <td>0.01</td>\n",
       "      <td>0.00</td>\n",
       "      <td>0.00</td>\n",
       "      <td>0.00</td>\n",
       "      <td>43.0</td>\n",
       "      <td>tbd</td>\n",
       "      <td>E10+</td>\n",
       "    </tr>\n",
       "    <tr>\n",
       "      <th>16405</th>\n",
       "      <td>Freaky Flyers</td>\n",
       "      <td>GC</td>\n",
       "      <td>NaN</td>\n",
       "      <td>Racing</td>\n",
       "      <td>0.01</td>\n",
       "      <td>0.00</td>\n",
       "      <td>0.00</td>\n",
       "      <td>0.00</td>\n",
       "      <td>69.0</td>\n",
       "      <td>6.5</td>\n",
       "      <td>T</td>\n",
       "    </tr>\n",
       "    <tr>\n",
       "      <th>16448</th>\n",
       "      <td>Inversion</td>\n",
       "      <td>PC</td>\n",
       "      <td>NaN</td>\n",
       "      <td>Shooter</td>\n",
       "      <td>0.01</td>\n",
       "      <td>0.00</td>\n",
       "      <td>0.00</td>\n",
       "      <td>0.00</td>\n",
       "      <td>59.0</td>\n",
       "      <td>6.7</td>\n",
       "      <td>M</td>\n",
       "    </tr>\n",
       "    <tr>\n",
       "      <th>16458</th>\n",
       "      <td>Hakuouki: Shinsengumi Kitan</td>\n",
       "      <td>PS3</td>\n",
       "      <td>NaN</td>\n",
       "      <td>Adventure</td>\n",
       "      <td>0.01</td>\n",
       "      <td>0.00</td>\n",
       "      <td>0.00</td>\n",
       "      <td>0.00</td>\n",
       "      <td>NaN</td>\n",
       "      <td>NaN</td>\n",
       "      <td>NaN</td>\n",
       "    </tr>\n",
       "    <tr>\n",
       "      <th>16522</th>\n",
       "      <td>Virtua Quest</td>\n",
       "      <td>GC</td>\n",
       "      <td>NaN</td>\n",
       "      <td>Role-Playing</td>\n",
       "      <td>0.01</td>\n",
       "      <td>0.00</td>\n",
       "      <td>0.00</td>\n",
       "      <td>0.00</td>\n",
       "      <td>55.0</td>\n",
       "      <td>5.5</td>\n",
       "      <td>T</td>\n",
       "    </tr>\n",
       "  </tbody>\n",
       "</table>\n",
       "<p>269 rows × 11 columns</p>\n",
       "</div>"
      ],
      "text/plain": [
       "                                    name platform  year_of_release  \\\n",
       "183                      Madden NFL 2004      PS2              NaN   \n",
       "377                     FIFA Soccer 2004      PS2              NaN   \n",
       "456           LEGO Batman: The Videogame      Wii              NaN   \n",
       "475           wwe Smackdown vs. Raw 2006      PS2              NaN   \n",
       "609                       Space Invaders     2600              NaN   \n",
       "...                                  ...      ...              ...   \n",
       "16373  PDC World Championship Darts 2008      PSP              NaN   \n",
       "16405                      Freaky Flyers       GC              NaN   \n",
       "16448                          Inversion       PC              NaN   \n",
       "16458        Hakuouki: Shinsengumi Kitan      PS3              NaN   \n",
       "16522                       Virtua Quest       GC              NaN   \n",
       "\n",
       "              genre  na_sales  eu_sales  jp_sales  other_sales  critic_score  \\\n",
       "183          Sports      4.26      0.26      0.01         0.71          94.0   \n",
       "377          Sports      0.59      2.36      0.04         0.51          84.0   \n",
       "456          Action      1.80      0.97      0.00         0.29          74.0   \n",
       "475        Fighting      1.57      1.02      0.00         0.41           NaN   \n",
       "609         Shooter      2.36      0.14      0.00         0.03           NaN   \n",
       "...             ...       ...       ...       ...          ...           ...   \n",
       "16373        Sports      0.01      0.00      0.00         0.00          43.0   \n",
       "16405        Racing      0.01      0.00      0.00         0.00          69.0   \n",
       "16448       Shooter      0.01      0.00      0.00         0.00          59.0   \n",
       "16458     Adventure      0.01      0.00      0.00         0.00           NaN   \n",
       "16522  Role-Playing      0.01      0.00      0.00         0.00          55.0   \n",
       "\n",
       "      user_score rating  \n",
       "183          8.5      E  \n",
       "377          6.4      E  \n",
       "456          7.9   E10+  \n",
       "475          NaN    NaN  \n",
       "609          NaN    NaN  \n",
       "...          ...    ...  \n",
       "16373        tbd   E10+  \n",
       "16405        6.5      T  \n",
       "16448        6.7      M  \n",
       "16458        NaN    NaN  \n",
       "16522        5.5      T  \n",
       "\n",
       "[269 rows x 11 columns]"
      ]
     },
     "execution_count": 9,
     "metadata": {},
     "output_type": "execute_result"
    }
   ],
   "source": [
    "# смотрим пропуски в столбце года релиза\n",
    "df[df['year_of_release'].isna()]"
   ]
  },
  {
   "cell_type": "code",
   "execution_count": 10,
   "metadata": {},
   "outputs": [
    {
     "data": {
      "text/plain": [
       "0.016095255190570215"
      ]
     },
     "execution_count": 10,
     "metadata": {},
     "output_type": "execute_result"
    }
   ],
   "source": [
    "# посчитаем, какой процент данных имеет пропуски\n",
    "len(df[df['year_of_release'].isna()])/len(df)"
   ]
  },
  {
   "cell_type": "markdown",
   "metadata": {},
   "source": [
    "1,6% - это довольно небольшое значение, потому удалим эти строки."
   ]
  },
  {
   "cell_type": "code",
   "execution_count": 11,
   "metadata": {},
   "outputs": [],
   "source": [
    "# удаляем пропуски\n",
    "df = df.dropna(subset = ['year_of_release'])"
   ]
  },
  {
   "cell_type": "code",
   "execution_count": 12,
   "metadata": {},
   "outputs": [],
   "source": [
    "# приводим значение года к типу int\n",
    "df['year_of_release'] = df['year_of_release'].astype('int')"
   ]
  },
  {
   "cell_type": "code",
   "execution_count": 13,
   "metadata": {},
   "outputs": [
    {
     "data": {
      "text/plain": [
       "Action          3307\n",
       "Sports          2306\n",
       "Misc            1721\n",
       "Role-Playing    1481\n",
       "Shooter         1296\n",
       "Adventure       1293\n",
       "Racing          1226\n",
       "Platform         878\n",
       "Simulation       857\n",
       "Fighting         837\n",
       "Strategy         673\n",
       "Puzzle           569\n",
       "Name: genre, dtype: int64"
      ]
     },
     "execution_count": 13,
     "metadata": {},
     "output_type": "execute_result"
    }
   ],
   "source": [
    "# просмотрим значения в столбце жанра\n",
    "df['genre'].value_counts()"
   ]
  },
  {
   "cell_type": "markdown",
   "metadata": {},
   "source": [
    "Со столбцом все в порядке."
   ]
  },
  {
   "cell_type": "code",
   "execution_count": 14,
   "metadata": {},
   "outputs": [
    {
     "data": {
      "text/html": [
       "<div>\n",
       "<style scoped>\n",
       "    .dataframe tbody tr th:only-of-type {\n",
       "        vertical-align: middle;\n",
       "    }\n",
       "\n",
       "    .dataframe tbody tr th {\n",
       "        vertical-align: top;\n",
       "    }\n",
       "\n",
       "    .dataframe thead th {\n",
       "        text-align: right;\n",
       "    }\n",
       "</style>\n",
       "<table border=\"1\" class=\"dataframe\">\n",
       "  <thead>\n",
       "    <tr style=\"text-align: right;\">\n",
       "      <th></th>\n",
       "      <th>name</th>\n",
       "      <th>platform</th>\n",
       "      <th>year_of_release</th>\n",
       "      <th>genre</th>\n",
       "      <th>na_sales</th>\n",
       "      <th>eu_sales</th>\n",
       "      <th>jp_sales</th>\n",
       "      <th>other_sales</th>\n",
       "      <th>critic_score</th>\n",
       "      <th>user_score</th>\n",
       "      <th>rating</th>\n",
       "    </tr>\n",
       "  </thead>\n",
       "  <tbody>\n",
       "    <tr>\n",
       "      <th>1</th>\n",
       "      <td>Super Mario Bros.</td>\n",
       "      <td>NES</td>\n",
       "      <td>1985</td>\n",
       "      <td>Platform</td>\n",
       "      <td>29.08</td>\n",
       "      <td>3.58</td>\n",
       "      <td>6.81</td>\n",
       "      <td>0.77</td>\n",
       "      <td>NaN</td>\n",
       "      <td>NaN</td>\n",
       "      <td>NaN</td>\n",
       "    </tr>\n",
       "    <tr>\n",
       "      <th>4</th>\n",
       "      <td>Pokemon Red/Pokemon Blue</td>\n",
       "      <td>GB</td>\n",
       "      <td>1996</td>\n",
       "      <td>Role-Playing</td>\n",
       "      <td>11.27</td>\n",
       "      <td>8.89</td>\n",
       "      <td>10.22</td>\n",
       "      <td>1.00</td>\n",
       "      <td>NaN</td>\n",
       "      <td>NaN</td>\n",
       "      <td>NaN</td>\n",
       "    </tr>\n",
       "    <tr>\n",
       "      <th>5</th>\n",
       "      <td>Tetris</td>\n",
       "      <td>GB</td>\n",
       "      <td>1989</td>\n",
       "      <td>Puzzle</td>\n",
       "      <td>23.20</td>\n",
       "      <td>2.26</td>\n",
       "      <td>4.22</td>\n",
       "      <td>0.58</td>\n",
       "      <td>NaN</td>\n",
       "      <td>NaN</td>\n",
       "      <td>NaN</td>\n",
       "    </tr>\n",
       "    <tr>\n",
       "      <th>9</th>\n",
       "      <td>Duck Hunt</td>\n",
       "      <td>NES</td>\n",
       "      <td>1984</td>\n",
       "      <td>Shooter</td>\n",
       "      <td>26.93</td>\n",
       "      <td>0.63</td>\n",
       "      <td>0.28</td>\n",
       "      <td>0.47</td>\n",
       "      <td>NaN</td>\n",
       "      <td>NaN</td>\n",
       "      <td>NaN</td>\n",
       "    </tr>\n",
       "    <tr>\n",
       "      <th>10</th>\n",
       "      <td>Nintendogs</td>\n",
       "      <td>DS</td>\n",
       "      <td>2005</td>\n",
       "      <td>Simulation</td>\n",
       "      <td>9.05</td>\n",
       "      <td>10.95</td>\n",
       "      <td>1.93</td>\n",
       "      <td>2.74</td>\n",
       "      <td>NaN</td>\n",
       "      <td>NaN</td>\n",
       "      <td>NaN</td>\n",
       "    </tr>\n",
       "  </tbody>\n",
       "</table>\n",
       "</div>"
      ],
      "text/plain": [
       "                        name platform  year_of_release         genre  \\\n",
       "1          Super Mario Bros.      NES             1985      Platform   \n",
       "4   Pokemon Red/Pokemon Blue       GB             1996  Role-Playing   \n",
       "5                     Tetris       GB             1989        Puzzle   \n",
       "9                  Duck Hunt      NES             1984       Shooter   \n",
       "10                Nintendogs       DS             2005    Simulation   \n",
       "\n",
       "    na_sales  eu_sales  jp_sales  other_sales  critic_score user_score rating  \n",
       "1      29.08      3.58      6.81         0.77           NaN        NaN    NaN  \n",
       "4      11.27      8.89     10.22         1.00           NaN        NaN    NaN  \n",
       "5      23.20      2.26      4.22         0.58           NaN        NaN    NaN  \n",
       "9      26.93      0.63      0.28         0.47           NaN        NaN    NaN  \n",
       "10      9.05     10.95      1.93         2.74           NaN        NaN    NaN  "
      ]
     },
     "execution_count": 14,
     "metadata": {},
     "output_type": "execute_result"
    }
   ],
   "source": [
    "# посмотрим на пропуски в рейтинге ESRB\n",
    "df[df['rating'].isna()].head()"
   ]
  },
  {
   "cell_type": "markdown",
   "metadata": {},
   "source": [
    "Пропусков много, заполним их значением unknown."
   ]
  },
  {
   "cell_type": "code",
   "execution_count": 15,
   "metadata": {
    "scrolled": true
   },
   "outputs": [
    {
     "data": {
      "text/plain": [
       "unknown    6676\n",
       "E          3921\n",
       "T          2905\n",
       "M          1536\n",
       "E10+       1393\n",
       "EC            8\n",
       "K-A           3\n",
       "AO            1\n",
       "RP            1\n",
       "Name: rating, dtype: int64"
      ]
     },
     "execution_count": 15,
     "metadata": {},
     "output_type": "execute_result"
    }
   ],
   "source": [
    "# заполняем пропуски\n",
    "df['rating'] = df['rating'].fillna('unknown')\n",
    "# посмотрим, какие есть значения рейтинга\n",
    "df['rating'].value_counts()"
   ]
  },
  {
   "cell_type": "markdown",
   "metadata": {},
   "source": [
    "Некотрых значений совсем немного, посмотрим, что вообще эти буковки означают:\n",
    "\n",
    "«EC» («Early childhood») — «Для детей младшего возраста»\n",
    "\n",
    "«E» («Everyone») — «Для всех»\n",
    "\n",
    "«E10+» («Everyone 10 and older») — «Для всех от 10 лет и старше»\n",
    "\n",
    "«T» («Teen») — «Подросткам»\n",
    "\n",
    "«M» («Mature») — «Для взрослых»\n",
    "\n",
    "«AO» («Adults Only 18+») — «Только для взрослых»\n",
    "\n",
    "«RP» («Rating Pending») — «Рейтинг ожидается»\n",
    "\n",
    "«K-A» («Kids to Adults») — устаревшее название «E»\n",
    "\n",
    "Видно, что:\n",
    "- АО означает примерно то же, что и М;\n",
    "- RP - это, по сути, отсутствие рейтинга, то есть он неизвестен и можно заменить его значением unknown;\n",
    "- K-A, EC - примерно то же самое, что и E."
   ]
  },
  {
   "cell_type": "code",
   "execution_count": 16,
   "metadata": {},
   "outputs": [],
   "source": [
    "# поменяем значения рейтинга\n",
    "df.loc[df['rating']=='AO', 'rating'] = 'M'\n",
    "df.loc[df['rating']=='RP', 'rating'] = 'unknown'\n",
    "df.loc[df['rating'].isin(['K-A', 'EC']), 'rating'] = 'E'"
   ]
  },
  {
   "cell_type": "code",
   "execution_count": 17,
   "metadata": {},
   "outputs": [
    {
     "data": {
      "text/plain": [
       "unknown    6677\n",
       "E          3932\n",
       "T          2905\n",
       "M          1537\n",
       "E10+       1393\n",
       "Name: rating, dtype: int64"
      ]
     },
     "execution_count": 17,
     "metadata": {},
     "output_type": "execute_result"
    }
   ],
   "source": [
    "# проверим, какие значения остались\n",
    "df['rating'].value_counts()"
   ]
  },
  {
   "cell_type": "code",
   "execution_count": 18,
   "metadata": {},
   "outputs": [
    {
     "data": {
      "text/plain": [
       "count    7983.000000\n",
       "mean       68.994363\n",
       "std        13.920060\n",
       "min        13.000000\n",
       "25%        60.000000\n",
       "50%        71.000000\n",
       "75%        79.000000\n",
       "max        98.000000\n",
       "Name: critic_score, dtype: float64"
      ]
     },
     "execution_count": 18,
     "metadata": {},
     "output_type": "execute_result"
    }
   ],
   "source": [
    "# посмотрим на значения в оценках критиков\n",
    "df['critic_score'].describe()"
   ]
  },
  {
   "cell_type": "markdown",
   "metadata": {},
   "source": [
    "Со значениями все в порядке, разброс от 13 до 98, что при 100-балльной системе выглядит логично."
   ]
  },
  {
   "cell_type": "code",
   "execution_count": 19,
   "metadata": {},
   "outputs": [
    {
     "data": {
      "text/html": [
       "<div>\n",
       "<style scoped>\n",
       "    .dataframe tbody tr th:only-of-type {\n",
       "        vertical-align: middle;\n",
       "    }\n",
       "\n",
       "    .dataframe tbody tr th {\n",
       "        vertical-align: top;\n",
       "    }\n",
       "\n",
       "    .dataframe thead th {\n",
       "        text-align: right;\n",
       "    }\n",
       "</style>\n",
       "<table border=\"1\" class=\"dataframe\">\n",
       "  <thead>\n",
       "    <tr style=\"text-align: right;\">\n",
       "      <th></th>\n",
       "      <th>name</th>\n",
       "      <th>platform</th>\n",
       "      <th>year_of_release</th>\n",
       "      <th>genre</th>\n",
       "      <th>na_sales</th>\n",
       "      <th>eu_sales</th>\n",
       "      <th>jp_sales</th>\n",
       "      <th>other_sales</th>\n",
       "      <th>critic_score</th>\n",
       "      <th>user_score</th>\n",
       "      <th>rating</th>\n",
       "    </tr>\n",
       "  </thead>\n",
       "  <tbody>\n",
       "    <tr>\n",
       "      <th>1</th>\n",
       "      <td>Super Mario Bros.</td>\n",
       "      <td>NES</td>\n",
       "      <td>1985</td>\n",
       "      <td>Platform</td>\n",
       "      <td>29.08</td>\n",
       "      <td>3.58</td>\n",
       "      <td>6.81</td>\n",
       "      <td>0.77</td>\n",
       "      <td>NaN</td>\n",
       "      <td>NaN</td>\n",
       "      <td>unknown</td>\n",
       "    </tr>\n",
       "    <tr>\n",
       "      <th>4</th>\n",
       "      <td>Pokemon Red/Pokemon Blue</td>\n",
       "      <td>GB</td>\n",
       "      <td>1996</td>\n",
       "      <td>Role-Playing</td>\n",
       "      <td>11.27</td>\n",
       "      <td>8.89</td>\n",
       "      <td>10.22</td>\n",
       "      <td>1.00</td>\n",
       "      <td>NaN</td>\n",
       "      <td>NaN</td>\n",
       "      <td>unknown</td>\n",
       "    </tr>\n",
       "    <tr>\n",
       "      <th>5</th>\n",
       "      <td>Tetris</td>\n",
       "      <td>GB</td>\n",
       "      <td>1989</td>\n",
       "      <td>Puzzle</td>\n",
       "      <td>23.20</td>\n",
       "      <td>2.26</td>\n",
       "      <td>4.22</td>\n",
       "      <td>0.58</td>\n",
       "      <td>NaN</td>\n",
       "      <td>NaN</td>\n",
       "      <td>unknown</td>\n",
       "    </tr>\n",
       "    <tr>\n",
       "      <th>9</th>\n",
       "      <td>Duck Hunt</td>\n",
       "      <td>NES</td>\n",
       "      <td>1984</td>\n",
       "      <td>Shooter</td>\n",
       "      <td>26.93</td>\n",
       "      <td>0.63</td>\n",
       "      <td>0.28</td>\n",
       "      <td>0.47</td>\n",
       "      <td>NaN</td>\n",
       "      <td>NaN</td>\n",
       "      <td>unknown</td>\n",
       "    </tr>\n",
       "    <tr>\n",
       "      <th>10</th>\n",
       "      <td>Nintendogs</td>\n",
       "      <td>DS</td>\n",
       "      <td>2005</td>\n",
       "      <td>Simulation</td>\n",
       "      <td>9.05</td>\n",
       "      <td>10.95</td>\n",
       "      <td>1.93</td>\n",
       "      <td>2.74</td>\n",
       "      <td>NaN</td>\n",
       "      <td>NaN</td>\n",
       "      <td>unknown</td>\n",
       "    </tr>\n",
       "  </tbody>\n",
       "</table>\n",
       "</div>"
      ],
      "text/plain": [
       "                        name platform  year_of_release         genre  \\\n",
       "1          Super Mario Bros.      NES             1985      Platform   \n",
       "4   Pokemon Red/Pokemon Blue       GB             1996  Role-Playing   \n",
       "5                     Tetris       GB             1989        Puzzle   \n",
       "9                  Duck Hunt      NES             1984       Shooter   \n",
       "10                Nintendogs       DS             2005    Simulation   \n",
       "\n",
       "    na_sales  eu_sales  jp_sales  other_sales  critic_score user_score  \\\n",
       "1      29.08      3.58      6.81         0.77           NaN        NaN   \n",
       "4      11.27      8.89     10.22         1.00           NaN        NaN   \n",
       "5      23.20      2.26      4.22         0.58           NaN        NaN   \n",
       "9      26.93      0.63      0.28         0.47           NaN        NaN   \n",
       "10      9.05     10.95      1.93         2.74           NaN        NaN   \n",
       "\n",
       "     rating  \n",
       "1   unknown  \n",
       "4   unknown  \n",
       "5   unknown  \n",
       "9   unknown  \n",
       "10  unknown  "
      ]
     },
     "execution_count": 19,
     "metadata": {},
     "output_type": "execute_result"
    }
   ],
   "source": [
    "# посмотрим на пропуски в оценках критиков\n",
    "df[df['critic_score'].isna()].head()"
   ]
  },
  {
   "cell_type": "markdown",
   "metadata": {},
   "source": [
    "Пропусков много, восстановить их не представляется возможным, выкинуть эти строки тоже нельзя. Заменим их значением -1, чтобы в дальнейшем иметь возможность без проблем работать с этими данными."
   ]
  },
  {
   "cell_type": "code",
   "execution_count": 20,
   "metadata": {},
   "outputs": [],
   "source": [
    "# заполняем пропуски значением -1 и приведем к типу int\n",
    "df['critic_score'] = df['critic_score'].fillna('-1').astype('int')"
   ]
  },
  {
   "cell_type": "code",
   "execution_count": 21,
   "metadata": {},
   "outputs": [
    {
     "data": {
      "text/plain": [
       "count     9839\n",
       "unique      96\n",
       "top        tbd\n",
       "freq      2376\n",
       "Name: user_score, dtype: object"
      ]
     },
     "execution_count": 21,
     "metadata": {},
     "output_type": "execute_result"
    }
   ],
   "source": [
    "# посмотрим на значения в оценках игроков\n",
    "df['user_score'].describe()"
   ]
  },
  {
   "cell_type": "markdown",
   "metadata": {},
   "source": [
    "Судя по выводу, у нас тут не числовые значения типа int или float, а строки типа object. Посмотрим, какие значения есть в столбце."
   ]
  },
  {
   "cell_type": "code",
   "execution_count": 22,
   "metadata": {},
   "outputs": [
    {
     "data": {
      "text/plain": [
       "tbd    2376\n",
       "7.8     322\n",
       "8       285\n",
       "8.2     276\n",
       "8.3     252\n",
       "       ... \n",
       "0.6       2\n",
       "1.9       2\n",
       "1.1       2\n",
       "0         1\n",
       "9.7       1\n",
       "Name: user_score, Length: 96, dtype: int64"
      ]
     },
     "execution_count": 22,
     "metadata": {},
     "output_type": "execute_result"
    }
   ],
   "source": [
    "df['user_score'].value_counts()"
   ]
  },
  {
   "cell_type": "markdown",
   "metadata": {},
   "source": [
    "TBD - To Be Determined, то есть \"будет определено в дальнейшем\", можно сказать, что это то же самое, что и пропуск. Посмотрим, что это за игры."
   ]
  },
  {
   "cell_type": "code",
   "execution_count": 23,
   "metadata": {},
   "outputs": [
    {
     "data": {
      "text/html": [
       "<div>\n",
       "<style scoped>\n",
       "    .dataframe tbody tr th:only-of-type {\n",
       "        vertical-align: middle;\n",
       "    }\n",
       "\n",
       "    .dataframe tbody tr th {\n",
       "        vertical-align: top;\n",
       "    }\n",
       "\n",
       "    .dataframe thead th {\n",
       "        text-align: right;\n",
       "    }\n",
       "</style>\n",
       "<table border=\"1\" class=\"dataframe\">\n",
       "  <thead>\n",
       "    <tr style=\"text-align: right;\">\n",
       "      <th></th>\n",
       "      <th>name</th>\n",
       "      <th>platform</th>\n",
       "      <th>year_of_release</th>\n",
       "      <th>genre</th>\n",
       "      <th>na_sales</th>\n",
       "      <th>eu_sales</th>\n",
       "      <th>jp_sales</th>\n",
       "      <th>other_sales</th>\n",
       "      <th>critic_score</th>\n",
       "      <th>user_score</th>\n",
       "      <th>rating</th>\n",
       "    </tr>\n",
       "  </thead>\n",
       "  <tbody>\n",
       "    <tr>\n",
       "      <th>119</th>\n",
       "      <td>Zumba Fitness</td>\n",
       "      <td>Wii</td>\n",
       "      <td>2010</td>\n",
       "      <td>Sports</td>\n",
       "      <td>3.45</td>\n",
       "      <td>2.59</td>\n",
       "      <td>0.0</td>\n",
       "      <td>0.66</td>\n",
       "      <td>-1</td>\n",
       "      <td>tbd</td>\n",
       "      <td>E</td>\n",
       "    </tr>\n",
       "    <tr>\n",
       "      <th>301</th>\n",
       "      <td>Namco Museum: 50th Anniversary</td>\n",
       "      <td>PS2</td>\n",
       "      <td>2005</td>\n",
       "      <td>Misc</td>\n",
       "      <td>2.08</td>\n",
       "      <td>1.35</td>\n",
       "      <td>0.0</td>\n",
       "      <td>0.54</td>\n",
       "      <td>61</td>\n",
       "      <td>tbd</td>\n",
       "      <td>E10+</td>\n",
       "    </tr>\n",
       "    <tr>\n",
       "      <th>520</th>\n",
       "      <td>Zumba Fitness 2</td>\n",
       "      <td>Wii</td>\n",
       "      <td>2011</td>\n",
       "      <td>Sports</td>\n",
       "      <td>1.51</td>\n",
       "      <td>1.03</td>\n",
       "      <td>0.0</td>\n",
       "      <td>0.27</td>\n",
       "      <td>-1</td>\n",
       "      <td>tbd</td>\n",
       "      <td>T</td>\n",
       "    </tr>\n",
       "    <tr>\n",
       "      <th>645</th>\n",
       "      <td>uDraw Studio</td>\n",
       "      <td>Wii</td>\n",
       "      <td>2010</td>\n",
       "      <td>Misc</td>\n",
       "      <td>1.65</td>\n",
       "      <td>0.57</td>\n",
       "      <td>0.0</td>\n",
       "      <td>0.20</td>\n",
       "      <td>71</td>\n",
       "      <td>tbd</td>\n",
       "      <td>E</td>\n",
       "    </tr>\n",
       "    <tr>\n",
       "      <th>718</th>\n",
       "      <td>Just Dance Kids</td>\n",
       "      <td>Wii</td>\n",
       "      <td>2010</td>\n",
       "      <td>Misc</td>\n",
       "      <td>1.52</td>\n",
       "      <td>0.54</td>\n",
       "      <td>0.0</td>\n",
       "      <td>0.18</td>\n",
       "      <td>-1</td>\n",
       "      <td>tbd</td>\n",
       "      <td>E</td>\n",
       "    </tr>\n",
       "  </tbody>\n",
       "</table>\n",
       "</div>"
      ],
      "text/plain": [
       "                               name platform  year_of_release   genre  \\\n",
       "119                   Zumba Fitness      Wii             2010  Sports   \n",
       "301  Namco Museum: 50th Anniversary      PS2             2005    Misc   \n",
       "520                 Zumba Fitness 2      Wii             2011  Sports   \n",
       "645                    uDraw Studio      Wii             2010    Misc   \n",
       "718                 Just Dance Kids      Wii             2010    Misc   \n",
       "\n",
       "     na_sales  eu_sales  jp_sales  other_sales  critic_score user_score rating  \n",
       "119      3.45      2.59       0.0         0.66            -1        tbd      E  \n",
       "301      2.08      1.35       0.0         0.54            61        tbd   E10+  \n",
       "520      1.51      1.03       0.0         0.27            -1        tbd      T  \n",
       "645      1.65      0.57       0.0         0.20            71        tbd      E  \n",
       "718      1.52      0.54       0.0         0.18            -1        tbd      E  "
      ]
     },
     "execution_count": 23,
     "metadata": {},
     "output_type": "execute_result"
    }
   ],
   "source": [
    "df[df['user_score'] == 'tbd'].head()"
   ]
  },
  {
   "cell_type": "code",
   "execution_count": 24,
   "metadata": {},
   "outputs": [
    {
     "data": {
      "text/plain": [
       "0.14449039163220628"
      ]
     },
     "execution_count": 24,
     "metadata": {},
     "output_type": "execute_result"
    }
   ],
   "source": [
    "# посмотрим, какой процент составляют строки со значением tbd\n",
    "len(df[df['user_score']=='tbd'])/len(df)"
   ]
  },
  {
   "cell_type": "markdown",
   "metadata": {},
   "source": [
    "14% - это довольно много, удалять не будем. Лучше заменить значение tbd тем значением, которым мы заполняем пропуски, то есть -1."
   ]
  },
  {
   "cell_type": "code",
   "execution_count": 25,
   "metadata": {},
   "outputs": [
    {
     "data": {
      "text/html": [
       "<div>\n",
       "<style scoped>\n",
       "    .dataframe tbody tr th:only-of-type {\n",
       "        vertical-align: middle;\n",
       "    }\n",
       "\n",
       "    .dataframe tbody tr th {\n",
       "        vertical-align: top;\n",
       "    }\n",
       "\n",
       "    .dataframe thead th {\n",
       "        text-align: right;\n",
       "    }\n",
       "</style>\n",
       "<table border=\"1\" class=\"dataframe\">\n",
       "  <thead>\n",
       "    <tr style=\"text-align: right;\">\n",
       "      <th></th>\n",
       "      <th>name</th>\n",
       "      <th>platform</th>\n",
       "      <th>year_of_release</th>\n",
       "      <th>genre</th>\n",
       "      <th>na_sales</th>\n",
       "      <th>eu_sales</th>\n",
       "      <th>jp_sales</th>\n",
       "      <th>other_sales</th>\n",
       "      <th>critic_score</th>\n",
       "      <th>user_score</th>\n",
       "      <th>rating</th>\n",
       "    </tr>\n",
       "  </thead>\n",
       "  <tbody>\n",
       "    <tr>\n",
       "      <th>1</th>\n",
       "      <td>Super Mario Bros.</td>\n",
       "      <td>NES</td>\n",
       "      <td>1985</td>\n",
       "      <td>Platform</td>\n",
       "      <td>29.08</td>\n",
       "      <td>3.58</td>\n",
       "      <td>6.81</td>\n",
       "      <td>0.77</td>\n",
       "      <td>-1</td>\n",
       "      <td>NaN</td>\n",
       "      <td>unknown</td>\n",
       "    </tr>\n",
       "    <tr>\n",
       "      <th>4</th>\n",
       "      <td>Pokemon Red/Pokemon Blue</td>\n",
       "      <td>GB</td>\n",
       "      <td>1996</td>\n",
       "      <td>Role-Playing</td>\n",
       "      <td>11.27</td>\n",
       "      <td>8.89</td>\n",
       "      <td>10.22</td>\n",
       "      <td>1.00</td>\n",
       "      <td>-1</td>\n",
       "      <td>NaN</td>\n",
       "      <td>unknown</td>\n",
       "    </tr>\n",
       "    <tr>\n",
       "      <th>5</th>\n",
       "      <td>Tetris</td>\n",
       "      <td>GB</td>\n",
       "      <td>1989</td>\n",
       "      <td>Puzzle</td>\n",
       "      <td>23.20</td>\n",
       "      <td>2.26</td>\n",
       "      <td>4.22</td>\n",
       "      <td>0.58</td>\n",
       "      <td>-1</td>\n",
       "      <td>NaN</td>\n",
       "      <td>unknown</td>\n",
       "    </tr>\n",
       "    <tr>\n",
       "      <th>9</th>\n",
       "      <td>Duck Hunt</td>\n",
       "      <td>NES</td>\n",
       "      <td>1984</td>\n",
       "      <td>Shooter</td>\n",
       "      <td>26.93</td>\n",
       "      <td>0.63</td>\n",
       "      <td>0.28</td>\n",
       "      <td>0.47</td>\n",
       "      <td>-1</td>\n",
       "      <td>NaN</td>\n",
       "      <td>unknown</td>\n",
       "    </tr>\n",
       "    <tr>\n",
       "      <th>10</th>\n",
       "      <td>Nintendogs</td>\n",
       "      <td>DS</td>\n",
       "      <td>2005</td>\n",
       "      <td>Simulation</td>\n",
       "      <td>9.05</td>\n",
       "      <td>10.95</td>\n",
       "      <td>1.93</td>\n",
       "      <td>2.74</td>\n",
       "      <td>-1</td>\n",
       "      <td>NaN</td>\n",
       "      <td>unknown</td>\n",
       "    </tr>\n",
       "  </tbody>\n",
       "</table>\n",
       "</div>"
      ],
      "text/plain": [
       "                        name platform  year_of_release         genre  \\\n",
       "1          Super Mario Bros.      NES             1985      Platform   \n",
       "4   Pokemon Red/Pokemon Blue       GB             1996  Role-Playing   \n",
       "5                     Tetris       GB             1989        Puzzle   \n",
       "9                  Duck Hunt      NES             1984       Shooter   \n",
       "10                Nintendogs       DS             2005    Simulation   \n",
       "\n",
       "    na_sales  eu_sales  jp_sales  other_sales  critic_score user_score  \\\n",
       "1      29.08      3.58      6.81         0.77            -1        NaN   \n",
       "4      11.27      8.89     10.22         1.00            -1        NaN   \n",
       "5      23.20      2.26      4.22         0.58            -1        NaN   \n",
       "9      26.93      0.63      0.28         0.47            -1        NaN   \n",
       "10      9.05     10.95      1.93         2.74            -1        NaN   \n",
       "\n",
       "     rating  \n",
       "1   unknown  \n",
       "4   unknown  \n",
       "5   unknown  \n",
       "9   unknown  \n",
       "10  unknown  "
      ]
     },
     "execution_count": 25,
     "metadata": {},
     "output_type": "execute_result"
    }
   ],
   "source": [
    "# посмотрим на пропуски в оценках игроков\n",
    "df[df['user_score'].isna()].head()"
   ]
  },
  {
   "cell_type": "code",
   "execution_count": 26,
   "metadata": {},
   "outputs": [
    {
     "data": {
      "text/plain": [
       "array([ 8. , -1. ,  8.3,  8.5,  6.6,  8.4,  8.6,  7.7,  6.3,  7.4,  8.2,\n",
       "        9. ,  7.9,  8.1,  8.7,  7.1,  3.4,  5.3,  4.8,  3.2,  8.9,  6.4,\n",
       "        7.8,  7.5,  2.6,  7.2,  9.2,  7. ,  7.3,  4.3,  7.6,  5.7,  5. ,\n",
       "        9.1,  6.5,  8.8,  6.9,  9.4,  6.8,  6.1,  6.7,  5.4,  4. ,  4.9,\n",
       "        4.5,  9.3,  6.2,  4.2,  6. ,  3.7,  4.1,  5.8,  5.6,  5.5,  4.4,\n",
       "        4.6,  5.9,  3.9,  3.1,  2.9,  5.2,  3.3,  4.7,  5.1,  3.5,  2.5,\n",
       "        1.9,  3. ,  2.7,  2.2,  2. ,  9.5,  2.1,  3.6,  2.8,  1.8,  3.8,\n",
       "        0. ,  1.6,  9.6,  2.4,  1.7,  1.1,  0.3,  1.5,  0.7,  1.2,  2.3,\n",
       "        0.5,  1.3,  0.2,  0.6,  1.4,  0.9,  1. ,  9.7])"
      ]
     },
     "execution_count": 26,
     "metadata": {},
     "output_type": "execute_result"
    }
   ],
   "source": [
    "# заменим tbd на пропуск, затем заполним пропуск значением -1 и приведем к типу float\n",
    "df['user_score'] = df['user_score'].replace('tbd', np.NaN).fillna(-1).astype('float')\n",
    "# просмотрим, какие теперь значения есть в столбце оценок игроков\n",
    "df['user_score'].unique()"
   ]
  },
  {
   "cell_type": "markdown",
   "metadata": {},
   "source": [
    "Пропуски устранены, все значения вполне логичны."
   ]
  },
  {
   "cell_type": "code",
   "execution_count": 27,
   "metadata": {},
   "outputs": [],
   "source": [
    "# посчитайте суммарные продажи во всех регионах и запишем их в отдельный столбец\n",
    "df['total_sales'] = df[['na_sales', 'eu_sales', 'jp_sales', 'other_sales']].sum(axis=1)"
   ]
  },
  {
   "cell_type": "code",
   "execution_count": 28,
   "metadata": {},
   "outputs": [
    {
     "name": "stdout",
     "output_type": "stream",
     "text": [
      "<class 'pandas.core.frame.DataFrame'>\n",
      "Int64Index: 16444 entries, 0 to 16714\n",
      "Data columns (total 12 columns):\n",
      " #   Column           Non-Null Count  Dtype  \n",
      "---  ------           --------------  -----  \n",
      " 0   name             16444 non-null  object \n",
      " 1   platform         16444 non-null  object \n",
      " 2   year_of_release  16444 non-null  int64  \n",
      " 3   genre            16444 non-null  object \n",
      " 4   na_sales         16444 non-null  float64\n",
      " 5   eu_sales         16444 non-null  float64\n",
      " 6   jp_sales         16444 non-null  float64\n",
      " 7   other_sales      16444 non-null  float64\n",
      " 8   critic_score     16444 non-null  int64  \n",
      " 9   user_score       16444 non-null  float64\n",
      " 10  rating           16444 non-null  object \n",
      " 11  total_sales      16444 non-null  float64\n",
      "dtypes: float64(6), int64(2), object(4)\n",
      "memory usage: 1.6+ MB\n"
     ]
    }
   ],
   "source": [
    "# просмотрим информацию о обновленном датафрейме\n",
    "df.info()"
   ]
  },
  {
   "cell_type": "markdown",
   "metadata": {},
   "source": [
    "### Исследовательский анализ данных\n",
    "\n",
    "Посмотрим, сколько игр выпускалось в разные годы."
   ]
  },
  {
   "cell_type": "code",
   "execution_count": 29,
   "metadata": {},
   "outputs": [
    {
     "data": {
      "image/png": "[encoded data removed]",
      "text/plain": [
       "<Figure size 1152x576 with 1 Axes>"
      ]
     },
     "metadata": {
      "needs_background": "light"
     },
     "output_type": "display_data"
    }
   ],
   "source": [
    "# построим сводные таблицы - с количеством выпущенных игр и с количеством продаж\n",
    "released_years = df.pivot_table(index = 'year_of_release', values = 'total_sales', aggfunc = 'count')\n",
    "sales_years = df.pivot_table(index = 'year_of_release', values = 'total_sales', aggfunc = 'sum')\n",
    "# чтобы оценить динамику, построим график, который покажет, сколько игр было выпущено в разные годы\n",
    "plt.figure(figsize = (16, 8))\n",
    "plt.plot(sales_years, label = 'Продано игр, млн')\n",
    "plt.plot(released_years, label = 'Выпущено игр')\n",
    "plt.xlabel('Год')\n",
    "plt.ylabel('Количество игр')\n",
    "plt.legend()\n",
    "plt.show()"
   ]
  },
  {
   "cell_type": "markdown",
   "metadata": {},
   "source": [
    "**Вывод**: на графике видно, что до 1995 года выходило крайне малое количество игр, что вполен логично - рынок только начинал развиваться. После этого происходит эдакий \"бум\", количество выпущенных и проданных игр растет с бешеной скоростью. Этот рост продолжается вплоть до примерно 2010 года, после которого количество релизов падает примерно в три раза, а количество продаж - во все четыре.\n",
    "Причин этого несколько: примерно в 2010 произошел другой \"бум\", а именно невероятный рост популярности различных социальных сетей, что стало новым виртулальным развлечением и потеснило видеоигры. Кроме того, бюджет видеоигр, а, соответсвенно, и их стоимость на рынке, постоянно растет, и многие компании предпочитают выпустить один крупный дорогой проект вместо нескольких дешевых. Не стоит забывать об условно-бесплатных играх, которые один раз выходят и в дальнейшем постоянно обновляются, на что требуются постоянные усилия разработчиков, которые сосредоточены на поддержке старой игры вместо разработки новой - такой способ монетизации и распространения игр также стал популярен примерно в 2010 году."
   ]
  },
  {
   "cell_type": "code",
   "execution_count": 30,
   "metadata": {},
   "outputs": [
    {
     "data": {
      "image/png": "[encoded data removed]",
      "text/plain": [
       "<Figure size 1152x576 with 1 Axes>"
      ]
     },
     "metadata": {
      "needs_background": "light"
     },
     "output_type": "display_data"
    }
   ],
   "source": [
    "# посмотрим на продажи по платформам\n",
    "platform_sales = df.pivot_table(index = 'platform', values = 'total_sales', aggfunc = 'sum').sort_values('total_sales', ascending = 0)\n",
    "plt.figure(figsize = (16, 8))\n",
    "sns.barplot(data = platform_sales, x = platform_sales.index, y = 'total_sales').set(xlabel = 'Платформы', ylabel = 'Продажи')\n",
    "plt.show()"
   ]
  },
  {
   "cell_type": "markdown",
   "metadata": {},
   "source": [
    "Посмотрим на распределение по годам самых популярных платформ."
   ]
  },
  {
   "cell_type": "code",
   "execution_count": 32,
   "metadata": {},
   "outputs": [
    {
     "name": "stdout",
     "output_type": "stream",
     "text": [
      "PS2\n"
     ]
    },
    {
     "data": {
      "image/png": "[encoded data removed]",
      "text/plain": [
       "<Figure size 432x288 with 1 Axes>"
      ]
     },
     "metadata": {
      "needs_background": "light"
     },
     "output_type": "display_data"
    },
    {
     "name": "stdout",
     "output_type": "stream",
     "text": [
      "X360\n"
     ]
    },
    {
     "data": {
      "image/png": "[encoded data removed]",
      "text/plain": [
       "<Figure size 432x288 with 1 Axes>"
      ]
     },
     "metadata": {
      "needs_background": "light"
     },
     "output_type": "display_data"
    },
    {
     "name": "stdout",
     "output_type": "stream",
     "text": [
      "PS3\n"
     ]
    },
    {
     "data": {
      "image/png": "[encoded data removed]",
      "text/plain": [
       "<Figure size 432x288 with 1 Axes>"
      ]
     },
     "metadata": {
      "needs_background": "light"
     },
     "output_type": "display_data"
    },
    {
     "name": "stdout",
     "output_type": "stream",
     "text": [
      "Wii\n"
     ]
    },
    {
     "data": {
      "image/png": "[encoded data removed]",
      "text/plain": [
       "<Figure size 432x288 with 1 Axes>"
      ]
     },
     "metadata": {
      "needs_background": "light"
     },
     "output_type": "display_data"
    },
    {
     "name": "stdout",
     "output_type": "stream",
     "text": [
      "DS\n"
     ]
    },
    {
     "data": {
      "image/png": "[encoded data removed]",
      "text/plain": [
       "<Figure size 432x288 with 1 Axes>"
      ]
     },
     "metadata": {
      "needs_background": "light"
     },
     "output_type": "display_data"
    },
    {
     "name": "stdout",
     "output_type": "stream",
     "text": [
      "PS\n"
     ]
    },
    {
     "data": {
      "image/png": "[encoded data removed]",
      "text/plain": [
       "<Figure size 432x288 with 1 Axes>"
      ]
     },
     "metadata": {
      "needs_background": "light"
     },
     "output_type": "display_data"
    },
    {
     "name": "stdout",
     "output_type": "stream",
     "text": [
      "PS4\n"
     ]
    },
    {
     "data": {
      "image/png": "[encoded data removed]",
      "text/plain": [
       "<Figure size 432x288 with 1 Axes>"
      ]
     },
     "metadata": {
      "needs_background": "light"
     },
     "output_type": "display_data"
    }
   ],
   "source": [
    "for platform in platform_sales.index[:7]:\n",
    "    print(platform)\n",
    "    df.query('platform == @platform').pivot_table(index = 'year_of_release', values = 'total_sales', aggfunc = 'sum').plot(kind = 'bar')\n",
    "    plt.show()"
   ]
  },
  {
   "cell_type": "markdown",
   "metadata": {},
   "source": [
    "Странный выброс у платформы DS - она вышла в 2004 году, однако в датасете есть данные об играх на эту платформу в 1985 году. Посмотрим, что это за чудо такое."
   ]
  },
  {
   "cell_type": "code",
   "execution_count": 31,
   "metadata": {},
   "outputs": [
    {
     "data": {
      "text/html": [
       "<div>\n",
       "<style scoped>\n",
       "    .dataframe tbody tr th:only-of-type {\n",
       "        vertical-align: middle;\n",
       "    }\n",
       "\n",
       "    .dataframe tbody tr th {\n",
       "        vertical-align: top;\n",
       "    }\n",
       "\n",
       "    .dataframe thead th {\n",
       "        text-align: right;\n",
       "    }\n",
       "</style>\n",
       "<table border=\"1\" class=\"dataframe\">\n",
       "  <thead>\n",
       "    <tr style=\"text-align: right;\">\n",
       "      <th></th>\n",
       "      <th>name</th>\n",
       "      <th>platform</th>\n",
       "      <th>year_of_release</th>\n",
       "      <th>genre</th>\n",
       "      <th>na_sales</th>\n",
       "      <th>eu_sales</th>\n",
       "      <th>jp_sales</th>\n",
       "      <th>other_sales</th>\n",
       "      <th>critic_score</th>\n",
       "      <th>user_score</th>\n",
       "      <th>rating</th>\n",
       "      <th>total_sales</th>\n",
       "    </tr>\n",
       "  </thead>\n",
       "  <tbody>\n",
       "    <tr>\n",
       "      <th>15957</th>\n",
       "      <td>Strongest Tokyo University Shogi DS</td>\n",
       "      <td>DS</td>\n",
       "      <td>1985</td>\n",
       "      <td>Action</td>\n",
       "      <td>0.0</td>\n",
       "      <td>0.0</td>\n",
       "      <td>0.02</td>\n",
       "      <td>0.0</td>\n",
       "      <td>-1</td>\n",
       "      <td>-1.0</td>\n",
       "      <td>unknown</td>\n",
       "      <td>0.02</td>\n",
       "    </tr>\n",
       "  </tbody>\n",
       "</table>\n",
       "</div>"
      ],
      "text/plain": [
       "                                      name platform  year_of_release   genre  \\\n",
       "15957  Strongest Tokyo University Shogi DS       DS             1985  Action   \n",
       "\n",
       "       na_sales  eu_sales  jp_sales  other_sales  critic_score  user_score  \\\n",
       "15957       0.0       0.0      0.02          0.0            -1        -1.0   \n",
       "\n",
       "        rating  total_sales  \n",
       "15957  unknown         0.02  "
      ]
     },
     "execution_count": 31,
     "metadata": {},
     "output_type": "execute_result"
    }
   ],
   "source": [
    "df.query('platform == \"DS\" & year_of_release == 1985')"
   ]
  },
  {
   "cell_type": "markdown",
   "metadata": {},
   "source": [
    "Ага, такая игра только одна, найти в интернете что-то вменяемое о ней сложно. Скорей всего, она была выпущена для какой-то другой платформы в 1985, а потом перевыпущена для DS. В любом случае, в данной работе нас не сильно волнуют игры 1985 года, но удалять не будем - в дальнейшем все равно будем отсеивать неактуальные устаревшие игры."
   ]
  },
  {
   "cell_type": "markdown",
   "metadata": {},
   "source": [
    "Каждая из платформ \"прожила\" примерно по 10 лет:\n",
    "- PS2 - с 2000 по 2010 (10 лет)\n",
    "- X360 - с 2006 по 2015 (9 лет)\n",
    "- PS3 - c 2006 по 2016 (10 лет)\n",
    "- Wii - 2006 по 2015 (9 лет)\n",
    "- DS - с 2004 по 2013 (9 лет)\n",
    "- PS - с 1994 по 2003 (9 лет)\n",
    "- PS4 - с 2013 и до наших дней\n",
    "\n",
    "Так нас нас интересует прогноз на 2017 год, то оставим только актуальные данные, за последние 3 года."
   ]
  },
  {
   "cell_type": "code",
   "execution_count": 32,
   "metadata": {},
   "outputs": [],
   "source": [
    "games_new = df.query('year_of_release >= 2014')"
   ]
  },
  {
   "cell_type": "markdown",
   "metadata": {},
   "source": [
    "Посмотрим, какие платформы наиболее актуальны в последние годы."
   ]
  },
  {
   "cell_type": "code",
   "execution_count": 33,
   "metadata": {},
   "outputs": [
    {
     "data": {
      "image/png": "[encoded data removed]",
      "text/plain": [
       "<Figure size 1152x576 with 1 Axes>"
      ]
     },
     "metadata": {
      "needs_background": "light"
     },
     "output_type": "display_data"
    }
   ],
   "source": [
    "platform_sales_new = games_new.pivot_table(index = 'platform', values = \"total_sales\", aggfunc = 'sum').sort_values('total_sales', ascending = 0)\n",
    "plt.figure(figsize = (16, 8))\n",
    "sns.barplot(data = platform_sales_new, x = platform_sales_new.index, y = 'total_sales').set(xlabel = 'Платформы', ylabel = 'Продажи')\n",
    "plt.show()"
   ]
  },
  {
   "cell_type": "markdown",
   "metadata": {},
   "source": [
    "Ожидаемо, что самые популярные платформы - это самые \"свежие\" PS4 и Xbox One. Вслед за ними идут уже относительно старенькие 3DS, PS3 и Xbox 360."
   ]
  },
  {
   "cell_type": "code",
   "execution_count": 34,
   "metadata": {},
   "outputs": [
    {
     "name": "stdout",
     "output_type": "stream",
     "text": [
      "PS4\n"
     ]
    },
    {
     "data": {
      "image/png": "[encoded data removed]",
      "text/plain": [
       "<Figure size 432x288 with 1 Axes>"
      ]
     },
     "metadata": {
      "needs_background": "light"
     },
     "output_type": "display_data"
    },
    {
     "name": "stdout",
     "output_type": "stream",
     "text": [
      "XOne\n"
     ]
    },
    {
     "data": {
      "image/png": "[encoded data removed]",
      "text/plain": [
       "<Figure size 432x288 with 1 Axes>"
      ]
     },
     "metadata": {
      "needs_background": "light"
     },
     "output_type": "display_data"
    },
    {
     "name": "stdout",
     "output_type": "stream",
     "text": [
      "3DS\n"
     ]
    },
    {
     "data": {
      "image/png": "[encoded data removed]",
      "text/plain": [
       "<Figure size 432x288 with 1 Axes>"
      ]
     },
     "metadata": {
      "needs_background": "light"
     },
     "output_type": "display_data"
    },
    {
     "name": "stdout",
     "output_type": "stream",
     "text": [
      "PS3\n"
     ]
    },
    {
     "data": {
      "image/png": "[encoded data removed]",
      "text/plain": [
       "<Figure size 432x288 with 1 Axes>"
      ]
     },
     "metadata": {
      "needs_background": "light"
     },
     "output_type": "display_data"
    },
    {
     "name": "stdout",
     "output_type": "stream",
     "text": [
      "X360\n"
     ]
    },
    {
     "data": {
      "image/png": "[encoded data removed]",
      "text/plain": [
       "<Figure size 432x288 with 1 Axes>"
      ]
     },
     "metadata": {
      "needs_background": "light"
     },
     "output_type": "display_data"
    },
    {
     "name": "stdout",
     "output_type": "stream",
     "text": [
      "WiiU\n"
     ]
    },
    {
     "data": {
      "image/png": "[encoded data removed]",
      "text/plain": [
       "<Figure size 432x288 with 1 Axes>"
      ]
     },
     "metadata": {
      "needs_background": "light"
     },
     "output_type": "display_data"
    },
    {
     "name": "stdout",
     "output_type": "stream",
     "text": [
      "PC\n"
     ]
    },
    {
     "data": {
      "image/png": "[encoded data removed]",
      "text/plain": [
       "<Figure size 432x288 with 1 Axes>"
      ]
     },
     "metadata": {
      "needs_background": "light"
     },
     "output_type": "display_data"
    },
    {
     "name": "stdout",
     "output_type": "stream",
     "text": [
      "PSV\n"
     ]
    },
    {
     "data": {
      "image/png": "[encoded data removed]",
      "text/plain": [
       "<Figure size 432x288 with 1 Axes>"
      ]
     },
     "metadata": {
      "needs_background": "light"
     },
     "output_type": "display_data"
    }
   ],
   "source": [
    "for platform in platform_sales_new.index[:8]:\n",
    "    print(platform)\n",
    "    df.query('platform == @platform').pivot_table(index = 'year_of_release', values = 'total_sales', aggfunc = 'sum').plot(kind = 'bar')\n",
    "    plt.show()"
   ]
  },
  {
   "cell_type": "markdown",
   "metadata": {},
   "source": [
    "Продажи на Wii и PSP настолько мизерны, что не имеет смысла заниматься анализом игр на этих платформах."
   ]
  },
  {
   "cell_type": "code",
   "execution_count": 35,
   "metadata": {},
   "outputs": [],
   "source": [
    "# исключим неинтересующие нас платформы\n",
    "games_new = games_new.query('platform not in [\"Wii\", \"PSP\"]')"
   ]
  },
  {
   "cell_type": "markdown",
   "metadata": {},
   "source": [
    "Построим график «ящик с усами» по глобальным продажам игр в разбивке по платформам."
   ]
  },
  {
   "cell_type": "code",
   "execution_count": 37,
   "metadata": {},
   "outputs": [
    {
     "data": {
      "image/png": "[encoded data removed]",
      "text/plain": [
       "<Figure size 1152x576 with 1 Axes>"
      ]
     },
     "metadata": {
      "needs_background": "light"
     },
     "output_type": "display_data"
    }
   ],
   "source": [
    "plt.figure(figsize = (16, 8))\n",
    "sns.boxplot(data = games_new, y = 'total_sales', x='platform').set(xlabel = 'Платформы', ylabel = 'Продажи')\n",
    "plt.show()"
   ]
  },
  {
   "cell_type": "markdown",
   "metadata": {},
   "source": [
    "По такому графику тяжело что-то сказать, \"приблизим\" его, убрав выбросы в виде игр, общие продажи которых больше миллиона."
   ]
  },
  {
   "cell_type": "code",
   "execution_count": 38,
   "metadata": {},
   "outputs": [
    {
     "data": {
      "image/png": "[encoded data removed]",
      "text/plain": [
       "<Figure size 1152x576 with 1 Axes>"
      ]
     },
     "metadata": {
      "needs_background": "light"
     },
     "output_type": "display_data"
    }
   ],
   "source": [
    "plt.figure(figsize = (16, 8))\n",
    "sns.boxplot(data = games_new.query('total_sales < 1'), y = 'total_sales', x='platform').set(xlabel = 'Платформы', ylabel = 'Продажи')\n",
    "plt.show()"
   ]
  },
  {
   "cell_type": "markdown",
   "metadata": {},
   "source": [
    "Наибольшие медианные продажи - у компании Microsoft с их Xbox 360 и Xbox One. Вслед за ними идут их конкуренты от Sony - PS3 и PS4, а также платформа WiiU. Кроме того, видно, что абсолютно у всех платформ есть выбросы - это игры, которые \"выстрелили\" и продались миллионами.\n",
    "\n",
    "Посмотрим, есть ли зависимость успешности игры от оценок критиков и игроков."
   ]
  },
  {
   "cell_type": "code",
   "execution_count": 39,
   "metadata": {},
   "outputs": [
    {
     "name": "stdout",
     "output_type": "stream",
     "text": [
      "PS4\n"
     ]
    },
    {
     "data": {
      "image/png": "[encoded data removed]",
      "text/plain": [
       "<Figure size 432x288 with 1 Axes>"
      ]
     },
     "metadata": {
      "needs_background": "light"
     },
     "output_type": "display_data"
    },
    {
     "data": {
      "image/png": "[encoded data removed]",
      "text/plain": [
       "<Figure size 432x288 with 1 Axes>"
      ]
     },
     "metadata": {
      "needs_background": "light"
     },
     "output_type": "display_data"
    },
    {
     "name": "stdout",
     "output_type": "stream",
     "text": [
      "total_sales     1.000000\n",
      "critic_score    0.405895\n",
      "user_score     -0.033625\n",
      "Name: total_sales, dtype: float64\n",
      "------------------------------\n",
      "XOne\n"
     ]
    },
    {
     "data": {
      "image/png": "[encoded data removed]",
      "text/plain": [
       "<Figure size 432x288 with 1 Axes>"
      ]
     },
     "metadata": {
      "needs_background": "light"
     },
     "output_type": "display_data"
    },
    {
     "data": {
      "image/png": "[encoded data removed]",
      "text/plain": [
       "<Figure size 432x288 with 1 Axes>"
      ]
     },
     "metadata": {
      "needs_background": "light"
     },
     "output_type": "display_data"
    },
    {
     "name": "stdout",
     "output_type": "stream",
     "text": [
      "total_sales     1.000000\n",
      "critic_score    0.410422\n",
      "user_score     -0.094003\n",
      "Name: total_sales, dtype: float64\n",
      "------------------------------\n",
      "3DS\n"
     ]
    },
    {
     "data": {
      "image/png": "[encoded data removed]",
      "text/plain": [
       "<Figure size 432x288 with 1 Axes>"
      ]
     },
     "metadata": {
      "needs_background": "light"
     },
     "output_type": "display_data"
    },
    {
     "data": {
      "image/png": "[encoded data removed]",
      "text/plain": [
       "<Figure size 432x288 with 1 Axes>"
      ]
     },
     "metadata": {
      "needs_background": "light"
     },
     "output_type": "display_data"
    },
    {
     "name": "stdout",
     "output_type": "stream",
     "text": [
      "total_sales     1.000000\n",
      "critic_score    0.338904\n",
      "user_score      0.232089\n",
      "Name: total_sales, dtype: float64\n",
      "------------------------------\n",
      "PS3\n"
     ]
    },
    {
     "data": {
      "image/png": "[encoded data removed]",
      "text/plain": [
       "<Figure size 432x288 with 1 Axes>"
      ]
     },
     "metadata": {
      "needs_background": "light"
     },
     "output_type": "display_data"
    },
    {
     "data": {
      "image/png": "[encoded data removed]",
      "text/plain": [
       "<Figure size 432x288 with 1 Axes>"
      ]
     },
     "metadata": {
      "needs_background": "light"
     },
     "output_type": "display_data"
    },
    {
     "name": "stdout",
     "output_type": "stream",
     "text": [
      "total_sales     1.000000\n",
      "critic_score    0.428213\n",
      "user_score      0.143978\n",
      "Name: total_sales, dtype: float64\n",
      "------------------------------\n",
      "X360\n"
     ]
    },
    {
     "data": {
      "image/png": "[encoded data removed]",
      "text/plain": [
       "<Figure size 432x288 with 1 Axes>"
      ]
     },
     "metadata": {
      "needs_background": "light"
     },
     "output_type": "display_data"
    },
    {
     "data": {
      "image/png": "[encoded data removed]",
      "text/plain": [
       "<Figure size 432x288 with 1 Axes>"
      ]
     },
     "metadata": {
      "needs_background": "light"
     },
     "output_type": "display_data"
    },
    {
     "name": "stdout",
     "output_type": "stream",
     "text": [
      "total_sales     1.000000\n",
      "critic_score    0.388992\n",
      "user_score      0.110280\n",
      "Name: total_sales, dtype: float64\n",
      "------------------------------\n",
      "WiiU\n"
     ]
    },
    {
     "data": {
      "image/png": "[encoded data removed]",
      "text/plain": [
       "<Figure size 432x288 with 1 Axes>"
      ]
     },
     "metadata": {
      "needs_background": "light"
     },
     "output_type": "display_data"
    },
    {
     "data": {
      "image/png": "[encoded data removed]",
      "text/plain": [
       "<Figure size 432x288 with 1 Axes>"
      ]
     },
     "metadata": {
      "needs_background": "light"
     },
     "output_type": "display_data"
    },
    {
     "name": "stdout",
     "output_type": "stream",
     "text": [
      "total_sales     1.000000\n",
      "critic_score    0.350882\n",
      "user_score      0.391848\n",
      "Name: total_sales, dtype: float64\n",
      "------------------------------\n",
      "PC\n"
     ]
    },
    {
     "data": {
      "image/png": "[encoded data removed]",
      "text/plain": [
       "<Figure size 432x288 with 1 Axes>"
      ]
     },
     "metadata": {
      "needs_background": "light"
     },
     "output_type": "display_data"
    },
    {
     "data": {
      "image/png": "[encoded data removed]",
      "text/plain": [
       "<Figure size 432x288 with 1 Axes>"
      ]
     },
     "metadata": {
      "needs_background": "light"
     },
     "output_type": "display_data"
    },
    {
     "name": "stdout",
     "output_type": "stream",
     "text": [
      "total_sales     1.000000\n",
      "critic_score    0.257261\n",
      "user_score      0.003596\n",
      "Name: total_sales, dtype: float64\n",
      "------------------------------\n",
      "PSV\n"
     ]
    },
    {
     "data": {
      "image/png": "[encoded data removed]",
      "text/plain": [
       "<Figure size 432x288 with 1 Axes>"
      ]
     },
     "metadata": {
      "needs_background": "light"
     },
     "output_type": "display_data"
    },
    {
     "data": {
      "image/png": "[encoded data removed]",
      "text/plain": [
       "<Figure size 432x288 with 1 Axes>"
      ]
     },
     "metadata": {
      "needs_background": "light"
     },
     "output_type": "display_data"
    },
    {
     "name": "stdout",
     "output_type": "stream",
     "text": [
      "total_sales     1.000000\n",
      "critic_score    0.131619\n",
      "user_score      0.038380\n",
      "Name: total_sales, dtype: float64\n",
      "------------------------------\n",
      "Wii\n"
     ]
    },
    {
     "data": {
      "image/png": "[encoded data removed]",
      "text/plain": [
       "<Figure size 432x288 with 1 Axes>"
      ]
     },
     "metadata": {
      "needs_background": "light"
     },
     "output_type": "display_data"
    },
    {
     "data": {
      "image/png": "[encoded data removed]",
      "text/plain": [
       "<Figure size 432x288 with 1 Axes>"
      ]
     },
     "metadata": {
      "needs_background": "light"
     },
     "output_type": "display_data"
    },
    {
     "name": "stdout",
     "output_type": "stream",
     "text": [
      "total_sales     1.000000\n",
      "critic_score    0.170855\n",
      "user_score      0.110637\n",
      "Name: total_sales, dtype: float64\n",
      "------------------------------\n",
      "PSP\n"
     ]
    },
    {
     "data": {
      "image/png": "[encoded data removed]",
      "text/plain": [
       "<Figure size 432x288 with 1 Axes>"
      ]
     },
     "metadata": {
      "needs_background": "light"
     },
     "output_type": "display_data"
    },
    {
     "data": {
      "image/png": "[encoded data removed]",
      "text/plain": [
       "<Figure size 432x288 with 1 Axes>"
      ]
     },
     "metadata": {
      "needs_background": "light"
     },
     "output_type": "display_data"
    },
    {
     "name": "stdout",
     "output_type": "stream",
     "text": [
      "total_sales     1.000000\n",
      "critic_score    0.299717\n",
      "user_score      0.232711\n",
      "Name: total_sales, dtype: float64\n",
      "------------------------------\n"
     ]
    }
   ],
   "source": [
    "for platform in platform_sales_new.index:\n",
    "    print(platform)\n",
    "    game = df.query('platform == @platform & user_score != -1 & critic_score != -1')[['total_sales', 'critic_score', 'user_score']].reset_index(drop=True)\n",
    "    game.plot(kind = 'scatter', x = 'critic_score', y = 'total_sales')\n",
    "    game.plot(kind = 'scatter', x = 'user_score', y = 'total_sales')\n",
    "    plt.show()\n",
    "    print(game.corr()['total_sales'])\n",
    "    print('-'*30)"
   ]
  },
  {
   "cell_type": "markdown",
   "metadata": {},
   "source": [
    "**Вывод:** небольшая корреляция между оценками критиков и продажами есть - признание критиков заставляет игроков слегка активнее покупать игру. А вот зависимости продаж от оценки игроков нет.\n",
    "\n",
    "Посмотрим на общее распределение игр по жанрам."
   ]
  },
  {
   "cell_type": "code",
   "execution_count": 40,
   "metadata": {},
   "outputs": [
    {
     "data": {
      "image/png": "[encoded data removed]",
      "text/plain": [
       "<Figure size 1152x576 with 1 Axes>"
      ]
     },
     "metadata": {
      "needs_background": "light"
     },
     "output_type": "display_data"
    }
   ],
   "source": [
    "genre = games_new.pivot_table(index = 'genre', values = 'total_sales', aggfunc = 'sum').sort_values('total_sales', ascending = 0)\n",
    "plt.figure(figsize = (16, 8))\n",
    "sns.barplot(data = genre, x = genre.index, y = 'total_sales').set(xlabel = 'Жанр', ylabel = 'Продажи')\n",
    "plt.show()"
   ]
  },
  {
   "cell_type": "code",
   "execution_count": 41,
   "metadata": {},
   "outputs": [
    {
     "data": {
      "image/png": "[encoded data removed]",
      "text/plain": [
       "<Figure size 1152x576 with 1 Axes>"
      ]
     },
     "metadata": {
      "needs_background": "light"
     },
     "output_type": "display_data"
    }
   ],
   "source": [
    "plt.figure(figsize = (16, 8))\n",
    "sns.boxplot(data = games_new, y = 'total_sales', x='genre').set(xlabel = 'Платформы', ylabel = 'Продажи')\n",
    "plt.show()"
   ]
  },
  {
   "cell_type": "markdown",
   "metadata": {},
   "source": [
    "Приблизим график, чтобы получше рассмотреть медиану и квартили."
   ]
  },
  {
   "cell_type": "code",
   "execution_count": 45,
   "metadata": {},
   "outputs": [
    {
     "data": {
      "image/png": "[encoded data removed]",
      "text/plain": [
       "<Figure size 1152x576 with 1 Axes>"
      ]
     },
     "metadata": {
      "needs_background": "light"
     },
     "output_type": "display_data"
    }
   ],
   "source": [
    "plt.figure(figsize = (16, 8))\n",
    "sns.boxplot(data = games_new, y = 'total_sales', x='genre').set(xlabel = 'Платформы', ylabel = 'Продажи')\n",
    "plt.ylim([0, 4])\n",
    "plt.show()"
   ]
  },
  {
   "cell_type": "markdown",
   "metadata": {},
   "source": [
    "Как видно из диаграмм размаха, наибольшее медианное значение, а также 75 квартиль - у шутеров. Также именно наибольший выброс по продажам - более 14 млн - именно у игры этого жанра. Интересная ситуация с экшенами - хоть медианное значение, равно как и 75 квартиль, не очень высоки, однако именно у этого жанра наибольшее количество крайне успешных игр, которые хорошо продаются.\n",
    "\n",
    "**Вывод:** наиболее популярными жанрами оказались \"динамичные\" игры - экшен, шутеры, спортивные и РПГ. А вот игры, требующие усидчивости и \"шевеления мозгами\", вроде стратегий и головоломок, у народа нынче не в почете."
   ]
  },
  {
   "cell_type": "markdown",
   "metadata": {},
   "source": [
    "### Портрет пользователя каждого региона\n",
    "\n",
    "Посмотрим на самые популярные платформы в каждом регионе - Европе, Америке и Японии."
   ]
  },
  {
   "cell_type": "code",
   "execution_count": 85,
   "metadata": {},
   "outputs": [
    {
     "data": {
      "image/png": "[encoded data removed]",
      "text/plain": [
       "<Figure size 1296x432 with 3 Axes>"
      ]
     },
     "metadata": {},
     "output_type": "display_data"
    }
   ],
   "source": [
    "popular_platforms = {}\n",
    "region = games_new.columns[4:7]\n",
    "for country in region:\n",
    "    popular_platforms[country] = games_new.groupby('platform')[country].sum().sort_values(ascending=False).head(5)\n",
    "    popular_platforms[country]['other'] = games_new.groupby('platform')['na_sales'].sum().sort_values(ascending=False).tail(-5).sum()\n",
    "\n",
    "fig, (ax1, ax2, ax3) = plt.subplots(nrows = 1, ncols = 3, figsize = (18, 6))\n",
    "fig.suptitle('Продажи по регионам')\n",
    "\n",
    "x = [ax1, ax2, ax3]\n",
    "\n",
    "\n",
    "for i in range(3):\n",
    "    ax = x[i]\n",
    "    ax.set_title(region[i])\n",
    "    ax.pie(popular_platforms[region[i]].values, labels = popular_platforms[region[i]].index, autopct = '%1.1f%%', colors = sns.color_palette('pastel')) \n",
    "\n",
    "plt.show()"
   ]
  },
  {
   "cell_type": "markdown",
   "metadata": {},
   "source": [
    "**Вывод:** самая популярная платформа во всех регионах одинакова - это PS4, однако в Америке Xbox One дышит своему конкуренту в спину.\n",
    "\n",
    "Теперь посмотрим, какие жанры предпочитают американцы, европейцы и японцы."
   ]
  },
  {
   "cell_type": "code",
   "execution_count": 86,
   "metadata": {},
   "outputs": [
    {
     "data": {
      "image/png": "[encoded data removed]",
      "text/plain": [
       "<Figure size 1296x432 with 3 Axes>"
      ]
     },
     "metadata": {},
     "output_type": "display_data"
    }
   ],
   "source": [
    "popular_genres = {}\n",
    "for country in region:\n",
    "    popular_genres[country] = games_new.groupby('genre')[country].sum().sort_values(ascending=False).head(5)\n",
    "    popular_genres[country]['other'] = games_new.groupby('genre')['na_sales'].sum().sort_values(ascending=False).tail(-5).sum()\n",
    "\n",
    "fig, (ax1, ax2, ax3) = plt.subplots(nrows = 1, ncols = 3, figsize = (18, 6))\n",
    "fig.suptitle('Продажи по жанрам')\n",
    "\n",
    "x = [ax1, ax2, ax3]\n",
    "\n",
    "for i in range(3):\n",
    "    ax = x[i]\n",
    "    ax.set_title(region[i])\n",
    "    ax.pie(popular_genres[region[i]].values, labels = popular_genres[region[i]].index, autopct = '%1.1f%%', colors = sns.color_palette('pastel')) \n",
    "\n",
    "plt.show()"
   ]
  },
  {
   "cell_type": "markdown",
   "metadata": {},
   "source": [
    "А вот тут уже есть заметные отличия:\n",
    "- В Америке самый популярный жанр - шутер, а экшен чуть ему уступает, на третьем месте - спортивные игры.\n",
    "- В Европе схожая ситуация - экшен на первом, а шутер на втором месте, за ними идет спорт.\n",
    "- У японцев же самый популярный жанр - это РПГ, хотя и экшн не сильно отстает, а вот шутеры и игры про спорт в стране восходящего солнца не жалуют.\n",
    "\n",
    "Посмотрим, на какую возрастную категорию рассчитаны рассчитаны популярные игры в каждом регионе."
   ]
  },
  {
   "cell_type": "code",
   "execution_count": 87,
   "metadata": {},
   "outputs": [
    {
     "data": {
      "image/png": "[encoded data removed]",
      "text/plain": [
       "<Figure size 1296x432 with 3 Axes>"
      ]
     },
     "metadata": {},
     "output_type": "display_data"
    }
   ],
   "source": [
    "popular_rating = {}\n",
    "for country in region:\n",
    "    popular_rating[country] = games_new.groupby('rating')[country].sum().sort_values(ascending=False).head(5)\n",
    "\n",
    "fig, (ax1, ax2, ax3) = plt.subplots(nrows = 1, ncols = 3, figsize = (18, 6))\n",
    "fig.suptitle('Рейтинги в играх')\n",
    "\n",
    "x = [ax1, ax2, ax3]\n",
    "\n",
    "for i in range(3):\n",
    "    ax = x[i]\n",
    "    ax.set_title(region[i])\n",
    "    ax.pie(popular_rating[region[i]].values, labels = popular_rating[region[i]].index, autopct = '%1.1f%%', colors = sns.color_palette('pastel')) \n",
    "\n",
    "plt.show()"
   ]
  },
  {
   "cell_type": "markdown",
   "metadata": {},
   "source": [
    "Интересная получается картинка - в большинстве своем европейцы и американцы предпочитают игры с рейтингом М, то есть для взрослых, затем идут игры \"для всех\". По Японии выводы делать сложно, так как очень много игр с неизвестным рейтингом - аж 61%.\n"
   ]
  },
  {
   "cell_type": "markdown",
   "metadata": {},
   "source": [
    "### Проверка гипотез\n",
    "\n",
    "**Гипотеза №1**\n",
    "\n",
    "**H0**: Средние пользовательские рейтинги платформ Xbox One и PC одинаковые\n",
    "\n",
    "**H1**: Средние пользовательские рейтинги платформ Xbox One и PC отличаются"
   ]
  },
  {
   "cell_type": "code",
   "execution_count": 44,
   "metadata": {},
   "outputs": [
    {
     "name": "stdout",
     "output_type": "stream",
     "text": [
      "6.59\n",
      "6.3\n",
      "p-значение: 0.11601398086668827\n",
      "Не получилось отвергнуть нулевую гипотезу\n"
     ]
    }
   ],
   "source": [
    "games_with_score = games_new[games_new['user_score']!=-1]\n",
    "\n",
    "print(round(games_with_score.query('platform == \"XOne\"')['user_score'].mean(), 2))\n",
    "print(round(games_with_score.query('platform == \"PC\"')['user_score'].mean(), 2))\n",
    "\n",
    "alpha = 0.05\n",
    "results = st.ttest_ind(games_with_score.query('platform == \"XOne\"')['user_score'],\n",
    "                       games_with_score.query('platform == \"PC\"')['user_score'], equal_var=0)\n",
    "\n",
    "print('p-значение:', results.pvalue)\n",
    "\n",
    "if (results.pvalue < alpha):\n",
    "    print(\"Отвергаем нулевую гипотезу\")\n",
    "else:\n",
    "    print(\"Не получилось отвергнуть нулевую гипотезу\")"
   ]
  },
  {
   "cell_type": "markdown",
   "metadata": {},
   "source": [
    "**Вывод по гипотезе 1:** высокое p-value говорит о том, что отвергнуть нулевую гипотезу нельзя отвергнуть, то есть различие между средним наших выборок может быть случайно.\n",
    "\n",
    "**Гипотеза №2**\n",
    "\n",
    "**H0**: Средние пользовательские рейтинги жанров Action (англ. «действие», экшен-игры) и Sports (англ. «спортивные соревнования») одинаковы.\n",
    "\n",
    "**H1**: Средние пользовательские рейтинги жанров Action (англ. «действие», экшен-игры) и Sports (англ. «спортивные соревнования») разные."
   ]
  },
  {
   "cell_type": "code",
   "execution_count": 45,
   "metadata": {},
   "outputs": [
    {
     "name": "stdout",
     "output_type": "stream",
     "text": [
      "6.76\n",
      "5.23\n",
      "p-значение: 2.132579125573844e-14\n",
      "Отвергаем нулевую гипотезу\n"
     ]
    }
   ],
   "source": [
    "print(round(games_with_score.query('genre == \"Action\"')['user_score'].mean(), 2))\n",
    "print(round(games_with_score.query('genre == \"Sports\"')['user_score'].mean(), 2))\n",
    "\n",
    "alpha = 0.05\n",
    "results = st.ttest_ind(games_with_score.query('genre == \"Action\"')['user_score'],\n",
    "                       games_with_score.query('genre == \"Sports\"')['user_score'], equal_var=0)\n",
    "\n",
    "print('p-значение:', results.pvalue)\n",
    "\n",
    "if (results.pvalue < alpha):\n",
    "    print(\"Отвергаем нулевую гипотезу\")\n",
    "else:\n",
    "    print(\"Не получилось отвергнуть нулевую гипотезу\")"
   ]
  },
  {
   "cell_type": "markdown",
   "metadata": {},
   "source": [
    "**Вывод по гипотезе 2:** низкое p-value говорит о том, что нулевую гипотезу можно смело отвергать, то есть средние пользовательские рейтинги жанров Action и Sports действительно отличаются.\n",
    "\n",
    "### Общий вывод\n",
    "\n",
    "**Обработка данных**\n",
    "- Названия столбцов приведены к нижнему регистру, были заполнены некоторые пропуски, обработаны редкие и неизвестные значения в столбцах рейтинга игр и оценок.\n",
    "- Многие пропуски были заполнены значением-заглушкой -1.\n",
    "- Было посчитано общее количество продаж по всем регионам, результат записан в столбец total_sales.\n",
    "\n",
    "**Исследовательский анализ данных**\n",
    "- Было обнаружено, что резкий рост выпуска игр приходится на 1995 год, пик - на 2008-2009 гг, после чего пошел спад, по крайней мере в количестве релизов и продаж.\n",
    "- Характерный срок жизни платформы - 10 лет.\n",
    "- Наибольшие медианные продажи у Xbox 360, Xbox One, PS3, PS4, WiiU.\n",
    "- Почти у всех платформ есть определенные игры, которые \"выстрелили\".\n",
    "- Оценки критиков слабо, но все-таки влияют на общие продажи, оценки пользователей не влияют совсем.\n",
    "- Наиболее популярне жанры - экшен, шутеры, спортивные и РПГ.\n",
    "- Самые непопулярные жанры - головоломки и стратегии.\n",
    "\n",
    "**Портрет пользователя региона**\n",
    "- Cамая популярная платформа во всех регионах одинакова - это PS4.\n",
    "- Любимые жанры во всех регионах разные: в Америке - шутер, а экшен чуть ему уступает, в Европе - экшен, в Японии - РПГ.\n",
    "- Американцы и европейцы предпочитают игры с рейтингом М, а вот про япоцев сложно что-то сказать.\n",
    "\n",
    "**Проверка гипотез**\n",
    "- Средние пользовательские рейтинги платформ Xbox One и PC одинаковые. Гипотезу отвергаем.\n",
    "- Средние пользовательские рейтинги жанров Action и Sports разные. Гипотеза не отвергаем."
   ]
  }
 ],
 "metadata": {
  "ExecuteTimeLog": [
   {
    "duration": 46,
    "start_time": "2022-05-03T08:42:47.568Z"
   },
   {
    "duration": 1225,
    "start_time": "2022-05-03T08:42:53.914Z"
   },
   {
    "duration": 45,
    "start_time": "2022-05-03T08:42:56.012Z"
   },
   {
    "duration": 4,
    "start_time": "2022-05-03T08:43:14.321Z"
   },
   {
    "duration": 68,
    "start_time": "2022-05-03T08:43:21.762Z"
   },
   {
    "duration": 4,
    "start_time": "2022-05-03T10:19:59.460Z"
   },
   {
    "duration": 14,
    "start_time": "2022-05-03T10:20:01.302Z"
   },
   {
    "duration": 61,
    "start_time": "2022-05-03T10:21:08.860Z"
   },
   {
    "duration": 8,
    "start_time": "2022-05-03T10:21:13.663Z"
   },
   {
    "duration": 22,
    "start_time": "2022-05-03T10:21:42.944Z"
   },
   {
    "duration": 6,
    "start_time": "2022-05-03T10:22:29.762Z"
   },
   {
    "duration": 16,
    "start_time": "2022-05-03T10:23:53.629Z"
   },
   {
    "duration": 15,
    "start_time": "2022-05-03T10:23:59.850Z"
   },
   {
    "duration": 9,
    "start_time": "2022-05-03T10:25:45.803Z"
   },
   {
    "duration": 9,
    "start_time": "2022-05-03T10:29:17.098Z"
   },
   {
    "duration": 9,
    "start_time": "2022-05-03T10:29:48.089Z"
   },
   {
    "duration": 6,
    "start_time": "2022-05-03T10:29:49.932Z"
   },
   {
    "duration": 17,
    "start_time": "2022-05-03T10:30:53.719Z"
   },
   {
    "duration": 7,
    "start_time": "2022-05-03T10:43:39.993Z"
   },
   {
    "duration": 6,
    "start_time": "2022-05-03T10:44:22.858Z"
   },
   {
    "duration": 17,
    "start_time": "2022-05-03T10:46:39.205Z"
   },
   {
    "duration": 19,
    "start_time": "2022-05-03T10:48:11.772Z"
   },
   {
    "duration": 5,
    "start_time": "2022-05-03T10:49:21.163Z"
   },
   {
    "duration": 6,
    "start_time": "2022-05-03T10:49:31.189Z"
   },
   {
    "duration": 12,
    "start_time": "2022-05-03T10:51:53.086Z"
   },
   {
    "duration": 18,
    "start_time": "2022-05-03T11:00:19.835Z"
   },
   {
    "duration": 9,
    "start_time": "2022-05-03T11:00:42.171Z"
   },
   {
    "duration": 5,
    "start_time": "2022-05-03T11:00:46.786Z"
   },
   {
    "duration": 6,
    "start_time": "2022-05-03T11:02:49.417Z"
   },
   {
    "duration": 14,
    "start_time": "2022-05-03T11:03:00.500Z"
   },
   {
    "duration": 71,
    "start_time": "2022-05-03T11:06:08.367Z"
   },
   {
    "duration": 143,
    "start_time": "2022-05-03T11:10:05.186Z"
   },
   {
    "duration": 207,
    "start_time": "2022-05-03T11:10:10.194Z"
   },
   {
    "duration": 171,
    "start_time": "2022-05-03T11:10:18.127Z"
   },
   {
    "duration": 164,
    "start_time": "2022-05-03T11:10:23.206Z"
   },
   {
    "duration": 190,
    "start_time": "2022-05-03T11:10:30.039Z"
   },
   {
    "duration": 119,
    "start_time": "2022-05-03T11:12:43.194Z"
   },
   {
    "duration": 184,
    "start_time": "2022-05-03T11:12:49.255Z"
   },
   {
    "duration": 1594,
    "start_time": "2022-05-12T08:03:13.598Z"
   },
   {
    "duration": 57,
    "start_time": "2022-05-12T08:03:15.196Z"
   },
   {
    "duration": 4,
    "start_time": "2022-05-12T08:03:16.147Z"
   },
   {
    "duration": 77,
    "start_time": "2022-05-12T08:03:17.268Z"
   },
   {
    "duration": 4,
    "start_time": "2022-05-12T08:03:20.854Z"
   },
   {
    "duration": 12,
    "start_time": "2022-05-12T08:03:21.350Z"
   },
   {
    "duration": 15,
    "start_time": "2022-05-12T08:03:24.764Z"
   },
   {
    "duration": 20,
    "start_time": "2022-05-12T08:03:26.106Z"
   },
   {
    "duration": 5,
    "start_time": "2022-05-12T08:03:28.716Z"
   },
   {
    "duration": 116,
    "start_time": "2022-05-12T08:03:29.423Z"
   },
   {
    "duration": 7,
    "start_time": "2022-05-12T08:04:29.064Z"
   },
   {
    "duration": 4,
    "start_time": "2022-05-12T08:04:58.441Z"
   },
   {
    "duration": 13,
    "start_time": "2022-05-12T08:05:00.234Z"
   },
   {
    "duration": 9,
    "start_time": "2022-05-12T08:05:07.450Z"
   },
   {
    "duration": 9,
    "start_time": "2022-05-12T08:05:11.354Z"
   },
   {
    "duration": 11,
    "start_time": "2022-05-12T08:05:17.005Z"
   },
   {
    "duration": 15,
    "start_time": "2022-05-12T08:05:20.404Z"
   },
   {
    "duration": 7,
    "start_time": "2022-05-12T08:05:25.197Z"
   },
   {
    "duration": 17,
    "start_time": "2022-05-12T08:05:34.654Z"
   },
   {
    "duration": 20,
    "start_time": "2022-05-12T08:05:39.308Z"
   },
   {
    "duration": 8,
    "start_time": "2022-05-12T08:05:43.297Z"
   },
   {
    "duration": 10,
    "start_time": "2022-05-12T08:05:49.399Z"
   },
   {
    "duration": 6,
    "start_time": "2022-05-12T08:05:53.715Z"
   },
   {
    "duration": 13,
    "start_time": "2022-05-12T08:05:55.953Z"
   },
   {
    "duration": 195,
    "start_time": "2022-05-12T08:06:00.630Z"
   },
   {
    "duration": 191,
    "start_time": "2022-05-12T08:10:30.446Z"
   },
   {
    "duration": 171,
    "start_time": "2022-05-12T08:11:50.704Z"
   },
   {
    "duration": 192,
    "start_time": "2022-05-12T08:12:53.258Z"
   },
   {
    "duration": 204,
    "start_time": "2022-05-12T08:13:37.660Z"
   },
   {
    "duration": 209,
    "start_time": "2022-05-12T08:14:51.496Z"
   },
   {
    "duration": 170,
    "start_time": "2022-05-12T08:15:21.062Z"
   },
   {
    "duration": 208,
    "start_time": "2022-05-12T08:16:28.625Z"
   },
   {
    "duration": 273,
    "start_time": "2022-05-12T08:16:41.751Z"
   },
   {
    "duration": 200,
    "start_time": "2022-05-12T08:17:07.296Z"
   },
   {
    "duration": 208,
    "start_time": "2022-05-12T08:18:44.292Z"
   },
   {
    "duration": 195,
    "start_time": "2022-05-12T08:18:58.315Z"
   },
   {
    "duration": 1253,
    "start_time": "2022-05-15T13:59:41.902Z"
   },
   {
    "duration": 47,
    "start_time": "2022-05-15T13:59:43.700Z"
   },
   {
    "duration": 3,
    "start_time": "2022-05-15T13:59:45.607Z"
   },
   {
    "duration": 58,
    "start_time": "2022-05-15T13:59:46.490Z"
   },
   {
    "duration": 3,
    "start_time": "2022-05-15T13:59:48.547Z"
   },
   {
    "duration": 13,
    "start_time": "2022-05-15T13:59:49.820Z"
   },
   {
    "duration": 8,
    "start_time": "2022-05-15T13:59:50.414Z"
   },
   {
    "duration": 18,
    "start_time": "2022-05-15T13:59:50.939Z"
   },
   {
    "duration": 5,
    "start_time": "2022-05-15T13:59:54.199Z"
   },
   {
    "duration": 6,
    "start_time": "2022-05-15T13:59:54.624Z"
   },
   {
    "duration": 4,
    "start_time": "2022-05-15T13:59:55.081Z"
   },
   {
    "duration": 14,
    "start_time": "2022-05-15T13:59:55.520Z"
   },
   {
    "duration": 7,
    "start_time": "2022-05-15T13:59:56.887Z"
   },
   {
    "duration": 8,
    "start_time": "2022-05-15T13:59:57.862Z"
   },
   {
    "duration": 7,
    "start_time": "2022-05-15T13:59:58.481Z"
   },
   {
    "duration": 13,
    "start_time": "2022-05-15T14:00:00.345Z"
   },
   {
    "duration": 7,
    "start_time": "2022-05-15T14:00:02.312Z"
   },
   {
    "duration": 14,
    "start_time": "2022-05-15T14:00:03.092Z"
   },
   {
    "duration": 14,
    "start_time": "2022-05-15T14:00:04.949Z"
   },
   {
    "duration": 6,
    "start_time": "2022-05-15T14:00:07.393Z"
   },
   {
    "duration": 9,
    "start_time": "2022-05-15T14:00:08.443Z"
   },
   {
    "duration": 6,
    "start_time": "2022-05-15T14:01:53.615Z"
   },
   {
    "duration": 13,
    "start_time": "2022-05-15T14:01:59.345Z"
   },
   {
    "duration": 189,
    "start_time": "2022-05-15T14:02:01.663Z"
   },
   {
    "duration": 98,
    "start_time": "2022-05-15T14:14:03.598Z"
   },
   {
    "duration": 274,
    "start_time": "2022-05-15T14:14:10.702Z"
   },
   {
    "duration": 227,
    "start_time": "2022-05-15T14:21:25.975Z"
   },
   {
    "duration": 20,
    "start_time": "2022-05-15T14:30:34.737Z"
   },
   {
    "duration": 16,
    "start_time": "2022-05-15T14:31:06.931Z"
   },
   {
    "duration": 18,
    "start_time": "2022-05-15T14:32:46.603Z"
   },
   {
    "duration": 17,
    "start_time": "2022-05-15T14:33:45.050Z"
   },
   {
    "duration": 1499,
    "start_time": "2022-05-15T14:34:03.167Z"
   },
   {
    "duration": 1131,
    "start_time": "2022-05-15T14:34:52.024Z"
   },
   {
    "duration": 21,
    "start_time": "2022-05-15T14:37:42.157Z"
   },
   {
    "duration": 10,
    "start_time": "2022-05-15T14:40:26.166Z"
   },
   {
    "duration": 160,
    "start_time": "2022-05-15T14:40:35.638Z"
   },
   {
    "duration": 1182,
    "start_time": "2022-05-15T14:42:22.933Z"
   },
   {
    "duration": 6,
    "start_time": "2022-05-15T14:46:03.304Z"
   },
   {
    "duration": 234,
    "start_time": "2022-05-15T15:09:49.097Z"
   },
   {
    "duration": 164,
    "start_time": "2022-05-15T15:10:36.564Z"
   },
   {
    "duration": 173,
    "start_time": "2022-05-15T15:10:43.544Z"
   },
   {
    "duration": 195,
    "start_time": "2022-05-15T15:17:24.968Z"
   },
   {
    "duration": 174,
    "start_time": "2022-05-15T15:18:00.080Z"
   },
   {
    "duration": 178,
    "start_time": "2022-05-15T15:20:27.261Z"
   },
   {
    "duration": 185,
    "start_time": "2022-05-15T15:20:29.697Z"
   },
   {
    "duration": 25,
    "start_time": "2022-05-15T15:24:45.223Z"
   },
   {
    "duration": 27,
    "start_time": "2022-05-15T15:24:55.419Z"
   },
   {
    "duration": 28,
    "start_time": "2022-05-15T15:25:07.424Z"
   },
   {
    "duration": 26,
    "start_time": "2022-05-15T15:25:15.171Z"
   },
   {
    "duration": 1708,
    "start_time": "2022-05-15T15:25:27.828Z"
   },
   {
    "duration": 14,
    "start_time": "2022-05-15T15:25:39.913Z"
   },
   {
    "duration": 14,
    "start_time": "2022-05-15T15:25:50.547Z"
   },
   {
    "duration": 6,
    "start_time": "2022-05-15T15:26:17.006Z"
   },
   {
    "duration": 9,
    "start_time": "2022-05-15T15:26:24.987Z"
   },
   {
    "duration": 31,
    "start_time": "2022-05-15T15:28:20.564Z"
   },
   {
    "duration": 7,
    "start_time": "2022-05-15T15:28:34.978Z"
   },
   {
    "duration": 11,
    "start_time": "2022-05-15T15:28:36.945Z"
   },
   {
    "duration": 6,
    "start_time": "2022-05-15T15:28:51.368Z"
   },
   {
    "duration": 10,
    "start_time": "2022-05-15T15:28:52.799Z"
   },
   {
    "duration": 7,
    "start_time": "2022-05-15T15:30:10.064Z"
   },
   {
    "duration": 10,
    "start_time": "2022-05-15T15:30:11.628Z"
   },
   {
    "duration": 8,
    "start_time": "2022-05-15T15:31:05.088Z"
   },
   {
    "duration": 5,
    "start_time": "2022-05-15T15:32:06.778Z"
   },
   {
    "duration": 230,
    "start_time": "2022-05-15T15:34:26.029Z"
   },
   {
    "duration": 380,
    "start_time": "2022-05-15T15:34:47.171Z"
   },
   {
    "duration": 7,
    "start_time": "2022-05-15T15:38:43.450Z"
   },
   {
    "duration": 7,
    "start_time": "2022-05-15T15:41:17.369Z"
   },
   {
    "duration": 20,
    "start_time": "2022-05-15T15:41:27.399Z"
   },
   {
    "duration": 294,
    "start_time": "2022-05-15T15:42:45.625Z"
   },
   {
    "duration": 8,
    "start_time": "2022-05-15T15:43:06.010Z"
   },
   {
    "duration": 3,
    "start_time": "2022-05-15T15:43:18.523Z"
   },
   {
    "duration": 10,
    "start_time": "2022-05-15T15:43:36.922Z"
   },
   {
    "duration": 7,
    "start_time": "2022-05-15T15:43:46.539Z"
   },
   {
    "duration": 105,
    "start_time": "2022-05-15T15:44:06.349Z"
   },
   {
    "duration": 3,
    "start_time": "2022-05-15T15:44:15.087Z"
   },
   {
    "duration": 6,
    "start_time": "2022-05-15T15:44:22.841Z"
   },
   {
    "duration": 4,
    "start_time": "2022-05-15T15:45:02.120Z"
   },
   {
    "duration": 4,
    "start_time": "2022-05-15T15:45:06.158Z"
   },
   {
    "duration": 2336,
    "start_time": "2022-05-15T15:45:24.384Z"
   },
   {
    "duration": 2308,
    "start_time": "2022-05-15T15:45:47.533Z"
   },
   {
    "duration": 2379,
    "start_time": "2022-05-15T15:48:32.095Z"
   },
   {
    "duration": 8,
    "start_time": "2022-05-15T15:50:24.272Z"
   },
   {
    "duration": 10,
    "start_time": "2022-05-15T15:53:56.158Z"
   },
   {
    "duration": 190,
    "start_time": "2022-05-15T15:54:05.013Z"
   },
   {
    "duration": 195,
    "start_time": "2022-05-15T15:54:41.547Z"
   },
   {
    "duration": 110,
    "start_time": "2022-05-15T15:57:58.400Z"
   },
   {
    "duration": 107,
    "start_time": "2022-05-15T15:58:06.570Z"
   },
   {
    "duration": 174,
    "start_time": "2022-05-15T15:59:36.211Z"
   },
   {
    "duration": 77,
    "start_time": "2022-05-15T16:00:43.860Z"
   },
   {
    "duration": 111,
    "start_time": "2022-05-15T16:01:22.961Z"
   },
   {
    "duration": 133,
    "start_time": "2022-05-15T16:01:30.001Z"
   },
   {
    "duration": 17,
    "start_time": "2022-05-15T16:02:36.839Z"
   },
   {
    "duration": 158,
    "start_time": "2022-05-15T16:03:17.821Z"
   },
   {
    "duration": 184,
    "start_time": "2022-05-15T16:04:43.968Z"
   },
   {
    "duration": 173,
    "start_time": "2022-05-15T16:05:01.220Z"
   },
   {
    "duration": 177,
    "start_time": "2022-05-15T16:05:48.376Z"
   },
   {
    "duration": 259,
    "start_time": "2022-05-15T16:06:08.608Z"
   },
   {
    "duration": 214,
    "start_time": "2022-05-15T16:06:22.430Z"
   },
   {
    "duration": 19,
    "start_time": "2022-05-15T16:10:59.092Z"
   },
   {
    "duration": 308,
    "start_time": "2022-05-15T16:29:55.227Z"
   },
   {
    "duration": 232,
    "start_time": "2022-05-15T16:30:36.068Z"
   },
   {
    "duration": 268,
    "start_time": "2022-05-15T16:43:14.170Z"
   },
   {
    "duration": 326,
    "start_time": "2022-05-15T16:43:27.129Z"
   },
   {
    "duration": 11,
    "start_time": "2022-05-15T16:43:43.845Z"
   },
   {
    "duration": 10,
    "start_time": "2022-05-15T16:43:56.305Z"
   },
   {
    "duration": 244,
    "start_time": "2022-05-15T16:44:06.730Z"
   },
   {
    "duration": 1742,
    "start_time": "2022-05-16T07:24:07.897Z"
   },
   {
    "duration": 49,
    "start_time": "2022-05-16T07:24:10.070Z"
   },
   {
    "duration": 6,
    "start_time": "2022-05-16T07:24:10.527Z"
   },
   {
    "duration": 92,
    "start_time": "2022-05-16T07:24:10.917Z"
   },
   {
    "duration": 5,
    "start_time": "2022-05-16T07:24:13.056Z"
   },
   {
    "duration": 21,
    "start_time": "2022-05-16T07:24:13.899Z"
   },
   {
    "duration": 15,
    "start_time": "2022-05-16T07:24:14.934Z"
   },
   {
    "duration": 31,
    "start_time": "2022-05-16T07:24:15.633Z"
   },
   {
    "duration": 7,
    "start_time": "2022-05-16T07:24:24.559Z"
   },
   {
    "duration": 9,
    "start_time": "2022-05-16T07:24:25.880Z"
   },
   {
    "duration": 6,
    "start_time": "2022-05-16T07:24:26.851Z"
   },
   {
    "duration": 22,
    "start_time": "2022-05-16T07:24:29.036Z"
   },
   {
    "duration": 11,
    "start_time": "2022-05-16T07:24:29.608Z"
   },
   {
    "duration": 11,
    "start_time": "2022-05-16T07:24:31.376Z"
   },
   {
    "duration": 8,
    "start_time": "2022-05-16T07:24:31.978Z"
   },
   {
    "duration": 21,
    "start_time": "2022-05-16T07:24:32.451Z"
   },
   {
    "duration": 9,
    "start_time": "2022-05-16T07:24:32.968Z"
   },
   {
    "duration": 24,
    "start_time": "2022-05-16T07:24:33.564Z"
   },
   {
    "duration": 22,
    "start_time": "2022-05-16T07:24:33.974Z"
   },
   {
    "duration": 8,
    "start_time": "2022-05-16T07:24:35.703Z"
   },
   {
    "duration": 14,
    "start_time": "2022-05-16T07:24:36.365Z"
   },
   {
    "duration": 7,
    "start_time": "2022-05-16T07:24:37.567Z"
   },
   {
    "duration": 20,
    "start_time": "2022-05-16T07:24:38.218Z"
   },
   {
    "duration": 345,
    "start_time": "2022-05-16T07:24:38.704Z"
   },
   {
    "duration": 678,
    "start_time": "2022-05-16T07:24:41.957Z"
   },
   {
    "duration": 2534,
    "start_time": "2022-05-16T07:24:44.680Z"
   },
   {
    "duration": 8,
    "start_time": "2022-05-16T07:24:59.662Z"
   },
   {
    "duration": 318,
    "start_time": "2022-05-16T07:25:03.306Z"
   },
   {
    "duration": 1913,
    "start_time": "2022-05-16T07:25:05.181Z"
   },
   {
    "duration": 9,
    "start_time": "2022-05-16T07:25:08.216Z"
   },
   {
    "duration": 406,
    "start_time": "2022-05-16T07:25:08.921Z"
   },
   {
    "duration": 357,
    "start_time": "2022-05-16T07:25:11.270Z"
   },
   {
    "duration": 4170,
    "start_time": "2022-05-16T07:25:13.951Z"
   },
   {
    "duration": 11,
    "start_time": "2022-05-16T07:25:19.389Z"
   },
   {
    "duration": 350,
    "start_time": "2022-05-16T07:25:25.286Z"
   },
   {
    "duration": 32,
    "start_time": "2022-05-16T07:25:28.358Z"
   },
   {
    "duration": 553,
    "start_time": "2022-05-16T07:25:39.789Z"
   },
   {
    "duration": 478,
    "start_time": "2022-05-16T07:29:48.639Z"
   },
   {
    "duration": 502,
    "start_time": "2022-05-16T07:30:17.789Z"
   },
   {
    "duration": 465,
    "start_time": "2022-05-16T07:30:57.411Z"
   },
   {
    "duration": 610,
    "start_time": "2022-05-16T07:31:06.419Z"
   },
   {
    "duration": 590,
    "start_time": "2022-05-16T07:31:39.817Z"
   },
   {
    "duration": 472,
    "start_time": "2022-05-16T07:31:53.576Z"
   },
   {
    "duration": 459,
    "start_time": "2022-05-16T07:33:58.306Z"
   },
   {
    "duration": 495,
    "start_time": "2022-05-16T07:34:27.484Z"
   },
   {
    "duration": 459,
    "start_time": "2022-05-16T07:36:04.599Z"
   },
   {
    "duration": 531,
    "start_time": "2022-05-16T07:37:45.600Z"
   },
   {
    "duration": 548,
    "start_time": "2022-05-16T07:39:46.607Z"
   },
   {
    "duration": 500,
    "start_time": "2022-05-16T07:40:04.222Z"
   },
   {
    "duration": 613,
    "start_time": "2022-05-16T07:43:10.329Z"
   },
   {
    "duration": 500,
    "start_time": "2022-05-16T07:43:17.524Z"
   },
   {
    "duration": 22,
    "start_time": "2022-05-16T07:46:28.552Z"
   },
   {
    "duration": 424,
    "start_time": "2022-05-16T07:47:01.772Z"
   },
   {
    "duration": 635,
    "start_time": "2022-05-16T07:47:21.612Z"
   },
   {
    "duration": 414,
    "start_time": "2022-05-16T07:47:40.327Z"
   },
   {
    "duration": 27,
    "start_time": "2022-05-16T07:59:56.598Z"
   },
   {
    "duration": 36,
    "start_time": "2022-05-16T08:02:09.247Z"
   },
   {
    "duration": 22,
    "start_time": "2022-05-16T08:03:09.327Z"
   },
   {
    "duration": 108,
    "start_time": "2022-05-16T08:03:46.373Z"
   },
   {
    "duration": 15,
    "start_time": "2022-05-16T08:03:52.037Z"
   },
   {
    "duration": 24,
    "start_time": "2022-05-16T08:06:28.722Z"
   },
   {
    "duration": 21,
    "start_time": "2022-05-16T08:08:31.280Z"
   },
   {
    "duration": 2509,
    "start_time": "2022-05-16T11:06:02.165Z"
   },
   {
    "duration": 13,
    "start_time": "2022-05-16T11:06:07.147Z"
   },
   {
    "duration": 11,
    "start_time": "2022-05-16T11:06:55.977Z"
   },
   {
    "duration": 13,
    "start_time": "2022-05-16T11:07:18.399Z"
   },
   {
    "duration": 1572,
    "start_time": "2022-05-16T11:09:30.975Z"
   },
   {
    "duration": 56,
    "start_time": "2022-05-16T11:09:33.112Z"
   },
   {
    "duration": 7,
    "start_time": "2022-05-16T11:09:35.748Z"
   },
   {
    "duration": 94,
    "start_time": "2022-05-16T11:09:38.231Z"
   },
   {
    "duration": 5,
    "start_time": "2022-05-16T11:09:45.474Z"
   },
   {
    "duration": 32,
    "start_time": "2022-05-16T11:09:46.641Z"
   },
   {
    "duration": 27,
    "start_time": "2022-05-16T11:09:49.097Z"
   },
   {
    "duration": 33,
    "start_time": "2022-05-16T11:09:49.485Z"
   },
   {
    "duration": 8,
    "start_time": "2022-05-16T11:09:49.892Z"
   },
   {
    "duration": 10,
    "start_time": "2022-05-16T11:09:51.873Z"
   },
   {
    "duration": 6,
    "start_time": "2022-05-16T11:09:53.240Z"
   },
   {
    "duration": 23,
    "start_time": "2022-05-16T11:09:54.266Z"
   },
   {
    "duration": 11,
    "start_time": "2022-05-16T11:09:57.220Z"
   },
   {
    "duration": 18,
    "start_time": "2022-05-16T11:10:37.315Z"
   },
   {
    "duration": 10,
    "start_time": "2022-05-16T11:10:38.488Z"
   },
   {
    "duration": 14,
    "start_time": "2022-05-16T11:10:47.193Z"
   },
   {
    "duration": 28,
    "start_time": "2022-05-16T11:12:17.845Z"
   },
   {
    "duration": 12,
    "start_time": "2022-05-16T11:12:20.570Z"
   },
   {
    "duration": 11,
    "start_time": "2022-05-16T11:12:22.768Z"
   },
   {
    "duration": 10,
    "start_time": "2022-05-16T11:13:35.186Z"
   },
   {
    "duration": 25,
    "start_time": "2022-05-16T11:18:58.143Z"
   },
   {
    "duration": 9,
    "start_time": "2022-05-16T11:19:29.286Z"
   },
   {
    "duration": 23,
    "start_time": "2022-05-16T11:21:20.737Z"
   },
   {
    "duration": 15,
    "start_time": "2022-05-16T11:22:50.769Z"
   },
   {
    "duration": 13,
    "start_time": "2022-05-16T11:36:02.795Z"
   },
   {
    "duration": 9,
    "start_time": "2022-05-16T11:36:14.066Z"
   },
   {
    "duration": 9,
    "start_time": "2022-05-16T11:37:29.142Z"
   },
   {
    "duration": 18,
    "start_time": "2022-05-16T11:37:48.891Z"
   },
   {
    "duration": 366,
    "start_time": "2022-05-16T11:39:18.760Z"
   },
   {
    "duration": 350,
    "start_time": "2022-05-16T11:40:34.108Z"
   },
   {
    "duration": 10,
    "start_time": "2022-05-16T11:49:04.704Z"
   },
   {
    "duration": 10,
    "start_time": "2022-05-16T11:50:31.780Z"
   },
   {
    "duration": 569,
    "start_time": "2022-05-16T12:04:38.734Z"
   },
   {
    "duration": 572,
    "start_time": "2022-05-16T12:07:02.484Z"
   },
   {
    "duration": 1908,
    "start_time": "2022-05-16T12:08:31.178Z"
   },
   {
    "duration": 8,
    "start_time": "2022-05-16T12:15:10.732Z"
   },
   {
    "duration": 351,
    "start_time": "2022-05-16T12:15:46.574Z"
   },
   {
    "duration": 2150,
    "start_time": "2022-05-16T12:21:41.368Z"
   },
   {
    "duration": 9,
    "start_time": "2022-05-16T12:24:44.216Z"
   },
   {
    "duration": 9,
    "start_time": "2022-05-16T12:25:11.573Z"
   },
   {
    "duration": 344,
    "start_time": "2022-05-16T12:25:15.563Z"
   },
   {
    "duration": 348,
    "start_time": "2022-05-16T12:28:42.397Z"
   },
   {
    "duration": 336,
    "start_time": "2022-05-16T12:29:31.316Z"
   },
   {
    "duration": 1474,
    "start_time": "2022-05-16T12:31:21.300Z"
   },
   {
    "duration": 50,
    "start_time": "2022-05-16T12:31:22.777Z"
   },
   {
    "duration": 6,
    "start_time": "2022-05-16T12:31:22.830Z"
   },
   {
    "duration": 118,
    "start_time": "2022-05-16T12:31:22.854Z"
   },
   {
    "duration": 4,
    "start_time": "2022-05-16T12:31:24.374Z"
   },
   {
    "duration": 20,
    "start_time": "2022-05-16T12:31:24.891Z"
   },
   {
    "duration": 15,
    "start_time": "2022-05-16T12:31:27.569Z"
   },
   {
    "duration": 10,
    "start_time": "2022-05-16T12:31:28.177Z"
   },
   {
    "duration": 34,
    "start_time": "2022-05-16T12:31:30.702Z"
   },
   {
    "duration": 8,
    "start_time": "2022-05-16T12:31:31.132Z"
   },
   {
    "duration": 9,
    "start_time": "2022-05-16T12:31:32.327Z"
   },
   {
    "duration": 5,
    "start_time": "2022-05-16T12:31:33.849Z"
   },
   {
    "duration": 13,
    "start_time": "2022-05-16T12:31:34.348Z"
   },
   {
    "duration": 31,
    "start_time": "2022-05-16T12:31:35.794Z"
   },
   {
    "duration": 14,
    "start_time": "2022-05-16T12:31:37.912Z"
   },
   {
    "duration": 13,
    "start_time": "2022-05-16T12:31:39.776Z"
   },
   {
    "duration": 10,
    "start_time": "2022-05-16T12:31:40.867Z"
   },
   {
    "duration": 12,
    "start_time": "2022-05-16T12:31:41.360Z"
   },
   {
    "duration": 31,
    "start_time": "2022-05-16T12:31:43.779Z"
   },
   {
    "duration": 9,
    "start_time": "2022-05-16T12:31:47.951Z"
   },
   {
    "duration": 12,
    "start_time": "2022-05-16T12:31:49.981Z"
   },
   {
    "duration": 11,
    "start_time": "2022-05-16T12:31:51.840Z"
   },
   {
    "duration": 22,
    "start_time": "2022-05-16T12:31:57.516Z"
   },
   {
    "duration": 9,
    "start_time": "2022-05-16T12:31:58.024Z"
   },
   {
    "duration": 24,
    "start_time": "2022-05-16T12:32:01.167Z"
   },
   {
    "duration": 14,
    "start_time": "2022-05-16T12:32:03.095Z"
   },
   {
    "duration": 7,
    "start_time": "2022-05-16T12:32:04.460Z"
   },
   {
    "duration": 19,
    "start_time": "2022-05-16T12:32:05.668Z"
   },
   {
    "duration": 364,
    "start_time": "2022-05-16T12:32:15.861Z"
   },
   {
    "duration": 538,
    "start_time": "2022-05-16T12:32:19.289Z"
   },
   {
    "duration": 2021,
    "start_time": "2022-05-16T12:32:21.839Z"
   },
   {
    "duration": 8,
    "start_time": "2022-05-16T12:32:29.480Z"
   },
   {
    "duration": 333,
    "start_time": "2022-05-16T12:32:34.148Z"
   },
   {
    "duration": 1956,
    "start_time": "2022-05-16T12:32:39.812Z"
   },
   {
    "duration": 9,
    "start_time": "2022-05-16T12:32:43.266Z"
   },
   {
    "duration": 480,
    "start_time": "2022-05-16T12:32:45.008Z"
   },
   {
    "duration": 374,
    "start_time": "2022-05-16T12:32:50.123Z"
   },
   {
    "duration": 4116,
    "start_time": "2022-05-16T12:38:36.057Z"
   },
   {
    "duration": 10,
    "start_time": "2022-05-16T12:45:09.969Z"
   },
   {
    "duration": 482,
    "start_time": "2022-05-16T12:45:30.591Z"
   },
   {
    "duration": 31,
    "start_time": "2022-05-16T12:49:45.043Z"
   },
   {
    "duration": 491,
    "start_time": "2022-05-16T12:49:59.181Z"
   },
   {
    "duration": 511,
    "start_time": "2022-05-16T12:54:30.769Z"
   },
   {
    "duration": 813,
    "start_time": "2022-05-16T12:56:30.909Z"
   },
   {
    "duration": 818,
    "start_time": "2022-05-16T12:56:48.446Z"
   },
   {
    "duration": 487,
    "start_time": "2022-05-16T12:59:55.924Z"
   },
   {
    "duration": 404,
    "start_time": "2022-05-16T13:03:59.694Z"
   },
   {
    "duration": 24,
    "start_time": "2022-05-16T13:08:11.556Z"
   },
   {
    "duration": 20,
    "start_time": "2022-05-16T13:09:41.304Z"
   },
   {
    "duration": 13,
    "start_time": "2022-05-17T11:47:55.612Z"
   },
   {
    "duration": 4,
    "start_time": "2022-05-17T11:48:14.430Z"
   },
   {
    "duration": 173,
    "start_time": "2022-05-17T11:49:13.791Z"
   },
   {
    "duration": 3,
    "start_time": "2022-05-17T11:49:36.411Z"
   },
   {
    "duration": 172,
    "start_time": "2022-05-17T12:21:20.270Z"
   },
   {
    "duration": 175,
    "start_time": "2022-05-17T12:28:31.902Z"
   },
   {
    "duration": 1295,
    "start_time": "2022-05-17T12:35:41.074Z"
   },
   {
    "duration": 54,
    "start_time": "2022-05-17T12:35:42.372Z"
   },
   {
    "duration": 4,
    "start_time": "2022-05-17T12:35:42.428Z"
   },
   {
    "duration": 77,
    "start_time": "2022-05-17T12:35:42.434Z"
   },
   {
    "duration": 3,
    "start_time": "2022-05-17T12:35:42.514Z"
   },
   {
    "duration": 23,
    "start_time": "2022-05-17T12:35:42.519Z"
   },
   {
    "duration": 18,
    "start_time": "2022-05-17T12:35:42.544Z"
   },
   {
    "duration": 13,
    "start_time": "2022-05-17T12:35:42.563Z"
   },
   {
    "duration": 25,
    "start_time": "2022-05-17T12:35:42.578Z"
   },
   {
    "duration": 12,
    "start_time": "2022-05-17T12:35:42.605Z"
   },
   {
    "duration": 10,
    "start_time": "2022-05-17T12:35:42.619Z"
   },
   {
    "duration": 9,
    "start_time": "2022-05-17T12:35:42.631Z"
   },
   {
    "duration": 18,
    "start_time": "2022-05-17T12:35:42.641Z"
   },
   {
    "duration": 19,
    "start_time": "2022-05-17T12:35:42.662Z"
   },
   {
    "duration": 26,
    "start_time": "2022-05-17T12:35:42.683Z"
   },
   {
    "duration": 9,
    "start_time": "2022-05-17T12:35:42.711Z"
   },
   {
    "duration": 14,
    "start_time": "2022-05-17T12:35:42.721Z"
   },
   {
    "duration": 8,
    "start_time": "2022-05-17T12:35:42.737Z"
   },
   {
    "duration": 10,
    "start_time": "2022-05-17T12:35:42.757Z"
   },
   {
    "duration": 15,
    "start_time": "2022-05-17T12:35:42.768Z"
   },
   {
    "duration": 7,
    "start_time": "2022-05-17T12:35:42.785Z"
   },
   {
    "duration": 12,
    "start_time": "2022-05-17T12:35:42.794Z"
   },
   {
    "duration": 10,
    "start_time": "2022-05-17T12:35:42.808Z"
   },
   {
    "duration": 49,
    "start_time": "2022-05-17T12:35:42.820Z"
   },
   {
    "duration": 6,
    "start_time": "2022-05-17T12:35:42.871Z"
   },
   {
    "duration": 16,
    "start_time": "2022-05-17T12:35:42.879Z"
   },
   {
    "duration": 11,
    "start_time": "2022-05-17T12:35:42.897Z"
   },
   {
    "duration": 7,
    "start_time": "2022-05-17T12:35:42.910Z"
   },
   {
    "duration": 46,
    "start_time": "2022-05-17T12:35:42.919Z"
   },
   {
    "duration": 241,
    "start_time": "2022-05-17T12:35:42.966Z"
   },
   {
    "duration": 354,
    "start_time": "2022-05-17T12:35:43.208Z"
   },
   {
    "duration": 1318,
    "start_time": "2022-05-17T12:35:43.563Z"
   },
   {
    "duration": 5,
    "start_time": "2022-05-17T12:35:44.883Z"
   },
   {
    "duration": 214,
    "start_time": "2022-05-17T12:35:44.890Z"
   },
   {
    "duration": 1356,
    "start_time": "2022-05-17T12:35:45.105Z"
   },
   {
    "duration": 6,
    "start_time": "2022-05-17T12:35:46.463Z"
   },
   {
    "duration": 340,
    "start_time": "2022-05-17T12:35:46.470Z"
   },
   {
    "duration": 246,
    "start_time": "2022-05-17T12:35:46.812Z"
   },
   {
    "duration": 2836,
    "start_time": "2022-05-17T12:35:47.060Z"
   },
   {
    "duration": 250,
    "start_time": "2022-05-17T12:35:49.897Z"
   },
   {
    "duration": 335,
    "start_time": "2022-05-17T12:35:50.151Z"
   },
   {
    "duration": 356,
    "start_time": "2022-05-17T12:35:50.488Z"
   },
   {
    "duration": 289,
    "start_time": "2022-05-17T12:35:50.846Z"
   },
   {
    "duration": 28,
    "start_time": "2022-05-17T12:35:51.138Z"
   },
   {
    "duration": 16,
    "start_time": "2022-05-17T12:35:51.168Z"
   },
   {
    "duration": 1322,
    "start_time": "2022-05-17T13:10:37.077Z"
   },
   {
    "duration": 39,
    "start_time": "2022-05-17T13:10:38.401Z"
   },
   {
    "duration": 5,
    "start_time": "2022-05-17T13:10:38.814Z"
   },
   {
    "duration": 66,
    "start_time": "2022-05-17T13:10:41.080Z"
   },
   {
    "duration": 4,
    "start_time": "2022-05-17T13:10:44.695Z"
   },
   {
    "duration": 14,
    "start_time": "2022-05-17T13:10:46.461Z"
   },
   {
    "duration": 9,
    "start_time": "2022-05-17T13:10:50.128Z"
   },
   {
    "duration": 8,
    "start_time": "2022-05-17T13:10:50.662Z"
   },
   {
    "duration": 22,
    "start_time": "2022-05-17T13:10:52.534Z"
   },
   {
    "duration": 6,
    "start_time": "2022-05-17T13:10:55.825Z"
   },
   {
    "duration": 8,
    "start_time": "2022-05-17T13:11:17.426Z"
   },
   {
    "duration": 5,
    "start_time": "2022-05-17T13:11:18.094Z"
   },
   {
    "duration": 7,
    "start_time": "2022-05-17T13:11:18.575Z"
   },
   {
    "duration": 17,
    "start_time": "2022-05-17T13:11:21.183Z"
   },
   {
    "duration": 9,
    "start_time": "2022-05-17T13:11:23.143Z"
   },
   {
    "duration": 9,
    "start_time": "2022-05-17T13:11:27.999Z"
   },
   {
    "duration": 7,
    "start_time": "2022-05-17T13:11:29.548Z"
   },
   {
    "duration": 9,
    "start_time": "2022-05-17T13:11:30.985Z"
   },
   {
    "duration": 14,
    "start_time": "2022-05-17T13:11:34.690Z"
   },
   {
    "duration": 7,
    "start_time": "2022-05-17T13:11:38.484Z"
   },
   {
    "duration": 9,
    "start_time": "2022-05-17T13:11:40.620Z"
   },
   {
    "duration": 7,
    "start_time": "2022-05-17T13:11:45.752Z"
   },
   {
    "duration": 15,
    "start_time": "2022-05-17T13:11:48.712Z"
   },
   {
    "duration": 6,
    "start_time": "2022-05-17T13:11:53.739Z"
   },
   {
    "duration": 15,
    "start_time": "2022-05-17T13:11:56.666Z"
   },
   {
    "duration": 10,
    "start_time": "2022-05-17T13:11:58.623Z"
   },
   {
    "duration": 7,
    "start_time": "2022-05-17T13:12:01.881Z"
   },
   {
    "duration": 14,
    "start_time": "2022-05-17T13:12:02.986Z"
   },
   {
    "duration": 207,
    "start_time": "2022-05-17T13:12:09.929Z"
   },
   {
    "duration": 306,
    "start_time": "2022-05-17T13:12:17.087Z"
   },
   {
    "duration": 16,
    "start_time": "2022-05-17T13:13:29.918Z"
   },
   {
    "duration": 6,
    "start_time": "2022-05-17T13:21:59.973Z"
   },
   {
    "duration": 188,
    "start_time": "2022-05-17T13:22:00.822Z"
   },
   {
    "duration": 1284,
    "start_time": "2022-05-17T13:22:03.412Z"
   },
   {
    "duration": 7,
    "start_time": "2022-05-17T13:22:06.961Z"
   },
   {
    "duration": 270,
    "start_time": "2022-05-17T13:26:56.047Z"
   },
   {
    "duration": 105,
    "start_time": "2022-05-17T13:27:51.588Z"
   },
   {
    "duration": 287,
    "start_time": "2022-05-17T13:28:02.756Z"
   },
   {
    "duration": 395,
    "start_time": "2022-05-17T13:29:08.502Z"
   },
   {
    "duration": 268,
    "start_time": "2022-05-17T13:29:23.252Z"
   },
   {
    "duration": 264,
    "start_time": "2022-05-17T13:32:38.529Z"
   },
   {
    "duration": 217,
    "start_time": "2022-05-17T13:33:08.264Z"
   },
   {
    "duration": 215,
    "start_time": "2022-05-17T13:33:16.163Z"
   },
   {
    "duration": 214,
    "start_time": "2022-05-17T13:33:56.199Z"
   },
   {
    "duration": 376,
    "start_time": "2022-05-17T13:34:11.188Z"
   },
   {
    "duration": 245,
    "start_time": "2022-05-17T13:49:15.374Z"
   },
   {
    "duration": 250,
    "start_time": "2022-05-17T13:49:37.390Z"
   },
   {
    "duration": 248,
    "start_time": "2022-05-17T13:49:52.309Z"
   },
   {
    "duration": 239,
    "start_time": "2022-05-17T13:50:45.737Z"
   },
   {
    "duration": 406,
    "start_time": "2022-05-17T13:50:50.993Z"
   },
   {
    "duration": 245,
    "start_time": "2022-05-17T13:54:36.254Z"
   },
   {
    "duration": 285,
    "start_time": "2022-05-17T13:55:16.211Z"
   },
   {
    "duration": 327,
    "start_time": "2022-05-17T13:56:40.178Z"
   },
   {
    "duration": 379,
    "start_time": "2022-05-17T13:56:57.379Z"
   },
   {
    "duration": 281,
    "start_time": "2022-05-17T13:57:08.920Z"
   },
   {
    "duration": 344,
    "start_time": "2022-05-17T13:58:07.574Z"
   },
   {
    "duration": 253,
    "start_time": "2022-05-17T13:59:37.000Z"
   },
   {
    "duration": 244,
    "start_time": "2022-05-17T13:59:46.641Z"
   },
   {
    "duration": 289,
    "start_time": "2022-05-17T13:59:52.624Z"
   },
   {
    "duration": 21,
    "start_time": "2022-05-17T14:03:29.131Z"
   },
   {
    "duration": 7,
    "start_time": "2022-05-17T14:03:52.333Z"
   },
   {
    "duration": 7,
    "start_time": "2022-05-17T14:04:49.801Z"
   },
   {
    "duration": 8,
    "start_time": "2022-05-17T14:04:56.924Z"
   },
   {
    "duration": 8,
    "start_time": "2022-05-17T14:05:06.932Z"
   },
   {
    "duration": 7,
    "start_time": "2022-05-17T14:05:16.099Z"
   },
   {
    "duration": 7,
    "start_time": "2022-05-17T14:05:34.864Z"
   },
   {
    "duration": 7,
    "start_time": "2022-05-17T14:05:42.366Z"
   },
   {
    "duration": 8,
    "start_time": "2022-05-17T14:06:06.177Z"
   },
   {
    "duration": 7,
    "start_time": "2022-05-17T14:06:13.840Z"
   },
   {
    "duration": 7,
    "start_time": "2022-05-17T14:06:26.872Z"
   },
   {
    "duration": 7,
    "start_time": "2022-05-17T14:30:30.906Z"
   },
   {
    "duration": 10,
    "start_time": "2022-05-17T14:30:58.172Z"
   },
   {
    "duration": 6,
    "start_time": "2022-05-17T14:31:11.923Z"
   },
   {
    "duration": 4,
    "start_time": "2022-05-17T14:31:27.901Z"
   },
   {
    "duration": 389,
    "start_time": "2022-05-17T14:32:22.022Z"
   },
   {
    "duration": 372,
    "start_time": "2022-05-17T14:32:32.768Z"
   },
   {
    "duration": 275,
    "start_time": "2022-05-17T14:34:48.568Z"
   },
   {
    "duration": 265,
    "start_time": "2022-05-17T14:34:58.343Z"
   },
   {
    "duration": 372,
    "start_time": "2022-05-17T14:35:09.596Z"
   },
   {
    "duration": 277,
    "start_time": "2022-05-17T14:35:37.032Z"
   },
   {
    "duration": 363,
    "start_time": "2022-05-17T14:35:56.342Z"
   },
   {
    "duration": 279,
    "start_time": "2022-05-17T14:36:03.005Z"
   },
   {
    "duration": 275,
    "start_time": "2022-05-17T14:36:09.184Z"
   },
   {
    "duration": 283,
    "start_time": "2022-05-17T14:38:04.717Z"
   },
   {
    "duration": 361,
    "start_time": "2022-05-17T14:38:13.740Z"
   },
   {
    "duration": 293,
    "start_time": "2022-05-17T14:40:21.095Z"
   },
   {
    "duration": 351,
    "start_time": "2022-05-17T14:40:26.867Z"
   },
   {
    "duration": 83,
    "start_time": "2022-05-18T11:41:34.916Z"
   },
   {
    "duration": 61,
    "start_time": "2022-05-18T11:41:35.301Z"
   },
   {
    "duration": 1389,
    "start_time": "2022-05-18T11:41:39.974Z"
   },
   {
    "duration": 196,
    "start_time": "2022-05-18T11:41:41.365Z"
   },
   {
    "duration": 4,
    "start_time": "2022-05-18T11:41:41.563Z"
   },
   {
    "duration": 75,
    "start_time": "2022-05-18T11:41:45.738Z"
   },
   {
    "duration": 3,
    "start_time": "2022-05-18T11:42:10.749Z"
   },
   {
    "duration": 76,
    "start_time": "2022-05-18T11:42:13.510Z"
   }
  ],
  "kernelspec": {
   "display_name": "Python 3 (ipykernel)",
   "language": "python",
   "name": "python3"
  },
  "language_info": {
   "codemirror_mode": {
    "name": "ipython",
    "version": 3
   },
   "file_extension": ".py",
   "mimetype": "text/x-python",
   "name": "python",
   "nbconvert_exporter": "python",
   "pygments_lexer": "ipython3",
   "version": "3.10.2"
  },
  "toc": {
   "base_numbering": 1,
   "nav_menu": {},
   "number_sections": true,
   "sideBar": true,
   "skip_h1_title": true,
   "title_cell": "Table of Contents",
   "title_sidebar": "Contents",
   "toc_cell": false,
   "toc_position": {},
   "toc_section_display": true,
   "toc_window_display": false
  }
 },
 "nbformat": 4,
 "nbformat_minor": 2
}
