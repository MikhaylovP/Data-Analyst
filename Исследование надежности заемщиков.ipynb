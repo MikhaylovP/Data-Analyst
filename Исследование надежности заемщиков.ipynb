{
 "cells": [
  {
   "cell_type": "markdown",
   "id": "e640b671",
   "metadata": {},
   "source": [
    "# Исследование надежности заемщиков."
   ]
  },
  {
   "cell_type": "markdown",
   "id": "eefbaf91",
   "metadata": {},
   "source": [
    "**Описание проекта**\n",
    "\n",
    "Заказчик — кредитный отдел банка. Нужно разобраться, влияет ли семейное положение и количество детей клиента на факт погашения кредита в срок. Входные данные от банка — статистика о платёжеспособности клиентов.\n",
    "\n",
    "Результаты исследования будут учтены при построении модели кредитного скоринга — специальной системы, которая оценивает способность потенциального заёмщика вернуть кредит банку.\n",
    "\n",
    "**Цель исследования** - проверить следующие гипотезы:\n",
    "1.  Существует зависимость между количеством детей и возвратом кредита в срок.\n",
    "2.  Существует зависимость между семейным положением и возвратом кредита в срок.\n",
    "3.  Существует зависимость между уровнем дохода и возвратом кредита в срок.\n",
    "4.  Разные цели кредита влияют на его возврат в срок."
   ]
  },
  {
   "cell_type": "markdown",
   "id": "68f3f02a",
   "metadata": {},
   "source": [
    "## Обзор данных"
   ]
  },
  {
   "cell_type": "code",
   "execution_count": 1,
   "id": "e8470da4",
   "metadata": {},
   "outputs": [],
   "source": [
    "import pandas as pd # импорт библиотеки pandas"
   ]
  },
  {
   "cell_type": "code",
   "execution_count": 8,
   "id": "d5fd69bc",
   "metadata": {},
   "outputs": [],
   "source": [
    "df = pd.read_csv('/datasets/data.csv') # читаем файл и сохраняем его в переменную df"
   ]
  },
  {
   "cell_type": "code",
   "execution_count": 3,
   "id": "f740e476",
   "metadata": {},
   "outputs": [
    {
     "data": {
      "text/html": [
       "<div>\n",
       "<style scoped>\n",
       "    .dataframe tbody tr th:only-of-type {\n",
       "        vertical-align: middle;\n",
       "    }\n",
       "\n",
       "    .dataframe tbody tr th {\n",
       "        vertical-align: top;\n",
       "    }\n",
       "\n",
       "    .dataframe thead th {\n",
       "        text-align: right;\n",
       "    }\n",
       "</style>\n",
       "<table border=\"1\" class=\"dataframe\">\n",
       "  <thead>\n",
       "    <tr style=\"text-align: right;\">\n",
       "      <th></th>\n",
       "      <th>children</th>\n",
       "      <th>days_employed</th>\n",
       "      <th>dob_years</th>\n",
       "      <th>education</th>\n",
       "      <th>education_id</th>\n",
       "      <th>family_status</th>\n",
       "      <th>family_status_id</th>\n",
       "      <th>gender</th>\n",
       "      <th>income_type</th>\n",
       "      <th>debt</th>\n",
       "      <th>total_income</th>\n",
       "      <th>purpose</th>\n",
       "    </tr>\n",
       "  </thead>\n",
       "  <tbody>\n",
       "    <tr>\n",
       "      <td>0</td>\n",
       "      <td>1</td>\n",
       "      <td>-8437.673028</td>\n",
       "      <td>42</td>\n",
       "      <td>высшее</td>\n",
       "      <td>0</td>\n",
       "      <td>женат / замужем</td>\n",
       "      <td>0</td>\n",
       "      <td>F</td>\n",
       "      <td>сотрудник</td>\n",
       "      <td>0</td>\n",
       "      <td>253875.639453</td>\n",
       "      <td>покупка жилья</td>\n",
       "    </tr>\n",
       "    <tr>\n",
       "      <td>1</td>\n",
       "      <td>1</td>\n",
       "      <td>-4024.803754</td>\n",
       "      <td>36</td>\n",
       "      <td>среднее</td>\n",
       "      <td>1</td>\n",
       "      <td>женат / замужем</td>\n",
       "      <td>0</td>\n",
       "      <td>F</td>\n",
       "      <td>сотрудник</td>\n",
       "      <td>0</td>\n",
       "      <td>112080.014102</td>\n",
       "      <td>приобретение автомобиля</td>\n",
       "    </tr>\n",
       "    <tr>\n",
       "      <td>2</td>\n",
       "      <td>0</td>\n",
       "      <td>-5623.422610</td>\n",
       "      <td>33</td>\n",
       "      <td>Среднее</td>\n",
       "      <td>1</td>\n",
       "      <td>женат / замужем</td>\n",
       "      <td>0</td>\n",
       "      <td>M</td>\n",
       "      <td>сотрудник</td>\n",
       "      <td>0</td>\n",
       "      <td>145885.952297</td>\n",
       "      <td>покупка жилья</td>\n",
       "    </tr>\n",
       "    <tr>\n",
       "      <td>3</td>\n",
       "      <td>3</td>\n",
       "      <td>-4124.747207</td>\n",
       "      <td>32</td>\n",
       "      <td>среднее</td>\n",
       "      <td>1</td>\n",
       "      <td>женат / замужем</td>\n",
       "      <td>0</td>\n",
       "      <td>M</td>\n",
       "      <td>сотрудник</td>\n",
       "      <td>0</td>\n",
       "      <td>267628.550329</td>\n",
       "      <td>дополнительное образование</td>\n",
       "    </tr>\n",
       "    <tr>\n",
       "      <td>4</td>\n",
       "      <td>0</td>\n",
       "      <td>340266.072047</td>\n",
       "      <td>53</td>\n",
       "      <td>среднее</td>\n",
       "      <td>1</td>\n",
       "      <td>гражданский брак</td>\n",
       "      <td>1</td>\n",
       "      <td>F</td>\n",
       "      <td>пенсионер</td>\n",
       "      <td>0</td>\n",
       "      <td>158616.077870</td>\n",
       "      <td>сыграть свадьбу</td>\n",
       "    </tr>\n",
       "    <tr>\n",
       "      <td>5</td>\n",
       "      <td>0</td>\n",
       "      <td>-926.185831</td>\n",
       "      <td>27</td>\n",
       "      <td>высшее</td>\n",
       "      <td>0</td>\n",
       "      <td>гражданский брак</td>\n",
       "      <td>1</td>\n",
       "      <td>M</td>\n",
       "      <td>компаньон</td>\n",
       "      <td>0</td>\n",
       "      <td>255763.565419</td>\n",
       "      <td>покупка жилья</td>\n",
       "    </tr>\n",
       "    <tr>\n",
       "      <td>6</td>\n",
       "      <td>0</td>\n",
       "      <td>-2879.202052</td>\n",
       "      <td>43</td>\n",
       "      <td>высшее</td>\n",
       "      <td>0</td>\n",
       "      <td>женат / замужем</td>\n",
       "      <td>0</td>\n",
       "      <td>F</td>\n",
       "      <td>компаньон</td>\n",
       "      <td>0</td>\n",
       "      <td>240525.971920</td>\n",
       "      <td>операции с жильем</td>\n",
       "    </tr>\n",
       "    <tr>\n",
       "      <td>7</td>\n",
       "      <td>0</td>\n",
       "      <td>-152.779569</td>\n",
       "      <td>50</td>\n",
       "      <td>СРЕДНЕЕ</td>\n",
       "      <td>1</td>\n",
       "      <td>женат / замужем</td>\n",
       "      <td>0</td>\n",
       "      <td>M</td>\n",
       "      <td>сотрудник</td>\n",
       "      <td>0</td>\n",
       "      <td>135823.934197</td>\n",
       "      <td>образование</td>\n",
       "    </tr>\n",
       "    <tr>\n",
       "      <td>8</td>\n",
       "      <td>2</td>\n",
       "      <td>-6929.865299</td>\n",
       "      <td>35</td>\n",
       "      <td>ВЫСШЕЕ</td>\n",
       "      <td>0</td>\n",
       "      <td>гражданский брак</td>\n",
       "      <td>1</td>\n",
       "      <td>F</td>\n",
       "      <td>сотрудник</td>\n",
       "      <td>0</td>\n",
       "      <td>95856.832424</td>\n",
       "      <td>на проведение свадьбы</td>\n",
       "    </tr>\n",
       "    <tr>\n",
       "      <td>9</td>\n",
       "      <td>0</td>\n",
       "      <td>-2188.756445</td>\n",
       "      <td>41</td>\n",
       "      <td>среднее</td>\n",
       "      <td>1</td>\n",
       "      <td>женат / замужем</td>\n",
       "      <td>0</td>\n",
       "      <td>M</td>\n",
       "      <td>сотрудник</td>\n",
       "      <td>0</td>\n",
       "      <td>144425.938277</td>\n",
       "      <td>покупка жилья для семьи</td>\n",
       "    </tr>\n",
       "  </tbody>\n",
       "</table>\n",
       "</div>"
      ],
      "text/plain": [
       "   children  days_employed  dob_years education  education_id  \\\n",
       "0         1   -8437.673028         42    высшее             0   \n",
       "1         1   -4024.803754         36   среднее             1   \n",
       "2         0   -5623.422610         33   Среднее             1   \n",
       "3         3   -4124.747207         32   среднее             1   \n",
       "4         0  340266.072047         53   среднее             1   \n",
       "5         0    -926.185831         27    высшее             0   \n",
       "6         0   -2879.202052         43    высшее             0   \n",
       "7         0    -152.779569         50   СРЕДНЕЕ             1   \n",
       "8         2   -6929.865299         35    ВЫСШЕЕ             0   \n",
       "9         0   -2188.756445         41   среднее             1   \n",
       "\n",
       "      family_status  family_status_id gender income_type  debt   total_income  \\\n",
       "0   женат / замужем                 0      F   сотрудник     0  253875.639453   \n",
       "1   женат / замужем                 0      F   сотрудник     0  112080.014102   \n",
       "2   женат / замужем                 0      M   сотрудник     0  145885.952297   \n",
       "3   женат / замужем                 0      M   сотрудник     0  267628.550329   \n",
       "4  гражданский брак                 1      F   пенсионер     0  158616.077870   \n",
       "5  гражданский брак                 1      M   компаньон     0  255763.565419   \n",
       "6   женат / замужем                 0      F   компаньон     0  240525.971920   \n",
       "7   женат / замужем                 0      M   сотрудник     0  135823.934197   \n",
       "8  гражданский брак                 1      F   сотрудник     0   95856.832424   \n",
       "9   женат / замужем                 0      M   сотрудник     0  144425.938277   \n",
       "\n",
       "                      purpose  \n",
       "0               покупка жилья  \n",
       "1     приобретение автомобиля  \n",
       "2               покупка жилья  \n",
       "3  дополнительное образование  \n",
       "4             сыграть свадьбу  \n",
       "5               покупка жилья  \n",
       "6           операции с жильем  \n",
       "7                 образование  \n",
       "8       на проведение свадьбы  \n",
       "9     покупка жилья для семьи  "
      ]
     },
     "execution_count": 3,
     "metadata": {},
     "output_type": "execute_result"
    }
   ],
   "source": [
    "df.head(10) # выведем на экран первые 10 строк таблицы"
   ]
  },
  {
   "cell_type": "code",
   "execution_count": 4,
   "id": "4aea9814",
   "metadata": {},
   "outputs": [
    {
     "name": "stdout",
     "output_type": "stream",
     "text": [
      "<class 'pandas.core.frame.DataFrame'>\n",
      "RangeIndex: 21525 entries, 0 to 21524\n",
      "Data columns (total 12 columns):\n",
      "children            21525 non-null int64\n",
      "days_employed       19351 non-null float64\n",
      "dob_years           21525 non-null int64\n",
      "education           21525 non-null object\n",
      "education_id        21525 non-null int64\n",
      "family_status       21525 non-null object\n",
      "family_status_id    21525 non-null int64\n",
      "gender              21525 non-null object\n",
      "income_type         21525 non-null object\n",
      "debt                21525 non-null int64\n",
      "total_income        19351 non-null float64\n",
      "purpose             21525 non-null object\n",
      "dtypes: float64(2), int64(5), object(5)\n",
      "memory usage: 2.0+ MB\n"
     ]
    }
   ],
   "source": [
    "df.info() # просмотрим основную информацию о таблице"
   ]
  },
  {
   "cell_type": "markdown",
   "id": "a18ebe15",
   "metadata": {},
   "source": [
    "Согласно документации к данным:   \n",
    " \n",
    "* `children` — количество детей в семье, тип данных\n",
    "* `days_employed` — общий трудовой стаж в днях\n",
    "* `dob_years` — возраст клиента в годах\n",
    "* `education` — уровень образования клиента\n",
    "* `education_id` — идентификатор уровня образования\n",
    "* `family_status` — семейное положение\n",
    "* `family_status_id` — идентификатор семейного положения\n",
    "* `gender` — пол клиента\n",
    "* `income_type` — тип занятости\n",
    "* `debt` — имел ли задолженность по возврату кредитов\n",
    "* `total_income` — ежемесячный доход\n",
    "* `purpose` — цель получения кредита\n"
   ]
  },
  {
   "cell_type": "code",
   "execution_count": 5,
   "id": "46ee1479",
   "metadata": {},
   "outputs": [
    {
     "data": {
      "text/html": [
       "<div>\n",
       "<style scoped>\n",
       "    .dataframe tbody tr th:only-of-type {\n",
       "        vertical-align: middle;\n",
       "    }\n",
       "\n",
       "    .dataframe tbody tr th {\n",
       "        vertical-align: top;\n",
       "    }\n",
       "\n",
       "    .dataframe thead th {\n",
       "        text-align: right;\n",
       "    }\n",
       "</style>\n",
       "<table border=\"1\" class=\"dataframe\">\n",
       "  <thead>\n",
       "    <tr style=\"text-align: right;\">\n",
       "      <th></th>\n",
       "      <th>children</th>\n",
       "      <th>days_employed</th>\n",
       "      <th>dob_years</th>\n",
       "      <th>education_id</th>\n",
       "      <th>family_status_id</th>\n",
       "      <th>debt</th>\n",
       "      <th>total_income</th>\n",
       "    </tr>\n",
       "  </thead>\n",
       "  <tbody>\n",
       "    <tr>\n",
       "      <td>count</td>\n",
       "      <td>21525.000000</td>\n",
       "      <td>19351.000000</td>\n",
       "      <td>21525.000000</td>\n",
       "      <td>21525.000000</td>\n",
       "      <td>21525.000000</td>\n",
       "      <td>21525.000000</td>\n",
       "      <td>1.935100e+04</td>\n",
       "    </tr>\n",
       "    <tr>\n",
       "      <td>mean</td>\n",
       "      <td>0.538908</td>\n",
       "      <td>63046.497661</td>\n",
       "      <td>43.293380</td>\n",
       "      <td>0.817236</td>\n",
       "      <td>0.972544</td>\n",
       "      <td>0.080883</td>\n",
       "      <td>1.674223e+05</td>\n",
       "    </tr>\n",
       "    <tr>\n",
       "      <td>std</td>\n",
       "      <td>1.381587</td>\n",
       "      <td>140827.311974</td>\n",
       "      <td>12.574584</td>\n",
       "      <td>0.548138</td>\n",
       "      <td>1.420324</td>\n",
       "      <td>0.272661</td>\n",
       "      <td>1.029716e+05</td>\n",
       "    </tr>\n",
       "    <tr>\n",
       "      <td>min</td>\n",
       "      <td>-1.000000</td>\n",
       "      <td>-18388.949901</td>\n",
       "      <td>0.000000</td>\n",
       "      <td>0.000000</td>\n",
       "      <td>0.000000</td>\n",
       "      <td>0.000000</td>\n",
       "      <td>2.066726e+04</td>\n",
       "    </tr>\n",
       "    <tr>\n",
       "      <td>25%</td>\n",
       "      <td>0.000000</td>\n",
       "      <td>-2747.423625</td>\n",
       "      <td>33.000000</td>\n",
       "      <td>1.000000</td>\n",
       "      <td>0.000000</td>\n",
       "      <td>0.000000</td>\n",
       "      <td>1.030532e+05</td>\n",
       "    </tr>\n",
       "    <tr>\n",
       "      <td>50%</td>\n",
       "      <td>0.000000</td>\n",
       "      <td>-1203.369529</td>\n",
       "      <td>42.000000</td>\n",
       "      <td>1.000000</td>\n",
       "      <td>0.000000</td>\n",
       "      <td>0.000000</td>\n",
       "      <td>1.450179e+05</td>\n",
       "    </tr>\n",
       "    <tr>\n",
       "      <td>75%</td>\n",
       "      <td>1.000000</td>\n",
       "      <td>-291.095954</td>\n",
       "      <td>53.000000</td>\n",
       "      <td>1.000000</td>\n",
       "      <td>1.000000</td>\n",
       "      <td>0.000000</td>\n",
       "      <td>2.034351e+05</td>\n",
       "    </tr>\n",
       "    <tr>\n",
       "      <td>max</td>\n",
       "      <td>20.000000</td>\n",
       "      <td>401755.400475</td>\n",
       "      <td>75.000000</td>\n",
       "      <td>4.000000</td>\n",
       "      <td>4.000000</td>\n",
       "      <td>1.000000</td>\n",
       "      <td>2.265604e+06</td>\n",
       "    </tr>\n",
       "  </tbody>\n",
       "</table>\n",
       "</div>"
      ],
      "text/plain": [
       "           children  days_employed     dob_years  education_id  \\\n",
       "count  21525.000000   19351.000000  21525.000000  21525.000000   \n",
       "mean       0.538908   63046.497661     43.293380      0.817236   \n",
       "std        1.381587  140827.311974     12.574584      0.548138   \n",
       "min       -1.000000  -18388.949901      0.000000      0.000000   \n",
       "25%        0.000000   -2747.423625     33.000000      1.000000   \n",
       "50%        0.000000   -1203.369529     42.000000      1.000000   \n",
       "75%        1.000000    -291.095954     53.000000      1.000000   \n",
       "max       20.000000  401755.400475     75.000000      4.000000   \n",
       "\n",
       "       family_status_id          debt  total_income  \n",
       "count      21525.000000  21525.000000  1.935100e+04  \n",
       "mean           0.972544      0.080883  1.674223e+05  \n",
       "std            1.420324      0.272661  1.029716e+05  \n",
       "min            0.000000      0.000000  2.066726e+04  \n",
       "25%            0.000000      0.000000  1.030532e+05  \n",
       "50%            0.000000      0.000000  1.450179e+05  \n",
       "75%            1.000000      0.000000  2.034351e+05  \n",
       "max            4.000000      1.000000  2.265604e+06  "
      ]
     },
     "execution_count": 5,
     "metadata": {},
     "output_type": "execute_result"
    }
   ],
   "source": [
    "df.describe() # просмотрим описательную статистику таблицы"
   ]
  },
  {
   "cell_type": "markdown",
   "id": "4fa9df9e",
   "metadata": {},
   "source": [
    "**Выводы**\n",
    "\n",
    "В каждой строке таблицы - информация о клиенте. Предварительно можно утверждать, что данных достаточно для проверки гипотез. Однако в данных были обнаружены следующие проблемы:\n",
    "* отрицательные значения в столбцах 'children' и 'days_employed'\n",
    "* пропуски в столбцах 'days_employed' и 'total_income'\n",
    "* максимальное количество детей - 20, что возможно, но маловероятно\n",
    "* минимальный возраст - 0\n",
    "* столбы 'education' и 'family_status' излишни, так как их значения, по сути, дублируются в столбцах 'education_id' и 'family_status_id'\n",
    "* в столбце 'education' постоянно меняется регистр\n",
    "\n",
    "Чтобы двигаться дальше, необходимо устранить эти проблемы."
   ]
  },
  {
   "cell_type": "markdown",
   "id": "a51a09fa",
   "metadata": {},
   "source": [
    "## Предобработка данных"
   ]
  },
  {
   "cell_type": "markdown",
   "id": "d6309581",
   "metadata": {},
   "source": [
    "### Заполнение пропусков"
   ]
  },
  {
   "cell_type": "code",
   "execution_count": 6,
   "id": "23681963",
   "metadata": {},
   "outputs": [
    {
     "data": {
      "text/plain": [
       "children               0\n",
       "days_employed       2174\n",
       "dob_years              0\n",
       "education              0\n",
       "education_id           0\n",
       "family_status          0\n",
       "family_status_id       0\n",
       "gender                 0\n",
       "income_type            0\n",
       "debt                   0\n",
       "total_income        2174\n",
       "purpose                0\n",
       "dtype: int64"
      ]
     },
     "execution_count": 6,
     "metadata": {},
     "output_type": "execute_result"
    }
   ],
   "source": [
    "df.isna().sum() # подсчитаем суммарное количество пропусков"
   ]
  },
  {
   "cell_type": "markdown",
   "id": "123f7955",
   "metadata": {},
   "source": [
    "Видим одинаковое количество пропусков в днях работы и в доходе. Доля пропусков составляет более 10%, что довольно много, удалять эти данные нельзя. Причины пропусков может быть две:\n",
    "1. Эти люди никогда не работали официально или еще молоды (студенты);\n",
    "2. Ошибки при сборе и/или выгрузке данных.\n",
    "\n",
    "В завимости от причины действия с этими данными будут отличаться.\n",
    "В большинстве случаев банки неохотно выдают кредиты тем, у кого нет официального дохода, однако есть специальные банки, которые выдают кредиты и в таких случаях. Проверим, наш ли этой случай."
   ]
  },
  {
   "cell_type": "code",
   "execution_count": 7,
   "id": "e9f75290",
   "metadata": {},
   "outputs": [
    {
     "data": {
      "text/plain": [
       "сотрудник          11119\n",
       "компаньон           5085\n",
       "пенсионер           3856\n",
       "госслужащий         1459\n",
       "безработный            2\n",
       "предприниматель        2\n",
       "в декрете              1\n",
       "студент                1\n",
       "Name: income_type, dtype: int64"
      ]
     },
     "execution_count": 7,
     "metadata": {},
     "output_type": "execute_result"
    }
   ],
   "source": [
    "df['income_type'].value_counts() # выведем все виды дохода"
   ]
  },
  {
   "cell_type": "markdown",
   "id": "ddb07bc0",
   "metadata": {},
   "source": [
    "Как мы видим, в списке встречаются студенты и безработные, однако их количество крайне невелико. Посмотрим, какой вид дохода у людей, у которых информация о доходе и днях работы отсутствует."
   ]
  },
  {
   "cell_type": "code",
   "execution_count": 8,
   "id": "6d6d40d0",
   "metadata": {},
   "outputs": [
    {
     "data": {
      "text/html": [
       "<div>\n",
       "<style scoped>\n",
       "    .dataframe tbody tr th:only-of-type {\n",
       "        vertical-align: middle;\n",
       "    }\n",
       "\n",
       "    .dataframe tbody tr th {\n",
       "        vertical-align: top;\n",
       "    }\n",
       "\n",
       "    .dataframe thead th {\n",
       "        text-align: right;\n",
       "    }\n",
       "</style>\n",
       "<table border=\"1\" class=\"dataframe\">\n",
       "  <thead>\n",
       "    <tr style=\"text-align: right;\">\n",
       "      <th></th>\n",
       "      <th>children</th>\n",
       "      <th>days_employed</th>\n",
       "      <th>dob_years</th>\n",
       "      <th>education</th>\n",
       "      <th>education_id</th>\n",
       "      <th>family_status</th>\n",
       "      <th>family_status_id</th>\n",
       "      <th>gender</th>\n",
       "      <th>income_type</th>\n",
       "      <th>debt</th>\n",
       "      <th>total_income</th>\n",
       "      <th>purpose</th>\n",
       "    </tr>\n",
       "  </thead>\n",
       "  <tbody>\n",
       "    <tr>\n",
       "      <td>12</td>\n",
       "      <td>0</td>\n",
       "      <td>NaN</td>\n",
       "      <td>65</td>\n",
       "      <td>среднее</td>\n",
       "      <td>1</td>\n",
       "      <td>гражданский брак</td>\n",
       "      <td>1</td>\n",
       "      <td>M</td>\n",
       "      <td>пенсионер</td>\n",
       "      <td>0</td>\n",
       "      <td>NaN</td>\n",
       "      <td>сыграть свадьбу</td>\n",
       "    </tr>\n",
       "    <tr>\n",
       "      <td>26</td>\n",
       "      <td>0</td>\n",
       "      <td>NaN</td>\n",
       "      <td>41</td>\n",
       "      <td>среднее</td>\n",
       "      <td>1</td>\n",
       "      <td>женат / замужем</td>\n",
       "      <td>0</td>\n",
       "      <td>M</td>\n",
       "      <td>госслужащий</td>\n",
       "      <td>0</td>\n",
       "      <td>NaN</td>\n",
       "      <td>образование</td>\n",
       "    </tr>\n",
       "    <tr>\n",
       "      <td>29</td>\n",
       "      <td>0</td>\n",
       "      <td>NaN</td>\n",
       "      <td>63</td>\n",
       "      <td>среднее</td>\n",
       "      <td>1</td>\n",
       "      <td>Не женат / не замужем</td>\n",
       "      <td>4</td>\n",
       "      <td>F</td>\n",
       "      <td>пенсионер</td>\n",
       "      <td>0</td>\n",
       "      <td>NaN</td>\n",
       "      <td>строительство жилой недвижимости</td>\n",
       "    </tr>\n",
       "    <tr>\n",
       "      <td>41</td>\n",
       "      <td>0</td>\n",
       "      <td>NaN</td>\n",
       "      <td>50</td>\n",
       "      <td>среднее</td>\n",
       "      <td>1</td>\n",
       "      <td>женат / замужем</td>\n",
       "      <td>0</td>\n",
       "      <td>F</td>\n",
       "      <td>госслужащий</td>\n",
       "      <td>0</td>\n",
       "      <td>NaN</td>\n",
       "      <td>сделка с подержанным автомобилем</td>\n",
       "    </tr>\n",
       "    <tr>\n",
       "      <td>55</td>\n",
       "      <td>0</td>\n",
       "      <td>NaN</td>\n",
       "      <td>54</td>\n",
       "      <td>среднее</td>\n",
       "      <td>1</td>\n",
       "      <td>гражданский брак</td>\n",
       "      <td>1</td>\n",
       "      <td>F</td>\n",
       "      <td>пенсионер</td>\n",
       "      <td>1</td>\n",
       "      <td>NaN</td>\n",
       "      <td>сыграть свадьбу</td>\n",
       "    </tr>\n",
       "    <tr>\n",
       "      <td>65</td>\n",
       "      <td>0</td>\n",
       "      <td>NaN</td>\n",
       "      <td>21</td>\n",
       "      <td>среднее</td>\n",
       "      <td>1</td>\n",
       "      <td>Не женат / не замужем</td>\n",
       "      <td>4</td>\n",
       "      <td>M</td>\n",
       "      <td>компаньон</td>\n",
       "      <td>0</td>\n",
       "      <td>NaN</td>\n",
       "      <td>операции с коммерческой недвижимостью</td>\n",
       "    </tr>\n",
       "    <tr>\n",
       "      <td>67</td>\n",
       "      <td>0</td>\n",
       "      <td>NaN</td>\n",
       "      <td>52</td>\n",
       "      <td>высшее</td>\n",
       "      <td>0</td>\n",
       "      <td>женат / замужем</td>\n",
       "      <td>0</td>\n",
       "      <td>F</td>\n",
       "      <td>пенсионер</td>\n",
       "      <td>0</td>\n",
       "      <td>NaN</td>\n",
       "      <td>покупка жилья для семьи</td>\n",
       "    </tr>\n",
       "    <tr>\n",
       "      <td>72</td>\n",
       "      <td>1</td>\n",
       "      <td>NaN</td>\n",
       "      <td>32</td>\n",
       "      <td>высшее</td>\n",
       "      <td>0</td>\n",
       "      <td>женат / замужем</td>\n",
       "      <td>0</td>\n",
       "      <td>M</td>\n",
       "      <td>госслужащий</td>\n",
       "      <td>0</td>\n",
       "      <td>NaN</td>\n",
       "      <td>операции с коммерческой недвижимостью</td>\n",
       "    </tr>\n",
       "    <tr>\n",
       "      <td>82</td>\n",
       "      <td>2</td>\n",
       "      <td>NaN</td>\n",
       "      <td>50</td>\n",
       "      <td>высшее</td>\n",
       "      <td>0</td>\n",
       "      <td>женат / замужем</td>\n",
       "      <td>0</td>\n",
       "      <td>F</td>\n",
       "      <td>сотрудник</td>\n",
       "      <td>0</td>\n",
       "      <td>NaN</td>\n",
       "      <td>жилье</td>\n",
       "    </tr>\n",
       "    <tr>\n",
       "      <td>83</td>\n",
       "      <td>0</td>\n",
       "      <td>NaN</td>\n",
       "      <td>52</td>\n",
       "      <td>среднее</td>\n",
       "      <td>1</td>\n",
       "      <td>женат / замужем</td>\n",
       "      <td>0</td>\n",
       "      <td>M</td>\n",
       "      <td>сотрудник</td>\n",
       "      <td>0</td>\n",
       "      <td>NaN</td>\n",
       "      <td>жилье</td>\n",
       "    </tr>\n",
       "  </tbody>\n",
       "</table>\n",
       "</div>"
      ],
      "text/plain": [
       "    children  days_employed  dob_years education  education_id  \\\n",
       "12         0            NaN         65   среднее             1   \n",
       "26         0            NaN         41   среднее             1   \n",
       "29         0            NaN         63   среднее             1   \n",
       "41         0            NaN         50   среднее             1   \n",
       "55         0            NaN         54   среднее             1   \n",
       "65         0            NaN         21   среднее             1   \n",
       "67         0            NaN         52    высшее             0   \n",
       "72         1            NaN         32    высшее             0   \n",
       "82         2            NaN         50    высшее             0   \n",
       "83         0            NaN         52   среднее             1   \n",
       "\n",
       "            family_status  family_status_id gender  income_type  debt  \\\n",
       "12       гражданский брак                 1      M    пенсионер     0   \n",
       "26        женат / замужем                 0      M  госслужащий     0   \n",
       "29  Не женат / не замужем                 4      F    пенсионер     0   \n",
       "41        женат / замужем                 0      F  госслужащий     0   \n",
       "55       гражданский брак                 1      F    пенсионер     1   \n",
       "65  Не женат / не замужем                 4      M    компаньон     0   \n",
       "67        женат / замужем                 0      F    пенсионер     0   \n",
       "72        женат / замужем                 0      M  госслужащий     0   \n",
       "82        женат / замужем                 0      F    сотрудник     0   \n",
       "83        женат / замужем                 0      M    сотрудник     0   \n",
       "\n",
       "    total_income                                purpose  \n",
       "12           NaN                        сыграть свадьбу  \n",
       "26           NaN                            образование  \n",
       "29           NaN       строительство жилой недвижимости  \n",
       "41           NaN       сделка с подержанным автомобилем  \n",
       "55           NaN                        сыграть свадьбу  \n",
       "65           NaN  операции с коммерческой недвижимостью  \n",
       "67           NaN                покупка жилья для семьи  \n",
       "72           NaN  операции с коммерческой недвижимостью  \n",
       "82           NaN                                  жилье  \n",
       "83           NaN                                  жилье  "
      ]
     },
     "execution_count": 8,
     "metadata": {},
     "output_type": "execute_result"
    }
   ],
   "source": [
    "df[df['days_employed'].isna()].head(10) # выведем первые 10 строк с пропусками"
   ]
  },
  {
   "cell_type": "markdown",
   "id": "19df5d44",
   "metadata": {},
   "source": [
    "Беглого взгляда на данные достаточно, чтобы исключить первую причину: в графе \"вид доходов\" очень часто встречаются \"пенсионер\" и \"госслужащий\", которые явно имеют официальный доход. Следовательно, причина пропусков - ошбки при сборе и/или выгрузке данных. Заполним эти пропуски медианными значениями."
   ]
  },
  {
   "cell_type": "code",
   "execution_count": 18,
   "id": "54c56bf0",
   "metadata": {},
   "outputs": [
    {
     "data": {
      "text/plain": [
       "income_type\n",
       "предприниматель    499163.144947\n",
       "компаньон          172357.950966\n",
       "госслужащий        150447.935283\n",
       "сотрудник          142594.396847\n",
       "безработный        131339.751676\n",
       "пенсионер          118514.486412\n",
       "студент             98201.625314\n",
       "в декрете           53829.130729\n",
       "Name: total_income, dtype: float64"
      ]
     },
     "execution_count": 18,
     "metadata": {},
     "output_type": "execute_result"
    }
   ],
   "source": [
    "income_type_median = df.groupby('income_type')['total_income'].median().sort_values(ascending=False)\n",
    "# расчитаем медиану для каждого источника дохода\n",
    "income_type_median"
   ]
  },
  {
   "cell_type": "code",
   "execution_count": 19,
   "id": "a27990a5",
   "metadata": {},
   "outputs": [],
   "source": [
    "for i in income_type_median.keys(): # заполним пропуски медианным значением\n",
    "    df.loc[df['income_type']==i, 'total_income'] = df.loc[df['income_type']==i, 'total_income'].fillna(income_type_median[i])"
   ]
  },
  {
   "cell_type": "markdown",
   "id": "a93c66f4",
   "metadata": {},
   "source": [
    "Аналогично для стажа работы:"
   ]
  },
  {
   "cell_type": "code",
   "execution_count": 10,
   "id": "4a0d35ea",
   "metadata": {},
   "outputs": [],
   "source": [
    "days_employed_median = df.groupby('income_type')['days_employed'].median()\n",
    "# расчитаем медиану для каждого источника дохода\n",
    "\n",
    "for i in days_employed_median.keys(): # заполним пропуски медианным значением\n",
    "    df.loc[df['income_type']==i, 'days_employed'] = df.loc[df['income_type']==i, 'days_employed'].fillna(days_employed_median[i])"
   ]
  },
  {
   "cell_type": "code",
   "execution_count": 12,
   "id": "466a7257",
   "metadata": {
    "collapsed": true
   },
   "outputs": [
    {
     "data": {
      "text/plain": [
       "children            0\n",
       "days_employed       0\n",
       "dob_years           0\n",
       "education           0\n",
       "education_id        0\n",
       "family_status       0\n",
       "family_status_id    0\n",
       "gender              0\n",
       "income_type         0\n",
       "debt                0\n",
       "total_income        0\n",
       "purpose             0\n",
       "dtype: int64"
      ]
     },
     "execution_count": 12,
     "metadata": {},
     "output_type": "execute_result"
    }
   ],
   "source": [
    "df.isna().sum() # удостоверимся, что пропусков в данных не осталось"
   ]
  },
  {
   "cell_type": "markdown",
   "id": "89cc3095",
   "metadata": {},
   "source": [
    "### Удаление дубликатов"
   ]
  },
  {
   "cell_type": "markdown",
   "id": "841c0fb4",
   "metadata": {},
   "source": [
    "При обзоре данных были обнаружены неявные дубликаты в столбце 'education'. Удалим их."
   ]
  },
  {
   "cell_type": "code",
   "execution_count": 13,
   "id": "b88243c5",
   "metadata": {},
   "outputs": [
    {
     "data": {
      "text/plain": [
       "array(['высшее', 'среднее', 'Среднее', 'СРЕДНЕЕ', 'ВЫСШЕЕ',\n",
       "       'неоконченное высшее', 'начальное', 'Высшее',\n",
       "       'НЕОКОНЧЕННОЕ ВЫСШЕЕ', 'Неоконченное высшее', 'НАЧАЛЬНОЕ',\n",
       "       'Начальное', 'Ученая степень', 'УЧЕНАЯ СТЕПЕНЬ', 'ученая степень'],\n",
       "      dtype=object)"
      ]
     },
     "execution_count": 13,
     "metadata": {},
     "output_type": "execute_result"
    }
   ],
   "source": [
    "df['education'].unique() # посмотрим уникальные значения столбца 'education'"
   ]
  },
  {
   "cell_type": "code",
   "execution_count": 14,
   "id": "5683ed34",
   "metadata": {},
   "outputs": [],
   "source": [
    "df['education'] = df['education'].str.lower() # приведем все значения к нижнему регистру"
   ]
  },
  {
   "cell_type": "code",
   "execution_count": 15,
   "id": "a2b23191",
   "metadata": {},
   "outputs": [
    {
     "data": {
      "text/plain": [
       "array(['высшее', 'среднее', 'неоконченное высшее', 'начальное',\n",
       "       'ученая степень'], dtype=object)"
      ]
     },
     "execution_count": 15,
     "metadata": {},
     "output_type": "execute_result"
    }
   ],
   "source": [
    "df['education'].unique() # проверим отсутствие неявных дублей"
   ]
  },
  {
   "cell_type": "markdown",
   "id": "ec8a2bd3",
   "metadata": {},
   "source": [
    "Теперь удалим явные дубликаты."
   ]
  },
  {
   "cell_type": "code",
   "execution_count": 16,
   "id": "2026af8c",
   "metadata": {},
   "outputs": [
    {
     "data": {
      "text/plain": [
       "71"
      ]
     },
     "execution_count": 16,
     "metadata": {},
     "output_type": "execute_result"
    }
   ],
   "source": [
    "df.duplicated().sum() # подсчет количества дубликатов"
   ]
  },
  {
   "cell_type": "code",
   "execution_count": 17,
   "id": "170600f1",
   "metadata": {},
   "outputs": [],
   "source": [
    "df = df.drop_duplicates().reset_index(drop = True) # удаляем дубликаты, сбрасывая индекс"
   ]
  },
  {
   "cell_type": "code",
   "execution_count": 18,
   "id": "c10a489c",
   "metadata": {},
   "outputs": [
    {
     "data": {
      "text/plain": [
       "0"
      ]
     },
     "execution_count": 18,
     "metadata": {},
     "output_type": "execute_result"
    }
   ],
   "source": [
    "df.duplicated().sum() # проверка на отсутствие дубликатов"
   ]
  },
  {
   "cell_type": "markdown",
   "id": "5c3990e2",
   "metadata": {},
   "source": [
    "### Проверка данных на аномалии и исправления"
   ]
  },
  {
   "cell_type": "markdown",
   "id": "bd798647",
   "metadata": {},
   "source": [
    "Рассмотрим каждый столбец в отдельности и поищем аномалии."
   ]
  },
  {
   "cell_type": "code",
   "execution_count": 19,
   "id": "37e3865c",
   "metadata": {},
   "outputs": [
    {
     "data": {
      "text/plain": [
       "array([ 1,  0,  3,  2, -1,  4, 20,  5])"
      ]
     },
     "execution_count": 19,
     "metadata": {},
     "output_type": "execute_result"
    }
   ],
   "source": [
    "df['children'].unique() # проверим количество детей"
   ]
  },
  {
   "cell_type": "markdown",
   "id": "c362234c",
   "metadata": {},
   "source": [
    "Видим две странности: значения -1 и 20. Посмотрим, сколько таких значений."
   ]
  },
  {
   "cell_type": "code",
   "execution_count": 20,
   "id": "98c57413",
   "metadata": {},
   "outputs": [
    {
     "data": {
      "text/plain": [
       "47"
      ]
     },
     "execution_count": 20,
     "metadata": {},
     "output_type": "execute_result"
    }
   ],
   "source": [
    "df[df['children'] == -1]['children'].count() # считаем количество значений -1"
   ]
  },
  {
   "cell_type": "markdown",
   "id": "cffe2b9f",
   "metadata": {},
   "source": [
    "Это значение явно является ошибкой. Заменим -1 на 1."
   ]
  },
  {
   "cell_type": "code",
   "execution_count": 21,
   "id": "caab9168",
   "metadata": {},
   "outputs": [],
   "source": [
    "df['children'] = df['children'].replace(-1, 1) # производим замену"
   ]
  },
  {
   "cell_type": "code",
   "execution_count": 22,
   "id": "03b2f3a1",
   "metadata": {},
   "outputs": [
    {
     "data": {
      "text/plain": [
       "0"
      ]
     },
     "execution_count": 22,
     "metadata": {},
     "output_type": "execute_result"
    }
   ],
   "source": [
    "df[df['children'] == -1]['children'].count() # проверим, сработала ли замена"
   ]
  },
  {
   "cell_type": "markdown",
   "id": "a964991c",
   "metadata": {},
   "source": [
    "С отрицательным значениями разобрались, приступим к владельцам 20 детей."
   ]
  },
  {
   "cell_type": "code",
   "execution_count": 23,
   "id": "e5032545",
   "metadata": {},
   "outputs": [
    {
     "data": {
      "text/plain": [
       "76"
      ]
     },
     "execution_count": 23,
     "metadata": {},
     "output_type": "execute_result"
    }
   ],
   "source": [
    "df[df['children'] == 20]['children'].count() # считаем количество значений 20"
   ]
  },
  {
   "cell_type": "markdown",
   "id": "89ddaf1f",
   "metadata": {},
   "source": [
    "Значение немалое, однако, возможно, наш банк выдает какие-то крайне выгодные кредиты семьям с 20 детьми? Сгруппируем по возрасту и проверим."
   ]
  },
  {
   "cell_type": "code",
   "execution_count": 24,
   "id": "22e15376",
   "metadata": {},
   "outputs": [
    {
     "data": {
      "text/plain": [
       "dob_years\n",
       "0     1\n",
       "21    1\n",
       "23    1\n",
       "24    1\n",
       "25    1\n",
       "26    1\n",
       "27    2\n",
       "29    2\n",
       "30    3\n",
       "31    2\n",
       "32    2\n",
       "33    2\n",
       "34    3\n",
       "35    2\n",
       "36    2\n",
       "37    4\n",
       "38    1\n",
       "39    1\n",
       "40    4\n",
       "41    2\n",
       "42    3\n",
       "43    2\n",
       "44    2\n",
       "45    3\n",
       "46    3\n",
       "48    1\n",
       "49    3\n",
       "50    3\n",
       "51    1\n",
       "52    1\n",
       "53    1\n",
       "54    1\n",
       "55    1\n",
       "56    5\n",
       "57    1\n",
       "59    2\n",
       "60    1\n",
       "61    1\n",
       "62    1\n",
       "64    1\n",
       "69    1\n",
       "Name: dob_years, dtype: int64"
      ]
     },
     "execution_count": 24,
     "metadata": {},
     "output_type": "execute_result"
    }
   ],
   "source": [
    "df[df['children'] == 20].groupby('dob_years')['dob_years'].count()"
   ]
  },
  {
   "cell_type": "markdown",
   "id": "7ca7ca51",
   "metadata": {},
   "source": [
    "Если бы значения были от 40 лет, можно было бы преположить, что наше предположение верно, однако в нашей ситуации считаем эти данные некорректными и заменим значение на 2."
   ]
  },
  {
   "cell_type": "code",
   "execution_count": 25,
   "id": "eedbc5cd",
   "metadata": {},
   "outputs": [],
   "source": [
    "df['children'] = df['children'].replace(20, 2) # производим замену"
   ]
  },
  {
   "cell_type": "code",
   "execution_count": 26,
   "id": "cd260339",
   "metadata": {},
   "outputs": [
    {
     "data": {
      "text/plain": [
       "array([1, 0, 3, 2, 4, 5])"
      ]
     },
     "execution_count": 26,
     "metadata": {},
     "output_type": "execute_result"
    }
   ],
   "source": [
    "df['children'].unique() # проверим результат замен"
   ]
  },
  {
   "cell_type": "markdown",
   "id": "b6c9a302",
   "metadata": {},
   "source": [
    "С детьми разобрались, приступим к стажу работы."
   ]
  },
  {
   "cell_type": "code",
   "execution_count": 27,
   "id": "5fcafac5",
   "metadata": {},
   "outputs": [
    {
     "data": {
      "text/plain": [
       "count     21454.000000\n",
       "mean      63304.511872\n",
       "std      140947.072148\n",
       "min      -18388.949901\n",
       "25%       -2575.665602\n",
       "50%       -1354.642207\n",
       "75%        -317.312251\n",
       "max      401755.400475\n",
       "Name: days_employed, dtype: float64"
      ]
     },
     "execution_count": 27,
     "metadata": {},
     "output_type": "execute_result"
    }
   ],
   "source": [
    "df['days_employed'].describe() # проверим стаж работы"
   ]
  },
  {
   "cell_type": "markdown",
   "id": "209860b4",
   "metadata": {},
   "source": [
    "Сразу видим несколько проблем: \n",
    "1. Отрицательные значения;\n",
    "2. Крайне высокое максимальное значение; \n",
    "3. Значения в вещественных числах, а не в целых.\n",
    "\n",
    "Разберемся с отрицательными значениями."
   ]
  },
  {
   "cell_type": "code",
   "execution_count": 28,
   "id": "e8d35e78",
   "metadata": {},
   "outputs": [],
   "source": [
    "df['days_employed'] = df['days_employed'].abs() # берем значения по модулю"
   ]
  },
  {
   "cell_type": "code",
   "execution_count": 29,
   "id": "117a8630",
   "metadata": {},
   "outputs": [
    {
     "data": {
      "text/plain": [
       "count     21454.000000\n",
       "mean      67059.260281\n",
       "std      139199.752746\n",
       "min          24.141633\n",
       "25%        1023.662702\n",
       "50%        1996.223132\n",
       "75%        5320.665263\n",
       "max      401755.400475\n",
       "Name: days_employed, dtype: float64"
      ]
     },
     "execution_count": 29,
     "metadata": {},
     "output_type": "execute_result"
    }
   ],
   "source": [
    "df['days_employed'].describe() # убедимся, что замена значений сработала"
   ]
  },
  {
   "cell_type": "markdown",
   "id": "07c97dfd",
   "metadata": {},
   "source": [
    "От отрицательных значений избавились. С этими данными можно еще много поработать: разобраться в причине такого высокого максимального значения, перевести дни в месяцы или годы, так как с ними удобнее работать. Однако в данном ислледовании нет необходимости этим заниматься, так как задачи \"Выяснить, есть ли зависимость между стажем работы и возвратом кредита в срок\" не стоит, потому пока что оставим эти данные так, как есть."
   ]
  },
  {
   "cell_type": "code",
   "execution_count": 30,
   "id": "d1671ef2",
   "metadata": {},
   "outputs": [
    {
     "data": {
      "text/plain": [
       "[0,\n",
       " 19,\n",
       " 20,\n",
       " 21,\n",
       " 22,\n",
       " 23,\n",
       " 24,\n",
       " 25,\n",
       " 26,\n",
       " 27,\n",
       " 28,\n",
       " 29,\n",
       " 30,\n",
       " 31,\n",
       " 32,\n",
       " 33,\n",
       " 34,\n",
       " 35,\n",
       " 36,\n",
       " 37,\n",
       " 38,\n",
       " 39,\n",
       " 40,\n",
       " 41,\n",
       " 42,\n",
       " 43,\n",
       " 44,\n",
       " 45,\n",
       " 46,\n",
       " 47,\n",
       " 48,\n",
       " 49,\n",
       " 50,\n",
       " 51,\n",
       " 52,\n",
       " 53,\n",
       " 54,\n",
       " 55,\n",
       " 56,\n",
       " 57,\n",
       " 58,\n",
       " 59,\n",
       " 60,\n",
       " 61,\n",
       " 62,\n",
       " 63,\n",
       " 64,\n",
       " 65,\n",
       " 66,\n",
       " 67,\n",
       " 68,\n",
       " 69,\n",
       " 70,\n",
       " 71,\n",
       " 72,\n",
       " 73,\n",
       " 74,\n",
       " 75]"
      ]
     },
     "execution_count": 30,
     "metadata": {},
     "output_type": "execute_result"
    }
   ],
   "source": [
    "sorted(df['dob_years'].unique()) # посмотрим, какие возраста представлены в выборке"
   ]
  },
  {
   "cell_type": "markdown",
   "id": "f9718a1b",
   "metadata": {},
   "source": [
    "Значение возраста \"0\" явно выглядит как аномалия, заменим на медиану."
   ]
  },
  {
   "cell_type": "code",
   "execution_count": 31,
   "id": "1f3ca66f",
   "metadata": {},
   "outputs": [],
   "source": [
    "df['dob_years'] = df['dob_years'].replace(0,  int(df['dob_years'].median()))\n",
    "#заменяем все значения, равные нулю, на медиану"
   ]
  },
  {
   "cell_type": "code",
   "execution_count": 32,
   "id": "121d409b",
   "metadata": {},
   "outputs": [
    {
     "data": {
      "text/plain": [
       "[19,\n",
       " 20,\n",
       " 21,\n",
       " 22,\n",
       " 23,\n",
       " 24,\n",
       " 25,\n",
       " 26,\n",
       " 27,\n",
       " 28,\n",
       " 29,\n",
       " 30,\n",
       " 31,\n",
       " 32,\n",
       " 33,\n",
       " 34,\n",
       " 35,\n",
       " 36,\n",
       " 37,\n",
       " 38,\n",
       " 39,\n",
       " 40,\n",
       " 41,\n",
       " 42,\n",
       " 43,\n",
       " 44,\n",
       " 45,\n",
       " 46,\n",
       " 47,\n",
       " 48,\n",
       " 49,\n",
       " 50,\n",
       " 51,\n",
       " 52,\n",
       " 53,\n",
       " 54,\n",
       " 55,\n",
       " 56,\n",
       " 57,\n",
       " 58,\n",
       " 59,\n",
       " 60,\n",
       " 61,\n",
       " 62,\n",
       " 63,\n",
       " 64,\n",
       " 65,\n",
       " 66,\n",
       " 67,\n",
       " 68,\n",
       " 69,\n",
       " 70,\n",
       " 71,\n",
       " 72,\n",
       " 73,\n",
       " 74,\n",
       " 75]"
      ]
     },
     "execution_count": 32,
     "metadata": {},
     "output_type": "execute_result"
    }
   ],
   "source": [
    "sorted(df['dob_years'].unique()) # проверим возраста"
   ]
  },
  {
   "cell_type": "markdown",
   "id": "c99dbfef",
   "metadata": {},
   "source": [
    "Аномалии в значениях возраста обработаны."
   ]
  },
  {
   "cell_type": "code",
   "execution_count": 33,
   "id": "a1cb1200",
   "metadata": {},
   "outputs": [
    {
     "data": {
      "text/plain": [
       "array(['женат / замужем', 'гражданский брак', 'вдовец / вдова',\n",
       "       'в разводе', 'Не женат / не замужем'], dtype=object)"
      ]
     },
     "execution_count": 33,
     "metadata": {},
     "output_type": "execute_result"
    }
   ],
   "source": [
    "df['family_status'].unique() # посмотрим значения семейного статуса"
   ]
  },
  {
   "cell_type": "markdown",
   "id": "1aa4ce8e",
   "metadata": {},
   "source": [
    "С семейным статусом проблем нет."
   ]
  },
  {
   "cell_type": "code",
   "execution_count": 34,
   "id": "6f11b3e1",
   "metadata": {},
   "outputs": [
    {
     "data": {
      "text/plain": [
       "array(['F', 'M', 'XNA'], dtype=object)"
      ]
     },
     "execution_count": 34,
     "metadata": {},
     "output_type": "execute_result"
    }
   ],
   "source": [
    "df['gender'].unique() # посмотрим значения пола"
   ]
  },
  {
   "cell_type": "markdown",
   "id": "2072338d",
   "metadata": {},
   "source": [
    "Видим странное значение 'XNA'. Выведем строки, в которых указан этот пол."
   ]
  },
  {
   "cell_type": "code",
   "execution_count": 35,
   "id": "0aa6c18d",
   "metadata": {},
   "outputs": [
    {
     "data": {
      "text/html": [
       "<div>\n",
       "<style scoped>\n",
       "    .dataframe tbody tr th:only-of-type {\n",
       "        vertical-align: middle;\n",
       "    }\n",
       "\n",
       "    .dataframe tbody tr th {\n",
       "        vertical-align: top;\n",
       "    }\n",
       "\n",
       "    .dataframe thead th {\n",
       "        text-align: right;\n",
       "    }\n",
       "</style>\n",
       "<table border=\"1\" class=\"dataframe\">\n",
       "  <thead>\n",
       "    <tr style=\"text-align: right;\">\n",
       "      <th></th>\n",
       "      <th>children</th>\n",
       "      <th>days_employed</th>\n",
       "      <th>dob_years</th>\n",
       "      <th>education</th>\n",
       "      <th>education_id</th>\n",
       "      <th>family_status</th>\n",
       "      <th>family_status_id</th>\n",
       "      <th>gender</th>\n",
       "      <th>income_type</th>\n",
       "      <th>debt</th>\n",
       "      <th>total_income</th>\n",
       "      <th>purpose</th>\n",
       "    </tr>\n",
       "  </thead>\n",
       "  <tbody>\n",
       "    <tr>\n",
       "      <td>10684</td>\n",
       "      <td>0</td>\n",
       "      <td>2358.600502</td>\n",
       "      <td>24</td>\n",
       "      <td>неоконченное высшее</td>\n",
       "      <td>2</td>\n",
       "      <td>гражданский брак</td>\n",
       "      <td>1</td>\n",
       "      <td>XNA</td>\n",
       "      <td>компаньон</td>\n",
       "      <td>0</td>\n",
       "      <td>203905.157261</td>\n",
       "      <td>покупка недвижимости</td>\n",
       "    </tr>\n",
       "  </tbody>\n",
       "</table>\n",
       "</div>"
      ],
      "text/plain": [
       "       children  days_employed  dob_years            education  education_id  \\\n",
       "10684         0    2358.600502         24  неоконченное высшее             2   \n",
       "\n",
       "          family_status  family_status_id gender income_type  debt  \\\n",
       "10684  гражданский брак                 1    XNA   компаньон     0   \n",
       "\n",
       "        total_income               purpose  \n",
       "10684  203905.157261  покупка недвижимости  "
      ]
     },
     "execution_count": 35,
     "metadata": {},
     "output_type": "execute_result"
    }
   ],
   "source": [
    "df[df['gender'] == 'XNA']"
   ]
  },
  {
   "cell_type": "markdown",
   "id": "3e5a4489",
   "metadata": {},
   "source": [
    "Такая строка только одна, и значения в остальных столбцах в норме, потому трогать ее не будем."
   ]
  },
  {
   "cell_type": "code",
   "execution_count": 36,
   "id": "04be7bc6",
   "metadata": {},
   "outputs": [
    {
     "data": {
      "text/plain": [
       "array(['сотрудник', 'пенсионер', 'компаньон', 'госслужащий',\n",
       "       'безработный', 'предприниматель', 'студент', 'в декрете'],\n",
       "      dtype=object)"
      ]
     },
     "execution_count": 36,
     "metadata": {},
     "output_type": "execute_result"
    }
   ],
   "source": [
    "df['income_type'].unique() # посмотрим значения типа занятости"
   ]
  },
  {
   "cell_type": "markdown",
   "id": "3b81ea45",
   "metadata": {},
   "source": [
    "С типом занятости проблем нет."
   ]
  },
  {
   "cell_type": "code",
   "execution_count": 37,
   "id": "8f0bb083",
   "metadata": {},
   "outputs": [
    {
     "data": {
      "text/plain": [
       "array([0, 1])"
      ]
     },
     "execution_count": 37,
     "metadata": {},
     "output_type": "execute_result"
    }
   ],
   "source": [
    "df['debt'].unique() # посмотрим значения факта наличия задолженности"
   ]
  },
  {
   "cell_type": "markdown",
   "id": "ded0b447",
   "metadata": {},
   "source": [
    "Cо значением факта долга наличия задолженности проблем нет."
   ]
  },
  {
   "cell_type": "code",
   "execution_count": 38,
   "id": "84f0a3c5",
   "metadata": {},
   "outputs": [
    {
     "data": {
      "text/plain": [
       "count    2.145400e+04\n",
       "mean     1.653201e+05\n",
       "std      9.818730e+04\n",
       "min      2.066726e+04\n",
       "25%      1.076239e+05\n",
       "50%      1.425944e+05\n",
       "75%      1.958209e+05\n",
       "max      2.265604e+06\n",
       "Name: total_income, dtype: float64"
      ]
     },
     "execution_count": 38,
     "metadata": {},
     "output_type": "execute_result"
    }
   ],
   "source": [
    "df['total_income'].describe()"
   ]
  },
  {
   "cell_type": "markdown",
   "id": "564e3ad8",
   "metadata": {},
   "source": [
    "Значения доходов с 6 знаками после запятой в контексте задачи обладают избыточной точностью, которой мы можем принебречь ради удобства. Приведем значения к целочисленному типу."
   ]
  },
  {
   "cell_type": "code",
   "execution_count": 39,
   "id": "f2ad5533",
   "metadata": {},
   "outputs": [],
   "source": [
    "df['total_income'] = df['total_income'].astype(int) # преобразуем тип float в int"
   ]
  },
  {
   "cell_type": "code",
   "execution_count": 40,
   "id": "3f9874ca",
   "metadata": {},
   "outputs": [
    {
     "data": {
      "text/plain": [
       "array(['покупка жилья', 'приобретение автомобиля',\n",
       "       'дополнительное образование', 'сыграть свадьбу',\n",
       "       'операции с жильем', 'образование', 'на проведение свадьбы',\n",
       "       'покупка жилья для семьи', 'покупка недвижимости',\n",
       "       'покупка коммерческой недвижимости', 'покупка жилой недвижимости',\n",
       "       'строительство собственной недвижимости', 'недвижимость',\n",
       "       'строительство недвижимости', 'на покупку подержанного автомобиля',\n",
       "       'на покупку своего автомобиля',\n",
       "       'операции с коммерческой недвижимостью',\n",
       "       'строительство жилой недвижимости', 'жилье',\n",
       "       'операции со своей недвижимостью', 'автомобили',\n",
       "       'заняться образованием', 'сделка с подержанным автомобилем',\n",
       "       'получение образования', 'автомобиль', 'свадьба',\n",
       "       'получение дополнительного образования', 'покупка своего жилья',\n",
       "       'операции с недвижимостью', 'получение высшего образования',\n",
       "       'свой автомобиль', 'сделка с автомобилем',\n",
       "       'профильное образование', 'высшее образование',\n",
       "       'покупка жилья для сдачи', 'на покупку автомобиля', 'ремонт жилью',\n",
       "       'заняться высшим образованием'], dtype=object)"
      ]
     },
     "execution_count": 40,
     "metadata": {},
     "output_type": "execute_result"
    }
   ],
   "source": [
    "df['purpose'].unique() # посмотрим цель взятие кредита"
   ]
  },
  {
   "cell_type": "markdown",
   "id": "c1d0dd82",
   "metadata": {},
   "source": [
    "Аномалий нет, однако в дальнейшем необходимо будет категоризировать эти данные."
   ]
  },
  {
   "cell_type": "code",
   "execution_count": 41,
   "id": "36532f48",
   "metadata": {
    "scrolled": true
   },
   "outputs": [
    {
     "data": {
      "text/html": [
       "<div>\n",
       "<style scoped>\n",
       "    .dataframe tbody tr th:only-of-type {\n",
       "        vertical-align: middle;\n",
       "    }\n",
       "\n",
       "    .dataframe tbody tr th {\n",
       "        vertical-align: top;\n",
       "    }\n",
       "\n",
       "    .dataframe thead th {\n",
       "        text-align: right;\n",
       "    }\n",
       "</style>\n",
       "<table border=\"1\" class=\"dataframe\">\n",
       "  <thead>\n",
       "    <tr style=\"text-align: right;\">\n",
       "      <th></th>\n",
       "      <th>children</th>\n",
       "      <th>days_employed</th>\n",
       "      <th>dob_years</th>\n",
       "      <th>education</th>\n",
       "      <th>education_id</th>\n",
       "      <th>family_status</th>\n",
       "      <th>family_status_id</th>\n",
       "      <th>gender</th>\n",
       "      <th>income_type</th>\n",
       "      <th>debt</th>\n",
       "      <th>total_income</th>\n",
       "      <th>purpose</th>\n",
       "    </tr>\n",
       "  </thead>\n",
       "  <tbody>\n",
       "    <tr>\n",
       "      <td>0</td>\n",
       "      <td>1</td>\n",
       "      <td>8437.673028</td>\n",
       "      <td>42</td>\n",
       "      <td>высшее</td>\n",
       "      <td>0</td>\n",
       "      <td>женат / замужем</td>\n",
       "      <td>0</td>\n",
       "      <td>F</td>\n",
       "      <td>сотрудник</td>\n",
       "      <td>0</td>\n",
       "      <td>253875</td>\n",
       "      <td>покупка жилья</td>\n",
       "    </tr>\n",
       "    <tr>\n",
       "      <td>1</td>\n",
       "      <td>1</td>\n",
       "      <td>4024.803754</td>\n",
       "      <td>36</td>\n",
       "      <td>среднее</td>\n",
       "      <td>1</td>\n",
       "      <td>женат / замужем</td>\n",
       "      <td>0</td>\n",
       "      <td>F</td>\n",
       "      <td>сотрудник</td>\n",
       "      <td>0</td>\n",
       "      <td>112080</td>\n",
       "      <td>приобретение автомобиля</td>\n",
       "    </tr>\n",
       "    <tr>\n",
       "      <td>2</td>\n",
       "      <td>0</td>\n",
       "      <td>5623.422610</td>\n",
       "      <td>33</td>\n",
       "      <td>среднее</td>\n",
       "      <td>1</td>\n",
       "      <td>женат / замужем</td>\n",
       "      <td>0</td>\n",
       "      <td>M</td>\n",
       "      <td>сотрудник</td>\n",
       "      <td>0</td>\n",
       "      <td>145885</td>\n",
       "      <td>покупка жилья</td>\n",
       "    </tr>\n",
       "    <tr>\n",
       "      <td>3</td>\n",
       "      <td>3</td>\n",
       "      <td>4124.747207</td>\n",
       "      <td>32</td>\n",
       "      <td>среднее</td>\n",
       "      <td>1</td>\n",
       "      <td>женат / замужем</td>\n",
       "      <td>0</td>\n",
       "      <td>M</td>\n",
       "      <td>сотрудник</td>\n",
       "      <td>0</td>\n",
       "      <td>267628</td>\n",
       "      <td>дополнительное образование</td>\n",
       "    </tr>\n",
       "    <tr>\n",
       "      <td>4</td>\n",
       "      <td>0</td>\n",
       "      <td>340266.072047</td>\n",
       "      <td>53</td>\n",
       "      <td>среднее</td>\n",
       "      <td>1</td>\n",
       "      <td>гражданский брак</td>\n",
       "      <td>1</td>\n",
       "      <td>F</td>\n",
       "      <td>пенсионер</td>\n",
       "      <td>0</td>\n",
       "      <td>158616</td>\n",
       "      <td>сыграть свадьбу</td>\n",
       "    </tr>\n",
       "    <tr>\n",
       "      <td>5</td>\n",
       "      <td>0</td>\n",
       "      <td>926.185831</td>\n",
       "      <td>27</td>\n",
       "      <td>высшее</td>\n",
       "      <td>0</td>\n",
       "      <td>гражданский брак</td>\n",
       "      <td>1</td>\n",
       "      <td>M</td>\n",
       "      <td>компаньон</td>\n",
       "      <td>0</td>\n",
       "      <td>255763</td>\n",
       "      <td>покупка жилья</td>\n",
       "    </tr>\n",
       "    <tr>\n",
       "      <td>6</td>\n",
       "      <td>0</td>\n",
       "      <td>2879.202052</td>\n",
       "      <td>43</td>\n",
       "      <td>высшее</td>\n",
       "      <td>0</td>\n",
       "      <td>женат / замужем</td>\n",
       "      <td>0</td>\n",
       "      <td>F</td>\n",
       "      <td>компаньон</td>\n",
       "      <td>0</td>\n",
       "      <td>240525</td>\n",
       "      <td>операции с жильем</td>\n",
       "    </tr>\n",
       "    <tr>\n",
       "      <td>7</td>\n",
       "      <td>0</td>\n",
       "      <td>152.779569</td>\n",
       "      <td>50</td>\n",
       "      <td>среднее</td>\n",
       "      <td>1</td>\n",
       "      <td>женат / замужем</td>\n",
       "      <td>0</td>\n",
       "      <td>M</td>\n",
       "      <td>сотрудник</td>\n",
       "      <td>0</td>\n",
       "      <td>135823</td>\n",
       "      <td>образование</td>\n",
       "    </tr>\n",
       "    <tr>\n",
       "      <td>8</td>\n",
       "      <td>2</td>\n",
       "      <td>6929.865299</td>\n",
       "      <td>35</td>\n",
       "      <td>высшее</td>\n",
       "      <td>0</td>\n",
       "      <td>гражданский брак</td>\n",
       "      <td>1</td>\n",
       "      <td>F</td>\n",
       "      <td>сотрудник</td>\n",
       "      <td>0</td>\n",
       "      <td>95856</td>\n",
       "      <td>на проведение свадьбы</td>\n",
       "    </tr>\n",
       "    <tr>\n",
       "      <td>9</td>\n",
       "      <td>0</td>\n",
       "      <td>2188.756445</td>\n",
       "      <td>41</td>\n",
       "      <td>среднее</td>\n",
       "      <td>1</td>\n",
       "      <td>женат / замужем</td>\n",
       "      <td>0</td>\n",
       "      <td>M</td>\n",
       "      <td>сотрудник</td>\n",
       "      <td>0</td>\n",
       "      <td>144425</td>\n",
       "      <td>покупка жилья для семьи</td>\n",
       "    </tr>\n",
       "  </tbody>\n",
       "</table>\n",
       "</div>"
      ],
      "text/plain": [
       "   children  days_employed  dob_years education  education_id  \\\n",
       "0         1    8437.673028         42    высшее             0   \n",
       "1         1    4024.803754         36   среднее             1   \n",
       "2         0    5623.422610         33   среднее             1   \n",
       "3         3    4124.747207         32   среднее             1   \n",
       "4         0  340266.072047         53   среднее             1   \n",
       "5         0     926.185831         27    высшее             0   \n",
       "6         0    2879.202052         43    высшее             0   \n",
       "7         0     152.779569         50   среднее             1   \n",
       "8         2    6929.865299         35    высшее             0   \n",
       "9         0    2188.756445         41   среднее             1   \n",
       "\n",
       "      family_status  family_status_id gender income_type  debt  total_income  \\\n",
       "0   женат / замужем                 0      F   сотрудник     0        253875   \n",
       "1   женат / замужем                 0      F   сотрудник     0        112080   \n",
       "2   женат / замужем                 0      M   сотрудник     0        145885   \n",
       "3   женат / замужем                 0      M   сотрудник     0        267628   \n",
       "4  гражданский брак                 1      F   пенсионер     0        158616   \n",
       "5  гражданский брак                 1      M   компаньон     0        255763   \n",
       "6   женат / замужем                 0      F   компаньон     0        240525   \n",
       "7   женат / замужем                 0      M   сотрудник     0        135823   \n",
       "8  гражданский брак                 1      F   сотрудник     0         95856   \n",
       "9   женат / замужем                 0      M   сотрудник     0        144425   \n",
       "\n",
       "                      purpose  \n",
       "0               покупка жилья  \n",
       "1     приобретение автомобиля  \n",
       "2               покупка жилья  \n",
       "3  дополнительное образование  \n",
       "4             сыграть свадьбу  \n",
       "5               покупка жилья  \n",
       "6           операции с жильем  \n",
       "7                 образование  \n",
       "8       на проведение свадьбы  \n",
       "9     покупка жилья для семьи  "
      ]
     },
     "execution_count": 41,
     "metadata": {},
     "output_type": "execute_result"
    }
   ],
   "source": [
    "df.head(10) # посмотрим таблицу после предобработки"
   ]
  },
  {
   "cell_type": "markdown",
   "id": "b72964aa",
   "metadata": {},
   "source": [
    "### Формирование дополнительных датафреймов словарей, декомпозиция исходного датафрейма."
   ]
  },
  {
   "cell_type": "markdown",
   "id": "6bba0350",
   "metadata": {},
   "source": [
    "При обзоре данных выяснилось, что в датафрейме присутствуют дублирующие признаки. Создадим специальные словари для таких признаков."
   ]
  },
  {
   "cell_type": "code",
   "execution_count": 42,
   "id": "4fdfb9d7",
   "metadata": {},
   "outputs": [
    {
     "data": {
      "text/html": [
       "<div>\n",
       "<style scoped>\n",
       "    .dataframe tbody tr th:only-of-type {\n",
       "        vertical-align: middle;\n",
       "    }\n",
       "\n",
       "    .dataframe tbody tr th {\n",
       "        vertical-align: top;\n",
       "    }\n",
       "\n",
       "    .dataframe thead th {\n",
       "        text-align: right;\n",
       "    }\n",
       "</style>\n",
       "<table border=\"1\" class=\"dataframe\">\n",
       "  <thead>\n",
       "    <tr style=\"text-align: right;\">\n",
       "      <th></th>\n",
       "      <th>education</th>\n",
       "      <th>education_id</th>\n",
       "    </tr>\n",
       "  </thead>\n",
       "  <tbody>\n",
       "    <tr>\n",
       "      <td>0</td>\n",
       "      <td>высшее</td>\n",
       "      <td>0</td>\n",
       "    </tr>\n",
       "    <tr>\n",
       "      <td>1</td>\n",
       "      <td>среднее</td>\n",
       "      <td>1</td>\n",
       "    </tr>\n",
       "    <tr>\n",
       "      <td>2</td>\n",
       "      <td>неоконченное высшее</td>\n",
       "      <td>2</td>\n",
       "    </tr>\n",
       "    <tr>\n",
       "      <td>3</td>\n",
       "      <td>начальное</td>\n",
       "      <td>3</td>\n",
       "    </tr>\n",
       "    <tr>\n",
       "      <td>4</td>\n",
       "      <td>ученая степень</td>\n",
       "      <td>4</td>\n",
       "    </tr>\n",
       "  </tbody>\n",
       "</table>\n",
       "</div>"
      ],
      "text/plain": [
       "             education  education_id\n",
       "0               высшее             0\n",
       "1              среднее             1\n",
       "2  неоконченное высшее             2\n",
       "3            начальное             3\n",
       "4       ученая степень             4"
      ]
     },
     "execution_count": 42,
     "metadata": {},
     "output_type": "execute_result"
    }
   ],
   "source": [
    "education_dict = df[['education', 'education_id']] # создаем словарь для образования\n",
    "education_dict = education_dict.drop_duplicates().reset_index(drop = True) # удаляем дубликаты, сбрасываем индексы\n",
    "education_dict # выводим словарь на экран"
   ]
  },
  {
   "cell_type": "code",
   "execution_count": 43,
   "id": "18675d92",
   "metadata": {},
   "outputs": [
    {
     "data": {
      "text/html": [
       "<div>\n",
       "<style scoped>\n",
       "    .dataframe tbody tr th:only-of-type {\n",
       "        vertical-align: middle;\n",
       "    }\n",
       "\n",
       "    .dataframe tbody tr th {\n",
       "        vertical-align: top;\n",
       "    }\n",
       "\n",
       "    .dataframe thead th {\n",
       "        text-align: right;\n",
       "    }\n",
       "</style>\n",
       "<table border=\"1\" class=\"dataframe\">\n",
       "  <thead>\n",
       "    <tr style=\"text-align: right;\">\n",
       "      <th></th>\n",
       "      <th>family_status</th>\n",
       "      <th>family_status_id</th>\n",
       "    </tr>\n",
       "  </thead>\n",
       "  <tbody>\n",
       "    <tr>\n",
       "      <td>0</td>\n",
       "      <td>женат / замужем</td>\n",
       "      <td>0</td>\n",
       "    </tr>\n",
       "    <tr>\n",
       "      <td>1</td>\n",
       "      <td>гражданский брак</td>\n",
       "      <td>1</td>\n",
       "    </tr>\n",
       "    <tr>\n",
       "      <td>2</td>\n",
       "      <td>вдовец / вдова</td>\n",
       "      <td>2</td>\n",
       "    </tr>\n",
       "    <tr>\n",
       "      <td>3</td>\n",
       "      <td>в разводе</td>\n",
       "      <td>3</td>\n",
       "    </tr>\n",
       "    <tr>\n",
       "      <td>4</td>\n",
       "      <td>Не женат / не замужем</td>\n",
       "      <td>4</td>\n",
       "    </tr>\n",
       "  </tbody>\n",
       "</table>\n",
       "</div>"
      ],
      "text/plain": [
       "           family_status  family_status_id\n",
       "0        женат / замужем                 0\n",
       "1       гражданский брак                 1\n",
       "2         вдовец / вдова                 2\n",
       "3              в разводе                 3\n",
       "4  Не женат / не замужем                 4"
      ]
     },
     "execution_count": 43,
     "metadata": {},
     "output_type": "execute_result"
    }
   ],
   "source": [
    "family_dict = df[['family_status', 'family_status_id']] # создаем словарь для семейного положения\n",
    "family_dict = family_dict.drop_duplicates().reset_index(drop = True) # удаляем дубликаты, сбрасываем индексы\n",
    "family_dict # выводим словарь на экран"
   ]
  },
  {
   "cell_type": "code",
   "execution_count": 44,
   "id": "41018192",
   "metadata": {
    "scrolled": true
   },
   "outputs": [
    {
     "data": {
      "text/html": [
       "<div>\n",
       "<style scoped>\n",
       "    .dataframe tbody tr th:only-of-type {\n",
       "        vertical-align: middle;\n",
       "    }\n",
       "\n",
       "    .dataframe tbody tr th {\n",
       "        vertical-align: top;\n",
       "    }\n",
       "\n",
       "    .dataframe thead th {\n",
       "        text-align: right;\n",
       "    }\n",
       "</style>\n",
       "<table border=\"1\" class=\"dataframe\">\n",
       "  <thead>\n",
       "    <tr style=\"text-align: right;\">\n",
       "      <th></th>\n",
       "      <th>children</th>\n",
       "      <th>days_employed</th>\n",
       "      <th>dob_years</th>\n",
       "      <th>education_id</th>\n",
       "      <th>family_status_id</th>\n",
       "      <th>gender</th>\n",
       "      <th>income_type</th>\n",
       "      <th>debt</th>\n",
       "      <th>total_income</th>\n",
       "      <th>purpose</th>\n",
       "    </tr>\n",
       "  </thead>\n",
       "  <tbody>\n",
       "    <tr>\n",
       "      <td>0</td>\n",
       "      <td>1</td>\n",
       "      <td>8437.673028</td>\n",
       "      <td>42</td>\n",
       "      <td>0</td>\n",
       "      <td>0</td>\n",
       "      <td>F</td>\n",
       "      <td>сотрудник</td>\n",
       "      <td>0</td>\n",
       "      <td>253875</td>\n",
       "      <td>покупка жилья</td>\n",
       "    </tr>\n",
       "    <tr>\n",
       "      <td>1</td>\n",
       "      <td>1</td>\n",
       "      <td>4024.803754</td>\n",
       "      <td>36</td>\n",
       "      <td>1</td>\n",
       "      <td>0</td>\n",
       "      <td>F</td>\n",
       "      <td>сотрудник</td>\n",
       "      <td>0</td>\n",
       "      <td>112080</td>\n",
       "      <td>приобретение автомобиля</td>\n",
       "    </tr>\n",
       "    <tr>\n",
       "      <td>2</td>\n",
       "      <td>0</td>\n",
       "      <td>5623.422610</td>\n",
       "      <td>33</td>\n",
       "      <td>1</td>\n",
       "      <td>0</td>\n",
       "      <td>M</td>\n",
       "      <td>сотрудник</td>\n",
       "      <td>0</td>\n",
       "      <td>145885</td>\n",
       "      <td>покупка жилья</td>\n",
       "    </tr>\n",
       "    <tr>\n",
       "      <td>3</td>\n",
       "      <td>3</td>\n",
       "      <td>4124.747207</td>\n",
       "      <td>32</td>\n",
       "      <td>1</td>\n",
       "      <td>0</td>\n",
       "      <td>M</td>\n",
       "      <td>сотрудник</td>\n",
       "      <td>0</td>\n",
       "      <td>267628</td>\n",
       "      <td>дополнительное образование</td>\n",
       "    </tr>\n",
       "    <tr>\n",
       "      <td>4</td>\n",
       "      <td>0</td>\n",
       "      <td>340266.072047</td>\n",
       "      <td>53</td>\n",
       "      <td>1</td>\n",
       "      <td>1</td>\n",
       "      <td>F</td>\n",
       "      <td>пенсионер</td>\n",
       "      <td>0</td>\n",
       "      <td>158616</td>\n",
       "      <td>сыграть свадьбу</td>\n",
       "    </tr>\n",
       "    <tr>\n",
       "      <td>5</td>\n",
       "      <td>0</td>\n",
       "      <td>926.185831</td>\n",
       "      <td>27</td>\n",
       "      <td>0</td>\n",
       "      <td>1</td>\n",
       "      <td>M</td>\n",
       "      <td>компаньон</td>\n",
       "      <td>0</td>\n",
       "      <td>255763</td>\n",
       "      <td>покупка жилья</td>\n",
       "    </tr>\n",
       "    <tr>\n",
       "      <td>6</td>\n",
       "      <td>0</td>\n",
       "      <td>2879.202052</td>\n",
       "      <td>43</td>\n",
       "      <td>0</td>\n",
       "      <td>0</td>\n",
       "      <td>F</td>\n",
       "      <td>компаньон</td>\n",
       "      <td>0</td>\n",
       "      <td>240525</td>\n",
       "      <td>операции с жильем</td>\n",
       "    </tr>\n",
       "    <tr>\n",
       "      <td>7</td>\n",
       "      <td>0</td>\n",
       "      <td>152.779569</td>\n",
       "      <td>50</td>\n",
       "      <td>1</td>\n",
       "      <td>0</td>\n",
       "      <td>M</td>\n",
       "      <td>сотрудник</td>\n",
       "      <td>0</td>\n",
       "      <td>135823</td>\n",
       "      <td>образование</td>\n",
       "    </tr>\n",
       "    <tr>\n",
       "      <td>8</td>\n",
       "      <td>2</td>\n",
       "      <td>6929.865299</td>\n",
       "      <td>35</td>\n",
       "      <td>0</td>\n",
       "      <td>1</td>\n",
       "      <td>F</td>\n",
       "      <td>сотрудник</td>\n",
       "      <td>0</td>\n",
       "      <td>95856</td>\n",
       "      <td>на проведение свадьбы</td>\n",
       "    </tr>\n",
       "    <tr>\n",
       "      <td>9</td>\n",
       "      <td>0</td>\n",
       "      <td>2188.756445</td>\n",
       "      <td>41</td>\n",
       "      <td>1</td>\n",
       "      <td>0</td>\n",
       "      <td>M</td>\n",
       "      <td>сотрудник</td>\n",
       "      <td>0</td>\n",
       "      <td>144425</td>\n",
       "      <td>покупка жилья для семьи</td>\n",
       "    </tr>\n",
       "  </tbody>\n",
       "</table>\n",
       "</div>"
      ],
      "text/plain": [
       "   children  days_employed  dob_years  education_id  family_status_id gender  \\\n",
       "0         1    8437.673028         42             0                 0      F   \n",
       "1         1    4024.803754         36             1                 0      F   \n",
       "2         0    5623.422610         33             1                 0      M   \n",
       "3         3    4124.747207         32             1                 0      M   \n",
       "4         0  340266.072047         53             1                 1      F   \n",
       "5         0     926.185831         27             0                 1      M   \n",
       "6         0    2879.202052         43             0                 0      F   \n",
       "7         0     152.779569         50             1                 0      M   \n",
       "8         2    6929.865299         35             0                 1      F   \n",
       "9         0    2188.756445         41             1                 0      M   \n",
       "\n",
       "  income_type  debt  total_income                     purpose  \n",
       "0   сотрудник     0        253875               покупка жилья  \n",
       "1   сотрудник     0        112080     приобретение автомобиля  \n",
       "2   сотрудник     0        145885               покупка жилья  \n",
       "3   сотрудник     0        267628  дополнительное образование  \n",
       "4   пенсионер     0        158616             сыграть свадьбу  \n",
       "5   компаньон     0        255763               покупка жилья  \n",
       "6   компаньон     0        240525           операции с жильем  \n",
       "7   сотрудник     0        135823                 образование  \n",
       "8   сотрудник     0         95856       на проведение свадьбы  \n",
       "9   сотрудник     0        144425     покупка жилья для семьи  "
      ]
     },
     "execution_count": 44,
     "metadata": {},
     "output_type": "execute_result"
    }
   ],
   "source": [
    "df = df.drop(['education', 'family_status'], axis = 1) # удаляем лишние столбцы из датафрейма\n",
    "df.head(10) # просмотрим таблицу после удаления столбцов"
   ]
  },
  {
   "cell_type": "markdown",
   "id": "9a899699",
   "metadata": {},
   "source": [
    "### Категоризация дохода."
   ]
  },
  {
   "cell_type": "markdown",
   "id": "9c28f081",
   "metadata": {},
   "source": [
    "Для проверки гипотез необходимо категоризировать доходы. Поделим доходы на 5 категорий:\n",
    "* если доход до 30000 - E\n",
    "* если доход до 50000 - D\n",
    "* если доход до 200000 - C\n",
    "* если доход до 1000000 - B\n",
    "* если доход более 1000000 - A"
   ]
  },
  {
   "cell_type": "code",
   "execution_count": 45,
   "id": "18650227",
   "metadata": {},
   "outputs": [],
   "source": [
    "def income_category(total_income):   \n",
    "    if total_income <= 30000:\n",
    "            return 'E'\n",
    "    if total_income <= 50000:\n",
    "            return 'D'\n",
    "    if total_income <= 200000:\n",
    "            return 'C'\n",
    "    if total_income <= 1000000:\n",
    "            return 'B'    \n",
    "    return 'A'"
   ]
  },
  {
   "cell_type": "code",
   "execution_count": 46,
   "id": "a5d24c15",
   "metadata": {},
   "outputs": [],
   "source": [
    "df['total_income_category'] = df['total_income'].apply(income_category) \n",
    "# создаем столбец total_income_category, в который записываем категорию дохода"
   ]
  },
  {
   "cell_type": "code",
   "execution_count": 47,
   "id": "4e89048d",
   "metadata": {
    "scrolled": true
   },
   "outputs": [
    {
     "data": {
      "text/plain": [
       "C    16015\n",
       "B     5042\n",
       "D      350\n",
       "A       25\n",
       "E       22\n",
       "Name: total_income_category, dtype: int64"
      ]
     },
     "execution_count": 47,
     "metadata": {},
     "output_type": "execute_result"
    }
   ],
   "source": [
    "df['total_income_category'].value_counts() # проверим корректность категоризации"
   ]
  },
  {
   "cell_type": "markdown",
   "id": "aaa4051f",
   "metadata": {},
   "source": [
    "### Категоризация целей кредита."
   ]
  },
  {
   "cell_type": "markdown",
   "id": "336e97dd",
   "metadata": {},
   "source": [
    "Помимо дохода, необходимо также категоризировать цели кредита."
   ]
  },
  {
   "cell_type": "code",
   "execution_count": 48,
   "id": "b1010e14",
   "metadata": {},
   "outputs": [],
   "source": [
    "def purpose_category(purpose):\n",
    "    if 'авто' in purpose:\n",
    "        return 'операции с автомобилем'\n",
    "    if 'жи' in purpose:\n",
    "        return 'операции с недвижимостью'\n",
    "    if 'свад' in purpose:\n",
    "        return 'проведение свадьбы'\n",
    "    if 'образ' in purpose:\n",
    "        return 'получение образования'\n",
    "    return 'цель не определена'"
   ]
  },
  {
   "cell_type": "code",
   "execution_count": 49,
   "id": "4524da61",
   "metadata": {},
   "outputs": [],
   "source": [
    "df['purpose_category'] = df['purpose'].apply(purpose_category)\n",
    "# создаем столбец purpose_category, в который записываем цель кредита"
   ]
  },
  {
   "cell_type": "code",
   "execution_count": 50,
   "id": "1e4e1f2b",
   "metadata": {
    "scrolled": true
   },
   "outputs": [
    {
     "data": {
      "text/plain": [
       "операции с недвижимостью    10811\n",
       "операции с автомобилем       4306\n",
       "получение образования        4013\n",
       "проведение свадьбы           2324\n",
       "Name: purpose_category, dtype: int64"
      ]
     },
     "execution_count": 50,
     "metadata": {},
     "output_type": "execute_result"
    }
   ],
   "source": [
    "df['purpose_category'].value_counts() # проверим корректность категоризации"
   ]
  },
  {
   "cell_type": "markdown",
   "id": "abd338ec",
   "metadata": {},
   "source": [
    "## Ответы на вопросы."
   ]
  },
  {
   "cell_type": "markdown",
   "id": "cf20b4bc",
   "metadata": {},
   "source": [
    "### Зависимость между наличием детей и возвратом кредита в срок"
   ]
  },
  {
   "cell_type": "markdown",
   "id": "0d3bb4c1",
   "metadata": {},
   "source": [
    "Посмотрим отношение наличия задолженности по возврату кредитов к общему количеству кредитов."
   ]
  },
  {
   "cell_type": "code",
   "execution_count": 59,
   "id": "6b64444b",
   "metadata": {},
   "outputs": [],
   "source": [
    "def create_debt_ratio_table(dependence): # объявляем функцию\n",
    "    table = df.pivot_table(index=[dependence], values=['debt'],  aggfunc=['count', 'sum', 'mean']) # создаем сводную таблицу\n",
    "    table.columns = ['total', 'debt', 'ratio']\n",
    "    return table"
   ]
  },
  {
   "cell_type": "code",
   "execution_count": 60,
   "id": "6c80a72d",
   "metadata": {},
   "outputs": [
    {
     "data": {
      "text/html": [
       "<div>\n",
       "<style scoped>\n",
       "    .dataframe tbody tr th:only-of-type {\n",
       "        vertical-align: middle;\n",
       "    }\n",
       "\n",
       "    .dataframe tbody tr th {\n",
       "        vertical-align: top;\n",
       "    }\n",
       "\n",
       "    .dataframe thead th {\n",
       "        text-align: right;\n",
       "    }\n",
       "</style>\n",
       "<table border=\"1\" class=\"dataframe\">\n",
       "  <thead>\n",
       "    <tr style=\"text-align: right;\">\n",
       "      <th></th>\n",
       "      <th>total</th>\n",
       "      <th>debt</th>\n",
       "      <th>ratio</th>\n",
       "    </tr>\n",
       "    <tr>\n",
       "      <th>children</th>\n",
       "      <th></th>\n",
       "      <th></th>\n",
       "      <th></th>\n",
       "    </tr>\n",
       "  </thead>\n",
       "  <tbody>\n",
       "    <tr>\n",
       "      <td>0</td>\n",
       "      <td>14091</td>\n",
       "      <td>1063</td>\n",
       "      <td>0.075438</td>\n",
       "    </tr>\n",
       "    <tr>\n",
       "      <td>1</td>\n",
       "      <td>4855</td>\n",
       "      <td>445</td>\n",
       "      <td>0.091658</td>\n",
       "    </tr>\n",
       "    <tr>\n",
       "      <td>2</td>\n",
       "      <td>2128</td>\n",
       "      <td>202</td>\n",
       "      <td>0.094925</td>\n",
       "    </tr>\n",
       "    <tr>\n",
       "      <td>3</td>\n",
       "      <td>330</td>\n",
       "      <td>27</td>\n",
       "      <td>0.081818</td>\n",
       "    </tr>\n",
       "    <tr>\n",
       "      <td>4</td>\n",
       "      <td>41</td>\n",
       "      <td>4</td>\n",
       "      <td>0.097561</td>\n",
       "    </tr>\n",
       "    <tr>\n",
       "      <td>5</td>\n",
       "      <td>9</td>\n",
       "      <td>0</td>\n",
       "      <td>0.000000</td>\n",
       "    </tr>\n",
       "  </tbody>\n",
       "</table>\n",
       "</div>"
      ],
      "text/plain": [
       "          total  debt     ratio\n",
       "children                       \n",
       "0         14091  1063  0.075438\n",
       "1          4855   445  0.091658\n",
       "2          2128   202  0.094925\n",
       "3           330    27  0.081818\n",
       "4            41     4  0.097561\n",
       "5             9     0  0.000000"
      ]
     },
     "execution_count": 60,
     "metadata": {},
     "output_type": "execute_result"
    }
   ],
   "source": [
    "create_debt_ratio_table('children')"
   ]
  },
  {
   "cell_type": "markdown",
   "id": "92f7f283",
   "metadata": {},
   "source": [
    "**Вывод:** как видим, те, у кого нет детей, возвращают кредиты чаще, чем те, у кого дети есть. Сделать корректный вывод о том, как часто возвращают долги те, у кого 5 детей, невозможно, так как выборка нерепрезентативна."
   ]
  },
  {
   "cell_type": "markdown",
   "id": "6994f559",
   "metadata": {},
   "source": [
    "### Зависимость между семейным положением и возвратом кредита в срок"
   ]
  },
  {
   "cell_type": "code",
   "execution_count": 61,
   "id": "d152846a",
   "metadata": {},
   "outputs": [
    {
     "data": {
      "text/html": [
       "<div>\n",
       "<style scoped>\n",
       "    .dataframe tbody tr th:only-of-type {\n",
       "        vertical-align: middle;\n",
       "    }\n",
       "\n",
       "    .dataframe tbody tr th {\n",
       "        vertical-align: top;\n",
       "    }\n",
       "\n",
       "    .dataframe thead th {\n",
       "        text-align: right;\n",
       "    }\n",
       "</style>\n",
       "<table border=\"1\" class=\"dataframe\">\n",
       "  <thead>\n",
       "    <tr style=\"text-align: right;\">\n",
       "      <th></th>\n",
       "      <th>family_status</th>\n",
       "      <th>total</th>\n",
       "      <th>debt</th>\n",
       "      <th>ratio</th>\n",
       "    </tr>\n",
       "  </thead>\n",
       "  <tbody>\n",
       "    <tr>\n",
       "      <td>0</td>\n",
       "      <td>женат / замужем</td>\n",
       "      <td>12339</td>\n",
       "      <td>931</td>\n",
       "      <td>0.075452</td>\n",
       "    </tr>\n",
       "    <tr>\n",
       "      <td>1</td>\n",
       "      <td>гражданский брак</td>\n",
       "      <td>4151</td>\n",
       "      <td>388</td>\n",
       "      <td>0.093471</td>\n",
       "    </tr>\n",
       "    <tr>\n",
       "      <td>2</td>\n",
       "      <td>вдовец / вдова</td>\n",
       "      <td>959</td>\n",
       "      <td>63</td>\n",
       "      <td>0.065693</td>\n",
       "    </tr>\n",
       "    <tr>\n",
       "      <td>3</td>\n",
       "      <td>в разводе</td>\n",
       "      <td>1195</td>\n",
       "      <td>85</td>\n",
       "      <td>0.071130</td>\n",
       "    </tr>\n",
       "    <tr>\n",
       "      <td>4</td>\n",
       "      <td>Не женат / не замужем</td>\n",
       "      <td>2810</td>\n",
       "      <td>274</td>\n",
       "      <td>0.097509</td>\n",
       "    </tr>\n",
       "  </tbody>\n",
       "</table>\n",
       "</div>"
      ],
      "text/plain": [
       "           family_status  total  debt     ratio\n",
       "0        женат / замужем  12339   931  0.075452\n",
       "1       гражданский брак   4151   388  0.093471\n",
       "2         вдовец / вдова    959    63  0.065693\n",
       "3              в разводе   1195    85  0.071130\n",
       "4  Не женат / не замужем   2810   274  0.097509"
      ]
     },
     "execution_count": 61,
     "metadata": {},
     "output_type": "execute_result"
    }
   ],
   "source": [
    "family_dict.merge(create_debt_ratio_table('family_status_id'), on='family_status_id', how='left').drop('family_status_id', axis=1)"
   ]
  },
  {
   "cell_type": "markdown",
   "id": "635bb916",
   "metadata": {},
   "source": [
    "Как ни странно, однако вдовы/вдовцы, а также разведенные люди возвращают кредит в срок чаще всего. А вот те, кто не состоят в браке или состоят в гражданском, реже остальных возвращают кредит вовремя."
   ]
  },
  {
   "cell_type": "markdown",
   "id": "5234c966",
   "metadata": {},
   "source": [
    "### Зависимость между уровнем дохода и возвратом кредита в срок"
   ]
  },
  {
   "cell_type": "code",
   "execution_count": 62,
   "id": "25bc5a3e",
   "metadata": {},
   "outputs": [
    {
     "data": {
      "text/html": [
       "<div>\n",
       "<style scoped>\n",
       "    .dataframe tbody tr th:only-of-type {\n",
       "        vertical-align: middle;\n",
       "    }\n",
       "\n",
       "    .dataframe tbody tr th {\n",
       "        vertical-align: top;\n",
       "    }\n",
       "\n",
       "    .dataframe thead th {\n",
       "        text-align: right;\n",
       "    }\n",
       "</style>\n",
       "<table border=\"1\" class=\"dataframe\">\n",
       "  <thead>\n",
       "    <tr style=\"text-align: right;\">\n",
       "      <th></th>\n",
       "      <th>total</th>\n",
       "      <th>debt</th>\n",
       "      <th>ratio</th>\n",
       "    </tr>\n",
       "    <tr>\n",
       "      <th>total_income_category</th>\n",
       "      <th></th>\n",
       "      <th></th>\n",
       "      <th></th>\n",
       "    </tr>\n",
       "  </thead>\n",
       "  <tbody>\n",
       "    <tr>\n",
       "      <td>A</td>\n",
       "      <td>25</td>\n",
       "      <td>2</td>\n",
       "      <td>0.080000</td>\n",
       "    </tr>\n",
       "    <tr>\n",
       "      <td>B</td>\n",
       "      <td>5042</td>\n",
       "      <td>356</td>\n",
       "      <td>0.070607</td>\n",
       "    </tr>\n",
       "    <tr>\n",
       "      <td>C</td>\n",
       "      <td>16015</td>\n",
       "      <td>1360</td>\n",
       "      <td>0.084920</td>\n",
       "    </tr>\n",
       "    <tr>\n",
       "      <td>D</td>\n",
       "      <td>350</td>\n",
       "      <td>21</td>\n",
       "      <td>0.060000</td>\n",
       "    </tr>\n",
       "    <tr>\n",
       "      <td>E</td>\n",
       "      <td>22</td>\n",
       "      <td>2</td>\n",
       "      <td>0.090909</td>\n",
       "    </tr>\n",
       "  </tbody>\n",
       "</table>\n",
       "</div>"
      ],
      "text/plain": [
       "                       total  debt     ratio\n",
       "total_income_category                       \n",
       "A                         25     2  0.080000\n",
       "B                       5042   356  0.070607\n",
       "C                      16015  1360  0.084920\n",
       "D                        350    21  0.060000\n",
       "E                         22     2  0.090909"
      ]
     },
     "execution_count": 62,
     "metadata": {},
     "output_type": "execute_result"
    }
   ],
   "source": [
    "create_debt_ratio_table('total_income_category')"
   ]
  },
  {
   "cell_type": "markdown",
   "id": "7b0847ee",
   "metadata": {},
   "source": [
    "Выборки в случаях A (доход более 1 000 000), D (доход от 30 000 до 50 000) и E (доход менее 30 000) довольно маленькие, потому их сложно считать репрезентативными. Если их не учитывать, то кредиты чаще вовзращают в срок те, чей доход выше."
   ]
  },
  {
   "cell_type": "markdown",
   "id": "ca0854d2",
   "metadata": {},
   "source": [
    "### Зависимость между целью кредита и его возвратом в срок"
   ]
  },
  {
   "cell_type": "code",
   "execution_count": 63,
   "id": "1bd52769",
   "metadata": {},
   "outputs": [
    {
     "data": {
      "text/html": [
       "<div>\n",
       "<style scoped>\n",
       "    .dataframe tbody tr th:only-of-type {\n",
       "        vertical-align: middle;\n",
       "    }\n",
       "\n",
       "    .dataframe tbody tr th {\n",
       "        vertical-align: top;\n",
       "    }\n",
       "\n",
       "    .dataframe thead th {\n",
       "        text-align: right;\n",
       "    }\n",
       "</style>\n",
       "<table border=\"1\" class=\"dataframe\">\n",
       "  <thead>\n",
       "    <tr style=\"text-align: right;\">\n",
       "      <th></th>\n",
       "      <th>total</th>\n",
       "      <th>debt</th>\n",
       "      <th>ratio</th>\n",
       "    </tr>\n",
       "    <tr>\n",
       "      <th>purpose_category</th>\n",
       "      <th></th>\n",
       "      <th></th>\n",
       "      <th></th>\n",
       "    </tr>\n",
       "  </thead>\n",
       "  <tbody>\n",
       "    <tr>\n",
       "      <td>операции с автомобилем</td>\n",
       "      <td>4306</td>\n",
       "      <td>403</td>\n",
       "      <td>0.093590</td>\n",
       "    </tr>\n",
       "    <tr>\n",
       "      <td>операции с недвижимостью</td>\n",
       "      <td>10811</td>\n",
       "      <td>782</td>\n",
       "      <td>0.072334</td>\n",
       "    </tr>\n",
       "    <tr>\n",
       "      <td>получение образования</td>\n",
       "      <td>4013</td>\n",
       "      <td>370</td>\n",
       "      <td>0.092200</td>\n",
       "    </tr>\n",
       "    <tr>\n",
       "      <td>проведение свадьбы</td>\n",
       "      <td>2324</td>\n",
       "      <td>186</td>\n",
       "      <td>0.080034</td>\n",
       "    </tr>\n",
       "  </tbody>\n",
       "</table>\n",
       "</div>"
      ],
      "text/plain": [
       "                          total  debt     ratio\n",
       "purpose_category                               \n",
       "операции с автомобилем     4306   403  0.093590\n",
       "операции с недвижимостью  10811   782  0.072334\n",
       "получение образования      4013   370  0.092200\n",
       "проведение свадьбы         2324   186  0.080034"
      ]
     },
     "execution_count": 63,
     "metadata": {},
     "output_type": "execute_result"
    }
   ],
   "source": [
    "create_debt_ratio_table('purpose_category')"
   ]
  },
  {
   "cell_type": "markdown",
   "id": "b15b0583",
   "metadata": {},
   "source": [
    "Чаще всего люди возвращают кредит в случае, если берут его для свадьбы или недвижимости, и реже, если для учебы или автомобиля."
   ]
  },
  {
   "cell_type": "markdown",
   "id": "c49d0a87",
   "metadata": {},
   "source": [
    "## Общий вывод:"
   ]
  },
  {
   "cell_type": "markdown",
   "id": "6070f304",
   "metadata": {},
   "source": [
    "Определенная зависимость между целями кредита/количеством детей/семейным положением/уровнем дохода и возвратом кредита в срок наблюдается, хотя нельзя сказать, что разница огромная - во всех случаях доля невозвращенных кредитов составляет от 7% до 10%. Тем не менее, эти 2-3% при больших количествах кредитов могут оказать значительное влияние на кредитный портфель банка. Так, кредиты чаще возвращают в срок клиенты без детей, но состоящие в браке, с высоким доходом."
   ]
  }
 ],
 "metadata": {
  "ExecuteTimeLog": [
   {
    "duration": 140,
    "start_time": "2022-02-25T15:08:14.175Z"
   },
   {
    "duration": 457,
    "start_time": "2022-02-25T15:36:21.033Z"
   },
   {
    "duration": 831,
    "start_time": "2022-02-25T15:36:25.756Z"
   },
   {
    "duration": 71,
    "start_time": "2022-02-25T15:36:27.945Z"
   },
   {
    "duration": 38,
    "start_time": "2022-02-25T15:36:31.540Z"
   },
   {
    "duration": 15,
    "start_time": "2022-02-25T15:39:10.529Z"
   },
   {
    "duration": 53,
    "start_time": "2022-02-25T15:42:07.172Z"
   },
   {
    "duration": 315,
    "start_time": "2022-03-01T08:08:01.250Z"
   },
   {
    "duration": 646,
    "start_time": "2022-03-01T08:08:05.704Z"
   },
   {
    "duration": 63,
    "start_time": "2022-03-01T08:08:07.530Z"
   },
   {
    "duration": 21,
    "start_time": "2022-03-01T08:08:09.391Z"
   },
   {
    "duration": 13,
    "start_time": "2022-03-01T08:08:12.030Z"
   },
   {
    "duration": 36,
    "start_time": "2022-03-01T08:08:14.287Z"
   },
   {
    "duration": 14,
    "start_time": "2022-03-01T08:08:16.671Z"
   },
   {
    "duration": 7,
    "start_time": "2022-03-01T08:22:08.729Z"
   },
   {
    "duration": 339,
    "start_time": "2022-03-01T08:22:22.789Z"
   },
   {
    "duration": 7,
    "start_time": "2022-03-01T08:23:22.489Z"
   },
   {
    "duration": 6,
    "start_time": "2022-03-01T08:27:40.867Z"
   },
   {
    "duration": 6,
    "start_time": "2022-03-01T08:27:58.918Z"
   },
   {
    "duration": 7,
    "start_time": "2022-03-01T08:29:00.364Z"
   },
   {
    "duration": 338,
    "start_time": "2022-03-01T08:29:42.424Z"
   },
   {
    "duration": 7,
    "start_time": "2022-03-01T08:29:49.514Z"
   },
   {
    "duration": 6,
    "start_time": "2022-03-01T08:30:06.416Z"
   },
   {
    "duration": 6,
    "start_time": "2022-03-01T08:30:09.881Z"
   },
   {
    "duration": 258,
    "start_time": "2022-03-01T08:30:26.206Z"
   },
   {
    "duration": 320,
    "start_time": "2022-03-01T08:32:07.938Z"
   },
   {
    "duration": 266,
    "start_time": "2022-03-01T08:32:28.490Z"
   },
   {
    "duration": 1344,
    "start_time": "2022-03-01T08:33:46.658Z"
   },
   {
    "duration": 3,
    "start_time": "2022-03-01T08:34:58.238Z"
   },
   {
    "duration": 49,
    "start_time": "2022-03-01T08:34:59.646Z"
   },
   {
    "duration": 16,
    "start_time": "2022-03-01T08:35:02.053Z"
   },
   {
    "duration": 13,
    "start_time": "2022-03-01T08:35:04.273Z"
   },
   {
    "duration": 33,
    "start_time": "2022-03-01T08:35:06.610Z"
   },
   {
    "duration": 11,
    "start_time": "2022-03-01T08:35:08.918Z"
   },
   {
    "duration": 4,
    "start_time": "2022-03-01T08:35:40.868Z"
   },
   {
    "duration": 7,
    "start_time": "2022-03-01T08:35:54.599Z"
   },
   {
    "duration": 6,
    "start_time": "2022-03-01T08:37:27.569Z"
   },
   {
    "duration": 6,
    "start_time": "2022-03-01T08:37:32.805Z"
   },
   {
    "duration": 7,
    "start_time": "2022-03-01T08:40:06.469Z"
   },
   {
    "duration": 5,
    "start_time": "2022-03-01T08:40:57.488Z"
   },
   {
    "duration": 93,
    "start_time": "2022-03-01T08:41:14.778Z"
   },
   {
    "duration": 5,
    "start_time": "2022-03-01T08:41:29.169Z"
   },
   {
    "duration": 1821,
    "start_time": "2022-03-01T08:42:02.796Z"
   },
   {
    "duration": 15,
    "start_time": "2022-03-01T08:42:18.415Z"
   },
   {
    "duration": 89,
    "start_time": "2022-03-01T08:42:40.543Z"
   },
   {
    "duration": 90,
    "start_time": "2022-03-01T08:43:41.075Z"
   },
   {
    "duration": 304,
    "start_time": "2022-03-01T08:43:47.320Z"
   },
   {
    "duration": 8,
    "start_time": "2022-03-01T08:44:21.205Z"
   },
   {
    "duration": 9,
    "start_time": "2022-03-01T08:45:43.255Z"
   },
   {
    "duration": 7,
    "start_time": "2022-03-01T08:45:51.540Z"
   },
   {
    "duration": 628,
    "start_time": "2022-03-01T08:46:13.732Z"
   },
   {
    "duration": 55,
    "start_time": "2022-03-01T08:46:15.920Z"
   },
   {
    "duration": 357,
    "start_time": "2022-03-01T08:46:21.111Z"
   },
   {
    "duration": 13,
    "start_time": "2022-03-01T08:49:29.773Z"
   },
   {
    "duration": 7,
    "start_time": "2022-03-01T08:50:19.422Z"
   },
   {
    "duration": 280,
    "start_time": "2022-03-01T08:52:46.278Z"
   },
   {
    "duration": 267,
    "start_time": "2022-03-01T08:54:22.435Z"
   },
   {
    "duration": 374,
    "start_time": "2022-03-01T08:54:31.765Z"
   },
   {
    "duration": 4,
    "start_time": "2022-03-01T08:55:27.538Z"
   },
   {
    "duration": 269,
    "start_time": "2022-03-01T08:55:33.520Z"
   },
   {
    "duration": 4,
    "start_time": "2022-03-01T08:55:37.299Z"
   },
   {
    "duration": 6,
    "start_time": "2022-03-01T08:56:40.785Z"
   },
   {
    "duration": 292,
    "start_time": "2022-03-01T08:57:05.866Z"
   },
   {
    "duration": 4,
    "start_time": "2022-03-01T08:59:11.122Z"
   },
   {
    "duration": 314,
    "start_time": "2022-03-01T08:59:20.456Z"
   },
   {
    "duration": 4,
    "start_time": "2022-03-01T09:00:20.080Z"
   },
   {
    "duration": 3,
    "start_time": "2022-03-01T09:02:03.200Z"
   },
   {
    "duration": 11,
    "start_time": "2022-03-01T09:02:36.193Z"
   },
   {
    "duration": 11,
    "start_time": "2022-03-01T09:02:57.707Z"
   },
   {
    "duration": 11,
    "start_time": "2022-03-01T09:03:05.029Z"
   },
   {
    "duration": 10,
    "start_time": "2022-03-01T09:03:10.961Z"
   },
   {
    "duration": -1459,
    "start_time": "2022-03-01T09:04:48.076Z"
   },
   {
    "duration": 6746,
    "start_time": "2022-03-01T09:04:50.259Z"
   },
   {
    "duration": 5,
    "start_time": "2022-03-01T09:05:21.272Z"
   },
   {
    "duration": 624,
    "start_time": "2022-03-01T09:13:15.796Z"
   },
   {
    "duration": 52,
    "start_time": "2022-03-01T09:13:18.087Z"
   },
   {
    "duration": 18,
    "start_time": "2022-03-01T09:13:29.941Z"
   },
   {
    "duration": 23,
    "start_time": "2022-03-01T09:14:03.498Z"
   },
   {
    "duration": 5,
    "start_time": "2022-03-01T09:14:29.737Z"
   },
   {
    "duration": 21,
    "start_time": "2022-03-01T09:14:43.159Z"
   },
   {
    "duration": 8202,
    "start_time": "2022-03-01T09:23:46.991Z"
   },
   {
    "duration": 5,
    "start_time": "2022-03-01T09:24:32.242Z"
   },
   {
    "duration": 12,
    "start_time": "2022-03-01T09:24:51.713Z"
   },
   {
    "duration": 578,
    "start_time": "2022-03-01T09:28:43.807Z"
   },
   {
    "duration": 53,
    "start_time": "2022-03-01T09:28:45.924Z"
   },
   {
    "duration": 16,
    "start_time": "2022-03-01T09:28:50.052Z"
   },
   {
    "duration": 17,
    "start_time": "2022-03-01T09:28:52.900Z"
   },
   {
    "duration": 552,
    "start_time": "2022-03-01T09:50:50.552Z"
   },
   {
    "duration": 324,
    "start_time": "2022-03-01T10:02:35.251Z"
   },
   {
    "duration": 5,
    "start_time": "2022-03-01T10:02:42.512Z"
   },
   {
    "duration": 7,
    "start_time": "2022-03-01T10:04:37.592Z"
   },
   {
    "duration": 5,
    "start_time": "2022-03-01T10:10:28.251Z"
   },
   {
    "duration": 6,
    "start_time": "2022-03-01T10:14:53.509Z"
   },
   {
    "duration": 264,
    "start_time": "2022-03-01T10:16:29.701Z"
   },
   {
    "duration": 8,
    "start_time": "2022-03-01T10:16:40.327Z"
   },
   {
    "duration": 668,
    "start_time": "2022-03-01T10:24:24.751Z"
   },
   {
    "duration": 67,
    "start_time": "2022-03-01T10:24:26.532Z"
   },
   {
    "duration": 17,
    "start_time": "2022-03-01T10:24:34.047Z"
   },
   {
    "duration": 8,
    "start_time": "2022-03-01T10:24:36.818Z"
   },
   {
    "duration": 17,
    "start_time": "2022-03-01T10:24:40.017Z"
   },
   {
    "duration": 10,
    "start_time": "2022-03-01T10:25:10.036Z"
   },
   {
    "duration": 19,
    "start_time": "2022-03-01T10:25:12.502Z"
   },
   {
    "duration": 17,
    "start_time": "2022-03-01T10:33:16.124Z"
   },
   {
    "duration": 20,
    "start_time": "2022-03-01T10:33:46.131Z"
   },
   {
    "duration": 16,
    "start_time": "2022-03-01T10:36:49.679Z"
   },
   {
    "duration": 91,
    "start_time": "2022-03-01T10:55:45.400Z"
   },
   {
    "duration": 6,
    "start_time": "2022-03-01T10:56:26.753Z"
   },
   {
    "duration": 5,
    "start_time": "2022-03-01T10:57:07.197Z"
   },
   {
    "duration": 12,
    "start_time": "2022-03-01T10:59:58.660Z"
   },
   {
    "duration": 6,
    "start_time": "2022-03-01T11:00:11.640Z"
   },
   {
    "duration": 10,
    "start_time": "2022-03-01T11:10:11.179Z"
   },
   {
    "duration": 4,
    "start_time": "2022-03-01T11:16:21.633Z"
   },
   {
    "duration": 9,
    "start_time": "2022-03-01T11:16:32.758Z"
   },
   {
    "duration": 9,
    "start_time": "2022-03-01T11:46:02.698Z"
   },
   {
    "duration": 6,
    "start_time": "2022-03-01T11:47:02.349Z"
   },
   {
    "duration": 346,
    "start_time": "2022-03-01T11:47:31.209Z"
   },
   {
    "duration": 4,
    "start_time": "2022-03-01T11:47:38.897Z"
   },
   {
    "duration": 275,
    "start_time": "2022-03-01T11:48:00.260Z"
   },
   {
    "duration": 7,
    "start_time": "2022-03-01T11:48:22.153Z"
   },
   {
    "duration": 270,
    "start_time": "2022-03-01T11:49:25.120Z"
   },
   {
    "duration": 3,
    "start_time": "2022-03-01T11:49:41.498Z"
   },
   {
    "duration": 3,
    "start_time": "2022-03-01T11:49:44.745Z"
   },
   {
    "duration": 7,
    "start_time": "2022-03-01T11:50:34.385Z"
   },
   {
    "duration": 657,
    "start_time": "2022-03-01T11:50:45.658Z"
   },
   {
    "duration": 67,
    "start_time": "2022-03-01T11:50:47.381Z"
   },
   {
    "duration": 21,
    "start_time": "2022-03-01T11:50:48.210Z"
   },
   {
    "duration": 12,
    "start_time": "2022-03-01T11:50:50.274Z"
   },
   {
    "duration": 37,
    "start_time": "2022-03-01T11:50:52.645Z"
   },
   {
    "duration": 11,
    "start_time": "2022-03-01T11:50:57.269Z"
   },
   {
    "duration": 8,
    "start_time": "2022-03-01T11:50:59.317Z"
   },
   {
    "duration": 15,
    "start_time": "2022-03-01T11:51:02.441Z"
   },
   {
    "duration": 6,
    "start_time": "2022-03-01T11:51:10.559Z"
   },
   {
    "duration": 10,
    "start_time": "2022-03-01T11:51:12.328Z"
   },
   {
    "duration": 18,
    "start_time": "2022-03-01T11:51:15.147Z"
   },
   {
    "duration": 18,
    "start_time": "2022-03-01T11:51:15.671Z"
   },
   {
    "duration": 17,
    "start_time": "2022-03-01T11:51:16.082Z"
   },
   {
    "duration": 5,
    "start_time": "2022-03-01T11:51:17.535Z"
   },
   {
    "duration": 11,
    "start_time": "2022-03-01T11:51:18.692Z"
   },
   {
    "duration": 7,
    "start_time": "2022-03-01T11:51:19.095Z"
   },
   {
    "duration": 9,
    "start_time": "2022-03-01T11:51:21.552Z"
   },
   {
    "duration": 4,
    "start_time": "2022-03-01T11:51:23.291Z"
   },
   {
    "duration": 9,
    "start_time": "2022-03-01T11:51:24.254Z"
   },
   {
    "duration": 9,
    "start_time": "2022-03-01T11:51:26.720Z"
   },
   {
    "duration": 5,
    "start_time": "2022-03-01T11:51:29.144Z"
   },
   {
    "duration": 6,
    "start_time": "2022-03-01T11:57:39.293Z"
   },
   {
    "duration": 5,
    "start_time": "2022-03-01T11:57:52.878Z"
   },
   {
    "duration": 86,
    "start_time": "2022-03-01T12:05:25.346Z"
   },
   {
    "duration": 6,
    "start_time": "2022-03-01T12:05:31.439Z"
   },
   {
    "duration": 92,
    "start_time": "2022-03-01T12:05:38.632Z"
   },
   {
    "duration": 6,
    "start_time": "2022-03-01T12:05:43.011Z"
   },
   {
    "duration": 14,
    "start_time": "2022-03-01T12:09:37.111Z"
   },
   {
    "duration": 6,
    "start_time": "2022-03-01T12:09:51.152Z"
   },
   {
    "duration": 13,
    "start_time": "2022-03-01T12:10:09.056Z"
   },
   {
    "duration": 7,
    "start_time": "2022-03-01T12:10:10.542Z"
   },
   {
    "duration": 13,
    "start_time": "2022-03-01T12:11:11.936Z"
   },
   {
    "duration": 7,
    "start_time": "2022-03-01T12:11:12.864Z"
   },
   {
    "duration": 7,
    "start_time": "2022-03-01T12:11:17.457Z"
   },
   {
    "duration": 344,
    "start_time": "2022-03-01T12:12:40.155Z"
   },
   {
    "duration": 15,
    "start_time": "2022-03-01T12:12:46.610Z"
   },
   {
    "duration": 5,
    "start_time": "2022-03-01T12:12:50.828Z"
   },
   {
    "duration": 14,
    "start_time": "2022-03-01T12:13:32.580Z"
   },
   {
    "duration": 6,
    "start_time": "2022-03-01T12:13:34.117Z"
   },
   {
    "duration": 22,
    "start_time": "2022-03-01T12:13:52.613Z"
   },
   {
    "duration": 1212,
    "start_time": "2022-03-01T12:15:08.544Z"
   },
   {
    "duration": 645,
    "start_time": "2022-03-01T12:16:00.521Z"
   },
   {
    "duration": 63,
    "start_time": "2022-03-01T12:16:02.346Z"
   },
   {
    "duration": 22,
    "start_time": "2022-03-01T12:16:03.180Z"
   },
   {
    "duration": 6,
    "start_time": "2022-03-01T12:16:19.365Z"
   },
   {
    "duration": 20,
    "start_time": "2022-03-01T12:16:26.509Z"
   },
   {
    "duration": 13,
    "start_time": "2022-03-01T12:16:35.195Z"
   },
   {
    "duration": 4,
    "start_time": "2022-03-01T12:16:42.783Z"
   },
   {
    "duration": 9,
    "start_time": "2022-03-01T12:16:50.388Z"
   },
   {
    "duration": 6,
    "start_time": "2022-03-01T12:16:54.187Z"
   },
   {
    "duration": 4,
    "start_time": "2022-03-01T12:17:12.900Z"
   },
   {
    "duration": 6,
    "start_time": "2022-03-01T12:17:21.182Z"
   },
   {
    "duration": 6,
    "start_time": "2022-03-01T12:17:40.821Z"
   },
   {
    "duration": 12,
    "start_time": "2022-03-01T12:17:55.684Z"
   },
   {
    "duration": 6,
    "start_time": "2022-03-01T12:17:58.926Z"
   },
   {
    "duration": 23,
    "start_time": "2022-03-01T12:18:28.966Z"
   },
   {
    "duration": 5,
    "start_time": "2022-03-01T12:22:05.728Z"
   },
   {
    "duration": 5,
    "start_time": "2022-03-01T12:23:18.663Z"
   },
   {
    "duration": 5,
    "start_time": "2022-03-01T12:24:51.890Z"
   },
   {
    "duration": 600,
    "start_time": "2022-03-01T12:25:02.512Z"
   },
   {
    "duration": 65,
    "start_time": "2022-03-01T12:25:03.541Z"
   },
   {
    "duration": 21,
    "start_time": "2022-03-01T12:25:04.054Z"
   },
   {
    "duration": 13,
    "start_time": "2022-03-01T12:25:04.557Z"
   },
   {
    "duration": 37,
    "start_time": "2022-03-01T12:25:05.519Z"
   },
   {
    "duration": 10,
    "start_time": "2022-03-01T12:25:06.272Z"
   },
   {
    "duration": 8,
    "start_time": "2022-03-01T12:25:06.674Z"
   },
   {
    "duration": 17,
    "start_time": "2022-03-01T12:25:07.042Z"
   },
   {
    "duration": 6,
    "start_time": "2022-03-01T12:25:07.405Z"
   },
   {
    "duration": 10,
    "start_time": "2022-03-01T12:25:07.755Z"
   },
   {
    "duration": 18,
    "start_time": "2022-03-01T12:25:09.418Z"
   },
   {
    "duration": 19,
    "start_time": "2022-03-01T12:25:10.070Z"
   },
   {
    "duration": 17,
    "start_time": "2022-03-01T12:25:10.278Z"
   },
   {
    "duration": 5,
    "start_time": "2022-03-01T12:25:10.775Z"
   },
   {
    "duration": 13,
    "start_time": "2022-03-01T12:25:10.941Z"
   },
   {
    "duration": 8,
    "start_time": "2022-03-01T12:25:11.143Z"
   },
   {
    "duration": 9,
    "start_time": "2022-03-01T12:25:12.203Z"
   },
   {
    "duration": 3,
    "start_time": "2022-03-01T12:25:13.533Z"
   },
   {
    "duration": 10,
    "start_time": "2022-03-01T12:25:13.694Z"
   },
   {
    "duration": 9,
    "start_time": "2022-03-01T12:25:14.249Z"
   },
   {
    "duration": 7,
    "start_time": "2022-03-01T12:25:14.654Z"
   },
   {
    "duration": 5,
    "start_time": "2022-03-01T12:25:25.601Z"
   },
   {
    "duration": 6,
    "start_time": "2022-03-01T12:25:26.239Z"
   },
   {
    "duration": 5,
    "start_time": "2022-03-01T12:25:29.259Z"
   },
   {
    "duration": 6,
    "start_time": "2022-03-01T12:25:33.918Z"
   },
   {
    "duration": 5,
    "start_time": "2022-03-01T12:31:21.896Z"
   },
   {
    "duration": 15,
    "start_time": "2022-03-01T12:34:46.402Z"
   },
   {
    "duration": 26,
    "start_time": "2022-03-01T12:35:53.127Z"
   },
   {
    "duration": 13,
    "start_time": "2022-03-01T12:36:00.418Z"
   },
   {
    "duration": 6,
    "start_time": "2022-03-01T12:41:02.274Z"
   },
   {
    "duration": 5,
    "start_time": "2022-03-01T12:41:38.884Z"
   },
   {
    "duration": 6,
    "start_time": "2022-03-01T12:45:08.859Z"
   },
   {
    "duration": 362,
    "start_time": "2022-03-01T12:48:06.531Z"
   },
   {
    "duration": 5,
    "start_time": "2022-03-01T12:50:18.548Z"
   },
   {
    "duration": 8,
    "start_time": "2022-03-01T12:54:19.839Z"
   },
   {
    "duration": 85,
    "start_time": "2022-03-01T12:54:32.818Z"
   },
   {
    "duration": 6,
    "start_time": "2022-03-01T12:54:54.137Z"
   },
   {
    "duration": 32,
    "start_time": "2022-03-01T12:58:27.857Z"
   },
   {
    "duration": 13,
    "start_time": "2022-03-01T12:58:33.706Z"
   },
   {
    "duration": 4,
    "start_time": "2022-03-01T12:59:04.394Z"
   },
   {
    "duration": 4,
    "start_time": "2022-03-01T12:59:56.339Z"
   },
   {
    "duration": 5,
    "start_time": "2022-03-01T12:59:57.922Z"
   },
   {
    "duration": 14,
    "start_time": "2022-03-01T13:00:30.009Z"
   },
   {
    "duration": 5,
    "start_time": "2022-03-01T13:00:31.850Z"
   },
   {
    "duration": 288,
    "start_time": "2022-03-01T13:00:44.710Z"
   },
   {
    "duration": 640,
    "start_time": "2022-03-01T13:00:48.752Z"
   },
   {
    "duration": 54,
    "start_time": "2022-03-01T13:00:50.253Z"
   },
   {
    "duration": 11,
    "start_time": "2022-03-01T13:01:00.246Z"
   },
   {
    "duration": 14,
    "start_time": "2022-03-01T13:01:02.828Z"
   },
   {
    "duration": 5,
    "start_time": "2022-03-01T13:01:04.714Z"
   },
   {
    "duration": 577,
    "start_time": "2022-03-01T13:01:29.632Z"
   },
   {
    "duration": 55,
    "start_time": "2022-03-01T13:01:32.310Z"
   },
   {
    "duration": 13,
    "start_time": "2022-03-01T13:01:38.204Z"
   },
   {
    "duration": 6,
    "start_time": "2022-03-01T13:01:40.930Z"
   },
   {
    "duration": 12,
    "start_time": "2022-03-01T13:01:43.432Z"
   },
   {
    "duration": 5,
    "start_time": "2022-03-01T13:02:23.505Z"
   },
   {
    "duration": 5,
    "start_time": "2022-03-01T13:03:21.156Z"
   },
   {
    "duration": 6,
    "start_time": "2022-03-01T13:03:23.516Z"
   },
   {
    "duration": 355,
    "start_time": "2022-03-01T13:07:27.676Z"
   },
   {
    "duration": 7,
    "start_time": "2022-03-01T13:07:42.930Z"
   },
   {
    "duration": 12,
    "start_time": "2022-03-01T13:11:37.716Z"
   },
   {
    "duration": 6481,
    "start_time": "2022-03-01T13:12:10.977Z"
   },
   {
    "duration": 5,
    "start_time": "2022-03-01T13:12:18.371Z"
   },
   {
    "duration": 10,
    "start_time": "2022-03-01T13:13:54.417Z"
   },
   {
    "duration": 269,
    "start_time": "2022-03-01T13:17:40.885Z"
   },
   {
    "duration": 5,
    "start_time": "2022-03-01T13:18:53.510Z"
   },
   {
    "duration": 5,
    "start_time": "2022-03-01T13:28:13.405Z"
   },
   {
    "duration": 90,
    "start_time": "2022-03-01T13:30:33.860Z"
   },
   {
    "duration": 615,
    "start_time": "2022-03-01T13:30:54.996Z"
   },
   {
    "duration": 53,
    "start_time": "2022-03-01T13:30:57.486Z"
   },
   {
    "duration": 21,
    "start_time": "2022-03-01T13:30:59.964Z"
   },
   {
    "duration": 12,
    "start_time": "2022-03-01T13:31:02.773Z"
   },
   {
    "duration": 35,
    "start_time": "2022-03-01T13:31:06.277Z"
   },
   {
    "duration": 10,
    "start_time": "2022-03-01T13:31:10.159Z"
   },
   {
    "duration": 8,
    "start_time": "2022-03-01T13:31:12.976Z"
   },
   {
    "duration": 18,
    "start_time": "2022-03-01T13:31:15.768Z"
   },
   {
    "duration": 6,
    "start_time": "2022-03-01T13:31:24.251Z"
   },
   {
    "duration": 11,
    "start_time": "2022-03-01T13:31:26.756Z"
   },
   {
    "duration": 19,
    "start_time": "2022-03-01T13:31:32.605Z"
   },
   {
    "duration": 18,
    "start_time": "2022-03-01T13:31:33.944Z"
   },
   {
    "duration": 17,
    "start_time": "2022-03-01T13:31:35.840Z"
   },
   {
    "duration": 5,
    "start_time": "2022-03-01T13:31:37.769Z"
   },
   {
    "duration": 12,
    "start_time": "2022-03-01T13:31:40.084Z"
   },
   {
    "duration": 6,
    "start_time": "2022-03-01T13:31:41.825Z"
   },
   {
    "duration": 5,
    "start_time": "2022-03-01T13:31:50.975Z"
   },
   {
    "duration": 6,
    "start_time": "2022-03-01T13:31:53.940Z"
   },
   {
    "duration": 5,
    "start_time": "2022-03-01T13:31:55.680Z"
   },
   {
    "duration": 6,
    "start_time": "2022-03-01T13:31:57.971Z"
   },
   {
    "duration": 6,
    "start_time": "2022-03-01T13:32:00.049Z"
   },
   {
    "duration": 8,
    "start_time": "2022-03-01T13:32:01.839Z"
   },
   {
    "duration": 4,
    "start_time": "2022-03-01T13:32:05.318Z"
   },
   {
    "duration": 4,
    "start_time": "2022-03-01T13:32:07.358Z"
   },
   {
    "duration": 9,
    "start_time": "2022-03-01T13:32:10.637Z"
   },
   {
    "duration": 4,
    "start_time": "2022-03-01T13:32:14.752Z"
   },
   {
    "duration": 9,
    "start_time": "2022-03-01T13:32:16.196Z"
   },
   {
    "duration": 5,
    "start_time": "2022-03-01T13:32:18.181Z"
   },
   {
    "duration": 5,
    "start_time": "2022-03-01T13:32:21.010Z"
   },
   {
    "duration": 6,
    "start_time": "2022-03-01T13:32:22.520Z"
   },
   {
    "duration": 6,
    "start_time": "2022-03-01T13:32:26.254Z"
   },
   {
    "duration": 5,
    "start_time": "2022-03-01T13:32:29.049Z"
   },
   {
    "duration": 14,
    "start_time": "2022-03-01T13:33:17.629Z"
   },
   {
    "duration": 5,
    "start_time": "2022-03-01T13:33:20.020Z"
   },
   {
    "duration": 5,
    "start_time": "2022-03-01T13:33:25.768Z"
   },
   {
    "duration": 5,
    "start_time": "2022-03-01T13:33:29.247Z"
   },
   {
    "duration": 8,
    "start_time": "2022-03-01T13:33:33.882Z"
   },
   {
    "duration": 14,
    "start_time": "2022-03-01T13:34:10.693Z"
   },
   {
    "duration": 470,
    "start_time": "2022-03-01T13:35:35.764Z"
   },
   {
    "duration": 5,
    "start_time": "2022-03-01T13:35:49.031Z"
   },
   {
    "duration": 5,
    "start_time": "2022-03-01T13:35:51.588Z"
   },
   {
    "duration": 613,
    "start_time": "2022-03-01T13:36:31.012Z"
   },
   {
    "duration": 66,
    "start_time": "2022-03-01T13:36:33.665Z"
   },
   {
    "duration": 22,
    "start_time": "2022-03-01T13:36:34.247Z"
   },
   {
    "duration": 13,
    "start_time": "2022-03-01T13:36:37.001Z"
   },
   {
    "duration": 46,
    "start_time": "2022-03-01T13:36:39.018Z"
   },
   {
    "duration": 12,
    "start_time": "2022-03-01T13:36:41.373Z"
   },
   {
    "duration": 8,
    "start_time": "2022-03-01T13:36:43.450Z"
   },
   {
    "duration": 17,
    "start_time": "2022-03-01T13:36:45.073Z"
   },
   {
    "duration": 6,
    "start_time": "2022-03-01T13:36:49.733Z"
   },
   {
    "duration": 10,
    "start_time": "2022-03-01T13:36:51.292Z"
   },
   {
    "duration": 19,
    "start_time": "2022-03-01T13:36:54.411Z"
   },
   {
    "duration": 19,
    "start_time": "2022-03-01T13:36:55.971Z"
   },
   {
    "duration": 18,
    "start_time": "2022-03-01T13:36:57.710Z"
   },
   {
    "duration": 7,
    "start_time": "2022-03-01T13:36:59.122Z"
   },
   {
    "duration": 13,
    "start_time": "2022-03-01T13:36:59.752Z"
   },
   {
    "duration": 9,
    "start_time": "2022-03-01T13:37:00.749Z"
   },
   {
    "duration": 5,
    "start_time": "2022-03-01T13:37:03.645Z"
   },
   {
    "duration": 6,
    "start_time": "2022-03-01T13:37:07.188Z"
   },
   {
    "duration": 4,
    "start_time": "2022-03-01T13:37:14.196Z"
   },
   {
    "duration": 6,
    "start_time": "2022-03-01T13:37:15.095Z"
   },
   {
    "duration": 7,
    "start_time": "2022-03-01T13:37:18.180Z"
   },
   {
    "duration": 8,
    "start_time": "2022-03-01T13:37:19.470Z"
   },
   {
    "duration": 4,
    "start_time": "2022-03-01T13:37:24.442Z"
   },
   {
    "duration": 5,
    "start_time": "2022-03-01T13:37:25.159Z"
   },
   {
    "duration": 12,
    "start_time": "2022-03-01T13:37:29.985Z"
   },
   {
    "duration": 5,
    "start_time": "2022-03-01T13:37:32.222Z"
   },
   {
    "duration": 12,
    "start_time": "2022-03-01T13:37:32.732Z"
   },
   {
    "duration": 7,
    "start_time": "2022-03-01T13:37:35.138Z"
   },
   {
    "duration": 5,
    "start_time": "2022-03-01T13:37:41.562Z"
   },
   {
    "duration": 7,
    "start_time": "2022-03-01T13:37:42.827Z"
   },
   {
    "duration": 6,
    "start_time": "2022-03-01T13:38:17.520Z"
   },
   {
    "duration": 5,
    "start_time": "2022-03-01T13:38:19.404Z"
   },
   {
    "duration": 14,
    "start_time": "2022-03-01T13:38:20.706Z"
   },
   {
    "duration": 6,
    "start_time": "2022-03-01T13:38:23.083Z"
   },
   {
    "duration": 5,
    "start_time": "2022-03-01T13:38:24.892Z"
   },
   {
    "duration": 10,
    "start_time": "2022-03-01T13:38:26.738Z"
   },
   {
    "duration": 4,
    "start_time": "2022-03-01T13:38:29.506Z"
   },
   {
    "duration": 6,
    "start_time": "2022-03-01T13:38:30.645Z"
   },
   {
    "duration": 15,
    "start_time": "2022-03-01T13:38:36.955Z"
   },
   {
    "duration": 5,
    "start_time": "2022-03-01T13:41:26.308Z"
   },
   {
    "duration": 11,
    "start_time": "2022-03-01T13:41:35.887Z"
   },
   {
    "duration": 8,
    "start_time": "2022-03-01T13:42:19.792Z"
   },
   {
    "duration": 12,
    "start_time": "2022-03-01T13:42:31.321Z"
   },
   {
    "duration": 13,
    "start_time": "2022-03-01T13:44:31.991Z"
   },
   {
    "duration": 20,
    "start_time": "2022-03-01T13:56:13.763Z"
   },
   {
    "duration": 3,
    "start_time": "2022-03-01T14:05:51.064Z"
   },
   {
    "duration": 597,
    "start_time": "2022-03-01T14:05:52.779Z"
   },
   {
    "duration": 25,
    "start_time": "2022-03-01T14:06:34.322Z"
   },
   {
    "duration": 20,
    "start_time": "2022-03-01T14:06:56.930Z"
   },
   {
    "duration": 9,
    "start_time": "2022-03-01T14:07:36.280Z"
   },
   {
    "duration": 19,
    "start_time": "2022-03-01T14:10:21.571Z"
   },
   {
    "duration": 4,
    "start_time": "2022-03-01T14:18:44.002Z"
   },
   {
    "duration": 9,
    "start_time": "2022-03-01T14:18:45.500Z"
   },
   {
    "duration": 18,
    "start_time": "2022-03-01T14:18:47.586Z"
   },
   {
    "duration": 262,
    "start_time": "2022-03-01T14:19:17.707Z"
   },
   {
    "duration": 270,
    "start_time": "2022-03-01T14:19:26.609Z"
   },
   {
    "duration": 5,
    "start_time": "2022-03-01T14:19:45.662Z"
   },
   {
    "duration": 12,
    "start_time": "2022-03-01T14:44:48.666Z"
   },
   {
    "duration": 255,
    "start_time": "2022-03-01T14:49:04.015Z"
   },
   {
    "duration": 9,
    "start_time": "2022-03-01T14:49:43.125Z"
   },
   {
    "duration": 9,
    "start_time": "2022-03-01T14:53:44.430Z"
   },
   {
    "duration": 11,
    "start_time": "2022-03-01T14:58:58.249Z"
   },
   {
    "duration": 285,
    "start_time": "2022-03-01T15:14:28.782Z"
   },
   {
    "duration": 56,
    "start_time": "2022-03-01T15:14:37.443Z"
   },
   {
    "duration": 280,
    "start_time": "2022-03-01T15:15:16.446Z"
   },
   {
    "duration": 36,
    "start_time": "2022-03-01T15:17:32.809Z"
   },
   {
    "duration": -1632,
    "start_time": "2022-03-01T15:19:25.106Z"
   },
   {
    "duration": 6344,
    "start_time": "2022-03-01T15:19:36.985Z"
   },
   {
    "duration": 25,
    "start_time": "2022-03-01T15:20:01.308Z"
   },
   {
    "duration": 6481,
    "start_time": "2022-03-01T15:20:51.068Z"
   },
   {
    "duration": 25,
    "start_time": "2022-03-01T15:21:07.377Z"
   },
   {
    "duration": 22,
    "start_time": "2022-03-01T15:25:42.995Z"
   },
   {
    "duration": 37,
    "start_time": "2022-03-01T15:26:08.960Z"
   },
   {
    "duration": 283,
    "start_time": "2022-03-01T15:27:04.519Z"
   },
   {
    "duration": 264,
    "start_time": "2022-03-01T15:28:02.582Z"
   },
   {
    "duration": 22,
    "start_time": "2022-03-01T15:28:08.896Z"
   },
   {
    "duration": 258,
    "start_time": "2022-03-01T15:29:14.245Z"
   },
   {
    "duration": 20,
    "start_time": "2022-03-01T15:29:32.999Z"
   },
   {
    "duration": 273,
    "start_time": "2022-03-01T15:29:51.894Z"
   },
   {
    "duration": 23,
    "start_time": "2022-03-01T15:30:09.146Z"
   },
   {
    "duration": 22,
    "start_time": "2022-03-01T15:30:25.250Z"
   },
   {
    "duration": 25,
    "start_time": "2022-03-01T15:30:49.817Z"
   },
   {
    "duration": 21,
    "start_time": "2022-03-01T15:31:30.568Z"
   },
   {
    "duration": 21,
    "start_time": "2022-03-01T15:31:38.906Z"
   },
   {
    "duration": 20,
    "start_time": "2022-03-01T15:36:45.335Z"
   },
   {
    "duration": 20,
    "start_time": "2022-03-01T15:41:37.789Z"
   },
   {
    "duration": 21,
    "start_time": "2022-03-01T15:42:11.088Z"
   },
   {
    "duration": 79,
    "start_time": "2022-03-01T15:47:39.088Z"
   },
   {
    "duration": 85,
    "start_time": "2022-03-01T15:47:53.172Z"
   },
   {
    "duration": 21,
    "start_time": "2022-03-01T15:48:14.203Z"
   },
   {
    "duration": 20,
    "start_time": "2022-03-01T15:48:51.378Z"
   },
   {
    "duration": 22,
    "start_time": "2022-03-01T15:49:02.065Z"
   },
   {
    "duration": 21,
    "start_time": "2022-03-01T15:49:31.875Z"
   },
   {
    "duration": 101,
    "start_time": "2022-03-01T16:02:27.429Z"
   },
   {
    "duration": 80,
    "start_time": "2022-03-01T16:02:37.655Z"
   },
   {
    "duration": 88,
    "start_time": "2022-03-01T16:03:18.986Z"
   },
   {
    "duration": 4,
    "start_time": "2022-03-01T16:03:29.244Z"
   },
   {
    "duration": 4,
    "start_time": "2022-03-01T16:04:09.873Z"
   },
   {
    "duration": 545,
    "start_time": "2022-03-01T16:04:12.439Z"
   },
   {
    "duration": 4,
    "start_time": "2022-03-01T16:04:22.282Z"
   },
   {
    "duration": 19,
    "start_time": "2022-03-01T16:04:23.840Z"
   },
   {
    "duration": 19,
    "start_time": "2022-03-01T16:05:39.193Z"
   },
   {
    "duration": 19,
    "start_time": "2022-03-01T16:06:38.618Z"
   },
   {
    "duration": 21,
    "start_time": "2022-03-01T16:07:48.311Z"
   },
   {
    "duration": 18,
    "start_time": "2022-03-01T16:48:23.522Z"
   },
   {
    "duration": 18,
    "start_time": "2022-03-01T16:48:44.151Z"
   },
   {
    "duration": 16,
    "start_time": "2022-03-01T16:48:57.318Z"
   },
   {
    "duration": 20,
    "start_time": "2022-03-01T16:49:54.167Z"
   },
   {
    "duration": 499,
    "start_time": "2022-03-01T16:52:47.501Z"
   },
   {
    "duration": 518,
    "start_time": "2022-03-01T16:54:40.686Z"
   },
   {
    "duration": 18,
    "start_time": "2022-03-01T16:54:49.294Z"
   },
   {
    "duration": 25,
    "start_time": "2022-03-01T16:57:41.414Z"
   },
   {
    "duration": 24,
    "start_time": "2022-03-01T16:57:50.171Z"
   },
   {
    "duration": 23,
    "start_time": "2022-03-01T17:00:11.177Z"
   },
   {
    "duration": 23,
    "start_time": "2022-03-01T17:04:22.677Z"
   },
   {
    "duration": 653,
    "start_time": "2022-03-10T10:21:43.097Z"
   },
   {
    "duration": 53,
    "start_time": "2022-03-10T10:21:43.753Z"
   },
   {
    "duration": 21,
    "start_time": "2022-03-10T10:21:43.809Z"
   },
   {
    "duration": 20,
    "start_time": "2022-03-10T10:21:43.832Z"
   },
   {
    "duration": 48,
    "start_time": "2022-03-10T10:21:43.854Z"
   },
   {
    "duration": 11,
    "start_time": "2022-03-10T10:21:43.904Z"
   },
   {
    "duration": 10,
    "start_time": "2022-03-10T10:21:43.916Z"
   },
   {
    "duration": 17,
    "start_time": "2022-03-10T10:21:43.928Z"
   },
   {
    "duration": 6,
    "start_time": "2022-03-10T10:21:43.948Z"
   },
   {
    "duration": 11,
    "start_time": "2022-03-10T10:21:43.957Z"
   },
   {
    "duration": 19,
    "start_time": "2022-03-10T10:21:44.001Z"
   },
   {
    "duration": 18,
    "start_time": "2022-03-10T10:21:44.022Z"
   },
   {
    "duration": 18,
    "start_time": "2022-03-10T10:21:44.042Z"
   },
   {
    "duration": 5,
    "start_time": "2022-03-10T10:21:44.062Z"
   },
   {
    "duration": 14,
    "start_time": "2022-03-10T10:21:44.102Z"
   },
   {
    "duration": 12,
    "start_time": "2022-03-10T10:21:44.118Z"
   },
   {
    "duration": 6,
    "start_time": "2022-03-10T10:21:44.133Z"
   },
   {
    "duration": 12,
    "start_time": "2022-03-10T10:21:44.141Z"
   },
   {
    "duration": 10,
    "start_time": "2022-03-10T10:21:44.155Z"
   },
   {
    "duration": 34,
    "start_time": "2022-03-10T10:21:44.167Z"
   },
   {
    "duration": 7,
    "start_time": "2022-03-10T10:21:44.203Z"
   },
   {
    "duration": 15,
    "start_time": "2022-03-10T10:21:44.212Z"
   },
   {
    "duration": 8,
    "start_time": "2022-03-10T10:21:44.229Z"
   },
   {
    "duration": 11,
    "start_time": "2022-03-10T10:21:44.239Z"
   },
   {
    "duration": 15,
    "start_time": "2022-03-10T10:21:44.252Z"
   },
   {
    "duration": 15,
    "start_time": "2022-03-10T10:21:44.269Z"
   },
   {
    "duration": 22,
    "start_time": "2022-03-10T10:21:44.288Z"
   },
   {
    "duration": 10,
    "start_time": "2022-03-10T10:21:44.312Z"
   },
   {
    "duration": 8,
    "start_time": "2022-03-10T10:21:44.324Z"
   },
   {
    "duration": 9,
    "start_time": "2022-03-10T10:21:44.334Z"
   },
   {
    "duration": 13,
    "start_time": "2022-03-10T10:21:44.345Z"
   },
   {
    "duration": 10,
    "start_time": "2022-03-10T10:21:44.360Z"
   },
   {
    "duration": 36,
    "start_time": "2022-03-10T10:21:44.372Z"
   },
   {
    "duration": 9,
    "start_time": "2022-03-10T10:21:44.410Z"
   },
   {
    "duration": 11,
    "start_time": "2022-03-10T10:21:44.421Z"
   },
   {
    "duration": 14,
    "start_time": "2022-03-10T10:21:44.434Z"
   },
   {
    "duration": 5,
    "start_time": "2022-03-10T10:21:44.450Z"
   },
   {
    "duration": 14,
    "start_time": "2022-03-10T10:21:44.456Z"
   },
   {
    "duration": 32,
    "start_time": "2022-03-10T10:21:44.472Z"
   },
   {
    "duration": 14,
    "start_time": "2022-03-10T10:21:44.506Z"
   },
   {
    "duration": 18,
    "start_time": "2022-03-10T10:21:44.521Z"
   },
   {
    "duration": 17,
    "start_time": "2022-03-10T10:21:44.541Z"
   },
   {
    "duration": 9,
    "start_time": "2022-03-10T10:21:44.560Z"
   },
   {
    "duration": 36,
    "start_time": "2022-03-10T10:21:44.570Z"
   },
   {
    "duration": 14,
    "start_time": "2022-03-10T10:21:44.608Z"
   },
   {
    "duration": 10,
    "start_time": "2022-03-10T10:21:44.624Z"
   },
   {
    "duration": 19,
    "start_time": "2022-03-10T10:21:44.636Z"
   },
   {
    "duration": 23,
    "start_time": "2022-03-10T10:21:44.657Z"
   },
   {
    "duration": 8,
    "start_time": "2022-03-10T10:21:44.682Z"
   },
   {
    "duration": 31,
    "start_time": "2022-03-10T10:21:44.692Z"
   },
   {
    "duration": 24,
    "start_time": "2022-03-10T10:21:44.725Z"
   },
   {
    "duration": 18,
    "start_time": "2022-03-10T10:21:44.751Z"
   },
   {
    "duration": 42,
    "start_time": "2022-03-10T10:21:44.771Z"
   },
   {
    "duration": 19,
    "start_time": "2022-03-10T10:29:35.927Z"
   },
   {
    "duration": 509,
    "start_time": "2022-03-10T10:36:00.305Z"
   },
   {
    "duration": 45,
    "start_time": "2022-03-10T10:36:09.710Z"
   },
   {
    "duration": 78,
    "start_time": "2022-03-10T10:36:23.014Z"
   },
   {
    "duration": 28,
    "start_time": "2022-03-10T10:36:54.127Z"
   },
   {
    "duration": 28,
    "start_time": "2022-03-10T10:37:54.038Z"
   },
   {
    "duration": 579,
    "start_time": "2022-03-10T19:38:05.849Z"
   },
   {
    "duration": 47,
    "start_time": "2022-03-10T19:38:07.398Z"
   },
   {
    "duration": 19,
    "start_time": "2022-03-10T19:38:07.896Z"
   },
   {
    "duration": 12,
    "start_time": "2022-03-10T19:38:10.460Z"
   },
   {
    "duration": 35,
    "start_time": "2022-03-10T19:38:12.522Z"
   },
   {
    "duration": 10,
    "start_time": "2022-03-10T19:38:17.448Z"
   },
   {
    "duration": 8,
    "start_time": "2022-03-10T19:38:19.371Z"
   },
   {
    "duration": 15,
    "start_time": "2022-03-10T19:38:21.388Z"
   },
   {
    "duration": 7,
    "start_time": "2022-03-10T19:38:23.646Z"
   },
   {
    "duration": 11,
    "start_time": "2022-03-10T19:38:25.019Z"
   },
   {
    "duration": 17,
    "start_time": "2022-03-10T19:38:27.736Z"
   },
   {
    "duration": 18,
    "start_time": "2022-03-10T19:38:28.936Z"
   },
   {
    "duration": 16,
    "start_time": "2022-03-10T19:38:30.803Z"
   },
   {
    "duration": 5,
    "start_time": "2022-03-10T19:38:33.547Z"
   },
   {
    "duration": 13,
    "start_time": "2022-03-10T19:38:35.786Z"
   },
   {
    "duration": 7,
    "start_time": "2022-03-10T19:38:37.386Z"
   },
   {
    "duration": 18,
    "start_time": "2022-03-10T19:38:39.231Z"
   },
   {
    "duration": 553,
    "start_time": "2022-03-10T19:39:18.955Z"
   },
   {
    "duration": 50,
    "start_time": "2022-03-10T19:39:20.198Z"
   },
   {
    "duration": 20,
    "start_time": "2022-03-10T19:39:20.590Z"
   },
   {
    "duration": 12,
    "start_time": "2022-03-10T19:39:22.928Z"
   },
   {
    "duration": 32,
    "start_time": "2022-03-10T19:39:25.381Z"
   },
   {
    "duration": 10,
    "start_time": "2022-03-10T19:39:27.450Z"
   },
   {
    "duration": 8,
    "start_time": "2022-03-10T19:39:29.270Z"
   },
   {
    "duration": 14,
    "start_time": "2022-03-10T19:39:31.354Z"
   },
   {
    "duration": 6,
    "start_time": "2022-03-10T19:39:33.237Z"
   },
   {
    "duration": 9,
    "start_time": "2022-03-10T19:39:34.323Z"
   },
   {
    "duration": 6,
    "start_time": "2022-03-10T19:39:48.127Z"
   },
   {
    "duration": 18,
    "start_time": "2022-03-10T19:39:54.057Z"
   },
   {
    "duration": 11,
    "start_time": "2022-03-10T19:39:56.201Z"
   },
   {
    "duration": 7,
    "start_time": "2022-03-10T19:39:58.044Z"
   },
   {
    "duration": 22,
    "start_time": "2022-03-10T19:40:01.426Z"
   },
   {
    "duration": 18,
    "start_time": "2022-03-10T19:40:02.772Z"
   },
   {
    "duration": 16,
    "start_time": "2022-03-10T19:40:06.820Z"
   },
   {
    "duration": 542,
    "start_time": "2022-03-10T19:55:46.770Z"
   },
   {
    "duration": 47,
    "start_time": "2022-03-10T19:55:48.628Z"
   },
   {
    "duration": 20,
    "start_time": "2022-03-10T19:55:50.300Z"
   },
   {
    "duration": 11,
    "start_time": "2022-03-10T19:55:53.103Z"
   },
   {
    "duration": 33,
    "start_time": "2022-03-10T19:55:55.541Z"
   },
   {
    "duration": 11,
    "start_time": "2022-03-10T19:56:00.826Z"
   },
   {
    "duration": 8,
    "start_time": "2022-03-10T19:56:04.360Z"
   },
   {
    "duration": 15,
    "start_time": "2022-03-10T19:56:06.920Z"
   },
   {
    "duration": 9,
    "start_time": "2022-03-10T19:56:12.995Z"
   },
   {
    "duration": 221,
    "start_time": "2022-03-10T19:57:48.609Z"
   },
   {
    "duration": 8,
    "start_time": "2022-03-10T20:04:25.799Z"
   },
   {
    "duration": 8,
    "start_time": "2022-03-10T20:04:37.698Z"
   },
   {
    "duration": 9,
    "start_time": "2022-03-10T20:04:53.420Z"
   },
   {
    "duration": 7,
    "start_time": "2022-03-10T20:05:35.143Z"
   },
   {
    "duration": 779,
    "start_time": "2022-03-10T20:06:41.532Z"
   },
   {
    "duration": 49,
    "start_time": "2022-03-10T20:06:42.323Z"
   },
   {
    "duration": 22,
    "start_time": "2022-03-10T20:06:43.002Z"
   },
   {
    "duration": 13,
    "start_time": "2022-03-10T20:06:45.434Z"
   },
   {
    "duration": 33,
    "start_time": "2022-03-10T20:06:48.017Z"
   },
   {
    "duration": 10,
    "start_time": "2022-03-10T20:06:50.323Z"
   },
   {
    "duration": 8,
    "start_time": "2022-03-10T20:06:53.107Z"
   },
   {
    "duration": 14,
    "start_time": "2022-03-10T20:06:55.754Z"
   },
   {
    "duration": 9,
    "start_time": "2022-03-10T20:06:59.147Z"
   },
   {
    "duration": 8,
    "start_time": "2022-03-10T20:07:04.182Z"
   },
   {
    "duration": 11,
    "start_time": "2022-03-10T20:07:10.070Z"
   },
   {
    "duration": 236,
    "start_time": "2022-03-10T20:11:29.169Z"
   },
   {
    "duration": 7,
    "start_time": "2022-03-10T20:11:47.207Z"
   },
   {
    "duration": 9,
    "start_time": "2022-03-10T20:11:51.517Z"
   },
   {
    "duration": 532,
    "start_time": "2022-03-10T20:24:39.084Z"
   },
   {
    "duration": 201,
    "start_time": "2022-03-10T20:24:57.154Z"
   },
   {
    "duration": 532,
    "start_time": "2022-03-10T20:25:21.673Z"
   },
   {
    "duration": 44,
    "start_time": "2022-03-10T20:25:22.394Z"
   },
   {
    "duration": 20,
    "start_time": "2022-03-10T20:25:22.838Z"
   },
   {
    "duration": 12,
    "start_time": "2022-03-10T20:25:24.776Z"
   },
   {
    "duration": 33,
    "start_time": "2022-03-10T20:25:26.761Z"
   },
   {
    "duration": 10,
    "start_time": "2022-03-10T20:25:29.713Z"
   },
   {
    "duration": 7,
    "start_time": "2022-03-10T20:25:33.369Z"
   },
   {
    "duration": 16,
    "start_time": "2022-03-10T20:25:36.448Z"
   },
   {
    "duration": 8,
    "start_time": "2022-03-10T20:25:39.259Z"
   },
   {
    "duration": 4856,
    "start_time": "2022-03-10T20:25:41.002Z"
   },
   {
    "duration": 4900,
    "start_time": "2022-03-10T20:26:11.780Z"
   },
   {
    "duration": 10,
    "start_time": "2022-03-10T20:26:31.225Z"
   },
   {
    "duration": 7,
    "start_time": "2022-03-10T20:27:35.080Z"
   },
   {
    "duration": 9,
    "start_time": "2022-03-10T20:28:01.574Z"
   },
   {
    "duration": 219,
    "start_time": "2022-03-10T20:28:45.342Z"
   },
   {
    "duration": 21,
    "start_time": "2022-03-10T20:31:52.076Z"
   },
   {
    "duration": 190,
    "start_time": "2022-03-10T20:31:59.234Z"
   },
   {
    "duration": 8,
    "start_time": "2022-03-10T20:34:21.627Z"
   },
   {
    "duration": 5,
    "start_time": "2022-03-10T20:34:57.422Z"
   },
   {
    "duration": 9,
    "start_time": "2022-03-10T20:35:24.155Z"
   },
   {
    "duration": 5,
    "start_time": "2022-03-10T20:40:05.291Z"
   },
   {
    "duration": 8,
    "start_time": "2022-03-10T20:51:54.359Z"
   },
   {
    "duration": 1219,
    "start_time": "2022-03-10T20:55:00.269Z"
   },
   {
    "duration": 1204,
    "start_time": "2022-03-10T20:55:18.982Z"
   },
   {
    "duration": 1269,
    "start_time": "2022-03-10T20:56:02.017Z"
   },
   {
    "duration": 26,
    "start_time": "2022-03-10T20:57:24.990Z"
   },
   {
    "duration": 19,
    "start_time": "2022-03-10T20:57:54.977Z"
   },
   {
    "duration": 9,
    "start_time": "2022-03-10T20:57:58.967Z"
   },
   {
    "duration": 15,
    "start_time": "2022-03-10T20:58:22.240Z"
   },
   {
    "duration": 1342,
    "start_time": "2022-03-10T20:59:57.207Z"
   },
   {
    "duration": 1722,
    "start_time": "2022-03-10T20:59:59.596Z"
   },
   {
    "duration": 28,
    "start_time": "2022-03-10T21:00:01.320Z"
   },
   {
    "duration": 19,
    "start_time": "2022-03-10T21:00:03.382Z"
   },
   {
    "duration": 33,
    "start_time": "2022-03-10T21:00:05.967Z"
   },
   {
    "duration": 10,
    "start_time": "2022-03-10T21:00:09.799Z"
   },
   {
    "duration": 9,
    "start_time": "2022-03-10T21:00:13.535Z"
   },
   {
    "duration": 15,
    "start_time": "2022-03-10T21:00:22.583Z"
   },
   {
    "duration": 19,
    "start_time": "2022-03-10T21:00:30.622Z"
   },
   {
    "duration": 10,
    "start_time": "2022-03-10T21:00:33.014Z"
   },
   {
    "duration": 19,
    "start_time": "2022-03-10T21:01:35.825Z"
   },
   {
    "duration": 6,
    "start_time": "2022-03-10T21:03:32.084Z"
   },
   {
    "duration": 10,
    "start_time": "2022-03-10T21:03:36.215Z"
   },
   {
    "duration": 23,
    "start_time": "2022-03-10T21:04:24.778Z"
   },
   {
    "duration": 7,
    "start_time": "2022-03-10T21:06:53.064Z"
   },
   {
    "duration": 576,
    "start_time": "2022-03-10T21:07:08.065Z"
   },
   {
    "duration": 47,
    "start_time": "2022-03-10T21:07:09.358Z"
   },
   {
    "duration": 19,
    "start_time": "2022-03-10T21:07:10.111Z"
   },
   {
    "duration": 11,
    "start_time": "2022-03-10T21:07:12.476Z"
   },
   {
    "duration": 33,
    "start_time": "2022-03-10T21:07:14.330Z"
   },
   {
    "duration": 10,
    "start_time": "2022-03-10T21:07:16.894Z"
   },
   {
    "duration": 7,
    "start_time": "2022-03-10T21:07:18.812Z"
   },
   {
    "duration": 16,
    "start_time": "2022-03-10T21:07:24.255Z"
   },
   {
    "duration": 41,
    "start_time": "2022-03-10T21:07:28.514Z"
   },
   {
    "duration": 10,
    "start_time": "2022-03-10T21:07:32.099Z"
   },
   {
    "duration": 97,
    "start_time": "2022-03-10T21:19:38.149Z"
   },
   {
    "duration": 600,
    "start_time": "2022-03-10T21:42:01.421Z"
   },
   {
    "duration": 47,
    "start_time": "2022-03-10T21:42:02.023Z"
   },
   {
    "duration": 19,
    "start_time": "2022-03-10T21:42:02.431Z"
   },
   {
    "duration": 12,
    "start_time": "2022-03-10T21:42:04.913Z"
   },
   {
    "duration": 31,
    "start_time": "2022-03-10T21:42:06.715Z"
   },
   {
    "duration": 9,
    "start_time": "2022-03-10T21:42:12.381Z"
   },
   {
    "duration": 8,
    "start_time": "2022-03-10T21:42:14.540Z"
   },
   {
    "duration": 15,
    "start_time": "2022-03-10T21:42:16.773Z"
   },
   {
    "duration": 8,
    "start_time": "2022-03-10T21:42:21.352Z"
   },
   {
    "duration": 36,
    "start_time": "2022-03-10T21:42:26.691Z"
   },
   {
    "duration": 10,
    "start_time": "2022-03-10T21:42:29.796Z"
   },
   {
    "duration": 8,
    "start_time": "2022-03-10T21:43:43.137Z"
   },
   {
    "duration": 3,
    "start_time": "2022-03-10T21:46:04.765Z"
   },
   {
    "duration": 8,
    "start_time": "2022-03-10T21:46:07.551Z"
   },
   {
    "duration": 8,
    "start_time": "2022-03-10T21:46:37.958Z"
   },
   {
    "duration": 586,
    "start_time": "2022-03-10T21:46:50.838Z"
   },
   {
    "duration": 49,
    "start_time": "2022-03-10T21:46:52.287Z"
   },
   {
    "duration": 20,
    "start_time": "2022-03-10T21:46:52.768Z"
   },
   {
    "duration": 13,
    "start_time": "2022-03-10T21:46:54.775Z"
   },
   {
    "duration": 32,
    "start_time": "2022-03-10T21:46:56.794Z"
   },
   {
    "duration": 9,
    "start_time": "2022-03-10T21:46:59.167Z"
   },
   {
    "duration": 9,
    "start_time": "2022-03-10T21:47:01.400Z"
   },
   {
    "duration": 14,
    "start_time": "2022-03-10T21:47:03.788Z"
   },
   {
    "duration": 9,
    "start_time": "2022-03-10T21:47:09.641Z"
   },
   {
    "duration": 39,
    "start_time": "2022-03-10T21:47:11.545Z"
   },
   {
    "duration": 10,
    "start_time": "2022-03-10T21:47:16.221Z"
   },
   {
    "duration": 9,
    "start_time": "2022-03-10T21:47:19.041Z"
   },
   {
    "duration": 8,
    "start_time": "2022-03-10T21:47:33.940Z"
   },
   {
    "duration": 3,
    "start_time": "2022-03-10T21:47:43.022Z"
   },
   {
    "duration": 8,
    "start_time": "2022-03-10T21:47:45.827Z"
   },
   {
    "duration": 535,
    "start_time": "2022-03-10T21:51:30.587Z"
   },
   {
    "duration": 50,
    "start_time": "2022-03-10T21:51:32.283Z"
   },
   {
    "duration": 19,
    "start_time": "2022-03-10T21:51:32.393Z"
   },
   {
    "duration": 11,
    "start_time": "2022-03-10T21:51:34.625Z"
   },
   {
    "duration": 33,
    "start_time": "2022-03-10T21:51:36.441Z"
   },
   {
    "duration": 10,
    "start_time": "2022-03-10T21:51:39.183Z"
   },
   {
    "duration": 8,
    "start_time": "2022-03-10T21:51:41.112Z"
   },
   {
    "duration": 16,
    "start_time": "2022-03-10T21:51:43.368Z"
   },
   {
    "duration": 8,
    "start_time": "2022-03-10T21:51:45.872Z"
   },
   {
    "duration": 38,
    "start_time": "2022-03-10T21:51:47.904Z"
   },
   {
    "duration": 38,
    "start_time": "2022-03-10T21:51:57.145Z"
   },
   {
    "duration": 557,
    "start_time": "2022-03-10T21:54:16.766Z"
   },
   {
    "duration": 46,
    "start_time": "2022-03-10T21:54:17.686Z"
   },
   {
    "duration": 20,
    "start_time": "2022-03-10T21:54:18.802Z"
   },
   {
    "duration": 12,
    "start_time": "2022-03-10T21:54:20.071Z"
   },
   {
    "duration": 32,
    "start_time": "2022-03-10T21:54:24.436Z"
   },
   {
    "duration": 15,
    "start_time": "2022-03-10T21:54:27.345Z"
   },
   {
    "duration": 8,
    "start_time": "2022-03-10T21:54:29.301Z"
   },
   {
    "duration": 15,
    "start_time": "2022-03-10T21:54:30.886Z"
   },
   {
    "duration": 8,
    "start_time": "2022-03-10T21:54:33.906Z"
   },
   {
    "duration": 38,
    "start_time": "2022-03-10T21:54:36.681Z"
   },
   {
    "duration": 36,
    "start_time": "2022-03-10T21:54:38.723Z"
   },
   {
    "duration": 10,
    "start_time": "2022-03-10T21:54:40.619Z"
   },
   {
    "duration": 5,
    "start_time": "2022-03-10T21:54:47.525Z"
   },
   {
    "duration": 11,
    "start_time": "2022-03-10T21:54:48.175Z"
   },
   {
    "duration": 7,
    "start_time": "2022-03-10T21:54:48.750Z"
   },
   {
    "duration": 17,
    "start_time": "2022-03-10T21:54:49.914Z"
   },
   {
    "duration": 19,
    "start_time": "2022-03-10T21:54:50.380Z"
   },
   {
    "duration": 16,
    "start_time": "2022-03-10T21:54:51.487Z"
   },
   {
    "duration": 4,
    "start_time": "2022-03-10T21:54:55.539Z"
   },
   {
    "duration": 5,
    "start_time": "2022-03-10T21:54:56.646Z"
   },
   {
    "duration": 4,
    "start_time": "2022-03-10T21:54:57.457Z"
   },
   {
    "duration": 5,
    "start_time": "2022-03-10T21:54:57.858Z"
   },
   {
    "duration": 6,
    "start_time": "2022-03-10T21:54:59.678Z"
   },
   {
    "duration": 8,
    "start_time": "2022-03-10T21:55:00.498Z"
   },
   {
    "duration": 5,
    "start_time": "2022-03-10T21:55:04.846Z"
   },
   {
    "duration": 4,
    "start_time": "2022-03-10T21:55:05.323Z"
   },
   {
    "duration": 10,
    "start_time": "2022-03-10T21:55:09.247Z"
   },
   {
    "duration": 4,
    "start_time": "2022-03-10T21:55:13.133Z"
   },
   {
    "duration": 10,
    "start_time": "2022-03-10T21:55:13.675Z"
   },
   {
    "duration": 6,
    "start_time": "2022-03-10T21:55:16.810Z"
   },
   {
    "duration": 5,
    "start_time": "2022-03-10T21:55:19.175Z"
   },
   {
    "duration": 5,
    "start_time": "2022-03-10T21:55:20.590Z"
   },
   {
    "duration": 6,
    "start_time": "2022-03-10T21:55:23.435Z"
   },
   {
    "duration": 5,
    "start_time": "2022-03-10T21:55:25.698Z"
   },
   {
    "duration": 12,
    "start_time": "2022-03-10T21:55:26.525Z"
   },
   {
    "duration": 5,
    "start_time": "2022-03-10T21:55:27.336Z"
   },
   {
    "duration": 5,
    "start_time": "2022-03-10T21:55:35.062Z"
   },
   {
    "duration": 8,
    "start_time": "2022-03-10T21:55:37.456Z"
   },
   {
    "duration": 4,
    "start_time": "2022-03-10T21:55:40.790Z"
   },
   {
    "duration": 6,
    "start_time": "2022-03-10T21:55:41.320Z"
   },
   {
    "duration": 13,
    "start_time": "2022-03-10T21:55:44.819Z"
   },
   {
    "duration": 13,
    "start_time": "2022-03-10T21:55:54.809Z"
   },
   {
    "duration": 12,
    "start_time": "2022-03-10T21:55:55.641Z"
   },
   {
    "duration": 14,
    "start_time": "2022-03-10T21:55:58.698Z"
   },
   {
    "duration": 3,
    "start_time": "2022-03-10T21:56:07.671Z"
   },
   {
    "duration": 9,
    "start_time": "2022-03-10T21:56:09.427Z"
   },
   {
    "duration": 7,
    "start_time": "2022-03-10T21:56:10.661Z"
   },
   {
    "duration": 3,
    "start_time": "2022-03-10T21:56:15.233Z"
   },
   {
    "duration": 8,
    "start_time": "2022-03-10T21:56:15.942Z"
   },
   {
    "duration": 8,
    "start_time": "2022-03-10T21:56:17.005Z"
   },
   {
    "duration": 4,
    "start_time": "2022-03-10T21:56:38.130Z"
   },
   {
    "duration": 27,
    "start_time": "2022-03-10T21:56:40.507Z"
   },
   {
    "duration": 20,
    "start_time": "2022-03-10T21:56:47.118Z"
   },
   {
    "duration": 260,
    "start_time": "2022-03-10T21:58:14.029Z"
   },
   {
    "duration": 25,
    "start_time": "2022-03-10T21:58:19.221Z"
   },
   {
    "duration": 3,
    "start_time": "2022-03-10T22:13:09.190Z"
   },
   {
    "duration": 19,
    "start_time": "2022-03-10T22:13:16.723Z"
   },
   {
    "duration": 26,
    "start_time": "2022-03-10T22:13:31.174Z"
   },
   {
    "duration": 3,
    "start_time": "2022-03-10T22:14:43.202Z"
   },
   {
    "duration": 24,
    "start_time": "2022-03-10T22:14:45.793Z"
   },
   {
    "duration": 30,
    "start_time": "2022-03-10T22:17:37.627Z"
   },
   {
    "duration": 26,
    "start_time": "2022-03-10T22:17:41.598Z"
   },
   {
    "duration": 28,
    "start_time": "2022-03-10T22:17:47.115Z"
   },
   {
    "duration": 823,
    "start_time": "2022-03-11T08:41:09.529Z"
   },
   {
    "duration": 64,
    "start_time": "2022-03-11T08:41:10.973Z"
   },
   {
    "duration": 46,
    "start_time": "2022-03-11T08:41:19.204Z"
   },
   {
    "duration": 17,
    "start_time": "2022-03-11T08:41:22.801Z"
   },
   {
    "duration": 26,
    "start_time": "2022-03-11T08:41:51.746Z"
   },
   {
    "duration": 22,
    "start_time": "2022-03-11T08:42:59.641Z"
   },
   {
    "duration": 65,
    "start_time": "2022-03-11T08:43:04.262Z"
   },
   {
    "duration": 56,
    "start_time": "2022-03-11T08:43:23.426Z"
   },
   {
    "duration": 21,
    "start_time": "2022-03-11T08:43:28.699Z"
   },
   {
    "duration": 72,
    "start_time": "2022-03-11T08:43:30.734Z"
   },
   {
    "duration": 8,
    "start_time": "2022-03-11T08:43:41.077Z"
   },
   {
    "duration": 7,
    "start_time": "2022-03-11T08:43:46.227Z"
   },
   {
    "duration": 8,
    "start_time": "2022-03-11T08:43:50.547Z"
   },
   {
    "duration": 9,
    "start_time": "2022-03-11T08:43:58.331Z"
   },
   {
    "duration": 9,
    "start_time": "2022-03-11T08:44:01.580Z"
   },
   {
    "duration": 8,
    "start_time": "2022-03-11T08:44:16.311Z"
   },
   {
    "duration": 6,
    "start_time": "2022-03-11T08:44:19.888Z"
   },
   {
    "duration": 11,
    "start_time": "2022-03-11T08:44:32.092Z"
   },
   {
    "duration": 56,
    "start_time": "2022-03-11T08:44:33.641Z"
   },
   {
    "duration": 9,
    "start_time": "2022-03-11T08:44:39.835Z"
   }
  ],
  "kernelspec": {
   "display_name": "Python 3 (ipykernel)",
   "language": "python",
   "name": "python3"
  },
  "language_info": {
   "codemirror_mode": {
    "name": "ipython",
    "version": 3
   },
   "file_extension": ".py",
   "mimetype": "text/x-python",
   "name": "python",
   "nbconvert_exporter": "python",
   "pygments_lexer": "ipython3",
   "version": "3.10.2"
  },
  "toc": {
   "base_numbering": 1,
   "nav_menu": {},
   "number_sections": true,
   "sideBar": true,
   "skip_h1_title": true,
   "title_cell": "Table of Contents",
   "title_sidebar": "Contents",
   "toc_cell": false,
   "toc_position": {},
   "toc_section_display": true,
   "toc_window_display": false
  }
 },
 "nbformat": 4,
 "nbformat_minor": 5
}
