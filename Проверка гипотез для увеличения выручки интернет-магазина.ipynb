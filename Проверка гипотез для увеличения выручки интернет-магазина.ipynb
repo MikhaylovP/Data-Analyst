{
 "cells": [
  {
   "cell_type": "markdown",
   "metadata": {},
   "source": [
    "# Проверка гипотез для увеличения выручки интернет-магазина"
   ]
  },
  {
   "cell_type": "markdown",
   "metadata": {},
   "source": [
    "Вместе с отделом маркетинга был подготовлен список гипотез для увеличения выручки.\n",
    "Задачи: \n",
    "- приоритизировать гипотезы;\n",
    "- провести A/B-тест.\n",
    "\n",
    "Описание данных\n",
    "\n",
    "Данные для первой части\n",
    "\n",
    "Файл /datasets/hypothesis.csv.\n",
    "\n",
    "    Hypothesis — краткое описание гипотезы;\n",
    "    Reach — охват пользователей по 10-балльной шкале;\n",
    "    Impact — влияние на пользователей по 10-балльной шкале;\n",
    "    Confidence — уверенность в гипотезе по 10-балльной шкале;\n",
    "    Efforts — затраты ресурсов на проверку гипотезы по 10-балльной шкале. Чем больше значение Efforts, тем дороже проверка гипотезы.\n",
    "\n",
    "Данные для второй части\n",
    "\n",
    "Файл /datasets/orders.csv.\n",
    "\n",
    "    transactionId — идентификатор заказа;\n",
    "    visitorId — идентификатор пользователя, совершившего заказ;\n",
    "    date — дата, когда был совершён заказ;\n",
    "    revenue — выручка заказа;\n",
    "    group — группа A/B-теста, в которую попал заказ.\n",
    "\n",
    "Файл /datasets/visitors.csv.\n",
    "\n",
    "    date — дата;\n",
    "    group — группа A/B-теста;\n",
    "    visitors — количество пользователей в указанную дату в указанной группе A/B-теста"
   ]
  },
  {
   "cell_type": "code",
   "execution_count": 1,
   "metadata": {},
   "outputs": [],
   "source": [
    "# импорт библиотек\n",
    "import pandas as pd\n",
    "import numpy as np\n",
    "import matplotlib.pyplot as plt\n",
    "#import seaborn as sns\n",
    "import datetime as dt\n",
    "import scipy.stats as stats"
   ]
  },
  {
   "cell_type": "code",
   "execution_count": 2,
   "metadata": {},
   "outputs": [],
   "source": [
    "# чтение файлов\n",
    "hypothesis = pd.read_csv('/datasets/hypothesis.csv')"
   ]
  },
  {
   "cell_type": "code",
   "execution_count": 3,
   "metadata": {},
   "outputs": [],
   "source": [
    "def first_look(df):\n",
    "    '''Функция для просмотра основной информации о таблице'''\n",
    "    print('Первые 5 строк таблицы:')\n",
    "    display(df.head())\n",
    "    print('Информация о таблице:')\n",
    "    print(df.info())\n",
    "    display(df.describe())\n",
    "    print('Количество строк и столбцов:')\n",
    "    print(df.shape)\n",
    "    print('Количество пропусков:')\n",
    "    if df.isna().sum().sum()==0:\n",
    "        print('пропусков нет')\n",
    "    else:\n",
    "        print(df.isna().sum())\n",
    "    print('Количество дубликатов:')\n",
    "    if df.duplicated().sum()==0:\n",
    "        print('дубликатов нет')\n",
    "    else:\n",
    "        print(df.duplicated().sum())"
   ]
  },
  {
   "cell_type": "markdown",
   "metadata": {},
   "source": [
    "## Приоритизация гипотез\n",
    "Просмотрим таблицу с гипотезами."
   ]
  },
  {
   "cell_type": "code",
   "execution_count": 4,
   "metadata": {},
   "outputs": [
    {
     "data": {
      "text/html": [
       "<div>\n",
       "<style scoped>\n",
       "    .dataframe tbody tr th:only-of-type {\n",
       "        vertical-align: middle;\n",
       "    }\n",
       "\n",
       "    .dataframe tbody tr th {\n",
       "        vertical-align: top;\n",
       "    }\n",
       "\n",
       "    .dataframe thead th {\n",
       "        text-align: right;\n",
       "    }\n",
       "</style>\n",
       "<table border=\"1\" class=\"dataframe\">\n",
       "  <thead>\n",
       "    <tr style=\"text-align: right;\">\n",
       "      <th></th>\n",
       "      <th>Hypothesis</th>\n",
       "      <th>Reach</th>\n",
       "      <th>Impact</th>\n",
       "      <th>Confidence</th>\n",
       "      <th>Efforts</th>\n",
       "    </tr>\n",
       "  </thead>\n",
       "  <tbody>\n",
       "    <tr>\n",
       "      <th>0</th>\n",
       "      <td>Добавить два новых канала привлечения трафика,...</td>\n",
       "      <td>3</td>\n",
       "      <td>10</td>\n",
       "      <td>8</td>\n",
       "      <td>6</td>\n",
       "    </tr>\n",
       "    <tr>\n",
       "      <th>1</th>\n",
       "      <td>Запустить собственную службу доставки, что сок...</td>\n",
       "      <td>2</td>\n",
       "      <td>5</td>\n",
       "      <td>4</td>\n",
       "      <td>10</td>\n",
       "    </tr>\n",
       "    <tr>\n",
       "      <th>2</th>\n",
       "      <td>Добавить блоки рекомендаций товаров на сайт ин...</td>\n",
       "      <td>8</td>\n",
       "      <td>3</td>\n",
       "      <td>7</td>\n",
       "      <td>3</td>\n",
       "    </tr>\n",
       "    <tr>\n",
       "      <th>3</th>\n",
       "      <td>Изменить структура категорий, что увеличит кон...</td>\n",
       "      <td>8</td>\n",
       "      <td>3</td>\n",
       "      <td>3</td>\n",
       "      <td>8</td>\n",
       "    </tr>\n",
       "    <tr>\n",
       "      <th>4</th>\n",
       "      <td>Изменить цвет фона главной страницы, чтобы уве...</td>\n",
       "      <td>3</td>\n",
       "      <td>1</td>\n",
       "      <td>1</td>\n",
       "      <td>1</td>\n",
       "    </tr>\n",
       "    <tr>\n",
       "      <th>5</th>\n",
       "      <td>Добавить страницу отзывов клиентов о магазине,...</td>\n",
       "      <td>3</td>\n",
       "      <td>2</td>\n",
       "      <td>2</td>\n",
       "      <td>3</td>\n",
       "    </tr>\n",
       "    <tr>\n",
       "      <th>6</th>\n",
       "      <td>Показать на главной странице баннеры с актуаль...</td>\n",
       "      <td>5</td>\n",
       "      <td>3</td>\n",
       "      <td>8</td>\n",
       "      <td>3</td>\n",
       "    </tr>\n",
       "    <tr>\n",
       "      <th>7</th>\n",
       "      <td>Добавить форму подписки на все основные страни...</td>\n",
       "      <td>10</td>\n",
       "      <td>7</td>\n",
       "      <td>8</td>\n",
       "      <td>5</td>\n",
       "    </tr>\n",
       "    <tr>\n",
       "      <th>8</th>\n",
       "      <td>Запустить акцию, дающую скидку на товар в день...</td>\n",
       "      <td>1</td>\n",
       "      <td>9</td>\n",
       "      <td>9</td>\n",
       "      <td>5</td>\n",
       "    </tr>\n",
       "  </tbody>\n",
       "</table>\n",
       "</div>"
      ],
      "text/plain": [
       "                                          Hypothesis  Reach  Impact  \\\n",
       "0  Добавить два новых канала привлечения трафика,...      3      10   \n",
       "1  Запустить собственную службу доставки, что сок...      2       5   \n",
       "2  Добавить блоки рекомендаций товаров на сайт ин...      8       3   \n",
       "3  Изменить структура категорий, что увеличит кон...      8       3   \n",
       "4  Изменить цвет фона главной страницы, чтобы уве...      3       1   \n",
       "5  Добавить страницу отзывов клиентов о магазине,...      3       2   \n",
       "6  Показать на главной странице баннеры с актуаль...      5       3   \n",
       "7  Добавить форму подписки на все основные страни...     10       7   \n",
       "8  Запустить акцию, дающую скидку на товар в день...      1       9   \n",
       "\n",
       "   Confidence  Efforts  \n",
       "0           8        6  \n",
       "1           4       10  \n",
       "2           7        3  \n",
       "3           3        8  \n",
       "4           1        1  \n",
       "5           2        3  \n",
       "6           8        3  \n",
       "7           8        5  \n",
       "8           9        5  "
      ]
     },
     "execution_count": 4,
     "metadata": {},
     "output_type": "execute_result"
    }
   ],
   "source": [
    "hypothesis"
   ]
  },
  {
   "cell_type": "code",
   "execution_count": 5,
   "metadata": {},
   "outputs": [
    {
     "data": {
      "text/html": [
       "<div>\n",
       "<style scoped>\n",
       "    .dataframe tbody tr th:only-of-type {\n",
       "        vertical-align: middle;\n",
       "    }\n",
       "\n",
       "    .dataframe tbody tr th {\n",
       "        vertical-align: top;\n",
       "    }\n",
       "\n",
       "    .dataframe thead th {\n",
       "        text-align: right;\n",
       "    }\n",
       "</style>\n",
       "<table border=\"1\" class=\"dataframe\">\n",
       "  <thead>\n",
       "    <tr style=\"text-align: right;\">\n",
       "      <th></th>\n",
       "      <th>hypothesis</th>\n",
       "      <th>reach</th>\n",
       "      <th>impact</th>\n",
       "      <th>confidence</th>\n",
       "      <th>efforts</th>\n",
       "    </tr>\n",
       "  </thead>\n",
       "  <tbody>\n",
       "    <tr>\n",
       "      <th>0</th>\n",
       "      <td>Добавить два новых канала привлечения трафика,...</td>\n",
       "      <td>3</td>\n",
       "      <td>10</td>\n",
       "      <td>8</td>\n",
       "      <td>6</td>\n",
       "    </tr>\n",
       "    <tr>\n",
       "      <th>1</th>\n",
       "      <td>Запустить собственную службу доставки, что сок...</td>\n",
       "      <td>2</td>\n",
       "      <td>5</td>\n",
       "      <td>4</td>\n",
       "      <td>10</td>\n",
       "    </tr>\n",
       "    <tr>\n",
       "      <th>2</th>\n",
       "      <td>Добавить блоки рекомендаций товаров на сайт ин...</td>\n",
       "      <td>8</td>\n",
       "      <td>3</td>\n",
       "      <td>7</td>\n",
       "      <td>3</td>\n",
       "    </tr>\n",
       "    <tr>\n",
       "      <th>3</th>\n",
       "      <td>Изменить структура категорий, что увеличит кон...</td>\n",
       "      <td>8</td>\n",
       "      <td>3</td>\n",
       "      <td>3</td>\n",
       "      <td>8</td>\n",
       "    </tr>\n",
       "    <tr>\n",
       "      <th>4</th>\n",
       "      <td>Изменить цвет фона главной страницы, чтобы уве...</td>\n",
       "      <td>3</td>\n",
       "      <td>1</td>\n",
       "      <td>1</td>\n",
       "      <td>1</td>\n",
       "    </tr>\n",
       "    <tr>\n",
       "      <th>5</th>\n",
       "      <td>Добавить страницу отзывов клиентов о магазине,...</td>\n",
       "      <td>3</td>\n",
       "      <td>2</td>\n",
       "      <td>2</td>\n",
       "      <td>3</td>\n",
       "    </tr>\n",
       "    <tr>\n",
       "      <th>6</th>\n",
       "      <td>Показать на главной странице баннеры с актуаль...</td>\n",
       "      <td>5</td>\n",
       "      <td>3</td>\n",
       "      <td>8</td>\n",
       "      <td>3</td>\n",
       "    </tr>\n",
       "    <tr>\n",
       "      <th>7</th>\n",
       "      <td>Добавить форму подписки на все основные страни...</td>\n",
       "      <td>10</td>\n",
       "      <td>7</td>\n",
       "      <td>8</td>\n",
       "      <td>5</td>\n",
       "    </tr>\n",
       "    <tr>\n",
       "      <th>8</th>\n",
       "      <td>Запустить акцию, дающую скидку на товар в день...</td>\n",
       "      <td>1</td>\n",
       "      <td>9</td>\n",
       "      <td>9</td>\n",
       "      <td>5</td>\n",
       "    </tr>\n",
       "  </tbody>\n",
       "</table>\n",
       "</div>"
      ],
      "text/plain": [
       "                                          hypothesis  reach  impact  \\\n",
       "0  Добавить два новых канала привлечения трафика,...      3      10   \n",
       "1  Запустить собственную службу доставки, что сок...      2       5   \n",
       "2  Добавить блоки рекомендаций товаров на сайт ин...      8       3   \n",
       "3  Изменить структура категорий, что увеличит кон...      8       3   \n",
       "4  Изменить цвет фона главной страницы, чтобы уве...      3       1   \n",
       "5  Добавить страницу отзывов клиентов о магазине,...      3       2   \n",
       "6  Показать на главной странице баннеры с актуаль...      5       3   \n",
       "7  Добавить форму подписки на все основные страни...     10       7   \n",
       "8  Запустить акцию, дающую скидку на товар в день...      1       9   \n",
       "\n",
       "   confidence  efforts  \n",
       "0           8        6  \n",
       "1           4       10  \n",
       "2           7        3  \n",
       "3           3        8  \n",
       "4           1        1  \n",
       "5           2        3  \n",
       "6           8        3  \n",
       "7           8        5  \n",
       "8           9        5  "
      ]
     },
     "execution_count": 5,
     "metadata": {},
     "output_type": "execute_result"
    }
   ],
   "source": [
    "# приведем названия столбцов к нижнему регистру\n",
    "hypothesis.columns = [x.lower() for x in hypothesis.columns]\n",
    "hypothesis"
   ]
  },
  {
   "cell_type": "code",
   "execution_count": 6,
   "metadata": {},
   "outputs": [
    {
     "data": {
      "text/html": [
       "<style  type=\"text/css\" >\n",
       "</style><table id=\"T_4939c_\" ><thead>    <tr>        <th class=\"blank level0\" ></th>        <th class=\"col_heading level0 col0\" >hypothesis</th>        <th class=\"col_heading level0 col1\" >ICE</th>    </tr></thead><tbody>\n",
       "                <tr>\n",
       "                        <th id=\"T_4939c_level0_row0\" class=\"row_heading level0 row0\" >8</th>\n",
       "                        <td id=\"T_4939c_row0_col0\" class=\"data row0 col0\" >Запустить акцию, дающую скидку на товар в день рождения</td>\n",
       "                        <td id=\"T_4939c_row0_col1\" class=\"data row0 col1\" >16.2</td>\n",
       "            </tr>\n",
       "            <tr>\n",
       "                        <th id=\"T_4939c_level0_row1\" class=\"row_heading level0 row1\" >0</th>\n",
       "                        <td id=\"T_4939c_row1_col0\" class=\"data row1 col0\" >Добавить два новых канала привлечения трафика, что позволит привлекать на 30% больше пользователей</td>\n",
       "                        <td id=\"T_4939c_row1_col1\" class=\"data row1 col1\" >13.3</td>\n",
       "            </tr>\n",
       "            <tr>\n",
       "                        <th id=\"T_4939c_level0_row2\" class=\"row_heading level0 row2\" >7</th>\n",
       "                        <td id=\"T_4939c_row2_col0\" class=\"data row2 col0\" >Добавить форму подписки на все основные страницы, чтобы собрать базу клиентов для email-рассылок</td>\n",
       "                        <td id=\"T_4939c_row2_col1\" class=\"data row2 col1\" >11.2</td>\n",
       "            </tr>\n",
       "            <tr>\n",
       "                        <th id=\"T_4939c_level0_row3\" class=\"row_heading level0 row3\" >6</th>\n",
       "                        <td id=\"T_4939c_row3_col0\" class=\"data row3 col0\" >Показать на главной странице баннеры с актуальными акциями и распродажами, чтобы увеличить конверсию</td>\n",
       "                        <td id=\"T_4939c_row3_col1\" class=\"data row3 col1\" >8.0</td>\n",
       "            </tr>\n",
       "            <tr>\n",
       "                        <th id=\"T_4939c_level0_row4\" class=\"row_heading level0 row4\" >2</th>\n",
       "                        <td id=\"T_4939c_row4_col0\" class=\"data row4 col0\" >Добавить блоки рекомендаций товаров на сайт интернет магазина, чтобы повысить конверсию и средний чек заказа</td>\n",
       "                        <td id=\"T_4939c_row4_col1\" class=\"data row4 col1\" >7.0</td>\n",
       "            </tr>\n",
       "            <tr>\n",
       "                        <th id=\"T_4939c_level0_row5\" class=\"row_heading level0 row5\" >1</th>\n",
       "                        <td id=\"T_4939c_row5_col0\" class=\"data row5 col0\" >Запустить собственную службу доставки, что сократит срок доставки заказов</td>\n",
       "                        <td id=\"T_4939c_row5_col1\" class=\"data row5 col1\" >2.0</td>\n",
       "            </tr>\n",
       "            <tr>\n",
       "                        <th id=\"T_4939c_level0_row6\" class=\"row_heading level0 row6\" >5</th>\n",
       "                        <td id=\"T_4939c_row6_col0\" class=\"data row6 col0\" >Добавить страницу отзывов клиентов о магазине, что позволит увеличить количество заказов</td>\n",
       "                        <td id=\"T_4939c_row6_col1\" class=\"data row6 col1\" >1.3</td>\n",
       "            </tr>\n",
       "            <tr>\n",
       "                        <th id=\"T_4939c_level0_row7\" class=\"row_heading level0 row7\" >3</th>\n",
       "                        <td id=\"T_4939c_row7_col0\" class=\"data row7 col0\" >Изменить структура категорий, что увеличит конверсию, т.к. пользователи быстрее найдут нужный товар</td>\n",
       "                        <td id=\"T_4939c_row7_col1\" class=\"data row7 col1\" >1.1</td>\n",
       "            </tr>\n",
       "            <tr>\n",
       "                        <th id=\"T_4939c_level0_row8\" class=\"row_heading level0 row8\" >4</th>\n",
       "                        <td id=\"T_4939c_row8_col0\" class=\"data row8 col0\" >Изменить цвет фона главной страницы, чтобы увеличить вовлеченность пользователей</td>\n",
       "                        <td id=\"T_4939c_row8_col1\" class=\"data row8 col1\" >1.0</td>\n",
       "            </tr>\n",
       "    </tbody></table>"
      ],
      "text/plain": [
       "<pandas.io.formats.style.Styler at 0x7f54dae3eac0>"
      ]
     },
     "execution_count": 6,
     "metadata": {},
     "output_type": "execute_result"
    }
   ],
   "source": [
    "# применим фреймворк ICE для приоритизации гипотез\n",
    "hypothesis['ICE'] = hypothesis.impact * hypothesis.confidence / hypothesis.efforts\n",
    "# отсортируем гипотезы по убыванию приоритета\n",
    "hypothesis[['hypothesis', 'ICE']].sort_values(by='ICE', ascending=False).style.format(\"{:.1f}\", subset='ICE')   "
   ]
  },
  {
   "cell_type": "code",
   "execution_count": 7,
   "metadata": {},
   "outputs": [
    {
     "data": {
      "image/png": "[encoded data removed]",
      "text/plain": [
       "<Figure size 432x288 with 1 Axes>"
      ]
     },
     "metadata": {
      "needs_background": "light"
     },
     "output_type": "display_data"
    }
   ],
   "source": [
    "# построим график\n",
    "ax = hypothesis[['hypothesis', 'ICE']].set_index('hypothesis').sort_values('ICE').plot(kind='barh')\n",
    "ax.set_xlabel('Приоритет')\n",
    "ax.set_ylabel('Гипотеза')\n",
    "ax.set_title('ICE')\n",
    "plt.show()"
   ]
  },
  {
   "cell_type": "code",
   "execution_count": 8,
   "metadata": {},
   "outputs": [
    {
     "data": {
      "text/html": [
       "<style  type=\"text/css\" >\n",
       "</style><table id=\"T_ad6ac_\" ><thead>    <tr>        <th class=\"blank level0\" ></th>        <th class=\"col_heading level0 col0\" >hypothesis</th>        <th class=\"col_heading level0 col1\" >RICE</th>    </tr></thead><tbody>\n",
       "                <tr>\n",
       "                        <th id=\"T_ad6ac_level0_row0\" class=\"row_heading level0 row0\" >7</th>\n",
       "                        <td id=\"T_ad6ac_row0_col0\" class=\"data row0 col0\" >Добавить форму подписки на все основные страницы, чтобы собрать базу клиентов для email-рассылок</td>\n",
       "                        <td id=\"T_ad6ac_row0_col1\" class=\"data row0 col1\" >112</td>\n",
       "            </tr>\n",
       "            <tr>\n",
       "                        <th id=\"T_ad6ac_level0_row1\" class=\"row_heading level0 row1\" >2</th>\n",
       "                        <td id=\"T_ad6ac_row1_col0\" class=\"data row1 col0\" >Добавить блоки рекомендаций товаров на сайт интернет магазина, чтобы повысить конверсию и средний чек заказа</td>\n",
       "                        <td id=\"T_ad6ac_row1_col1\" class=\"data row1 col1\" >56</td>\n",
       "            </tr>\n",
       "            <tr>\n",
       "                        <th id=\"T_ad6ac_level0_row2\" class=\"row_heading level0 row2\" >0</th>\n",
       "                        <td id=\"T_ad6ac_row2_col0\" class=\"data row2 col0\" >Добавить два новых канала привлечения трафика, что позволит привлекать на 30% больше пользователей</td>\n",
       "                        <td id=\"T_ad6ac_row2_col1\" class=\"data row2 col1\" >40</td>\n",
       "            </tr>\n",
       "            <tr>\n",
       "                        <th id=\"T_ad6ac_level0_row3\" class=\"row_heading level0 row3\" >6</th>\n",
       "                        <td id=\"T_ad6ac_row3_col0\" class=\"data row3 col0\" >Показать на главной странице баннеры с актуальными акциями и распродажами, чтобы увеличить конверсию</td>\n",
       "                        <td id=\"T_ad6ac_row3_col1\" class=\"data row3 col1\" >40</td>\n",
       "            </tr>\n",
       "            <tr>\n",
       "                        <th id=\"T_ad6ac_level0_row4\" class=\"row_heading level0 row4\" >8</th>\n",
       "                        <td id=\"T_ad6ac_row4_col0\" class=\"data row4 col0\" >Запустить акцию, дающую скидку на товар в день рождения</td>\n",
       "                        <td id=\"T_ad6ac_row4_col1\" class=\"data row4 col1\" >16</td>\n",
       "            </tr>\n",
       "            <tr>\n",
       "                        <th id=\"T_ad6ac_level0_row5\" class=\"row_heading level0 row5\" >3</th>\n",
       "                        <td id=\"T_ad6ac_row5_col0\" class=\"data row5 col0\" >Изменить структура категорий, что увеличит конверсию, т.к. пользователи быстрее найдут нужный товар</td>\n",
       "                        <td id=\"T_ad6ac_row5_col1\" class=\"data row5 col1\" >9</td>\n",
       "            </tr>\n",
       "            <tr>\n",
       "                        <th id=\"T_ad6ac_level0_row6\" class=\"row_heading level0 row6\" >1</th>\n",
       "                        <td id=\"T_ad6ac_row6_col0\" class=\"data row6 col0\" >Запустить собственную службу доставки, что сократит срок доставки заказов</td>\n",
       "                        <td id=\"T_ad6ac_row6_col1\" class=\"data row6 col1\" >4</td>\n",
       "            </tr>\n",
       "            <tr>\n",
       "                        <th id=\"T_ad6ac_level0_row7\" class=\"row_heading level0 row7\" >5</th>\n",
       "                        <td id=\"T_ad6ac_row7_col0\" class=\"data row7 col0\" >Добавить страницу отзывов клиентов о магазине, что позволит увеличить количество заказов</td>\n",
       "                        <td id=\"T_ad6ac_row7_col1\" class=\"data row7 col1\" >4</td>\n",
       "            </tr>\n",
       "            <tr>\n",
       "                        <th id=\"T_ad6ac_level0_row8\" class=\"row_heading level0 row8\" >4</th>\n",
       "                        <td id=\"T_ad6ac_row8_col0\" class=\"data row8 col0\" >Изменить цвет фона главной страницы, чтобы увеличить вовлеченность пользователей</td>\n",
       "                        <td id=\"T_ad6ac_row8_col1\" class=\"data row8 col1\" >3</td>\n",
       "            </tr>\n",
       "    </tbody></table>"
      ],
      "text/plain": [
       "<pandas.io.formats.style.Styler at 0x7f54dae39790>"
      ]
     },
     "execution_count": 8,
     "metadata": {},
     "output_type": "execute_result"
    }
   ],
   "source": [
    "# применим фреймворк ICE для приоритизации гипотез\n",
    "hypothesis['RICE'] = hypothesis.reach * hypothesis.impact * hypothesis.confidence / hypothesis.efforts\n",
    "# отсортируем гипотезы по убыванию приоритета\n",
    "hypothesis[['hypothesis', 'RICE']].sort_values(by='RICE', ascending=False).style.format(\"{:.0f}\", subset='RICE')"
   ]
  },
  {
   "cell_type": "code",
   "execution_count": 9,
   "metadata": {},
   "outputs": [
    {
     "data": {
      "image/png": "[encoded data removed]",
      "text/plain": [
       "<Figure size 432x288 with 1 Axes>"
      ]
     },
     "metadata": {
      "needs_background": "light"
     },
     "output_type": "display_data"
    }
   ],
   "source": [
    "# построим график\n",
    "ax = hypothesis[['hypothesis', 'RICE']].set_index('hypothesis').sort_values('RICE').plot(kind='barh')\n",
    "ax.set_xlabel('Приоритет')\n",
    "ax.set_ylabel('Гипотеза')\n",
    "ax.set_title('RICE')\n",
    "plt.show()"
   ]
  },
  {
   "cell_type": "markdown",
   "metadata": {},
   "source": [
    "**Вывод:** \n",
    "\n",
    "Наиболее приоритетные гипотезы по ICE:\n",
    "1. Запустить акцию, дающую скидку на товар в день рождения\n",
    "2. Добавить два новых канала привлечения трафика, что позволит привлекать на 30% больше пользователей\n",
    "3. Добавить форму подписки на все основные страницы, чтобы собрать базу клиентов для email-рассылок\n",
    "4. Показать на главной странице баннеры с актуальными акциями и распродажами, чтобы увеличить конверсию\n",
    "5. Добавить блоки рекомендаций товаров на сайт интернет магазина, чтобы повысить конверсию и средний чек заказа\n",
    "\n",
    "Наиболее приоритетные гипотезы по RICE:\n",
    "1. Добавить форму подписки на все основные страницы, чтобы собрать базу клиентов для email-рассылок\n",
    "2. Добавить блоки рекомендаций товаров на сайт интернет магазина, чтобы повысить конверсию и средний чек заказа\n",
    "3. Добавить два новых канала привлечения трафика, что позволит привлекать на 30% больше пользователей\n",
    "4. Показать на главной странице баннеры с актуальными акциями и распродажами, чтобы увеличить конверсию\n",
    "5. Запустить акцию, дающую скидку на товар в день рождения\n",
    "\n",
    "Пять наиболее важных для проверки гипотез совпадают у ICE и RICE, однако порядок отличается. \n",
    "\n",
    "Так, имевшая наибольший по ICE приоритет гипотеза \"Запустить акцию, дающую скидку на товар в день рождения\" опустилась аж на пятое место в RICE, так как имеет наименьший охват - лишь 1 балл. Вполне логично, ведь, как мы знаем, день рождения только раз в году, потому пользоваться этой акцией можно будет редко.\n",
    "\n",
    "А вот гипотеза \"Добавить форму подписки на все основные страницы, чтобы собрать базу клиентов для email-рассылок\" поднялась с третьего места по ICE на первое место по RICE, так как захватывает всех пользователей.\n",
    "\n",
    "Схожая ситуация с гипотезой \"Добавить блоки рекомендаций товаров на сайт интернет магазина, чтобы повысить конверсию и средний чек заказа\", которая поднялась с пятого места на второе - она также охватывает большую часть клиентов."
   ]
  },
  {
   "cell_type": "markdown",
   "metadata": {},
   "source": [
    "## Анализ А/В-теста"
   ]
  },
  {
   "cell_type": "code",
   "execution_count": 10,
   "metadata": {},
   "outputs": [],
   "source": [
    "# чтение файлов с данными\n",
    "orders = pd.read_csv('/datasets/orders.csv')"
   ]
  },
  {
   "cell_type": "code",
   "execution_count": 11,
   "metadata": {},
   "outputs": [
    {
     "name": "stdout",
     "output_type": "stream",
     "text": [
      "Первые 5 строк таблицы:\n"
     ]
    },
    {
     "data": {
      "text/html": [
       "<div>\n",
       "<style scoped>\n",
       "    .dataframe tbody tr th:only-of-type {\n",
       "        vertical-align: middle;\n",
       "    }\n",
       "\n",
       "    .dataframe tbody tr th {\n",
       "        vertical-align: top;\n",
       "    }\n",
       "\n",
       "    .dataframe thead th {\n",
       "        text-align: right;\n",
       "    }\n",
       "</style>\n",
       "<table border=\"1\" class=\"dataframe\">\n",
       "  <thead>\n",
       "    <tr style=\"text-align: right;\">\n",
       "      <th></th>\n",
       "      <th>transactionId</th>\n",
       "      <th>visitorId</th>\n",
       "      <th>date</th>\n",
       "      <th>revenue</th>\n",
       "      <th>group</th>\n",
       "    </tr>\n",
       "  </thead>\n",
       "  <tbody>\n",
       "    <tr>\n",
       "      <th>0</th>\n",
       "      <td>3667963787</td>\n",
       "      <td>3312258926</td>\n",
       "      <td>2019-08-15</td>\n",
       "      <td>1650</td>\n",
       "      <td>B</td>\n",
       "    </tr>\n",
       "    <tr>\n",
       "      <th>1</th>\n",
       "      <td>2804400009</td>\n",
       "      <td>3642806036</td>\n",
       "      <td>2019-08-15</td>\n",
       "      <td>730</td>\n",
       "      <td>B</td>\n",
       "    </tr>\n",
       "    <tr>\n",
       "      <th>2</th>\n",
       "      <td>2961555356</td>\n",
       "      <td>4069496402</td>\n",
       "      <td>2019-08-15</td>\n",
       "      <td>400</td>\n",
       "      <td>A</td>\n",
       "    </tr>\n",
       "    <tr>\n",
       "      <th>3</th>\n",
       "      <td>3797467345</td>\n",
       "      <td>1196621759</td>\n",
       "      <td>2019-08-15</td>\n",
       "      <td>9759</td>\n",
       "      <td>B</td>\n",
       "    </tr>\n",
       "    <tr>\n",
       "      <th>4</th>\n",
       "      <td>2282983706</td>\n",
       "      <td>2322279887</td>\n",
       "      <td>2019-08-15</td>\n",
       "      <td>2308</td>\n",
       "      <td>B</td>\n",
       "    </tr>\n",
       "  </tbody>\n",
       "</table>\n",
       "</div>"
      ],
      "text/plain": [
       "   transactionId   visitorId        date  revenue group\n",
       "0     3667963787  3312258926  2019-08-15     1650     B\n",
       "1     2804400009  3642806036  2019-08-15      730     B\n",
       "2     2961555356  4069496402  2019-08-15      400     A\n",
       "3     3797467345  1196621759  2019-08-15     9759     B\n",
       "4     2282983706  2322279887  2019-08-15     2308     B"
      ]
     },
     "metadata": {},
     "output_type": "display_data"
    },
    {
     "name": "stdout",
     "output_type": "stream",
     "text": [
      "Информация о таблице:\n",
      "<class 'pandas.core.frame.DataFrame'>\n",
      "RangeIndex: 1197 entries, 0 to 1196\n",
      "Data columns (total 5 columns):\n",
      " #   Column         Non-Null Count  Dtype \n",
      "---  ------         --------------  ----- \n",
      " 0   transactionId  1197 non-null   int64 \n",
      " 1   visitorId      1197 non-null   int64 \n",
      " 2   date           1197 non-null   object\n",
      " 3   revenue        1197 non-null   int64 \n",
      " 4   group          1197 non-null   object\n",
      "dtypes: int64(3), object(2)\n",
      "memory usage: 46.9+ KB\n",
      "None\n"
     ]
    },
    {
     "data": {
      "text/html": [
       "<div>\n",
       "<style scoped>\n",
       "    .dataframe tbody tr th:only-of-type {\n",
       "        vertical-align: middle;\n",
       "    }\n",
       "\n",
       "    .dataframe tbody tr th {\n",
       "        vertical-align: top;\n",
       "    }\n",
       "\n",
       "    .dataframe thead th {\n",
       "        text-align: right;\n",
       "    }\n",
       "</style>\n",
       "<table border=\"1\" class=\"dataframe\">\n",
       "  <thead>\n",
       "    <tr style=\"text-align: right;\">\n",
       "      <th></th>\n",
       "      <th>transactionId</th>\n",
       "      <th>visitorId</th>\n",
       "      <th>revenue</th>\n",
       "    </tr>\n",
       "  </thead>\n",
       "  <tbody>\n",
       "    <tr>\n",
       "      <th>count</th>\n",
       "      <td>1.197000e+03</td>\n",
       "      <td>1.197000e+03</td>\n",
       "      <td>1.197000e+03</td>\n",
       "    </tr>\n",
       "    <tr>\n",
       "      <th>mean</th>\n",
       "      <td>2.155621e+09</td>\n",
       "      <td>2.165960e+09</td>\n",
       "      <td>8.348006e+03</td>\n",
       "    </tr>\n",
       "    <tr>\n",
       "      <th>std</th>\n",
       "      <td>1.229085e+09</td>\n",
       "      <td>1.236014e+09</td>\n",
       "      <td>3.919113e+04</td>\n",
       "    </tr>\n",
       "    <tr>\n",
       "      <th>min</th>\n",
       "      <td>1.062393e+06</td>\n",
       "      <td>5.114589e+06</td>\n",
       "      <td>5.000000e+01</td>\n",
       "    </tr>\n",
       "    <tr>\n",
       "      <th>25%</th>\n",
       "      <td>1.166776e+09</td>\n",
       "      <td>1.111826e+09</td>\n",
       "      <td>1.220000e+03</td>\n",
       "    </tr>\n",
       "    <tr>\n",
       "      <th>50%</th>\n",
       "      <td>2.145194e+09</td>\n",
       "      <td>2.217985e+09</td>\n",
       "      <td>2.978000e+03</td>\n",
       "    </tr>\n",
       "    <tr>\n",
       "      <th>75%</th>\n",
       "      <td>3.237740e+09</td>\n",
       "      <td>3.177606e+09</td>\n",
       "      <td>8.290000e+03</td>\n",
       "    </tr>\n",
       "    <tr>\n",
       "      <th>max</th>\n",
       "      <td>4.293856e+09</td>\n",
       "      <td>4.283872e+09</td>\n",
       "      <td>1.294500e+06</td>\n",
       "    </tr>\n",
       "  </tbody>\n",
       "</table>\n",
       "</div>"
      ],
      "text/plain": [
       "       transactionId     visitorId       revenue\n",
       "count   1.197000e+03  1.197000e+03  1.197000e+03\n",
       "mean    2.155621e+09  2.165960e+09  8.348006e+03\n",
       "std     1.229085e+09  1.236014e+09  3.919113e+04\n",
       "min     1.062393e+06  5.114589e+06  5.000000e+01\n",
       "25%     1.166776e+09  1.111826e+09  1.220000e+03\n",
       "50%     2.145194e+09  2.217985e+09  2.978000e+03\n",
       "75%     3.237740e+09  3.177606e+09  8.290000e+03\n",
       "max     4.293856e+09  4.283872e+09  1.294500e+06"
      ]
     },
     "metadata": {},
     "output_type": "display_data"
    },
    {
     "name": "stdout",
     "output_type": "stream",
     "text": [
      "Количество строк и столбцов:\n",
      "(1197, 5)\n",
      "Количество пропусков:\n",
      "пропусков нет\n",
      "Количество дубликатов:\n",
      "дубликатов нет\n"
     ]
    }
   ],
   "source": [
    "# просмотр информации о таблице\n",
    "first_look(orders)"
   ]
  },
  {
   "cell_type": "code",
   "execution_count": 12,
   "metadata": {},
   "outputs": [],
   "source": [
    "# чтение файлов с данными\n",
    "visitors = pd.read_csv('/datasets/visitors.csv')"
   ]
  },
  {
   "cell_type": "code",
   "execution_count": 13,
   "metadata": {},
   "outputs": [
    {
     "name": "stdout",
     "output_type": "stream",
     "text": [
      "Первые 5 строк таблицы:\n"
     ]
    },
    {
     "data": {
      "text/html": [
       "<div>\n",
       "<style scoped>\n",
       "    .dataframe tbody tr th:only-of-type {\n",
       "        vertical-align: middle;\n",
       "    }\n",
       "\n",
       "    .dataframe tbody tr th {\n",
       "        vertical-align: top;\n",
       "    }\n",
       "\n",
       "    .dataframe thead th {\n",
       "        text-align: right;\n",
       "    }\n",
       "</style>\n",
       "<table border=\"1\" class=\"dataframe\">\n",
       "  <thead>\n",
       "    <tr style=\"text-align: right;\">\n",
       "      <th></th>\n",
       "      <th>date</th>\n",
       "      <th>group</th>\n",
       "      <th>visitors</th>\n",
       "    </tr>\n",
       "  </thead>\n",
       "  <tbody>\n",
       "    <tr>\n",
       "      <th>0</th>\n",
       "      <td>2019-08-01</td>\n",
       "      <td>A</td>\n",
       "      <td>719</td>\n",
       "    </tr>\n",
       "    <tr>\n",
       "      <th>1</th>\n",
       "      <td>2019-08-02</td>\n",
       "      <td>A</td>\n",
       "      <td>619</td>\n",
       "    </tr>\n",
       "    <tr>\n",
       "      <th>2</th>\n",
       "      <td>2019-08-03</td>\n",
       "      <td>A</td>\n",
       "      <td>507</td>\n",
       "    </tr>\n",
       "    <tr>\n",
       "      <th>3</th>\n",
       "      <td>2019-08-04</td>\n",
       "      <td>A</td>\n",
       "      <td>717</td>\n",
       "    </tr>\n",
       "    <tr>\n",
       "      <th>4</th>\n",
       "      <td>2019-08-05</td>\n",
       "      <td>A</td>\n",
       "      <td>756</td>\n",
       "    </tr>\n",
       "  </tbody>\n",
       "</table>\n",
       "</div>"
      ],
      "text/plain": [
       "         date group  visitors\n",
       "0  2019-08-01     A       719\n",
       "1  2019-08-02     A       619\n",
       "2  2019-08-03     A       507\n",
       "3  2019-08-04     A       717\n",
       "4  2019-08-05     A       756"
      ]
     },
     "metadata": {},
     "output_type": "display_data"
    },
    {
     "name": "stdout",
     "output_type": "stream",
     "text": [
      "Информация о таблице:\n",
      "<class 'pandas.core.frame.DataFrame'>\n",
      "RangeIndex: 62 entries, 0 to 61\n",
      "Data columns (total 3 columns):\n",
      " #   Column    Non-Null Count  Dtype \n",
      "---  ------    --------------  ----- \n",
      " 0   date      62 non-null     object\n",
      " 1   group     62 non-null     object\n",
      " 2   visitors  62 non-null     int64 \n",
      "dtypes: int64(1), object(2)\n",
      "memory usage: 1.6+ KB\n",
      "None\n"
     ]
    },
    {
     "data": {
      "text/html": [
       "<div>\n",
       "<style scoped>\n",
       "    .dataframe tbody tr th:only-of-type {\n",
       "        vertical-align: middle;\n",
       "    }\n",
       "\n",
       "    .dataframe tbody tr th {\n",
       "        vertical-align: top;\n",
       "    }\n",
       "\n",
       "    .dataframe thead th {\n",
       "        text-align: right;\n",
       "    }\n",
       "</style>\n",
       "<table border=\"1\" class=\"dataframe\">\n",
       "  <thead>\n",
       "    <tr style=\"text-align: right;\">\n",
       "      <th></th>\n",
       "      <th>visitors</th>\n",
       "    </tr>\n",
       "  </thead>\n",
       "  <tbody>\n",
       "    <tr>\n",
       "      <th>count</th>\n",
       "      <td>62.000000</td>\n",
       "    </tr>\n",
       "    <tr>\n",
       "      <th>mean</th>\n",
       "      <td>607.290323</td>\n",
       "    </tr>\n",
       "    <tr>\n",
       "      <th>std</th>\n",
       "      <td>114.400560</td>\n",
       "    </tr>\n",
       "    <tr>\n",
       "      <th>min</th>\n",
       "      <td>361.000000</td>\n",
       "    </tr>\n",
       "    <tr>\n",
       "      <th>25%</th>\n",
       "      <td>534.000000</td>\n",
       "    </tr>\n",
       "    <tr>\n",
       "      <th>50%</th>\n",
       "      <td>624.500000</td>\n",
       "    </tr>\n",
       "    <tr>\n",
       "      <th>75%</th>\n",
       "      <td>710.500000</td>\n",
       "    </tr>\n",
       "    <tr>\n",
       "      <th>max</th>\n",
       "      <td>770.000000</td>\n",
       "    </tr>\n",
       "  </tbody>\n",
       "</table>\n",
       "</div>"
      ],
      "text/plain": [
       "         visitors\n",
       "count   62.000000\n",
       "mean   607.290323\n",
       "std    114.400560\n",
       "min    361.000000\n",
       "25%    534.000000\n",
       "50%    624.500000\n",
       "75%    710.500000\n",
       "max    770.000000"
      ]
     },
     "metadata": {},
     "output_type": "display_data"
    },
    {
     "name": "stdout",
     "output_type": "stream",
     "text": [
      "Количество строк и столбцов:\n",
      "(62, 3)\n",
      "Количество пропусков:\n",
      "пропусков нет\n",
      "Количество дубликатов:\n",
      "дубликатов нет\n"
     ]
    }
   ],
   "source": [
    "# просмотр информации о таблице\n",
    "first_look(visitors)"
   ]
  },
  {
   "cell_type": "code",
   "execution_count": 14,
   "metadata": {},
   "outputs": [],
   "source": [
    "# переименуем столбцы\n",
    "orders.rename(columns={'transactionId':'transaction_id', 'visitorId':'visitor_id'}, inplace=True)"
   ]
  },
  {
   "cell_type": "code",
   "execution_count": 15,
   "metadata": {},
   "outputs": [],
   "source": [
    "# преобразование из строки в дату\n",
    "def to_date(x):\n",
    "    x['date'] = pd.to_datetime(x['date'])\n",
    "\n",
    "to_date(orders)\n",
    "to_date(visitors)"
   ]
  },
  {
   "cell_type": "code",
   "execution_count": 16,
   "metadata": {},
   "outputs": [
    {
     "name": "stdout",
     "output_type": "stream",
     "text": [
      "2019-08-01\n",
      "2019-08-31\n",
      "2019-08-01\n",
      "2019-08-31\n"
     ]
    }
   ],
   "source": [
    "# просмотрим минимальную и максимальную даты\n",
    "print(orders.date.min().date())\n",
    "print(orders.date.max().date())\n",
    "print(visitors.date.min().date())\n",
    "print(visitors.date.max().date())"
   ]
  },
  {
   "cell_type": "code",
   "execution_count": 17,
   "metadata": {},
   "outputs": [
    {
     "data": {
      "text/html": [
       "<div>\n",
       "<style scoped>\n",
       "    .dataframe tbody tr th:only-of-type {\n",
       "        vertical-align: middle;\n",
       "    }\n",
       "\n",
       "    .dataframe tbody tr th {\n",
       "        vertical-align: top;\n",
       "    }\n",
       "\n",
       "    .dataframe thead th {\n",
       "        text-align: right;\n",
       "    }\n",
       "</style>\n",
       "<table border=\"1\" class=\"dataframe\">\n",
       "  <thead>\n",
       "    <tr style=\"text-align: right;\">\n",
       "      <th></th>\n",
       "      <th>transaction_id</th>\n",
       "    </tr>\n",
       "    <tr>\n",
       "      <th>group</th>\n",
       "      <th></th>\n",
       "    </tr>\n",
       "  </thead>\n",
       "  <tbody>\n",
       "    <tr>\n",
       "      <th>A</th>\n",
       "      <td>557</td>\n",
       "    </tr>\n",
       "    <tr>\n",
       "      <th>B</th>\n",
       "      <td>640</td>\n",
       "    </tr>\n",
       "  </tbody>\n",
       "</table>\n",
       "</div>"
      ],
      "text/plain": [
       "       transaction_id\n",
       "group                \n",
       "A                 557\n",
       "B                 640"
      ]
     },
     "execution_count": 17,
     "metadata": {},
     "output_type": "execute_result"
    }
   ],
   "source": [
    "# общее количество заказов в двух группах\n",
    "orders.groupby('group').agg({'transaction_id' : 'count'})"
   ]
  },
  {
   "cell_type": "code",
   "execution_count": 18,
   "metadata": {},
   "outputs": [
    {
     "data": {
      "text/html": [
       "<div>\n",
       "<style scoped>\n",
       "    .dataframe tbody tr th:only-of-type {\n",
       "        vertical-align: middle;\n",
       "    }\n",
       "\n",
       "    .dataframe tbody tr th {\n",
       "        vertical-align: top;\n",
       "    }\n",
       "\n",
       "    .dataframe thead th {\n",
       "        text-align: right;\n",
       "    }\n",
       "</style>\n",
       "<table border=\"1\" class=\"dataframe\">\n",
       "  <thead>\n",
       "    <tr style=\"text-align: right;\">\n",
       "      <th></th>\n",
       "      <th>visitor_id</th>\n",
       "    </tr>\n",
       "    <tr>\n",
       "      <th>group</th>\n",
       "      <th></th>\n",
       "    </tr>\n",
       "  </thead>\n",
       "  <tbody>\n",
       "    <tr>\n",
       "      <th>A</th>\n",
       "      <td>503</td>\n",
       "    </tr>\n",
       "    <tr>\n",
       "      <th>B</th>\n",
       "      <td>586</td>\n",
       "    </tr>\n",
       "  </tbody>\n",
       "</table>\n",
       "</div>"
      ],
      "text/plain": [
       "       visitor_id\n",
       "group            \n",
       "A             503\n",
       "B             586"
      ]
     },
     "execution_count": 18,
     "metadata": {},
     "output_type": "execute_result"
    }
   ],
   "source": [
    "# общее количество уникальных пользователей в двух группах\n",
    "orders.groupby('group').agg({'visitor_id' : 'nunique'})"
   ]
  },
  {
   "cell_type": "code",
   "execution_count": 19,
   "metadata": {},
   "outputs": [
    {
     "name": "stdout",
     "output_type": "stream",
     "text": [
      "58\n"
     ]
    }
   ],
   "source": [
    "# проверим, есть ли пользователи, которые попали в обе группы\n",
    "visitors_in_both_groups = orders.groupby(['visitor_id'])\\\n",
    "    .agg({'group': 'nunique'})\\\n",
    "    .query('group > 1')\\\n",
    "    .index.to_list()\n",
    "print(len(visitors_in_both_groups))"
   ]
  },
  {
   "cell_type": "code",
   "execution_count": 20,
   "metadata": {},
   "outputs": [
    {
     "data": {
      "text/plain": [
       "0.05625606207565471"
      ]
     },
     "execution_count": 20,
     "metadata": {},
     "output_type": "execute_result"
    }
   ],
   "source": [
    "# найдем долю пользователей, которые попали в обе группы\n",
    "len(visitors_in_both_groups)/orders['visitor_id'].nunique()"
   ]
  },
  {
   "cell_type": "markdown",
   "metadata": {},
   "source": [
    "Таких пользователей 5,6%, потому удалим их."
   ]
  },
  {
   "cell_type": "code",
   "execution_count": 21,
   "metadata": {},
   "outputs": [],
   "source": [
    "# удалим этих пользователей\n",
    "orders = orders.drop(orders[orders['visitor_id'].isin(visitors_in_both_groups)].index).reset_index()"
   ]
  },
  {
   "cell_type": "code",
   "execution_count": 22,
   "metadata": {},
   "outputs": [
    {
     "data": {
      "text/html": [
       "<div>\n",
       "<style scoped>\n",
       "    .dataframe tbody tr th:only-of-type {\n",
       "        vertical-align: middle;\n",
       "    }\n",
       "\n",
       "    .dataframe tbody tr th {\n",
       "        vertical-align: top;\n",
       "    }\n",
       "\n",
       "    .dataframe thead th {\n",
       "        text-align: right;\n",
       "    }\n",
       "</style>\n",
       "<table border=\"1\" class=\"dataframe\">\n",
       "  <thead>\n",
       "    <tr style=\"text-align: right;\">\n",
       "      <th></th>\n",
       "      <th>index</th>\n",
       "      <th>transaction_id</th>\n",
       "      <th>visitor_id</th>\n",
       "      <th>date</th>\n",
       "      <th>revenue</th>\n",
       "      <th>group</th>\n",
       "    </tr>\n",
       "  </thead>\n",
       "  <tbody>\n",
       "    <tr>\n",
       "      <th>0</th>\n",
       "      <td>0</td>\n",
       "      <td>3667963787</td>\n",
       "      <td>3312258926</td>\n",
       "      <td>2019-08-15</td>\n",
       "      <td>1650</td>\n",
       "      <td>B</td>\n",
       "    </tr>\n",
       "    <tr>\n",
       "      <th>1</th>\n",
       "      <td>1</td>\n",
       "      <td>2804400009</td>\n",
       "      <td>3642806036</td>\n",
       "      <td>2019-08-15</td>\n",
       "      <td>730</td>\n",
       "      <td>B</td>\n",
       "    </tr>\n",
       "    <tr>\n",
       "      <th>2</th>\n",
       "      <td>3</td>\n",
       "      <td>3797467345</td>\n",
       "      <td>1196621759</td>\n",
       "      <td>2019-08-15</td>\n",
       "      <td>9759</td>\n",
       "      <td>B</td>\n",
       "    </tr>\n",
       "    <tr>\n",
       "      <th>3</th>\n",
       "      <td>4</td>\n",
       "      <td>2282983706</td>\n",
       "      <td>2322279887</td>\n",
       "      <td>2019-08-15</td>\n",
       "      <td>2308</td>\n",
       "      <td>B</td>\n",
       "    </tr>\n",
       "    <tr>\n",
       "      <th>4</th>\n",
       "      <td>5</td>\n",
       "      <td>182168103</td>\n",
       "      <td>935554773</td>\n",
       "      <td>2019-08-15</td>\n",
       "      <td>2210</td>\n",
       "      <td>B</td>\n",
       "    </tr>\n",
       "    <tr>\n",
       "      <th>...</th>\n",
       "      <td>...</td>\n",
       "      <td>...</td>\n",
       "      <td>...</td>\n",
       "      <td>...</td>\n",
       "      <td>...</td>\n",
       "      <td>...</td>\n",
       "    </tr>\n",
       "    <tr>\n",
       "      <th>1011</th>\n",
       "      <td>1191</td>\n",
       "      <td>3592955527</td>\n",
       "      <td>608641596</td>\n",
       "      <td>2019-08-14</td>\n",
       "      <td>16490</td>\n",
       "      <td>B</td>\n",
       "    </tr>\n",
       "    <tr>\n",
       "      <th>1012</th>\n",
       "      <td>1192</td>\n",
       "      <td>2662137336</td>\n",
       "      <td>3733762160</td>\n",
       "      <td>2019-08-14</td>\n",
       "      <td>6490</td>\n",
       "      <td>B</td>\n",
       "    </tr>\n",
       "    <tr>\n",
       "      <th>1013</th>\n",
       "      <td>1193</td>\n",
       "      <td>2203539145</td>\n",
       "      <td>370388673</td>\n",
       "      <td>2019-08-14</td>\n",
       "      <td>3190</td>\n",
       "      <td>A</td>\n",
       "    </tr>\n",
       "    <tr>\n",
       "      <th>1014</th>\n",
       "      <td>1194</td>\n",
       "      <td>1807773912</td>\n",
       "      <td>573423106</td>\n",
       "      <td>2019-08-14</td>\n",
       "      <td>10550</td>\n",
       "      <td>A</td>\n",
       "    </tr>\n",
       "    <tr>\n",
       "      <th>1015</th>\n",
       "      <td>1196</td>\n",
       "      <td>3936777065</td>\n",
       "      <td>2108080724</td>\n",
       "      <td>2019-08-15</td>\n",
       "      <td>202740</td>\n",
       "      <td>B</td>\n",
       "    </tr>\n",
       "  </tbody>\n",
       "</table>\n",
       "<p>1016 rows × 6 columns</p>\n",
       "</div>"
      ],
      "text/plain": [
       "      index  transaction_id  visitor_id       date  revenue group\n",
       "0         0      3667963787  3312258926 2019-08-15     1650     B\n",
       "1         1      2804400009  3642806036 2019-08-15      730     B\n",
       "2         3      3797467345  1196621759 2019-08-15     9759     B\n",
       "3         4      2282983706  2322279887 2019-08-15     2308     B\n",
       "4         5       182168103   935554773 2019-08-15     2210     B\n",
       "...     ...             ...         ...        ...      ...   ...\n",
       "1011   1191      3592955527   608641596 2019-08-14    16490     B\n",
       "1012   1192      2662137336  3733762160 2019-08-14     6490     B\n",
       "1013   1193      2203539145   370388673 2019-08-14     3190     A\n",
       "1014   1194      1807773912   573423106 2019-08-14    10550     A\n",
       "1015   1196      3936777065  2108080724 2019-08-15   202740     B\n",
       "\n",
       "[1016 rows x 6 columns]"
      ]
     },
     "execution_count": 22,
     "metadata": {},
     "output_type": "execute_result"
    }
   ],
   "source": [
    "orders"
   ]
  },
  {
   "cell_type": "code",
   "execution_count": 23,
   "metadata": {},
   "outputs": [
    {
     "name": "stdout",
     "output_type": "stream",
     "text": [
      "0\n"
     ]
    }
   ],
   "source": [
    "# проверим, что попавших в обе группы пользователей не осталось\n",
    "visitors_in_both_groups = orders.groupby(['visitor_id'])\\\n",
    "    .agg({'group': 'nunique'})\\\n",
    "    .query('group > 1')\\\n",
    "    .index.to_list()\n",
    "print(len(visitors_in_both_groups))"
   ]
  },
  {
   "cell_type": "markdown",
   "metadata": {},
   "source": [
    "**Вывод**\n",
    "\n",
    "В таблице orders минимальная выручка заказа составил 50 ед., максимальная - 1 294 500 ед. Средняя выручка - 8 348,01 ед., медиана - 2 978 ед.\n",
    "\n",
    "В таблице visitors количество пользователей за день в группе A/B-теста варьировалось от 361 до 770. Среднее число - 607,29, медиана - 624,5.\n",
    "\n",
    "Минимальная и максимальная дата в двух таблицах совпадает - 1 августа 2019 г. и 31 августа 2019 г. соответственно.\n",
    "\n",
    "Дубликатов в таблицах нет.\n",
    "\n",
    "Общее количество заказов в группах не совпадает. В группе А зафиксировано 557 заказов, в группе В - 640. Количество уникальных пользователей также не совпадает. В группе А - 503 пользователя, в группе В - 586. Кроме того, в группе А и группе В оказалось 58 пользователей одновременно. Эти пользователи были удалены.\n",
    "\n",
    "### График кумулятивной выручки по группам"
   ]
  },
  {
   "cell_type": "code",
   "execution_count": 24,
   "metadata": {},
   "outputs": [
    {
     "data": {
      "image/png": "[encoded data removed]",
      "text/plain": [
       "<Figure size 1296x432 with 1 Axes>"
      ]
     },
     "metadata": {
      "needs_background": "light"
     },
     "output_type": "display_data"
    }
   ],
   "source": [
    "# создание датафрейма datesGroups с уникальными парами значений 'date' и 'group', таблицы orders; удаление дубликатов\n",
    "datesGroups = orders[['date', 'group']].drop_duplicates()\n",
    "\n",
    "ordersAggregated = datesGroups.apply(\n",
    "    lambda x: orders[\n",
    "        np.logical_and(\n",
    "            orders['date'] <= x['date'], orders['group'] == x['group']\n",
    "        )\n",
    "    ].agg(\n",
    "        {\n",
    "            'date': 'max',\n",
    "            'group': 'max',\n",
    "            'transaction_id': 'nunique',\n",
    "            'visitor_id': 'nunique',\n",
    "            'revenue': 'sum',\n",
    "        }\n",
    "    ),\n",
    "    axis=1,\n",
    ").sort_values(by=['date', 'group'])\n",
    "\n",
    "visitorsAggregated = datesGroups.apply(\n",
    "    lambda x: visitors[\n",
    "        np.logical_and(\n",
    "            visitors['date'] <= x['date'], visitors['group'] == x['group']\n",
    "        )\n",
    "    ].agg({'date': 'max', 'group': 'max', 'visitors': 'sum'}),\n",
    "    axis=1,\n",
    ").sort_values(by=['date', 'group'])\n",
    "\n",
    "cumulativeData = ordersAggregated.merge(\n",
    "    visitorsAggregated, left_on=['date', 'group'], right_on=['date', 'group']\n",
    ")\n",
    "cumulativeData.columns = [\n",
    "    'date',\n",
    "    'group',\n",
    "    'orders',\n",
    "    'buyers',\n",
    "    'revenue',\n",
    "    'visitors',\n",
    "]\n",
    "\n",
    "cumulativeData['conversion'] = (\n",
    "    cumulativeData['orders'] / cumulativeData['visitors']\n",
    ")\n",
    "\n",
    "cumulativeDataA = cumulativeData[cumulativeData['group'] == 'A']\n",
    "cumulativeDataB = cumulativeData[cumulativeData['group'] == 'B']\n",
    "\n",
    "cumulativeRevenueA = cumulativeData[cumulativeData['group']=='A'][['date','revenue', 'orders']]\n",
    "\n",
    "# датафрейм с кумулятивным количеством заказов и кумулятивной выручкой по дням в группе B\n",
    "cumulativeRevenueB = cumulativeData[cumulativeData['group']=='B'][['date','revenue', 'orders']]\n",
    "\n",
    "plt.figure(figsize = (18, 6)).suptitle('График кумулятивной выручки по группам', fontsize=24)\n",
    "# Строим график выручки группы А\n",
    "plt.plot(cumulativeRevenueA['date'], cumulativeRevenueA['revenue'], label='A')\n",
    "\n",
    "# Строим график выручки группы B\n",
    "plt.plot(cumulativeRevenueB['date'], cumulativeRevenueB['revenue'], label='B')\n",
    "\n",
    "plt.tick_params(axis='x', labelsize=12)\n",
    "plt.xlabel('Дата', fontsize=16)\n",
    "plt.grid()\n",
    "plt.legend()\n",
    "plt.show()"
   ]
  },
  {
   "cell_type": "markdown",
   "metadata": {},
   "source": [
    "Группа В с минимальным отрывом лидировала практически весь тест. Но с 18 августа выручка у группы В резко подскочила вверх. Выручка группы А росла практически равномерно весь месяц.\n",
    "\n",
    "### График кумулятивного среднего чека по группам"
   ]
  },
  {
   "cell_type": "code",
   "execution_count": 25,
   "metadata": {},
   "outputs": [
    {
     "data": {
      "image/png": "[encoded data removed]",
      "text/plain": [
       "<Figure size 1296x432 with 1 Axes>"
      ]
     },
     "metadata": {
      "needs_background": "light"
     },
     "output_type": "display_data"
    }
   ],
   "source": [
    "plt.figure(figsize = (18, 6)).suptitle('График кумулятивного среднего чека по группам', fontsize=24)\n",
    "\n",
    "# график среднего чека группы А\n",
    "plt.plot(cumulativeRevenueA['date'], cumulativeRevenueA['revenue']/cumulativeRevenueA['orders'], label='A')\n",
    "\n",
    "# график среднего чека группы В\n",
    "plt.plot(cumulativeRevenueB['date'], cumulativeRevenueB['revenue']/cumulativeRevenueB['orders'], label='B')\n",
    "\n",
    "plt.tick_params(axis='x', labelsize=12)\n",
    "plt.xlabel('Дата', fontsize=16)\n",
    "plt.grid()\n",
    "plt.legend()\n",
    "plt.show()"
   ]
  },
  {
   "cell_type": "markdown",
   "metadata": {},
   "source": [
    "Кумулятивное значение среднего чека к середине месяца выросло в обоих группах, однако затем немного снизилось. Очень интересно, что 18-19 августа в группе В было резкое повышение среднего чека - скорее всего, имели место какие-то очень крупные заказы.\n",
    "\n",
    "### График относительного изменения кумулятивного среднего чека группы B к группе A"
   ]
  },
  {
   "cell_type": "code",
   "execution_count": 26,
   "metadata": {},
   "outputs": [
    {
     "data": {
      "image/png": "[encoded data removed]",
      "text/plain": [
       "<Figure size 1296x432 with 1 Axes>"
      ]
     },
     "metadata": {
      "needs_background": "light"
     },
     "output_type": "display_data"
    }
   ],
   "source": [
    "mergedCumulativeRevenue  = cumulativeRevenueA.merge(cumulativeRevenueB, \n",
    "                                                    left_on='date', \n",
    "                                                    right_on='date', \n",
    "                                                    how='left', \n",
    "                                                    suffixes=['A', 'B'])\n",
    "\n",
    "plt.figure(figsize = (18, 6))\\\n",
    "            .suptitle('График относительного изменения кумулятивного среднего чека группы B к группе A', fontsize=24)\n",
    "\n",
    "# cтроим отношение средних чеков\n",
    "plt.plot(mergedCumulativeRevenue['date'], \n",
    "        (mergedCumulativeRevenue['revenueB']/mergedCumulativeRevenue['ordersB'])\n",
    "         /(mergedCumulativeRevenue['revenueA']/mergedCumulativeRevenue['ordersA'])-1);\n",
    "\n",
    "# добавляем ось X\n",
    "plt.axhline(y=0, color='black', linestyle='--');\n",
    "\n",
    "# размер шрифта по оси x\n",
    "plt.tick_params(axis='x', labelsize=12)\n",
    "plt.xlabel('Дата', fontsize=16)\n",
    "plt.grid()"
   ]
  },
  {
   "cell_type": "markdown",
   "metadata": {},
   "source": [
    "Видно резкий скачок вниз 8 августа и резкий скачок вверх 18 августа (как раз в то время, когда было повышение среднего чека).\n",
    "\n",
    "### График кумулятивной конверсии по группам"
   ]
  },
  {
   "cell_type": "code",
   "execution_count": 27,
   "metadata": {},
   "outputs": [
    {
     "data": {
      "image/png": "[encoded data removed]",
      "text/plain": [
       "<Figure size 1296x432 with 1 Axes>"
      ]
     },
     "metadata": {
      "needs_background": "light"
     },
     "output_type": "display_data"
    }
   ],
   "source": [
    "# считаем кумулятивную конверсию\n",
    "cumulativeData['conversion'] = cumulativeData['orders']/cumulativeData['visitors']\n",
    "\n",
    "# отделяем данные по группе A\n",
    "cumulativeDataA = cumulativeData[cumulativeData['group']=='A']\n",
    "\n",
    "# отделяем данные по группе B\n",
    "cumulativeDataB = cumulativeData[cumulativeData['group']=='B']\n",
    "\n",
    "plt.figure(figsize = (18, 6))\\\n",
    "            .suptitle('График кумулятивной конверсии по группам', fontsize=24)\n",
    "\n",
    "# строим графики\n",
    "plt.plot(cumulativeDataA['date'], cumulativeDataA['conversion'], label='A')\n",
    "plt.plot(cumulativeDataB['date'], cumulativeDataB['conversion'], label='B')\n",
    "\n",
    "plt.tick_params(axis='x', labelsize=12)\n",
    "plt.axis([dt.datetime(2019, 8, 1), dt.datetime(2019, 9, 1), 0.022, 0.038])\n",
    "plt.xlabel('Дата', fontsize=16)\n",
    "plt.grid()\n",
    "plt.legend()\n",
    "plt.show()"
   ]
  },
  {
   "cell_type": "markdown",
   "metadata": {},
   "source": [
    "В начале видно колебания конверсии, однако уже к 11 августа конверсия у обеих групп стабилизировалась и оставлась примерно одинаковой до конца теста. В целом, конверсия группы В выше, чем конверсия группы А.\n",
    "\n",
    "### График относительного изменения кумулятивной конверсии группы B к группе A'"
   ]
  },
  {
   "cell_type": "code",
   "execution_count": 28,
   "metadata": {},
   "outputs": [
    {
     "data": {
      "image/png": "[encoded data removed]",
      "text/plain": [
       "<Figure size 1296x432 with 1 Axes>"
      ]
     },
     "metadata": {
      "needs_background": "light"
     },
     "output_type": "display_data"
    }
   ],
   "source": [
    "mergedCumulativeConversions = cumulativeDataA[['date','conversion']].merge(cumulativeDataB[['date','conversion']], \n",
    "                                                                           left_on='date', \n",
    "                                                                           right_on='date', \n",
    "                                                                           how='left', \n",
    "                                                                           suffixes=['A', 'B'])\n",
    "plt.figure(figsize = (18, 6))\\\n",
    "            .suptitle('График относительного изменения кумулятивной конверсии группы B к группе A', fontsize=24)\n",
    "\n",
    "plt.plot(mergedCumulativeConversions['date'], \n",
    "         mergedCumulativeConversions['conversionB']/mergedCumulativeConversions['conversionA']-1, \n",
    "         label=\"Относительный прирост конверсии группы B относительно группы A\")\n",
    "plt.legend()\n",
    "\n",
    "plt.axhline(y=0, color='black', linestyle='--')\n",
    "plt.axhline(y=0.2, color='grey', linestyle='--')\n",
    "plt.axis([dt.datetime(2019, 8, 1), dt.datetime(2019, 9, 1), -0.2, 0.3])\n",
    "\n",
    "plt.tick_params(axis='x', labelsize=12)\n",
    "plt.grid()\n",
    "plt.xlabel('Дата', fontsize=16)\n",
    "plt.show()"
   ]
  },
  {
   "cell_type": "markdown",
   "metadata": {},
   "source": [
    "В начале теста группа В проигрывала группе А, но с 6 августа уверенно вырвалась вперед.\n",
    "\n",
    "### Точечный график количества заказов по пользователям"
   ]
  },
  {
   "cell_type": "code",
   "execution_count": 29,
   "metadata": {},
   "outputs": [
    {
     "name": "stdout",
     "output_type": "stream",
     "text": [
      "      visitorId  orders\n",
      "908  3967698036       3\n",
      "55    249864742       3\n",
      "478  2108163459       3\n",
      "687  2988190573       3\n",
      "890  3908431265       3\n",
      "138   611059232       3\n",
      "632  2742574263       3\n",
      "157   678354126       2\n",
      "323  1404560065       2\n",
      "452  1985475298       2\n"
     ]
    },
    {
     "data": {
      "image/png": "[encoded data removed]",
      "text/plain": [
       "<Figure size 1296x432 with 1 Axes>"
      ]
     },
     "metadata": {
      "needs_background": "light"
     },
     "output_type": "display_data"
    }
   ],
   "source": [
    "orders_by_users = (\n",
    "    orders.groupby('visitor_id', as_index=False)\n",
    "    .agg({'transaction_id': pd.Series.nunique})\n",
    ")\n",
    "orders_by_users.columns = ['visitorId', 'orders']\n",
    "\n",
    "print(orders_by_users.sort_values(by='orders', ascending=False).head(10))\n",
    "\n",
    "x_values = pd.Series(range(0, len(orders_by_users)))\n",
    "\n",
    "plt.figure(figsize = (18, 6))\\\n",
    "            .suptitle('Точечный график количества заказов по пользователям', fontsize=24)\n",
    "plt.scatter(x_values, orders_by_users['orders']);\n",
    "plt.grid()\n",
    "plt.ylabel('Количество заказов', fontsize=16)\n",
    "plt.show()"
   ]
  },
  {
   "cell_type": "markdown",
   "metadata": {},
   "source": [
    "Пользователей, которые сделали более двух заказов, крайне мало. Однако, есть некоторое количество пользователей, которые сделали два заказа. Посчитать выборочные перцентили, чтобы оценить, насколько много таких пользователей и можно ли их считать аномалиями."
   ]
  },
  {
   "cell_type": "code",
   "execution_count": 30,
   "metadata": {},
   "outputs": [
    {
     "name": "stdout",
     "output_type": "stream",
     "text": [
      "[1. 2.]\n"
     ]
    }
   ],
   "source": [
    "print(np.percentile(orders_by_users['orders'], [95, 99]))"
   ]
  },
  {
   "cell_type": "markdown",
   "metadata": {},
   "source": [
    "Не более 5% пользователей совершали больше одного заказа. И не более 1% пользователей - больше 2 заказов."
   ]
  },
  {
   "cell_type": "code",
   "execution_count": 31,
   "metadata": {},
   "outputs": [
    {
     "data": {
      "text/html": [
       "<div>\n",
       "<style scoped>\n",
       "    .dataframe tbody tr th:only-of-type {\n",
       "        vertical-align: middle;\n",
       "    }\n",
       "\n",
       "    .dataframe tbody tr th {\n",
       "        vertical-align: top;\n",
       "    }\n",
       "\n",
       "    .dataframe thead th {\n",
       "        text-align: right;\n",
       "    }\n",
       "</style>\n",
       "<table border=\"1\" class=\"dataframe\">\n",
       "  <thead>\n",
       "    <tr style=\"text-align: right;\">\n",
       "      <th></th>\n",
       "      <th>index</th>\n",
       "      <th>transaction_id</th>\n",
       "      <th>visitor_id</th>\n",
       "      <th>date</th>\n",
       "      <th>revenue</th>\n",
       "      <th>group</th>\n",
       "    </tr>\n",
       "  </thead>\n",
       "  <tbody>\n",
       "    <tr>\n",
       "      <th>365</th>\n",
       "      <td>425</td>\n",
       "      <td>590470918</td>\n",
       "      <td>1920142716</td>\n",
       "      <td>2019-08-19</td>\n",
       "      <td>1294500</td>\n",
       "      <td>B</td>\n",
       "    </tr>\n",
       "    <tr>\n",
       "      <th>1015</th>\n",
       "      <td>1196</td>\n",
       "      <td>3936777065</td>\n",
       "      <td>2108080724</td>\n",
       "      <td>2019-08-15</td>\n",
       "      <td>202740</td>\n",
       "      <td>B</td>\n",
       "    </tr>\n",
       "    <tr>\n",
       "      <th>971</th>\n",
       "      <td>1136</td>\n",
       "      <td>666610489</td>\n",
       "      <td>1307669133</td>\n",
       "      <td>2019-08-13</td>\n",
       "      <td>92550</td>\n",
       "      <td>A</td>\n",
       "    </tr>\n",
       "    <tr>\n",
       "      <th>632</th>\n",
       "      <td>744</td>\n",
       "      <td>3668308183</td>\n",
       "      <td>888512513</td>\n",
       "      <td>2019-08-27</td>\n",
       "      <td>86620</td>\n",
       "      <td>B</td>\n",
       "    </tr>\n",
       "    <tr>\n",
       "      <th>631</th>\n",
       "      <td>743</td>\n",
       "      <td>3603576309</td>\n",
       "      <td>4133034833</td>\n",
       "      <td>2019-08-09</td>\n",
       "      <td>67990</td>\n",
       "      <td>A</td>\n",
       "    </tr>\n",
       "    <tr>\n",
       "      <th>939</th>\n",
       "      <td>1103</td>\n",
       "      <td>1348774318</td>\n",
       "      <td>1164614297</td>\n",
       "      <td>2019-08-12</td>\n",
       "      <td>66350</td>\n",
       "      <td>A</td>\n",
       "    </tr>\n",
       "    <tr>\n",
       "      <th>937</th>\n",
       "      <td>1099</td>\n",
       "      <td>316924019</td>\n",
       "      <td>148427295</td>\n",
       "      <td>2019-08-12</td>\n",
       "      <td>65710</td>\n",
       "      <td>A</td>\n",
       "    </tr>\n",
       "    <tr>\n",
       "      <th>811</th>\n",
       "      <td>949</td>\n",
       "      <td>1347999392</td>\n",
       "      <td>887908475</td>\n",
       "      <td>2019-08-21</td>\n",
       "      <td>60450</td>\n",
       "      <td>A</td>\n",
       "    </tr>\n",
       "    <tr>\n",
       "      <th>802</th>\n",
       "      <td>940</td>\n",
       "      <td>2420050534</td>\n",
       "      <td>4003628586</td>\n",
       "      <td>2019-08-08</td>\n",
       "      <td>58550</td>\n",
       "      <td>B</td>\n",
       "    </tr>\n",
       "    <tr>\n",
       "      <th>109</th>\n",
       "      <td>131</td>\n",
       "      <td>3163614039</td>\n",
       "      <td>2254586615</td>\n",
       "      <td>2019-08-22</td>\n",
       "      <td>53904</td>\n",
       "      <td>A</td>\n",
       "    </tr>\n",
       "  </tbody>\n",
       "</table>\n",
       "</div>"
      ],
      "text/plain": [
       "      index  transaction_id  visitor_id       date  revenue group\n",
       "365     425       590470918  1920142716 2019-08-19  1294500     B\n",
       "1015   1196      3936777065  2108080724 2019-08-15   202740     B\n",
       "971    1136       666610489  1307669133 2019-08-13    92550     A\n",
       "632     744      3668308183   888512513 2019-08-27    86620     B\n",
       "631     743      3603576309  4133034833 2019-08-09    67990     A\n",
       "939    1103      1348774318  1164614297 2019-08-12    66350     A\n",
       "937    1099       316924019   148427295 2019-08-12    65710     A\n",
       "811     949      1347999392   887908475 2019-08-21    60450     A\n",
       "802     940      2420050534  4003628586 2019-08-08    58550     B\n",
       "109     131      3163614039  2254586615 2019-08-22    53904     A"
      ]
     },
     "metadata": {},
     "output_type": "display_data"
    },
    {
     "data": {
      "image/png": "[encoded data removed]",
      "text/plain": [
       "<Figure size 1296x432 with 1 Axes>"
      ]
     },
     "metadata": {
      "needs_background": "light"
     },
     "output_type": "display_data"
    }
   ],
   "source": [
    "display(orders.sort_values(by='revenue', ascending=False).head(10))\n",
    "\n",
    "x_values = pd.Series(range(0, len(orders['revenue'])))\n",
    "plt.figure(figsize = (18, 6))\\\n",
    "            .suptitle('Точечный график стоимостей заказов', fontsize=24)\n",
    "plt.scatter(x_values, orders['revenue']);\n",
    "plt.grid()\n",
    "plt.ylabel('Стоимость заказа, млн ед.', fontsize=16)\n",
    "plt.show()"
   ]
  },
  {
   "cell_type": "markdown",
   "metadata": {},
   "source": [
    "На графике виден самый крупный заказ на сумму 1 294 500. Также виден заказ в размере 202 740. Все остальные заказы ниже 100 000."
   ]
  },
  {
   "cell_type": "code",
   "execution_count": 32,
   "metadata": {},
   "outputs": [
    {
     "name": "stdout",
     "output_type": "stream",
     "text": [
      "[26785. 53904.]\n"
     ]
    }
   ],
   "source": [
    "print(np.percentile(orders['revenue'], [95, 99])) "
   ]
  },
  {
   "cell_type": "markdown",
   "metadata": {},
   "source": [
    "Не более, чем у 5% пользователей чек дороже 26785. Не больше, чем у 1% - дороже 53 904. \n",
    "\n",
    "### Расчет статистической значимости различий в конверсии между группами по «сырым» данным.\n",
    "\n",
    "Н0: различий в конверсии между группами нет.\n",
    "\n",
    "Н1: различия в конверсии между группами есть."
   ]
  },
  {
   "cell_type": "code",
   "execution_count": 33,
   "metadata": {},
   "outputs": [
    {
     "name": "stdout",
     "output_type": "stream",
     "text": [
      "P-value = 0.01102\n",
      "Прирост конверсии равен 16.0%\n"
     ]
    }
   ],
   "source": [
    "visitorsADaily = visitors[visitors['group'] == 'A'][['date', 'visitors']]\n",
    "visitorsADaily.columns = ['date', 'visitorsPerDateA']\n",
    "\n",
    "visitorsACummulative = visitorsADaily.apply(\n",
    "    lambda x: visitorsADaily[visitorsADaily['date'] <= x['date']].agg(\n",
    "        {'date': 'max', 'visitorsPerDateA': 'sum'}\n",
    "    ),\n",
    "    axis=1,\n",
    ")\n",
    "visitorsACummulative.columns = ['date', 'visitorsCummulativeA']\n",
    "\n",
    "visitorsBDaily = visitors[visitors['group'] == 'B'][['date', 'visitors']]\n",
    "visitorsBDaily.columns = ['date', 'visitorsPerDateB']\n",
    "\n",
    "visitorsBCummulative = visitorsBDaily.apply(\n",
    "    lambda x: visitorsBDaily[visitorsBDaily['date'] <= x['date']].agg(\n",
    "        {'date': 'max', 'visitorsPerDateB': 'sum'}\n",
    "    ),\n",
    "    axis=1,\n",
    ")\n",
    "visitorsBCummulative.columns = ['date', 'visitorsCummulativeB']\n",
    "\n",
    "ordersADaily = (\n",
    "    orders[orders['group'] == 'A'][['date', 'transaction_id', 'visitor_id', 'revenue']]\n",
    "    .groupby('date', as_index=False)\n",
    "    .agg({'transaction_id': pd.Series.nunique, 'revenue': 'sum'})\n",
    ")\n",
    "ordersADaily.columns = ['date', 'ordersPerDateA', 'revenuePerDateA']\n",
    "\n",
    "ordersACummulative = ordersADaily.apply(\n",
    "    lambda x: ordersADaily[ordersADaily['date'] <= x['date']].agg(\n",
    "        {'date': 'max', 'ordersPerDateA': 'sum', 'revenuePerDateA': 'sum'}\n",
    "    ),\n",
    "    axis=1,\n",
    ").sort_values(by=['date'])\n",
    "ordersACummulative.columns = [\n",
    "    'date',\n",
    "    'ordersCummulativeA',\n",
    "    'revenueCummulativeA',\n",
    "]\n",
    "\n",
    "ordersBDaily = (\n",
    "    orders[orders['group'] == 'B'][['date', 'transaction_id', 'visitor_id', 'revenue']]\n",
    "    .groupby('date', as_index=False)\n",
    "    .agg({'transaction_id': pd.Series.nunique, 'revenue': 'sum'})\n",
    ")\n",
    "ordersBDaily.columns = ['date', 'ordersPerDateB', 'revenuePerDateB']\n",
    "\n",
    "ordersBCummulative = ordersBDaily.apply(\n",
    "    lambda x: ordersBDaily[ordersBDaily['date'] <= x['date']].agg(\n",
    "        {'date': 'max', 'ordersPerDateB': 'sum', 'revenuePerDateB': 'sum'}\n",
    "    ),\n",
    "    axis=1,\n",
    ").sort_values(by=['date'])\n",
    "ordersBCummulative.columns = [\n",
    "    'date',\n",
    "    'ordersCummulativeB',\n",
    "    'revenueCummulativeB',\n",
    "]\n",
    "\n",
    "data = (\n",
    "    ordersADaily.merge(\n",
    "        ordersBDaily, left_on='date', right_on='date', how='left'\n",
    "    )\n",
    "    .merge(ordersACummulative, left_on='date', right_on='date', how='left')\n",
    "    .merge(ordersBCummulative, left_on='date', right_on='date', how='left')\n",
    "    .merge(visitorsADaily, left_on='date', right_on='date', how='left')\n",
    "    .merge(visitorsBDaily, left_on='date', right_on='date', how='left')\n",
    "    .merge(visitorsACummulative, left_on='date', right_on='date', how='left')\n",
    "    .merge(visitorsBCummulative, left_on='date', right_on='date', how='left')\n",
    ")\n",
    "\n",
    "# для пользователей, совершивших хотя бы 1 заказ, будет указано число заказов\n",
    "ordersByUsersA = (\n",
    "    orders[orders['group'] == 'A']\n",
    "    .groupby('visitor_id', as_index=False)\n",
    "    .agg({'transaction_id': pd.Series.nunique})\n",
    ")\n",
    "ordersByUsersA.columns = ['user_id', 'orders']\n",
    "\n",
    "ordersByUsersB = (\n",
    "    orders[orders['group'] == 'B']\n",
    "    .groupby('visitor_id', as_index=False)\n",
    "    .agg({'transaction_id': pd.Series.nunique})\n",
    ")\n",
    "ordersByUsersB.columns = ['user_id', 'orders'] \n",
    "\n",
    "# пользователям с заказами будет соответствовать число заказов пользователя, а пользователям без заказов — нули\n",
    "sampleA = pd.concat([ordersByUsersA['orders'],pd.Series(0, index=np.arange(data['visitorsPerDateA'].sum() - len(ordersByUsersA['orders'])), name='orders')],axis=0)\n",
    "\n",
    "sampleB = pd.concat([ordersByUsersB['orders'],pd.Series(0, index=np.arange(data['visitorsPerDateB'].sum() - len(ordersByUsersB['orders'])), name='orders')],axis=0)\n",
    "\n",
    "print(\"P-value = {0:.5f}\".format(stats.mannwhitneyu(sampleA, sampleB)[1]))\n",
    "\n",
    "print(\"Прирост конверсии равен {0:.1%}\".format(sampleB.mean() / sampleA.mean() - 1))"
   ]
  },
  {
   "cell_type": "markdown",
   "metadata": {},
   "source": [
    "P-value = 0.01102, что меньше 0.05. Значит, нулевую гипотезу о том, что статистически значимых различий в конверсии между группами нет, отвергаем. Относительный прирост конверсии группы В к конверсии группы А равен 16%."
   ]
  },
  {
   "cell_type": "markdown",
   "metadata": {},
   "source": [
    "### Расчет статистической значимости различий в среднем чеке заказа между группами по «сырым» данным.\n",
    "\n",
    "Н0: различий в среднем чеке между группами нет.\n",
    "\n",
    "Н1: различия в среднем чеке между группами есть."
   ]
  },
  {
   "cell_type": "code",
   "execution_count": 34,
   "metadata": {},
   "outputs": [
    {
     "name": "stdout",
     "output_type": "stream",
     "text": [
      "P-value = 0.82949\n",
      "Прирост конверсии равен 28.7%\n"
     ]
    }
   ],
   "source": [
    "print(\"P-value = {0:.5f}\".format(stats.mannwhitneyu(orders[orders['group']=='A']['revenue'], \n",
    "                                          orders[orders['group']=='B']['revenue'])[1]))\n",
    "print(\"Прирост конверсии равен {0:.1%}\".format(orders[orders['group']=='B']['revenue']\n",
    "                       .mean()/orders[orders['group']=='A']['revenue']\n",
    "                       .mean()-1)) "
   ]
  },
  {
   "cell_type": "markdown",
   "metadata": {},
   "source": [
    "P-value гораздо больше 0.05, следовательно, значимых отличий в среднем чеке между группами нет. Наблюдаемое различие среднего чека в 28,7% не является статистически значимым."
   ]
  },
  {
   "cell_type": "markdown",
   "metadata": {},
   "source": [
    "### Расчет статистической значимости различий в конверсии между группами по «очищенным» данным."
   ]
  },
  {
   "cell_type": "code",
   "execution_count": 35,
   "metadata": {},
   "outputs": [],
   "source": [
    "# срезы пользователей\n",
    "usersWithManyOrders = pd.concat(\n",
    "    [\n",
    "        ordersByUsersA[ordersByUsersA['orders'] > 2]['user_id'],\n",
    "        ordersByUsersB[ordersByUsersB['orders'] > 2]['user_id'],\n",
    "    ],\n",
    "    axis=0,\n",
    ")\n",
    "\n",
    "# срезы пользователей\n",
    "revenue_lim = np.percentile(orders['revenue'], 95)\n",
    "usersWithExpensiveOrders = orders[orders['revenue'] > revenue_lim]['visitor_id']\n",
    "abnormalUsers = (\n",
    "    pd.concat([usersWithManyOrders, usersWithExpensiveOrders], axis=0)\n",
    "    .drop_duplicates()\n",
    "    .sort_values())"
   ]
  },
  {
   "cell_type": "code",
   "execution_count": 36,
   "metadata": {},
   "outputs": [
    {
     "name": "stdout",
     "output_type": "stream",
     "text": [
      "P-value = 0.01235\n",
      "Прирост конверсии равен 18.2%\n"
     ]
    }
   ],
   "source": [
    "sampleAFiltered = pd.concat(\n",
    "    [\n",
    "        ordersByUsersA[\n",
    "            np.logical_not(ordersByUsersA['user_id'].isin(abnormalUsers))\n",
    "        ]['orders'],\n",
    "        pd.Series(\n",
    "            0,\n",
    "            index=np.arange(\n",
    "                data['visitorsPerDateA'].sum() - len(ordersByUsersA['orders'])\n",
    "            ),\n",
    "            name='orders',\n",
    "        ),\n",
    "    ],\n",
    "    axis=0,\n",
    ")\n",
    "\n",
    "sampleBFiltered = pd.concat(\n",
    "    [\n",
    "        ordersByUsersB[\n",
    "            np.logical_not(ordersByUsersB['user_id'].isin(abnormalUsers))\n",
    "        ]['orders'],\n",
    "        pd.Series(\n",
    "            0,\n",
    "            index=np.arange(\n",
    "                data['visitorsPerDateB'].sum() - len(ordersByUsersB['orders'])\n",
    "            ),\n",
    "            name='orders',\n",
    "        ),\n",
    "    ],\n",
    "    axis=0,\n",
    ")\n",
    "\n",
    "print(\"P-value = {0:.5f}\".format(stats.mannwhitneyu(sampleAFiltered, sampleBFiltered)[1]))\n",
    "print(\"Прирост конверсии равен {0:.1%}\".format(sampleBFiltered.mean()/sampleAFiltered.mean()-1)) "
   ]
  },
  {
   "cell_type": "markdown",
   "metadata": {},
   "source": [
    "За аномальных пользователей были приняты те, кто совершил 3 заказа и более, или совершил заказ на сумму свыше 26 785 ед. Как и в случае с \"сырыми\" данными, p-value не превысил 0,05, а значит, нулевую гипотезу отвергаем. Группа В оказалась лучше по конверсии на 18,2%, еще лучше, чем до \"очистки\" данных."
   ]
  },
  {
   "cell_type": "markdown",
   "metadata": {},
   "source": [
    "### Расчет статистической значимости различий в среднем чеке заказа между группами по «очищенным» данным."
   ]
  },
  {
   "cell_type": "code",
   "execution_count": 37,
   "metadata": {},
   "outputs": [
    {
     "name": "stdout",
     "output_type": "stream",
     "text": [
      "P-value = 0.64590\n",
      "Прирост конверсии равен -4.8%\n"
     ]
    }
   ],
   "source": [
    "print(\n",
    "    \"P-value = {0:.5f}\".format(\n",
    "        stats.mannwhitneyu(\n",
    "            orders[\n",
    "                np.logical_and(\n",
    "                    orders['group'] == 'A',\n",
    "                    np.logical_not(orders['visitor_id'].isin(abnormalUsers)),\n",
    "                )\n",
    "            ]['revenue'],\n",
    "            orders[\n",
    "                np.logical_and(\n",
    "                    orders['group'] == 'B',\n",
    "                    np.logical_not(orders['visitor_id'].isin(abnormalUsers)),\n",
    "                )\n",
    "            ]['revenue'],\n",
    "        )[1]\n",
    "    )\n",
    ")\n",
    "\n",
    "print(\n",
    "    \"Прирост конверсии равен {0:.1%}\".format(\n",
    "        orders[\n",
    "            np.logical_and(\n",
    "                orders['group'] == 'B',\n",
    "                np.logical_not(orders['visitor_id'].isin(abnormalUsers)),\n",
    "            )\n",
    "        ]['revenue'].mean()\n",
    "        / orders[\n",
    "            np.logical_and(\n",
    "                orders['group'] == 'A',\n",
    "                np.logical_not(orders['visitor_id'].isin(abnormalUsers)),\n",
    "            )\n",
    "        ]['revenue'].mean()\n",
    "        - 1\n",
    "    )\n",
    ")"
   ]
  },
  {
   "cell_type": "markdown",
   "metadata": {},
   "source": [
    "P-value несколько снилизился по сравнению с \"сырыми\" данными и стал равен 0.646, но нулевую гипотезу мы все равно не можем отвергнуть. А вот средний чек у сегмента В снизился настолько, что сегмент А стал превосходить В, но всего лишь на 4,8%. После \"очистки\" данных разница в среднем чеке между двумя группами сократилась до минимума, наблюдаемое различие не является статистически значимым."
   ]
  },
  {
   "cell_type": "markdown",
   "metadata": {},
   "source": [
    "# Выводы\n",
    "\n",
    "- График различия конверсии между группами сообщает, что результаты группы B лучше группы A.\n",
    "- График различия среднего чека сильно колеблется, что свидетельствует о наличии аномалиий.\n",
    "- Конверсия группы В значительно выше конверсии группы А, причем как по \"сырым\" данным, так и по \"очищенным\".\n",
    "- Разница в среднем чеке не была обнаружена.\n",
    "\n",
    "Исходя из проведенного анализа, тест следует остановить и зафиксировать победу группы В, результаты по конверсии которой оказались лучше группы А на 16% и 18,2% до и после \"очистки\" данных соответственно."
   ]
  }
 ],
 "metadata": {
  "ExecuteTimeLog": [
   {
    "duration": 1437,
    "start_time": "2022-06-09T08:59:45.262Z"
   },
   {
    "duration": 71,
    "start_time": "2022-06-09T08:59:46.701Z"
   },
   {
    "duration": 6,
    "start_time": "2022-06-09T08:59:46.774Z"
   },
   {
    "duration": 35,
    "start_time": "2022-06-09T08:59:59.451Z"
   },
   {
    "duration": 4,
    "start_time": "2022-06-09T09:00:35.194Z"
   },
   {
    "duration": 29,
    "start_time": "2022-06-09T09:00:36.832Z"
   },
   {
    "duration": 7,
    "start_time": "2022-06-09T09:01:27.646Z"
   },
   {
    "duration": 105,
    "start_time": "2022-06-09T09:02:09.557Z"
   },
   {
    "duration": 3,
    "start_time": "2022-06-09T09:03:17.067Z"
   },
   {
    "duration": 9,
    "start_time": "2022-06-09T09:03:19.157Z"
   },
   {
    "duration": 8,
    "start_time": "2022-06-09T09:03:33.474Z"
   },
   {
    "duration": 8,
    "start_time": "2022-06-09T09:03:40.848Z"
   },
   {
    "duration": 9,
    "start_time": "2022-06-09T09:03:57.103Z"
   },
   {
    "duration": 8,
    "start_time": "2022-06-09T09:04:40.973Z"
   },
   {
    "duration": 47,
    "start_time": "2022-06-09T09:04:46.937Z"
   },
   {
    "duration": 80,
    "start_time": "2022-06-09T09:08:04.051Z"
   },
   {
    "duration": 9,
    "start_time": "2022-06-09T09:08:48.468Z"
   },
   {
    "duration": 9,
    "start_time": "2022-06-09T09:09:34.095Z"
   },
   {
    "duration": 38,
    "start_time": "2022-06-09T09:10:01.349Z"
   },
   {
    "duration": 9,
    "start_time": "2022-06-09T09:10:11.278Z"
   },
   {
    "duration": 11,
    "start_time": "2022-06-09T09:10:20.817Z"
   },
   {
    "duration": 20,
    "start_time": "2022-06-09T09:10:45.297Z"
   },
   {
    "duration": 18,
    "start_time": "2022-06-09T09:10:51.590Z"
   },
   {
    "duration": 10,
    "start_time": "2022-06-09T09:11:17.104Z"
   },
   {
    "duration": 80,
    "start_time": "2022-06-09T09:34:05.527Z"
   },
   {
    "duration": 34,
    "start_time": "2022-06-09T09:34:14.004Z"
   },
   {
    "duration": 66,
    "start_time": "2022-06-09T09:34:39.750Z"
   },
   {
    "duration": 8,
    "start_time": "2022-06-09T09:35:04.469Z"
   },
   {
    "duration": 25,
    "start_time": "2022-06-09T09:35:10.559Z"
   },
   {
    "duration": 5,
    "start_time": "2022-06-09T09:37:03.008Z"
   },
   {
    "duration": 36,
    "start_time": "2022-06-09T09:37:09.417Z"
   },
   {
    "duration": 26,
    "start_time": "2022-06-09T09:37:31.110Z"
   },
   {
    "duration": 32,
    "start_time": "2022-06-09T09:37:32.241Z"
   },
   {
    "duration": 5,
    "start_time": "2022-06-09T09:38:56.202Z"
   },
   {
    "duration": 31,
    "start_time": "2022-06-09T09:39:02.271Z"
   },
   {
    "duration": 25,
    "start_time": "2022-06-09T09:39:09.720Z"
   },
   {
    "duration": 5,
    "start_time": "2022-06-09T09:40:17.526Z"
   },
   {
    "duration": 8,
    "start_time": "2022-06-09T09:43:07.375Z"
   },
   {
    "duration": 12,
    "start_time": "2022-06-09T09:43:34.150Z"
   },
   {
    "duration": 6,
    "start_time": "2022-06-09T09:45:13.811Z"
   },
   {
    "duration": 4,
    "start_time": "2022-06-09T09:46:12.628Z"
   },
   {
    "duration": 5,
    "start_time": "2022-06-09T09:46:22.852Z"
   },
   {
    "duration": 6,
    "start_time": "2022-06-09T09:47:23.705Z"
   },
   {
    "duration": 8,
    "start_time": "2022-06-09T09:47:39.017Z"
   },
   {
    "duration": 46,
    "start_time": "2022-06-09T09:50:44.090Z"
   },
   {
    "duration": 29,
    "start_time": "2022-06-09T09:51:05.726Z"
   },
   {
    "duration": 36,
    "start_time": "2022-06-09T09:51:16.520Z"
   },
   {
    "duration": 7,
    "start_time": "2022-06-09T09:51:31.068Z"
   },
   {
    "duration": 8,
    "start_time": "2022-06-09T09:51:45.849Z"
   },
   {
    "duration": 8,
    "start_time": "2022-06-09T09:52:13.964Z"
   },
   {
    "duration": 10,
    "start_time": "2022-06-09T09:52:20.828Z"
   },
   {
    "duration": 4,
    "start_time": "2022-06-09T09:54:17.558Z"
   },
   {
    "duration": 12,
    "start_time": "2022-06-09T09:54:22.982Z"
   },
   {
    "duration": 12,
    "start_time": "2022-06-09T09:54:36.103Z"
   },
   {
    "duration": 13,
    "start_time": "2022-06-09T09:54:44.930Z"
   },
   {
    "duration": 36,
    "start_time": "2022-06-09T09:55:53.576Z"
   },
   {
    "duration": 11,
    "start_time": "2022-06-09T09:56:01.903Z"
   },
   {
    "duration": 13,
    "start_time": "2022-06-09T09:56:11.434Z"
   },
   {
    "duration": 16,
    "start_time": "2022-06-09T09:56:20.275Z"
   },
   {
    "duration": 7,
    "start_time": "2022-06-09T09:56:46.556Z"
   },
   {
    "duration": 10,
    "start_time": "2022-06-09T10:01:28.058Z"
   },
   {
    "duration": 7,
    "start_time": "2022-06-09T10:01:59.532Z"
   },
   {
    "duration": 9,
    "start_time": "2022-06-09T10:02:08.481Z"
   },
   {
    "duration": 8,
    "start_time": "2022-06-09T10:05:03.278Z"
   },
   {
    "duration": 7,
    "start_time": "2022-06-09T10:09:20.559Z"
   },
   {
    "duration": 30,
    "start_time": "2022-06-09T10:12:49.653Z"
   },
   {
    "duration": 734,
    "start_time": "2022-06-09T10:14:06.449Z"
   },
   {
    "duration": 624,
    "start_time": "2022-06-09T10:16:56.560Z"
   },
   {
    "duration": 385,
    "start_time": "2022-06-09T10:18:00.362Z"
   },
   {
    "duration": 287,
    "start_time": "2022-06-09T10:18:16.053Z"
   },
   {
    "duration": 467,
    "start_time": "2022-06-09T10:19:02.848Z"
   },
   {
    "duration": 621,
    "start_time": "2022-06-09T10:22:35.242Z"
   },
   {
    "duration": 591,
    "start_time": "2022-06-09T10:22:51.316Z"
   },
   {
    "duration": 489,
    "start_time": "2022-06-09T10:23:32.945Z"
   },
   {
    "duration": 290,
    "start_time": "2022-06-09T10:28:49.529Z"
   },
   {
    "duration": 514,
    "start_time": "2022-06-09T10:30:05.036Z"
   },
   {
    "duration": 508,
    "start_time": "2022-06-09T10:30:34.391Z"
   },
   {
    "duration": 537,
    "start_time": "2022-06-09T10:31:10.258Z"
   },
   {
    "duration": 502,
    "start_time": "2022-06-09T10:31:18.466Z"
   },
   {
    "duration": 497,
    "start_time": "2022-06-09T10:56:46.997Z"
   },
   {
    "duration": 496,
    "start_time": "2022-06-09T10:57:02.386Z"
   },
   {
    "duration": 556,
    "start_time": "2022-06-09T10:59:41.550Z"
   },
   {
    "duration": 527,
    "start_time": "2022-06-09T11:00:13.868Z"
   },
   {
    "duration": 602,
    "start_time": "2022-06-09T11:00:19.515Z"
   },
   {
    "duration": 472,
    "start_time": "2022-06-09T11:01:17.660Z"
   },
   {
    "duration": 524,
    "start_time": "2022-06-09T11:02:25.188Z"
   },
   {
    "duration": 530,
    "start_time": "2022-06-09T11:03:26.359Z"
   },
   {
    "duration": 526,
    "start_time": "2022-06-09T11:03:33.690Z"
   },
   {
    "duration": 504,
    "start_time": "2022-06-09T11:03:44.036Z"
   },
   {
    "duration": 190,
    "start_time": "2022-06-09T11:04:26.680Z"
   },
   {
    "duration": 238,
    "start_time": "2022-06-09T11:05:05.131Z"
   },
   {
    "duration": 377,
    "start_time": "2022-06-09T11:06:48.844Z"
   },
   {
    "duration": 361,
    "start_time": "2022-06-09T11:06:59.929Z"
   },
   {
    "duration": 242,
    "start_time": "2022-06-09T11:10:53.097Z"
   },
   {
    "duration": 309,
    "start_time": "2022-06-09T11:11:21.787Z"
   },
   {
    "duration": 235,
    "start_time": "2022-06-09T11:11:39.098Z"
   },
   {
    "duration": 349,
    "start_time": "2022-06-09T11:12:25.041Z"
   },
   {
    "duration": 368,
    "start_time": "2022-06-09T11:14:09.770Z"
   },
   {
    "duration": 371,
    "start_time": "2022-06-09T11:14:24.026Z"
   },
   {
    "duration": 403,
    "start_time": "2022-06-09T11:15:31.774Z"
   },
   {
    "duration": 148,
    "start_time": "2022-06-09T11:16:26.911Z"
   },
   {
    "duration": 128,
    "start_time": "2022-06-09T11:16:36.087Z"
   },
   {
    "duration": 123,
    "start_time": "2022-06-09T11:16:49.573Z"
   },
   {
    "duration": 140,
    "start_time": "2022-06-09T11:16:56.031Z"
   },
   {
    "duration": 313,
    "start_time": "2022-06-09T11:17:05.205Z"
   },
   {
    "duration": 305,
    "start_time": "2022-06-09T11:17:49.482Z"
   },
   {
    "duration": 316,
    "start_time": "2022-06-09T11:18:08.290Z"
   },
   {
    "duration": 8,
    "start_time": "2022-06-09T11:18:25.235Z"
   },
   {
    "duration": 4,
    "start_time": "2022-06-09T11:18:35.687Z"
   },
   {
    "duration": 231,
    "start_time": "2022-06-09T11:29:09.938Z"
   },
   {
    "duration": 217,
    "start_time": "2022-06-09T11:30:01.496Z"
   },
   {
    "duration": 4,
    "start_time": "2022-06-09T11:30:15.196Z"
   },
   {
    "duration": 368,
    "start_time": "2022-06-09T11:33:44.352Z"
   },
   {
    "duration": 10,
    "start_time": "2022-06-09T11:34:26.970Z"
   },
   {
    "duration": 548,
    "start_time": "2022-06-09T11:35:08.924Z"
   },
   {
    "duration": 8,
    "start_time": "2022-06-09T11:35:17.634Z"
   },
   {
    "duration": 29,
    "start_time": "2022-06-09T11:35:37.354Z"
   },
   {
    "duration": 14,
    "start_time": "2022-06-09T11:36:11.538Z"
   },
   {
    "duration": 47,
    "start_time": "2022-06-11T11:29:05.535Z"
   },
   {
    "duration": 1345,
    "start_time": "2022-06-11T12:11:46.877Z"
   },
   {
    "duration": 72,
    "start_time": "2022-06-11T12:11:48.353Z"
   },
   {
    "duration": 5,
    "start_time": "2022-06-11T12:11:49.086Z"
   },
   {
    "duration": 12,
    "start_time": "2022-06-11T12:11:51.314Z"
   },
   {
    "duration": 10,
    "start_time": "2022-06-11T12:11:52.670Z"
   },
   {
    "duration": 53,
    "start_time": "2022-06-11T12:11:56.056Z"
   },
   {
    "duration": 75,
    "start_time": "2022-06-11T12:12:26.146Z"
   },
   {
    "duration": 11,
    "start_time": "2022-06-11T12:12:41.593Z"
   },
   {
    "duration": 329,
    "start_time": "2022-06-11T12:12:49.082Z"
   },
   {
    "duration": 36,
    "start_time": "2022-06-11T12:14:22.415Z"
   },
   {
    "duration": 274,
    "start_time": "2022-06-11T12:14:27.638Z"
   },
   {
    "duration": 403,
    "start_time": "2022-06-11T12:14:34.923Z"
   },
   {
    "duration": 13,
    "start_time": "2022-06-11T12:14:53.150Z"
   },
   {
    "duration": 273,
    "start_time": "2022-06-11T12:15:06.934Z"
   },
   {
    "duration": 85,
    "start_time": "2022-06-11T12:15:15.150Z"
   },
   {
    "duration": 40,
    "start_time": "2022-06-11T12:15:15.738Z"
   },
   {
    "duration": 72,
    "start_time": "2022-06-11T12:15:18.133Z"
   },
   {
    "duration": 29,
    "start_time": "2022-06-11T12:15:19.186Z"
   },
   {
    "duration": 9,
    "start_time": "2022-06-11T12:16:10.159Z"
   },
   {
    "duration": 6,
    "start_time": "2022-06-11T12:16:22.622Z"
   },
   {
    "duration": 6,
    "start_time": "2022-06-11T12:16:25.674Z"
   },
   {
    "duration": 15,
    "start_time": "2022-06-11T12:16:28.422Z"
   },
   {
    "duration": 14,
    "start_time": "2022-06-11T12:16:37.883Z"
   },
   {
    "duration": 3,
    "start_time": "2022-06-11T12:16:49.338Z"
   },
   {
    "duration": 1191,
    "start_time": "2022-06-11T12:20:17.192Z"
   },
   {
    "duration": 27,
    "start_time": "2022-06-11T12:20:18.385Z"
   },
   {
    "duration": 5,
    "start_time": "2022-06-11T12:20:18.414Z"
   },
   {
    "duration": 23,
    "start_time": "2022-06-11T12:20:18.421Z"
   },
   {
    "duration": 3,
    "start_time": "2022-06-11T12:20:22.116Z"
   },
   {
    "duration": 29,
    "start_time": "2022-06-11T12:20:22.658Z"
   },
   {
    "duration": 6,
    "start_time": "2022-06-11T12:20:24.850Z"
   },
   {
    "duration": 11,
    "start_time": "2022-06-11T12:20:27.868Z"
   },
   {
    "duration": 9,
    "start_time": "2022-06-11T12:20:30.289Z"
   },
   {
    "duration": 53,
    "start_time": "2022-06-11T12:20:32.651Z"
   },
   {
    "duration": 307,
    "start_time": "2022-06-11T12:20:35.383Z"
   },
   {
    "duration": 15,
    "start_time": "2022-06-11T12:20:38.071Z"
   },
   {
    "duration": 271,
    "start_time": "2022-06-11T12:20:40.670Z"
   },
   {
    "duration": 51,
    "start_time": "2022-06-11T12:20:44.854Z"
   },
   {
    "duration": 43,
    "start_time": "2022-06-11T12:20:45.485Z"
   },
   {
    "duration": 34,
    "start_time": "2022-06-11T12:20:48.050Z"
   },
   {
    "duration": 37,
    "start_time": "2022-06-11T12:20:49.537Z"
   },
   {
    "duration": 12,
    "start_time": "2022-06-11T12:21:04.161Z"
   },
   {
    "duration": 9,
    "start_time": "2022-06-11T12:21:05.652Z"
   },
   {
    "duration": 6,
    "start_time": "2022-06-11T12:21:07.698Z"
   },
   {
    "duration": 14,
    "start_time": "2022-06-11T12:21:08.452Z"
   },
   {
    "duration": 11,
    "start_time": "2022-06-11T12:21:11.286Z"
   },
   {
    "duration": 10,
    "start_time": "2022-06-11T12:21:12.767Z"
   },
   {
    "duration": 696,
    "start_time": "2022-06-11T12:29:24.748Z"
   },
   {
    "duration": 259,
    "start_time": "2022-06-11T12:32:32.993Z"
   },
   {
    "duration": 381,
    "start_time": "2022-06-11T12:37:30.586Z"
   },
   {
    "duration": 366,
    "start_time": "2022-06-11T13:18:58.002Z"
   },
   {
    "duration": 518,
    "start_time": "2022-06-11T13:23:17.053Z"
   },
   {
    "duration": 363,
    "start_time": "2022-06-11T13:25:04.063Z"
   },
   {
    "duration": 6,
    "start_time": "2022-06-11T13:27:31.036Z"
   },
   {
    "duration": 291,
    "start_time": "2022-06-11T13:28:22.619Z"
   },
   {
    "duration": 5,
    "start_time": "2022-06-11T13:30:31.952Z"
   },
   {
    "duration": 501,
    "start_time": "2022-06-11T13:31:04.486Z"
   },
   {
    "duration": 12,
    "start_time": "2022-06-11T13:31:49.679Z"
   },
   {
    "duration": 712,
    "start_time": "2022-06-11T13:32:36.813Z"
   },
   {
    "duration": 628,
    "start_time": "2022-06-11T13:32:55.015Z"
   },
   {
    "duration": 653,
    "start_time": "2022-06-11T13:33:04.392Z"
   },
   {
    "duration": 641,
    "start_time": "2022-06-11T13:33:36.134Z"
   },
   {
    "duration": 19,
    "start_time": "2022-06-11T13:33:42.151Z"
   },
   {
    "duration": 12,
    "start_time": "2022-06-11T13:33:44.547Z"
   },
   {
    "duration": 56,
    "start_time": "2022-06-11T13:33:46.925Z"
   },
   {
    "duration": 34,
    "start_time": "2022-06-11T13:35:38.085Z"
   },
   {
    "duration": 1225,
    "start_time": "2022-06-12T06:18:56.668Z"
   },
   {
    "duration": 64,
    "start_time": "2022-06-12T06:18:57.895Z"
   },
   {
    "duration": 4,
    "start_time": "2022-06-12T06:18:57.961Z"
   },
   {
    "duration": 13,
    "start_time": "2022-06-12T06:18:57.967Z"
   },
   {
    "duration": 7,
    "start_time": "2022-06-12T06:18:57.981Z"
   },
   {
    "duration": 44,
    "start_time": "2022-06-12T06:18:57.990Z"
   },
   {
    "duration": 286,
    "start_time": "2022-06-12T06:18:58.036Z"
   },
   {
    "duration": 11,
    "start_time": "2022-06-12T06:18:58.324Z"
   },
   {
    "duration": 248,
    "start_time": "2022-06-12T06:18:58.336Z"
   },
   {
    "duration": 84,
    "start_time": "2022-06-12T06:18:58.587Z"
   },
   {
    "duration": 33,
    "start_time": "2022-06-12T06:18:58.673Z"
   },
   {
    "duration": 54,
    "start_time": "2022-06-12T06:18:58.708Z"
   },
   {
    "duration": 27,
    "start_time": "2022-06-12T06:18:58.764Z"
   },
   {
    "duration": 4,
    "start_time": "2022-06-12T06:18:58.792Z"
   },
   {
    "duration": 9,
    "start_time": "2022-06-12T06:18:58.798Z"
   },
   {
    "duration": 9,
    "start_time": "2022-06-12T06:18:58.808Z"
   },
   {
    "duration": 9,
    "start_time": "2022-06-12T06:18:58.818Z"
   },
   {
    "duration": 8,
    "start_time": "2022-06-12T06:18:58.828Z"
   },
   {
    "duration": 10,
    "start_time": "2022-06-12T06:18:58.866Z"
   },
   {
    "duration": 629,
    "start_time": "2022-06-12T06:18:58.879Z"
   },
   {
    "duration": 459,
    "start_time": "2022-06-12T06:18:59.510Z"
   },
   {
    "duration": 542,
    "start_time": "2022-06-12T06:18:59.970Z"
   },
   {
    "duration": 544,
    "start_time": "2022-06-12T06:19:00.564Z"
   },
   {
    "duration": 564,
    "start_time": "2022-06-12T06:19:01.110Z"
   },
   {
    "duration": 391,
    "start_time": "2022-06-12T06:19:01.675Z"
   },
   {
    "duration": 4,
    "start_time": "2022-06-12T06:19:02.068Z"
   },
   {
    "duration": 196,
    "start_time": "2022-06-12T06:19:02.074Z"
   },
   {
    "duration": 4,
    "start_time": "2022-06-12T06:19:02.273Z"
   },
   {
    "duration": 354,
    "start_time": "2022-06-12T06:19:02.279Z"
   },
   {
    "duration": 9,
    "start_time": "2022-06-12T06:19:02.635Z"
   },
   {
    "duration": 21,
    "start_time": "2022-06-12T06:19:02.646Z"
   },
   {
    "duration": 25,
    "start_time": "2022-06-12T06:19:02.669Z"
   },
   {
    "duration": 12,
    "start_time": "2022-06-12T06:19:02.695Z"
   },
   {
    "duration": 1182,
    "start_time": "2022-06-12T07:12:09.946Z"
   },
   {
    "duration": 60,
    "start_time": "2022-06-12T07:12:11.130Z"
   },
   {
    "duration": 5,
    "start_time": "2022-06-12T07:12:11.994Z"
   },
   {
    "duration": 11,
    "start_time": "2022-06-12T07:12:13.907Z"
   },
   {
    "duration": 8,
    "start_time": "2022-06-12T07:12:15.544Z"
   },
   {
    "duration": 44,
    "start_time": "2022-06-12T07:12:16.597Z"
   },
   {
    "duration": 270,
    "start_time": "2022-06-12T07:12:18.322Z"
   },
   {
    "duration": 10,
    "start_time": "2022-06-12T07:12:20.370Z"
   },
   {
    "duration": 227,
    "start_time": "2022-06-12T07:12:21.051Z"
   },
   {
    "duration": 92,
    "start_time": "2022-06-12T07:12:24.988Z"
   },
   {
    "duration": 32,
    "start_time": "2022-06-12T07:12:25.376Z"
   },
   {
    "duration": 65,
    "start_time": "2022-06-12T07:12:26.863Z"
   },
   {
    "duration": 23,
    "start_time": "2022-06-12T07:12:28.675Z"
   },
   {
    "duration": 3,
    "start_time": "2022-06-12T07:12:31.298Z"
   },
   {
    "duration": 7,
    "start_time": "2022-06-12T07:12:31.956Z"
   },
   {
    "duration": 6,
    "start_time": "2022-06-12T07:12:32.589Z"
   },
   {
    "duration": 10,
    "start_time": "2022-06-12T07:12:34.106Z"
   },
   {
    "duration": 8,
    "start_time": "2022-06-12T07:12:34.875Z"
   },
   {
    "duration": 8,
    "start_time": "2022-06-12T07:12:35.673Z"
   },
   {
    "duration": 540,
    "start_time": "2022-06-12T07:12:40.363Z"
   },
   {
    "duration": 485,
    "start_time": "2022-06-12T07:12:46.535Z"
   },
   {
    "duration": 229,
    "start_time": "2022-06-12T07:12:49.776Z"
   },
   {
    "duration": 330,
    "start_time": "2022-06-12T07:12:52.301Z"
   },
   {
    "duration": 219,
    "start_time": "2022-06-12T07:12:54.695Z"
   },
   {
    "duration": 321,
    "start_time": "2022-06-12T07:12:58.593Z"
   },
   {
    "duration": 321,
    "start_time": "2022-06-12T07:13:03.615Z"
   },
   {
    "duration": 5,
    "start_time": "2022-06-12T07:13:08.411Z"
   },
   {
    "duration": 159,
    "start_time": "2022-06-12T07:13:11.941Z"
   },
   {
    "duration": 4,
    "start_time": "2022-06-12T07:13:15.186Z"
   },
   {
    "duration": 350,
    "start_time": "2022-06-12T07:13:19.752Z"
   },
   {
    "duration": 10,
    "start_time": "2022-06-12T07:13:55.037Z"
   },
   {
    "duration": 389,
    "start_time": "2022-06-12T07:14:07.089Z"
   },
   {
    "duration": 9,
    "start_time": "2022-06-12T07:14:11.391Z"
   },
   {
    "duration": 34,
    "start_time": "2022-06-12T07:14:19.306Z"
   },
   {
    "duration": 8,
    "start_time": "2022-06-12T07:15:41.705Z"
   },
   {
    "duration": 27,
    "start_time": "2022-06-12T07:15:49.117Z"
   },
   {
    "duration": 27,
    "start_time": "2022-06-12T07:16:28.474Z"
   },
   {
    "duration": 13,
    "start_time": "2022-06-12T07:16:56.720Z"
   },
   {
    "duration": 1031,
    "start_time": "2022-06-12T14:56:45.869Z"
   },
   {
    "duration": 56,
    "start_time": "2022-06-12T14:56:46.902Z"
   },
   {
    "duration": 9,
    "start_time": "2022-06-12T14:56:46.967Z"
   },
   {
    "duration": 18,
    "start_time": "2022-06-12T14:56:46.978Z"
   },
   {
    "duration": 8,
    "start_time": "2022-06-12T14:56:46.998Z"
   },
   {
    "duration": 47,
    "start_time": "2022-06-12T14:56:47.007Z"
   },
   {
    "duration": 326,
    "start_time": "2022-06-12T14:56:47.055Z"
   },
   {
    "duration": 12,
    "start_time": "2022-06-12T14:56:47.383Z"
   },
   {
    "duration": 274,
    "start_time": "2022-06-12T14:56:47.399Z"
   },
   {
    "duration": 120,
    "start_time": "2022-06-12T14:56:47.675Z"
   },
   {
    "duration": 31,
    "start_time": "2022-06-12T14:56:47.797Z"
   },
   {
    "duration": 58,
    "start_time": "2022-06-12T14:56:47.829Z"
   },
   {
    "duration": 23,
    "start_time": "2022-06-12T14:56:47.888Z"
   },
   {
    "duration": 3,
    "start_time": "2022-06-12T14:56:47.913Z"
   },
   {
    "duration": 16,
    "start_time": "2022-06-12T14:56:47.917Z"
   },
   {
    "duration": 8,
    "start_time": "2022-06-12T14:56:47.934Z"
   },
   {
    "duration": 8,
    "start_time": "2022-06-12T14:56:47.943Z"
   },
   {
    "duration": 9,
    "start_time": "2022-06-12T14:56:47.953Z"
   },
   {
    "duration": 19,
    "start_time": "2022-06-12T14:56:47.963Z"
   },
   {
    "duration": 541,
    "start_time": "2022-06-12T14:56:47.984Z"
   },
   {
    "duration": 228,
    "start_time": "2022-06-12T14:56:48.526Z"
   },
   {
    "duration": 351,
    "start_time": "2022-06-12T14:56:48.761Z"
   },
   {
    "duration": 214,
    "start_time": "2022-06-12T14:56:49.114Z"
   },
   {
    "duration": 374,
    "start_time": "2022-06-12T14:56:49.330Z"
   },
   {
    "duration": 383,
    "start_time": "2022-06-12T14:56:49.706Z"
   },
   {
    "duration": 4,
    "start_time": "2022-06-12T14:56:50.090Z"
   },
   {
    "duration": 191,
    "start_time": "2022-06-12T14:56:50.095Z"
   },
   {
    "duration": 3,
    "start_time": "2022-06-12T14:56:50.288Z"
   },
   {
    "duration": 345,
    "start_time": "2022-06-12T14:56:50.293Z"
   },
   {
    "duration": 23,
    "start_time": "2022-06-12T14:56:50.639Z"
   },
   {
    "duration": 13,
    "start_time": "2022-06-12T14:56:50.663Z"
   },
   {
    "duration": 34,
    "start_time": "2022-06-12T14:56:50.677Z"
   },
   {
    "duration": 12,
    "start_time": "2022-06-12T14:56:50.712Z"
   },
   {
    "duration": 1276,
    "start_time": "2022-06-13T06:35:03.225Z"
   },
   {
    "duration": 60,
    "start_time": "2022-06-13T06:35:04.503Z"
   },
   {
    "duration": 5,
    "start_time": "2022-06-13T06:35:05.112Z"
   },
   {
    "duration": 14,
    "start_time": "2022-06-13T06:35:07.252Z"
   },
   {
    "duration": 10,
    "start_time": "2022-06-13T06:35:08.909Z"
   },
   {
    "duration": 51,
    "start_time": "2022-06-13T06:35:10.195Z"
   },
   {
    "duration": 254,
    "start_time": "2022-06-13T06:35:12.235Z"
   },
   {
    "duration": 10,
    "start_time": "2022-06-13T06:35:19.935Z"
   },
   {
    "duration": 229,
    "start_time": "2022-06-13T06:35:21.446Z"
   },
   {
    "duration": 87,
    "start_time": "2022-06-13T06:35:26.835Z"
   },
   {
    "duration": 41,
    "start_time": "2022-06-13T06:35:27.211Z"
   },
   {
    "duration": 64,
    "start_time": "2022-06-13T06:35:30.141Z"
   },
   {
    "duration": 27,
    "start_time": "2022-06-13T06:35:30.415Z"
   },
   {
    "duration": 3,
    "start_time": "2022-06-13T06:35:32.524Z"
   },
   {
    "duration": 6,
    "start_time": "2022-06-13T06:35:34.591Z"
   },
   {
    "duration": 6,
    "start_time": "2022-06-13T06:35:34.989Z"
   },
   {
    "duration": 12,
    "start_time": "2022-06-13T06:35:37.387Z"
   },
   {
    "duration": 9,
    "start_time": "2022-06-13T06:35:40.684Z"
   },
   {
    "duration": 10,
    "start_time": "2022-06-13T06:35:55.001Z"
   },
   {
    "duration": 5,
    "start_time": "2022-06-13T06:36:07.744Z"
   },
   {
    "duration": 432,
    "start_time": "2022-06-13T06:45:55.883Z"
   },
   {
    "duration": 4,
    "start_time": "2022-06-13T06:46:39.996Z"
   },
   {
    "duration": 5,
    "start_time": "2022-06-13T06:47:04.290Z"
   },
   {
    "duration": 12,
    "start_time": "2022-06-13T06:47:41.407Z"
   },
   {
    "duration": 11,
    "start_time": "2022-06-13T06:51:31.924Z"
   },
   {
    "duration": 4,
    "start_time": "2022-06-13T06:57:07.484Z"
   },
   {
    "duration": 10,
    "start_time": "2022-06-13T06:57:31.768Z"
   },
   {
    "duration": 5,
    "start_time": "2022-06-13T06:57:37.669Z"
   },
   {
    "duration": 15,
    "start_time": "2022-06-13T06:57:47.991Z"
   },
   {
    "duration": 16,
    "start_time": "2022-06-13T06:58:13.264Z"
   },
   {
    "duration": 6,
    "start_time": "2022-06-13T06:59:50.228Z"
   },
   {
    "duration": 16,
    "start_time": "2022-06-13T06:59:52.926Z"
   },
   {
    "duration": 13,
    "start_time": "2022-06-13T07:01:14.696Z"
   },
   {
    "duration": 7,
    "start_time": "2022-06-13T07:01:21.605Z"
   },
   {
    "duration": 5,
    "start_time": "2022-06-13T07:04:57.622Z"
   },
   {
    "duration": 13,
    "start_time": "2022-06-13T07:04:58.375Z"
   },
   {
    "duration": 9,
    "start_time": "2022-06-13T07:05:02.026Z"
   },
   {
    "duration": 576,
    "start_time": "2022-06-13T07:05:06.645Z"
   },
   {
    "duration": 215,
    "start_time": "2022-06-13T07:05:14.127Z"
   },
   {
    "duration": 387,
    "start_time": "2022-06-13T07:05:20.525Z"
   },
   {
    "duration": 216,
    "start_time": "2022-06-13T07:05:26.776Z"
   },
   {
    "duration": 285,
    "start_time": "2022-06-13T07:05:37.141Z"
   },
   {
    "duration": 251,
    "start_time": "2022-06-13T07:05:46.551Z"
   },
   {
    "duration": 303,
    "start_time": "2022-06-13T07:05:51.835Z"
   },
   {
    "duration": 352,
    "start_time": "2022-06-13T07:05:58.367Z"
   },
   {
    "duration": 276,
    "start_time": "2022-06-13T07:06:07.998Z"
   },
   {
    "duration": 165,
    "start_time": "2022-06-13T07:07:15.166Z"
   },
   {
    "duration": 172,
    "start_time": "2022-06-13T07:08:26.084Z"
   },
   {
    "duration": 4,
    "start_time": "2022-06-13T07:08:36.141Z"
   },
   {
    "duration": 329,
    "start_time": "2022-06-13T07:09:16.671Z"
   },
   {
    "duration": 12,
    "start_time": "2022-06-13T07:09:44.975Z"
   },
   {
    "duration": 8,
    "start_time": "2022-06-13T07:10:11.343Z"
   },
   {
    "duration": 28,
    "start_time": "2022-06-13T07:10:16.624Z"
   },
   {
    "duration": 13,
    "start_time": "2022-06-13T07:11:07.424Z"
   },
   {
    "duration": 4,
    "start_time": "2022-06-13T07:13:41.009Z"
   },
   {
    "duration": 1061,
    "start_time": "2022-06-13T07:14:29.846Z"
   },
   {
    "duration": 26,
    "start_time": "2022-06-13T07:14:30.909Z"
   },
   {
    "duration": 4,
    "start_time": "2022-06-13T07:14:30.937Z"
   },
   {
    "duration": 26,
    "start_time": "2022-06-13T07:14:30.943Z"
   },
   {
    "duration": 19,
    "start_time": "2022-06-13T07:14:30.971Z"
   },
   {
    "duration": 55,
    "start_time": "2022-06-13T07:14:30.992Z"
   },
   {
    "duration": 254,
    "start_time": "2022-06-13T07:14:31.048Z"
   },
   {
    "duration": 11,
    "start_time": "2022-06-13T07:14:31.303Z"
   },
   {
    "duration": 255,
    "start_time": "2022-06-13T07:14:31.315Z"
   },
   {
    "duration": 36,
    "start_time": "2022-06-13T07:14:31.573Z"
   },
   {
    "duration": 34,
    "start_time": "2022-06-13T07:14:31.610Z"
   },
   {
    "duration": 15,
    "start_time": "2022-06-13T07:14:31.645Z"
   },
   {
    "duration": 25,
    "start_time": "2022-06-13T07:14:31.662Z"
   },
   {
    "duration": 3,
    "start_time": "2022-06-13T07:14:31.690Z"
   },
   {
    "duration": 14,
    "start_time": "2022-06-13T07:14:31.695Z"
   },
   {
    "duration": 10,
    "start_time": "2022-06-13T07:14:31.711Z"
   },
   {
    "duration": 13,
    "start_time": "2022-06-13T07:14:31.722Z"
   },
   {
    "duration": 25,
    "start_time": "2022-06-13T07:14:31.737Z"
   },
   {
    "duration": 11,
    "start_time": "2022-06-13T07:14:31.763Z"
   },
   {
    "duration": 10,
    "start_time": "2022-06-13T07:14:31.775Z"
   },
   {
    "duration": 12,
    "start_time": "2022-06-13T07:14:31.786Z"
   },
   {
    "duration": 26,
    "start_time": "2022-06-13T07:14:31.800Z"
   },
   {
    "duration": 11,
    "start_time": "2022-06-13T07:14:31.828Z"
   },
   {
    "duration": 578,
    "start_time": "2022-06-13T07:14:31.841Z"
   },
   {
    "duration": 219,
    "start_time": "2022-06-13T07:14:32.421Z"
   },
   {
    "duration": 358,
    "start_time": "2022-06-13T07:14:32.641Z"
   },
   {
    "duration": 254,
    "start_time": "2022-06-13T07:14:33.000Z"
   },
   {
    "duration": 336,
    "start_time": "2022-06-13T07:14:33.261Z"
   },
   {
    "duration": 348,
    "start_time": "2022-06-13T07:14:33.599Z"
   },
   {
    "duration": 11,
    "start_time": "2022-06-13T07:14:33.949Z"
   },
   {
    "duration": 165,
    "start_time": "2022-06-13T07:14:33.961Z"
   },
   {
    "duration": 4,
    "start_time": "2022-06-13T07:14:34.128Z"
   },
   {
    "duration": 327,
    "start_time": "2022-06-13T07:14:34.133Z"
   },
   {
    "duration": 9,
    "start_time": "2022-06-13T07:14:34.462Z"
   },
   {
    "duration": 10,
    "start_time": "2022-06-13T07:14:34.472Z"
   },
   {
    "duration": 28,
    "start_time": "2022-06-13T07:14:34.483Z"
   },
   {
    "duration": 12,
    "start_time": "2022-06-13T07:14:34.513Z"
   },
   {
    "duration": 1000,
    "start_time": "2022-06-13T11:04:29.797Z"
   },
   {
    "duration": 27,
    "start_time": "2022-06-13T11:04:30.799Z"
   },
   {
    "duration": 9,
    "start_time": "2022-06-13T11:04:30.827Z"
   },
   {
    "duration": 52,
    "start_time": "2022-06-13T11:04:30.838Z"
   },
   {
    "duration": 21,
    "start_time": "2022-06-13T11:04:30.891Z"
   },
   {
    "duration": 55,
    "start_time": "2022-06-13T11:04:30.913Z"
   },
   {
    "duration": 231,
    "start_time": "2022-06-13T11:04:30.970Z"
   },
   {
    "duration": 9,
    "start_time": "2022-06-13T11:04:31.202Z"
   },
   {
    "duration": 226,
    "start_time": "2022-06-13T11:04:31.213Z"
   },
   {
    "duration": 37,
    "start_time": "2022-06-13T11:04:31.441Z"
   },
   {
    "duration": 29,
    "start_time": "2022-06-13T11:04:31.480Z"
   },
   {
    "duration": 15,
    "start_time": "2022-06-13T11:04:31.511Z"
   },
   {
    "duration": 23,
    "start_time": "2022-06-13T11:04:31.527Z"
   },
   {
    "duration": 3,
    "start_time": "2022-06-13T11:04:31.551Z"
   },
   {
    "duration": 5,
    "start_time": "2022-06-13T11:04:31.577Z"
   },
   {
    "duration": 42,
    "start_time": "2022-06-13T11:04:31.583Z"
   },
   {
    "duration": 18,
    "start_time": "2022-06-13T11:04:31.626Z"
   },
   {
    "duration": 10,
    "start_time": "2022-06-13T11:04:31.646Z"
   },
   {
    "duration": 17,
    "start_time": "2022-06-13T11:04:31.657Z"
   },
   {
    "duration": 17,
    "start_time": "2022-06-13T11:04:31.675Z"
   },
   {
    "duration": 9,
    "start_time": "2022-06-13T11:04:31.693Z"
   },
   {
    "duration": 28,
    "start_time": "2022-06-13T11:04:31.703Z"
   },
   {
    "duration": 11,
    "start_time": "2022-06-13T11:04:31.733Z"
   },
   {
    "duration": 537,
    "start_time": "2022-06-13T11:04:31.745Z"
   },
   {
    "duration": 214,
    "start_time": "2022-06-13T11:04:32.284Z"
   },
   {
    "duration": 306,
    "start_time": "2022-06-13T11:04:32.499Z"
   },
   {
    "duration": 211,
    "start_time": "2022-06-13T11:04:32.807Z"
   },
   {
    "duration": 287,
    "start_time": "2022-06-13T11:04:33.021Z"
   },
   {
    "duration": 336,
    "start_time": "2022-06-13T11:04:33.310Z"
   },
   {
    "duration": 4,
    "start_time": "2022-06-13T11:04:33.647Z"
   },
   {
    "duration": 175,
    "start_time": "2022-06-13T11:04:33.652Z"
   },
   {
    "duration": 4,
    "start_time": "2022-06-13T11:04:33.828Z"
   },
   {
    "duration": 310,
    "start_time": "2022-06-13T11:04:33.833Z"
   },
   {
    "duration": 8,
    "start_time": "2022-06-13T11:04:34.145Z"
   },
   {
    "duration": 8,
    "start_time": "2022-06-13T11:04:34.155Z"
   },
   {
    "duration": 25,
    "start_time": "2022-06-13T11:04:34.178Z"
   },
   {
    "duration": 11,
    "start_time": "2022-06-13T11:04:34.205Z"
   }
  ],
  "kernelspec": {
   "display_name": "Python 3 (ipykernel)",
   "language": "python",
   "name": "python3"
  },
  "language_info": {
   "codemirror_mode": {
    "name": "ipython",
    "version": 3
   },
   "file_extension": ".py",
   "mimetype": "text/x-python",
   "name": "python",
   "nbconvert_exporter": "python",
   "pygments_lexer": "ipython3",
   "version": "3.10.2"
  },
  "toc": {
   "base_numbering": 1,
   "nav_menu": {},
   "number_sections": true,
   "sideBar": true,
   "skip_h1_title": true,
   "title_cell": "Table of Contents",
   "title_sidebar": "Contents",
   "toc_cell": false,
   "toc_position": {
    "height": "calc(100% - 180px)",
    "left": "10px",
    "top": "150px",
    "width": "296.5px"
   },
   "toc_section_display": true,
   "toc_window_display": true
  }
 },
 "nbformat": 4,
 "nbformat_minor": 2
}
